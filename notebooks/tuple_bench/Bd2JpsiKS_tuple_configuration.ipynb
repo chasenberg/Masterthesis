{
 "cells": [
  {
   "cell_type": "code",
   "execution_count": 1,
   "metadata": {
    "collapsed": true
   },
   "outputs": [],
   "source": [
    "import ROOT\n",
    "from rootpy.tree import Tree, TreeModel, FloatCol, IntCol\n",
    "from rootpy.io import root_open\n",
    "from ROOT import gROOT, TCanvas, TF1, TFile, TTree, gRandom, TH1F\n",
    "\n",
    "from ROOT import RooRealVar, RooFormulaVar, RooVoigtian, RooChebychev, RooArgList, \\\n",
    "                 RooArgSet, RooAddPdf, RooDataSet, RooCategory, RooSimultaneous, \\\n",
    "                 RooBreitWigner, RooCBShape, RooFFTConvPdf, RooGaussian,RooExponential, \\\n",
    "                 RooBinning, kRed, kBlue, kDotted,TString,RooAbsData, RooPlot, TCut, RooAbsData"
   ]
  },
  {
   "cell_type": "code",
   "execution_count": 2,
   "metadata": {
    "collapsed": false
   },
   "outputs": [
    {
     "name": "stderr",
     "output_type": "stream",
     "text": [
      "/opt/rh/miniconda/envs/py3root6/lib/python3.4/site-packages/sklearn/cross_validation.py:44: DeprecationWarning: This module was deprecated in version 0.18 in favor of the model_selection module into which all the refactored classes and functions are moved. Also note that the interface of the new CV iterators are different from that of this module. This module will be removed in 0.20.\n",
      "  \"This module will be removed in 0.20.\", DeprecationWarning)\n"
     ]
    }
   ],
   "source": [
    "%matplotlib inline\n",
    "%reload_ext autoreload\n",
    "%autoreload 2\n",
    "\n",
    "import os, sys, time, random\n",
    "\n",
    "from ROOT import TTree, TFile\n",
    "\n",
    "# from root_numpy import root2array, rec2array, array2root\n",
    "\n",
    "import pandas as pd\n",
    "import numpy as np\n",
    "import scipy \n",
    "import root_pandas as rp\n",
    "import root_numpy as ry \n",
    "\n",
    "import pandas.core.common as com\n",
    "from pandas.core.index import Index\n",
    "from pandas.tools import plotting\n",
    "from pandas.tools.plotting import scatter_matrix\n",
    "\n",
    "from tqdm import tqdm_notebook\n",
    "\n",
    "import numpy as np\n",
    "import matplotlib as mpl\n",
    "import matplotlib.pyplot as plt\n",
    "from matplotlib.backends.backend_pdf import PdfPages\n",
    "\n",
    "from sklearn import datasets\n",
    "from sklearn.tree import DecisionTreeClassifier\n",
    "from sklearn.ensemble import AdaBoostClassifier, GradientBoostingClassifier\n",
    "from sklearn.cross_validation import train_test_split\n",
    "from sklearn.preprocessing import Imputer, StandardScaler\n",
    "from sklearn.externals import joblib\n",
    "from sklearn.metrics import classification_report, roc_curve, auc, roc_auc_score\n",
    "\n",
    "sys.path.append('/home/chasenberg/repos/')\n",
    "sys.path.append('/home/chasenberg/repos/dopy')\n",
    "from dopy import * \n",
    "from dopy.dolearn.sklearn_utils import plot_roc_curve, plot_classifier_output, plot_correlations\n",
    "from dopy.dolearn.sklearn_utils import plot_feature_importances, plot_classifier_output, classify_unseen_data\n",
    "#from dopy.sklearn_utils import plot_bdt_vars\n",
    "from dopy.doplot.plotting import Plotter, Plot\n",
    "from dopy.doanalysis.df_utils import add_min_max, add_eta "
   ]
  },
  {
   "cell_type": "markdown",
   "metadata": {},
   "source": [
    "### State what should be done"
   ]
  },
  {
   "cell_type": "code",
   "execution_count": 18,
   "metadata": {
    "collapsed": true
   },
   "outputs": [],
   "source": [
    "create_sanity_tuple = False\n",
    "create_bestPV_tuple = False\n",
    "create_randomSel_tuple = True\n",
    "create_l0veto_tuple = False\n",
    "do_sanity_massfit = False\n",
    "do_bestPV_massfit = True \n",
    "do_randomPV_massfit = True "
   ]
  },
  {
   "cell_type": "markdown",
   "metadata": {},
   "source": [
    "### Define simple massmodel"
   ]
  },
  {
   "cell_type": "code",
   "execution_count": 5,
   "metadata": {
    "collapsed": true
   },
   "outputs": [],
   "source": [
    "def massfit(data_dir,file,info_file):\n",
    "    import ROOT\n",
    "    from ROOT import RooFit\n",
    "    #Initialize variables\n",
    "    B0_M = RooRealVar(\"B0_FitDaughtersConst_M\", \"B0_M\", 5280, \"MeV\")\n",
    "    upper_limit_mass = 5450\n",
    "    lower_limit_mass = 5220\n",
    "    mass = RooRealVar(\"B0_FitDaughtersConst_M\", \"Mass(J/psi K_{S})\", 5280,lower_limit_mass, upper_limit_mass, \"MeV\")\n",
    "    # Construct signal from two Gaussian pdf's with different means and sigmas \n",
    "    mean = RooRealVar(\"mean\", \"mean\", 5280,  5270,5290)\n",
    "    sigma_1 = RooRealVar(\"sigma_1\", \"sigma_1\", 10, 0, 30)\n",
    "    sigma_2 = RooRealVar(\"sigma_2\", \"sigma_2\", 13, 0, 30)\n",
    "    sig1frac = RooRealVar(\"sig1frac\",\"fraction of component 1 in signal\",0.5,0.,1.)\n",
    "\n",
    "    signal_1 = RooGaussian(\"signal_1\", \"signal_1\", mass, mean, sigma_1)\n",
    "    signal_2 = RooGaussian(\"signal_2\", \"signal_2\", mass, mean, sigma_2)\n",
    "    signal = RooAddPdf(\"signal\",\"signal\",signal_1, signal_2,sig1frac)#,RooArgList(mean,sigma_1, sigma_2)) \n",
    "    # Construct background pdfd\n",
    "    lambda_1= RooRealVar(\"lambda\",\"lambda\",0.0,-0.2,0.0)\n",
    "    background = RooExponential(\"background\",\"background\",mass,lambda_1)\n",
    "    # Construct composite pdf\n",
    "    nsig = RooRealVar(\"nsig\", \"nsig\", 557050,0,6000000)#, 0, 100000)\n",
    "    nbkg = RooRealVar(\"nbkg\", \"nbkg\", 7079500, 0, 8000000)\n",
    "    model = RooAddPdf(\"model\", \"model\", RooArgList(signal, background), RooArgList(nsig, nbkg))\n",
    "    #Create dataset and fit\n",
    "    data = ROOT.TFile(data_dir+file)\n",
    "    tree_data = data.Get('Bd2JpsiKS') \n",
    "    tree_data.GetEntries()\n",
    "    print('---------------------')\n",
    "    print('Entries found in tree:')\n",
    "    print(tree_data.GetEntries())\n",
    "    print('---------------------')\n",
    "    ntupleVarSet =  RooArgSet(mass)\n",
    "    dataset = RooDataSet('data','data',tree_data,ntupleVarSet)\n",
    "    #Fit model to dataset\n",
    "    model.fitTo(dataset, RooFit.NumCPU(6),\n",
    "            RooFit.Minimizer('Minuit','minimize'),\n",
    "            RooFit.Hesse(True),\n",
    "            RooFit.Optimize(0),\n",
    "            RooFit.PrintEvalErrors(0),\n",
    "            RooFit.Save(True),\n",
    "            RooFit.Extended(),\n",
    "            RooFit.Verbose(True)) \n",
    "    sigyields  = str(nsig.getValV())\n",
    "    bkgyields = str(nbkg.getValV())\n",
    "    size = str(tree_data.GetEntries())\n",
    "    file_sanity = open(data_dir+info_file,'w')  \n",
    "    file_sanity.write(\"----------------------------------------\")\n",
    "    file_sanity.write('The fit results are:\\n') \n",
    "    file_sanity.write('Signal yields:'+sigyields+'\\n')\n",
    "    file_sanity.write('Background yields:'+bkgyields+'\\n')\n",
    "    file_sanity.write('The file has'+size+'entries\\n')\n",
    "    file_sanity.write('----------------------------------------')\n",
    "    # Prepare frame\n",
    "    print('Signal yields:'+sigyields)\n",
    "    print('Background yields:'+bkgyields)\n",
    "    %matplotlib inline  \n",
    "    import ROOT\n",
    "    frame = mass.frame(ROOT.RooFit.Bins(25))\n",
    "    dataset.plotOn(frame, ROOT.RooFit.Name(\"data1\"))\n",
    "    #model.plotOn( frame , ROOT.RooFit.Components(\"signal\"), ROOT.RooFit.LineStyle(kDotted), ROOT.RooFit.LineColor(kRed))\n",
    "    model.plotOn( frame , ROOT.RooFit.Components(\"background\"), ROOT.RooFit.LineStyle(kDotted), ROOT.RooFit.LineColor(kBlue))\n",
    "    model.plotOn(frame, ROOT.RooFit.Name(\"fit\"))\n",
    "    ### Add additional informations to the plot\n",
    "    text_size = 0.035\n",
    "    # Create TLegend\n",
    "    legend = ROOT.TLegend(0.7, 0.75, 0.9, 0.9, '')\n",
    "    legend.AddEntry(frame.findObject('data1'), \"Data points\", \"p\");\n",
    "    legend.AddEntry(frame.findObject('fit'), 'Fit', 'l')\n",
    "    legend.SetTextSize(text_size)\n",
    "    # Plot pulls\n",
    "    #can, _ = plot_pulls('test', frame, legend=legend)#, latex=latex)\n",
    "    #can.SaveAs(\"/home/chasenberg/repos/b2cc_sin2beta/notebooks/mass_fit/plots/B0_Mass_bdtcut.pdf\")\n",
    "    #can  # To display plot in notebooks"
   ]
  },
  {
   "cell_type": "markdown",
   "metadata": {},
   "source": [
    "### All branches that will be considered in the analysis"
   ]
  },
  {
   "cell_type": "code",
   "execution_count": 6,
   "metadata": {
    "collapsed": true
   },
   "outputs": [],
   "source": [
    "variables = [\n",
    "'B0_M',\n",
    "'B0_TAGDECISION_OS',\n",
    "'B0_TAGOMEGA_OS',    \n",
    "'B0_TAU',\n",
    "'B0_TAUERR',\n",
    "'B0_FitDaughtersConst_M',\n",
    "'B0_FitDaughtersConst_chi2',\n",
    "'B0_FitDaughtersConst_IPCHI2',\n",
    "'B0_FitDaughtersConst_J_psi_1S_IP',   \n",
    "'B0_FitDaughtersConst_KS0_P1_PT',\n",
    "'B0_FitDaughtersConst_KS0_P0_PT',  \n",
    "'B0_FitDaughtersConst_KS0_decayLength',\n",
    "'B0_FitDaughtersConst_KS0_IP',\n",
    "'B0_FitDaughtersConst_KS0_P0_IPCHI2', \n",
    "'B0_FitDaughtersConst_J_psi_1S_IPCHI2',\n",
    "'idxPV',\n",
    "'piplus_TRACK_Type',\n",
    "'B0_FitPVConst_status',\n",
    "'B0_FitDaughtersConst_KS0_P1_PT', \n",
    "'B0_FitDaughtersConst_KS0_P0_PT',\n",
    "'B0_FitDaughtersConst_KS0_P0_IPCHI2', \n",
    "'B0_FitDaughtersConst_KS0_P1_IPCHI2',\n",
    "'B0_FitDaughtersConst_J_psi_1S_P0_PT', \n",
    "'B0_FitDaughtersConst_J_psi_1S_P1_PT',\n",
    "'B0_FitPVConst_MinIPCHI2anyPV',\n",
    "'B0_FitPVConst_KS0_tau',\n",
    "'B0_FitPVConst_KS0_tauErr',\n",
    "'B0_FitPVConst_IPCHI2',\n",
    "'B0_FitPVConst_PV_X_flat',\n",
    "'B0_FitPVConst_PV_XVAR_flat',\n",
    "'B0_FitPVConst_PV_Y_flat',\n",
    "'B0_FitPVConst_PV_YVAR_flat',\n",
    "'B0_FitPVConst_PV_Z_flat',\n",
    "'B0_FitPVConst_PV_ZVAR_flat',\n",
    "'eventNumber',\n",
    "'runNumber'\n",
    "]"
   ]
  },
  {
   "cell_type": "markdown",
   "metadata": {
    "collapsed": false
   },
   "source": [
    "### Directories and files"
   ]
  },
  {
   "cell_type": "code",
   "execution_count": 7,
   "metadata": {
    "collapsed": true
   },
   "outputs": [],
   "source": [
    "#Names of the produced tuples\n",
    "data_dir_2015_2016 = '/fhgfs/users/chasenberg/data/2015_2016_merged/jpsimumuks/'\n",
    "data_sanity_cuts = 'Bd2JpsiKS_sanity.root'\n",
    "data_bestPV = 'Bd2JpsiKS_bestPV.root'\n",
    "data_random = 'Bd2JpsiKS_random.root'"
   ]
  },
  {
   "cell_type": "code",
   "execution_count": 8,
   "metadata": {
    "collapsed": true
   },
   "outputs": [],
   "source": [
    "sanity_cuts = 'B0_FitDaughtersConst_status==0&B0_FitPVConst_status==0&(B0_L0MuonDecision_Dec==1|B0_L0DiMuonDecision_Dec==1|B0_L0MuonHighDecision_Dec==1)&(B0_Hlt1DiMuonHighMassDecision_Dec==1|B0_Hlt1TrackMVADecision_Dec==1)&(B0_Hlt1DiMuonHighMassDecision_Dec==1|B0_Hlt1TrackMVADecision_Dec==1)&(B0_Hlt2DiMuonJPsiDecision_Dec==1|B0_Hlt2DiMuonDetachedJPsiDecision_Dec==1)'\n",
    "tree_data ='Bd2JpsiKs'"
   ]
  },
  {
   "cell_type": "code",
   "execution_count": 8,
   "metadata": {
    "collapsed": false
   },
   "outputs": [],
   "source": [
    "if create_sanity_tuple==True:\n",
    "    #directories and files for 2015\n",
    "    data_file_2015 = 'Bd2JpsimumuKS_data_2015_flat.root'\n",
    "    data_dir_2015 = '/fhgfs/users/chasenberg/data/2015/jpsimumuks/'\n",
    "    data_2015 = data_dir_2015 + data_file_2015\n",
    "    #read from ROOT-file\n",
    "    df_2015 = rp.read_root(data_2015,key=tree_data, columns=variables,where=sanity_cuts, flatten=True)\n",
    "    df_2015 = df_2015.replace([np.inf, -np.inf], np.nan)\n",
    "    df_2015 = df_2015.dropna()\n",
    "    #directories and files for 2015\n",
    "    data_file_2016 = 'Bd2JpsimumuKS_data_2016_flat.root'\n",
    "    data_dir_2016 = '/fhgfs/users/chasenberg/data/2016/jpsimumuks/'\n",
    "    data_2016 = data_dir_2016 + data_file_2016\n",
    "    #read from ROOT-file\n",
    "    df_2016 = rp.read_root(data_2016,key=tree_data, columns=variables,where=sanity_cuts, flatten=True)\n",
    "    df_2016 = df_2016.replace([np.inf, -np.inf], np.nan)\n",
    "    df_2016 = df_2016.dropna()\n",
    "    df_merged = pd.concat([df_2015,df_2016])\n",
    "    data_dir_2015_2016 = '/fhgfs/users/chasenberg/data/2015_2016_merged/jpsimumuks/'\n",
    "    file_name = 'info.txt'\n",
    "    file = open(data_dir_2015_2016+file_name,'w')  \n",
    "    file.write(\"----------------------------------------\")\n",
    "    file.write('The file'+data_sanity_cuts+'has got the following cuts:\\n') \n",
    "    file.write(sanity_cuts)\n",
    "    file.write('No other selection has been applied yet.\\n')\n",
    "    size = str(df_merged.shape[0])\n",
    "    file.write('The file has'+size+'entries\\n')\n",
    "    file.write('----------------------------------------')\n",
    "    #Calculate random variable for random selection\n",
    "    np.random.seed(42)\n",
    "    df_merged['idxRandom'] = np.random.choice(2**30, df_merged.shape[0])  \n",
    "    df_merged['idxEventNumber'] = df_merged['eventNumber'] \n",
    "    df_merged['idxRunNumber'] = df_merged['runNumber'] \n",
    "    df_merged.to_root(data_dir_2015_2016+data_sanity_cuts,key='Bd2JpsiKS')"
   ]
  },
  {
   "cell_type": "markdown",
   "metadata": {},
   "source": [
    "### Fit the reconstructed B0 mass after applying sanity cuts"
   ]
  },
  {
   "cell_type": "code",
   "execution_count": 9,
   "metadata": {
    "collapsed": false
   },
   "outputs": [
    {
     "name": "stdout",
     "output_type": "stream",
     "text": [
      "---------------------\n",
      "Entries found in tree:\n",
      "12840451\n",
      "---------------------\n",
      "Signal yields:556887.7491554942\n",
      "Background yields:7079696.841523397\n"
     ]
    }
   ],
   "source": [
    "if do_sanity_massfit==True:\n",
    "    import ROOT\n",
    "    from ROOT import RooFit\n",
    "        #Initialize variables\n",
    "    B0_M = RooRealVar(\"B0_FitDaughtersConst_M\", \"B0_M\", 5280, \"MeV\")\n",
    "    upper_limit_mass = 5450\n",
    "    lower_limit_mass = 5220\n",
    "    mass = RooRealVar(\"B0_FitDaughtersConst_M\", \"Mass(J/psi K_{S})\", 5280,lower_limit_mass, upper_limit_mass, \"MeV\")\n",
    "    # Construct signal from two Gaussian pdf's with different means and sigmas \n",
    "    mean = RooRealVar(\"mean\", \"mean\", 5280,  5260,5300)\n",
    "    sigma_1 = RooRealVar(\"sigma_1\", \"sigma_1\", 10, 0, 30)\n",
    "    sigma_2 = RooRealVar(\"sigma_2\", \"sigma_2\", 13, 0, 30)\n",
    "    sig1frac = RooRealVar(\"sig1frac\",\"fraction of component 1 in signal\",0.5,0.,1.)\n",
    "\n",
    "    signal_1 = RooGaussian(\"signal_1\", \"signal_1\", mass, mean, sigma_1)\n",
    "    signal_2 = RooGaussian(\"signal_2\", \"signal_2\", mass, mean, sigma_2)\n",
    "    signal = RooAddPdf(\"signal\",\"signal\",signal_1, signal_2,sig1frac)#,RooArgList(mean,sigma_1, sigma_2)) \n",
    "    # Construct background pdfd\n",
    "    lambda_1= RooRealVar(\"lambda\",\"lambda\",0.0,-0.2,0.0)\n",
    "    background = RooExponential(\"background\",\"background\",mass,lambda_1)\n",
    "    # Construct composite pdf\n",
    "    nsig = RooRealVar(\"nsig\", \"nsig\", 557050,0,6000000)#, 0, 100000)\n",
    "    nbkg = RooRealVar(\"nbkg\", \"nbkg\", 7079500, 0, 8000000)\n",
    "    model = RooAddPdf(\"model\", \"model\", RooArgList(signal, background), RooArgList(nsig, nbkg))\n",
    "    #Create dataset and fit\n",
    "    data = ROOT.TFile(data_dir_2015_2016+data_sanity_cuts)\n",
    "    tree_data = data.Get('Bd2JpsiKS') \n",
    "    tree_data.GetEntries()\n",
    "    print('---------------------')\n",
    "    print('Entries found in tree:')\n",
    "    print(tree_data.GetEntries())\n",
    "    print('---------------------')\n",
    "    ntupleVarSet =  RooArgSet(mass)\n",
    "    dataset = RooDataSet('data','data',tree_data,ntupleVarSet)\n",
    "    #Fit model to dataset\n",
    "    model.fitTo(dataset, RooFit.NumCPU(6),\n",
    "        RooFit.Minimizer('Minuit','minimize'),\n",
    "        RooFit.Hesse(True),\n",
    "        RooFit.Optimize(0),\n",
    "        RooFit.PrintEvalErrors(0),\n",
    "        RooFit.Save(True),\n",
    "        RooFit.Extended(),\n",
    "        RooFit.Verbose(True)) \n",
    "    sigyields  = str(nsig.getValV())\n",
    "    bkgyields = str(nbkg.getValV())\n",
    "    size = str(tree_data.GetEntries())\n",
    "    file_name = 'fit_results_sanity.txt'\n",
    "    file_sanity = open(data_dir_2015_2016+file_name,'w')  \n",
    "    #file_sanity.write(\"----------------------------------------\")\n",
    "    file_sanity.write('The fit results are:\\n') \n",
    "    file_sanity.write('Signal yields: '+sigyields+'\\n')\n",
    "    file_sanity.write('Background yields: '+bkgyields+'\\n')\n",
    "    file_sanity.write('The file has '+size+' entries\\n')\n",
    "    #file_sanity.write('----------------------------------------')\n",
    "    # Prepare frame\n",
    "    print('Signal yields:'+sigyields)\n",
    "    print('Background yields:'+bkgyields)\n",
    "    %matplotlib inline  \n",
    "    import ROOT\n",
    "    frame = mass.frame(ROOT.RooFit.Bins(25))\n",
    "    dataset.plotOn(frame, ROOT.RooFit.Name(\"data1\"))\n",
    "    #model.plotOn( frame , ROOT.RooFit.Components(\"signal\"), ROOT.RooFit.LineStyle(kDotted), ROOT.RooFit.LineColor(kRed))\n",
    "    model.plotOn( frame , ROOT.RooFit.Components(\"background\"), ROOT.RooFit.LineStyle(kDotted), ROOT.RooFit.LineColor(kBlue))\n",
    "    model.plotOn(frame, ROOT.RooFit.Name(\"fit\"))\n",
    "    ### Add additional informations to the plot\n",
    "    text_size = 0.035\n",
    "    # Create TLegend\n",
    "    legend = ROOT.TLegend(0.7, 0.75, 0.9, 0.9, '')\n",
    "    legend.AddEntry(frame.findObject('data1'), \"Data points\", \"p\");\n",
    "    legend.AddEntry(frame.findObject('fit'), 'Fit', 'l')\n",
    "    legend.SetTextSize(text_size)\n",
    "    # Plot pulls\n",
    "    #can, _ = plot_pulls('test', frame, legend=legend)#, latex=latex)\n",
    "    #can.SaveAs(\"/home/chasenberg/repos/b2cc_sin2beta/notebooks/mass_fit/plots/B0_Mass_bdtcut.pdf\")\n",
    "    #can  # To display plot in notebooks"
   ]
  },
  {
   "cell_type": "markdown",
   "metadata": {
    "collapsed": true
   },
   "source": [
    "## Compare best PV Selection to Random Selection"
   ]
  },
  {
   "cell_type": "code",
   "execution_count": 10,
   "metadata": {
    "collapsed": false
   },
   "outputs": [],
   "source": [
    "if create_bestPV_tuple==True:\n",
    "    df_bestPV = df_merged.query('idxPV==0')\n",
    "    df_bestPV.to_root(data_dir_2015_2016+data_bestPV,key='Bd2JpsiKS')"
   ]
  },
  {
   "cell_type": "markdown",
   "metadata": {},
   "source": [
    "### Fit the reconstructed B0 mass after applying idxPV cut"
   ]
  },
  {
   "cell_type": "code",
   "execution_count": 9,
   "metadata": {
    "collapsed": false
   },
   "outputs": [
    {
     "name": "stdout",
     "output_type": "stream",
     "text": [
      "---------------------\n",
      "Entries found in tree:\n",
      "5175057\n",
      "---------------------\n",
      "Signal yields:251451.07562274017\n",
      "Background yields:2838718.4372890815\n"
     ]
    }
   ],
   "source": [
    "if do_bestPV_massfit==True:\n",
    "    info_file = 'fitresult_bestPV.txt'\n",
    "    massfit(data_dir_2015_2016,data_bestPV,info_file)"
   ]
  },
  {
   "cell_type": "markdown",
   "metadata": {},
   "source": [
    "### Create tuple with random selected events"
   ]
  },
  {
   "cell_type": "code",
   "execution_count": 27,
   "metadata": {
    "collapsed": false
   },
   "outputs": [
    {
     "name": "stdout",
     "output_type": "stream",
     "text": [
      "INFO: Call CandidateSelectionGrimReaper\n",
      "Start SingleCutGrimReaper!\n",
      "Wait for GrimReaper\n",
      "GrimReaper hopefully finished\n",
      "Wait for GrimReaper\n",
      "GrimReaper hopefully finished\n"
     ]
    }
   ],
   "source": [
    "import os, subprocess\n",
    "if create_randomSel_tuple==True:\n",
    "    print('INFO: Call CandidateSelectionGrimReaper', flush=True)\n",
    "    my_env = os.environ.copy()\n",
    "    my_env['PATH'] = '/usr/local/bin:/bin:/usr/bin:/usr/local/sbin:/usr/sbin:/sbin:/home/chasenberg/bin'\n",
    "    my_env['LD_LIBRARY_PATH'] = '/usr/local/lib'\n",
    "    my_env['script'] = '/home/chasenberg/repos/b2cc_sin2beta_run2/notebooks/selection'\n",
    "    print(\"Start SingleCutGrimReaper!\")\n",
    "    my_command = 'source /lhcbsoft/LHCbSoftwareSetup.sh &&' \\\n",
    "             'lb-run DaVinci/v41r2 $BASH -c \"' \\\n",
    "             'echo $PATH && ' \\\n",
    "             'source /doosoft/InstallDooSoftware/LoadDooSoftware && SingleCutGrimReaper /fhgfs/users/chasenberg/data/2015_2016_merged/jpsimumuks/Bd2JpsiKS_random.root Bd2JpsiKS /fhgfs/users/chasenberg/data/2015_2016_merged/jpsimumuks/Bd2JpsiKS_random_minIPCUT.root Bd2JpsiKS \"B0_FitPVConst_MinIPCHI2anyPV>6\"\"'                     \n",
    "    subprocess.Popen([my_command], env=my_env, shell=True)\n",
    "   # subprocess.call(('bash /home/chasenberg/repos/b2cc_sin2beta_run2/notebooks/selection/random_sel.sh'),shell=True)                      \n",
    "    print(\"Wait for GrimReaper\")\n",
    "    time.sleep(120.0)    # pause 5.5 seconds\n",
    "    print(\"GrimReaper hopefully finished\")\n",
    "    my_command = 'source /lhcbsoft/LHCbSoftwareSetup.sh &&' \\\n",
    "             'lb-run DaVinci/v41r2 $BASH -c \"' \\\n",
    "             'echo $PATH && ' \\\n",
    "             'source /doosoft/InstallDooSoftware/LoadDooSoftware && CandidateSelectionGrimReaper /fhgfs/users/chasenberg/data/2015_2016_merged/jpsimumuks/Bd2JpsiKS_sanity.root Bd2JpsiKS /fhgfs/users/chasenberg/data/2015_2016_merged/jpsimumuks/Bd2JpsiKS_random.root Bd2JpsiKS \"idxRandom\"\"'                     \n",
    "    subprocess.Popen([my_command], env=my_env, shell=True)\n",
    "    print(\"Wait for GrimReaper\")\n",
    "    time.sleep(120.0)    # pause 5.5 seconds\n",
    "    print(\"GrimReaper hopefully finished\")"
   ]
  },
  {
   "cell_type": "markdown",
   "metadata": {},
   "source": [
    "### Fit the reconstructed B0 mass after applying random selection"
   ]
  },
  {
   "cell_type": "code",
   "execution_count": 28,
   "metadata": {
    "collapsed": false
   },
   "outputs": [
    {
     "name": "stdout",
     "output_type": "stream",
     "text": [
      "---------------------\n",
      "Entries found in tree:\n",
      "2526479\n",
      "---------------------\n",
      "Signal yields:139955.00780188807\n",
      "Background yields:1375378.9780159793\n"
     ]
    }
   ],
   "source": [
    "if do_randomPV_massfit==True:\n",
    "    info_file = 'fitresult_randomPV.txt'\n",
    "    massfit(data_dir_2015_2016,data_random,info_file)"
   ]
  },
  {
   "cell_type": "code",
   "execution_count": null,
   "metadata": {
    "collapsed": true
   },
   "outputs": [],
   "source": []
  },
  {
   "cell_type": "markdown",
   "metadata": {},
   "source": [
    "# Apply L0 veto"
   ]
  },
  {
   "cell_type": "markdown",
   "metadata": {},
   "source": [
    "### Run VariablesGrimReaper to calculate L0 veto mass"
   ]
  },
  {
   "cell_type": "code",
   "execution_count": null,
   "metadata": {
    "collapsed": true
   },
   "outputs": [],
   "source": [
    "if create_l0veto_tuple==True:\n",
    "    data_veto = Bd2JpsiKS_veto.root\n",
    "    print('INFO: Call CandidateSelectionGrimReaper', flush=True)\n",
    "    my_env = os.environ.copy()\n",
    "    my_env['PATH'] = '/usr/local/bin:/bin:/usr/bin:/usr/local/sbin:/usr/sbin:/sbin:/home/chasenberg/bin'\n",
    "    my_env['LD_LIBRARY_PATH'] = '/usr/local/lib'\n",
    "    my_env['script'] = '/home/chasenberg/repos/b2cc_sin2beta_run2/notebooks/selection'\n",
    "    my_command = 'source /lhcbsoft/LHCbSoftwareSetup.sh &&' \\\n",
    "             'lb-run DaVinci/v41r2 $BASH -c \"' \\\n",
    "             'echo $PATH && ' \\\n",
    "             'source /doosoft/InstallDooSoftware/LoadDooSoftware && CandidateSelectionGrimReaper /fhgfs/users/chasenberg/mc/2015_2016_merged/jpsimumuks/Bd2JpsiKS_sanity.root Bd2JpsiKS /fhgfs/users/chasenberg/mc/2015_2016_merged/jpsimumuks/Bd2JpsiKS_random.root Bd2JpsiKS \"idxRunNumber\"\"'                     \n",
    "    subprocess.Popen([my_command], env=my_env, shell=True)\n",
    "   # subprocess.call(('bash /home/chasenberg/repos/b2cc_sin2beta_run2/notebooks/selection/random_sel.sh'),shell=True)                      \n",
    "    print(\"Wait for GrimReaper\")\n",
    "    time.sleep(40.0)    # pause 5.5 seconds\n",
    "    print(\"GrimReaper hopefully finished\")"
   ]
  },
  {
   "cell_type": "code",
   "execution_count": null,
   "metadata": {
    "collapsed": true
   },
   "outputs": [],
   "source": [
    "l0_veto = '((abs(1115.683-varLambda0MassHypo_ppluspiminus)>10)|piplus_ProbNNp<0.01)&((abs(1115.683-varLambda0MassHypo_pminuspiplus)>10)|(piminus_ProbNNp<0.01))'"
   ]
  },
  {
   "cell_type": "code",
   "execution_count": null,
   "metadata": {
    "collapsed": true
   },
   "outputs": [],
   "source": []
  },
  {
   "cell_type": "code",
   "execution_count": null,
   "metadata": {
    "collapsed": true
   },
   "outputs": [],
   "source": []
  },
  {
   "cell_type": "code",
   "execution_count": null,
   "metadata": {
    "collapsed": true
   },
   "outputs": [],
   "source": []
  },
  {
   "cell_type": "code",
   "execution_count": null,
   "metadata": {
    "collapsed": true
   },
   "outputs": [],
   "source": []
  }
 ],
 "metadata": {
  "kernelspec": {
   "display_name": "Python 3",
   "language": "python",
   "name": "python3"
  },
  "language_info": {
   "codemirror_mode": {
    "name": "ipython",
    "version": 3
   },
   "file_extension": ".py",
   "mimetype": "text/x-python",
   "name": "python",
   "nbconvert_exporter": "python",
   "pygments_lexer": "ipython3",
   "version": "3.4.4"
  }
 },
 "nbformat": 4,
 "nbformat_minor": 0
}
