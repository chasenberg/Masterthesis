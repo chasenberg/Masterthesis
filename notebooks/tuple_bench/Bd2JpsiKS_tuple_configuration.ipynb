{
 "cells": [
  {
   "cell_type": "code",
   "execution_count": 9,
   "metadata": {
    "collapsed": true
   },
   "outputs": [],
   "source": [
    "import ROOT\n",
    "from rootpy.tree import Tree, TreeModel, FloatCol, IntCol\n",
    "from rootpy.io import root_open\n",
    "from ROOT import gROOT, TCanvas, TF1, TFile, TTree, gRandom, TH1F\n",
    "\n",
    "from ROOT import RooRealVar, RooFormulaVar, RooVoigtian, RooChebychev, RooArgList, \\\n",
    "                 RooArgSet, RooAddPdf, RooDataSet, RooCategory, RooSimultaneous, \\\n",
    "                 RooBreitWigner, RooCBShape, RooFFTConvPdf, RooGaussian,RooExponential, \\\n",
    "                 RooBinning, kRed, kBlue, kDotted,TString,RooAbsData, RooPlot, TCut, RooAbsData"
   ]
  },
  {
   "cell_type": "code",
   "execution_count": 10,
   "metadata": {
    "collapsed": false
   },
   "outputs": [],
   "source": [
    "%matplotlib inline\n",
    "%reload_ext autoreload\n",
    "%autoreload 2\n",
    "\n",
    "import os, sys, time, random\n",
    "\n",
    "from ROOT import TTree, TFile\n",
    "\n",
    "# from root_numpy import root2array, rec2array, array2root\n",
    "\n",
    "import pandas as pd\n",
    "import numpy as np\n",
    "import scipy \n",
    "import root_pandas as rp\n",
    "import root_numpy as ry \n",
    "\n",
    "import pandas.core.common as com\n",
    "from pandas.core.index import Index\n",
    "from pandas.tools import plotting\n",
    "from pandas.tools.plotting import scatter_matrix\n",
    "\n",
    "from tqdm import tqdm_notebook\n",
    "\n",
    "import numpy as np\n",
    "import matplotlib as mpl\n",
    "import matplotlib.pyplot as plt\n",
    "from matplotlib.backends.backend_pdf import PdfPages\n",
    "\n",
    "from sklearn import datasets\n",
    "from sklearn.tree import DecisionTreeClassifier\n",
    "from sklearn.ensemble import AdaBoostClassifier, GradientBoostingClassifier\n",
    "from sklearn.cross_validation import train_test_split\n",
    "from sklearn.preprocessing import Imputer, StandardScaler\n",
    "from sklearn.externals import joblib\n",
    "from sklearn.metrics import classification_report, roc_curve, auc, roc_auc_score\n",
    "\n",
    "sys.path.append('/home/chasenberg/repos/')\n",
    "sys.path.append('/home/chasenberg/repos/dopy')\n",
    "from dopy import * \n",
    "from dopy.dolearn.sklearn_utils import plot_roc_curve, plot_classifier_output, plot_correlations\n",
    "from dopy.dolearn.sklearn_utils import plot_feature_importances, plot_classifier_output, classify_unseen_data\n",
    "#from dopy.sklearn_utils import plot_bdt_vars\n",
    "from dopy.doplot.plotting import Plotter, Plot\n",
    "from dopy.doanalysis.df_utils import add_min_max, add_eta "
   ]
  },
  {
   "cell_type": "markdown",
   "metadata": {},
   "source": [
    "### State what should be done"
   ]
  },
  {
   "cell_type": "code",
   "execution_count": 11,
   "metadata": {
    "collapsed": true
   },
   "outputs": [],
   "source": [
    "create_sanity_tuple = True\n",
    "create_bestPV_tuple = False\n",
    "create_randomSel_tuple = True\n",
    "create_l0veto_tuple = True\n",
    "do_sanity_massfit = False\n",
    "do_bestPV_massfit = False \n",
    "do_randomPV_massfit = False \n",
    "create_bestPV_tuple = True "
   ]
  },
  {
   "cell_type": "markdown",
   "metadata": {},
   "source": [
    "### Define simple massmodel"
   ]
  },
  {
   "cell_type": "code",
   "execution_count": 12,
   "metadata": {
    "collapsed": true
   },
   "outputs": [],
   "source": [
    "def massfit(data_dir,file,info_file):\n",
    "    import ROOT\n",
    "    from ROOT import RooFit\n",
    "    #Initialize variables\n",
    "    B0_M = RooRealVar(\"B0_FitDaughtersConst_M_flat\", \"B0_M\", 5280, \"MeV\")\n",
    "    upper_limit_mass = 5450\n",
    "    lower_limit_mass = 5220\n",
    "    mass = RooRealVar(\"B0_FitDaughtersConst_M_flat\", \"Mass(J/psi K_{S})\", 5280,lower_limit_mass, upper_limit_mass, \"MeV\")\n",
    "    # Construct signal from two Gaussian pdf's with different means and sigmas \n",
    "    mean = RooRealVar(\"mean\", \"mean\", 5280,  5260,5300)\n",
    "    sigma_1 = RooRealVar(\"sigma_1\", \"sigma_1\", 10, 0, 50)\n",
    "    sigma_2 = RooRealVar(\"sigma_2\", \"sigma_2\", 13, 0, 50)\n",
    "    sig1frac = RooRealVar(\"sig1frac\",\"fraction of component 1 in signal\",0.14,0.,1.)\n",
    "\n",
    "    signal_1 = RooGaussian(\"signal_1\", \"signal_1\", mass, mean, sigma_1)\n",
    "    signal_2 = RooGaussian(\"signal_2\", \"signal_2\", mass, mean, sigma_2)\n",
    "    signal = RooAddPdf(\"signal\",\"signal\",signal_1, signal_2,sig1frac)#,RooArgList(mean,sigma_1, sigma_2)) \n",
    "    # Construct background pdfd\n",
    "    lambda_1= RooRealVar(\"lambda\",\"lambda\",0.0,-0.2,0.0)\n",
    "    background = RooExponential(\"background\",\"background\",mass,lambda_1)\n",
    "    # Construct composite pdf\n",
    "    nsig = RooRealVar(\"nsig\", \"nsig\", 200000,0,2000000)#, 0, 100000)\n",
    "    nbkg = RooRealVar(\"nbkg\", \"nbkg\", 200000, 0, 2000000)\n",
    "    model = RooAddPdf(\"model\", \"model\", RooArgList(signal, background), RooArgList(nsig, nbkg))\n",
    "    #Create dataset and fit\n",
    "    data = ROOT.TFile(data_dir+file)\n",
    "    tree_data = data.Get('Bd2JpsiKS') \n",
    "    tree_data.GetEntries()\n",
    "    print('---------------------')\n",
    "    print('Entries found in tree:')\n",
    "    print(tree_data.GetEntries())\n",
    "    print('---------------------')\n",
    "    #idxPV = RooRealVar(\"idxPV\", \"Best PV\", 0.,0., 0., \"\")\n",
    "    #ntupleVarSet =  RooArgSet(mass,idxPV)\n",
    "    ntupleVarSet =  RooArgSet(mass)\n",
    "    dataset = RooDataSet('data','data',tree_data,ntupleVarSet)\n",
    "    #Fit model to dataset\n",
    "    model.fitTo(dataset, RooFit.NumCPU(6),\n",
    "            RooFit.Minimizer('Minuit','minimize'),\n",
    "            RooFit.Hesse(True),\n",
    "            RooFit.Optimize(0),\n",
    "            RooFit.PrintEvalErrors(0),\n",
    "            RooFit.Save(True),\n",
    "            RooFit.Extended(),\n",
    "            RooFit.Verbose(True)) \n",
    "    sigyields  = str(nsig.getValV())\n",
    "    bkgyields = str(nbkg.getValV())\n",
    "    size = str(tree_data.GetEntries())\n",
    "    file_sanity = open(data_dir+info_file,'w')  \n",
    "    file_sanity.write(\"----------------------------------------\")\n",
    "    file_sanity.write('The fit results are:\\n') \n",
    "    file_sanity.write('Signal yields:'+sigyields+'\\n')\n",
    "    file_sanity.write('Background yields:'+bkgyields+'\\n')\n",
    "    file_sanity.write('The file has'+size+'entries\\n')\n",
    "    file_sanity.write('----------------------------------------')\n",
    "    # Prepare frame\n",
    "    print('Signal yields:'+sigyields)\n",
    "    print('Background yields:'+bkgyields)\n",
    "    %matplotlib inline  \n",
    "    import ROOT\n",
    "    frame = mass.frame(ROOT.RooFit.Bins(25))\n",
    "    dataset.plotOn(frame, ROOT.RooFit.Name(\"data1\"))\n",
    "    #model.plotOn( frame , ROOT.RooFit.Components(\"signal\"), ROOT.RooFit.LineStyle(kDotted), ROOT.RooFit.LineColor(kRed))\n",
    "    model.plotOn( frame , ROOT.RooFit.Components(\"background\"), ROOT.RooFit.LineStyle(kDotted), ROOT.RooFit.LineColor(kBlue))\n",
    "    model.plotOn(frame, ROOT.RooFit.Name(\"fit\"))\n",
    "    ### Add additional informations to the plot\n",
    "    text_size = 0.035\n",
    "    # Create TLegend\n",
    "    legend = ROOT.TLegend(0.7, 0.75, 0.9, 0.9, '')\n",
    "    legend.AddEntry(frame.findObject('data1'), \"Data points\", \"p\");\n",
    "    legend.AddEntry(frame.findObject('fit'), 'Fit', 'l')\n",
    "    legend.SetTextSize(text_size)\n",
    "    # Plot pulls\n",
    "    #can, _ = plot_pulls('test', frame, legend=legend)#, latex=latex)\n",
    "    can.SaveAs(\"/home/chasenberg/plots/B0_Mass_bdtcut.pdf\")\n",
    "    #can  # To display plot in notebooks"
   ]
  },
  {
   "cell_type": "markdown",
   "metadata": {},
   "source": [
    "### All branches that will be considered in the analysis"
   ]
  },
  {
   "cell_type": "code",
   "execution_count": 13,
   "metadata": {
    "collapsed": false
   },
   "outputs": [],
   "source": [
    "variables = [\n",
    "'B0_TAGDECISION_OS',\n",
    "'B0_TAGOMEGA_OS',\n",
    "'B0_FitDaughtersConst_M_flat',\n",
    "'B0_FitDaughtersConst_chi2_flat',\n",
    "'B0_FitDaughtersConst_IPCHI2_flat',\n",
    "'B0_FitDaughtersConst_J_psi_1S_IP_flat',   \n",
    "'B0_FitDaughtersConst_KS0_P1_PT_flat',\n",
    "'B0_FitDaughtersConst_KS0_P0_PT_flat',  \n",
    "'B0_FitDaughtersConst_KS0_decayLength_flat',\n",
    "'B0_FitDaughtersConst_KS0_IP_flat',\n",
    "'B0_FitDaughtersConst_KS0_P0_IPCHI2_flat', \n",
    "'B0_FitDaughtersConst_J_psi_1S_IPCHI2_flat',\n",
    "'idxPV',\n",
    "'piplus_TRACK_Type',\n",
    "'B0_FitPVConst_status_flat',\n",
    "'B0_FitDaughtersConst_KS0_P1_PT_flat', \n",
    "'B0_FitDaughtersConst_KS0_P0_PT_flat',\n",
    "'B0_FitDaughtersConst_KS0_P0_IPCHI2_flat', \n",
    "'B0_FitDaughtersConst_KS0_P1_IPCHI2_flat',\n",
    "'B0_FitDaughtersConst_J_psi_1S_P0_PT_flat', \n",
    "'B0_FitDaughtersConst_J_psi_1S_P1_PT_flat',\n",
    "'B0_FitPVConst_KS0_tau_flat',\n",
    "'B0_FitPVConst_KS0_tauErr_flat',\n",
    "'B0_FitPVConst_IPCHI2',\n",
    "'B0_FitPVConst_IPCHI2_flat',\n",
    "'B0_FitPVConst_MinIPCHI2anyPV_flat',\n",
    "'B0_TAU',\n",
    "'B0_TAUERR',\n",
    "'B0_FitDaughtersConst_status_flat',\n",
    "'B0_FitPVConst_status_flat',\n",
    "'piplus_TRACK_Type',\n",
    "'piminus_MINIPCHI2',\n",
    "'piplus_MINIPCHI2',\n",
    "'muminus_MINIPCHI2',\n",
    "'muplus_MINIPCHI2',\n",
    "'piplus_ProbNNp',\n",
    "'piminus_ProbNNp',\n",
    "'varLambda0MassHypo_ppluspiminus',\n",
    "'varLambda0MassHypo_pminuspiplus',\n",
    "'eventNumber',\n",
    "'runNumber',\n",
    "'B0_FitPVConst_tauErr_flat',\n",
    "'B0_FitPVConst_tau_flat',\n",
    "'nPV'\n",
    "#'B0_FitwithoutConst_chi2',\n",
    "#'B0_FitwithoutConst_nDOF',\n",
    "#'B0_FitPVConst_chi2_flat',\n",
    "#'B0_FitPVConst_nDOF_flat'\n",
    "]\n"
   ]
  },
  {
   "cell_type": "markdown",
   "metadata": {
    "collapsed": false
   },
   "source": [
    "### Directories and files"
   ]
  },
  {
   "cell_type": "code",
   "execution_count": 14,
   "metadata": {
    "collapsed": true
   },
   "outputs": [],
   "source": [
    "#Names of the produced tuples\n",
    "data_dir_2015_2016 = '/fhgfs/users/chasenberg/data/2015_2016_merged/jpsimumuks/'\n",
    "data_sanity_cuts = 'Bd2JpsiKS_sanity.root'\n",
    "data_bestPV = 'Bd2JpsiKS_bestPV.root'\n",
    "data_random = 'Bd2JpsiKS_random.root'\n",
    "data_BDTresponse = 'Bd2JpsiKS_data_BDTresponse.root'\n",
    "data_selected = 'Bd2JpsiKS_selected.root'"
   ]
  },
  {
   "cell_type": "code",
   "execution_count": 15,
   "metadata": {
    "collapsed": true
   },
   "outputs": [],
   "source": [
    "sanity_cuts = 'B0_FitDaughtersConst_status==0&B0_FitPVConst_status==0&(B0_L0MuonDecision_Dec==1|B0_L0DiMuonDecision_Dec==1|B0_L0MuonHighDecision_Dec==1)&(B0_Hlt1DiMuonHighMassDecision_Dec==1|B0_Hlt1TrackMVADecision_Dec==1)&(B0_Hlt1DiMuonHighMassDecision_Dec==1|B0_Hlt1TrackMVADecision_Dec==1)&(B0_Hlt2DiMuonJPsiDecision_Dec==1|B0_Hlt2DiMuonDetachedJPsiDecision_Dec==1)'\n",
    "tree_data ='Bd2JpsiKs'"
   ]
  },
  {
   "cell_type": "code",
   "execution_count": 17,
   "metadata": {
    "collapsed": false
   },
   "outputs": [
    {
     "name": "stdout",
     "output_type": "stream",
     "text": [
      "Reading 2015 data.\n",
      "Reading 2016 data.\n",
      "Merging 2015+2016 data and write to ROOT file.\n"
     ]
    },
    {
     "name": "stderr",
     "output_type": "stream",
     "text": [
      "/opt/rh/miniconda/envs/py3root6/lib/python3.4/site-packages/root_numpy/_tree.py:570: UserWarning: converter for dtype('O') is not implemented (skipping)\n",
      "  _librootnumpy.array2root(arr, filename, treename, mode)\n"
     ]
    }
   ],
   "source": [
    "if create_sanity_tuple==True:\n",
    "    #directories and files for 2015\n",
    "    data_file_2015 = 'Bd2JpsimumuKS_data_2015.root'\n",
    "    data_dir_2015 = '/fhgfs/users/chasenberg/data/2015/jpsimumuks/work_cut/veto_leaves/'\n",
    "    data_2015 = data_dir_2015 + data_file_2015\n",
    "    #read from ROOT-fil\n",
    "    print(\"Reading 2015 data.\")\n",
    "    df_2015 = rp.read_root(data_2015,key=tree_data, columns=variables,where=sanity_cuts, flatten=False)\n",
    "    df_2015 = df_2015.replace([np.inf, -np.inf], np.nan)\n",
    "    df_2015 = df_2015.dropna()\n",
    "    #directories and files for 2015\n",
    "    data_file_2016 = 'Bd2JpsimumuKS_data_2016.root'\n",
    "    data_dir_2016 = '/fhgfs/users/chasenberg/data/2016/jpsimumuks/work_cut/veto_leaves/'\n",
    "    data_2016 = data_dir_2016 + data_file_2016\n",
    "    #read from ROOT-file\n",
    "    print(\"Reading 2016 data.\")\n",
    "    df_2016 = rp.read_root(data_2016,key=tree_data, columns=variables,where=sanity_cuts, flatten=False)\n",
    "    df_2016 = df_2016.replace([np.inf, -np.inf], np.nan)\n",
    "    df_2016 = df_2016.dropna()\n",
    "    print(\"Merging 2015+2016 data and write to ROOT file.\")\n",
    "    df_merged = pd.concat([df_2015,df_2016])\n",
    "    data_dir_2015_2016 = '/fhgfs/users/chasenberg/data/2015_2016_merged/jpsimumuks/'\n",
    "    file_name = 'info.txt'\n",
    "    file = open(data_dir_2015_2016+file_name,'w')  \n",
    "    file.write(\"----------------------------------------\")\n",
    "    file.write('The file'+data_sanity_cuts+'has got the following cuts:\\n') \n",
    "    file.write(sanity_cuts)\n",
    "    file.write('No other selection has been applied yet.\\n')\n",
    "    size = str(df_merged.shape[0])\n",
    "    file.write('The file has'+size+'entries\\n')\n",
    "    file.write('----------------------------------------')\n",
    "    #Calculate random variable for random selection\n",
    "    np.random.seed(42)\n",
    "    df_merged['idxRandom'] = np.random.choice(2**30, df_merged.shape[0])  \n",
    "    df_merged['idxEventNumber'] = df_merged['eventNumber'] \n",
    "    df_merged['idxRunNumber'] = df_merged['runNumber'] \n",
    "    df_merged.to_root(data_dir_2015_2016+data_sanity_cuts,key='Bd2JpsiKS')"
   ]
  },
  {
   "cell_type": "markdown",
   "metadata": {},
   "source": [
    "### Fit the reconstructed B0 mass after applying sanity cuts"
   ]
  },
  {
   "cell_type": "code",
   "execution_count": 34,
   "metadata": {
    "collapsed": false
   },
   "outputs": [
    {
     "name": "stdout",
     "output_type": "stream",
     "text": [
      "---------------------\n",
      "Entries found in tree:\n",
      "5174432\n",
      "---------------------\n",
      "Signal yields:251616.07670297648\n",
      "Background yields:2838217.6175132263\n"
     ]
    },
    {
     "ename": "NameError",
     "evalue": "name 'can' is not defined",
     "output_type": "error",
     "traceback": [
      "\u001b[1;31m---------------------------------------------------------------------------\u001b[0m",
      "\u001b[1;31mNameError\u001b[0m                                 Traceback (most recent call last)",
      "\u001b[1;32m<ipython-input-34-c48e2b8bc8c6>\u001b[0m in \u001b[0;36m<module>\u001b[1;34m()\u001b[0m\n\u001b[0;32m     72\u001b[0m     \u001b[1;31m# Plot pulls\u001b[0m\u001b[1;33m\u001b[0m\u001b[1;33m\u001b[0m\u001b[0m\n\u001b[0;32m     73\u001b[0m     \u001b[1;31m#can, _ = plot_pulls('test', frame, legend=legend)#, latex=latex)\u001b[0m\u001b[1;33m\u001b[0m\u001b[1;33m\u001b[0m\u001b[0m\n\u001b[1;32m---> 74\u001b[1;33m     \u001b[0mcan\u001b[0m\u001b[1;33m.\u001b[0m\u001b[0mSaveAs\u001b[0m\u001b[1;33m(\u001b[0m\u001b[1;34m\"/home/chasenberg/repos/b2cc_sin2beta/notebooks/mass_fit/plots/B0_Mass_doublegauss.pdf\"\u001b[0m\u001b[1;33m)\u001b[0m\u001b[1;33m\u001b[0m\u001b[0m\n\u001b[0m\u001b[0;32m     75\u001b[0m     \u001b[1;31m#can  # To display plot in notebooks\u001b[0m\u001b[1;33m\u001b[0m\u001b[1;33m\u001b[0m\u001b[0m\n",
      "\u001b[1;31mNameError\u001b[0m: name 'can' is not defined"
     ]
    }
   ],
   "source": [
    "if do_sanity_massfit==True:\n",
    "    import ROOT\n",
    "    from ROOT import RooFit\n",
    "        #Initialize variables\n",
    "    B0_M = RooRealVar(\"B0_FitDaughtersConst_M_flat\", \"B0_M\", 5280, \"MeV\")\n",
    "    upper_limit_mass = 5450\n",
    "    lower_limit_mass = 5220\n",
    "    mass = RooRealVar(\"B0_FitDaughtersConst_M_flat\", \"Mass(J/psi K_{S})\", 5280,lower_limit_mass, upper_limit_mass, \"MeV\")\n",
    "    # Construct signal from two Gaussian pdf's with different means and sigmas \n",
    "    mean = RooRealVar(\"mean\", \"mean\", 5280,  5260,5300)\n",
    "    sigma_1 = RooRealVar(\"sigma_1\", \"sigma_1\", 10, 0, 50)\n",
    "    sigma_2 = RooRealVar(\"sigma_2\", \"sigma_2\", 13, 0, 50)\n",
    "    sig1frac = RooRealVar(\"sig1frac\",\"fraction of component 1 in signal\",0.5,0.,1.)\n",
    "\n",
    "    signal_1 = RooGaussian(\"signal_1\", \"signal_1\", mass, mean, sigma_1)\n",
    "    signal_2 = RooGaussian(\"signal_2\", \"signal_2\", mass, mean, sigma_2)\n",
    "    signal = RooAddPdf(\"signal\",\"signal\",signal_1, signal_2,sig1frac)#,RooArgList(mean,sigma_1, sigma_2)) \n",
    "    # Construct background pdfd\n",
    "    lambda_1= RooRealVar(\"lambda\",\"lambda\",0.0,-0.2,0.0)\n",
    "    background = RooExponential(\"background\",\"background\",mass,lambda_1)\n",
    "    # Construct composite pdf\n",
    "    nsig = RooRealVar(\"nsig\", \"nsig\", 0,0,6000000)#, 0, 100000)\n",
    "    nbkg = RooRealVar(\"nbkg\", \"nbkg\", 0, 0, 8000000)\n",
    "    model = RooAddPdf(\"model\", \"model\", RooArgList(signal, background), RooArgList(nsig, nbkg))\n",
    "    #Create dataset and fit\n",
    "    data = ROOT.TFile(data_dir_2015_2016+data_sanity_cuts)\n",
    "    tree_data = data.Get('Bd2JpsiKS') \n",
    "    tree_data.GetEntries()\n",
    "    print('---------------------')\n",
    "    print('Entries found in tree:')\n",
    "    print(tree_data.GetEntries())\n",
    "    print('---------------------')\n",
    "    ntupleVarSet =  RooArgSet(mass)\n",
    "    dataset = RooDataSet('data','data',tree_data,ntupleVarSet)\n",
    "    #Fit model to dataset\n",
    "    model.fitTo(dataset, RooFit.NumCPU(6),\n",
    "        RooFit.Minimizer('Minuit','minimize'),\n",
    "        RooFit.Hesse(True),\n",
    "        RooFit.Optimize(0),\n",
    "        RooFit.PrintEvalErrors(0),\n",
    "        RooFit.Save(True),\n",
    "        RooFit.Extended(),\n",
    "        RooFit.Verbose(True)) \n",
    "    sigyields  = str(nsig.getValV())\n",
    "    bkgyields = str(nbkg.getValV())\n",
    "    size = str(tree_data.GetEntries())\n",
    "    file_name = 'fit_results_sanity.txt'\n",
    "    file_sanity = open(data_dir_2015_2016+file_name,'w')  \n",
    "    #file_sanity.write(\"----------------------------------------\")\n",
    "    file_sanity.write('The fit results are:\\n') \n",
    "    file_sanity.write('Signal yields: '+sigyields+'\\n')\n",
    "    file_sanity.write('Background yields: '+bkgyields+'\\n')\n",
    "    file_sanity.write('The file has '+size+' entries\\n')\n",
    "    #file_sanity.write('----------------------------------------')\n",
    "    # Prepare frame\n",
    "    print('Signal yields:'+sigyields)\n",
    "    print('Background yields:'+bkgyields)\n",
    "    %matplotlib inline  \n",
    "    import ROOT\n",
    "    frame = mass.frame(ROOT.RooFit.Bins(25))\n",
    "    dataset.plotOn(frame, ROOT.RooFit.Name(\"data1\"))\n",
    "    #model.plotOn( frame , ROOT.RooFit.Components(\"signal\"), ROOT.RooFit.LineStyle(kDotted), ROOT.RooFit.LineColor(kRed))\n",
    "    model.plotOn( frame , ROOT.RooFit.Components(\"background\"), ROOT.RooFit.LineStyle(kDotted), ROOT.RooFit.LineColor(kBlue))\n",
    "    model.plotOn(frame, ROOT.RooFit.Name(\"fit\"))\n",
    "    ### Add additional informations to the plot\n",
    "    text_size = 0.035\n",
    "    # Create TLegend\n",
    "    legend = ROOT.TLegend(0.7, 0.75, 0.9, 0.9, '')\n",
    "    legend.AddEntry(frame.findObject('data1'), \"Data points\", \"p\");\n",
    "    legend.AddEntry(frame.findObject('fit'), 'Fit', 'l')\n",
    "    legend.SetTextSize(text_size)\n",
    "    # Plot pulls\n",
    "    #can, _ = plot_pulls('test', frame, legend=legend)#, latex=latex)\n",
    "    #can.SaveAs(\"/home/chasenberg/repos/b2cc_sin2beta/notebooks/mass_fit/plots/B0_Mass_doublegauss.pdf\")\n",
    "    #can  # To display plot in notebooks"
   ]
  },
  {
   "cell_type": "code",
   "execution_count": 21,
   "metadata": {
    "collapsed": false
   },
   "outputs": [],
   "source": [
    "df_selected = rp.read_root(data_dir_2015_2016+data_selected,key='Bd2JpsiKS')"
   ]
  },
  {
   "cell_type": "markdown",
   "metadata": {
    "collapsed": true
   },
   "source": [
    "## Compare best PV Selection to Random Selection"
   ]
  },
  {
   "cell_type": "code",
   "execution_count": 10,
   "metadata": {
    "collapsed": false
   },
   "outputs": [],
   "source": [
    "if create_bestPV_tuple==True:\n",
    "    df_selected.query('idxPV==0').to_root(data_dir_2015_2016+data_bestPV,key='Bd2JpsiKS')"
   ]
  },
  {
   "cell_type": "markdown",
   "metadata": {},
   "source": [
    "# Apply L0 veto"
   ]
  },
  {
   "cell_type": "code",
   "execution_count": 22,
   "metadata": {
    "collapsed": false
   },
   "outputs": [],
   "source": [
    "if create_l0veto_tuple==True:\n",
    "    l0_veto = '&((abs(1115.683-varLambda0MassHypo_ppluspiminus)>17)|piplus_ProbNNp<0.4)&((abs(1115.683-varLambda0MassHypo_pminuspiplus)>17)|(piminus_ProbNNp<0.4))'\n",
    "    df_selected.query('idxPV==0'+l0_veto ).to_root(data_dir_2015_2016+'BdJpsiKS_l0veto.root',key='Bd2JpsiKS')"
   ]
  },
  {
   "cell_type": "markdown",
   "metadata": {
    "collapsed": true
   },
   "source": [
    "## Create tuple with random selected events"
   ]
  },
  {
   "cell_type": "code",
   "execution_count": 23,
   "metadata": {
    "collapsed": false
   },
   "outputs": [],
   "source": [
    "l0_cut = '((abs(1115.683-varLambda0MassHypo_ppluspiminus)>17)|piplus_ProbNNp<0.4)&((abs(1115.683-varLambda0MassHypo_pminuspiplus)>17)|(piminus_ProbNNp<0.4))'\n",
    "pv_cut = \"&B0_FitPVConst_MinIPCHI2anyPV_flat>6\"\n",
    "df_selected.query(l0_cut + pv_cut).to_root(data_dir_2015_2016+'Bd2JpsiKS_cuts.root', key='Bd2JpsiKS')"
   ]
  },
  {
   "cell_type": "code",
   "execution_count": 24,
   "metadata": {
    "collapsed": false
   },
   "outputs": [
    {
     "name": "stdout",
     "output_type": "stream",
     "text": [
      "INFO: Call CandidateSelectionGrimReaper\n",
      "Start CandidateSelectionGrimReaper!\n",
      "Wait for GrimReaper\n",
      "GrimReaper hopefully finished\n"
     ]
    }
   ],
   "source": [
    "import os, subprocess\n",
    "if create_randomSel_tuple==True:\n",
    "    print('INFO: Call CandidateSelectionGrimReaper', flush=True)\n",
    "    my_env = os.environ.copy()\n",
    "    my_env['PATH'] = '/usr/local/bin:/bin:/usr/bin:/usr/local/sbin:/usr/sbin:/sbin:/home/chasenberg/bin'\n",
    "    my_env['LD_LIBRARY_PATH'] = '/usr/local/lib'\n",
    "    my_env['script'] = '/home/chasenberg/repos/b2cc_sin2beta_run2/notebooks/selection'\n",
    "    print(\"Start CandidateSelectionGrimReaper!\")\n",
    "    my_command = 'source /lhcbsoft/LHCbSoftwareSetup.sh &&' \\\n",
    "             'lb-run DaVinci/v41r2 $BASH -c \"' \\\n",
    "             'echo $PATH && ' \\\n",
    "             'source /doosoft/InstallDooSoftware/LoadDooSoftware && CandidateSelectionGrimReaper /fhgfs/users/chasenberg/data/2015_2016_merged/jpsimumuks/Bd2JpsiKS_cuts.root Bd2JpsiKS /fhgfs/users/chasenberg/data/2015_2016_merged/jpsimumuks/Bd2JpsiKS_final.root Bd2JpsiKS \"idxRandom\"\"'                     \n",
    "    subprocess.Popen([my_command], env=my_env, shell=True)\n",
    "    print(\"Wait for GrimReaper\")\n",
    "    time.sleep(120.0)    # pause 5.5 seconds\n",
    "    print(\"GrimReaper hopefully finished\")"
   ]
  },
  {
   "cell_type": "code",
   "execution_count": null,
   "metadata": {
    "collapsed": true
   },
   "outputs": [],
   "source": []
  }
 ],
 "metadata": {
  "kernelspec": {
   "display_name": "Python 3",
   "language": "python",
   "name": "python3"
  },
  "language_info": {
   "codemirror_mode": {
    "name": "ipython",
    "version": 3
   },
   "file_extension": ".py",
   "mimetype": "text/x-python",
   "name": "python",
   "nbconvert_exporter": "python",
   "pygments_lexer": "ipython3",
   "version": "3.4.4"
  }
 },
 "nbformat": 4,
 "nbformat_minor": 0
}
