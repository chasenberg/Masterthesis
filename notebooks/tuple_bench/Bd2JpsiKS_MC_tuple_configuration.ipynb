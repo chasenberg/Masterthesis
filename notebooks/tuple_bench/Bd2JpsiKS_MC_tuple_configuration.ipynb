{
 "cells": [
  {
   "cell_type": "code",
   "execution_count": 1,
   "metadata": {
    "collapsed": false
   },
   "outputs": [],
   "source": [
    "import ROOT\n",
    "from rootpy.tree import Tree, TreeModel, FloatCol, IntCol\n",
    "from rootpy.io import root_open\n",
    "from ROOT import gROOT, TCanvas, TF1, TFile, TTree, gRandom, TH1F\n",
    "\n",
    "from ROOT import RooRealVar, RooFormulaVar, RooVoigtian, RooChebychev, RooArgList, \\\n",
    "                 RooArgSet, RooAddPdf, RooDataSet, RooCategory, RooSimultaneous, \\\n",
    "                 RooBreitWigner, RooCBShape, RooFFTConvPdf, RooGaussian,RooExponential, \\\n",
    "                 RooBinning, kRed, kBlue, kDotted,TString,RooAbsData, RooPlot, TCut, RooAbsData"
   ]
  },
  {
   "cell_type": "code",
   "execution_count": 2,
   "metadata": {
    "collapsed": false
   },
   "outputs": [
    {
     "name": "stderr",
     "output_type": "stream",
     "text": [
      "/opt/rh/miniconda/envs/py3root6/lib/python3.4/site-packages/sklearn/cross_validation.py:44: DeprecationWarning: This module was deprecated in version 0.18 in favor of the model_selection module into which all the refactored classes and functions are moved. Also note that the interface of the new CV iterators are different from that of this module. This module will be removed in 0.20.\n",
      "  \"This module will be removed in 0.20.\", DeprecationWarning)\n"
     ]
    }
   ],
   "source": [
    "%matplotlib inline\n",
    "%reload_ext autoreload\n",
    "%autoreload 2\n",
    "\n",
    "import os, sys, time, random\n",
    "\n",
    "from ROOT import TTree, TFile\n",
    "\n",
    "# from root_numpy import root2array, rec2array, array2root\n",
    "\n",
    "import pandas as pd\n",
    "import numpy as np\n",
    "import scipy \n",
    "import root_pandas as rp\n",
    "import root_numpy as ry \n",
    "\n",
    "import pandas.core.common as com\n",
    "from pandas.core.index import Index\n",
    "from pandas.tools import plotting\n",
    "from pandas.tools.plotting import scatter_matrix\n",
    "\n",
    "from tqdm import tqdm_notebook\n",
    "\n",
    "import numpy as np\n",
    "import matplotlib as mpl\n",
    "import matplotlib.pyplot as plt\n",
    "from matplotlib.backends.backend_pdf import PdfPages\n",
    "\n",
    "from sklearn import datasets\n",
    "from sklearn.tree import DecisionTreeClassifier\n",
    "from sklearn.ensemble import AdaBoostClassifier, GradientBoostingClassifier\n",
    "from sklearn.cross_validation import train_test_split\n",
    "from sklearn.preprocessing import Imputer, StandardScaler\n",
    "from sklearn.externals import joblib\n",
    "from sklearn.metrics import classification_report, roc_curve, auc, roc_auc_score\n",
    "\n",
    "sys.path.append('/home/chasenberg/repos/')\n",
    "sys.path.append('/home/chasenberg/repos/dopy')\n",
    "from dopy import * \n",
    "from dopy.dolearn.sklearn_utils import plot_roc_curve, plot_classifier_output, plot_correlations\n",
    "from dopy.dolearn.sklearn_utils import plot_feature_importances, plot_classifier_output, classify_unseen_data\n",
    "#from dopy.sklearn_utils import plot_bdt_vars\n",
    "from dopy.doplot.plotting import Plotter, Plot\n",
    "from dopy.doanalysis.df_utils import add_min_max, add_eta "
   ]
  },
  {
   "cell_type": "markdown",
   "metadata": {},
   "source": [
    "### Create new ROOT File with relevant branches"
   ]
  },
  {
   "cell_type": "code",
   "execution_count": 8,
   "metadata": {
    "collapsed": true
   },
   "outputs": [],
   "source": [
    "#directories and files \n",
    "mc_dir_test = '/fhgfs/users/chasenberg/mc/2015_2016_merged/jpsimumuks'\n",
    "mc_file_test ='Bd2JpsiKS_after_stripping_flat.root'\n",
    "mc_dir_test = os.path.join(mc_dir_test, mc_file_test)"
   ]
  },
  {
   "cell_type": "code",
   "execution_count": 9,
   "metadata": {
    "collapsed": true
   },
   "outputs": [],
   "source": [
    "cut_string = 'B0_FitDaughtersConst_status==0&B0_FitPVConst_status==0&B0_BKGCAT==0&(B0_L0MuonDecision_Dec==1|B0_L0DiMuonDecision_Dec==1|B0_L0MuonHighDecision_Dec==1)&(B0_Hlt1DiMuonHighMassDecision_Dec==1|B0_Hlt1TrackMVADecision_Dec==1)&(B0_Hlt1DiMuonHighMassDecision_Dec==1|B0_Hlt1TrackMVADecision_Dec==1)&(B0_Hlt2DiMuonJPsiDecision_Dec==1|B0_Hlt2DiMuonDetachedJPsiDecision_Dec==1)'               \n",
    "tree_mc = 'Bd2JpsiKs'"
   ]
  },
  {
   "cell_type": "code",
   "execution_count": 10,
   "metadata": {
    "collapsed": false
   },
   "outputs": [
    {
     "data": {
      "text/plain": [
       "\"'B0_FitPVConst_status',\\n'B0_FitDaughtersConst_KS0_P1_PT', \\n'B0_FitDaughtersConst_KS0_P0_PT',\\n'B0_FitDaughtersConst_KS0_P0_IPCHI2', \\n'B0_FitDaughtersConst_KS0_P1_IPCHI2',\\n'B0_FitDaughtersConst_J_psi_1S_P0_PT', \\n'B0_FitDaughtersConst_J_psi_1S_P1_PT',\\n'B0_FitPVConst_KS0_tau',\\n'B0_FitPVConst_KS0_tauErr',\\n'B0_BKGCAT',\\n'B0_FitPVConst_IPCHI2',\\n'B0_FitPVConst_IPCHI2_flat',\\n'B0_FitPVConst_MinIPCHI2anyPV_flat',\\n'B0_FitDaughtersConst_M',\\n'B0_TAU',\\n'B0_TAUERR',\\n'B0_TRUETAU',\\n'B0_FitDaughtersConst_status_flat',\\n'B0_FitPVConst_status_flat',\\n'piplus_TRACK_Type',\\n'piminus_MINIPCHI2',\\n'piplus_MINIPCHI2',\\n'muminus_MINIPCHI2',\\n'muplus_MINIPCHI2',\\n'piplus_ProbNNp',\\n'piminus_ProbNNp',\\n'eventNumber',\\n'runNumber',\\n'B0_FitwithoutConst_chi2',\\n'B0_FitwithoutConst_nDOF',\\n'B0_FitPVConst_chi2',\\n'B0_FitPVConst_nDOF\""
      ]
     },
     "execution_count": 10,
     "metadata": {},
     "output_type": "execute_result"
    }
   ],
   "source": [
    "variables_mc = [\n",
    "'B0_M',\n",
    "'idxPV',\n",
    "'piplus_TRACK_Type',\n",
    "'eventNumber',\n",
    "'B0_FitDaughtersConst_M',\n",
    "'runNumber'\n",
    "]\n",
    "\n",
    "''''B0_FitPVConst_status',\n",
    "'B0_FitDaughtersConst_KS0_P1_PT', \n",
    "'B0_FitDaughtersConst_KS0_P0_PT',\n",
    "'B0_FitDaughtersConst_KS0_P0_IPCHI2', \n",
    "'B0_FitDaughtersConst_KS0_P1_IPCHI2',\n",
    "'B0_FitDaughtersConst_J_psi_1S_P0_PT', \n",
    "'B0_FitDaughtersConst_J_psi_1S_P1_PT',\n",
    "'B0_FitPVConst_KS0_tau',\n",
    "'B0_FitPVConst_KS0_tauErr',\n",
    "'B0_BKGCAT',\n",
    "'B0_FitPVConst_IPCHI2',\n",
    "'B0_FitPVConst_IPCHI2_flat',\n",
    "'B0_FitPVConst_MinIPCHI2anyPV_flat',\n",
    "'B0_FitDaughtersConst_M',\n",
    "'B0_TAU',\n",
    "'B0_TAUERR',\n",
    "'B0_TRUETAU',\n",
    "'B0_FitDaughtersConst_status_flat',\n",
    "'B0_FitPVConst_status_flat',\n",
    "'piplus_TRACK_Type',\n",
    "'piminus_MINIPCHI2',\n",
    "'piplus_MINIPCHI2',\n",
    "'muminus_MINIPCHI2',\n",
    "'muplus_MINIPCHI2',\n",
    "'piplus_ProbNNp',\n",
    "'piminus_ProbNNp',\n",
    "'eventNumber',\n",
    "'runNumber',\n",
    "'B0_FitwithoutConst_chi2',\n",
    "'B0_FitwithoutConst_nDOF',\n",
    "'B0_FitPVConst_chi2',\n",
    "'B0_FitPVConst_nDOF'''"
   ]
  },
  {
   "cell_type": "code",
   "execution_count": 11,
   "metadata": {
    "collapsed": true
   },
   "outputs": [],
   "source": [
    "#variables_mc = ['B0_M']"
   ]
  },
  {
   "cell_type": "code",
   "execution_count": 12,
   "metadata": {
    "collapsed": false
   },
   "outputs": [
    {
     "name": "stderr",
     "output_type": "stream",
     "text": [
      "/opt/rh/miniconda/envs/py3root6/lib/python3.4/site-packages/root_numpy/_tree.py:570: UserWarning: converter for dtype('O') is not implemented (skipping)\n",
      "  _librootnumpy.array2root(arr, filename, treename, mode)\n"
     ]
    }
   ],
   "source": [
    "#read root file\n",
    "signal_dataframe_test = rp.read_root(mc_dir_test,key=tree_mc,where=cut_string,columns=variables_mc, flatten=False)\n",
    "signal_dataframe_test = signal_dataframe_test.replace([np.inf, -np.inf], np.nan)\n",
    "signal_dataframe_test = signal_dataframe_test.dropna()\n",
    "signal_dataframe_test.to_root('/fhgfs/users/chasenberg/mc/2015_2016_merged/jpsimumuks/test.root',key='test')"
   ]
  },
  {
   "cell_type": "code",
   "execution_count": 21,
   "metadata": {
    "collapsed": false
   },
   "outputs": [
    {
     "data": {
      "text/plain": [
       "565715"
      ]
     },
     "execution_count": 21,
     "metadata": {},
     "output_type": "execute_result"
    }
   ],
   "source": [
    "signal_dataframe_test.shape[0]"
   ]
  },
  {
   "cell_type": "code",
   "execution_count": 15,
   "metadata": {
    "collapsed": false
   },
   "outputs": [
    {
     "data": {
      "text/plain": [
       "1044051"
      ]
     },
     "execution_count": 15,
     "metadata": {},
     "output_type": "execute_result"
    }
   ],
   "source": [
    "signal_dataframe_test.shape[0]"
   ]
  },
  {
   "cell_type": "markdown",
   "metadata": {},
   "source": [
    "### Efficiency part"
   ]
  },
  {
   "cell_type": "code",
   "execution_count": null,
   "metadata": {
    "collapsed": false
   },
   "outputs": [],
   "source": [
    "#directories and files \n",
    "mc_dir = '/fhgfs/users/chasenberg/mc/2015_2016_merged/jpsimumuks/wrong_pv'\n",
    "mc_file ='Bd2JpsimumuKS_mc_2015_2016_selected.root'\n",
    "mc_dir = os.path.join(mc_dir, mc_file)"
   ]
  },
  {
   "cell_type": "code",
   "execution_count": null,
   "metadata": {
    "collapsed": true
   },
   "outputs": [],
   "source": [
    "#criteria and information for read in data\n",
    "#branch_names_mc = ['B0_M','Delta_TAU','']\n",
    "cut_string_mc = ''\n",
    "tree_mc = 'Bd2JpsiKs'"
   ]
  },
  {
   "cell_type": "code",
   "execution_count": null,
   "metadata": {
    "collapsed": false
   },
   "outputs": [],
   "source": [
    "#read root file\n",
    "signal_dataframe = rp.read_root(mc_dir,key=tree_mc,where=cut_string_mc, flatten=False)\n",
    "signal_dataframe = signal_dataframe.replace([np.inf, -np.inf], np.nan)\n",
    "signal_dataframe = signal_dataframe.dropna()"
   ]
  },
  {
   "cell_type": "code",
   "execution_count": null,
   "metadata": {
    "collapsed": false
   },
   "outputs": [],
   "source": [
    "'''signal_dataframe[signal_dataframe['BDTresponse']>0.62]['Delta_TAU']\n",
    "p = Plotter('/home/chasenberg/plots/selection/')\n",
    "p.create_plots(signal_dataframe,'Delta_TAU',component_labels=['MC'])\n",
    "p['Delta_TAU'].set_range(-0.001,0.001)\n",
    "#bdt_plot.plot()\n",
    "p.plot()\n",
    "\n",
    "'''"
   ]
  },
  {
   "cell_type": "markdown",
   "metadata": {},
   "source": [
    "Check efficiencies of all selection steps\n",
    "================================================="
   ]
  },
  {
   "cell_type": "code",
   "execution_count": null,
   "metadata": {
    "collapsed": true
   },
   "outputs": [],
   "source": [
    "test = signal_dataframe.query('idxPV==0')"
   ]
  },
  {
   "cell_type": "markdown",
   "metadata": {},
   "source": [
    "BDT cut of 0.48\n",
    "------------------------"
   ]
  },
  {
   "cell_type": "code",
   "execution_count": null,
   "metadata": {
    "collapsed": false
   },
   "outputs": [],
   "source": [
    "bdt_cut = 'BDTresponse>0.48'\n",
    "efficiency = test.query(bdt_cut).shape[0]/test.shape[0]\n",
    "print(efficiency)"
   ]
  },
  {
   "cell_type": "markdown",
   "metadata": {},
   "source": [
    "Apply the L0 veto\n",
    "--------------------------"
   ]
  },
  {
   "cell_type": "code",
   "execution_count": null,
   "metadata": {
    "collapsed": false
   },
   "outputs": [],
   "source": [
    "l0_cut = '&((abs(1115.683-varLambda0MassHypo_ppluspiminus)>10)|piplus_ProbNNp<0.05)&((abs(1115.683-varLambda0MassHypo_pminuspiplus)>10)|(piminus_ProbNNp<0.05))'                   "
   ]
  },
  {
   "cell_type": "code",
   "execution_count": null,
   "metadata": {
    "collapsed": false
   },
   "outputs": [],
   "source": [
    "l0_cutefficiency = test.query(bdt_cut+l0_cut).shape[0]/test.query(bdt_cut).shape[0]\n",
    "print(l0_cutefficiency)"
   ]
  },
  {
   "cell_type": "markdown",
   "metadata": {},
   "source": [
    "Apply the MinIPCHI2 cut > 6\n",
    "--------------------------"
   ]
  },
  {
   "cell_type": "code",
   "execution_count": null,
   "metadata": {
    "collapsed": false
   },
   "outputs": [],
   "source": [
    "pv_cut = \"&B0_FitPVConst_MinIPCHI2anyPV_flat>6\"\n",
    "test_2 = test.query(bdt_cut+l0_cut+pv_cut)"
   ]
  },
  {
   "cell_type": "code",
   "execution_count": null,
   "metadata": {
    "collapsed": false
   },
   "outputs": [],
   "source": [
    "l0_cutefficiency = test.query(bdt_cut+l0_cut+pv_cut).shape[0]/test.query(bdt_cut).shape[0]\n",
    "print(l0_cutefficiency)"
   ]
  },
  {
   "cell_type": "code",
   "execution_count": null,
   "metadata": {
    "collapsed": false
   },
   "outputs": [],
   "source": [
    "test_2.to_root('/fhgfs/users/chasenberg/mc/2015_2016_merged/jpsimumuks/wrong_pv/final/minip_cut.root',key='Bd2JpsiKS')"
   ]
  },
  {
   "cell_type": "markdown",
   "metadata": {},
   "source": [
    "Efficiency of random selection\n",
    "-------------------------------"
   ]
  },
  {
   "cell_type": "code",
   "execution_count": null,
   "metadata": {
    "collapsed": false
   },
   "outputs": [],
   "source": [
    "test_3 = rp.read_root('/fhgfs/users/chasenberg/mc/2015_2016_merged/jpsimumuks/wrong_pv/final/test/test.root',key='test')"
   ]
  },
  {
   "cell_type": "code",
   "execution_count": null,
   "metadata": {
    "collapsed": false
   },
   "outputs": [],
   "source": [
    "eff = test_3.shape[0]/test.query(bdt_cut+l0_cut).shape[0]\n",
    "print(eff)"
   ]
  },
  {
   "cell_type": "code",
   "execution_count": null,
   "metadata": {
    "collapsed": true
   },
   "outputs": [],
   "source": []
  }
 ],
 "metadata": {
  "kernelspec": {
   "display_name": "Python 3",
   "language": "python",
   "name": "python3"
  },
  "language_info": {
   "codemirror_mode": {
    "name": "ipython",
    "version": 3
   },
   "file_extension": ".py",
   "mimetype": "text/x-python",
   "name": "python",
   "nbconvert_exporter": "python",
   "pygments_lexer": "ipython3",
   "version": "3.4.4"
  }
 },
 "nbformat": 4,
 "nbformat_minor": 0
}
