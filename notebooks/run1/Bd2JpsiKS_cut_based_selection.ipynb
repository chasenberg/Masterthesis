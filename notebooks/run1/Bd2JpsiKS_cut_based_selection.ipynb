{
 "cells": [
  {
   "cell_type": "code",
   "execution_count": null,
   "metadata": {
    "collapsed": true
   },
   "outputs": [],
   "source": [
    "%matplotlib inline\n",
    "%load_ext autoreload\n",
    "%autoreload 2\n",
    "\n",
    "import os\n",
    "import sys\n",
    "import ROOT\n",
    "from ROOT import (RooArgSet,\n",
    "                  RooCategory,\n",
    "                  RooRealVar,\n",
    "                  RooDataSet,\n",
    "                  RooPlot,\n",
    "                  RooFit,\n",
    "                  RooStats,\n",
    "                  RooArgList,\n",
    "                  RooFormulaVar)\n",
    "\n",
    "from ROOT import (TFile, \n",
    "                  TH1D, \n",
    "                  TH2D, \n",
    "                  TCanvas, \n",
    "                  gStyle, \n",
    "                  TLine, \n",
    "                  TTree)\n",
    "\n",
    "import math\n",
    "import itertools\n",
    "import numpy as np\n",
    "import matplotlib as mpl\n",
    "import matplotlib.pyplot as plt\n",
    "from matplotlib.backends.backend_pdf import PdfPages\n",
    "\n",
    "from root_pandas import read_root\n",
    "import pandas as pd\n",
    "            \n",
    "sys.path.append('/home/vmueller/repos/')\n",
    "from dopy.doroot.root_utils import read_roodataset_from_tree, plot_pulls, build_tchain_from_files\n",
    "from dopy.doplot.plotting import Plotter, Plot\n",
    "import dopy.doroot.rootnotes \n",
    "from dopy.doplot.selection import add_log_to_dataframe, add_max_to_dataframe, add_min_to_dataframe"
   ]
  },
  {
   "cell_type": "code",
   "execution_count": null,
   "metadata": {
    "collapsed": true
   },
   "outputs": [],
   "source": [
    "triggerlines_ = '(Hlt1DiMuonHighMass==1|Hlt1TrackMuon==1)&&Hlt2DiMuonDetachedJPsi==1'"
   ]
  },
  {
   "cell_type": "markdown",
   "metadata": {},
   "source": [
    "### Sanity cuts:  \n",
    "\n"
   ]
  },
  {
   "cell_type": "code",
   "execution_count": 11,
   "metadata": {
    "collapsed": true
   },
   "outputs": [],
   "source": [
    "sanity_cuts = [ 'B0_FitPVConst_MERR_flat<30',\n",
    "        'B0_FitPVConst_tauErr_flat<0.0002',\n",
    "        'PVZ<200',\n",
    "        '(KS0_OWNPV_CHI2/KS0_OWNPV_NDOF)<20',\n",
    "        '(J_psi_1S_OWNPV_CHI2/J_psi_1S_OWNPV_NDOF)<16',\n",
    "        '(B0_OWNPV_CHI2/B0_OWNPV_NDOF)<10',\n",
    "        'B0_FitPVConst_J_psi_1S_P1_PT>500',\n",
    "        'piminus_TRACK_CHI2NDOF<3',\n",
    "        'muminus_PIDmu>0',\n",
    "        'B0_FitPVConst_KS0_P0_PT_flat>2000',\n",
    "        '(piminus_MINIPCHI2/piminus_OWNPV_NDOF)>4',\n",
    "        'B0_FitJpsiPVConst_status==0',\n",
    "        'B0_FitDaughtersPVConst_status==0',\n",
    "        'B0_FitPVConst_status==0']"
   ]
  },
  {
   "cell_type": "code",
   "execution_count": 12,
   "metadata": {
    "collapsed": false
   },
   "outputs": [
    {
     "data": {
      "text/plain": [
       "'B0_FitPVConst_MERR_flat<30&B0_FitPVConst_tauErr_flat<0.0002&PVZ<200&(KS0_OWNPV_CHI2/KS0_OWNPV_NDOF)<20&(J_psi_1S_OWNPV_CHI2/J_psi_1S_OWNPV_NDOF)<16&(B0_OWNPV_CHI2/B0_OWNPV_NDOF)<10&B0_FitPVConst_J_psi_1S_P1_PT>500&piminus_TRACK_CHI2NDOF<3&muminus_PIDmu>0&B0_FitPVConst_KS0_P0_PT_flat>2000&B0_FitJpsiPVConst_status==0&B0_FitDaughtersPVConst_status==0&B0_FitPVConst_status==0'"
      ]
     },
     "execution_count": 12,
     "metadata": {},
     "output_type": "execute_result"
    }
   ],
   "source": [
    "s = '&'\n",
    "s.join(sanity_cuts)"
   ]
  },
  {
   "cell_type": "markdown",
   "metadata": {},
   "source": [
    "## Daughter cuts "
   ]
  },
  {
   "cell_type": "code",
   "execution_count": 15,
   "metadata": {
    "collapsed": true
   },
   "outputs": [],
   "source": [
    "daughter_cuts = [\n",
    "                'abs(B0_FitDaughtersConst_J_psi_1S_M_flat-3096.916)<60',\n",
    "                '((abs(B0_FitDaughtersConst_KS0_M_flat_1S_M-497.614)<55&piminus_TRACK_type==5)|(abs(B0_FitDaughtersConst_KS0_M_flat_1S_M-497.614)<15&piminus_TRACK_type==3))'\n",
    "    \n",
    "                ]"
   ]
  },
  {
   "cell_type": "code",
   "execution_count": 16,
   "metadata": {
    "collapsed": false
   },
   "outputs": [
    {
     "data": {
      "text/plain": [
       "'abs(B0_FitDaughtersConst_J_psi_1S_M_flat-3096.916)<60&((abs(B0_FitDaughtersConst_KS0_M_flat_1S_M-497.614)<55&piminus_TRACK_type==5)|(abs(B0_FitDaughtersConst_KS0_M_flat_1S_M-497.614)<15&piminus_TRACK_type==3))'"
      ]
     },
     "execution_count": 16,
     "metadata": {},
     "output_type": "execute_result"
    }
   ],
   "source": [
    "s = '&'\n",
    "s.join(daughter_cuts)"
   ]
  },
  {
   "cell_type": "code",
   "execution_count": null,
   "metadata": {
    "collapsed": true
   },
   "outputs": [],
   "source": []
  },
  {
   "cell_type": "code",
   "execution_count": null,
   "metadata": {
    "collapsed": true
   },
   "outputs": [],
   "source": []
  }
 ],
 "metadata": {
  "kernelspec": {
   "display_name": "Python 3",
   "language": "python",
   "name": "python3"
  },
  "language_info": {
   "codemirror_mode": {
    "name": "ipython",
    "version": 3
   },
   "file_extension": ".py",
   "mimetype": "text/x-python",
   "name": "python",
   "nbconvert_exporter": "python",
   "pygments_lexer": "ipython3",
   "version": "3.4.4"
  }
 },
 "nbformat": 4,
 "nbformat_minor": 0
}
