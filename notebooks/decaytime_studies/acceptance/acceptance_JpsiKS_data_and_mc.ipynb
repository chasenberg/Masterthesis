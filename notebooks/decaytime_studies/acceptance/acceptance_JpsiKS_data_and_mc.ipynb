{
 "cells": [
  {
   "cell_type": "markdown",
   "metadata": {},
   "source": [
    "# Acceptance model for B02JpsiKS"
   ]
  },
  {
   "cell_type": "code",
   "execution_count": 6,
   "metadata": {
    "collapsed": false
   },
   "outputs": [
    {
     "name": "stderr",
     "output_type": "stream",
     "text": [
      "/opt/rh/miniconda/envs/py3root6/lib/python3.4/site-packages/sklearn/cross_validation.py:44: DeprecationWarning: This module was deprecated in version 0.18 in favor of the model_selection module into which all the refactored classes and functions are moved. Also note that the interface of the new CV iterators are different from that of this module. This module will be removed in 0.20.\n",
      "  \"This module will be removed in 0.20.\", DeprecationWarning)\n"
     ]
    }
   ],
   "source": [
    "%matplotlib inline\n",
    "%reload_ext autoreload\n",
    "%autoreload 2\n",
    "\n",
    "import os, sys, time, random\n",
    "import ROOT \n",
    "from ROOT import TTree, TFile\n",
    "\n",
    "# from root_numpy import root2array, rec2array, array2root\n",
    "\n",
    "import pandas as pd\n",
    "import numpy as np\n",
    "import scipy \n",
    "import root_pandas as rp\n",
    "import root_numpy as ry \n",
    "\n",
    "import pandas.core.common as com\n",
    "from pandas.core.index import Index\n",
    "from pandas.tools import plotting\n",
    "from pandas.tools.plotting import scatter_matrix\n",
    "\n",
    "from tqdm import tqdm_notebook\n",
    "\n",
    "import numpy as np\n",
    "import matplotlib as mpl\n",
    "import matplotlib.pyplot as plt\n",
    "from matplotlib.backends.backend_pdf import PdfPages\n",
    "\n",
    "from sklearn import datasets\n",
    "from sklearn.tree import DecisionTreeClassifier\n",
    "from sklearn.ensemble import AdaBoostClassifier, GradientBoostingClassifier\n",
    "from sklearn.cross_validation import train_test_split\n",
    "from sklearn.preprocessing import Imputer, StandardScaler\n",
    "from sklearn.externals import joblib\n",
    "from sklearn.metrics import classification_report, roc_curve, auc, roc_auc_score\n",
    "\n",
    "sys.path.append('/home/chasenberg/repos/')\n",
    "sys.path.append('/home/chasenberg/repos/dopy')\n",
    "from dopy import * \n",
    "from dopy.dolearn.sklearn_utils import plot_roc_curve, plot_classifier_output, plot_correlations\n",
    "from dopy.dolearn.sklearn_utils import plot_feature_importances, plot_classifier_output, classify_unseen_data\n",
    "#from dopy.sklearn_utils import plot_bdt_vars\n",
    "from dopy.doplot.plotting import Plotter, Plot\n",
    "from dopy.doanalysis.df_utils import add_min_max, add_eta "
   ]
  },
  {
   "cell_type": "code",
   "execution_count": 3,
   "metadata": {
    "collapsed": false
   },
   "outputs": [],
   "source": [
    "dataset_dir_data = '/fhgfs/users/chasenberg/data/2015_2016_merged/jpsimumuks'\n",
    " \n",
    "#new dataset\n",
    "dataset_file_name_data= 'Bd2JpsiKS_final_sw.root'\n",
    "dataset_tree_name_data = 'Bd2JpsiKS'\n",
    "dataset_file_name_data = os.path.join(dataset_dir_data, dataset_file_name_data) "
   ]
  },
  {
   "cell_type": "code",
   "execution_count": 4,
   "metadata": {
    "collapsed": true
   },
   "outputs": [],
   "source": [
    "dataset_dir_mc = '/fhgfs/users/chasenberg/mc/2015_2016_merged/jpsimumuks'\n",
    " \n",
    "#new dataset1\n",
    "dataset_file_name_mc= 'random_sample.root' #'random_sample.root'\n",
    "dataset_tree_name_mc = 'Bd2JpsiKS'\n",
    "dataset_file_name_mc = os.path.join(dataset_dir_mc, dataset_file_name_mc) "
   ]
  },
  {
   "cell_type": "code",
   "execution_count": 11,
   "metadata": {
    "collapsed": false
   },
   "outputs": [],
   "source": [
    "df_data = rp.read_root(dataset_file_name_data,key=dataset_tree_name_data, flatten=False)"
   ]
  },
  {
   "cell_type": "code",
   "execution_count": 12,
   "metadata": {
    "collapsed": true
   },
   "outputs": [],
   "source": [
    "df_mc = rp.read_root(dataset_file_name_mc,key=dataset_tree_name_mc, flatten=False)"
   ]
  },
  {
   "cell_type": "code",
   "execution_count": 13,
   "metadata": {
    "collapsed": false
   },
   "outputs": [
    {
     "data": {
      "text/plain": [
       "Index(['B0_TAGDECISION_OS', 'B0_TAGOMEGA_OS', 'B0_OS_Muon_DEC',\n",
       "       'B0_OS_Muon_PROB', 'B0_OS_Electron_DEC', 'B0_OS_Electron_PROB',\n",
       "       'B0_OS_Kaon_DEC', 'B0_OS_Kaon_PROB', 'B0_OS_Charm_DEC',\n",
       "       'B0_OS_Charm_PROB', 'B0_VtxCharge_DEC', 'B0_VtxCharge_PROB',\n",
       "       'B0_SS_PionBDT_DEC', 'B0_SS_PionBDT_PROB', 'B0_SS_Proton_DEC',\n",
       "       'B0_SS_Proton_PROB', 'B0_FitDaughtersConst_M_flat',\n",
       "       'B0_FitDaughtersConst_chi2_flat', 'B0_FitDaughtersConst_IPCHI2_flat',\n",
       "       'B0_FitDaughtersConst_J_psi_1S_IP_flat',\n",
       "       'B0_FitDaughtersConst_KS0_P1_PT_flat',\n",
       "       'B0_FitDaughtersConst_KS0_P0_PT_flat',\n",
       "       'B0_FitDaughtersConst_KS0_decayLength_flat',\n",
       "       'B0_FitDaughtersConst_KS0_IP_flat',\n",
       "       'B0_FitDaughtersConst_KS0_P0_IPCHI2_flat',\n",
       "       'B0_FitDaughtersConst_J_psi_1S_IPCHI2_flat', 'idxPV',\n",
       "       'B0_FitDaughtersConst_KS0_P1_IPCHI2_flat',\n",
       "       'B0_FitDaughtersConst_J_psi_1S_P0_PT_flat',\n",
       "       'B0_FitDaughtersConst_J_psi_1S_P1_PT_flat',\n",
       "       'B0_FitPVConst_KS0_tau_flat', 'B0_FitPVConst_KS0_tauErr_flat',\n",
       "       'B0_FitPVConst_IPCHI2_flat', 'B0_FitPVConst_MinIPCHI2anyPV_flat',\n",
       "       'B0_FitDaughtersConst_status_flat', 'B0_FitPVConst_status_flat',\n",
       "       'piplus_TRACK_Type', 'piminus_MINIPCHI2', 'piplus_MINIPCHI2',\n",
       "       'muminus_MINIPCHI2', 'muplus_MINIPCHI2', 'piplus_ProbNNp',\n",
       "       'piminus_ProbNNp', 'varLambda0MassHypo_ppluspiminus',\n",
       "       'varLambda0MassHypo_pminuspiplus', 'eventNumber', 'runNumber',\n",
       "       'B0_FitPVConst_tauErr_flat', 'B0_FitPVConst_tau_flat', 'nPV',\n",
       "       'B0_FitDaughtersConst_PT_flat', 'B0_LOKI_ETA', 'B0_LOKI_PHI', 'nTracks',\n",
       "       'B0_FitPVConst_chi2_flat', 'B0_FitPVConst_J_psi_1S_IPCHI2_flat',\n",
       "       'B0_FitPVConst_PV_Z_flat', 'idxRandom', 'idxEventNumber',\n",
       "       'idxRunNumber', 'B0_FitDaughtersConst_KS0_min_PT', 'test_IP',\n",
       "       'B0_FitDaughtersConst_J_psi_1S_min_PT', 'B0_FitPVConst_KS0_tau_dimless',\n",
       "       'BDTresponse', 'sweight_sig', 'sweight_bkg'],\n",
       "      dtype='object')"
      ]
     },
     "execution_count": 13,
     "metadata": {},
     "output_type": "execute_result"
    }
   ],
   "source": [
    "df_data.columns"
   ]
  },
  {
   "cell_type": "code",
   "execution_count": 14,
   "metadata": {
    "collapsed": true
   },
   "outputs": [],
   "source": [
    "from scipy import stats, integrate\n",
    "import matplotlib.pyplot as plt"
   ]
  },
  {
   "cell_type": "code",
   "execution_count": 15,
   "metadata": {
    "collapsed": true
   },
   "outputs": [],
   "source": [
    "import seaborn as sns; sns.set_style(\"white\")"
   ]
  },
  {
   "cell_type": "code",
   "execution_count": 35,
   "metadata": {
    "collapsed": false
   },
   "outputs": [
    {
     "data": {
      "text/plain": [
       "<matplotlib.axes._subplots.AxesSubplot at 0x7f1d0c507908>"
      ]
     },
     "execution_count": 35,
     "metadata": {},
     "output_type": "execute_result"
    },
    {
     "data": {
      "image/png": "[encoded data removed]",
      "text/plain": [
       "<matplotlib.figure.Figure at 0x7f1d0c5639b0>"
      ]
     },
     "metadata": {},
     "output_type": "display_data"
    }
   ],
   "source": [
    "sns.distplot(df_data.query(\"B0_FitPVConst_tau_flat<0.0005\").B0_FitPVConst_tau_flat*1000,bins = 50, kde=False)"
   ]
  },
  {
   "cell_type": "code",
   "execution_count": 47,
   "metadata": {
    "collapsed": false
   },
   "outputs": [
    {
     "name": "stdout",
     "output_type": "stream",
     "text": [
      "WARNING: Range for plot B0_FitPVConst_tau_flat_ps has been manually set with range_part_of_selection=False.\n",
      "WARNING: Efficiencies are calculated against the full complete dataset.\n"
     ]
    },
    {
     "data": {
      "image/png": "[encoded data removed]",
      "text/plain": [
       "<matplotlib.figure.Figure at 0x7f1cfb8fb470>"
      ]
     },
     "metadata": {},
     "output_type": "display_data"
    }
   ],
   "source": [
    "df_data[\"B0_FitPVConst_tau_flat_ps\"] =df_data.B0_FitPVConst_tau_flat *1000\n",
    "plot_vars = ['B0_FitPVConst_tau_flat_ps']\n",
    "plot_names = plot_vars\n",
    "\n",
    "plotter = Plotter('/home/chasenberg/plots/acceptance/')\n",
    "plotter.create_plots([df_data], plot_vars, None, plot_names)\n",
    "plotter['B0_FitPVConst_tau_flat_ps'].set_range(0.194,0.5)#-5000,2000\n",
    "#plotter['B0_FitPVConst_tau_flat_ps']\n",
    "plotter.plot()"
   ]
  }
 ],
 "metadata": {
  "kernelspec": {
   "display_name": "Python 3",
   "language": "python",
   "name": "python3"
  },
  "language_info": {
   "codemirror_mode": {
    "name": "ipython",
    "version": 3
   },
   "file_extension": ".py",
   "mimetype": "text/x-python",
   "name": "python",
   "nbconvert_exporter": "python",
   "pygments_lexer": "ipython3",
   "version": "3.4.4"
  }
 },
 "nbformat": 4,
 "nbformat_minor": 0
}
