{
 "cells": [
  {
   "cell_type": "markdown",
   "metadata": {},
   "source": [
    "# Acceptance model for B02JpsiKS"
   ]
  },
  {
   "cell_type": "code",
   "execution_count": 1,
   "metadata": {
    "collapsed": false
   },
   "outputs": [],
   "source": [
    "%matplotlib inline\n",
    "%load_ext autoreload\n",
    "%autoreload 2\n",
    "\n",
    "import os\n",
    "import sys\n",
    "import ROOT\n",
    "from ROOT import (RooArgSet,\n",
    "                  RooCategory,\n",
    "                  RooRealVar,\n",
    "                  RooDataSet,\n",
    "                  RooPlot,\n",
    "                  RooFit,\n",
    "                  RooStats,\n",
    "                  RooArgList,\n",
    "                  RooFormulaVar)\n",
    "\n",
    "from ROOT import (TFile, \n",
    "                  TH1D, \n",
    "                  TH2D, \n",
    "                  TCanvas, \n",
    "                  gStyle, \n",
    "                  TLine, \n",
    "                  TTree)\n",
    "\n",
    "import math\n",
    "import itertools\n",
    "import numpy as np\n",
    "import matplotlib as mpl\n",
    "import matplotlib.pyplot as plt\n",
    "from matplotlib.backends.backend_pdf import PdfPages\n",
    "\n",
    "from root_pandas import read_root\n",
    "import pandas as pd\n",
    "            \n",
    "sys.path.append('/home/vmueller/repos/')\n",
    "from dopy.doroot.root_utils import read_roodataset_from_tree, plot_pulls, build_tchain_from_files\n",
    "from dopy.doplot.plotting import Plotter, Plot\n",
    "import dopy.doroot.rootnotes \n",
    "from dopy.doplot.selection import add_log_to_dataframe, add_max_to_dataframe, add_min_to_dataframe"
   ]
  },
  {
   "cell_type": "code",
   "execution_count": 2,
   "metadata": {
    "collapsed": false
   },
   "outputs": [],
   "source": [
    "dataset_dir = '/fhgfs/users/chasenberg/mc/2015_2016_merged/jpsimumuks'\n",
    " \n",
    "#new dataset\n",
    "dataset_file_name= 'random_sample.root'\n",
    "dataset_tree_name = 'Bd2JpsiKS'\n",
    "dataset_file_name = os.path.join(dataset_dir, dataset_file_name) "
   ]
  },
  {
   "cell_type": "code",
   "execution_count": 3,
   "metadata": {
    "collapsed": false
   },
   "outputs": [],
   "source": [
    "dataset_file = TFile(dataset_file_name)\n",
    "ROOT.SetOwnership(dataset_file, False)\n",
    "\n",
    "dataset_tree = dataset_file.Get(dataset_tree_name)\n",
    "ROOT.SetOwnership(dataset_tree, False) "
   ]
  },
  {
   "cell_type": "code",
   "execution_count": 4,
   "metadata": {
    "collapsed": false
   },
   "outputs": [
    {
     "name": "stdout",
     "output_type": "stream",
     "text": [
      "Number of entries: 121559\n"
     ]
    }
   ],
   "source": [
    "obsTime     = RooRealVar('B0_FitPVConst_tau_flat', 'obsTime', 0,0.0002, 0.02, 'ns')\n",
    "obsTimeErr = RooRealVar(\"B0_FitPVConst_tauErr_flat\", \"obsTimeErr\", 0,-0.001,0.001, \"ns\")\n",
    "Delta_Tau = RooRealVar(\"Delta_Tau\", \"Delta_Tau\", 0,-0.001,0.001, \"ns\")\n",
    "ROOT.SetOwnership(obsTime, False)\n",
    "ROOT.SetOwnership(obsTimeErr, False)\n",
    "\n",
    "\n",
    "#criteria and information for read in mc\n",
    "data = ROOT.TFile(dataset_file_name)\n",
    "tree_data = data.Get('Bd2JpsiKS') \n",
    "tree_data.GetEntries()\n",
    "ntupleVarSet =  RooArgSet(obsTime,obsTimeErr)#,Delta_Tau)\n",
    "data = RooDataSet('data','data',tree_data,ntupleVarSet)\n",
    "ROOT.SetOwnership(data,False)\n",
    "\n",
    "print('Number of entries: '+ str(data.numEntries()))"
   ]
  },
  {
   "cell_type": "code",
   "execution_count": 5,
   "metadata": {
    "collapsed": false
   },
   "outputs": [],
   "source": [
    "subdir = '/home/chasenberg/plots/acceptance'\n",
    "plot_dir    = os.path.join(subdir, 'plots')\n",
    "results_dir = os.path.join(subdir, 'results')\n",
    "plot_file   = os.path.join(plot_dir, 'all_plots.pdf')\n",
    "\n",
    "if not os.path.exists(plot_dir):\n",
    "    os.makedirs(plot_dir)\n",
    "if not os.path.exists(results_dir):\n",
    "    os.makedirs(results_dir)"
   ]
  },
  {
   "cell_type": "markdown",
   "metadata": {},
   "source": [
    "### Build acceptance model"
   ]
  },
  {
   "cell_type": "code",
   "execution_count": 6,
   "metadata": {
    "collapsed": false
   },
   "outputs": [
    {
     "data": {
      "text/plain": [
       "0"
      ]
     },
     "execution_count": 6,
     "metadata": {},
     "output_type": "execute_result"
    }
   ],
   "source": [
    "from ROOT import gSystem\n",
    "gSystem.Load(\"libRooFit.so\")\n",
    "gSystem.Load(\"/home/vmueller/repos/dopy/dolib/acceptances/libAcceptances\")"
   ]
  },
  {
   "cell_type": "code",
   "execution_count": 7,
   "metadata": {
    "collapsed": false
   },
   "outputs": [],
   "source": [
    "from ROOT import RooCubicSplineFun\n",
    "from ROOT import RooResolutionModel "
   ]
  },
  {
   "cell_type": "code",
   "execution_count": 8,
   "metadata": {
    "collapsed": false
   },
   "outputs": [],
   "source": [
    "from ROOT import std\n",
    "knots = std.vector(\"double\")(7)\n",
    "knots[0]=(obsTime.getMin()) # 0.0\n",
    "knots[1]=(0.0004)\n",
    "#knots[2]=(0.0006)\n",
    "knots[2]=(0.001)\n",
    "knots[3]=(0.004)\n",
    "#knots[4]=(0.005)\n",
    "knots[4]=(0.012)\n",
    "knots[5]=(0.016)\n",
    "knots[6]=(obsTime.getMax()) # 18.0\n"
   ]
  },
  {
   "cell_type": "code",
   "execution_count": 9,
   "metadata": {
    "collapsed": false
   },
   "outputs": [
    {
     "name": "stdout",
     "output_type": "stream",
     "text": [
      "0.0002 0.02 7\n"
     ]
    }
   ],
   "source": [
    "print(obsTime.getMin(),obsTime.getMax(),len(knots))"
   ]
  },
  {
   "cell_type": "code",
   "execution_count": 10,
   "metadata": {
    "collapsed": false
   },
   "outputs": [
    {
     "name": "stdout",
     "output_type": "stream",
     "text": [
      "1.0\n",
      "1.05\n",
      "1.1\n",
      "1.15\n",
      "1.2\n",
      "1.25\n",
      "1.3\n",
      "1.35\n"
     ]
    }
   ],
   "source": [
    "knotlist = RooArgList(\"knotlist\")\n",
    "ROOT.SetOwnership(knotlist, False)\n",
    "\n",
    "# This is needed because 2 extra coefficients are needed\n",
    "# (assert statement)\n",
    "for i in range(0,len(knots)+1): # len(knots)+2\n",
    "    binname = \"parTimeAccCSpline\" + str(i)\n",
    "    bintitle = \"h_{\" + str(i) + \"}\"\n",
    "    var = RooRealVar(binname, bintitle,0.1*i,2)\n",
    "    print(var.getVal())\n",
    "    #print(str(var.GetName()))\n",
    "    ROOT.SetOwnership(var, False)\n",
    "    knotlist.add(var)\n",
    "    \n",
    "knotlist.add(knotlist[len(knots)])  \n",
    "\n",
    "accspline = RooCubicSplineFun(\"accspline\", \"Spline Acceptance\", obsTime, knots, knotlist)\n",
    "ROOT.SetOwnership(accspline, False)\n",
    "#RooCubicSplineFun()"
   ]
  },
  {
   "cell_type": "code",
   "execution_count": 11,
   "metadata": {
    "collapsed": false
   },
   "outputs": [
    {
     "data": {
      "text/plain": [
       "<ROOT.RooArgList object (\"knotlist\") at 0x9664cb0>"
      ]
     },
     "execution_count": 11,
     "metadata": {},
     "output_type": "execute_result"
    }
   ],
   "source": [
    "knotlist"
   ]
  },
  {
   "cell_type": "markdown",
   "metadata": {},
   "source": [
    "### Build resolution model"
   ]
  },
  {
   "cell_type": "code",
   "execution_count": 12,
   "metadata": {
    "collapsed": true
   },
   "outputs": [],
   "source": [
    "from ROOT import RooGaussEfficiencyModel\n",
    "from ROOT import RooEffResAddModel"
   ]
  },
  {
   "cell_type": "code",
   "execution_count": 13,
   "metadata": {
    "collapsed": false
   },
   "outputs": [
    {
     "data": {
      "text/plain": [
       "\"\\n############################################################################################################\\n############################################################################################################\\n\\nparResCondMean  = RooRealVar('parResCondMean', 'parResCondMean', 1.6327315410791243e-07,1.6327315410791243e-07,1.6327315410791243e-07)\\nROOT.SetOwnership(parResCondMean, False)\\n\\nparResCond_a_1 = RooRealVar('parResCond_a_1', 'parResCond_a_1', 0.000957,0.000957,0.000957)\\nROOT.SetOwnership(parResCond_a_1, False)\\nparResCond_b_1 = RooRealVar('parResCond_b_1', 'parResCond_b_1', 3.400373600920488e-05,3.400373600920488e-05,3.400373600920488e-05)\\nROOT.SetOwnership(parResCond_b_1, False)\\n\\n\\nparResCond_a_2 = RooRealVar('parResCond_a_2', 'parResCond_a_2',0.00136,0.00136,0.00136)\\nROOT.SetOwnership(parResCond_a_2, False)\\nparResCond_b_2 = RooRealVar('parResCond_b_2', 'parResCond_b_2',7.319592857798117e-05,7.319592857798117e-05,7.319592857798117e-05)\\nROOT.SetOwnership(parResCond_b_2, False)\\n\\n\\nparResCond_a_3 = RooRealVar('parResCond_a_3', 'parResCond_a_3', 0,0,0)\\nROOT.SetOwnership(parResCond_a_3, False)\\nparResCond_b_3 = RooRealVar('parResCond_b_3', 'parResCond_b_3', 0.0003164230064816959,0.0003164230064816959,0.0003164230064816959)\\nROOT.SetOwnership(parResCond_b_3, False)\\n\\n\\n\\n\\n\\n#Definition and calculation of sigma's, related linearly on the decaytime error from the ntuple \\nparResCondSigma_1 = RooFormulaVar('parResCondSigma_1', '@0*@1+@2', RooArgList(parResCond_a_1, obsTimeErr, parResCond_b_1))\\nROOT.SetOwnership(parResCondSigma_1, False)\\n\\nparResCondSigma_2 = RooFormulaVar('parResCondSigma_2', '@0*@1+@2', RooArgList(parResCond_a_2, obsTimeErr, parResCond_b_2))\\nROOT.SetOwnership(parResCondSigma_2, False)\\n\\nparResCondSigma_3 = RooFormulaVar('parResCondSigma_3', '@0*@1+@2', RooArgList(parResCond_a_3, obsTimeErr, parResCond_b_3))\\nROOT.SetOwnership(parResCondSigma_3, False)\\n \\n\\n\\n#Fractions of particular PDF's  \\nparResCondFrac_1 = RooRealVar('parResCondFrac_1', 'parResCondFrac_1', 0.7071340952378221,0.7071340952378221,0.7071340952378221)\\nROOT.SetOwnership(parResCondFrac_1, False)\\nparResCondFrac_2 = RooRealVar('parResCondFrac_2', 'parResCondFrac_2', 0.28485890496886224,0.28485890496886224,0.28485890496886224)\\nROOT.SetOwnership(parResCondFrac_2, False)\\n \\n\\npdfEffModel1 = RooGaussEfficiencyModel('pdfEffModel1', 'pdfEffModel1', obsTime, accspline, parResCondMean, parResCondSigma_1)\\nROOT.SetOwnership(pdfEffModel1, False)\\npdfEffModel2 = RooGaussEfficiencyModel('pdfEffModel2', 'pdfEffModel2', obsTime, accspline, parResCondMean, parResCondSigma_2)\\nROOT.SetOwnership(pdfEffModel2, False)\\npdfEffModel3 = RooGaussEfficiencyModel('pdfEffModel3', 'pdfEffModel3', obsTime, accspline, parResCondMean, parResCondSigma_3)\\nROOT.SetOwnership(pdfEffModel3, False) \\n \\npdfRes = RooEffResAddModel('pdfRes', 'pdfRes', RooArgList(pdfEffModel1,pdfEffModel2, pdfEffModel3), RooArgList(parResCondFrac_1, parResCondFrac_2))\\nROOT.SetOwnership(pdfRes, False)\\npdfRes.Print('t')\\n\\n\""
      ]
     },
     "execution_count": 13,
     "metadata": {},
     "output_type": "execute_result"
    }
   ],
   "source": [
    "'''\n",
    "############################################################################################################\n",
    "############################################################################################################\n",
    "\n",
    "parResCondMean  = RooRealVar('parResCondMean', 'parResCondMean', 1.6327315410791243e-07,1.6327315410791243e-07,1.6327315410791243e-07)\n",
    "ROOT.SetOwnership(parResCondMean, False)\n",
    "\n",
    "parResCond_a_1 = RooRealVar('parResCond_a_1', 'parResCond_a_1', 0.000957,0.000957,0.000957)\n",
    "ROOT.SetOwnership(parResCond_a_1, False)\n",
    "parResCond_b_1 = RooRealVar('parResCond_b_1', 'parResCond_b_1', 3.400373600920488e-05,3.400373600920488e-05,3.400373600920488e-05)\n",
    "ROOT.SetOwnership(parResCond_b_1, False)\n",
    "\n",
    "\n",
    "parResCond_a_2 = RooRealVar('parResCond_a_2', 'parResCond_a_2',0.00136,0.00136,0.00136)\n",
    "ROOT.SetOwnership(parResCond_a_2, False)\n",
    "parResCond_b_2 = RooRealVar('parResCond_b_2', 'parResCond_b_2',7.319592857798117e-05,7.319592857798117e-05,7.319592857798117e-05)\n",
    "ROOT.SetOwnership(parResCond_b_2, False)\n",
    "\n",
    "\n",
    "parResCond_a_3 = RooRealVar('parResCond_a_3', 'parResCond_a_3', 0,0,0)\n",
    "ROOT.SetOwnership(parResCond_a_3, False)\n",
    "parResCond_b_3 = RooRealVar('parResCond_b_3', 'parResCond_b_3', 0.0003164230064816959,0.0003164230064816959,0.0003164230064816959)\n",
    "ROOT.SetOwnership(parResCond_b_3, False)\n",
    "\n",
    "\n",
    "\n",
    "\n",
    "\n",
    "#Definition and calculation of sigma's, related linearly on the decaytime error from the ntuple \n",
    "parResCondSigma_1 = RooFormulaVar('parResCondSigma_1', '@0*@1+@2', RooArgList(parResCond_a_1, obsTimeErr, parResCond_b_1))\n",
    "ROOT.SetOwnership(parResCondSigma_1, False)\n",
    "\n",
    "parResCondSigma_2 = RooFormulaVar('parResCondSigma_2', '@0*@1+@2', RooArgList(parResCond_a_2, obsTimeErr, parResCond_b_2))\n",
    "ROOT.SetOwnership(parResCondSigma_2, False)\n",
    "\n",
    "parResCondSigma_3 = RooFormulaVar('parResCondSigma_3', '@0*@1+@2', RooArgList(parResCond_a_3, obsTimeErr, parResCond_b_3))\n",
    "ROOT.SetOwnership(parResCondSigma_3, False)\n",
    " \n",
    "\n",
    "\n",
    "#Fractions of particular PDF's  \n",
    "parResCondFrac_1 = RooRealVar('parResCondFrac_1', 'parResCondFrac_1', 0.7071340952378221,0.7071340952378221,0.7071340952378221)\n",
    "ROOT.SetOwnership(parResCondFrac_1, False)\n",
    "parResCondFrac_2 = RooRealVar('parResCondFrac_2', 'parResCondFrac_2', 0.28485890496886224,0.28485890496886224,0.28485890496886224)\n",
    "ROOT.SetOwnership(parResCondFrac_2, False)\n",
    " \n",
    "\n",
    "pdfEffModel1 = RooGaussEfficiencyModel('pdfEffModel1', 'pdfEffModel1', obsTime, accspline, parResCondMean, parResCondSigma_1)\n",
    "ROOT.SetOwnership(pdfEffModel1, False)\n",
    "pdfEffModel2 = RooGaussEfficiencyModel('pdfEffModel2', 'pdfEffModel2', obsTime, accspline, parResCondMean, parResCondSigma_2)\n",
    "ROOT.SetOwnership(pdfEffModel2, False)\n",
    "pdfEffModel3 = RooGaussEfficiencyModel('pdfEffModel3', 'pdfEffModel3', obsTime, accspline, parResCondMean, parResCondSigma_3)\n",
    "ROOT.SetOwnership(pdfEffModel3, False) \n",
    " \n",
    "pdfRes = RooEffResAddModel('pdfRes', 'pdfRes', RooArgList(pdfEffModel1,pdfEffModel2, pdfEffModel3), RooArgList(parResCondFrac_1, parResCondFrac_2))\n",
    "ROOT.SetOwnership(pdfRes, False)\n",
    "pdfRes.Print('t')\n",
    "\n",
    "'''"
   ]
  },
  {
   "cell_type": "code",
   "execution_count": 14,
   "metadata": {
    "collapsed": false
   },
   "outputs": [],
   "source": [
    "from ROOT import RooGaussian, RooAddPdf\n",
    "from ROOT import RooGaussModel\n",
    "from ROOT import RooAddModel\n",
    "from ROOT import RooSimultaneous\n",
    "from ROOT import (RooArgSet,\n",
    "                  RooCategory,\n",
    "                  RooRealVar,\n",
    "                  RooDataSet,\n",
    "                  RooPlot,\n",
    "                  RooFit,\n",
    "                  RooStats,\n",
    "                  RooArgList,\n",
    "                  RooFormulaVar)\n",
    "\n",
    "from ROOT import (TFile, \n",
    "                  TH1D, \n",
    "                  TH2D, \n",
    "                  TCanvas, \n",
    "                  gStyle, \n",
    "                  TLine, \n",
    "                  TTree)\n",
    "\n",
    "\n",
    "\n",
    "Delta_TAU = RooRealVar(\"Delta_TAU\", \"Delta_TAU\", 0,-0.001,0.001, \"ps\")\n",
    "\n",
    "idxPV = RooRealVar(\"idxPV\", \"Best PV\", 0.,0., 0., \"\")\n",
    "\n",
    "#Build and add two Gaussians for describing the central distribution\n",
    "mean_1 = RooRealVar(\"mean\", \"mean\",  0.000000169550, 0.000000169550, 0.000000169550)\n",
    "\n",
    "sigma_1 = RooRealVar(\"sigma_1\", \"sigma_1\", 0.0000354456,0.0000354456,0.0000354456)\n",
    "sigma_2 = RooRealVar(\"sigma_2\", \"sigma_2\", 0.0000796985,0.0000796985,0.0000796985)\n",
    "sigma_3 = RooRealVar(\"sigma_3\", \"sigma_3\", 0.488917,0.488917,0.488917)\n",
    "\n",
    "\n",
    "signal_1 = RooGaussian(\"signal_1\",\"signal_1\",obsTime,mean_1,sigma_1)\n",
    "signal_2 = RooGaussian(\"signal_2\",\"signal_2\",obsTime,mean_1,sigma_2)\n",
    "signal_3 = RooGaussian(\"signal_3\",\"signal_3\",obsTime,mean_1,sigma_3)\n",
    "\n",
    "sig1frac = RooRealVar(\"sig1frac\",\"fraction of component 2 in signal\", 0.755166, 0.755166, 0.755166) \n",
    "sig2frac = RooRealVar(\"sig2frac\",\"fraction of component 1 in signal\", 0.240672,0.240672,0.240672) \n",
    "\n",
    "\n",
    "ROOT.SetOwnership(Delta_TAU,False)\n",
    "ROOT.SetOwnership(idxPV,False)\n",
    "ROOT.SetOwnership(mean_1,False)\n",
    "ROOT.SetOwnership(sigma_1,False)\n",
    "ROOT.SetOwnership(sigma_2,False)\n",
    "ROOT.SetOwnership(sigma_3,False)\n",
    "ROOT.SetOwnership(signal_1,False)\n",
    "ROOT.SetOwnership(signal_2,False)\n",
    "ROOT.SetOwnership(signal_3,False)\n",
    "ROOT.SetOwnership(sig2frac,False)\n",
    "ROOT.SetOwnership(sig1frac,False)\n",
    "\n",
    "\n",
    "\n",
    "\n",
    "pdfEffModel1 = RooGaussEfficiencyModel('pdfEffModel1', 'pdfEffModel1', obsTime, accspline, mean_1, sigma_1)\n",
    "ROOT.SetOwnership(pdfEffModel1, False)\n",
    "pdfEffModel2 = RooGaussEfficiencyModel('pdfEffModel2', 'pdfEffModel2', obsTime, accspline, mean_1, sigma_2)\n",
    "ROOT.SetOwnership(pdfEffModel2, False)\n",
    "pdfEffModel3 = RooGaussEfficiencyModel('pdfEffModel3', 'pdfEffModel3', obsTime, accspline, mean_1, sigma_3)\n",
    "ROOT.SetOwnership(pdfEffModel3, False) \n",
    "\n",
    "pdfRes = RooEffResAddModel('pdfRes', 'pdfRes', RooArgList(pdfEffModel1,pdfEffModel2, pdfEffModel3), RooArgList(sig1frac, sig2frac))\n",
    "ROOT.SetOwnership(pdfRes, False)\n",
    "pdfRes.Print('t') "
   ]
  },
  {
   "cell_type": "markdown",
   "metadata": {},
   "source": [
    "### Build RooDecay"
   ]
  },
  {
   "cell_type": "code",
   "execution_count": 15,
   "metadata": {
    "collapsed": true
   },
   "outputs": [],
   "source": [
    "from ROOT import RooDecay\n",
    "from ROOT import RooSimultaneous\n",
    "\n",
    "parTimeTau = RooRealVar(\"parTimeTau\", \"#it{#tau}\", 0.001520)#, 1.520, 1.520) #1.520 +- 0.004ps\n",
    "\n",
    "ROOT.SetOwnership(parTimeTau, False)\n",
    "\n",
    "pdfDecayTime = RooDecay(\"pdfDecayTime\", \"pdfDecayTime\", obsTime, parTimeTau, pdfRes, RooDecay.SingleSided)\n",
    "\n",
    "ROOT.SetOwnership(pdfDecayTime, False)"
   ]
  },
  {
   "cell_type": "code",
   "execution_count": 16,
   "metadata": {
    "collapsed": false
   },
   "outputs": [
    {
     "name": "stdout",
     "output_type": "stream",
     "text": [
      "INFO: configfile... /home/chasenberg/plots/resolution/results/params_cond_init.txt does not exist\n",
      "INFO: Fit converged\n",
      "INFO: Fit complete\n"
     ]
    }
   ],
   "source": [
    "results_dir = '/home/chasenberg/plots/resolution/results/'\n",
    "\n",
    "parameters_file_name  = 'params_cond.txt'\n",
    "parameters_init_name  = parameters_file_name.replace('.txt', '_init.txt')\n",
    "parameters_final_name = parameters_file_name.replace('.txt', '_final.txt')\n",
    "\n",
    "if os.path.exists(os.path.join(results_dir, parameters_init_name)):\n",
    "    print('INFO: Reading parameters from configfile '  + os.path.join(results_dir, parameters_init_name), flush=True)\n",
    "    data_model_cond.getParameters(data).readFromFile(os.path.join(results_dir, parameters_init_name))\n",
    "else:\n",
    "    print('INFO: configfile... '  + os.path.join(results_dir, parameters_init_name) + ' does not exist', flush=True)\n",
    "    \n",
    "cond_argset = RooArgSet(obsTimeErr)    \n",
    "\n",
    "\n",
    "fit_result = pdfDecayTime.fitTo(data, \n",
    "                                    RooFit.NumCPU(6),\n",
    "                                    RooFit.Minimizer('Minuit','minimize'),\n",
    "                                    RooFit.Hesse(True),\n",
    "                                    RooFit.Save(True),\n",
    "                                    RooFit.ConditionalObservables(cond_argset)) \n",
    "\n",
    "if fit_result:\n",
    "    fit_result.Print('v')\n",
    "    fit_result.correlationMatrix().Print('v')\n",
    "    if fit_result.status()==0:\n",
    "        print('INFO: Fit converged')\n",
    "    else:\n",
    "        print('INFO: Status '+str(fit_result.status()))\n",
    "    print('INFO: Fit complete', flush=True)\n",
    "else:\n",
    "    print('ERROR: There is no fitresult', flush=True)\n",
    " \n",
    "final_params_file = os.path.join(results_dir, parameters_final_name)\n",
    "pdfRes.getParameters(data).writeToFile(final_params_file)"
   ]
  },
  {
   "cell_type": "markdown",
   "metadata": {},
   "source": [
    "### Fit"
   ]
  },
  {
   "cell_type": "code",
   "execution_count": 17,
   "metadata": {
    "collapsed": false
   },
   "outputs": [
    {
     "name": "stdout",
     "output_type": "stream",
     "text": [
      "INFO: Start fitting\n",
      "INFO: Fit converged\n",
      "INFO: Fit complete\n"
     ]
    }
   ],
   "source": [
    "cond_argset = RooArgSet(obsTimeErr)\n",
    "parameters_final_name = 'results.txt'    \n",
    "print('INFO: Start fitting', flush=True)\n",
    "fit_result = pdfDecayTime.fitTo(data, \n",
    "                               RooFit.NumCPU(6),\n",
    "                               RooFit.Minimizer('Minuit','minimize'),\n",
    "                               RooFit.Hesse(True),\n",
    "                               RooFit.Optimize(0),\n",
    "                               RooFit.PrintEvalErrors(0),\n",
    "                               RooFit.Save(True),\n",
    "                               RooFit.ConditionalObservables(cond_argset))     \n",
    "\n",
    "if fit_result:\n",
    "    fit_result.Print('v')\n",
    "    fit_result.correlationMatrix().Print('v')\n",
    "    if fit_result.status()==0:\n",
    "        print('INFO: Fit converged')\n",
    "    else:\n",
    "        print('INFO: Status '+str(fit_result.status()))\n",
    "    print('INFO: Fit complete', flush=True)\n",
    "else:\n",
    "    print('ERROR: There is no fitresult', flush=True)\n",
    "    \n",
    "final_params_file = os.path.join(results_dir, parameters_final_name)\n",
    "pdfDecayTime.getParameters(data).writeToFile(final_params_file)"
   ]
  },
  {
   "cell_type": "markdown",
   "metadata": {},
   "source": [
    "### Plot RooDecay"
   ]
  },
  {
   "cell_type": "code",
   "execution_count": 32,
   "metadata": {
    "collapsed": false
   },
   "outputs": [
    {
     "name": "stdout",
     "output_type": "stream",
     "text": [
      "INFO: Start plotting\n",
      "INFO: Finish plotting\n"
     ]
    },
    {
     "name": "stderr",
     "output_type": "stream",
     "text": [
      "TCanvas::Constructor:0: RuntimeWarning: Deleting canvas with same name: canvas\n",
      "TCanvas::Constructor:0: RuntimeWarning: Deleting canvas with same name: can\n",
      "TFile::Append:0: RuntimeWarning: Replacing existing TH1: pulls_all (Potential memory leak).\n",
      "TFile::Append:0: RuntimeWarning: Replacing existing TH1: pulls_ok (Potential memory leak).\n",
      "TFile::Append:0: RuntimeWarning: Replacing existing TH1: pulls_danger (Potential memory leak).\n"
     ]
    },
    {
     "data": {
      "image/png": "[encoded data removed]",
      "text/plain": [
       "<ROOT.TCanvas object (\"can\") at 0xb5dd810>"
      ]
     },
     "execution_count": 32,
     "metadata": {},
     "output_type": "execute_result"
    }
   ],
   "source": [
    "print('INFO: Start plotting', flush=True)\n",
    "from ROOT import TColor\n",
    "from root_utils.lhcb_style import set_lhcb_style # Set basic LHCb plot style\n",
    "set_lhcb_style()   \n",
    "\n",
    "decay_set  = ROOT.RooArgSet(pdfDecayTime.getComponents().find('pdfDecayTime'))\n",
    "ROOT.SetOwnership(decay_set, False)\n",
    "\n",
    "# Prepare frame\n",
    "canvas = TCanvas('canvas', 'canvas', 1000, 600)\n",
    "ROOT.SetOwnership(canvas, False)\n",
    "\n",
    "plot_frame = obsTime.frame(ROOT.RooFit.Range(0.0002, 0.015), ROOT.RooFit.Bins(180))\n",
    "ROOT.SetOwnership(plot_frame, False)\n",
    "\n",
    "data.plotOn(plot_frame, ROOT.RooFit.Name('data'))\n",
    "pdfDecayTime.plotOn(plot_frame, RooFit.ProjWData(RooArgSet(obsTimeErr), data, True), RooFit.LineColor(410), ROOT.RooFit.Name('decay_fit'))\n",
    "\n",
    "### Add additional informations to the plot\n",
    "text_size = 0.05\n",
    "# Create TLegend\n",
    "legend = ROOT.TLegend(0.7, 0.7, 0.80, 0.85)\n",
    "#legend = ROOT.TLegend(0.7, 0.30, 0.80, 0.5)\n",
    "ROOT.SetOwnership(plot_frame, False)\n",
    "legend.AddEntry(plot_frame.findObject('data'), 'MC', 'p')\n",
    "legend.AddEntry(plot_frame.findObject('decay_fit'), '#it{B}^{0}#rightarrow#it{J/#psi}#it{K}_{#kern[-0.3]{S}}', 'l')\n",
    "legend.SetTextSize(text_size)\n",
    "\n",
    "# Plot pulls\n",
    "plotname = 'plot_large_range_log'\n",
    "can, _ = plot_pulls(plotname, plot_frame, drawables=[legend], save_path= subdir + '/plots/')#, logy=True)#, logy=True\n",
    "print('INFO: Finish plotting', flush=True)\n",
    "can"
   ]
  },
  {
   "cell_type": "markdown",
   "metadata": {},
   "source": [
    "## Plotting Acceptance"
   ]
  },
  {
   "cell_type": "code",
   "execution_count": 19,
   "metadata": {
    "collapsed": false
   },
   "outputs": [
    {
     "name": "stderr",
     "output_type": "stream",
     "text": [
      "TCanvas::Constructor:0: RuntimeWarning: Deleting canvas with same name: canvas\n"
     ]
    }
   ],
   "source": [
    "nbins = 50\n",
    "time_min = obsTime.getMin()\n",
    "time_max = obsTime.getMax()\n",
    "\n",
    "from ROOT import TH1D\n",
    "hist_obsTime = TH1D('hist_obsTime', 'hist_obsTime', nbins, time_min, time_max)\n",
    "ROOT.SetOwnership(hist_obsTime, False)\n",
    "\n",
    "for i in range(data.numEntries()):\n",
    "    hist_obsTime.Fill(data.get(i).getRealValue('obsTime'))\n",
    "    \n",
    "canvas = TCanvas('canvas', 'canvas', 1000, 600)\n",
    "ROOT.SetOwnership(canvas, False)\n",
    "hist_obsTime.Sumw2()\n",
    "hist_obsTime.Draw()\n",
    "#canvas   "
   ]
  },
  {
   "cell_type": "code",
   "execution_count": 20,
   "metadata": {
    "collapsed": false
   },
   "outputs": [],
   "source": [
    "from ROOT import TRandom3\n",
    "\n",
    "expo = TRandom3(1337)\n",
    "hist_exp = TH1D('hist_exp', 'hist_exp', nbins, time_min, time_max)\n",
    "\n",
    "for i in range(0,nbins):\n",
    "    hist_exp.SetBinContent(i,data.numEntries()*np.exp(-(time_min+(i+0.5)*(time_max-time_min)/nbins)/1.520))\n",
    "\n",
    "hist_exp.Sumw2()\n",
    "hist_exp.Draw()\n",
    "#canvas"
   ]
  },
  {
   "cell_type": "code",
   "execution_count": 21,
   "metadata": {
    "collapsed": false
   },
   "outputs": [
    {
     "name": "stderr",
     "output_type": "stream",
     "text": [
      "TH1D::Sumw2:0: RuntimeWarning: Sum of squares of weights structure already created\n"
     ]
    }
   ],
   "source": [
    "hist_obsTime.Sumw2()\n",
    "hist = TH1D(hist_obsTime)\n",
    "hist.Divide(hist_exp)\n",
    "norm_divided = hist.GetSumOfWeights()\n",
    "hist.Scale(1/100)\n",
    "hist.Draw()\n",
    "#canvas"
   ]
  },
  {
   "cell_type": "code",
   "execution_count": 22,
   "metadata": {
    "collapsed": false
   },
   "outputs": [
    {
     "name": "stdout",
     "output_type": "stream",
     "text": [
      "0.02393494704153745\n",
      "0.01654484546436511\n"
     ]
    }
   ],
   "source": [
    "acc_int = accspline.createIntegral(RooArgSet(obsTime))\n",
    "print(acc_int.getVal())\n",
    "scale_bin = (time_max-time_min)/nbins\n",
    "scale = (1/acc_int.getVal())*scale_bin\n",
    "print(scale)"
   ]
  },
  {
   "cell_type": "code",
   "execution_count": 23,
   "metadata": {
    "collapsed": false,
    "scrolled": false
   },
   "outputs": [
    {
     "data": {
      "image/png": "[encoded data removed]",
      "text/plain": [
       "<ROOT.TCanvas object (\"canvas_scaled\") at 0xaee4640>"
      ]
     },
     "execution_count": 23,
     "metadata": {},
     "output_type": "execute_result"
    }
   ],
   "source": [
    "from ROOT import TLine\n",
    "from ROOT import TLegend\n",
    "\n",
    "canvas_scaled = TCanvas('canvas_scaled', 'canvas_scaled', 1000, 600)\n",
    "time_frame = obsTime.frame()\n",
    "accspline.plotOn(time_frame, RooFit.Normalization(scale),RooFit.LineColor(1))\n",
    "#time_frame.addTH1(hist)\n",
    "\n",
    "coeffs = accspline.coefficients()\n",
    "basesplines = []\n",
    "lines = []\n",
    "baselist = RooArgList()\n",
    "\n",
    "for i,knot in enumerate(knots):\n",
    "    baselist = coeffs.snapshot()\n",
    "    for j in range(baselist.getSize()):\n",
    "        if j==i:\n",
    "            baselist[i] = coeffs[i] #RooRealVar('blub_'+str(i)+'_'+str(j), 'blub_'+str(i)+'_'+str(j), 1.0)#\n",
    "            ROOT.SetOwnership(baselist[i], False)\n",
    "        else:\n",
    "            baselist[i].setVal(0.0)   \n",
    "    baselist.Print()        \n",
    "    basespline = RooCubicSplineFun('csplines'+str(i),'csplines'+str(i), obsTime, knots, baselist)\n",
    "    basesplines.append(basespline)\n",
    "    basespline.plotOn(time_frame, RooFit.Normalization(scale), RooFit.LineColor(226), RooFit.LineStyle(2), RooFit.LineWidth(2), RooFit.Name('basespline'))\n",
    "    line = TLine(knot, 0, knot, time_frame.GetMaximum())\n",
    "    line.SetLineColor(96)\n",
    "    line.SetLineStyle(3)\n",
    "    lines.append(line)\n",
    "\n",
    "accspline.plotOn(time_frame, RooFit.Normalization(scale),RooFit.LineColor(1), RooFit.Name('accspline'))\n",
    "time_frame.GetYaxis().SetTitle('acceptance')\n",
    "time_frame.Draw()\n",
    "for line in lines:\n",
    "    line.Draw()\n",
    "    \n",
    "### Add additional informations to the plot\n",
    "text_size = 0.05\n",
    "# Create TLegend\n",
    "legend = ROOT.TLegend(0.75, 0.25, 0.90, 0.45)\n",
    "#legend.AddEntry(time_frame.findObject('hist_obsTime'), 'MC #it{B}^{0}#rightarrow#it{#psi}(2S)#it{K}_{#kern[-0.3]{S}}', 'p')\n",
    "legend.AddEntry(time_frame.findObject('accspline'), 'Acceptance', 'l')\n",
    "legend.AddEntry(time_frame.findObject('basespline'), 'Basesplines', 'l')\n",
    "legend.SetTextSize(text_size) \n",
    "legend.Draw()\n",
    "canvas_scaled.SaveAs('/home/chasenberg/plots/acceptance/acceptance_mc.pdf') \n",
    "canvas_scaled "
   ]
  },
  {
   "cell_type": "code",
   "execution_count": 24,
   "metadata": {
    "collapsed": true
   },
   "outputs": [],
   "source": [
    "canvas_scaled.SaveAs(subdir + '/plots/'+'acceptance.pdf')"
   ]
  },
  {
   "cell_type": "code",
   "execution_count": null,
   "metadata": {
    "collapsed": true
   },
   "outputs": [],
   "source": []
  },
  {
   "cell_type": "code",
   "execution_count": null,
   "metadata": {
    "collapsed": true
   },
   "outputs": [],
   "source": []
  },
  {
   "cell_type": "code",
   "execution_count": null,
   "metadata": {
    "collapsed": true
   },
   "outputs": [],
   "source": []
  }
 ],
 "metadata": {
  "kernelspec": {
   "display_name": "Python 3",
   "language": "python",
   "name": "python3"
  },
  "language_info": {
   "codemirror_mode": {
    "name": "ipython",
    "version": 3
   },
   "file_extension": ".py",
   "mimetype": "text/x-python",
   "name": "python",
   "nbconvert_exporter": "python",
   "pygments_lexer": "ipython3",
   "version": "3.4.4"
  }
 },
 "nbformat": 4,
 "nbformat_minor": 0
}
