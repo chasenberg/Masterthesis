{
 "cells": [
  {
   "cell_type": "code",
   "execution_count": 1,
   "metadata": {
    "collapsed": false
   },
   "outputs": [],
   "source": [
    "import ROOT\n",
    "from ROOT import gROOT, TCanvas, TF1, TFile, TTree, gRandom, TH1F\n",
    "\n",
    "from ROOT import RooRealVar, RooFormulaVar, RooVoigtian, RooChebychev, RooArgList, \\\n",
    "                 RooArgSet, RooAddPdf, RooDataSet, RooCategory, RooSimultaneous, \\\n",
    "                 RooBreitWigner, RooCBShape, RooFFTConvPdf, RooGaussian,RooExponential, \\\n",
    "                 RooBinning, kRed, kBlue, kDotted,TString,RooAbsData, RooPlot, TCut, RooAbsData, RooFit , RooStats,RooAbsReal              "
   ]
  },
  {
   "cell_type": "code",
   "execution_count": 2,
   "metadata": {
    "collapsed": false
   },
   "outputs": [
    {
     "name": "stderr",
     "output_type": "stream",
     "text": [
      "/opt/rh/miniconda/envs/py3root6/lib/python3.4/site-packages/sklearn/cross_validation.py:44: DeprecationWarning: This module was deprecated in version 0.18 in favor of the model_selection module into which all the refactored classes and functions are moved. Also note that the interface of the new CV iterators are different from that of this module. This module will be removed in 0.20.\n",
      "  \"This module will be removed in 0.20.\", DeprecationWarning)\n"
     ]
    }
   ],
   "source": [
    "%matplotlib inline\n",
    "%reload_ext autoreload\n",
    "%autoreload 2\n",
    "\n",
    "import os, sys, time, random\n",
    "\n",
    "from ROOT import TTree, TFile\n",
    "\n",
    "# from root_numpy import root2array, rec2array, array2root\n",
    "\n",
    "import pandas as pd\n",
    "import numpy as np\n",
    "import scipy \n",
    "import root_pandas as rp\n",
    "import root_numpy as ry \n",
    "\n",
    "import pandas.core.common as com\n",
    "from pandas.core.index import Index\n",
    "from pandas.tools import plotting\n",
    "from pandas.tools.plotting import scatter_matrix\n",
    "\n",
    "from tqdm import tqdm_notebook\n",
    "\n",
    "import numpy as np\n",
    "import matplotlib as mpl\n",
    "import matplotlib.pyplot as plt\n",
    "from matplotlib.backends.backend_pdf import PdfPages\n",
    "\n",
    "from sklearn import datasets\n",
    "from sklearn.tree import DecisionTreeClassifier\n",
    "from sklearn.ensemble import AdaBoostClassifier, GradientBoostingClassifier\n",
    "from sklearn.cross_validation import train_test_split\n",
    "from sklearn.preprocessing import Imputer, StandardScaler\n",
    "from sklearn.externals import joblib\n",
    "from sklearn.metrics import classification_report, roc_curve, auc, roc_auc_score\n",
    "\n",
    "sys.path.append('/home/chasenberg/repos/')\n",
    "sys.path.append('/home/chasenberg/repos/dopy')\n",
    "from dopy import * \n",
    "from dopy.dolearn.sklearn_utils import plot_roc_curve, plot_classifier_output, plot_correlations\n",
    "from dopy.dolearn.sklearn_utils import plot_feature_importances, plot_classifier_output, classify_unseen_data\n",
    "#from dopy.sklearn_utils import plot_bdt_vars\n",
    "from dopy.doplot.plotting import Plotter, Plot\n",
    "from dopy.doanalysis.df_utils import add_min_max, add_eta "
   ]
  },
  {
   "cell_type": "code",
   "execution_count": 3,
   "metadata": {
    "collapsed": true
   },
   "outputs": [],
   "source": [
    "sys.path.append('/home/chasenberg/repos/root_utils/')\n",
    "from ROOT import TColor\n",
    "import rootnotes  # For displaying TCanvas in notebooks\n",
    "from lhcb_style import set_lhcb_style # Set basic LHCb plot style\n",
    "set_lhcb_style()   \n",
    "from root_utils import plot_pulls"
   ]
  },
  {
   "cell_type": "code",
   "execution_count": 4,
   "metadata": {
    "collapsed": true
   },
   "outputs": [],
   "source": [
    "from ROOT import RooRealVar, RooExponential, RooExtendPdf, RooAddPdf, RooArgList, RooGaussian\n",
    "from ROOT import RooFormulaVar\n",
    "from ROOT import gSystem\n",
    "gSystem.Load('libRooFit.so')\n",
    "gSystem.Load('/home/chasenberg/repos/dopy/dolib/CustomShapes/libKll')\n",
    "from ROOT import RooIpatia2"
   ]
  },
  {
   "cell_type": "code",
   "execution_count": 5,
   "metadata": {
    "collapsed": true
   },
   "outputs": [],
   "source": [
    "'''mc_dir = '/fhgfs/users/chasenberg/mc/2015_2016_merged/jpsimumuks/wrong_pv/final'\n",
    "mc_file = 'Bd2JpsiKS_mc.root'\n",
    "mc_dir = os.path.join(mc_dir, mc_file)'''\n",
    "mc_path = '/fhgfs/users/chasenberg/mc/2015_2016_merged/jpsimumuks'\n",
    "mc_file = 'interim.root'\n",
    "mc_dir = os.path.join(mc_path, mc_file)"
   ]
  },
  {
   "cell_type": "code",
   "execution_count": 6,
   "metadata": {
    "collapsed": false
   },
   "outputs": [],
   "source": [
    "cut_string_mc = 'idxPV==0'\n",
    "tree_mc = 'Bd2JpsiKS'"
   ]
  },
  {
   "cell_type": "code",
   "execution_count": 7,
   "metadata": {
    "collapsed": false
   },
   "outputs": [],
   "source": [
    "signal_dataframe_wrongPV  = rp.read_root(mc_dir,key=tree_mc,where=cut_string_mc, flatten=False)\n",
    "signal_dataframe_wrongPV  = signal_dataframe_wrongPV.replace([np.inf, -np.inf], np.nan)\n",
    "signal_dataframe_wrongPV  = signal_dataframe_wrongPV.dropna()"
   ]
  },
  {
   "cell_type": "code",
   "execution_count": 8,
   "metadata": {
    "collapsed": false
   },
   "outputs": [
    {
     "data": {
      "text/plain": [
       "B0_TAGOMEGA_OS                       4.510688e-01\n",
       "B0_TAGDECISION_OS                   -3.559189e-02\n",
       "B0_TAU                               1.850807e-03\n",
       "B0_TAUERR                            3.990449e-05\n",
       "B0_TRUETAU                           1.799781e-03\n",
       "B0_FitPVConst_MinIPCHI2anyPV_flat    4.346075e+06\n",
       "idxRunNumber                         5.839348e+06\n",
       "idxEventNumber                       2.617679e+06\n",
       "idxPV                                0.000000e+00\n",
       "Delta_TAU                            5.102568e-05\n",
       "dtype: float64"
      ]
     },
     "execution_count": 8,
     "metadata": {},
     "output_type": "execute_result"
    }
   ],
   "source": [
    "signal_dataframe_wrongPV.query('idxPV==0').mean()"
   ]
  },
  {
   "cell_type": "code",
   "execution_count": 9,
   "metadata": {
    "collapsed": false
   },
   "outputs": [],
   "source": [
    "sample = signal_dataframe_wrongPV.sample(122000)"
   ]
  },
  {
   "cell_type": "code",
   "execution_count": 10,
   "metadata": {
    "collapsed": false
   },
   "outputs": [],
   "source": [
    "random_set = 'random_sample.root'\n",
    "sample.to_root(mc_path+random_set,key='Bd2JpsiKS')"
   ]
  },
  {
   "cell_type": "markdown",
   "metadata": {},
   "source": [
    "### Plot Delta_Tau"
   ]
  },
  {
   "cell_type": "code",
   "execution_count": 11,
   "metadata": {
    "collapsed": false
   },
   "outputs": [
    {
     "name": "stdout",
     "output_type": "stream",
     "text": [
      "WARNING: Range for plot Delta_TAU has been manually set with range_part_of_selection=False.\n",
      "WARNING: Efficiencies are calculated against the full complete dataset.\n"
     ]
    },
    {
     "data": {
      "image/png": "[encoded data removed]",
      "text/plain": [
       "<matplotlib.figure.Figure at 0x7f16507ce668>"
      ]
     },
     "metadata": {},
     "output_type": "display_data"
    }
   ],
   "source": [
    "signal_dataframe_wrongPV['Delta_TAU']\n",
    "p = Plotter('/home/chasenberg/plots/selection/')\n",
    "p.create_plots(signal_dataframe_wrongPV,'Delta_TAU',component_labels=['MC'])\n",
    "p['Delta_TAU'].set_range(-0.0005,0.0005)\n",
    "#bdt_plot.plot()\n",
    "p.plot()"
   ]
  },
  {
   "cell_type": "code",
   "execution_count": 12,
   "metadata": {
    "collapsed": true
   },
   "outputs": [],
   "source": [
    "#Mass variable\n",
    "#mass = RooRealVar(\"B0_M\", \"B0_M\", 5280, \"MeV\")\n",
    "Delta_TAU = RooRealVar(\"Delta_TAU\", \"Delta_TAU\", 0,-0.01,0.01, \"ps\")\n",
    "idxPV = RooRealVar(\"idxPV\", \"Best PV\", 0.,0., 0., \"\")"
   ]
  },
  {
   "cell_type": "code",
   "execution_count": 13,
   "metadata": {
    "collapsed": false
   },
   "outputs": [
    {
     "data": {
      "text/plain": [
       "632630"
      ]
     },
     "execution_count": 13,
     "metadata": {},
     "output_type": "execute_result"
    }
   ],
   "source": [
    "#criteria and information for read in mc\n",
    "data = ROOT.TFile(mc_dir)\n",
    "tree_data = data.Get('Bd2JpsiKS') \n",
    "tree_data.GetEntries()"
   ]
  },
  {
   "cell_type": "markdown",
   "metadata": {
    "collapsed": true
   },
   "source": [
    "# QuadGaussian"
   ]
  },
  {
   "cell_type": "code",
   "execution_count": 14,
   "metadata": {
    "collapsed": false
   },
   "outputs": [],
   "source": [
    "#criteria and information for read in mc\n",
    "data = ROOT.TFile(mc_path+random_set)\n",
    "tree_data = data.Get('Bd2JpsiKS') \n",
    "tree_data.GetEntries()\n",
    "ntupleVarSet =  RooArgSet(Delta_TAU,idxPV)\n",
    "dataset = RooDataSet('data','data',tree_data,ntupleVarSet)\n",
    "ROOT.SetOwnership(dataset,False)"
   ]
  },
  {
   "cell_type": "markdown",
   "metadata": {},
   "source": [
    "## Average resolution model"
   ]
  },
  {
   "cell_type": "code",
   "execution_count": 15,
   "metadata": {
    "collapsed": false
   },
   "outputs": [],
   "source": [
    "\n",
    "Delta_TAU = RooRealVar(\"Delta_TAU\", \"Delta_TAU\", 0,-0.001,0.001, \"ps\")\n",
    "\n",
    "idxPV = RooRealVar(\"idxPV\", \"Best PV\", 0.,0., 0., \"\")\n",
    "\n",
    "#Build and add two Gaussians for describing the central distribution\n",
    "mean_1 = RooRealVar(\"mean\", \"mean\", 0,-0.00001,0.00001)\n",
    "#mean_2 = RooRealVar(\"mean_1\", \"mean_1\", -0.00000472)#,-0.00000471,-0.00000475)\n",
    "sigma_1 = RooRealVar(\"sigma_1\", \"sigma_1\", 0.00003, 0.00001, 0.0005)\n",
    "sigma_2 = RooRealVar(\"sigma_2\", \"sigma_2\", 0.00005, 0.00003, 0.0008)\n",
    "sigma_3 = RooRealVar(\"sigma_3\", \"sigma_3\", 0.00007, 0.000005,0.001)\n",
    "sigma_4 = RooRealVar(\"sigma_4\", \"sigma_4\", 0.0009, 0.00008,0.001)\n",
    "\n",
    "\n",
    "signal_1 = RooGaussian(\"signal_1\",\"signal_1\",Delta_TAU,mean_1,sigma_1)\n",
    "signal_2 = RooGaussian(\"signal_2\",\"signal_2\",Delta_TAU,mean_1,sigma_2)\n",
    "signal_3 = RooGaussian(\"signal_3\",\"signal_3\",Delta_TAU,mean_1,sigma_3)\n",
    "signal_4 = RooGaussian(\"signal_4\",\"signal_4\",Delta_TAU,mean_1,sigma_4)\n",
    "\n",
    "\n",
    "  \n",
    "\n",
    "yield_1 = RooRealVar(\"yield_1\", \"yield_1\", 100000, 1,130000)\n",
    "yield_2 = RooRealVar(\"yield_2\", \"yield_2\", 10000, 1,130000)\n",
    "yield_3 = RooRealVar(\"yield_3\", \"yield_3\", 1000, 1,130000)\n",
    "yield_4 = RooRealVar(\"yield_4\", \"yield_4\", 100, 1,130000)\n",
    "\n",
    "sig1frac = RooRealVar(\"sig1frac\",\"fraction of component 2 in signal\",0.9,0,1) \n",
    "sig2frac = RooRealVar(\"sig2frac\",\"fraction of component 1 in signal\",0.5,0,0.8) \n",
    "sig3frac = RooRealVar(\"sig3frac\",\"fraction of component 1 in signal\",0.5,0,0.5) \n",
    "\n",
    "\n",
    "\n",
    "#Build complete PDF\n",
    "sig3frac = RooRealVar(\"sig2frac\",\"fraction of component 3 in signal\",0.1,0.1,0.1) \n",
    "signal = RooAddPdf(\"QuadGaussian\",\"QuadGaussian\",RooArgList(signal_1,signal_2,signal_3,signal_4),RooArgList(yield_1,yield_2,yield_3,yield_4))\n",
    "\n",
    "\n",
    "\n",
    "ROOT.SetOwnership(Delta_TAU,False)\n",
    "ROOT.SetOwnership(idxPV,False)\n",
    "ROOT.SetOwnership(mean_1,False)\n",
    "ROOT.SetOwnership(sigma_1,False)\n",
    "ROOT.SetOwnership(sigma_2,False)\n",
    "ROOT.SetOwnership(sigma_3,False)\n",
    "ROOT.SetOwnership(sigma_4,False)\n",
    "ROOT.SetOwnership(signal_1,False)\n",
    "ROOT.SetOwnership(signal_2,False)\n",
    "ROOT.SetOwnership(signal_3,False)\n",
    "ROOT.SetOwnership(signal_4,False)\n",
    "ROOT.SetOwnership(sig2frac,False)\n",
    "ROOT.SetOwnership(sig3frac,False)\n",
    "ROOT.SetOwnership(sig1frac,False)\n",
    "ROOT.SetOwnership(signal,False)\n",
    "ROOT.SetOwnership(yield_1,False)\n",
    "ROOT.SetOwnership(yield_2,False)\n",
    "ROOT.SetOwnership(yield_3,False)\n",
    "ROOT.SetOwnership(yield_4,False)"
   ]
  },
  {
   "cell_type": "code",
   "execution_count": 16,
   "metadata": {
    "collapsed": false
   },
   "outputs": [
    {
     "data": {
      "text/plain": [
       "<ROOT.RooFitResult object (\"fitresult_QuadGaussian_data\") at 0x8964f00>"
      ]
     },
     "execution_count": 16,
     "metadata": {},
     "output_type": "execute_result"
    }
   ],
   "source": [
    "signal.fitTo(dataset, RooFit.NumCPU(6),\n",
    "            RooFit.Minimizer('Minuit','minimize'),\n",
    "            RooFit.Hesse(True),\n",
    "            RooFit.Optimize(0),\n",
    "            RooFit.PrintEvalErrors(0),\n",
    "            RooFit.Save(True),\n",
    "            RooFit.Extended()) "
   ]
  },
  {
   "cell_type": "code",
   "execution_count": 17,
   "metadata": {
    "collapsed": false
   },
   "outputs": [
    {
     "data": {
      "text/plain": [
       "(-4.0130351685286934e-07,\n",
       " 2.7215974051358678e-05,\n",
       " 4.955490692496659e-05,\n",
       " 0.00010230918716968782,\n",
       " 0.000999999968866561,\n",
       " 0.9,\n",
       " 0.5,\n",
       " 0.1)"
      ]
     },
     "execution_count": 17,
     "metadata": {},
     "output_type": "execute_result"
    }
   ],
   "source": [
    "mean_1.getVal(),sigma_1.getValV(),sigma_2.getValV(),sigma_3.getValV(),sigma_4.getValV(),sig1frac.getValV(),sig2frac.getValV(),sig3frac.getValV()"
   ]
  },
  {
   "cell_type": "code",
   "execution_count": 18,
   "metadata": {
    "collapsed": false
   },
   "outputs": [
    {
     "data": {
      "image/png": "[encoded data removed]",
      "text/plain": [
       "<ROOT.TCanvas object (\"can\") at 0x8a5e130>"
      ]
     },
     "execution_count": 18,
     "metadata": {},
     "output_type": "execute_result"
    }
   ],
   "source": [
    "signal# Prepare frame\n",
    "%matplotlib inline  \n",
    "import ROOT\n",
    "import sys\n",
    "sys.path.append('/home/chasenberg/repos/root_utils/')\n",
    "from ROOT import TColor\n",
    "import rootnotes  # For displaying TCanvas in notebooks\n",
    "from lhcb_style import set_lhcb_style # Set basic LHCb plot style\n",
    "\n",
    "from root_utils import plot_pulls\n",
    "\n",
    "frame = Delta_TAU.frame(ROOT.RooFit.Bins(180))\n",
    "\n",
    "dataset.plotOn(frame, ROOT.RooFit.Name(\"data1\"))\n",
    "\n",
    "#model.plotOn( frame , ROOT.RooFit.Components(\"signal\"), ROOT.RooFit.LineStyle(kDotted), ROOT.RooFit.LineColor(kRed))\n",
    "\n",
    "signal.plotOn( frame , ROOT.RooFit.Components(\"signal_1\"), ROOT.RooFit.LineStyle(kDotted), ROOT.RooFit.LineColor(400))#\n",
    "signal.plotOn( frame , ROOT.RooFit.Components(\"signal_2\"), ROOT.RooFit.LineStyle(kDotted), ROOT.RooFit.LineColor(kBlue))#model.plotOn( frame , ROOT.RooFit.Components(\"signal_2\"), ROOT.RooFit.LineStyle(kDotted), ROOT.RooFit.LineColor(416))\n",
    "\n",
    "signal.plotOn( frame , ROOT.RooFit.Components(\"signal_3\"), ROOT.RooFit.LineStyle(kDotted), ROOT.RooFit.LineColor(400))#\n",
    "signal.plotOn( frame , ROOT.RooFit.Components(\"signal_4\"), ROOT.RooFit.LineStyle(kDotted), ROOT.RooFit.LineColor(kBlue))#\n",
    "signal.plotOn(frame, ROOT.RooFit.Name(\"fit\"))\n",
    "### Add additional informations to the plot\n",
    "text_size = 0.035\n",
    "# Create TLegend\n",
    "legend = ROOT.TLegend(0.7, 0.75, 0.9, 0.9, '')\n",
    "legend.AddEntry(frame.findObject('data1'), \"Data points\", \"p\");\n",
    "legend.AddEntry(frame.findObject('fit'), 'Fit', 'l')\n",
    "legend.SetTextSize(text_size)\n",
    "\n",
    "# Create TLatex\n",
    "'''latex = ROOT.TLatex(0.19, 0.8, '#splitline{Toy MC example}' + \\\n",
    "                                 '{#it{f}(x) = #frac{1}{#sigma #sqrt{2 #pi}}' + \\\n",
    "                                 ' e^{- 0.5 #left( #frac{x - #mu}{#sigma} #right)^{2}}}')'''\n",
    "#latex.SetTextSize(text_size)\n",
    "\n",
    "# Plot pulls\n",
    "can, _ = plot_pulls('test', frame, legend=legend,logy=True)#, latex=latex)\n",
    "can.SaveAs(\"/home/chasenberg/plots/resolution/average_resolution.pdf\")\n",
    "can  # To display plot in notebooks"
   ]
  },
  {
   "cell_type": "code",
   "execution_count": 19,
   "metadata": {
    "collapsed": false
   },
   "outputs": [],
   "source": [
    "Delta_TAU.setRange('small_range',-0.0005,0.0005)\n",
    "range_name = 'small_range'\n",
    "int_set = RooArgSet('int_set')\n",
    "norm_set = RooArgSet(signal.getObservables(dataset))\n",
    "norm_set.remove(Delta_TAU, True, True)\n",
    "norm_set.Print('v')\n",
    "test = signal_1.createIntegral(int_set, RooFit.NormSet(norm_set), RooFit.Range(range_name))"
   ]
  },
  {
   "cell_type": "code",
   "execution_count": 20,
   "metadata": {
    "collapsed": false
   },
   "outputs": [
    {
     "data": {
      "text/plain": [
       "0.9998912962401867"
      ]
     },
     "execution_count": 20,
     "metadata": {},
     "output_type": "execute_result"
    }
   ],
   "source": [
    "test.getVal()"
   ]
  },
  {
   "cell_type": "code",
   "execution_count": 21,
   "metadata": {
    "collapsed": false
   },
   "outputs": [
    {
     "data": {
      "text/plain": [
       "-0.0005"
      ]
     },
     "execution_count": 21,
     "metadata": {},
     "output_type": "execute_result"
    }
   ],
   "source": [
    "min_res   = Delta_TAU.getBinning(range_name).binLow(1)\n",
    "min_res"
   ]
  },
  {
   "cell_type": "markdown",
   "metadata": {},
   "source": [
    "## Build per event resolution model \n"
   ]
  },
  {
   "cell_type": "code",
   "execution_count": null,
   "metadata": {
    "collapsed": false
   },
   "outputs": [],
   "source": [
    "from ROOT import RooGaussian, RooAddPdf\n",
    "\n",
    "obsTimeErr = RooRealVar(\"B0_TAUERR\", \"obsTimeErr\", 0,-0.001,0.001, \"ps\")\n",
    "obsTimeRes = RooRealVar(\"Delta_TAU\", \"obsTimeRes\", 0,-0.001,0.001, \"ps\")\n",
    "\n",
    "\n",
    "parResCondMean  = RooRealVar('parResCondMean', 'parResCondMean', 0.0, -5.0, 5.0)\n",
    "ROOT.SetOwnership(parResCondMean, False)\n",
    "\n",
    "parResCond_a_1 = RooRealVar('parResCond_a_1', 'parResCond_a_1', 4.0, 0.1, 10)\n",
    "ROOT.SetOwnership(parResCond_a_1, False)\n",
    "parResCond_b_1 = RooRealVar('parResCond_b_1', 'parResCond_b_1', 0.02, -0.0000005, 0.5)\n",
    "ROOT.SetOwnership(parResCond_b_1, False)\n",
    "\n",
    "\n",
    "parResCond_a_2 = RooRealVar('parResCond_a_2', 'parResCond_a_2',25, 0.0, 30)\n",
    "ROOT.SetOwnership(parResCond_a_2, False)\n",
    "parResCond_b_2 = RooRealVar('parResCond_b_2', 'parResCond_b_2', 0.02, 0., 0.5)\n",
    "ROOT.SetOwnership(parResCond_b_2, False)\n",
    "\n",
    "\n",
    "\n",
    "parResCond_a_3 = RooRealVar('parResCond_a_3', 'parResCond_a_3', 2, 0.1, 20)\n",
    "ROOT.SetOwnership(parResCond_a_3, False)\n",
    "parResCond_b_3 = RooRealVar('parResCond_b_3', 'parResCond_b_3', 0.1, 0, 0.5)\n",
    "ROOT.SetOwnership(parResCond_b_3, False)\n",
    "\n",
    "\n",
    "parResCond_a_4 = RooRealVar('parResCond_a_4', 'parResCond_a_4', 0.0001,0.0001,0.0001)\n",
    "ROOT.SetOwnership(parResCond_a_4, False)\n",
    "parResCond_b_4 = RooRealVar('parResCond_b_4', 'parResCond_b_4', 0.5, 0.0,8)\n",
    "ROOT.SetOwnership(parResCond_b_4, False)\n",
    "\n",
    "\n",
    "#Definition and calculation of sigma's, related linearly on the decaytime error from the ntuple \n",
    "parResCondSigma_1 = RooFormulaVar('parResCondSigma_1', '@0*@1+@2', RooArgList(parResCond_a_1, obsTimeErr, parResCond_b_1))\n",
    "ROOT.SetOwnership(parResCondSigma_1, False)\n",
    "\n",
    "parResCondSigma_2 = RooFormulaVar('parResCondSigma_2', '@0*@1+@2', RooArgList(parResCond_a_2, obsTimeErr, parResCond_b_2))\n",
    "ROOT.SetOwnership(parResCondSigma_2, False)\n",
    "\n",
    "parResCondSigma_3 = RooFormulaVar('parResCondSigma_3', '@0*@1+@2', RooArgList(parResCond_a_3, obsTimeErr, parResCond_b_3))\n",
    "ROOT.SetOwnership(parResCondSigma_3, False)\n",
    "\n",
    "parResCondSigma_4 = RooFormulaVar('parResCondSigma_4', '@0*@1+@2', RooArgList(parResCond_a_4, obsTimeErr, parResCond_b_4))\n",
    "ROOT.SetOwnership(parResCondSigma_4, False)\n",
    "\n",
    "#Fractions of particular PDF's  \n",
    "parResCondFrac_1 = RooRealVar('parResCondFrac_1', 'parResCondFrac_1', 0.1, 0.01, 0.9)\n",
    "ROOT.SetOwnership(parResCondFrac_1, False)\n",
    "parResCondFrac_2 = RooRealVar('parResCondFrac_2', 'parResCondFrac_2', 0.05, 0.01, 0.7)\n",
    "ROOT.SetOwnership(parResCondFrac_2, False)\n",
    "parResCondFrac_3 = RooRealVar('parResCondFrac_3', 'parResCondFrac_3', 0.01, 1e-6, 1)\n",
    "ROOT.SetOwnership(parResCondFrac_3, False)\n",
    "\n",
    "\n",
    "#Defition of the four Gaussians     \n",
    "pdfGaussianCond_1 = RooGaussian('pdfGaussianCond_1', 'pdfGaussianCond_1', obsTimeRes, parResCondMean, parResCondSigma_1)\n",
    "ROOT.SetOwnership(pdfGaussianCond_1, False)\n",
    "    \n",
    "pdfGaussianCond_2 = RooGaussian('pdfGaussianCond_2', 'pdfGaussianCond_2', obsTimeRes, parResCondMean, parResCondSigma_2)\n",
    "ROOT.SetOwnership(pdfGaussianCond_2, False)\n",
    "    \n",
    "pdfGaussianCond_3 = RooGaussian('pdfGaussianCond_3', 'pdfGaussianCond_3', obsTimeRes, parResCondMean, parResCondSigma_3)\n",
    "ROOT.SetOwnership(pdfGaussianCond_3, False)\n",
    "\n",
    "pdfGaussianCond_4 = RooGaussian('pdfGaussianCond_4', 'pdfGaussianCond_4', obsTimeRes, parResCondMean, parResCondSigma_4)\n",
    "ROOT.SetOwnership(pdfGaussianCond_4, False)\n",
    "\n",
    "\n",
    "#Use yields instead of fractions \n",
    "yield_1 = RooRealVar(\"yield_1\", \"yield_1\", 56745, 55000,70000)\n",
    "yield_2 = RooRealVar(\"yield_2\", \"yield_2\", 58406, 20000,60000)\n",
    "yield_3 = RooRealVar(\"yield_3\", \"yield_3\", 10000, 1,20000)\n",
    "yield_4 = RooRealVar(\"yield_4\", \"yield_4\", 1000, 10,10000)\n",
    "\n",
    "\n",
    "# including four components -> 4 Gaussians\n",
    "pdfGaussianCond_sum = RooAddPdf('pdfGaussianCond_sum', 'pdfGaussianCond_sum', RooArgList(pdfGaussianCond_1, pdfGaussianCond_2, pdfGaussianCond_3, pdfGaussianCond_4  ), RooArgList(parResCondFrac_1,parResCondFrac_2,parResCondFrac_3))\n",
    "ROOT.SetOwnership(pdfGaussianCond_sum, False)\n",
    "\n",
    "\n",
    "data_model_cond = pdfGaussianCond_sum\n",
    "data_model_cond.Print('t')"
   ]
  },
  {
   "cell_type": "code",
   "execution_count": null,
   "metadata": {
    "collapsed": false
   },
   "outputs": [],
   "source": [
    "results_dir = '/home/chasenberg/plots/resolution/results/'\n",
    "\n",
    "parameters_file_name  = 'params_cond.txt'\n",
    "parameters_init_name  = parameters_file_name.replace('.txt', '_init.txt')\n",
    "parameters_final_name = parameters_file_name.replace('.txt', '_final.txt')\n",
    "\n",
    "if os.path.exists(os.path.join(results_dir, parameters_init_name)):\n",
    "    print('INFO: Reading parameters from configfile '  + os.path.join(results_dir, parameters_init_name), flush=True)\n",
    "    data_model_cond.getParameters(data).readFromFile(os.path.join(results_dir, parameters_init_name))\n",
    "else:\n",
    "    print('INFO: configfile... '  + os.path.join(results_dir, parameters_init_name) + ' does not exist', flush=True)\n",
    "    \n",
    "cond_argset = RooArgSet(obsTimeErr)    \n",
    "cond_argset.remove(obsTimeErr, True, True)\n",
    "\n",
    "fit_result = data_model_cond.fitTo(dataset, \n",
    "                                    RooFit.NumCPU(6),\n",
    "                                    RooFit.Minimizer('Minuit','minimize'),\n",
    "                                    RooFit.Hesse(True),\n",
    "                                    RooFit.Save(True))#,\n",
    "                                    #RooFit.ConditionalObservables(cond_argset)) \n",
    "\n",
    "if fit_result:\n",
    "    fit_result.Print('v')\n",
    "    fit_result.correlationMatrix().Print('v')\n",
    "    if fit_result.status()==0:\n",
    "        print('INFO: Fit converged')\n",
    "    else:\n",
    "        print('INFO: Status '+str(fit_result.status()))\n",
    "    print('INFO: Fit complete', flush=True)\n",
    "else:\n",
    "    print('ERROR: There is no fitresult', flush=True)\n",
    " \n",
    "final_params_file = os.path.join(results_dir, parameters_final_name)\n",
    "data_model_cond.getParameters(dataset).writeToFile(final_params_file)"
   ]
  },
  {
   "cell_type": "code",
   "execution_count": null,
   "metadata": {
    "collapsed": false
   },
   "outputs": [],
   "source": [
    "'''obsTimeErr.setRange('small_range',-0.0005,0.0005)\n",
    "range_name = 'small_range'\n",
    "\n",
    "\n",
    "def plot_like_a_pro(n_steps, n_bins, range_name, plot_var, data_model, data_set):\n",
    "    \n",
    "    min_res   = plot_var.getBinning(range_name).binLow(1)\n",
    "    max_res   = plot_var.getBinning(range_name).binHigh(n_bins-1)\n",
    "    increment = (max_res - min_res)/n_steps\n",
    "    width     = (max_res - min_res)/n_bins\n",
    "    \n",
    "    canvas = TCanvas('canvas', 'canvas', 1000, 600)\n",
    "    frame = plot_var.frame(min_res, max_res)\n",
    "    data_set.plotOn(frame, ROOT.RooFit.Name('data'))\n",
    "    \n",
    "    int_set = RooArgSet('int_set')\n",
    "    int_set.Print('v')\n",
    "\n",
    "    norm_set = RooArgSet(data_model.getObservables(data_set))\n",
    "    norm_set.remove(Delta_TAU, True, True)\n",
    "    norm_set.Print('v')\n",
    "   \n",
    "    RooAbsReal.defaultIntegratorConfig().setEpsAbs(1e-3)\n",
    "    RooAbsReal.defaultIntegratorConfig().setEpsRel(1e-3)\n",
    "    \n",
    "    integral_gauss_1        = signal_1.createIntegral(int_set, RooFit.NormSet(norm_set), RooFit.Range(range_name))\n",
    "    integral_gauss_2        = signal_2.createIntegral(int_set, RooFit.NormSet(norm_set), RooFit.Range(range_name))\n",
    "    integral_gauss_3        = signal_3.createIntegral(int_set, RooFit.NormSet(norm_set), RooFit.Range(range_name))\n",
    "    integral_gauss_4        = signal_4.createIntegral(int_set, RooFit.NormSet(norm_set), RooFit.Range(range_name))\n",
    "    \n",
    "    value_gauss_1 = 0\n",
    "    value_gauss_2 = 0\n",
    "    value_gauss_3 = 0\n",
    "    value_gauss_4 = 0\n",
    "    obs_value = min_res+0.5*increment\n",
    "    \n",
    "    x_vals = np.zeros(n_steps)\n",
    "    y_vals = np.zeros(n_steps)\n",
    "    y_vals_gauss_narrow = np.zeros(n_steps)\n",
    "    y_vals_gauss_1 = np.zeros(n_steps)\n",
    "    y_vals_gauss_2 = np.zeros(n_steps)\n",
    "    y_vals_gauss_3 = np.zeros(n_steps)\n",
    "    y_vals_gauss_4 = np.zeros(n_steps)\n",
    "    entriesintree = data_set.numEntries()\n",
    "    \n",
    "    for i in range(0,n_steps):\n",
    "        #print('step: ' + str(i))\n",
    "        plot_var.setVal(obs_value)\n",
    "        value_gauss_1 = 0\n",
    "        value_gauss_2 = 0\n",
    "        value_gauss_3 = 0\n",
    "        value_gauss_4 = 0\n",
    "        for j in range(0,entriesintree):\n",
    "            argset = data_set.get(j)\n",
    "            parResCondFrac_1 = yield_1.getVal() / (yield_1.getVal()+yield_2.getVal()+yield_3.getVal()+yield_4.getVal())\n",
    "            parResCondFrac_2 = yield_2.getVal() / (yield_1.getVal()+yield_2.getVal()+yield_3.getVal()+yield_4.getVal())\n",
    "            parResCondFrac_3 = yield_3.getVal() / (yield_1.getVal()+yield_2.getVal()+yield_3.getVal()+yield_4.getVal())\n",
    "            parResCondFrac_4 = yield_4.getVal() / (yield_1.getVal()+yield_2.getVal()+yield_3.getVal()+yield_4.getVal())\n",
    "            obsTimeErr.setVal(argset.getRealValue('obsTimeErr'))\n",
    "            value_gauss_1   += integral_gauss_1.getVal() * width * parResCondFrac_1\n",
    "            value_gauss_2    += integral_gauss_2.getVal() * width * parResCondFrac_2\n",
    "            value_gauss_3   += integral_gauss_3.getVal() * width * parResCondFrac_3\n",
    "            value_gauss_4 += integral_gauss_4.getVal() * width * parResCondFrac_4\n",
    "\n",
    "\n",
    "        x_vals[i] = obs_value\n",
    "        y_vals[i] = value_gauss_1 +value_gauss_2 + value_gauss_3 +value_gauss_4\n",
    "        y_vals_gauss_1[i] = value_gauss_1\n",
    "        y_vals_gauss_2[i] = value_gauss_2\n",
    "        y_vals_gauss_3[i] = value_gauss_3\n",
    "        y_vals_gauss_4[i] = value_gauss_4\n",
    "        obs_value += increment\n",
    "        \n",
    "    graph        = ROOT.TGraph(len(x_vals), x_vals, y_vals)    \n",
    "    graph_1   = ROOT.TGraph(len(x_vals), x_vals, y_vals_gauss_1)\n",
    "    graph_2    = ROOT.TGraph(len(x_vals), x_vals, y_vals_gauss_2)\n",
    "    graph_3 = ROOT.TGraph(len(x_vals), x_vals, y_vals_gauss_3)\n",
    "    graph_4 = ROOT.TGraph(len(x_vals), x_vals, y_vals_gauss_4)\n",
    "\n",
    "\n",
    "    one_list = ROOT.RooList()\n",
    "    one_list.Add(graph_1)\n",
    "    one_curve = ROOT.RooCurve()\n",
    "    one_curve.Merge(one_list)\n",
    "    one_curve.SetLineStyle(3)\n",
    "    one_curve.SetLineColor(410)\n",
    "    frame.addPlotable(one_curve, 'same')\n",
    "\n",
    "    two_list = ROOT.RooList()\n",
    "    two_list.Add(graph_2)\n",
    "    two_curve = ROOT.RooCurve()\n",
    "    two_curve.Merge(two_list)\n",
    "    two_curve.SetLineStyle(8)\n",
    "    two_curve.SetLineColor(96)\n",
    "    frame.addPlotable(two_curve, 'same')\n",
    "\n",
    "    three_list = ROOT.RooList()\n",
    "    three_list.Add(graph_3)\n",
    "    three_curve = ROOT.RooCurve()\n",
    "    three_curve.Merge(three_list)\n",
    "    three_curve.SetLineStyle(2)\n",
    "    three_curve.SetLineColor(226)\n",
    "    frame.addPlotable(three_curve, 'same')\n",
    "\n",
    "    four_list = ROOT.RooList()\n",
    "    four_list.Add(graph_4)\n",
    "    four_curve = ROOT.RooCurve()\n",
    "    four_curve.Merge(four_list)\n",
    "    four_curve.SetLineStyle(2)\n",
    "    four_curve.SetLineColor(226)\n",
    "    frame.addPlotable(four_curve, 'same')\n",
    "\n",
    "\n",
    "    curve_list = ROOT.RooList()\n",
    "    curve_list.Add(graph)\n",
    "    curve = ROOT.RooCurve()\n",
    "    curve.Merge(curve_list)\n",
    "    curve.SetLineColor(1)\n",
    "    frame.addPlotable(curve, 'same')\n",
    "\n",
    "    #frame.SetMinimum(0)\n",
    "    #frame.SetMaximum(20)\n",
    "\n",
    "    # Plot pulls\n",
    "    legend = ROOT.TLegend(0.7, 0.7, 0.80, 0.85)\n",
    "    legend.AddEntry(frame.findObject('data'), 'MC', 'p')\n",
    "    subdir = \"/home/chasenberg/plots/resolution\"\n",
    "    plotname = 'plot_'+ range_name\n",
    "    can, _ = plot_pulls(plotname, frame, save_path= subdir, logy=True) \n",
    "    print('INFO: Finish plotting', flush=True)  \n",
    "    can    '''"
   ]
  },
  {
   "cell_type": "code",
   "execution_count": null,
   "metadata": {
    "collapsed": false
   },
   "outputs": [],
   "source": [
    "#plot_like_a_pro(100, 10, range_name, Delta_TAU, obsTimeRes, dataset)"
   ]
  },
  {
   "cell_type": "markdown",
   "metadata": {
    "collapsed": true
   },
   "source": [
    "## Plot not like a pro"
   ]
  },
  {
   "cell_type": "code",
   "execution_count": null,
   "metadata": {
    "collapsed": false
   },
   "outputs": [],
   "source": [
    "signal# Prepare frame\n",
    "%matplotlib inline  \n",
    "import ROOT\n",
    "import sys\n",
    "sys.path.append('/home/chasenberg/repos/root_utils/')\n",
    "from ROOT import TColor\n",
    "import rootnotes  # For displaying TCanvas in notebooks\n",
    "from lhcb_style import set_lhcb_style # Set basic LHCb plot style\n",
    "\n",
    "from root_utils import plot_pulls\n",
    "\n",
    "frame = Delta_TAU.frame(ROOT.RooFit.Bins(180))\n",
    "\n",
    "dataset.plotOn(frame, ROOT.RooFit.Name(\"data1\"))\n",
    "\n",
    "#model.plotOn( frame , ROOT.RooFit.Components(\"signal\"), ROOT.RooFit.LineStyle(kDotted), ROOT.RooFit.LineColor(kRed))\n",
    "\n",
    "data_model_cond.plotOn( frame , ROOT.RooFit.Components(\"pdfGaussianCond_1\"), ROOT.RooFit.LineStyle(kDotted), ROOT.RooFit.LineColor(400))#\n",
    "data_model_cond.plotOn( frame , ROOT.RooFit.Components(\"pdfGaussianCond_2\"), ROOT.RooFit.LineStyle(kDotted), ROOT.RooFit.LineColor(kBlue))#model.plotOn( frame , ROOT.RooFit.Components(\"signal_2\"), ROOT.RooFit.LineStyle(kDotted), ROOT.RooFit.LineColor(416))\n",
    "\n",
    "data_model_cond.plotOn( frame , ROOT.RooFit.Components(\"pdfGaussianCond_3\"), ROOT.RooFit.LineStyle(kDotted), ROOT.RooFit.LineColor(400))#\n",
    "data_model_cond.plotOn( frame , ROOT.RooFit.Components(\"pdfGaussianCond_4\"), ROOT.RooFit.LineStyle(kDotted), ROOT.RooFit.LineColor(kBlue))#\n",
    "data_model_cond.plotOn(frame, ROOT.RooFit.Name(\"fit\"))\n",
    "# Add additional informations to the plot\n",
    "text_size = 0.035\n",
    "# Create TLegend\n",
    "legend = ROOT.TLegend(0.7, 0.75, 0.9, 0.9, '')\n",
    "legend.AddEntry(frame.findObject('data1'), \"Data points\", \"p\");\n",
    "legend.AddEntry(frame.findObject('fit'), 'Fit', 'l')\n",
    "legend.SetTextSize(text_size)\n",
    "\n",
    "# Create TLatex\n",
    "'''latex = ROOT.TLatex(0.19, 0.8, '#splitline{Toy MC example}' + \\\n",
    "                                 '{#it{f}(x) = #frac{1}{#sigma #sqrt{2 #pi}}' + \\\n",
    "                                 ' e^{- 0.5 #left( #frac{x - #mu}{#sigma} #right)^{2}}}')'''\n",
    "#latex.SetTextSize(text_size)\n",
    "\n",
    "# Plot pulls\n",
    "can, _ = plot_pulls('test', frame, legend=legend,logy=True)#, latex=latex)\n",
    "can.SaveAs(\"/home/chasenberg/plots/resolution/average_resolution.pdf\")\n",
    "can  # To display plot in notebookspdfGaussianCond_1"
   ]
  },
  {
   "cell_type": "code",
   "execution_count": null,
   "metadata": {
    "collapsed": true
   },
   "outputs": [],
   "source": []
  },
  {
   "cell_type": "code",
   "execution_count": null,
   "metadata": {
    "collapsed": true
   },
   "outputs": [],
   "source": []
  }
 ],
 "metadata": {
  "kernelspec": {
   "display_name": "Python 3",
   "language": "python",
   "name": "python3"
  },
  "language_info": {
   "codemirror_mode": {
    "name": "ipython",
    "version": 3
   },
   "file_extension": ".py",
   "mimetype": "text/x-python",
   "name": "python",
   "nbconvert_exporter": "python",
   "pygments_lexer": "ipython3",
   "version": "3.4.4"
  }
 },
 "nbformat": 4,
 "nbformat_minor": 0
}
