{
 "cells": [
  {
   "cell_type": "markdown",
   "metadata": {},
   "source": [
    "## Notebook for 1D BDT scan and calculating FOMs in Bd2psi2SKS on data\n"
   ]
  },
  {
   "cell_type": "code",
   "execution_count": 1,
   "metadata": {
    "collapsed": false
   },
   "outputs": [],
   "source": [
    "%matplotlib inline\n",
    "%load_ext autoreload\n",
    "%autoreload 2\n",
    "import sys\n",
    "sys.path.append('/home/chasenberg/repos/')\n",
    "import os\n",
    "import sys\n",
    "import ROOT\n",
    "from ROOT import TFile, TH1D, TH2D, TCanvas, gStyle, TLine, TTree\n",
    "from ROOT import (RooArgSet, RooRealVar, RooDataSet, RooPlot, RooFit, RooStats, RooArgList)\n",
    "import root_pandas as rp\n",
    "import root_numpy as ry \n",
    "\n",
    "import math\n",
    "import itertools\n",
    "import numpy as np\n",
    "import matplotlib as mpl\n",
    "import matplotlib.pyplot as plt\n",
    "from matplotlib.backends.backend_pdf import PdfPages\n",
    "\n",
    "from root_pandas import read_root\n",
    "import pandas as pd\n",
    "\n",
    "sys.path.append('/home/vmueller/repos')\n",
    "from dopy.doroot.root_utils import read_roodataset_from_tree, plot_pulls\n",
    "from dopy.doplot.plotting import Plotter, Plot                "
   ]
  },
  {
   "cell_type": "code",
   "execution_count": 2,
   "metadata": {
    "collapsed": false
   },
   "outputs": [],
   "source": [
    "\n",
    "from ROOT import RooRealVar, RooExponential, RooExtendPdf, RooAddPdf, RooArgList, RooGaussian\n",
    "from ROOT import RooFormulaVar\n",
    "from ROOT import gSystem\n",
    "gSystem.Load('libRooFit.so')\n",
    "gSystem.Load('/home/chasenberg/repos/dopy/dolib/CustomShapes/libKll')\n",
    "from ROOT import RooIpatia2"
   ]
  },
  {
   "cell_type": "markdown",
   "metadata": {},
   "source": [
    "### Read ROOT file"
   ]
  },
  {
   "cell_type": "code",
   "execution_count": 3,
   "metadata": {
    "collapsed": false
   },
   "outputs": [],
   "source": [
    "dataset_file_name = '/fhgfs/users/chasenberg/mc/2015_2016_merged/jpsimumuks/Bd2JpsiKS_pv_selected.root'"
   ]
  },
  {
   "cell_type": "code",
   "execution_count": 4,
   "metadata": {
    "collapsed": true
   },
   "outputs": [],
   "source": [
    "branches = [\n",
    "            'B0_TAGOMEGA_OS',\n",
    "            'B0_TAGDECISION_OS',\n",
    "            'B0_FitPVConst_tau_flat',\n",
    "            'B0_FitPVConst_tauErr_flat',\n",
    "            'B0_TRUETAU',\n",
    "            'B0_FitPVConst_MinIPCHI2anyPV_flat',\n",
    "            'idxRunNumber',\n",
    "            'idxEventNumber',\n",
    "            'idxPV',\n",
    "            'Delta_TAU',\n",
    "            'BDTresponse_wrongPV'\n",
    "            ]\n"
   ]
  },
  {
   "cell_type": "code",
   "execution_count": 5,
   "metadata": {
    "collapsed": false
   },
   "outputs": [],
   "source": [
    "tree_mc = 'Bd2JpsiKS'\n",
    "signal_dataframe_wrongPV  = rp.read_root(dataset_file_name,key=tree_mc,columns=branches, flatten=False)\n",
    "signal_dataframe_wrongPV  = signal_dataframe_wrongPV.replace([np.inf, -np.inf], np.nan)\n",
    "signal_dataframe_wrongPV  = signal_dataframe_wrongPV.dropna()"
   ]
  },
  {
   "cell_type": "code",
   "execution_count": 6,
   "metadata": {
    "collapsed": false
   },
   "outputs": [
    {
     "data": {
      "text/plain": [
       "501573"
      ]
     },
     "execution_count": 6,
     "metadata": {},
     "output_type": "execute_result"
    }
   ],
   "source": [
    "len(signal_dataframe_wrongPV['BDTresponse_wrongPV'])"
   ]
  },
  {
   "cell_type": "code",
   "execution_count": 33,
   "metadata": {
    "collapsed": false
   },
   "outputs": [
    {
     "data": {
      "text/plain": [
       "<matplotlib.axes._subplots.AxesSubplot at 0x7ff8ddd9d6d8>"
      ]
     },
     "execution_count": 33,
     "metadata": {},
     "output_type": "execute_result"
    },
    {
     "data": {
      "image/png": "[encoded data removed]",
      "text/plain": [
       "<matplotlib.figure.Figure at 0x7ff8dde36fd0>"
      ]
     },
     "metadata": {},
     "output_type": "display_data"
    }
   ],
   "source": [
    "import seaborn as sns\n",
    "sns.distplot(signal_dataframe_wrongPV['B0_FitPVConst_MinIPCHI2anyPV_flat'])"
   ]
  },
  {
   "cell_type": "markdown",
   "metadata": {},
   "source": [
    "## Check correlations"
   ]
  },
  {
   "cell_type": "code",
   "execution_count": null,
   "metadata": {
    "collapsed": true
   },
   "outputs": [],
   "source": [
    "signal_dataframe_wrongPV"
   ]
  },
  {
   "cell_type": "code",
   "execution_count": 17,
   "metadata": {
    "collapsed": false
   },
   "outputs": [
    {
     "data": {
      "text/plain": [
       "0.00028997057"
      ]
     },
     "execution_count": 17,
     "metadata": {},
     "output_type": "execute_result"
    }
   ],
   "source": [
    "signal_dataframe_wrongPV.B0_FitPVConst_MinIPCHI2anyPV_flat.min()"
   ]
  },
  {
   "cell_type": "code",
   "execution_count": 46,
   "metadata": {
    "collapsed": false,
    "scrolled": true
   },
   "outputs": [
    {
     "data": {
      "text/plain": [
       "'\\nx_lim = (0,10000)\\ny_lim = (0.003,0.015)\\ng = sns.jointplot(x=\\'B0_FitPVConst_MinIPCHI2anyPV_flat\\', y=\\'B0_FitPVConst_tau_flat\\',data=test,stat_func=None,space=0.05, kind=\"kde\",xlim=x_lim,ylim=y_lim, color=\"r\")\\ng#g.savefig(\"/home/chasenberg/plots/wrong_pv/deltatau_vs_pvzpull.pdf\")\\nprint(test.shape)'"
      ]
     },
     "execution_count": 46,
     "metadata": {},
     "output_type": "execute_result"
    }
   ],
   "source": [
    "import seaborn as sns; sns.set_style('white')\n",
    "\n",
    "test = signal_dataframe_wrongPV.sample(50000)\n",
    "'''\n",
    "x_lim = (0,10000)\n",
    "y_lim = (0.003,0.015)\n",
    "g = sns.jointplot(x='B0_FitPVConst_MinIPCHI2anyPV_flat', y='B0_FitPVConst_tau_flat',data=test,stat_func=None,space=0.05, kind=\"kde\",xlim=x_lim,ylim=y_lim, color=\"r\")\n",
    "g#g.savefig(\"/home/chasenberg/plots/wrong_pv/deltatau_vs_pvzpull.pdf\")\n",
    "print(test.shape)'''"
   ]
  },
  {
   "cell_type": "code",
   "execution_count": 47,
   "metadata": {
    "collapsed": true
   },
   "outputs": [],
   "source": [
    "variables = [\n",
    "            'B0_FitPVConst_MinIPCHI2anyPV_flat',\n",
    "            'B0_FitPVConst_tau_flat',\n",
    "            'BDTresponse_wrongPV'\n",
    "            ]"
   ]
  },
  {
   "cell_type": "code",
   "execution_count": 48,
   "metadata": {
    "collapsed": false
   },
   "outputs": [
    {
     "data": {
      "image/png": "[encoded data removed]",
      "text/plain": [
       "<matplotlib.figure.Figure at 0x7ff8a86d0160>"
      ]
     },
     "metadata": {},
     "output_type": "display_data"
    },
    {
     "data": {
      "text/plain": [
       "<matplotlib.figure.Figure at 0x7ff8a87cb4a8>"
      ]
     },
     "execution_count": 48,
     "metadata": {},
     "output_type": "execute_result"
    },
    {
     "data": {
      "text/plain": [
       "<matplotlib.figure.Figure at 0x7ff8a87cb4a8>"
      ]
     },
     "metadata": {},
     "output_type": "display_data"
    }
   ],
   "source": [
    "sys.path.append('/home/chasenberg/repos/')\n",
    "sys.path.append('/home/chasenberg/repos/dopy')\n",
    "from dopy import * \n",
    "from dopy.dolearn.sklearn_utils import plot_roc_curve, plot_classifier_output, plot_correlations\n",
    "\n",
    "plt.figure(figsize=(12,8))\n",
    "plot_correlations(test.query('idxPV==0')[variables], annot=True, fmt='.2f')\n",
    "#plt.savefig('/home/chasenberg/plots/wrong_pv/correlation_data.png')\n",
    "plt.show()\n",
    "plt.figure(figsize=(12,8))"
   ]
  },
  {
   "cell_type": "code",
   "execution_count": 22,
   "metadata": {
    "collapsed": false
   },
   "outputs": [
    {
     "ename": "TypeError",
     "evalue": "corr() missing 1 required positional argument: 'other'",
     "output_type": "error",
     "traceback": [
      "\u001b[1;31m---------------------------------------------------------------------------\u001b[0m",
      "\u001b[1;31mTypeError\u001b[0m                                 Traceback (most recent call last)",
      "\u001b[1;32m<ipython-input-22-33aab129991c>\u001b[0m in \u001b[0;36m<module>\u001b[1;34m()\u001b[0m\n\u001b[0;32m     13\u001b[0m \u001b[1;33m\u001b[0m\u001b[0m\n\u001b[0;32m     14\u001b[0m \u001b[1;31m# Compute the correlation matrix\u001b[0m\u001b[1;33m\u001b[0m\u001b[1;33m\u001b[0m\u001b[0m\n\u001b[1;32m---> 15\u001b[1;33m \u001b[0mcorr\u001b[0m \u001b[1;33m=\u001b[0m \u001b[0mtest\u001b[0m\u001b[1;33m.\u001b[0m\u001b[0mcorr\u001b[0m\u001b[1;33m(\u001b[0m\u001b[1;33m)\u001b[0m\u001b[1;33m\u001b[0m\u001b[0m\n\u001b[0m\u001b[0;32m     16\u001b[0m \u001b[1;33m\u001b[0m\u001b[0m\n\u001b[0;32m     17\u001b[0m \u001b[1;31m# Generate a mask for the upper triangle\u001b[0m\u001b[1;33m\u001b[0m\u001b[1;33m\u001b[0m\u001b[0m\n",
      "\u001b[1;31mTypeError\u001b[0m: corr() missing 1 required positional argument: 'other'"
     ]
    }
   ],
   "source": [
    "from string import ascii_letters\n",
    "import numpy as np\n",
    "import pandas as pd\n",
    "import seaborn as sns\n",
    "import matplotlib.pyplot as plt\n",
    "\n",
    "sns.set(style=\"white\")\n",
    "\n",
    "# Generate a large random dataset\n",
    "rs = np.random.RandomState(33)\n",
    "d  = pd.DataFrame(data=rs.normal(size=(100, 26)),\n",
    "                 columns=list(ascii_letters[26:]))\n",
    "\n",
    "# Compute the correlation matrix\n",
    "corr = test.corr()\n",
    "\n",
    "# Generate a mask for the upper triangle\n",
    "mask = np.zeros_like(corr, dtype=np.bool)\n",
    "mask[np.triu_indices_from(mask)] = True\n",
    "\n",
    "# Set up the matplotlib figure\n",
    "f, ax = plt.subplots(figsize=(11, 9))\n",
    "\n",
    "# Generate a custom diverging colormap\n",
    "cmap = sns.diverging_palette(220, 10, as_cmap=True)\n",
    "\n",
    "# Draw the heatmap with the mask and correct aspect ratio\n",
    "sns.heatmap(corr, mask=mask, cmap=cmap, vmax=.3, center=0,\n",
    "            square=True, linewidths=.5, cbar_kws={\"shrink\": .5})"
   ]
  },
  {
   "cell_type": "markdown",
   "metadata": {},
   "source": [
    "### Function to calculate the FOMs"
   ]
  },
  {
   "cell_type": "markdown",
   "metadata": {},
   "source": [
    "### Configure  and define cuts "
   ]
  },
  {
   "cell_type": "code",
   "execution_count": 8,
   "metadata": {
    "collapsed": false
   },
   "outputs": [],
   "source": [
    "\n",
    "subdir = '/home/chasenberg/plots/wrongpv_cuttuning'\n",
    "plot_dir    = os.path.join(subdir, 'plots')\n",
    "results_dir = os.path.join(subdir, 'results')\n",
    "plot_file   = os.path.join(plot_dir, 'all_plots.pdf')\n",
    "\n",
    "\n",
    "if not os.path.exists(plot_dir):\n",
    "    os.makedirs(plot_dir)\n",
    "if not os.path.exists(results_dir):\n",
    "    os.makedirs(results_dir)\n",
    "\n",
    "bdt_type = 'BDTresponse_wrongPV' \n",
    "minipchi2_type = 'B0_FitPVConst_MinIPCHI2anyPV_flat'\n",
    "\n",
    "minimum = signal_dataframe_wrongPV['BDTresponse_wrongPV'].min()\n",
    "maximum = signal_dataframe_wrongPV['BDTresponse_wrongPV'].max()\n",
    "iterations = 40\n",
    "cuts_bdt = np.linspace(3.5,3.9,iterations) #(0,20,10)    #(0,0.001,10)\n",
    "cuts_minipchi2 = np.linspace(0,85,iterations) \n",
    "\n",
    "cut_to_performance = {} \n",
    "\n",
    "\n"
   ]
  },
  {
   "cell_type": "markdown",
   "metadata": {},
   "source": [
    "### Calculate FOM"
   ]
  },
  {
   "cell_type": "code",
   "execution_count": 9,
   "metadata": {
    "collapsed": true
   },
   "outputs": [],
   "source": [
    "def calculate_foms(data_cut_bdt,best_pv_bdt,data_cut_minipchi2,best_pv_minipchi2,sig_yields_init): \n",
    "    import math\n",
    "    import numpy as np\n",
    "    #Empty dataframe\n",
    "    df = pd.DataFrame()\n",
    "    \n",
    "    delta_m = 5065 \n",
    "    S = 0.691 \n",
    "   \n",
    "    dilution_bdt_bestPV = 0\n",
    "    dilution_bdt_random = 0\n",
    "    dilution_bdt_bestPV_poisson = 0\n",
    "    dilution_minipchi2_bestpv_poisson = 0\n",
    "    \n",
    "    dilution_bdt_random_poisson = 0\n",
    "    dilution_bdt_bestpv_poisson = 0\n",
    "    dilution_minipchi2_random_poisson = 0\n",
    "    dilution_minipchi2_bestpv_poisson = 0\n",
    "    dilution_bdt_random_poisson_test = 0\n",
    "    dilution_bdt_bestpv_poisson_test = 0\n",
    "    dilution_minipchi2_random_poisson_test = 0\n",
    "    dilution_minipchi2_bestpv_poisson_test = 0\n",
    "    \n",
    "    tagomega_bdt_bestpv = np.array(best_pv_bdt['B0_TAGOMEGA_OS'])\n",
    "    tag1_bdt_bestpv = np.array(best_pv_bdt['B0_TAGDECISION_OS'])\n",
    "    time_bdt_bestpv = np.array(best_pv_bdt['B0_FitPVConst_tau_flat']) \n",
    "    error_bdt_bestpv = np.absolute(np.array(best_pv_bdt['Delta_TAU']))\n",
    "    \n",
    "    tagomega_bdt_random = np.array(data_cut_bdt['B0_TAGOMEGA_OS'])\n",
    "    tag1_bdt_random = np.array(data_cut_bdt['B0_TAGDECISION_OS'])\n",
    "    time_bdt_random = np.array(data_cut_bdt['B0_FitPVConst_tau_flat']) \n",
    "    error_bdt_random = np.absolute(np.array(data_cut_bdt['Delta_TAU']))\n",
    "    \n",
    "    #Calculate dilution for bdt + random selection\n",
    "    for i in range(best_pv_bdt.shape[0]):\n",
    "        signal_weight =  1 \n",
    "        decaytime     =  time_bdt_bestpv[i]\n",
    "        timeerror     =  error_bdt_bestpv[i]                \n",
    "        timeerror_dilution = math.exp(-(delta_m*timeerror)**2)\n",
    "        dilution_bdt_bestPV    += timeerror_dilution*signal_weight\n",
    "         \n",
    "    signal_sum_bdt_bestpv = best_pv_bdt.shape[0]\n",
    "    dilution_bdt_bestPV   /= signal_sum_bdt_bestpv\n",
    "    dil_bdt_bestpv.append(dilution_bdt_bestPV)\n",
    "    \n",
    "    #Calculate efficiency for bdt approach with best PV selection\n",
    "    yields_bdt_bestpv = best_pv_bdt.shape[0] \n",
    "    efficiency_bdt_bestpv = yields_bdt_bestpv / yields_initial_bestpv\n",
    "    #Calculate efficiency for bdt approach with random selection\n",
    "    yields_bdt_random = data_cut_bdt.shape[0]\n",
    "    efficiency_bdt_random = yields_bdt_random / yields_initial_random\n",
    "    \n",
    "    #Calculate dilution for bdt + random selection\n",
    "    for i in range(data_cut_bdt.shape[0]):\n",
    "        signal_weight_random=  1 \n",
    "        decaytime_bdt_random    =  time_bdt_random[i]\n",
    "        timeerror_bdt_random    =  error_bdt_random[i]           \n",
    "        timeerror_dilution_random= math.exp(-(delta_m*timeerror_bdt_random)**2)\n",
    "        dilution_bdt_random     += timeerror_dilution_random*signal_weight_random\n",
    "    \n",
    "    dilution_bdt_random /= data_cut_bdt.shape[0] \n",
    "    #Normalize to relative poisson error\n",
    "    bdt_random_poisson.append(np.sqrt(yields_bdt_random))\n",
    "    bdt_bestpv_poisson.append(np.sqrt(yields_bdt_bestpv))    \n",
    "    dilution_bdt_random_poisson_test = dilution_bdt_random * np.sqrt(yields_bdt_random)\n",
    "    dilution_bdt_bestpv_poisson_test = dilution_bdt_bestPV * np.sqrt(yields_bdt_bestpv)\n",
    "    dil_bdt_random_poisson.append(dilution_bdt_random_poisson)\n",
    "    dil_bdt_bestpv_poisson.append(dilution_bdt_bestPV_poisson)\n",
    "    #Fill the rest of the arrays\n",
    "    eff_bdt_random.append(efficiency_bdt_random)\n",
    "    dil_bdt_random.append(dilution_bdt_random)\n",
    "    eff_bdt_bestpv.append(efficiency_bdt_bestpv)\n",
    "\n",
    "    \n",
    "    #Repeat all steps for minipchi2anypv\n",
    "    dilution_minipchi2_bestpv = 0\n",
    "    dilution_minipchi2_random = 0\n",
    "    time_minipchi2_bestpv = np.array(best_pv_minipchi2['B0_FitPVConst_tau_flat']) \n",
    "    error_minipchi2_bestpv = np.absolute(np.array(best_pv_minipchi2['Delta_TAU']))\n",
    "    \n",
    "    tagomega_minipchi2_random = np.array(data_cut_minipchi2['B0_TAGOMEGA_OS'])\n",
    "    tag1_minipchi2_random = np.array(data_cut_minipchi2['B0_TAGDECISION_OS'])\n",
    "    time_minipchi2_random = np.array(data_cut_minipchi2['B0_FitPVConst_tau_flat']) \n",
    "    error_minipchi2_random = np.absolute(np.array(data_cut_minipchi2['Delta_TAU']))\n",
    "    \n",
    "    range_best_pv_minipchi2 = best_pv_minipchi2.shape[0]\n",
    "    \n",
    "    for i in range(range_best_pv_minipchi2):\n",
    "        signal_weight =  1 \n",
    "        timeerror_minipchi2_bestpv    =  error_minipchi2_bestpv[i]                \n",
    "        timeerror_dilution_minipchi2_bestpv  = math.exp(-(delta_m*timeerror_minipchi2_bestpv)**2)\n",
    "        dilution_minipchi2_bestpv    += timeerror_dilution_minipchi2_bestpv*signal_weight\n",
    "         \n",
    "    signal_sum_minipchi2_bestpv = range_best_pv_minipchi2  \n",
    "    dilution_minipchi2_bestpv /= signal_sum_minipchi2_bestpv\n",
    "    dil_minipchi2_bestpv.append(dilution_minipchi2_bestpv)\n",
    "    \n",
    "    #Calculate efficiency for minipchi2 approach with best PV selection\n",
    "    yields_minipchi2_bestpv = best_pv_minipchi2.shape[0] \n",
    "    efficiency_minipchi2_bestpv = yields_minipchi2_bestpv / sig_yields_init\n",
    "    \n",
    "    \n",
    "    for i in range(data_cut_minipchi2.shape[0]):\n",
    "        signal_weight_minipchi2_random         =  1 \n",
    "        timeerror_minipchi2_random    =  error_minipchi2_random[i]                   \n",
    "        timeerror_dilution_minipchi2_random   =  math.exp(-(delta_m*timeerror_minipchi2_random)**2)    \n",
    "        dilution_minipchi2_random     += timeerror_dilution_minipchi2_random*signal_weight_minipchi2_random\n",
    "        \n",
    "    dilution_minipchi2_random /= data_cut_minipchi2.shape[0] \n",
    "    #Calculate efficiency for minipchi2 approach with random selection\n",
    "    yields_minipchi2_random = data_cut_minipchi2.shape[0] \n",
    "    efficiency_minipchi2_random = yields_minipchi2_random / sig_yields_init\n",
    "\n",
    "    #Normalize to relative poisson error\n",
    "    minipchi2_random_poisson.append(np.sqrt(data_cut_minipchi2.shape[0]))\n",
    "    minipchi2_bestpv_poisson.append(np.sqrt(best_pv_minipchi2.shape[0] ))\n",
    "    dilution_minipchi2_random_poisson_test = dilution_minipchi2_random * np.sqrt(data_cut_minipchi2.shape[0] )\n",
    "    dil_minipchi2_random_poisson.append(dilution_minipchi2_random_poisson)\n",
    "    dilution_minipchi2_bestpv_poisson_test = dilution_minipchi2_bestpv * np.sqrt(best_pv_minipchi2.shape[0] )\n",
    "    dil_minipchi2_bestpv_poisson.append(dilution_minipchi2_bestpv_poisson)\n",
    "    #Fill the rest of the arrays\n",
    "    eff_minipchi2_random.append(efficiency_minipchi2_random)\n",
    "    dil_minipchi2_random.append(dilution_minipchi2_random)\n",
    "    eff_minipchi2_bestpv.append(efficiency_minipchi2_bestpv)\n",
    "    dil_minipchi2_bestpv_poisson\n",
    "\n",
    "    "
   ]
  },
  {
   "cell_type": "code",
   "execution_count": 10,
   "metadata": {
    "collapsed": false
   },
   "outputs": [
    {
     "data": {
      "image/png": "[encoded data removed]",
      "text/plain": [
       "<matplotlib.figure.Figure at 0x7f59a36753c8>"
      ]
     },
     "metadata": {},
     "output_type": "display_data"
    }
   ],
   "source": [
    "import numpy as np\n",
    "import matplotlib.pyplot as plt\n",
    "plt.hist(signal_dataframe_wrongPV['BDTresponse_wrongPV'],40,range=[1,6.5])\n",
    "plt.savefig(\"/home/chasenberg/plots/wrong_pv/bdt_output.pdf\")"
   ]
  },
  {
   "cell_type": "code",
   "execution_count": 11,
   "metadata": {
    "collapsed": false
   },
   "outputs": [
    {
     "data": {
      "text/plain": [
       "501573"
      ]
     },
     "execution_count": 11,
     "metadata": {},
     "output_type": "execute_result"
    }
   ],
   "source": [
    "signal_dataframe_wrongPV.shape[0]"
   ]
  },
  {
   "cell_type": "code",
   "execution_count": 12,
   "metadata": {
    "collapsed": false
   },
   "outputs": [
    {
     "name": "stdout",
     "output_type": "stream",
     "text": [
      "3.5\n"
     ]
    }
   ],
   "source": [
    "print(str(cuts_bdt[0]))"
   ]
  },
  {
   "cell_type": "code",
   "execution_count": 13,
   "metadata": {
    "collapsed": false,
    "scrolled": true
   },
   "outputs": [
    {
     "name": "stdout",
     "output_type": "stream",
     "text": [
      "INFO: Call CandidateSelectionGrimReaper\n",
      "Wait for GrimReaper\n",
      "GrimReaper hopefully finished\n",
      "INFO: Read selected data\n"
     ]
    }
   ],
   "source": [
    "\n",
    "from ROOT import RooArgList\n",
    "import subprocess, os\n",
    "import time\n",
    "\n",
    "sample_size = 122000\n",
    "initial_cut = str(cuts_bdt[0])\n",
    "signal_dataframe_wrongPV.query('BDTresponse_wrongPV>' + initial_cut).to_root('/fhgfs/users/chasenberg/mc/2015_2016_merged/jpsimumuks/interim.root',key=tree_mc)\n",
    "print('INFO: Call CandidateSelectionGrimReaper', flush=True)\n",
    "my_env = os.environ.copy()\n",
    "my_env['PATH'] = '/usr/local/bin:/bin:/usr/bin:/usr/local/sbin:/usr/sbin:/sbin:/home/chasenberg/bin'\n",
    "my_env['LD_LIBRARY_PATH'] = '/usr/local/lib'\n",
    "my_env['script'] = '/home/chasenberg/repos/b2cc_sin2beta_run2/notebooks/selection'\n",
    "my_command = 'source /lhcbsoft/LHCbSoftwareSetup.sh &&' \\\n",
    "             'lb-run DaVinci/v41r2 $BASH -c \"' \\\n",
    "             'echo $PATH && ' \\\n",
    "             'source /doosoft/InstallDooSoftware/LoadDooSoftware && CandidateSelectionGrimReaper /fhgfs/users/chasenberg/mc/2015_2016_merged/jpsimumuks/interim.root Bd2JpsiKS /fhgfs/users/chasenberg/mc/2015_2016_merged/jpsimumuks/interim.root Bd2JpsiKS \"idxRunNumber\"\"'                     \n",
    "subprocess.Popen([my_command], env=my_env, shell=True)\n",
    "print(\"Wait for GrimReaper\")\n",
    "time.sleep(40.0)    # pause 5.5 seconds\n",
    "print(\"GrimReaper hopefully finished\")\n",
    "print('INFO: Read selected data', flush=True)\n",
    "data_random = rp.read_root('/fhgfs/users/chasenberg/mc/2015_2016_merged/jpsimumuks/interim.root',key=tree_mc).sample(sample_size)\n",
    "data_bestpv = signal_dataframe_wrongPV.query('idxPV==0&BDTresponse_wrongPV>' + initial_cut).sample(sample_size)"
   ]
  },
  {
   "cell_type": "code",
   "execution_count": 14,
   "metadata": {
    "collapsed": true
   },
   "outputs": [],
   "source": [
    "yields_initial_bestpv = data_bestpv.shape[0]\n",
    "yields_initial_random = data_random.shape[0]"
   ]
  },
  {
   "cell_type": "code",
   "execution_count": 15,
   "metadata": {
    "collapsed": false
   },
   "outputs": [
    {
     "data": {
      "text/plain": [
       "(122000, 122000)"
      ]
     },
     "execution_count": 15,
     "metadata": {},
     "output_type": "execute_result"
    }
   ],
   "source": [
    "data_bestpv.shape[0],data_random.shape[0]"
   ]
  },
  {
   "cell_type": "code",
   "execution_count": 16,
   "metadata": {
    "collapsed": false
   },
   "outputs": [
    {
     "name": "stdout",
     "output_type": "stream",
     "text": [
      "0.9624918032786886\n"
     ]
    }
   ],
   "source": [
    "eff_bdt = data_random.query('BDTresponse_wrongPV>3.9').shape[0] / data_random.shape[0]\n",
    "print(eff_bdt)"
   ]
  },
  {
   "cell_type": "code",
   "execution_count": 17,
   "metadata": {
    "collapsed": false,
    "scrolled": true
   },
   "outputs": [
    {
     "name": "stdout",
     "output_type": "stream",
     "text": [
      "0.9609016393442623\n"
     ]
    }
   ],
   "source": [
    "eff_bdt = data_random.query('B0_FitPVConst_MinIPCHI2anyPV_flat>85').shape[0] / data_random.shape[0]\n",
    "print(eff_bdt)"
   ]
  },
  {
   "cell_type": "code",
   "execution_count": 18,
   "metadata": {
    "collapsed": false
   },
   "outputs": [
    {
     "name": "stdout",
     "output_type": "stream",
     "text": [
      "INFO: Starting to test cut BDTresponse_wrongPV>3.5\n",
      "The yields of the bdt cut on random selected mc are:\n",
      "---------------------------------\n",
      "122000\n",
      "INFO: Starting to test cut B0_FitPVConst_MinIPCHI2anyPV_flat>0.0\n",
      "The yields of the bestpv cut on random selected mc are:\n",
      "---------------------------------\n",
      "122000\n",
      "INFO: Start Calculation\n",
      "INFO: Finish Calculation\n",
      "++++++++++++++++++++++++++\n",
      "++++++++++++++++++++++++++\n",
      "INFO: Starting to test cut BDTresponse_wrongPV>3.51025641025641\n",
      "The yields of the bdt cut on random selected mc are:\n",
      "---------------------------------\n",
      "121964\n",
      "INFO: Starting to test cut B0_FitPVConst_MinIPCHI2anyPV_flat>2.1794871794871793\n",
      "The yields of the bestpv cut on random selected mc are:\n",
      "---------------------------------\n",
      "121980\n",
      "INFO: Start Calculation\n",
      "INFO: Finish Calculation\n",
      "++++++++++++++++++++++++++\n",
      "++++++++++++++++++++++++++\n",
      "INFO: Starting to test cut BDTresponse_wrongPV>3.5205128205128204\n",
      "The yields of the bdt cut on random selected mc are:\n",
      "---------------------------------\n",
      "121911\n",
      "INFO: Starting to test cut B0_FitPVConst_MinIPCHI2anyPV_flat>4.358974358974359\n",
      "The yields of the bestpv cut on random selected mc are:\n",
      "---------------------------------\n",
      "121978\n",
      "INFO: Start Calculation\n",
      "INFO: Finish Calculation\n",
      "++++++++++++++++++++++++++\n",
      "++++++++++++++++++++++++++\n",
      "INFO: Starting to test cut BDTresponse_wrongPV>3.5307692307692307\n",
      "The yields of the bdt cut on random selected mc are:\n",
      "---------------------------------\n",
      "121835\n",
      "INFO: Starting to test cut B0_FitPVConst_MinIPCHI2anyPV_flat>6.538461538461538\n",
      "The yields of the bestpv cut on random selected mc are:\n",
      "---------------------------------\n",
      "121977\n",
      "INFO: Start Calculation\n",
      "INFO: Finish Calculation\n",
      "++++++++++++++++++++++++++\n",
      "++++++++++++++++++++++++++\n",
      "INFO: Starting to test cut BDTresponse_wrongPV>3.541025641025641\n",
      "The yields of the bdt cut on random selected mc are:\n",
      "---------------------------------\n",
      "121771\n",
      "INFO: Starting to test cut B0_FitPVConst_MinIPCHI2anyPV_flat>8.717948717948717\n",
      "The yields of the bestpv cut on random selected mc are:\n",
      "---------------------------------\n",
      "121976\n",
      "INFO: Start Calculation\n",
      "INFO: Finish Calculation\n",
      "++++++++++++++++++++++++++\n",
      "++++++++++++++++++++++++++\n",
      "INFO: Starting to test cut BDTresponse_wrongPV>3.551282051282051\n",
      "The yields of the bdt cut on random selected mc are:\n",
      "---------------------------------\n",
      "121725\n",
      "INFO: Starting to test cut B0_FitPVConst_MinIPCHI2anyPV_flat>10.897435897435896\n",
      "The yields of the bestpv cut on random selected mc are:\n",
      "---------------------------------\n",
      "121843\n",
      "INFO: Start Calculation\n",
      "INFO: Finish Calculation\n",
      "++++++++++++++++++++++++++\n",
      "++++++++++++++++++++++++++\n",
      "INFO: Starting to test cut BDTresponse_wrongPV>3.5615384615384613\n",
      "The yields of the bdt cut on random selected mc are:\n",
      "---------------------------------\n",
      "121678\n",
      "INFO: Starting to test cut B0_FitPVConst_MinIPCHI2anyPV_flat>13.076923076923077\n",
      "The yields of the bestpv cut on random selected mc are:\n",
      "---------------------------------\n",
      "121659\n",
      "INFO: Start Calculation\n",
      "INFO: Finish Calculation\n",
      "++++++++++++++++++++++++++\n",
      "++++++++++++++++++++++++++\n",
      "INFO: Starting to test cut BDTresponse_wrongPV>3.571794871794872\n",
      "The yields of the bdt cut on random selected mc are:\n",
      "---------------------------------\n",
      "121635\n",
      "INFO: Starting to test cut B0_FitPVConst_MinIPCHI2anyPV_flat>15.256410256410255\n",
      "The yields of the bestpv cut on random selected mc are:\n",
      "---------------------------------\n",
      "121502\n",
      "INFO: Start Calculation\n",
      "INFO: Finish Calculation\n",
      "++++++++++++++++++++++++++\n",
      "++++++++++++++++++++++++++\n",
      "INFO: Starting to test cut BDTresponse_wrongPV>3.582051282051282\n",
      "The yields of the bdt cut on random selected mc are:\n",
      "---------------------------------\n",
      "121559\n",
      "INFO: Starting to test cut B0_FitPVConst_MinIPCHI2anyPV_flat>17.435897435897434\n",
      "The yields of the bestpv cut on random selected mc are:\n",
      "---------------------------------\n",
      "121321\n",
      "INFO: Start Calculation\n",
      "INFO: Finish Calculation\n",
      "++++++++++++++++++++++++++\n",
      "++++++++++++++++++++++++++\n",
      "INFO: Starting to test cut BDTresponse_wrongPV>3.5923076923076924\n",
      "The yields of the bdt cut on random selected mc are:\n",
      "---------------------------------\n",
      "121498\n",
      "INFO: Starting to test cut B0_FitPVConst_MinIPCHI2anyPV_flat>19.615384615384613\n",
      "The yields of the bestpv cut on random selected mc are:\n",
      "---------------------------------\n",
      "121139\n",
      "INFO: Start Calculation\n",
      "INFO: Finish Calculation\n",
      "++++++++++++++++++++++++++\n",
      "++++++++++++++++++++++++++\n",
      "INFO: Starting to test cut BDTresponse_wrongPV>3.6025641025641026\n",
      "The yields of the bdt cut on random selected mc are:\n",
      "---------------------------------\n",
      "121443\n",
      "INFO: Starting to test cut B0_FitPVConst_MinIPCHI2anyPV_flat>21.794871794871792\n",
      "The yields of the bestpv cut on random selected mc are:\n",
      "---------------------------------\n",
      "120988\n",
      "INFO: Start Calculation\n",
      "INFO: Finish Calculation\n",
      "++++++++++++++++++++++++++\n",
      "++++++++++++++++++++++++++\n",
      "INFO: Starting to test cut BDTresponse_wrongPV>3.612820512820513\n",
      "The yields of the bdt cut on random selected mc are:\n",
      "---------------------------------\n",
      "121402\n",
      "INFO: Starting to test cut B0_FitPVConst_MinIPCHI2anyPV_flat>23.97435897435897\n",
      "The yields of the bestpv cut on random selected mc are:\n",
      "---------------------------------\n",
      "120822\n",
      "INFO: Start Calculation\n",
      "INFO: Finish Calculation\n",
      "++++++++++++++++++++++++++\n",
      "++++++++++++++++++++++++++\n",
      "INFO: Starting to test cut BDTresponse_wrongPV>3.623076923076923\n",
      "The yields of the bdt cut on random selected mc are:\n",
      "---------------------------------\n",
      "121345\n",
      "INFO: Starting to test cut B0_FitPVConst_MinIPCHI2anyPV_flat>26.153846153846153\n",
      "The yields of the bestpv cut on random selected mc are:\n",
      "---------------------------------\n",
      "120647\n",
      "INFO: Start Calculation\n",
      "INFO: Finish Calculation\n",
      "++++++++++++++++++++++++++\n",
      "++++++++++++++++++++++++++\n",
      "INFO: Starting to test cut BDTresponse_wrongPV>3.6333333333333333\n",
      "The yields of the bdt cut on random selected mc are:\n",
      "---------------------------------\n",
      "121300\n",
      "INFO: Starting to test cut B0_FitPVConst_MinIPCHI2anyPV_flat>28.333333333333332\n",
      "The yields of the bestpv cut on random selected mc are:\n",
      "---------------------------------\n",
      "120498\n",
      "INFO: Start Calculation\n",
      "INFO: Finish Calculation\n",
      "++++++++++++++++++++++++++\n",
      "++++++++++++++++++++++++++\n",
      "INFO: Starting to test cut BDTresponse_wrongPV>3.6435897435897435\n",
      "The yields of the bdt cut on random selected mc are:\n",
      "---------------------------------\n",
      "121203\n",
      "INFO: Starting to test cut B0_FitPVConst_MinIPCHI2anyPV_flat>30.51282051282051\n",
      "The yields of the bestpv cut on random selected mc are:\n",
      "---------------------------------\n",
      "120335\n",
      "INFO: Start Calculation\n",
      "INFO: Finish Calculation\n",
      "++++++++++++++++++++++++++\n",
      "++++++++++++++++++++++++++\n",
      "INFO: Starting to test cut BDTresponse_wrongPV>3.6538461538461537\n",
      "The yields of the bdt cut on random selected mc are:\n",
      "---------------------------------\n",
      "121172\n",
      "INFO: Starting to test cut B0_FitPVConst_MinIPCHI2anyPV_flat>32.692307692307686\n",
      "The yields of the bestpv cut on random selected mc are:\n",
      "---------------------------------\n",
      "120188\n",
      "INFO: Start Calculation\n",
      "INFO: Finish Calculation\n",
      "++++++++++++++++++++++++++\n",
      "++++++++++++++++++++++++++\n",
      "INFO: Starting to test cut BDTresponse_wrongPV>3.664102564102564\n",
      "The yields of the bdt cut on random selected mc are:\n",
      "---------------------------------\n",
      "121130\n",
      "INFO: Starting to test cut B0_FitPVConst_MinIPCHI2anyPV_flat>34.87179487179487\n",
      "The yields of the bestpv cut on random selected mc are:\n",
      "---------------------------------\n",
      "120042\n",
      "INFO: Start Calculation\n",
      "INFO: Finish Calculation\n",
      "++++++++++++++++++++++++++\n",
      "++++++++++++++++++++++++++\n",
      "INFO: Starting to test cut BDTresponse_wrongPV>3.674358974358974\n",
      "The yields of the bdt cut on random selected mc are:\n",
      "---------------------------------\n",
      "120956\n",
      "INFO: Starting to test cut B0_FitPVConst_MinIPCHI2anyPV_flat>37.05128205128205\n",
      "The yields of the bestpv cut on random selected mc are:\n",
      "---------------------------------\n",
      "119880\n",
      "INFO: Start Calculation\n",
      "INFO: Finish Calculation\n",
      "++++++++++++++++++++++++++\n",
      "++++++++++++++++++++++++++\n",
      "INFO: Starting to test cut BDTresponse_wrongPV>3.6846153846153844\n",
      "The yields of the bdt cut on random selected mc are:\n",
      "---------------------------------\n",
      "120913\n",
      "INFO: Starting to test cut B0_FitPVConst_MinIPCHI2anyPV_flat>39.230769230769226\n",
      "The yields of the bestpv cut on random selected mc are:\n",
      "---------------------------------\n",
      "119713\n",
      "INFO: Start Calculation\n",
      "INFO: Finish Calculation\n",
      "++++++++++++++++++++++++++\n",
      "++++++++++++++++++++++++++\n",
      "INFO: Starting to test cut BDTresponse_wrongPV>3.694871794871795\n",
      "The yields of the bdt cut on random selected mc are:\n",
      "---------------------------------\n",
      "120832\n",
      "INFO: Starting to test cut B0_FitPVConst_MinIPCHI2anyPV_flat>41.41025641025641\n",
      "The yields of the bestpv cut on random selected mc are:\n",
      "---------------------------------\n",
      "119576\n",
      "INFO: Start Calculation\n",
      "INFO: Finish Calculation\n",
      "++++++++++++++++++++++++++\n",
      "++++++++++++++++++++++++++\n",
      "INFO: Starting to test cut BDTresponse_wrongPV>3.7051282051282053\n",
      "The yields of the bdt cut on random selected mc are:\n",
      "---------------------------------\n",
      "120788\n",
      "INFO: Starting to test cut B0_FitPVConst_MinIPCHI2anyPV_flat>43.589743589743584\n",
      "The yields of the bestpv cut on random selected mc are:\n",
      "---------------------------------\n",
      "119426\n",
      "INFO: Start Calculation\n",
      "INFO: Finish Calculation\n",
      "++++++++++++++++++++++++++\n",
      "++++++++++++++++++++++++++\n",
      "INFO: Starting to test cut BDTresponse_wrongPV>3.7153846153846155\n",
      "The yields of the bdt cut on random selected mc are:\n",
      "---------------------------------\n",
      "120703\n",
      "INFO: Starting to test cut B0_FitPVConst_MinIPCHI2anyPV_flat>45.76923076923077\n",
      "The yields of the bestpv cut on random selected mc are:\n",
      "---------------------------------\n",
      "119302\n",
      "INFO: Start Calculation\n",
      "INFO: Finish Calculation\n",
      "++++++++++++++++++++++++++\n",
      "++++++++++++++++++++++++++\n",
      "INFO: Starting to test cut BDTresponse_wrongPV>3.7256410256410257\n",
      "The yields of the bdt cut on random selected mc are:\n",
      "---------------------------------\n",
      "120504\n",
      "INFO: Starting to test cut B0_FitPVConst_MinIPCHI2anyPV_flat>47.94871794871794\n",
      "The yields of the bestpv cut on random selected mc are:\n",
      "---------------------------------\n",
      "119156\n",
      "INFO: Start Calculation\n",
      "INFO: Finish Calculation\n",
      "++++++++++++++++++++++++++\n",
      "++++++++++++++++++++++++++\n",
      "INFO: Starting to test cut BDTresponse_wrongPV>3.735897435897436\n",
      "The yields of the bdt cut on random selected mc are:\n",
      "---------------------------------\n",
      "120411\n",
      "INFO: Starting to test cut B0_FitPVConst_MinIPCHI2anyPV_flat>50.128205128205124\n",
      "The yields of the bestpv cut on random selected mc are:\n",
      "---------------------------------\n",
      "119018\n",
      "INFO: Start Calculation\n",
      "INFO: Finish Calculation\n",
      "++++++++++++++++++++++++++\n",
      "++++++++++++++++++++++++++\n",
      "INFO: Starting to test cut BDTresponse_wrongPV>3.746153846153846\n",
      "The yields of the bdt cut on random selected mc are:\n",
      "---------------------------------\n",
      "120300\n",
      "INFO: Starting to test cut B0_FitPVConst_MinIPCHI2anyPV_flat>52.30769230769231\n",
      "The yields of the bestpv cut on random selected mc are:\n",
      "---------------------------------\n",
      "118901\n",
      "INFO: Start Calculation\n",
      "INFO: Finish Calculation\n",
      "++++++++++++++++++++++++++\n",
      "++++++++++++++++++++++++++\n",
      "INFO: Starting to test cut BDTresponse_wrongPV>3.7564102564102564\n",
      "The yields of the bdt cut on random selected mc are:\n",
      "---------------------------------\n",
      "119800\n",
      "INFO: Starting to test cut B0_FitPVConst_MinIPCHI2anyPV_flat>54.48717948717948\n",
      "The yields of the bestpv cut on random selected mc are:\n",
      "---------------------------------\n",
      "118768\n",
      "INFO: Start Calculation\n",
      "INFO: Finish Calculation\n",
      "++++++++++++++++++++++++++\n",
      "++++++++++++++++++++++++++\n",
      "INFO: Starting to test cut BDTresponse_wrongPV>3.7666666666666666\n",
      "The yields of the bdt cut on random selected mc are:\n",
      "---------------------------------\n",
      "119565\n",
      "INFO: Starting to test cut B0_FitPVConst_MinIPCHI2anyPV_flat>56.666666666666664\n",
      "The yields of the bestpv cut on random selected mc are:\n",
      "---------------------------------\n",
      "118634\n",
      "INFO: Start Calculation\n",
      "INFO: Finish Calculation\n",
      "++++++++++++++++++++++++++\n",
      "++++++++++++++++++++++++++\n",
      "INFO: Starting to test cut BDTresponse_wrongPV>3.776923076923077\n",
      "The yields of the bdt cut on random selected mc are:\n",
      "---------------------------------\n",
      "119318\n",
      "INFO: Starting to test cut B0_FitPVConst_MinIPCHI2anyPV_flat>58.84615384615384\n",
      "The yields of the bestpv cut on random selected mc are:\n",
      "---------------------------------\n",
      "118516\n",
      "INFO: Start Calculation\n",
      "INFO: Finish Calculation\n",
      "++++++++++++++++++++++++++\n",
      "++++++++++++++++++++++++++\n",
      "INFO: Starting to test cut BDTresponse_wrongPV>3.787179487179487\n",
      "The yields of the bdt cut on random selected mc are:\n",
      "---------------------------------\n",
      "119141\n",
      "INFO: Starting to test cut B0_FitPVConst_MinIPCHI2anyPV_flat>61.02564102564102\n",
      "The yields of the bestpv cut on random selected mc are:\n",
      "---------------------------------\n",
      "118401\n",
      "INFO: Start Calculation\n",
      "INFO: Finish Calculation\n",
      "++++++++++++++++++++++++++\n",
      "++++++++++++++++++++++++++\n",
      "INFO: Starting to test cut BDTresponse_wrongPV>3.7974358974358973\n",
      "The yields of the bdt cut on random selected mc are:\n",
      "---------------------------------\n",
      "118984\n",
      "INFO: Starting to test cut B0_FitPVConst_MinIPCHI2anyPV_flat>63.2051282051282\n",
      "The yields of the bestpv cut on random selected mc are:\n",
      "---------------------------------\n",
      "118290\n",
      "INFO: Start Calculation\n",
      "INFO: Finish Calculation\n",
      "++++++++++++++++++++++++++\n",
      "++++++++++++++++++++++++++\n",
      "INFO: Starting to test cut BDTresponse_wrongPV>3.8076923076923075\n",
      "The yields of the bdt cut on random selected mc are:\n",
      "---------------------------------\n",
      "118864\n",
      "INFO: Starting to test cut B0_FitPVConst_MinIPCHI2anyPV_flat>65.38461538461537\n",
      "The yields of the bestpv cut on random selected mc are:\n",
      "---------------------------------\n",
      "118162\n",
      "INFO: Start Calculation\n",
      "INFO: Finish Calculation\n",
      "++++++++++++++++++++++++++\n",
      "++++++++++++++++++++++++++\n",
      "INFO: Starting to test cut BDTresponse_wrongPV>3.8179487179487177\n",
      "The yields of the bdt cut on random selected mc are:\n",
      "---------------------------------\n",
      "118783\n",
      "INFO: Starting to test cut B0_FitPVConst_MinIPCHI2anyPV_flat>67.56410256410255\n",
      "The yields of the bestpv cut on random selected mc are:\n",
      "---------------------------------\n",
      "118050\n",
      "INFO: Start Calculation\n",
      "INFO: Finish Calculation\n",
      "++++++++++++++++++++++++++\n",
      "++++++++++++++++++++++++++\n",
      "INFO: Starting to test cut BDTresponse_wrongPV>3.828205128205128\n",
      "The yields of the bdt cut on random selected mc are:\n",
      "---------------------------------\n",
      "118614\n",
      "INFO: Starting to test cut B0_FitPVConst_MinIPCHI2anyPV_flat>69.74358974358974\n",
      "The yields of the bestpv cut on random selected mc are:\n",
      "---------------------------------\n",
      "117937\n",
      "INFO: Start Calculation\n",
      "INFO: Finish Calculation\n",
      "++++++++++++++++++++++++++\n",
      "++++++++++++++++++++++++++\n",
      "INFO: Starting to test cut BDTresponse_wrongPV>3.8384615384615386\n",
      "The yields of the bdt cut on random selected mc are:\n",
      "---------------------------------\n",
      "118581\n",
      "INFO: Starting to test cut B0_FitPVConst_MinIPCHI2anyPV_flat>71.92307692307692\n",
      "The yields of the bestpv cut on random selected mc are:\n",
      "---------------------------------\n",
      "117833\n",
      "INFO: Start Calculation\n",
      "INFO: Finish Calculation\n",
      "++++++++++++++++++++++++++\n",
      "++++++++++++++++++++++++++\n",
      "INFO: Starting to test cut BDTresponse_wrongPV>3.848717948717949\n",
      "The yields of the bdt cut on random selected mc are:\n",
      "---------------------------------\n",
      "118514\n",
      "INFO: Starting to test cut B0_FitPVConst_MinIPCHI2anyPV_flat>74.1025641025641\n",
      "The yields of the bestpv cut on random selected mc are:\n",
      "---------------------------------\n",
      "117724\n",
      "INFO: Start Calculation\n",
      "INFO: Finish Calculation\n",
      "++++++++++++++++++++++++++\n",
      "++++++++++++++++++++++++++\n",
      "INFO: Starting to test cut BDTresponse_wrongPV>3.858974358974359\n",
      "The yields of the bdt cut on random selected mc are:\n",
      "---------------------------------\n",
      "118476\n",
      "INFO: Starting to test cut B0_FitPVConst_MinIPCHI2anyPV_flat>76.28205128205127\n",
      "The yields of the bestpv cut on random selected mc are:\n",
      "---------------------------------\n",
      "117646\n",
      "INFO: Start Calculation\n",
      "INFO: Finish Calculation\n",
      "++++++++++++++++++++++++++\n",
      "++++++++++++++++++++++++++\n",
      "INFO: Starting to test cut BDTresponse_wrongPV>3.8692307692307693\n",
      "The yields of the bdt cut on random selected mc are:\n",
      "---------------------------------\n",
      "118355\n",
      "INFO: Starting to test cut B0_FitPVConst_MinIPCHI2anyPV_flat>78.46153846153845\n",
      "The yields of the bestpv cut on random selected mc are:\n",
      "---------------------------------\n",
      "117549\n",
      "INFO: Start Calculation\n",
      "INFO: Finish Calculation\n",
      "++++++++++++++++++++++++++\n",
      "++++++++++++++++++++++++++\n",
      "INFO: Starting to test cut BDTresponse_wrongPV>3.8794871794871795\n",
      "The yields of the bdt cut on random selected mc are:\n",
      "---------------------------------\n",
      "117926\n",
      "INFO: Starting to test cut B0_FitPVConst_MinIPCHI2anyPV_flat>80.64102564102564\n",
      "The yields of the bestpv cut on random selected mc are:\n",
      "---------------------------------\n",
      "117432\n",
      "INFO: Start Calculation\n",
      "INFO: Finish Calculation\n",
      "++++++++++++++++++++++++++\n",
      "++++++++++++++++++++++++++\n",
      "INFO: Starting to test cut BDTresponse_wrongPV>3.8897435897435897\n",
      "The yields of the bdt cut on random selected mc are:\n",
      "---------------------------------\n",
      "117731\n",
      "INFO: Starting to test cut B0_FitPVConst_MinIPCHI2anyPV_flat>82.82051282051282\n",
      "The yields of the bestpv cut on random selected mc are:\n",
      "---------------------------------\n",
      "117339\n",
      "INFO: Start Calculation\n",
      "INFO: Finish Calculation\n",
      "++++++++++++++++++++++++++\n",
      "++++++++++++++++++++++++++\n",
      "INFO: Starting to test cut BDTresponse_wrongPV>3.9\n",
      "The yields of the bdt cut on random selected mc are:\n",
      "---------------------------------\n",
      "117424\n",
      "INFO: Starting to test cut B0_FitPVConst_MinIPCHI2anyPV_flat>85.0\n",
      "The yields of the bestpv cut on random selected mc are:\n",
      "---------------------------------\n",
      "117230\n",
      "INFO: Start Calculation\n",
      "INFO: Finish Calculation\n",
      "++++++++++++++++++++++++++\n",
      "++++++++++++++++++++++++++\n"
     ]
    }
   ],
   "source": [
    "sig_yields_init = sample_size\n",
    "reduced_sample = signal_dataframe_wrongPV\n",
    "df = pd.DataFrame()\n",
    "\n",
    "eff_bdt_random = []\n",
    "dil_bdt_random = []\n",
    "bdt_random_poisson = []\n",
    "dil_bdt_random_poisson = []\n",
    "eff_bdt_bestpv = []\n",
    "dil_bdt_bestpv = []\n",
    "bdt_bestpv_poisson = []\n",
    "dil_bdt_bestpv_poisson = []\n",
    "    \n",
    "eff_minipchi2_random = []\n",
    "dil_minipchi2_random = []\n",
    "minipchi2_random_poisson = []\n",
    "dil_minipchi2_random_poisson = []\n",
    "eff_minipchi2_bestpv = []\n",
    "dil_minipchi2_bestpv = []\n",
    "minipchi2_bestpv_poisson = [] \n",
    "dil_minipchi2_bestpv_poisson = [] \n",
    "\n",
    "for bdt_cut,minipchi2_cut in zip(cuts_bdt,cuts_minipchi2):\n",
    "    print('INFO: Starting to test cut ' + '{0}>{1}'.format(bdt_type,bdt_cut), flush=True)\n",
    "    data_cut_bdt = data_random.query('{0}>{1}'.format(bdt_type,bdt_cut))\n",
    "    best_pv_bdt = data_bestpv.query('{0}>{1}'.format(bdt_type,bdt_cut))\n",
    "    print('The yields of the bdt cut on random selected mc are:')\n",
    "    print(\"---------------------------------\")\n",
    "    print(data_cut_bdt.shape[0])\n",
    "    #MinIPCHI2 part\n",
    "    print('INFO: Starting to test cut ' + '{0}>{1}'.format(minipchi2_type,minipchi2_cut), flush=True)\n",
    "    data_cut_minipchi2 = data_random.query('{0}>{1}'.format(minipchi2_type,minipchi2_cut))\n",
    "    best_pv_minipchi2 = data_bestpv.query('{0}>{1}'.format(minipchi2_type,minipchi2_cut))\n",
    "    print('The yields of the bestpv cut on random selected mc are:')\n",
    "    print(\"---------------------------------\")\n",
    "    print(data_cut_minipchi2.shape[0])\n",
    "    print('INFO: Start Calculation', flush=True)\n",
    "    #print('INFO: Building Ipatia (signal) + Exp (combinatorics) + Ipatia (bs-component) model for data', flush=True) \n",
    "    #final_model = build_mass_model(B0_FitDaughtersConst_M)\n",
    "    foms = calculate_foms(data_cut_bdt,best_pv_bdt,data_cut_minipchi2,best_pv_minipchi2,sig_yields_init)\n",
    "    print('INFO: Finish Calculation', flush=True)\n",
    "    print('++++++++++++++++++++++++++')\n",
    "    print('++++++++++++++++++++++++++')"
   ]
  },
  {
   "cell_type": "code",
   "execution_count": 19,
   "metadata": {
    "collapsed": false
   },
   "outputs": [
    {
     "data": {
      "text/plain": [
       "0.96249180327868855"
      ]
     },
     "execution_count": 19,
     "metadata": {},
     "output_type": "execute_result"
    }
   ],
   "source": [
    "np.amin(eff_bdt_random)"
   ]
  },
  {
   "cell_type": "code",
   "execution_count": 20,
   "metadata": {
    "collapsed": false
   },
   "outputs": [],
   "source": [
    "#Fill the dataframe    \n",
    "df_bdt = pd.DataFrame()\n",
    "df_minipchi2 = pd.DataFrame()\n",
    "\n",
    "df_bdt['efficiency_bdt_random'] = eff_bdt_random\n",
    "df_bdt['dilution_bdt_random'] = dil_bdt_random #/ np.amax(dil_bdt_random)\n",
    "df_bdt['efficiency_bdt_bestpv'] = eff_bdt_bestpv\n",
    "df_bdt['dilution_bdt_bestPV'] = dil_bdt_bestpv  #/ np.amax(dil_bdt_bestpv)\n",
    "df_bdt['bdt_random_poisson'] = bdt_random_poisson\n",
    "df_bdt['bdt_bestpv_poisson'] = bdt_bestpv_poisson\n",
    "df_bdt['dilution_bdt_random_poisson_test'] = df_bdt.dilution_bdt_random * df_bdt.bdt_random_poisson\n",
    "df_bdt['dilution_bdt_bestpv_poisson_test'] = df_bdt.dilution_bdt_bestPV * df_bdt.bdt_bestpv_poisson\n",
    "\n",
    "\n",
    "df_minipchi2['efficiency_minipchi2_random'] = eff_minipchi2_random \n",
    "df_minipchi2['dilution_minipchi2_random'] = dil_minipchi2_random #/ np.amax(dil_minipchi2_random)\n",
    "df_minipchi2['efficiency_minipchi2_bestpv'] = eff_minipchi2_bestpv\n",
    "df_minipchi2['dilution_minipchi2_bestPV'] = dil_minipchi2_bestpv # / np.amax(dil_minipchi2_bestpv)\n",
    "df_minipchi2['minipchi2_random_poisson'] = minipchi2_random_poisson\n",
    "df_minipchi2['minipchi2_bestpv_poisson'] = minipchi2_bestpv_poisson\n",
    "df_minipchi2['dilution_minipchi2_random_poisson_test'] = df_minipchi2.dilution_minipchi2_random * df_minipchi2.minipchi2_random_poisson\n",
    "df_minipchi2['dilution_minipchi2_bestpv_poisson_test'] = df_minipchi2.dilution_minipchi2_bestPV * df_minipchi2.minipchi2_bestpv_poisson\n"
   ]
  },
  {
   "cell_type": "code",
   "execution_count": 21,
   "metadata": {
    "collapsed": false
   },
   "outputs": [],
   "source": [
    "dilution_bdt_random_poisson = []\n",
    "dilution_bdt_bestpv_poisson = []\n",
    "dilution_minipchi2_random_poisson = []\n",
    "dilution_minipchi2_bestpv_poisson = []\n",
    "\n",
    "for i in range(df_bdt.shape[0]):\n",
    "    a1 = df_bdt['dilution_bdt_random'][i] * df_bdt['bdt_random_poisson'][i]\n",
    "    dilution_bdt_random_poisson.append(a1)\n",
    "    a2 = df_bdt['dilution_bdt_bestPV'][i] * df_bdt['bdt_bestpv_poisson'][i]\n",
    "    dilution_bdt_bestpv_poisson.append(a2)\n",
    "\n",
    "for i in range(df_minipchi2.shape[0]):\n",
    "    a3 = df_minipchi2['dilution_minipchi2_random'][i] * df_minipchi2['minipchi2_random_poisson'][i]\n",
    "    dilution_minipchi2_random_poisson.append(a3)\n",
    "    a4 = df_minipchi2['dilution_minipchi2_bestPV'][i] * df_minipchi2['minipchi2_bestpv_poisson'][i]\n",
    "    dilution_minipchi2_bestpv_poisson.append(a4)\n",
    "    \n",
    "df_bdt['dilution_bdt_random_poisson']             = dilution_bdt_random_poisson\n",
    "df_bdt['dilution_bdt_bestpv_poisson']             = dilution_bdt_bestpv_poisson\n",
    "df_minipchi2['dilution_minipchi2_random_poisson'] = dilution_minipchi2_random_poisson\n",
    "df_minipchi2['dilution_minipchi2_bestpv_poisson'] = dilution_minipchi2_bestpv_poisson\n"
   ]
  },
  {
   "cell_type": "code",
   "execution_count": 45,
   "metadata": {
    "collapsed": false
   },
   "outputs": [],
   "source": [
    "df_all = pd.concat([df_bdt,df_minipchi2])"
   ]
  },
  {
   "cell_type": "code",
   "execution_count": 23,
   "metadata": {
    "collapsed": false
   },
   "outputs": [],
   "source": [
    "params_bdt = list(df_bdt.columns)\n",
    "params_minipchi2 = list(df_minipchi2.columns)\n",
    "for param in params_bdt:\n",
    "    param = str(param)\n",
    "    df_bdt[param] = df_bdt[param] / df_bdt[param].max()\n",
    "for param in params_minipchi2:\n",
    "    param = str(param)\n",
    "    df_minipchi2[param] = df_minipchi2[param] / df_minipchi2[param].max()"
   ]
  },
  {
   "cell_type": "code",
   "execution_count": 46,
   "metadata": {
    "collapsed": true
   },
   "outputs": [],
   "source": [
    "params_all = list(df_all.columns)\n",
    "for param in params_all:\n",
    "    param = str(param)\n",
    "    df_all[param] = df_all[param] / df_all[param].max()"
   ]
  },
  {
   "cell_type": "code",
   "execution_count": 24,
   "metadata": {
    "collapsed": false,
    "scrolled": false
   },
   "outputs": [],
   "source": [
    "if df_minipchi2['efficiency_minipchi2_random'].min() > df_bdt['efficiency_bdt_random'].min():\n",
    "    min_eff = str(df_minipchi2['efficiency_minipchi2_random'].min())\n",
    "else:\n",
    "    min_eff = str(df_bdt['efficiency_bdt_random'].min())\n",
    "    \n",
    "df_bdt_cut = df_bdt.query('efficiency_bdt_random>0.98')# + min_eff)\n",
    "df_minipchi2_cut = df_minipchi2.query('efficiency_minipchi2_random>0.98')# + min_eff)"
   ]
  },
  {
   "cell_type": "markdown",
   "metadata": {},
   "source": [
    "# Plot FOMs"
   ]
  },
  {
   "cell_type": "markdown",
   "metadata": {},
   "source": [
    "## Compare BDT cut to MinIPCHI2 cut with random selected events each"
   ]
  },
  {
   "cell_type": "code",
   "execution_count": 25,
   "metadata": {
    "collapsed": false
   },
   "outputs": [
    {
     "data": {
      "text/plain": [
       "(1.0, 0.96090163934426231)"
      ]
     },
     "execution_count": 25,
     "metadata": {},
     "output_type": "execute_result"
    }
   ],
   "source": [
    "df_minipchi2['efficiency_minipchi2_random'].max(),df_minipchi2['efficiency_minipchi2_random'].min()"
   ]
  },
  {
   "cell_type": "code",
   "execution_count": 26,
   "metadata": {
    "collapsed": false
   },
   "outputs": [
    {
     "data": {
      "text/plain": [
       "(1.0, 0.96029508196721314)"
      ]
     },
     "execution_count": 26,
     "metadata": {},
     "output_type": "execute_result"
    }
   ],
   "source": [
    "df_minipchi2['efficiency_minipchi2_bestpv'].max(),df_minipchi2['efficiency_minipchi2_bestpv'].min()"
   ]
  },
  {
   "cell_type": "code",
   "execution_count": 27,
   "metadata": {
    "collapsed": false
   },
   "outputs": [
    {
     "data": {
      "text/plain": [
       "(1.0, 0.98240163934426228)"
      ]
     },
     "execution_count": 27,
     "metadata": {},
     "output_type": "execute_result"
    }
   ],
   "source": [
    "df_bdt['efficiency_bdt_bestpv'].max(),df_bdt['efficiency_bdt_bestpv'].min()"
   ]
  },
  {
   "cell_type": "code",
   "execution_count": 28,
   "metadata": {
    "collapsed": false,
    "scrolled": true
   },
   "outputs": [
    {
     "data": {
      "text/plain": [
       "(1.0, 0.96249180327868855)"
      ]
     },
     "execution_count": 28,
     "metadata": {},
     "output_type": "execute_result"
    }
   ],
   "source": [
    "df_bdt['efficiency_bdt_random'].max(),df_bdt['efficiency_bdt_random'].min()"
   ]
  },
  {
   "cell_type": "code",
   "execution_count": 29,
   "metadata": {
    "collapsed": false
   },
   "outputs": [
    {
     "data": {
      "text/plain": [
       "(1.0, 0.98150704795708277)"
      ]
     },
     "execution_count": 29,
     "metadata": {},
     "output_type": "execute_result"
    }
   ],
   "source": [
    "df_bdt['dilution_bdt_random_poisson'].max(),df_bdt['dilution_bdt_random_poisson'].min()"
   ]
  },
  {
   "cell_type": "code",
   "execution_count": 30,
   "metadata": {
    "collapsed": false
   },
   "outputs": [
    {
     "data": {
      "text/plain": [
       "(1.0, 0.98106666607253978)"
      ]
     },
     "execution_count": 30,
     "metadata": {},
     "output_type": "execute_result"
    }
   ],
   "source": [
    "df_bdt['bdt_random_poisson'].max(),df_bdt['bdt_random_poisson'].min()"
   ]
  },
  {
   "cell_type": "code",
   "execution_count": 31,
   "metadata": {
    "collapsed": false
   },
   "outputs": [
    {
     "data": {
      "text/plain": [
       "(1.0, 0.99955132071088082)"
      ]
     },
     "execution_count": 31,
     "metadata": {},
     "output_type": "execute_result"
    }
   ],
   "source": [
    "df_bdt['dilution_bdt_random'].max(),df_bdt['dilution_bdt_random'].min()"
   ]
  },
  {
   "cell_type": "markdown",
   "metadata": {},
   "source": [
    "### Compare BDT approach vs. MinIPCHI2 for the random PV selection"
   ]
  },
  {
   "cell_type": "code",
   "execution_count": 32,
   "metadata": {
    "collapsed": false,
    "scrolled": true
   },
   "outputs": [
    {
     "data": {
      "text/plain": [
       "<matplotlib.legend.Legend at 0x7f59a0c74518>"
      ]
     },
     "execution_count": 32,
     "metadata": {},
     "output_type": "execute_result"
    },
    {
     "data": {
      "image/png": "[encoded data removed]",
      "text/plain": [
       "<matplotlib.figure.Figure at 0x7f59a0c74358>"
      ]
     },
     "metadata": {},
     "output_type": "display_data"
    }
   ],
   "source": [
    "import seaborn as sns; sns.set_style('white')\n",
    "plt.title(\"\")\n",
    "plt.xlabel(\"\")\n",
    "plt.ylabel(\"\")\n",
    "\n",
    "plot_1 = sns.regplot(x='efficiency_bdt_random', y='dilution_bdt_random',data=df_bdt_cut,x_estimator=np.mean,fit_reg=False,label=\"BDT approach\") \n",
    "plot_3 = sns.regplot(x='efficiency_minipchi2_random', y='dilution_minipchi2_random',data=df_minipchi2_cut,x_estimator=np.mean,fit_reg=False,label=\"MinIPCHI2 approach\")\n",
    "plot_1.legend(loc=\"best\")\n",
    "#plt.savefig(\"/home/chasenberg/plots/wrong_pv/timres_eff_bdt_random.pdf\")"
   ]
  },
  {
   "cell_type": "markdown",
   "metadata": {},
   "source": [
    "### Normalize the dilution with poisson error"
   ]
  },
  {
   "cell_type": "code",
   "execution_count": 51,
   "metadata": {
    "collapsed": false,
    "scrolled": true
   },
   "outputs": [
    {
     "data": {
      "text/plain": [
       "<matplotlib.legend.Legend at 0x7f5970620438>"
      ]
     },
     "execution_count": 51,
     "metadata": {},
     "output_type": "execute_result"
    },
    {
     "data": {
      "image/png": "[encoded data removed]",
      "text/plain": [
       "<matplotlib.figure.Figure at 0x7f5970620860>"
      ]
     },
     "metadata": {},
     "output_type": "display_data"
    }
   ],
   "source": [
    "plt.title(\"\")\n",
    "plt.xlabel(\"\")\n",
    "plt.ylabel(\"\")\n",
    "\n",
    "#plot_1 = sns.regplot(x='Efficiency', y='TimeresPower',data=test_cut,x_estimator=np.mean,fit_reg=True,label=\"BDT approach\") \n",
    "#plot_2 = sns.regplot(x='Efficiency', y='error',data=test_cut,x_estimator=np.mean,fit_reg=True,label=\"Poisson error\")\n",
    "plot_3 = sns.regplot(x='efficiency_bdt_random', y='dilution_bdt_random_poisson',data=df_all,x_estimator=np.mean,fit_reg=False,label=\"BDT approach - poisson\") \n",
    "plot_2 = sns.regplot(x='efficiency_minipchi2_random', y='dilution_minipchi2_random_poisson',data=df_all,x_estimator=np.mean,fit_reg=False,label=\"MinIPCHI2 approach - poisson\")\n",
    "#plot_3 = sns.regplot(x='efficiency_minipchi2_random', y='minipchi2_random_poisson',data=df_minipchi2_cut,x_estimator=np.mean,fit_reg=False,label=\"MinIPCHI2 approach\")\n",
    "plot_2.legend(loc=\"best\")\n",
    "#plt.savefig(\"/home/chasenberg/plots/wrong_pv/timres_eff_bdt_random_poisson.pdf\")"
   ]
  },
  {
   "cell_type": "markdown",
   "metadata": {},
   "source": [
    "### Compare BDT approach vs. MinIPCHI2 for the best PV selection"
   ]
  },
  {
   "cell_type": "code",
   "execution_count": 55,
   "metadata": {
    "collapsed": false
   },
   "outputs": [
    {
     "data": {
      "text/plain": [
       "<matplotlib.legend.Legend at 0x7f5970023c88>"
      ]
     },
     "execution_count": 55,
     "metadata": {},
     "output_type": "execute_result"
    },
    {
     "data": {
      "image/png": "[encoded data removed]",
      "text/plain": [
       "<matplotlib.figure.Figure at 0x7f5970023a58>"
      ]
     },
     "metadata": {},
     "output_type": "display_data"
    }
   ],
   "source": [
    "import seaborn as sns; sns.set_style('white')\n",
    "plt.title(\"\")\n",
    "plt.xlabel(\"\")\n",
    "plt.ylabel(\"\")\n",
    "\n",
    "#plot_1 = sns.regplot(x='efficiency_bdt_bestpv', y='dilution_bdt_bestPV',data=df_bdt_cut,x_estimator=np.mean,fit_reg=False,label=\"BDT approach\") \n",
    "plot_3 = sns.regplot(x='efficiency_bdt_bestpv', y='efficiency_bdt_random',data=df_all,x_estimator=np.mean,fit_reg=False,label=\"MinIPCHI2 approach\")\n",
    "plot_1.legend(loc=\"best\")\n",
    "#plt.savefig(\"/home/chasenberg/plots/wrong_pv/timres_eff_bdt_random.pdf\")"
   ]
  },
  {
   "cell_type": "markdown",
   "metadata": {
    "collapsed": false
   },
   "source": [
    "### Normalize dilution with poisson error"
   ]
  },
  {
   "cell_type": "code",
   "execution_count": 44,
   "metadata": {
    "collapsed": false
   },
   "outputs": [
    {
     "data": {
      "text/plain": [
       "<matplotlib.legend.Legend at 0x7f597067aa20>"
      ]
     },
     "execution_count": 44,
     "metadata": {},
     "output_type": "execute_result"
    },
    {
     "data": {
      "image/png": "[encoded data removed]",
      "text/plain": [
       "<matplotlib.figure.Figure at 0x7f597067ac50>"
      ]
     },
     "metadata": {},
     "output_type": "display_data"
    }
   ],
   "source": [
    "plt.title(\"\")\n",
    "plt.xlabel(\"\")\n",
    "plt.ylabel(\"\")\n",
    "\n",
    "#plot_1 = sns.regplot(x='Efficiency', y='TimeresPower',data=test_cut,x_estimator=np.mean,fit_reg=True,label=\"BDT approach\") \n",
    "#plot_2 = sns.regplot(x='Efficiency', y='error',data=test_cut,x_estimator=np.mean,fit_reg=True,label=\"Poisson error\")\n",
    "plot_3 = sns.regplot(x='efficiency_bdt_bestpv', y='dilution_bdt_bestpv_poisson',data=df_bdt_cut,x_estimator=np.mean,fit_reg=False,label=\"BDT approach - poisson\") \n",
    "plot_2 = sns.regplot(x='efficiency_minipchi2_bestpv', y='dilution_minipchi2_bestpv_poisson',data=df_minipchi2_cut,x_estimator=np.mean,fit_reg=False,label=\"MinIPCHI2 approach - poisson\")\n",
    "#plot_3 = sns.regplot(x='efficiency_minipchi2_random', y='minipchi2_random_poisson',data=df_minipchi2_cut,x_estimator=np.mean,fit_reg=False,label=\"MinIPCHI2 approach\")\n",
    "plot_2.legend(loc=\"best\")\n",
    "#plt.savefig(\"/home/chasenberg/plots/wrong_pv/timres_eff_bdt_random_poisson.pdf\")"
   ]
  },
  {
   "cell_type": "markdown",
   "metadata": {},
   "source": [
    "### Compare random selection vs best PV selection for the BDT approach"
   ]
  },
  {
   "cell_type": "code",
   "execution_count": 36,
   "metadata": {
    "collapsed": false,
    "scrolled": true
   },
   "outputs": [
    {
     "data": {
      "text/plain": [
       "<matplotlib.legend.Legend at 0x7f59a0c74390>"
      ]
     },
     "execution_count": 36,
     "metadata": {},
     "output_type": "execute_result"
    },
    {
     "data": {
      "image/png": "[encoded data removed]",
      "text/plain": [
       "<matplotlib.figure.Figure at 0x7f5998e70c18>"
      ]
     },
     "metadata": {},
     "output_type": "display_data"
    }
   ],
   "source": [
    "plot_1 = sns.regplot(x='efficiency_bdt_random', y='dilution_bdt_random',data=df_bdt_cut, fit_reg=False,label='BDT CUT + Random Selection')\n",
    "plot_2 = sns.regplot(x='efficiency_bdt_bestpv', y='dilution_bdt_bestPV',data=df_bdt_cut, fit_reg=False,label='Best PV Selection')\n",
    "plot_1.legend(loc=\"best\")\n",
    "#plot_1.set(xlim=(df['eff_bdt_random'].min(), df['eff_bdt_random'].max()))\n",
    "#plot_1.set(ylim=(0.99,1.0001))\n",
    "#plt.savefig(\"/home/chasenberg/plots/wrong_pv/timeres_bdt_vs_bestpv.pdf\")"
   ]
  },
  {
   "cell_type": "code",
   "execution_count": 37,
   "metadata": {
    "collapsed": false
   },
   "outputs": [
    {
     "data": {
      "text/plain": [
       "<matplotlib.legend.Legend at 0x7f599646c860>"
      ]
     },
     "execution_count": 37,
     "metadata": {},
     "output_type": "execute_result"
    },
    {
     "data": {
      "image/png": "[encoded data removed]",
      "text/plain": [
       "<matplotlib.figure.Figure at 0x7f599646c748>"
      ]
     },
     "metadata": {},
     "output_type": "display_data"
    }
   ],
   "source": [
    "\n",
    "plot_1 = sns.regplot(x='efficiency_bdt_random', y='dilution_bdt_random_poisson',data=df_bdt_cut, fit_reg=False,label='BDT CUT + Random Selection')\n",
    "plot_2 = sns.regplot(x='efficiency_bdt_bestpv', y='dilution_bdt_bestpv_poisson',data=df_bdt_cut, fit_reg=False,label='Best PV Selection')\n",
    "plot_1.legend(loc=\"best\")\n",
    "#plot_1.set(xlim=(df['eff_bdt_random'].min(), df['eff_bdt_random'].max()))\n",
    "#plot_1.set(ylim=(0.99,1.0001))\n",
    "#plt.savefig(\"/home/chasenberg/plots/wrong_pv/timeres_bdt_vs_bestpv.pdf\")"
   ]
  },
  {
   "cell_type": "markdown",
   "metadata": {},
   "source": [
    "### Compare random selection vs best PV selection for the MinIPCHI2 approach"
   ]
  },
  {
   "cell_type": "code",
   "execution_count": 38,
   "metadata": {
    "collapsed": false
   },
   "outputs": [
    {
     "data": {
      "text/plain": [
       "<matplotlib.legend.Legend at 0x7f5993b51c50>"
      ]
     },
     "execution_count": 38,
     "metadata": {},
     "output_type": "execute_result"
    },
    {
     "data": {
      "image/png": "[encoded data removed]",
      "text/plain": [
       "<matplotlib.figure.Figure at 0x7f5993b0d198>"
      ]
     },
     "metadata": {},
     "output_type": "display_data"
    }
   ],
   "source": [
    "plot_1 = sns.regplot(x='efficiency_minipchi2_random', y='dilution_minipchi2_random',data=df_minipchi2_cut, fit_reg=False,label='Best PV Selection')\n",
    "plot_2 = sns.regplot(x='efficiency_minipchi2_bestpv', y='dilution_minipchi2_bestPV',data=df_minipchi2_cut, fit_reg=False,label='Random Selection')\n",
    "plot_1.legend(loc=\"best\")\n",
    "#plot_1.set(xlim=(df['eff_bdt_random'].min(), df['eff_bdt_random'].max()))\n",
    "#plot_1.set(ylim=(0.99,1.0001))\n",
    "#plt.savefig(\"/home/chasenberg/plots/wrong_pv/timeres_bdt_vs_bestpv.pdf\")"
   ]
  },
  {
   "cell_type": "code",
   "execution_count": 39,
   "metadata": {
    "collapsed": false
   },
   "outputs": [
    {
     "data": {
      "text/plain": [
       "<matplotlib.legend.Legend at 0x7f5993b40d68>"
      ]
     },
     "execution_count": 39,
     "metadata": {},
     "output_type": "execute_result"
    },
    {
     "data": {
      "image/png": "[encoded data removed]",
      "text/plain": [
       "<matplotlib.figure.Figure at 0x7f5993ae9898>"
      ]
     },
     "metadata": {},
     "output_type": "display_data"
    }
   ],
   "source": [
    "\n",
    "plot_1 = sns.regplot(x='efficiency_minipchi2_random', y='dilution_minipchi2_random_poisson_test',data=df_minipchi2_cut, fit_reg=False,label='BDT CUT + Random Selection')\n",
    "plot_2 = sns.regplot(x='efficiency_minipchi2_bestpv', y='dilution_minipchi2_bestpv_poisson_test',data=df_minipchi2_cut, fit_reg=False,label='Best PV Selection')\n",
    "plot_1.legend(loc=\"upper left\")\n",
    "#plot_1.set(xlim=(df['eff_bdt_random'].min(), df['eff_bdt_random'].max()))\n",
    "#plot_1.set(ylim=(0.99,1.0001))\n",
    "#plt.savefig(\"/home/chasenberg/plots/wrong_pv/timeres_bdt_vs_bestpv.pdf\")"
   ]
  },
  {
   "cell_type": "code",
   "execution_count": null,
   "metadata": {
    "collapsed": true
   },
   "outputs": [],
   "source": []
  }
 ],
 "metadata": {
  "kernelspec": {
   "display_name": "Python 3",
   "language": "python",
   "name": "python3"
  },
  "language_info": {
   "codemirror_mode": {
    "name": "ipython",
    "version": 3
   },
   "file_extension": ".py",
   "mimetype": "text/x-python",
   "name": "python",
   "nbconvert_exporter": "python",
   "pygments_lexer": "ipython3",
   "version": "3.4.4"
  }
 },
 "nbformat": 4,
 "nbformat_minor": 0
}
