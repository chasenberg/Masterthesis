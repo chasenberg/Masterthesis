{
 "cells": [
  {
   "cell_type": "markdown",
   "metadata": {},
   "source": [
    "## Notebook for 1D BDT scan and calculating FOMs in Bd2psi2SKS on data\n"
   ]
  },
  {
   "cell_type": "code",
   "execution_count": 1,
   "metadata": {
    "collapsed": false
   },
   "outputs": [],
   "source": [
    "%matplotlib inline\n",
    "%load_ext autoreload\n",
    "%autoreload 2\n",
    "import sys\n",
    "sys.path.append('/home/chasenberg/repos/')\n",
    "import os\n",
    "import sys\n",
    "import ROOT\n",
    "from ROOT import TFile, TH1D, TH2D, TCanvas, gStyle, TLine, TTree\n",
    "from ROOT import (RooArgSet, RooRealVar, RooDataSet, RooPlot, RooFit, RooStats, RooArgList)\n",
    "import root_pandas as rp\n",
    "import root_numpy as ry \n",
    "\n",
    "import math\n",
    "import itertools\n",
    "import numpy as np\n",
    "import matplotlib as mpl\n",
    "import matplotlib.pyplot as plt\n",
    "from matplotlib.backends.backend_pdf import PdfPages\n",
    "\n",
    "from root_pandas import read_root\n",
    "import pandas as pd\n",
    "\n",
    "sys.path.append('/home/vmueller/repos')\n",
    "from dopy.doroot.root_utils import read_roodataset_from_tree, plot_pulls\n",
    "from dopy.doplot.plotting import Plotter, Plot                "
   ]
  },
  {
   "cell_type": "code",
   "execution_count": 2,
   "metadata": {
    "collapsed": false
   },
   "outputs": [],
   "source": [
    "\n",
    "from ROOT import RooRealVar, RooExponential, RooExtendPdf, RooAddPdf, RooArgList, RooGaussian\n",
    "from ROOT import RooFormulaVar\n",
    "from ROOT import gSystem\n",
    "gSystem.Load('libRooFit.so')\n",
    "gSystem.Load('/home/chasenberg/repos/dopy/dolib/CustomShapes/libKll')\n",
    "from ROOT import RooIpatia2"
   ]
  },
  {
   "cell_type": "markdown",
   "metadata": {},
   "source": [
    "### Read ROOT file"
   ]
  },
  {
   "cell_type": "code",
   "execution_count": 3,
   "metadata": {
    "collapsed": false
   },
   "outputs": [],
   "source": [
    "dataset_file_name = '/fhgfs/users/chasenberg/mc/2015_2016_merged/jpsimumuks/Bd2JpsiKS_pv_selected.root'"
   ]
  },
  {
   "cell_type": "code",
   "execution_count": 4,
   "metadata": {
    "collapsed": true
   },
   "outputs": [],
   "source": [
    "branches = [\n",
    "            'B0_FitPVConst_tau_flat',\n",
    "            'B0_TAUERR',\n",
    "            'B0_TRUETAU',\n",
    "            'B0_FitPVConst_MinIPCHI2anyPV_flat',\n",
    "            'idxRunNumber',\n",
    "            'idxEventNumber',\n",
    "            'idxPV',\n",
    "            'BDTresponse_wrongPV'\n",
    "            ]"
   ]
  },
  {
   "cell_type": "code",
   "execution_count": 5,
   "metadata": {
    "collapsed": true
   },
   "outputs": [],
   "source": [
    "l0_cut =  '((abs(1115.683-varLambda0MassHypo_ppluspiminus)>17)|piplus_ProbNNp<0.4)&((abs(1115.683-varLambda0MassHypo_pminuspiplus)>17)|(piminus_ProbNNp<0.4))'"
   ]
  },
  {
   "cell_type": "code",
   "execution_count": 6,
   "metadata": {
    "collapsed": false
   },
   "outputs": [],
   "source": [
    "tree_mc = 'Bd2JpsiKS'\n",
    "signal_dataframe_wrongPV  = rp.read_root(dataset_file_name,key=tree_mc,columns=branches,where=l0_cut, flatten=False)\n",
    "signal_dataframe_wrongPV  = signal_dataframe_wrongPV.replace([np.inf, -np.inf], np.nan)\n",
    "signal_dataframe_wrongPV  = signal_dataframe_wrongPV.dropna()"
   ]
  },
  {
   "cell_type": "code",
   "execution_count": 7,
   "metadata": {
    "collapsed": false
   },
   "outputs": [],
   "source": [
    "signal_dataframe_wrongPV['Delta_TAU'] = signal_dataframe_wrongPV['B0_FitPVConst_tau_flat'] -signal_dataframe_wrongPV['B0_TRUETAU']"
   ]
  },
  {
   "cell_type": "code",
   "execution_count": 8,
   "metadata": {
    "collapsed": false
   },
   "outputs": [],
   "source": [
    "signal_dataframe_wrongPV.to_root('/fhgfs/users/chasenberg/mc/2015_2016_merged/jpsimumuks/interim_random.root',key='Bd2JpsiKS')"
   ]
  },
  {
   "cell_type": "markdown",
   "metadata": {},
   "source": [
    "### Function to calculate the FOMs"
   ]
  },
  {
   "cell_type": "markdown",
   "metadata": {},
   "source": [
    "### Configure  and define cuts "
   ]
  },
  {
   "cell_type": "code",
   "execution_count": 9,
   "metadata": {
    "collapsed": true
   },
   "outputs": [],
   "source": [
    "perform_dilution_scan=False"
   ]
  },
  {
   "cell_type": "code",
   "execution_count": 10,
   "metadata": {
    "collapsed": false
   },
   "outputs": [],
   "source": [
    "lowerbound=5220 # rather arbitrary signal window definition\n",
    "upperbound=5450\n",
    "#B0_FitDaughtersConst_M.setRange('SIGREGION',lowerbound,upperbound)\n",
    "\n",
    "subdir = '/home/chasenberg/plots/wrongpv_cuttuning'\n",
    "plot_dir    = os.path.join(subdir, 'plots')\n",
    "results_dir = os.path.join(subdir, 'results')\n",
    "plot_file   = os.path.join(plot_dir, 'all_plots.pdf')\n",
    "\n",
    "\n",
    "if not os.path.exists(plot_dir):\n",
    "    os.makedirs(plot_dir)\n",
    "if not os.path.exists(results_dir):\n",
    "    os.makedirs(results_dir)\n",
    "    \n",
    "\n",
    "cuts = np.linspace(0,70,40)  \n",
    "cuttype = 'B0_FitPVConst_MinIPCHI2anyPV_flat'\n",
    "\n",
    "cuts_for_which_to_store_sdata = []   \n",
    "\n",
    "num_sig = []\n",
    "num_bkg = []\n",
    "num_all = []\n",
    "\n",
    "cut_to_performance = {} \n",
    "cut_to_shape = {}\n",
    "\n",
    "postfix = ''"
   ]
  },
  {
   "cell_type": "markdown",
   "metadata": {},
   "source": [
    "### Calculate FOM"
   ]
  },
  {
   "cell_type": "code",
   "execution_count": 11,
   "metadata": {
    "collapsed": false
   },
   "outputs": [
    {
     "data": {
      "text/plain": [
       "'def calculate_foms(data_fit_cut,best_pv): \\n    import math\\n    \\n    signal_sum    = 0\\n    cbkg_sum      = 0\\n    signal_sumw2  = 0\\n    signal_sum_wrong    = 0\\n    cbkg_sum_wrong       = 0\\n    signal_sumw2_wrong   = 0\\n    \\n    delta_m = 5065 \\n    S = 0.691 #sin2beta value (average from HFAG)\\n    \\n    timeres_power_bestPV = 0\\n    timeres_power_randomPV = 0\\n    \\n\\n    \\n    tagomega = np.array(best_pv[\\'B0_TAGOMEGA_OS\\'])\\n    tag1 = np.array(best_pv[\\'B0_TAGDECISION_OS\\'])\\n    time = np.array(best_pv[\\'B0_TAU\\']) \\n    error = np.absolute(np.array(best_pv[\\'Delta_TAU\\']))\\n    \\n    tagomega_wrong = np.array(data_fit_cut[\\'B0_TAGOMEGA_OS\\'])\\n    tag1_wrong = np.array(data_fit_cut[\\'B0_TAGDECISION_OS\\'])\\n    time_wrong = np.array(data_fit_cut[\\'B0_TAU\\']) \\n    error_wrong = np.absolute(np.array(data_fit_cut[\\'Delta_TAU\\']))\\n    \\n    range_best_pv = best_pv.shape[0]-1\\n    \\n    for i in range(range_best_pv):\\n        signal_weight =  1 \\n        cbkg_weight   =  1 \\n        mistag        =  tagomega[i] \\n        tag           =  tag1[i]\\n        decaytime     =  time[i]\\n        timeerror     =  error[i]\\n        \\n        \\n        signal_sum    += signal_weight\\n        signal_sumw2  += signal_weight**2\\n        cbkg_sum      += cbkg_weight\\n\\n        timeerror_dilution = math.exp(-(delta_m*timeerror)**2)\\n\\n        timeres_power_bestPV    += timeerror_dilution*signal_weight\\n         \\n    print(\\'+++++++++++++++++++++++++\\')\\n    print(cut)\\n    timeerror_dilution_theory = math.exp(-(delta_m*cut)**2)\\n\\n    timeres_power_bestPV /= signal_sum\\n    #timeres_power_wrong /= signal_sum_wrong\\n\\n    sig_yields_cut = data_fit_cut.shape[0] \\n    efficiency = sig_yields_cut / sig_yields_init\\n    \\n    print(\"The efficiency of the cut is:\")\\n    print(efficiency)\\n    \\n    fomname_to_value = {\\n        \\'TimeresPower_bestPV\\' : timeres_power_bestPV,\\n        \\'TimeresTheory\\': timeerror_dilution_theory,\\n        \\'Efficiency\\'   : efficiency\\n    }\\n    #return fomname_to_value\\n\\n    for i in range(data_fit_cut.shape[0]):\\n        signal_weight_wrong =  1 \\n        cbkg_weight_wrong   =  1 \\n        mistag_wrong        =  tagomega_wrong[i] \\n        tag_wrong           =  tag1_wrong[i]\\n        decaytime_wrong     =  time_wrong[i]\\n        timeerror_wrong     =  error_wrong[i]\\n        \\n        \\n        signal_sum_wrong    += signal_weight_wrong\\n        signal_sumw2_wrong  += signal_weight_wrong**2\\n        \\n        timeerror_dilution_wrong = math.exp(-(delta_m*timeerror_wrong)**2)\\n    \\n        timeres_power_randomPV     += timeerror_dilution_wrong *signal_weight_wrong \\n        \\n    timeres_power_randomPV /= signal_sum_wrong  \\n    fomname_to_value.update({\\'TimeresPower_randomPV\\' : timeres_power_randomPV})\\n    \\n    return fomname_to_value'"
      ]
     },
     "execution_count": 11,
     "metadata": {},
     "output_type": "execute_result"
    }
   ],
   "source": [
    "'''def calculate_foms(data_fit_cut,best_pv): \n",
    "    import math\n",
    "    \n",
    "    signal_sum    = 0\n",
    "    cbkg_sum      = 0\n",
    "    signal_sumw2  = 0\n",
    "    signal_sum_wrong    = 0\n",
    "    cbkg_sum_wrong       = 0\n",
    "    signal_sumw2_wrong   = 0\n",
    "    \n",
    "    delta_m = 5065 \n",
    "    S = 0.691 #sin2beta value (average from HFAG)\n",
    "    \n",
    "    timeres_power_bestPV = 0\n",
    "    timeres_power_randomPV = 0\n",
    "    \n",
    "\n",
    "    \n",
    "    tagomega = np.array(best_pv['B0_TAGOMEGA_OS'])\n",
    "    tag1 = np.array(best_pv['B0_TAGDECISION_OS'])\n",
    "    time = np.array(best_pv['B0_TAU']) \n",
    "    error = np.absolute(np.array(best_pv['Delta_TAU']))\n",
    "    \n",
    "    tagomega_wrong = np.array(data_fit_cut['B0_TAGOMEGA_OS'])\n",
    "    tag1_wrong = np.array(data_fit_cut['B0_TAGDECISION_OS'])\n",
    "    time_wrong = np.array(data_fit_cut['B0_TAU']) \n",
    "    error_wrong = np.absolute(np.array(data_fit_cut['Delta_TAU']))\n",
    "    \n",
    "    range_best_pv = best_pv.shape[0]-1\n",
    "    \n",
    "    for i in range(range_best_pv):\n",
    "        signal_weight =  1 \n",
    "        cbkg_weight   =  1 \n",
    "        mistag        =  tagomega[i] \n",
    "        tag           =  tag1[i]\n",
    "        decaytime     =  time[i]\n",
    "        timeerror     =  error[i]\n",
    "        \n",
    "        \n",
    "        signal_sum    += signal_weight\n",
    "        signal_sumw2  += signal_weight**2\n",
    "        cbkg_sum      += cbkg_weight\n",
    "\n",
    "        timeerror_dilution = math.exp(-(delta_m*timeerror)**2)\n",
    "\n",
    "        timeres_power_bestPV    += timeerror_dilution*signal_weight\n",
    "         \n",
    "    print('+++++++++++++++++++++++++')\n",
    "    print(cut)\n",
    "    timeerror_dilution_theory = math.exp(-(delta_m*cut)**2)\n",
    "\n",
    "    timeres_power_bestPV /= signal_sum\n",
    "    #timeres_power_wrong /= signal_sum_wrong\n",
    "\n",
    "    sig_yields_cut = data_fit_cut.shape[0] \n",
    "    efficiency = sig_yields_cut / sig_yields_init\n",
    "    \n",
    "    print(\"The efficiency of the cut is:\")\n",
    "    print(efficiency)\n",
    "    \n",
    "    fomname_to_value = {\n",
    "        'TimeresPower_bestPV' : timeres_power_bestPV,\n",
    "        'TimeresTheory': timeerror_dilution_theory,\n",
    "        'Efficiency'   : efficiency\n",
    "    }\n",
    "    #return fomname_to_value\n",
    "\n",
    "    for i in range(data_fit_cut.shape[0]):\n",
    "        signal_weight_wrong =  1 \n",
    "        cbkg_weight_wrong   =  1 \n",
    "        mistag_wrong        =  tagomega_wrong[i] \n",
    "        tag_wrong           =  tag1_wrong[i]\n",
    "        decaytime_wrong     =  time_wrong[i]\n",
    "        timeerror_wrong     =  error_wrong[i]\n",
    "        \n",
    "        \n",
    "        signal_sum_wrong    += signal_weight_wrong\n",
    "        signal_sumw2_wrong  += signal_weight_wrong**2\n",
    "        \n",
    "        timeerror_dilution_wrong = math.exp(-(delta_m*timeerror_wrong)**2)\n",
    "    \n",
    "        timeres_power_randomPV     += timeerror_dilution_wrong *signal_weight_wrong \n",
    "        \n",
    "    timeres_power_randomPV /= signal_sum_wrong  \n",
    "    fomname_to_value.update({'TimeresPower_randomPV' : timeres_power_randomPV})\n",
    "    \n",
    "    return fomname_to_value'''"
   ]
  },
  {
   "cell_type": "code",
   "execution_count": 12,
   "metadata": {
    "collapsed": true
   },
   "outputs": [],
   "source": [
    "def calculate_foms(data_fit_cut,best_pv,yields_initial_bestpv,yields_initial_random): \n",
    "    import math\n",
    "    \n",
    "    signal_sum    = 0\n",
    "    cbkg_sum      = 0\n",
    "    signal_sumw2  = 0\n",
    "    signal_sum_wrong    = 0\n",
    "    cbkg_sum_wrong       = 0\n",
    "    signal_sumw2_wrong   = 0\n",
    "    \n",
    "    delta_m = 5065 \n",
    "    S = 0.691 #sin2beta value (average from HFAG)\n",
    "    \n",
    "    dilution_minipchi2_bestpv = 0\n",
    "    dilution_minipchi2_random = 0\n",
    "    dilution_minipchi2_random_test = 0\n",
    "    dilution_minipchi2_bestpv_test = 0\n",
    "\n",
    "    time = np.array(best_pv['B0_FitPVConst_tau_flat']) \n",
    "    error = np.absolute(np.array(best_pv['Delta_TAU']))\n",
    "    \n",
    "    time_wrong = np.array(data_fit_cut['B0_FitPVConst_tau_flat']) \n",
    "    error_wrong = np.absolute(np.array(data_fit_cut['Delta_TAU']))\n",
    "\n",
    "    #calculate dilution and efficiency for best PV selection \n",
    "    efficiency_minipchi2_bestpv = best_pv.shape[0]  / yields_initial_bestpv\n",
    "    \n",
    "    for i in range(best_pv.shape[0]):\n",
    "        signal_weight             =  1 \n",
    "        timeerror                 =  error[i]        \n",
    "        signal_sum                += signal_weight\n",
    "        timeerror_dilution        = math.exp(-(delta_m*timeerror)**2)\n",
    "        dilution_minipchi2_bestpv += timeerror_dilution\n",
    "    \n",
    "    dilution_minipchi2_bestpv     /= best_pv.shape[0]\n",
    "    minipchi2_bestpv_poisson      = 1 / np.sqrt(best_pv.shape[0])\n",
    "    dilution_minipchi2_bestpv_poisson_test = dilution_minipchi2_bestpv / minipchi2_bestpv_poisson\n",
    "    \n",
    "    \n",
    "    \n",
    "    #Calculate for random selection\n",
    "    efficiency_minipchi2_random = data_fit_cut.shape[0]  / yields_initial_random\n",
    "    for i in range(data_fit_cut.shape[0]):\n",
    "        signal_weight_wrong       =  1 \n",
    "        timeerror_wrong           =  error_wrong[i]\n",
    "        signal_sum_wrong          += signal_weight_wrong\n",
    "        timeerror_dilution_wrong  = math.exp(-(delta_m*timeerror_wrong)**2)\n",
    "        dilution_minipchi2_random += timeerror_dilution_wrong *signal_weight_wrong \n",
    "        \n",
    "    dilution_minipchi2_random /= data_fit_cut.shape[0]  \n",
    "    minipchi2_random_poisson = 1 / np.sqrt(data_fit_cut.shape[0])\n",
    "    \n",
    "    dilution_minipchi2_random_poisson_test = dilution_minipchi2_random / minipchi2_random_poisson\n",
    "    \n",
    "    #Write to dictionary\n",
    "    fomname_to_value = {\n",
    "        'dilution_minipchi2_bestpv'   : dilution_minipchi2_bestpv,\n",
    "        'efficiency_minipchi2_bestpv' : efficiency_minipchi2_bestpv,\n",
    "        'minipchi2_bestpv_poisson'    : minipchi2_bestpv_poisson,\n",
    "        'dilution_minipchi2_random'   : dilution_minipchi2_random,\n",
    "        'efficiency_minipchi2_random' : efficiency_minipchi2_random,\n",
    "        'minipchi2_random_poisson'    : minipchi2_random_poisson, \n",
    "        'dilution_minipchi2_random_poisson_test': dilution_minipchi2_random_test,\n",
    "        'dilution_minipchi2_bestpv_poisson_test': dilution_minipchi2_bestpv_poisson_test,\n",
    "    }\n",
    "    \n",
    "    return fomname_to_value\n"
   ]
  },
  {
   "cell_type": "code",
   "execution_count": 13,
   "metadata": {
    "collapsed": false,
    "scrolled": true
   },
   "outputs": [
    {
     "name": "stdout",
     "output_type": "stream",
     "text": [
      "INFO: Call CandidateSelectionGrimReaper\n",
      "Wait for GrimReaper\n",
      "GrimReaper hopefully finished\n",
      "INFO: Read selected data\n"
     ]
    }
   ],
   "source": [
    "\n",
    "from ROOT import RooArgList\n",
    "import subprocess, os\n",
    "import time\n",
    "\n",
    "\n",
    "initial_cut = str(cuts[0])\n",
    "signal_dataframe_wrongPV.to_root('/fhgfs/users/chasenberg/mc/2015_2016_merged/jpsimumuks/interim.root',key=tree_mc)\n",
    "print('INFO: Call CandidateSelectionGrimReaper', flush=True)\n",
    "my_env = os.environ.copy()\n",
    "my_env['PATH'] = '/usr/local/bin:/bin:/usr/bin:/usr/local/sbin:/usr/sbin:/sbin:/home/chasenberg/bin'\n",
    "my_env['LD_LIBRARY_PATH'] = '/usr/local/lib'\n",
    "my_env['script'] = '/home/chasenberg/repos/b2cc_sin2beta_run2/notebooks/selection'\n",
    "my_command = 'source /lhcbsoft/LHCbSoftwareSetup.sh &&' \\\n",
    "             'lb-run DaVinci/v41r2 $BASH -c \"' \\\n",
    "             'echo $PATH && ' \\\n",
    "             'source /doosoft/InstallDooSoftware/LoadDooSoftware && CandidateSelectionGrimReaper /fhgfs/users/chasenberg/mc/2015_2016_merged/jpsimumuks/interim.root Bd2JpsiKS /fhgfs/users/chasenberg/mc/2015_2016_merged/jpsimumuks/interim.root Bd2JpsiKS \"idxRunNumber\"\"'                     \n",
    "subprocess.Popen([my_command], env=my_env, shell=True)\n",
    "print(\"Wait for GrimReaper\")\n",
    "time.sleep(100.0)    # pause 5.5 seconds\n",
    "print(\"GrimReaper hopefully finished\")\n",
    "print('INFO: Read selected data', flush=True)\n",
    "data_random = rp.read_root('/fhgfs/users/chasenberg/mc/2015_2016_merged/jpsimumuks/interim.root',key=tree_mc) \n",
    "data_bestpv = signal_dataframe_wrongPV.query('idxPV==0') \n",
    "yields_initial_bestpv = data_bestpv.shape[0]\n",
    "yields_initial_random = data_random.shape[0]"
   ]
  },
  {
   "cell_type": "code",
   "execution_count": 14,
   "metadata": {
    "collapsed": false
   },
   "outputs": [
    {
     "data": {
      "text/plain": [
       "(501573, 501573)"
      ]
     },
     "execution_count": 14,
     "metadata": {},
     "output_type": "execute_result"
    }
   ],
   "source": [
    "yields_initial_random,yields_initial_random"
   ]
  },
  {
   "cell_type": "code",
   "execution_count": 15,
   "metadata": {
    "collapsed": false
   },
   "outputs": [
    {
     "name": "stdout",
     "output_type": "stream",
     "text": [
      "0.9610784472050927\n"
     ]
    }
   ],
   "source": [
    "eff = signal_dataframe_wrongPV.query('BDTresponse_wrongPV>3.5').shape[0] / signal_dataframe_wrongPV.shape[0]\n",
    "print(eff)"
   ]
  },
  {
   "cell_type": "code",
   "execution_count": 16,
   "metadata": {
    "collapsed": false,
    "scrolled": true
   },
   "outputs": [
    {
     "name": "stdout",
     "output_type": "stream",
     "text": [
      "INFO: Starting to test cut B0_FitPVConst_MinIPCHI2anyPV_flat>0.0\n",
      "INFO: Call CandidateSelectionGrimReaper\n",
      "Wait for GrimReaper\n",
      "GrimReaper hopefully finished\n",
      "INFO: Read selected data\n",
      "INFO: Start Calculation\n",
      "INFO: Finish Calculation\n",
      "INFO: Starting to test cut B0_FitPVConst_MinIPCHI2anyPV_flat>1.794871794871795\n",
      "INFO: Call CandidateSelectionGrimReaper\n",
      "Wait for GrimReaper\n",
      "GrimReaper hopefully finished\n",
      "INFO: Read selected data\n",
      "INFO: Start Calculation\n",
      "INFO: Finish Calculation\n",
      "INFO: Starting to test cut B0_FitPVConst_MinIPCHI2anyPV_flat>3.58974358974359\n",
      "INFO: Call CandidateSelectionGrimReaper\n",
      "Wait for GrimReaper\n",
      "GrimReaper hopefully finished\n",
      "INFO: Read selected data\n",
      "INFO: Start Calculation\n",
      "INFO: Finish Calculation\n",
      "INFO: Starting to test cut B0_FitPVConst_MinIPCHI2anyPV_flat>5.384615384615385\n",
      "INFO: Call CandidateSelectionGrimReaper\n",
      "Wait for GrimReaper\n",
      "GrimReaper hopefully finished\n",
      "INFO: Read selected data\n",
      "INFO: Start Calculation\n",
      "INFO: Finish Calculation\n",
      "INFO: Starting to test cut B0_FitPVConst_MinIPCHI2anyPV_flat>7.17948717948718\n",
      "INFO: Call CandidateSelectionGrimReaper\n",
      "Wait for GrimReaper\n",
      "GrimReaper hopefully finished\n",
      "INFO: Read selected data\n",
      "INFO: Start Calculation\n",
      "INFO: Finish Calculation\n",
      "INFO: Starting to test cut B0_FitPVConst_MinIPCHI2anyPV_flat>8.974358974358974\n",
      "INFO: Call CandidateSelectionGrimReaper\n",
      "Wait for GrimReaper\n",
      "GrimReaper hopefully finished\n",
      "INFO: Read selected data\n",
      "INFO: Start Calculation\n",
      "INFO: Finish Calculation\n",
      "INFO: Starting to test cut B0_FitPVConst_MinIPCHI2anyPV_flat>10.76923076923077\n",
      "INFO: Call CandidateSelectionGrimReaper\n",
      "Wait for GrimReaper\n",
      "GrimReaper hopefully finished\n",
      "INFO: Read selected data\n",
      "INFO: Start Calculation\n",
      "INFO: Finish Calculation\n",
      "INFO: Starting to test cut B0_FitPVConst_MinIPCHI2anyPV_flat>12.564102564102564\n",
      "INFO: Call CandidateSelectionGrimReaper\n",
      "Wait for GrimReaper\n",
      "GrimReaper hopefully finished\n",
      "INFO: Read selected data\n",
      "INFO: Start Calculation\n",
      "INFO: Finish Calculation\n",
      "INFO: Starting to test cut B0_FitPVConst_MinIPCHI2anyPV_flat>14.35897435897436\n",
      "INFO: Call CandidateSelectionGrimReaper\n",
      "Wait for GrimReaper\n",
      "GrimReaper hopefully finished\n",
      "INFO: Read selected data\n",
      "INFO: Start Calculation\n",
      "INFO: Finish Calculation\n",
      "INFO: Starting to test cut B0_FitPVConst_MinIPCHI2anyPV_flat>16.153846153846153\n",
      "INFO: Call CandidateSelectionGrimReaper\n",
      "Wait for GrimReaper\n",
      "GrimReaper hopefully finished\n",
      "INFO: Read selected data\n",
      "INFO: Start Calculation\n",
      "INFO: Finish Calculation\n",
      "INFO: Starting to test cut B0_FitPVConst_MinIPCHI2anyPV_flat>17.94871794871795\n",
      "INFO: Call CandidateSelectionGrimReaper\n",
      "Wait for GrimReaper\n",
      "GrimReaper hopefully finished\n",
      "INFO: Read selected data\n",
      "INFO: Start Calculation\n",
      "INFO: Finish Calculation\n",
      "INFO: Starting to test cut B0_FitPVConst_MinIPCHI2anyPV_flat>19.743589743589745\n",
      "INFO: Call CandidateSelectionGrimReaper\n",
      "Wait for GrimReaper\n",
      "GrimReaper hopefully finished\n",
      "INFO: Read selected data\n",
      "INFO: Start Calculation\n",
      "INFO: Finish Calculation\n",
      "INFO: Starting to test cut B0_FitPVConst_MinIPCHI2anyPV_flat>21.53846153846154\n",
      "INFO: Call CandidateSelectionGrimReaper\n",
      "Wait for GrimReaper\n",
      "GrimReaper hopefully finished\n",
      "INFO: Read selected data\n",
      "INFO: Start Calculation\n",
      "INFO: Finish Calculation\n",
      "INFO: Starting to test cut B0_FitPVConst_MinIPCHI2anyPV_flat>23.333333333333336\n",
      "INFO: Call CandidateSelectionGrimReaper\n",
      "Wait for GrimReaper\n",
      "GrimReaper hopefully finished\n",
      "INFO: Read selected data\n",
      "INFO: Start Calculation\n",
      "INFO: Finish Calculation\n",
      "INFO: Starting to test cut B0_FitPVConst_MinIPCHI2anyPV_flat>25.128205128205128\n",
      "INFO: Call CandidateSelectionGrimReaper\n",
      "Wait for GrimReaper\n",
      "GrimReaper hopefully finished\n",
      "INFO: Read selected data\n",
      "INFO: Start Calculation\n",
      "INFO: Finish Calculation\n",
      "INFO: Starting to test cut B0_FitPVConst_MinIPCHI2anyPV_flat>26.923076923076923\n",
      "INFO: Call CandidateSelectionGrimReaper\n",
      "Wait for GrimReaper\n",
      "GrimReaper hopefully finished\n",
      "INFO: Read selected data\n",
      "INFO: Start Calculation\n",
      "INFO: Finish Calculation\n",
      "INFO: Starting to test cut B0_FitPVConst_MinIPCHI2anyPV_flat>28.71794871794872\n",
      "INFO: Call CandidateSelectionGrimReaper\n",
      "Wait for GrimReaper\n",
      "GrimReaper hopefully finished\n",
      "INFO: Read selected data\n",
      "INFO: Start Calculation\n",
      "INFO: Finish Calculation\n",
      "INFO: Starting to test cut B0_FitPVConst_MinIPCHI2anyPV_flat>30.512820512820515\n",
      "INFO: Call CandidateSelectionGrimReaper\n",
      "Wait for GrimReaper\n",
      "GrimReaper hopefully finished\n",
      "INFO: Read selected data\n",
      "INFO: Start Calculation\n",
      "INFO: Finish Calculation\n",
      "INFO: Starting to test cut B0_FitPVConst_MinIPCHI2anyPV_flat>32.30769230769231\n",
      "INFO: Call CandidateSelectionGrimReaper\n",
      "Wait for GrimReaper\n",
      "GrimReaper hopefully finished\n",
      "INFO: Read selected data\n",
      "INFO: Start Calculation\n",
      "INFO: Finish Calculation\n",
      "INFO: Starting to test cut B0_FitPVConst_MinIPCHI2anyPV_flat>34.1025641025641\n",
      "INFO: Call CandidateSelectionGrimReaper\n",
      "Wait for GrimReaper\n",
      "GrimReaper hopefully finished\n",
      "INFO: Read selected data\n",
      "INFO: Start Calculation\n",
      "INFO: Finish Calculation\n",
      "INFO: Starting to test cut B0_FitPVConst_MinIPCHI2anyPV_flat>35.8974358974359\n",
      "INFO: Call CandidateSelectionGrimReaper\n",
      "Wait for GrimReaper\n",
      "GrimReaper hopefully finished\n",
      "INFO: Read selected data\n",
      "INFO: Start Calculation\n",
      "INFO: Finish Calculation\n",
      "INFO: Starting to test cut B0_FitPVConst_MinIPCHI2anyPV_flat>37.69230769230769\n",
      "INFO: Call CandidateSelectionGrimReaper\n",
      "Wait for GrimReaper\n",
      "GrimReaper hopefully finished\n",
      "INFO: Read selected data\n",
      "INFO: Start Calculation\n",
      "INFO: Finish Calculation\n",
      "INFO: Starting to test cut B0_FitPVConst_MinIPCHI2anyPV_flat>39.48717948717949\n",
      "INFO: Call CandidateSelectionGrimReaper\n",
      "Wait for GrimReaper\n",
      "GrimReaper hopefully finished\n",
      "INFO: Read selected data\n",
      "INFO: Start Calculation\n",
      "INFO: Finish Calculation\n",
      "INFO: Starting to test cut B0_FitPVConst_MinIPCHI2anyPV_flat>41.282051282051285\n",
      "INFO: Call CandidateSelectionGrimReaper\n",
      "Wait for GrimReaper\n",
      "GrimReaper hopefully finished\n",
      "INFO: Read selected data\n",
      "INFO: Start Calculation\n",
      "INFO: Finish Calculation\n",
      "INFO: Starting to test cut B0_FitPVConst_MinIPCHI2anyPV_flat>43.07692307692308\n",
      "INFO: Call CandidateSelectionGrimReaper\n",
      "Wait for GrimReaper\n",
      "GrimReaper hopefully finished\n",
      "INFO: Read selected data\n",
      "INFO: Start Calculation\n",
      "INFO: Finish Calculation\n",
      "INFO: Starting to test cut B0_FitPVConst_MinIPCHI2anyPV_flat>44.871794871794876\n",
      "INFO: Call CandidateSelectionGrimReaper\n",
      "Wait for GrimReaper\n",
      "GrimReaper hopefully finished\n",
      "INFO: Read selected data\n",
      "INFO: Start Calculation\n",
      "INFO: Finish Calculation\n",
      "INFO: Starting to test cut B0_FitPVConst_MinIPCHI2anyPV_flat>46.66666666666667\n",
      "INFO: Call CandidateSelectionGrimReaper\n",
      "Wait for GrimReaper\n",
      "GrimReaper hopefully finished\n",
      "INFO: Read selected data\n",
      "INFO: Start Calculation\n",
      "INFO: Finish Calculation\n",
      "INFO: Starting to test cut B0_FitPVConst_MinIPCHI2anyPV_flat>48.46153846153846\n",
      "INFO: Call CandidateSelectionGrimReaper\n",
      "Wait for GrimReaper\n",
      "GrimReaper hopefully finished\n",
      "INFO: Read selected data\n",
      "INFO: Start Calculation\n",
      "INFO: Finish Calculation\n",
      "INFO: Starting to test cut B0_FitPVConst_MinIPCHI2anyPV_flat>50.256410256410255\n",
      "INFO: Call CandidateSelectionGrimReaper\n",
      "Wait for GrimReaper\n",
      "GrimReaper hopefully finished\n",
      "INFO: Read selected data\n",
      "INFO: Start Calculation\n",
      "INFO: Finish Calculation\n",
      "INFO: Starting to test cut B0_FitPVConst_MinIPCHI2anyPV_flat>52.05128205128205\n",
      "INFO: Call CandidateSelectionGrimReaper\n",
      "Wait for GrimReaper\n",
      "GrimReaper hopefully finished\n",
      "INFO: Read selected data\n",
      "INFO: Start Calculation\n",
      "INFO: Finish Calculation\n",
      "INFO: Starting to test cut B0_FitPVConst_MinIPCHI2anyPV_flat>53.84615384615385\n",
      "INFO: Call CandidateSelectionGrimReaper\n",
      "Wait for GrimReaper\n",
      "GrimReaper hopefully finished\n",
      "INFO: Read selected data\n",
      "INFO: Start Calculation\n",
      "INFO: Finish Calculation\n",
      "INFO: Starting to test cut B0_FitPVConst_MinIPCHI2anyPV_flat>55.64102564102564\n",
      "INFO: Call CandidateSelectionGrimReaper\n",
      "Wait for GrimReaper\n",
      "GrimReaper hopefully finished\n",
      "INFO: Read selected data\n",
      "INFO: Start Calculation\n",
      "INFO: Finish Calculation\n",
      "INFO: Starting to test cut B0_FitPVConst_MinIPCHI2anyPV_flat>57.43589743589744\n",
      "INFO: Call CandidateSelectionGrimReaper\n",
      "Wait for GrimReaper\n",
      "GrimReaper hopefully finished\n",
      "INFO: Read selected data\n",
      "INFO: Start Calculation\n",
      "INFO: Finish Calculation\n",
      "INFO: Starting to test cut B0_FitPVConst_MinIPCHI2anyPV_flat>59.23076923076923\n",
      "INFO: Call CandidateSelectionGrimReaper\n",
      "Wait for GrimReaper\n",
      "GrimReaper hopefully finished\n",
      "INFO: Read selected data\n",
      "INFO: Start Calculation\n",
      "INFO: Finish Calculation\n",
      "INFO: Starting to test cut B0_FitPVConst_MinIPCHI2anyPV_flat>61.02564102564103\n",
      "INFO: Call CandidateSelectionGrimReaper\n",
      "Wait for GrimReaper\n",
      "GrimReaper hopefully finished\n",
      "INFO: Read selected data\n",
      "INFO: Start Calculation\n",
      "INFO: Finish Calculation\n",
      "INFO: Starting to test cut B0_FitPVConst_MinIPCHI2anyPV_flat>62.820512820512825\n",
      "INFO: Call CandidateSelectionGrimReaper\n",
      "Wait for GrimReaper\n",
      "GrimReaper hopefully finished\n",
      "INFO: Read selected data\n",
      "INFO: Start Calculation\n",
      "INFO: Finish Calculation\n",
      "INFO: Starting to test cut B0_FitPVConst_MinIPCHI2anyPV_flat>64.61538461538461\n",
      "INFO: Call CandidateSelectionGrimReaper\n",
      "Wait for GrimReaper\n",
      "GrimReaper hopefully finished\n",
      "INFO: Read selected data\n",
      "INFO: Start Calculation\n",
      "INFO: Finish Calculation\n",
      "INFO: Starting to test cut B0_FitPVConst_MinIPCHI2anyPV_flat>66.41025641025641\n",
      "INFO: Call CandidateSelectionGrimReaper\n",
      "Wait for GrimReaper\n",
      "GrimReaper hopefully finished\n",
      "INFO: Read selected data\n",
      "INFO: Start Calculation\n",
      "INFO: Finish Calculation\n",
      "INFO: Starting to test cut B0_FitPVConst_MinIPCHI2anyPV_flat>68.2051282051282\n",
      "INFO: Call CandidateSelectionGrimReaper\n",
      "Wait for GrimReaper\n",
      "GrimReaper hopefully finished\n",
      "INFO: Read selected data\n",
      "INFO: Start Calculation\n",
      "INFO: Finish Calculation\n",
      "INFO: Starting to test cut B0_FitPVConst_MinIPCHI2anyPV_flat>70.0\n",
      "INFO: Call CandidateSelectionGrimReaper\n",
      "Wait for GrimReaper\n",
      "GrimReaper hopefully finished\n",
      "INFO: Read selected data\n",
      "INFO: Start Calculation\n",
      "INFO: Finish Calculation\n"
     ]
    }
   ],
   "source": [
    "from ROOT import RooArgList\n",
    "import subprocess, os\n",
    "import time\n",
    "\n",
    "x=None\n",
    "\n",
    "\n",
    "\n",
    "for cut in cuts:\n",
    "    print('INFO: Starting to test cut ' + '{0}>{1}'.format(cuttype,cut), flush=True)\n",
    "    data_fit_cut = signal_dataframe_wrongPV.query('{0}>{1}'.format(cuttype,cut)) \n",
    "    best_pv = signal_dataframe_wrongPV.query('idxPV==0').query('{0}>{1}'.format(cuttype,cut))\n",
    "    data_fit_cut.to_root('/fhgfs/users/chasenberg/mc/2015_2016_merged/jpsimumuks/interim_random.root',key=tree_mc)\n",
    "    print('INFO: Call CandidateSelectionGrimReaper', flush=True)\n",
    "    \n",
    "    my_env = os.environ.copy()\n",
    "    my_env['PATH'] = '/usr/local/bin:/bin:/usr/bin:/usr/local/sbin:/usr/sbin:/sbin:/home/chasenberg/bin'\n",
    "    my_env['LD_LIBRARY_PATH'] = '/usr/local/lib'\n",
    "    my_env['script'] = '/home/chasenberg/repos/b2cc_sin2beta_run2/notebooks/selection'\n",
    "    my_command = 'source /lhcbsoft/LHCbSoftwareSetup.sh &&' \\\n",
    "        'lb-run DaVinci/v41r2 $BASH -c \"' \\\n",
    "        'echo $PATH && ' \\\n",
    "        'source /doosoft/InstallDooSoftware/LoadDooSoftware && CandidateSelectionGrimReaper /fhgfs/users/chasenberg/mc/2015_2016_merged/jpsimumuks/interim_random.root Bd2JpsiKS /fhgfs/users/chasenberg/mc/2015_2016_merged/jpsimumuks/interim_random.root Bd2JpsiKS \"idxRunNumber\"\"'        \n",
    "    subprocess.Popen([my_command], env=my_env, shell=True)\n",
    "        \n",
    "    print(\"Wait for GrimReaper\")\n",
    "    time.sleep(200.0)        # pause 5.5 seconds\n",
    "    print(\"GrimReaper hopefully finished\")\n",
    "    print('INFO: Read selected data', flush=True)\n",
    "    data_fit_cut = rp.read_root('/fhgfs/users/chasenberg/mc/2015_2016_merged/jpsimumuks/interim_random.root',key=tree_mc)\n",
    "    print('INFO: Start Calculation', flush=True)\n",
    "    cut_to_shape[cut] = {} \n",
    "    cut_to_performance[cut] = {}\n",
    "   \n",
    "    \n",
    "    foms = calculate_foms(data_fit_cut,best_pv,yields_initial_bestpv,yields_initial_random)\n",
    "    cut_to_performance[cut].update(foms)\n",
    "    \n",
    "    print('INFO: Finish Calculation', flush=True)"
   ]
  },
  {
   "cell_type": "code",
   "execution_count": 17,
   "metadata": {
    "collapsed": false
   },
   "outputs": [
    {
     "name": "stderr",
     "output_type": "stream",
     "text": [
      "/opt/rh/miniconda/envs/py3root6/lib/python3.4/site-packages/ipykernel/__main__.py:19: RuntimeWarning: invalid value encountered in true_divide\n"
     ]
    }
   ],
   "source": [
    "import numpy as np\n",
    "\n",
    "def unpack_cut_dict(cut_dict, normalize=True):\n",
    "    cuts = np.array(list(cut_dict.keys()))\n",
    "    cuts.sort()\n",
    "    \n",
    "    new_dict = {}\n",
    "    for cut in cuts:\n",
    "        parameters_dict = cut_dict[cut]\n",
    "        for parameter, value in parameters_dict.items():\n",
    "            if parameter in new_dict:\n",
    "                new_dict[parameter].append(value)\n",
    "            else:\n",
    "                new_dict[parameter] = [value]\n",
    "    \n",
    "    for parameter, values in new_dict.items():\n",
    "        new_dict[parameter] = np.array(values)\n",
    "        if normalize:\n",
    "            new_dict[parameter] = values/np.max(np.abs(values))\n",
    "    \n",
    "    return cuts, new_dict\n",
    "\n",
    "x, ys = unpack_cut_dict(cut_to_performance)\n",
    "for parameter, values in ys.items():\n",
    "    if \"value\" in parameter:\n",
    "        print(values)\n",
    "        y_errlo = np.array(ys[parameter.replace(\"_value\",\"_errlo\")])\n",
    "        y_errhi = np.array(ys[parameter.replace(\"_value\",\"_errhi\")])\n",
    "        y_errors= abs(np.vstack([y_errlo,y_errhi]))\n",
    "        plt.errorbar(x,values,yerr=y_errors,marker='.',linestyle='', label='sigma')\n",
    "        plt.xlabel(parameter)\n",
    "        plotname = parameter + '.pdf'\n",
    "        singleplot_file = os.path.join(plot_dir, plotname)\n",
    "        plt.savefig(singleplot_file)\n",
    "        plt.show()"
   ]
  },
  {
   "cell_type": "code",
   "execution_count": 18,
   "metadata": {
    "collapsed": false
   },
   "outputs": [],
   "source": [
    "df_minipchi2 = pd.DataFrame()\n",
    "df_minipchi2['dilution_minipchi2_bestpv'] = np.array(ys['dilution_minipchi2_bestpv'])\n",
    "df_minipchi2['dilution_minipchi2_random'] = np.array(ys['dilution_minipchi2_random'])\n",
    "df_minipchi2['efficiency_minipchi2_bestpv'] = np.array(ys['efficiency_minipchi2_bestpv'])\n",
    "df_minipchi2['efficiency_minipchi2_random'] = np.array(ys['efficiency_minipchi2_random'])\n",
    "df_minipchi2['minipchi2_random_poisson'] = np.array(ys['minipchi2_random_poisson'])\n",
    "df_minipchi2['minipchi2_bestpv_poisson'] = np.array(ys['minipchi2_bestpv_poisson'])\n",
    "df_minipchi2['dilution_minipchi2_random_poisson'] = df_minipchi2['dilution_minipchi2_random'] / df_minipchi2['minipchi2_random_poisson']\n",
    "df_minipchi2['dilution_minipchi2_bestpv_poisson'] = df_minipchi2.dilution_minipchi2_bestpv / df_minipchi2.minipchi2_bestpv_poisson"
   ]
  },
  {
   "cell_type": "code",
   "execution_count": 19,
   "metadata": {
    "collapsed": true
   },
   "outputs": [],
   "source": [
    "df_minipchi2.to_csv('/home/chasenberg/plots/csv_data/minipchi2.csv')"
   ]
  },
  {
   "cell_type": "code",
   "execution_count": 20,
   "metadata": {
    "collapsed": false
   },
   "outputs": [
    {
     "data": {
      "text/plain": [
       "(1.0, 0.99818411801422202)"
      ]
     },
     "execution_count": 20,
     "metadata": {},
     "output_type": "execute_result"
    }
   ],
   "source": [
    "df_minipchi2['dilution_minipchi2_bestpv'].max(),df_minipchi2['dilution_minipchi2_bestpv'].min()"
   ]
  },
  {
   "cell_type": "code",
   "execution_count": 21,
   "metadata": {
    "collapsed": false
   },
   "outputs": [
    {
     "data": {
      "text/plain": [
       "(1.0, 0.95913011970643902)"
      ]
     },
     "execution_count": 21,
     "metadata": {},
     "output_type": "execute_result"
    }
   ],
   "source": [
    "df_minipchi2['efficiency_minipchi2_bestpv'].max(),df_minipchi2['efficiency_minipchi2_bestpv'].min()"
   ]
  },
  {
   "cell_type": "markdown",
   "metadata": {
    "collapsed": false
   },
   "source": [
    "### Compare Random PV vs. best PV selection"
   ]
  },
  {
   "cell_type": "code",
   "execution_count": 22,
   "metadata": {
    "collapsed": false,
    "scrolled": true
   },
   "outputs": [
    {
     "data": {
      "image/png": "[encoded data removed]",
      "text/plain": [
       "<matplotlib.figure.Figure at 0x7f753d497d68>"
      ]
     },
     "metadata": {},
     "output_type": "display_data"
    }
   ],
   "source": [
    "import seaborn as sns; sns.set_style('white')\n",
    "plot_2 = sns.regplot(x='efficiency_minipchi2_bestpv', y='dilution_minipchi2_bestpv',marker='o',data=df_minipchi2,x_estimator=np.mean, fit_reg=False,label='Best PV Selection')\n",
    "plot_1 = sns.regplot(x='efficiency_minipchi2_random', y='dilution_minipchi2_random',marker='v',color='green',data=df_minipchi2,x_estimator=np.mean, fit_reg=False,label='Random PV Selection')\n",
    "plot_1.legend(loc=\"lower left\")\n",
    "if df_minipchi2['dilution_minipchi2_bestpv'].min() < df_minipchi2['dilution_minipchi2_random'].min():\n",
    "    plot_1.set(ylim=(df_minipchi2['dilution_minipchi2_bestpv'].min(), df_minipchi2['dilution_minipchi2_bestpv'].max()-0.001))\n",
    "else:\n",
    "    plot_1.set(ylim=(df_minipchi2['dilution_minipchi2_random'].min()-0.0001, df_minipchi2['dilution_minipchi2_random'].max()+0.0001))\n",
    "plot_1.set(xlim=(df_minipchi2['efficiency_minipchi2_random'].min()-0.001, df_minipchi2['efficiency_minipchi2_random'].max()+0.001))\n",
    "plt.savefig(\"/home/chasenberg/plots/wrong_pv/timeres_chi2_bestpv_vs_random.pdf\")\n"
   ]
  },
  {
   "cell_type": "code",
   "execution_count": 1,
   "metadata": {
    "collapsed": false
   },
   "outputs": [
    {
     "ename": "NameError",
     "evalue": "name 'df_minipchi2' is not defined",
     "output_type": "error",
     "traceback": [
      "\u001b[1;31m---------------------------------------------------------------------------\u001b[0m",
      "\u001b[1;31mNameError\u001b[0m                                 Traceback (most recent call last)",
      "\u001b[1;32m<ipython-input-1-af2342699cf7>\u001b[0m in \u001b[0;36m<module>\u001b[1;34m()\u001b[0m\n\u001b[0;32m      1\u001b[0m \u001b[1;32mimport\u001b[0m \u001b[0mseaborn\u001b[0m \u001b[1;32mas\u001b[0m \u001b[0msns\u001b[0m\u001b[1;33m;\u001b[0m \u001b[0msns\u001b[0m\u001b[1;33m.\u001b[0m\u001b[0mset_style\u001b[0m\u001b[1;33m(\u001b[0m\u001b[1;34m'white'\u001b[0m\u001b[1;33m)\u001b[0m\u001b[1;33m\u001b[0m\u001b[0m\n\u001b[1;32m----> 2\u001b[1;33m \u001b[0mdf_minipchi2\u001b[0m\u001b[1;33m[\u001b[0m\u001b[1;34m'factor_random'\u001b[0m\u001b[1;33m]\u001b[0m \u001b[1;33m=\u001b[0m \u001b[1;36m1\u001b[0m \u001b[1;33m/\u001b[0m \u001b[0mdf_minipchi2\u001b[0m\u001b[1;33m.\u001b[0m\u001b[0mminipchi2_random_poisson\u001b[0m\u001b[1;33m\u001b[0m\u001b[0m\n\u001b[0m\u001b[0;32m      3\u001b[0m \u001b[0mdf_minipchi2\u001b[0m\u001b[1;33m[\u001b[0m\u001b[1;34m'factor_bestpv'\u001b[0m\u001b[1;33m]\u001b[0m \u001b[1;33m=\u001b[0m \u001b[1;36m1\u001b[0m \u001b[1;33m/\u001b[0m \u001b[0mdf_minipchi2\u001b[0m\u001b[1;33m.\u001b[0m\u001b[0mminipchi2_bestpv_poisson\u001b[0m\u001b[1;33m\u001b[0m\u001b[0m\n\u001b[0;32m      4\u001b[0m \u001b[0mplot_1\u001b[0m \u001b[1;33m=\u001b[0m \u001b[0msns\u001b[0m\u001b[1;33m.\u001b[0m\u001b[0mregplot\u001b[0m\u001b[1;33m(\u001b[0m\u001b[0mx\u001b[0m\u001b[1;33m=\u001b[0m\u001b[1;34m'efficiency_minipchi2_bestpv'\u001b[0m\u001b[1;33m,\u001b[0m \u001b[0my\u001b[0m\u001b[1;33m=\u001b[0m\u001b[1;34m'dilution_minipchi2_bestpv_poisson'\u001b[0m\u001b[1;33m,\u001b[0m\u001b[0mdata\u001b[0m\u001b[1;33m=\u001b[0m\u001b[0mdf_minipchi2\u001b[0m\u001b[1;33m,\u001b[0m\u001b[0mx_estimator\u001b[0m\u001b[1;33m=\u001b[0m\u001b[0mnp\u001b[0m\u001b[1;33m.\u001b[0m\u001b[0mmean\u001b[0m\u001b[1;33m,\u001b[0m\u001b[0mmarker\u001b[0m\u001b[1;33m=\u001b[0m\u001b[1;34m'o'\u001b[0m\u001b[1;33m,\u001b[0m \u001b[0mfit_reg\u001b[0m\u001b[1;33m=\u001b[0m\u001b[1;32mFalse\u001b[0m\u001b[1;33m,\u001b[0m\u001b[0mlabel\u001b[0m\u001b[1;33m=\u001b[0m\u001b[1;34m'Best PV Selection'\u001b[0m\u001b[1;33m)\u001b[0m\u001b[1;33m\u001b[0m\u001b[0m\n\u001b[0;32m      5\u001b[0m \u001b[0mplot_2\u001b[0m \u001b[1;33m=\u001b[0m \u001b[0msns\u001b[0m\u001b[1;33m.\u001b[0m\u001b[0mregplot\u001b[0m\u001b[1;33m(\u001b[0m\u001b[0mx\u001b[0m\u001b[1;33m=\u001b[0m\u001b[1;34m'efficiency_minipchi2_random'\u001b[0m\u001b[1;33m,\u001b[0m \u001b[0my\u001b[0m\u001b[1;33m=\u001b[0m\u001b[1;34m'dilution_minipchi2_random_poisson'\u001b[0m\u001b[1;33m,\u001b[0m\u001b[0mdata\u001b[0m\u001b[1;33m=\u001b[0m\u001b[0mdf_minipchi2\u001b[0m\u001b[1;33m,\u001b[0m\u001b[0mx_estimator\u001b[0m\u001b[1;33m=\u001b[0m\u001b[0mnp\u001b[0m\u001b[1;33m.\u001b[0m\u001b[0mmean\u001b[0m\u001b[1;33m,\u001b[0m\u001b[0mmarker\u001b[0m\u001b[1;33m=\u001b[0m\u001b[1;34m'v'\u001b[0m\u001b[1;33m,\u001b[0m\u001b[0mcolor\u001b[0m\u001b[1;33m=\u001b[0m\u001b[1;34m'green'\u001b[0m\u001b[1;33m,\u001b[0m \u001b[0mfit_reg\u001b[0m\u001b[1;33m=\u001b[0m\u001b[1;32mFalse\u001b[0m\u001b[1;33m,\u001b[0m\u001b[0mlabel\u001b[0m\u001b[1;33m=\u001b[0m\u001b[1;34m'Random PV Selection'\u001b[0m\u001b[1;33m)\u001b[0m\u001b[1;33m\u001b[0m\u001b[0m\n",
      "\u001b[1;31mNameError\u001b[0m: name 'df_minipchi2' is not defined"
     ]
    }
   ],
   "source": [
    "import seaborn as sns; sns.set_style('white')\n",
    "df_minipchi2['factor_random'] = 1 / df_minipchi2.minipchi2_random_poisson\n",
    "df_minipchi2['factor_bestpv'] = 1 / df_minipchi2.minipchi2_bestpv_poisson\n",
    "plot_1 = sns.regplot(x='efficiency_minipchi2_bestpv', y='dilution_minipchi2_bestpv_poisson',data=df_minipchi2,x_estimator=np.mean,marker='o', fit_reg=False,label='Best PV Selection')\n",
    "plot_2 = sns.regplot(x='efficiency_minipchi2_random', y='dilution_minipchi2_random_poisson',data=df_minipchi2,x_estimator=np.mean,marker='v',color='green', fit_reg=False,label='Random PV Selection')\n",
    "plot_1.legend(loc=\"upper left\")\n",
    "\n",
    "if df_minipchi2['dilution_minipchi2_bestpv_poisson'].min() < df_minipchi2['dilution_minipchi2_random_poisson'].min():\n",
    "    plot_1.set(ylim=(df_minipchi2['dilution_minipchi2_bestpv_poisson'].min(), df_minipchi2['dilution_minipchi2_bestpv_poisson'].max()+0.01))\n",
    "else:\n",
    "    plot_1.set(ylim=(df_minipchi2['dilution_minipchi2_random_poisson'].min(), df_minipchi2['dilution_minipchi2_random_poisson'].max()+0.001))\n",
    "plot_1.set(xlim=(df_minipchi2['efficiency_minipchi2_random'].min(), df_minipchi2['efficiency_minipchi2_random'].max()+0.001))\n",
    "\n",
    "plt.savefig(\"/home/chasenberg/plots/wrong_pv/timeres_chi2_bestpv_vs_random_poisson.pdf\")\n",
    "\n"
   ]
  },
  {
   "cell_type": "code",
   "execution_count": null,
   "metadata": {
    "collapsed": true
   },
   "outputs": [],
   "source": []
  },
  {
   "cell_type": "code",
   "execution_count": null,
   "metadata": {
    "collapsed": true
   },
   "outputs": [],
   "source": []
  }
 ],
 "metadata": {
  "kernelspec": {
   "display_name": "Python 3",
   "language": "python",
   "name": "python3"
  },
  "language_info": {
   "codemirror_mode": {
    "name": "ipython",
    "version": 3
   },
   "file_extension": ".py",
   "mimetype": "text/x-python",
   "name": "python",
   "nbconvert_exporter": "python",
   "pygments_lexer": "ipython3",
   "version": "3.4.4"
  }
 },
 "nbformat": 4,
 "nbformat_minor": 0
}
