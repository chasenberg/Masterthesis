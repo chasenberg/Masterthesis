{
 "cells": [
  {
   "cell_type": "markdown",
   "metadata": {},
   "source": [
    "## Notebook for 1D BDT scan and calculating FOMs in Bd2psi2SKS on data\n"
   ]
  },
  {
   "cell_type": "code",
   "execution_count": 1,
   "metadata": {
    "collapsed": false
   },
   "outputs": [],
   "source": [
    "%matplotlib inline\n",
    "%load_ext autoreload\n",
    "%autoreload 2\n",
    "import sys\n",
    "sys.path.append('/home/chasenberg/repos/')\n",
    "import os\n",
    "import sys\n",
    "import ROOT\n",
    "from ROOT import TFile, TH1D, TH2D, TCanvas, gStyle, TLine, TTree\n",
    "from ROOT import (RooArgSet, RooRealVar, RooDataSet, RooPlot, RooFit, RooStats, RooArgList)\n",
    "import root_pandas as rp\n",
    "import root_numpy as ry \n",
    "\n",
    "import math\n",
    "import itertools\n",
    "import numpy as np\n",
    "import matplotlib as mpl\n",
    "import matplotlib.pyplot as plt\n",
    "from matplotlib.backends.backend_pdf import PdfPages\n",
    "\n",
    "from root_pandas import read_root\n",
    "import pandas as pd\n",
    "\n",
    "sys.path.append('/home/vmueller/repos')\n",
    "from dopy.doroot.root_utils import read_roodataset_from_tree, plot_pulls\n",
    "from dopy.doplot.plotting import Plotter, Plot                "
   ]
  },
  {
   "cell_type": "code",
   "execution_count": 2,
   "metadata": {
    "collapsed": false
   },
   "outputs": [],
   "source": [
    "\n",
    "from ROOT import RooRealVar, RooExponential, RooExtendPdf, RooAddPdf, RooArgList, RooGaussian\n",
    "from ROOT import RooFormulaVar\n",
    "from ROOT import gSystem\n",
    "gSystem.Load('libRooFit.so')\n",
    "gSystem.Load('/home/chasenberg/repos/dopy/dolib/CustomShapes/libKll')\n",
    "from ROOT import RooIpatia2"
   ]
  },
  {
   "cell_type": "markdown",
   "metadata": {},
   "source": [
    "### Read ROOT file"
   ]
  },
  {
   "cell_type": "code",
   "execution_count": 3,
   "metadata": {
    "collapsed": false
   },
   "outputs": [],
   "source": [
    "dataset_file_name = '/fhgfs/users/chasenberg/mc/2015_2016_merged/jpsimumuks/Bd2JpsiKS_selected.root'"
   ]
  },
  {
   "cell_type": "code",
   "execution_count": 4,
   "metadata": {
    "collapsed": true
   },
   "outputs": [],
   "source": [
    "branches = [\n",
    "            'B0_TAGOMEGA_OS',\n",
    "            'B0_TAGDECISION_OS',\n",
    "            'B0_TAU',\n",
    "            'B0_TAUERR',\n",
    "            'B0_TRUETAU',\n",
    "            'B0_FitPVConst_MinIPCHI2anyPV_flat',\n",
    "            'idxRunNumber',\n",
    "            'idxEventNumber',\n",
    "            'idxPV'\n",
    "            ]"
   ]
  },
  {
   "cell_type": "code",
   "execution_count": 5,
   "metadata": {
    "collapsed": true
   },
   "outputs": [],
   "source": [
    "l0_cut =  '((abs(1115.683-varLambda0MassHypo_ppluspiminus)>17)|piplus_ProbNNp<0.4)&((abs(1115.683-varLambda0MassHypo_pminuspiplus)>17)|(piminus_ProbNNp<0.4))'"
   ]
  },
  {
   "cell_type": "code",
   "execution_count": 6,
   "metadata": {
    "collapsed": false
   },
   "outputs": [],
   "source": [
    "tree_mc = 'Bd2JpsiKS'\n",
    "signal_dataframe_wrongPV  = rp.read_root(dataset_file_name,key=tree_mc,columns=branches,where=l0_cut, flatten=False)\n",
    "signal_dataframe_wrongPV  = signal_dataframe_wrongPV.replace([np.inf, -np.inf], np.nan)\n",
    "signal_dataframe_wrongPV  = signal_dataframe_wrongPV.dropna()"
   ]
  },
  {
   "cell_type": "code",
   "execution_count": 7,
   "metadata": {
    "collapsed": false
   },
   "outputs": [],
   "source": [
    "signal_dataframe_wrongPV['Delta_TAU'] = signal_dataframe_wrongPV['B0_TAU'] -signal_dataframe_wrongPV['B0_TRUETAU']"
   ]
  },
  {
   "cell_type": "code",
   "execution_count": 8,
   "metadata": {
    "collapsed": false
   },
   "outputs": [],
   "source": [
    "signal_dataframe_wrongPV.to_root('/fhgfs/users/chasenberg/mc/2015_2016_merged/jpsimumuks/interim_random.root',key='Bd2JpsiKS')"
   ]
  },
  {
   "cell_type": "code",
   "execution_count": 9,
   "metadata": {
    "collapsed": false
   },
   "outputs": [
    {
     "data": {
      "text/plain": [
       "'test_1 = pd.DataFrame()\\ntest_2 = pd.DataFrame()\\ntest_3 = pd.DataFrame()\\nfor row in signal_dataframe_wrongPV.itertuples():\\n    print(\"yes\")\\npv_num = signal_dataframe_wrongPV[\\'runNumber\\'].unique()\\npv_num = np.array(pv_num)\\nprint(len(pv_num))\\nfor nums in pv_num:\\n    num = str(nums)\\n    test_1 = signal_dataframe_wrongPV.query(\\'runNumber\\'+\\'==\\'+num)\\n    evt_num = test_1[\\'eventNumber\\'].unique()\\n    evt_num = np.array(evt_num)\\n    print(len(evt_num))\\n    for evts in evt_num:\\n        print(len(evt_num))\\n        evt = str(evts)\\n        #print(test_1.query(\\'eventNumber\\'+\\'==\\'+evt).shape).sample(n=1)\\n        test_3.append(test_1[test_1[\\'eventNumber\\']==evts]).sample(n=1) \\n    for evts in evt_num:\\n        print(len(evt_num))\\n        evt = str(evts)\\n        #print(test_1.query(\\'eventNumber\\'+\\'==\\'+evt).shape).sample(n=1)\\n        test_3.append(test_1[test_1[\\'eventNumber\\']==evts]).sample(n=1)'"
      ]
     },
     "execution_count": 9,
     "metadata": {},
     "output_type": "execute_result"
    }
   ],
   "source": [
    "'''test_1 = pd.DataFrame()\n",
    "test_2 = pd.DataFrame()\n",
    "test_3 = pd.DataFrame()\n",
    "for row in signal_dataframe_wrongPV.itertuples():\n",
    "    print(\"yes\")\n",
    "pv_num = signal_dataframe_wrongPV['runNumber'].unique()\n",
    "pv_num = np.array(pv_num)\n",
    "print(len(pv_num))\n",
    "for nums in pv_num:\n",
    "    num = str(nums)\n",
    "    test_1 = signal_dataframe_wrongPV.query('runNumber'+'=='+num)\n",
    "    evt_num = test_1['eventNumber'].unique()\n",
    "    evt_num = np.array(evt_num)\n",
    "    print(len(evt_num))\n",
    "    for evts in evt_num:\n",
    "        print(len(evt_num))\n",
    "        evt = str(evts)\n",
    "        #print(test_1.query('eventNumber'+'=='+evt).shape).sample(n=1)\n",
    "        test_3.append(test_1[test_1['eventNumber']==evts]).sample(n=1) \n",
    "    for evts in evt_num:\n",
    "        print(len(evt_num))\n",
    "        evt = str(evts)\n",
    "        #print(test_1.query('eventNumber'+'=='+evt).shape).sample(n=1)\n",
    "        test_3.append(test_1[test_1['eventNumber']==evts]).sample(n=1)'''"
   ]
  },
  {
   "cell_type": "code",
   "execution_count": 10,
   "metadata": {
    "collapsed": false
   },
   "outputs": [],
   "source": [
    "#test.shape,signal_dataframe_wrongPV.query('idxPV==0').shape,signal_dataframe_wrongPV.shape"
   ]
  },
  {
   "cell_type": "markdown",
   "metadata": {},
   "source": [
    "### Function to calculate the FOMs"
   ]
  },
  {
   "cell_type": "markdown",
   "metadata": {},
   "source": [
    "### Configure  and define cuts "
   ]
  },
  {
   "cell_type": "code",
   "execution_count": 11,
   "metadata": {
    "collapsed": true
   },
   "outputs": [],
   "source": [
    "perform_dilution_scan=False"
   ]
  },
  {
   "cell_type": "code",
   "execution_count": 12,
   "metadata": {
    "collapsed": false
   },
   "outputs": [],
   "source": [
    "lowerbound=5220 # rather arbitrary signal window definition\n",
    "upperbound=5450\n",
    "#B0_FitDaughtersConst_M.setRange('SIGREGION',lowerbound,upperbound)\n",
    "\n",
    "subdir = '/home/chasenberg/plots/wrongpv_cuttuning'\n",
    "plot_dir    = os.path.join(subdir, 'plots')\n",
    "results_dir = os.path.join(subdir, 'results')\n",
    "plot_file   = os.path.join(plot_dir, 'all_plots.pdf')\n",
    "\n",
    "\n",
    "if not os.path.exists(plot_dir):\n",
    "    os.makedirs(plot_dir)\n",
    "if not os.path.exists(results_dir):\n",
    "    os.makedirs(results_dir)\n",
    "    \n",
    "mass_var_name = 'B0_FitDaughtersConst_M'\n",
    "\n",
    "\n",
    "if perform_dilution_scan==True:\n",
    "    cuts = np.linspace(0.00001,0.02,100)  \n",
    "    cuttype = 'Delta_TAU'\n",
    "else:    \n",
    "    cuts = np.linspace(0,300,20)  \n",
    "    cuttype = 'B0_FitPVConst_MinIPCHI2anyPV_flat'\n",
    "\n",
    "cuts_for_which_to_store_sdata = []   \n",
    "\n",
    "num_sig = []\n",
    "num_bkg = []\n",
    "num_all = []\n",
    "\n",
    "cut_to_performance = {} \n",
    "cut_to_shape = {}\n",
    "\n",
    "perform_fit = True\n",
    "do_splot    = True\n",
    "postfix = ''\n",
    "final_params_file = None\n",
    "oldParameters = None\n",
    "final_model = None"
   ]
  },
  {
   "cell_type": "markdown",
   "metadata": {},
   "source": [
    "### Calculate FOM"
   ]
  },
  {
   "cell_type": "code",
   "execution_count": null,
   "metadata": {
    "collapsed": false
   },
   "outputs": [],
   "source": [
    "def calculate_foms(data_fit_cut,best_pv): \n",
    "    import math\n",
    "    \n",
    "    signal_sum    = 0\n",
    "    cbkg_sum      = 0\n",
    "    signal_sumw2  = 0\n",
    "    signal_sum_wrong    = 0\n",
    "    cbkg_sum_wrong       = 0\n",
    "    signal_sumw2_wrong   = 0\n",
    "    \n",
    "    delta_m = 5065 \n",
    "    S = 0.691 #sin2beta value (average from HFAG)\n",
    "    \n",
    "    timeres_power_bestPV = 0\n",
    "    timeres_power_randomPV = 0\n",
    "    \n",
    "\n",
    "    \n",
    "    tagomega = np.array(best_pv['B0_TAGOMEGA_OS'])\n",
    "    tag1 = np.array(best_pv['B0_TAGDECISION_OS'])\n",
    "    time = np.array(best_pv['B0_TAU']) \n",
    "    error = np.absolute(np.array(best_pv['Delta_TAU']))\n",
    "    \n",
    "    tagomega_wrong = np.array(data_fit_cut['B0_TAGOMEGA_OS'])\n",
    "    tag1_wrong = np.array(data_fit_cut['B0_TAGDECISION_OS'])\n",
    "    time_wrong = np.array(data_fit_cut['B0_TAU']) \n",
    "    error_wrong = np.absolute(np.array(data_fit_cut['Delta_TAU']))\n",
    "    \n",
    "    range_best_pv = best_pv.shape[0]-1\n",
    "    \n",
    "    for i in range(range_best_pv):\n",
    "        signal_weight =  1 \n",
    "        cbkg_weight   =  1 \n",
    "        mistag        =  tagomega[i] \n",
    "        tag           =  tag1[i]\n",
    "        decaytime     =  time[i]\n",
    "        timeerror     =  error[i]\n",
    "        \n",
    "        \n",
    "        signal_sum    += signal_weight\n",
    "        signal_sumw2  += signal_weight**2\n",
    "        cbkg_sum      += cbkg_weight\n",
    "\n",
    "        timeerror_dilution = math.exp(-(delta_m*timeerror)**2)\n",
    "\n",
    "        timeres_power_bestPV    += timeerror_dilution*signal_weight\n",
    "         \n",
    "    print('+++++++++++++++++++++++++')\n",
    "    print(cut)\n",
    "    timeerror_dilution_theory = math.exp(-(delta_m*cut)**2)\n",
    "\n",
    "    timeres_power_bestPV /= signal_sum\n",
    "    #timeres_power_wrong /= signal_sum_wrong\n",
    "\n",
    "    sig_yields_cut = data_fit_cut.shape[0] \n",
    "    efficiency = sig_yields_cut / sig_yields_init\n",
    "    \n",
    "    print(\"The efficiency of the cut is:\")\n",
    "    print(efficiency)\n",
    "    \n",
    "    fomname_to_value = {\n",
    "        'TimeresPower_bestPV' : timeres_power_bestPV,\n",
    "        'TimeresTheory': timeerror_dilution_theory,\n",
    "        'Efficiency'   : efficiency\n",
    "    }\n",
    "    #return fomname_to_value\n",
    "\n",
    "    for i in range(data_fit_cut.shape[0]):\n",
    "        signal_weight_wrong =  1 \n",
    "        cbkg_weight_wrong   =  1 \n",
    "        mistag_wrong        =  tagomega_wrong[i] \n",
    "        tag_wrong           =  tag1_wrong[i]\n",
    "        decaytime_wrong     =  time_wrong[i]\n",
    "        timeerror_wrong     =  error_wrong[i]\n",
    "        \n",
    "        \n",
    "        signal_sum_wrong    += signal_weight_wrong\n",
    "        signal_sumw2_wrong  += signal_weight_wrong**2\n",
    "        \n",
    "        timeerror_dilution_wrong = math.exp(-(delta_m*timeerror_wrong)**2)\n",
    "    \n",
    "        timeres_power_randomPV     += timeerror_dilution_wrong *signal_weight_wrong \n",
    "        \n",
    "    timeres_power_randomPV /= signal_sum_wrong  \n",
    "    fomname_to_value.update({'TimeresPower_randomPV' : timeres_power_randomPV})\n",
    "    \n",
    "    return fomname_to_value"
   ]
  },
  {
   "cell_type": "code",
   "execution_count": 43,
   "metadata": {
    "collapsed": false
   },
   "outputs": [
    {
     "name": "stdout",
     "output_type": "stream",
     "text": [
      "0.634263413152473\n"
     ]
    }
   ],
   "source": [
    "eff = signal_dataframe_wrongPV.query('idxPV==0').query('B0_FitPVConst_MinIPCHI2anyPV_flat>15000').shape[0] / signal_dataframe_wrongPV.query('idxPV==0').shape[0]\n",
    "print(eff)"
   ]
  },
  {
   "cell_type": "code",
   "execution_count": null,
   "metadata": {
    "collapsed": false,
    "scrolled": true
   },
   "outputs": [
    {
     "name": "stdout",
     "output_type": "stream",
     "text": [
      "Wait for GrimReaper\n",
      "GrimReaper hopefully finished\n",
      "INFO: Read selected data\n",
      "INFO: Starting to test cut B0_FitPVConst_MinIPCHI2anyPV_flat>0.0\n",
      "INFO: Call CandidateSelectionGrimReaper\n",
      "Wait for GrimReaper\n",
      "GrimReaper hopefully finished\n",
      "INFO: Read selected data\n",
      "INFO: Start Calculation\n",
      "The inital number of candidates is:\n",
      "501573\n",
      "----------------------------------\n",
      "The number of candidates after the cut is:\n",
      "501573\n",
      "----------------------------------\n",
      "The efficiency of the cut is:\n",
      "1.0\n",
      "+++++++++++++++++++++++++\n",
      "0.0\n",
      "The efficiency of the cut is:\n",
      "1.0\n",
      "INFO: Finish Calculation\n",
      "INFO: Starting to test cut B0_FitPVConst_MinIPCHI2anyPV_flat>15.789473684210526\n",
      "INFO: Call CandidateSelectionGrimReaper\n",
      "Wait for GrimReaper\n",
      "GrimReaper hopefully finished\n",
      "INFO: Read selected data\n",
      "INFO: Start Calculation\n",
      "The inital number of candidates is:\n",
      "501573\n",
      "----------------------------------\n",
      "The number of candidates after the cut is:\n",
      "494292\n",
      "----------------------------------\n",
      "The efficiency of the cut is:\n",
      "0.9854836683792788\n",
      "+++++++++++++++++++++++++\n",
      "15.7894736842\n",
      "The efficiency of the cut is:\n",
      "0.9854836683792788\n",
      "INFO: Finish Calculation\n",
      "INFO: Starting to test cut B0_FitPVConst_MinIPCHI2anyPV_flat>31.57894736842105\n",
      "INFO: Call CandidateSelectionGrimReaper\n",
      "Wait for GrimReaper\n",
      "GrimReaper hopefully finished\n",
      "INFO: Read selected data\n",
      "INFO: Start Calculation\n",
      "The inital number of candidates is:\n",
      "501573\n",
      "----------------------------------\n",
      "The number of candidates after the cut is:\n",
      "489665\n",
      "----------------------------------\n",
      "The efficiency of the cut is:\n",
      "0.9762586901607543\n",
      "+++++++++++++++++++++++++\n",
      "31.5789473684\n",
      "The efficiency of the cut is:\n",
      "0.9762586901607543\n",
      "INFO: Finish Calculation\n",
      "INFO: Starting to test cut B0_FitPVConst_MinIPCHI2anyPV_flat>47.368421052631575\n",
      "INFO: Call CandidateSelectionGrimReaper\n",
      "Wait for GrimReaper\n",
      "GrimReaper hopefully finished\n",
      "INFO: Read selected data\n",
      "INFO: Start Calculation\n",
      "The inital number of candidates is:\n",
      "501573\n",
      "----------------------------------\n",
      "The number of candidates after the cut is:\n",
      "486046\n",
      "----------------------------------\n",
      "The efficiency of the cut is:\n",
      "0.9690433894966436\n",
      "+++++++++++++++++++++++++\n",
      "47.3684210526\n",
      "The efficiency of the cut is:\n",
      "0.9690433894966436\n",
      "INFO: Finish Calculation\n",
      "INFO: Starting to test cut B0_FitPVConst_MinIPCHI2anyPV_flat>63.1578947368421\n",
      "INFO: Call CandidateSelectionGrimReaper\n",
      "Wait for GrimReaper\n"
     ]
    }
   ],
   "source": [
    "from ROOT import RooArgList\n",
    "import subprocess, os\n",
    "import time\n",
    "\n",
    "x=None\n",
    "\n",
    "\n",
    "\n",
    "if perform_dilution_scan==True:\n",
    "    for cut in cuts:\n",
    "        print('INFO: Starting to test cut ' + '{0}<{1}'.format(cuttype,cut), flush=True)\n",
    "        data_fit_cut = signal_dataframe_wrongPV.query('{0}>-{1}&{0}<{1}'.format(cuttype,cut)) #data_after_import.reduce('{0}>{1}'.format(cuttype,cut))\n",
    "        best_pv = signal_dataframe_wrongPV.query('{0}>-{1}&{0}<{1}'.format(cuttype,cut)).query('idxPV==0')\n",
    "        #data_fit_cut = data_fit_cut.query('B0_FitPVConst_MinIPCHI2anyPV_flat>6')\n",
    "        #print(\"The size of the sample is:\")\n",
    "        #print(data_fit_cut['Delta_TAU'].min())\n",
    "        #data_fit_cut.query('B0_FitPVConst_MinIPCHI2anyPV_flat>15').to_root('/fhgfs/users/chasenberg/mc/2015_2016_merged/jpsimumuks/interim_random.root',key=tree_mc)\n",
    "        data_fit_cut.to_root('/fhgfs/users/chasenberg/mc/2015_2016_merged/jpsimumuks/interim_random.root',key=tree_mc)\n",
    "        print('INFO: Call CandidateSelectionGrimReaper', flush=True)\n",
    "        my_env = os.environ.copy()\n",
    "        my_env['PATH'] = '/usr/local/bin:/bin:/usr/bin:/usr/local/sbin:/usr/sbin:/sbin:/home/chasenberg/bin'\n",
    "        my_env['LD_LIBRARY_PATH'] = '/usr/local/lib'\n",
    "        my_env['script'] = '/home/chasenberg/repos/b2cc_sin2beta_run2/notebooks/selection'\n",
    "        my_command = 'source /lhcbsoft/LHCbSoftwareSetup.sh &&' \\\n",
    "        'lb-run DaVinci/v41r2 $BASH -c \"' \\\n",
    "        'echo $PATH && ' \\\n",
    "        'source /doosoft/InstallDooSoftware/LoadDooSoftware && CandidateSelectionGrimReaper /fhgfs/users/chasenberg/mc/2015_2016_merged/jpsimumuks/interim_random.root Bd2JpsiKS /fhgfs/users/chasenberg/mc/2015_2016_merged/jpsimumuks/interim_random.root Bd2JpsiKS \"idxRunNumber\"\"'        \n",
    "        subprocess.Popen([my_command], env=my_env, shell=True)\n",
    "   # subprocess.call(('bash /home/chasenberg/repos/b2cc_sin2beta_run2/notebooks/selection/random_sel.sh'),shell=True)                      \n",
    "        print(\"Wait for GrimReaper\")\n",
    "        time.sleep(40.0)        # pause 5.5 seconds\n",
    "        print(\"GrimReaper hopefully finished\")\n",
    "        print('INFO: Read selected data', flush=True)\n",
    "        data_fit_cut = rp.read_root('/fhgfs/users/chasenberg/mc/2015_2016_merged/jpsimumuks/interim_random.root',key=tree_mc)\n",
    "        print('INFO: Start Calculation', flush=True)\n",
    "        #print('INFO: Building Ipatia (signal) + Exp (combinatorics) + Ipatia (bs-component) model for data', flush=True) \n",
    "        #final_model = build_mass_model(B0_FitDaughtersConst_M)\n",
    "    \n",
    "        cut_to_shape[cut] = {} \n",
    "        cut_to_performance[cut] = {}\n",
    "   \n",
    "    \n",
    "        foms = calculate_foms(data_fit_cut,best_pv)\n",
    "        cut_to_performance[cut].update(foms)\n",
    "    \n",
    "        print('INFO: Finish Calculation', flush=True)\n",
    "else:\n",
    "    data_fit_cut = signal_dataframe_wrongPV \n",
    "    my_env = os.environ.copy()\n",
    "    my_env['PATH'] = '/usr/local/bin:/bin:/usr/bin:/usr/local/sbin:/usr/sbin:/sbin:/home/chasenberg/bin'\n",
    "    my_env['LD_LIBRARY_PATH'] = '/usr/local/lib'\n",
    "    my_env['script'] = '/home/chasenberg/repos/b2cc_sin2beta_run2/notebooks/selection'\n",
    "    my_command = 'source /lhcbsoft/LHCbSoftwareSetup.sh &&' \\\n",
    "        'lb-run DaVinci/v41r2 $BASH -c \"' \\\n",
    "        'echo $PATH && ' \\\n",
    "        'source /doosoft/InstallDooSoftware/LoadDooSoftware && CandidateSelectionGrimReaper /fhgfs/users/chasenberg/mc/2015_2016_merged/jpsimumuks/interim_random.root Bd2JpsiKS /fhgfs/users/chasenberg/mc/2015_2016_merged/jpsimumuks/interim_random.root Bd2JpsiKS \"idxRunNumber\"\"'        \n",
    "    subprocess.Popen([my_command], env=my_env, shell=True)\n",
    "        \n",
    "    print(\"Wait for GrimReaper\")\n",
    "    time.sleep(40.0)        # pause 5.5 seconds\n",
    "    print(\"GrimReaper hopefully finished\")\n",
    "    print('INFO: Read selected data', flush=True)\n",
    "    data_fit_cut = rp.read_root('/fhgfs/users/chasenberg/mc/2015_2016_merged/jpsimumuks/interim_random.root',key=tree_mc)\n",
    "    sig_yields_init = data_fit_cut.shape[0]\n",
    "    \n",
    "    for cut in cuts:\n",
    "        print('INFO: Starting to test cut ' + '{0}>{1}'.format(cuttype,cut), flush=True)\n",
    "        data_fit_cut = signal_dataframe_wrongPV.query('{0}>{1}'.format(cuttype,cut)) \n",
    "        best_pv = signal_dataframe_wrongPV.query('{0}>{1}'.format(cuttype,cut)).query('idxPV==0')\n",
    "        data_fit_cut.to_root('/fhgfs/users/chasenberg/mc/2015_2016_merged/jpsimumuks/interim_random.root',key=tree_mc)\n",
    "        print('INFO: Call CandidateSelectionGrimReaper', flush=True)\n",
    "        \n",
    "        my_env = os.environ.copy()\n",
    "        my_env['PATH'] = '/usr/local/bin:/bin:/usr/bin:/usr/local/sbin:/usr/sbin:/sbin:/home/chasenberg/bin'\n",
    "        my_env['LD_LIBRARY_PATH'] = '/usr/local/lib'\n",
    "        my_env['script'] = '/home/chasenberg/repos/b2cc_sin2beta_run2/notebooks/selection'\n",
    "        my_command = 'source /lhcbsoft/LHCbSoftwareSetup.sh &&' \\\n",
    "        'lb-run DaVinci/v41r2 $BASH -c \"' \\\n",
    "        'echo $PATH && ' \\\n",
    "        'source /doosoft/InstallDooSoftware/LoadDooSoftware && CandidateSelectionGrimReaper /fhgfs/users/chasenberg/mc/2015_2016_merged/jpsimumuks/interim_random.root Bd2JpsiKS /fhgfs/users/chasenberg/mc/2015_2016_merged/jpsimumuks/interim_random.root Bd2JpsiKS \"idxRunNumber\"\"'        \n",
    "        subprocess.Popen([my_command], env=my_env, shell=True)\n",
    "        \n",
    "        print(\"Wait for GrimReaper\")\n",
    "        time.sleep(40.0)        # pause 5.5 seconds\n",
    "        print(\"GrimReaper hopefully finished\")\n",
    "        print('INFO: Read selected data', flush=True)\n",
    "        data_fit_cut = rp.read_root('/fhgfs/users/chasenberg/mc/2015_2016_merged/jpsimumuks/interim_random.root',key=tree_mc)\n",
    "        print('INFO: Start Calculation', flush=True)\n",
    "        sig_yields_cut = data_fit_cut.shape[0] \n",
    "        efficiency = sig_yields_cut / sig_yields_init\n",
    "        print(\"The inital number of candidates is:\")\n",
    "        print(sig_yields_init)\n",
    "        print(\"----------------------------------\")\n",
    "        print(\"The number of candidates after the cut is:\")\n",
    "        print(sig_yields_cut)\n",
    "        print(\"----------------------------------\")\n",
    "        print(\"The efficiency of the cut is:\")\n",
    "        print(efficiency)\n",
    "        cut_to_shape[cut] = {} \n",
    "        cut_to_performance[cut] = {}\n",
    "   \n",
    "    \n",
    "        foms = calculate_foms(data_fit_cut,best_pv)\n",
    "        cut_to_performance[cut].update(foms)\n",
    "    \n",
    "        print('INFO: Finish Calculation', flush=True)"
   ]
  },
  {
   "cell_type": "code",
   "execution_count": 24,
   "metadata": {
    "collapsed": true
   },
   "outputs": [],
   "source": [
    "import numpy as np\n",
    "\n",
    "def unpack_cut_dict(cut_dict, normalize=True):\n",
    "    cuts = np.array(list(cut_dict.keys()))\n",
    "    cuts.sort()\n",
    "    \n",
    "    new_dict = {}\n",
    "    for cut in cuts:\n",
    "        parameters_dict = cut_dict[cut]\n",
    "        for parameter, value in parameters_dict.items():\n",
    "            if parameter in new_dict:\n",
    "                new_dict[parameter].append(value)\n",
    "            else:\n",
    "                new_dict[parameter] = [value]\n",
    "    \n",
    "    for parameter, values in new_dict.items():\n",
    "        new_dict[parameter] = np.array(values)\n",
    "        if normalize:\n",
    "            new_dict[parameter] = values/np.max(np.abs(values))\n",
    "    \n",
    "    return cuts, new_dict\n",
    "\n",
    "x, ys = unpack_cut_dict(cut_to_performance)\n",
    "for parameter, values in ys.items():\n",
    "    if \"value\" in parameter:\n",
    "        print(values)\n",
    "        y_errlo = np.array(ys[parameter.replace(\"_value\",\"_errlo\")])\n",
    "        y_errhi = np.array(ys[parameter.replace(\"_value\",\"_errhi\")])\n",
    "        y_errors= abs(np.vstack([y_errlo,y_errhi]))\n",
    "        plt.errorbar(x,values,yerr=y_errors,marker='.',linestyle='', label='sigma')\n",
    "        plt.xlabel(parameter)\n",
    "        plotname = parameter + '.pdf'\n",
    "        singleplot_file = os.path.join(plot_dir, plotname)\n",
    "        plt.savefig(singleplot_file)\n",
    "        plt.show()"
   ]
  },
  {
   "cell_type": "markdown",
   "metadata": {},
   "source": [
    "### Plot FOMs"
   ]
  },
  {
   "cell_type": "code",
   "execution_count": 25,
   "metadata": {
    "collapsed": false,
    "scrolled": true
   },
   "outputs": [],
   "source": [
    "if perform_dilution_scan==True:\n",
    "    import random\n",
    "    import seaborn as sns\n",
    "    sns.set_style(\"whitegrid\")\n",
    "    sns.set_style(\"whitegrid\", {\"legend.frameon\": True})\n",
    "\n",
    "    x, ys = unpack_cut_dict(cut_to_performance)\n",
    "    shift = 0.0\n",
    "\n",
    "    foms_to_plot = {}\n",
    "    #foms_to_plot[\"TaggingPower\"] = r\"Flavour Tagging\"\n",
    "    foms_to_plot[\"TimeresPower_bestPV\"] = \"Best PV selection\"\n",
    "    foms_to_plot[\"TimeresPower_randomPV\"]   = \"Random PV selection\"\n",
    "    #foms_to_plot[\"BsFOM\"]        = \"$X_i$-term\"\n",
    "    #foms_to_plot[\"BdFOM_p\"]      = \"FOM ${}_{B^0_d}$\"\n",
    "    #foms_to_plot[\"BdFOM\"]        = \"FOM\"\n",
    "\n",
    "    #for parameter, values in ys.items():\n",
    "    for parameter in foms_to_plot:\n",
    "        values=ys[parameter]\n",
    "        #if \"FOM\" in parameter or \"EffSig\" in parameter or \"s3_over_spb2\" in parameter\\\n",
    "        #or \"TaggingPower\" in parameter or \"TimeresPower\" in parameter:\n",
    "        if parameter in foms_to_plot:\n",
    "            plt.errorbar(x,values+random.random()*shift,marker='.',linestyle='-',label=foms_to_plot[parameter])\n",
    "            plt.xlabel(\"Delta_TAU cut\")\n",
    "\n",
    "    plt.gca().set_ylim(0.94,1.001)\n",
    "    plt.gca().set_xlim(0.0000000001,0.02)\n",
    "    plt.legend(loc='best')\n",
    "    plt.savefig(subdir + '/dilution_randomsel_no_minipchi2_cut.pdf')\n",
    "    plt.show()"
   ]
  },
  {
   "cell_type": "code",
   "execution_count": 26,
   "metadata": {
    "collapsed": false
   },
   "outputs": [
    {
     "name": "stdout",
     "output_type": "stream",
     "text": [
      "[ 0.99726508  0.99907681  0.99927454  0.99938125  0.99946427  0.99953421\n",
      "  0.99957099  0.99962662  0.99965448  0.99969238  0.99973087  0.99978576\n",
      "  0.99982337  0.99985862  0.99988348  0.99990398  0.99992495  0.99994932\n",
      "  0.9999736   1.        ]\n"
     ]
    }
   ],
   "source": [
    "print(ys['TimeresPower_bestPV'])"
   ]
  },
  {
   "cell_type": "code",
   "execution_count": 27,
   "metadata": {
    "collapsed": false
   },
   "outputs": [
    {
     "name": "stdout",
     "output_type": "stream",
     "text": [
      "[ 0.99716958  0.99894343  0.99916533  0.99928796  0.99937997  0.99945492\n",
      "  0.99950341  0.99956682  0.99960514  0.99965771  0.999705    0.99976847\n",
      "  0.99981273  0.9998499   0.99987953  0.99990316  0.99992763  0.99995429\n",
      "  0.99997556  1.        ]\n"
     ]
    }
   ],
   "source": [
    "print(ys['TimeresPower_randomPV'])"
   ]
  },
  {
   "cell_type": "code",
   "execution_count": 28,
   "metadata": {
    "collapsed": false
   },
   "outputs": [
    {
     "name": "stdout",
     "output_type": "stream",
     "text": [
      "[   0.           15.78947368   31.57894737   47.36842105   63.15789474\n",
      "   78.94736842   94.73684211  110.52631579  126.31578947  142.10526316\n",
      "  157.89473684  173.68421053  189.47368421  205.26315789  221.05263158\n",
      "  236.84210526  252.63157895  268.42105263  284.21052632  300.        ]\n"
     ]
    }
   ],
   "source": [
    "print(x)"
   ]
  },
  {
   "cell_type": "markdown",
   "metadata": {
    "collapsed": true
   },
   "source": [
    "Plotting of B0_TAU and Delta_TAU"
   ]
  },
  {
   "cell_type": "code",
   "execution_count": 29,
   "metadata": {
    "collapsed": false
   },
   "outputs": [
    {
     "name": "stdout",
     "output_type": "stream",
     "text": [
      "(20, 2)\n"
     ]
    },
    {
     "data": {
      "image/png": "[encoded data removed]",
      "text/plain": [
       "<matplotlib.figure.Figure at 0x7ff92c44d390>"
      ]
     },
     "metadata": {},
     "output_type": "display_data"
    }
   ],
   "source": [
    "if perform_dilution_scan==False:\n",
    "    import seaborn as sns; sns.set_style('white')\n",
    "\n",
    "    x, ys = unpack_cut_dict(cut_to_performance)\n",
    "    test = pd.DataFrame()\n",
    "    test['TimeresPower_randomPV'] = np.array(ys['TimeresPower_randomPV'])\n",
    "    test['Efficiency'] = np.array(ys['Efficiency'])\n",
    "    y_lim = (0.9,1)\n",
    "    x_lim = (0.996,1.001)\n",
    "    g = sns.jointplot(x='TimeresPower_randomPV', y='Efficiency',data=test,stat_func=None,space=0.05, kind=\"kde\",xlim=x_lim,ylim=y_lim, color=\"r\")\n",
    "    #g.savefig(\"/home/chasenberg/plots/wrong_pv/deltatau_vs_pvzpull.pdf\")\n",
    "    print(test.shape)"
   ]
  },
  {
   "cell_type": "code",
   "execution_count": 36,
   "metadata": {
    "collapsed": false
   },
   "outputs": [
    {
     "data": {
      "text/plain": [
       "(0.99, 1.05)"
      ]
     },
     "execution_count": 36,
     "metadata": {},
     "output_type": "execute_result"
    },
    {
     "data": {
      "image/png": "[encoded data removed]",
      "text/plain": [
       "<matplotlib.figure.Figure at 0x7ff929a38978>"
      ]
     },
     "metadata": {},
     "output_type": "display_data"
    }
   ],
   "source": [
    "x = test['TimeresPower_randomPV'] = np.array(ys['TimeresPower_randomPV'])\n",
    "y = test['Efficiency'] = np.array(ys['Efficiency'])\n",
    "lm = sns.lmplot(x='TimeresPower_randomPV', y='Efficiency',data=test,x_estimator=np.mean)\n",
    "axes = lm.axes\n",
    "axes[0,0].set_ylim(0.4,1)\n",
    "axes[0,0].set_xlim(0.99,1.05)"
   ]
  },
  {
   "cell_type": "code",
   "execution_count": null,
   "metadata": {
    "collapsed": true
   },
   "outputs": [],
   "source": []
  },
  {
   "cell_type": "code",
   "execution_count": 30,
   "metadata": {
    "collapsed": false
   },
   "outputs": [
    {
     "data": {
      "text/plain": [
       "0.99716958036050585"
      ]
     },
     "execution_count": 30,
     "metadata": {},
     "output_type": "execute_result"
    }
   ],
   "source": [
    " np.array(ys['TimeresPower_randomPV']).min()"
   ]
  },
  {
   "cell_type": "code",
   "execution_count": 31,
   "metadata": {
    "collapsed": false
   },
   "outputs": [
    {
     "data": {
      "text/plain": [
       "[<matplotlib.lines.Line2D at 0x7ff929a8d9e8>]"
      ]
     },
     "execution_count": 31,
     "metadata": {},
     "output_type": "execute_result"
    },
    {
     "data": {
      "image/png": "[encoded data removed]",
      "text/plain": [
       "<matplotlib.figure.Figure at 0x7ff92c43bf28>"
      ]
     },
     "metadata": {},
     "output_type": "display_data"
    }
   ],
   "source": [
    "a = test['Efficiency']\n",
    "plt.plot(cuts,a)\n"
   ]
  },
  {
   "cell_type": "code",
   "execution_count": 32,
   "metadata": {
    "collapsed": false
   },
   "outputs": [
    {
     "data": {
      "text/plain": [
       "[<matplotlib.lines.Line2D at 0x7ff9299f9128>]"
      ]
     },
     "execution_count": 32,
     "metadata": {},
     "output_type": "execute_result"
    },
    {
     "data": {
      "image/png": "[encoded data removed]",
      "text/plain": [
       "<matplotlib.figure.Figure at 0x7ff929aaa198>"
      ]
     },
     "metadata": {},
     "output_type": "display_data"
    }
   ],
   "source": [
    "a = test['TimeresPower_randomPV']\n",
    "plt.plot(cuts,a)"
   ]
  }
 ],
 "metadata": {
  "kernelspec": {
   "display_name": "Python 3",
   "language": "python",
   "name": "python3"
  },
  "language_info": {
   "codemirror_mode": {
    "name": "ipython",
    "version": 3
   },
   "file_extension": ".py",
   "mimetype": "text/x-python",
   "name": "python",
   "nbconvert_exporter": "python",
   "pygments_lexer": "ipython3",
   "version": "3.4.4"
  }
 },
 "nbformat": 4,
 "nbformat_minor": 0
}
