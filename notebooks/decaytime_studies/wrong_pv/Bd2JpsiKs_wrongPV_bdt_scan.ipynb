{
 "cells": [
  {
   "cell_type": "markdown",
   "metadata": {},
   "source": [
    "## Notebook for 1D BDT scan and calculating FOMs in Bd2psi2SKS on data\n"
   ]
  },
  {
   "cell_type": "code",
   "execution_count": 1,
   "metadata": {
    "collapsed": false
   },
   "outputs": [],
   "source": [
    "%matplotlib inline\n",
    "%load_ext autoreload\n",
    "%autoreload 2\n",
    "import sys\n",
    "sys.path.append('/home/chasenberg/repos/')\n",
    "import os\n",
    "import sys\n",
    "import ROOT\n",
    "from ROOT import TFile, TH1D, TH2D, TCanvas, gStyle, TLine, TTree\n",
    "from ROOT import (RooArgSet, RooRealVar, RooDataSet, RooPlot, RooFit, RooStats, RooArgList)\n",
    "import root_pandas as rp\n",
    "import root_numpy as ry \n",
    "\n",
    "import math\n",
    "import itertools\n",
    "import numpy as np\n",
    "import matplotlib as mpl\n",
    "import matplotlib.pyplot as plt\n",
    "from matplotlib.backends.backend_pdf import PdfPages\n",
    "\n",
    "from root_pandas import read_root\n",
    "import pandas as pd\n",
    "\n",
    "sys.path.append('/home/vmueller/repos')\n",
    "from dopy.doroot.root_utils import read_roodataset_from_tree, plot_pulls\n",
    "from dopy.doplot.plotting import Plotter, Plot                "
   ]
  },
  {
   "cell_type": "code",
   "execution_count": 2,
   "metadata": {
    "collapsed": false
   },
   "outputs": [],
   "source": [
    "\n",
    "from ROOT import RooRealVar, RooExponential, RooExtendPdf, RooAddPdf, RooArgList, RooGaussian\n",
    "from ROOT import RooFormulaVar\n",
    "from ROOT import gSystem\n",
    "gSystem.Load('libRooFit.so')\n",
    "gSystem.Load('/home/chasenberg/repos/dopy/dolib/CustomShapes/libKll')\n",
    "from ROOT import RooIpatia2"
   ]
  },
  {
   "cell_type": "markdown",
   "metadata": {},
   "source": [
    "### Read ROOT file"
   ]
  },
  {
   "cell_type": "code",
   "execution_count": 3,
   "metadata": {
    "collapsed": false
   },
   "outputs": [],
   "source": [
    "dataset_file_name = '/fhgfs/users/chasenberg/mc/2015_2016_merged/jpsimumuks/Bd2JpsiKS_pv_selected.root'"
   ]
  },
  {
   "cell_type": "code",
   "execution_count": 4,
   "metadata": {
    "collapsed": true
   },
   "outputs": [],
   "source": [
    "branches = [\n",
    "            'B0_TAGOMEGA_OS',\n",
    "            'B0_TAGDECISION_OS',\n",
    "            'B0_FitPVConst_tau_flat',\n",
    "            'B0_FitPVConst_tauErr_flat',\n",
    "            'B0_TRUETAU',\n",
    "            'B0_FitPVConst_MinIPCHI2anyPV_flat',\n",
    "            'idxRunNumber',\n",
    "            'idxEventNumber',\n",
    "            'idxPV',\n",
    "            'Delta_TAU',\n",
    "            'BDTresponse_wrongPV'\n",
    "            ]\n"
   ]
  },
  {
   "cell_type": "code",
   "execution_count": 5,
   "metadata": {
    "collapsed": false
   },
   "outputs": [],
   "source": [
    "tree_mc = 'Bd2JpsiKS'\n",
    "signal_dataframe_wrongPV  = rp.read_root(dataset_file_name,key=tree_mc,columns=branches, flatten=False)\n",
    "signal_dataframe_wrongPV  = signal_dataframe_wrongPV.replace([np.inf, -np.inf], np.nan)\n",
    "signal_dataframe_wrongPV  = signal_dataframe_wrongPV.dropna()"
   ]
  },
  {
   "cell_type": "code",
   "execution_count": 6,
   "metadata": {
    "collapsed": false
   },
   "outputs": [],
   "source": [
    "signal_dataframe_wrongPV.to_root('/fhgfs/users/chasenberg/mc/2015_2016_merged/jpsimumuks/interim.root',key='Bd2JpsiKS')"
   ]
  },
  {
   "cell_type": "code",
   "execution_count": 7,
   "metadata": {
    "collapsed": false
   },
   "outputs": [
    {
     "data": {
      "text/plain": [
       "203016"
      ]
     },
     "execution_count": 7,
     "metadata": {},
     "output_type": "execute_result"
    }
   ],
   "source": [
    "# Read data and fit it\n",
    "dataset_file_name = '/fhgfs/users/chasenberg/data/2015_2016_merged/jpsimumuks/interim.root'\n",
    "data = ROOT.TFile(dataset_file_name)\n",
    "dataset_tree = data.Get('Bd2JpsiKS') \n",
    "dataset_tree.GetEntries()\n",
    "\n"
   ]
  },
  {
   "cell_type": "code",
   "execution_count": 8,
   "metadata": {
    "collapsed": false
   },
   "outputs": [
    {
     "data": {
      "text/plain": [
       "6.1676589792857133"
      ]
     },
     "execution_count": 8,
     "metadata": {},
     "output_type": "execute_result"
    }
   ],
   "source": [
    "signal_dataframe_wrongPV['BDTresponse_wrongPV'].max()"
   ]
  },
  {
   "cell_type": "markdown",
   "metadata": {},
   "source": [
    "### Function to calculate the FOMs"
   ]
  },
  {
   "cell_type": "markdown",
   "metadata": {},
   "source": [
    "### Configure  and define cuts "
   ]
  },
  {
   "cell_type": "code",
   "execution_count": 9,
   "metadata": {
    "collapsed": false
   },
   "outputs": [],
   "source": [
    "lowerbound=5220 # rather arbitrary signal window definition\n",
    "upperbound=5450\n",
    "#B0_FitDaughtersConst_M.setRange('SIGREGION',lowerbound,upperbound)\n",
    "\n",
    "subdir = '/home/chasenberg/plots/wrongpv_cuttuning'\n",
    "plot_dir    = os.path.join(subdir, 'plots')\n",
    "results_dir = os.path.join(subdir, 'results')\n",
    "plot_file   = os.path.join(plot_dir, 'all_plots.pdf')\n",
    "\n",
    "\n",
    "if not os.path.exists(plot_dir):\n",
    "    os.makedirs(plot_dir)\n",
    "if not os.path.exists(results_dir):\n",
    "    os.makedirs(results_dir)\n",
    "\n",
    "cuttype = 'BDTresponse_wrongPV' \n",
    "\n",
    "minimum = signal_dataframe_wrongPV['BDTresponse_wrongPV'].min()\n",
    "maximum = signal_dataframe_wrongPV['BDTresponse_wrongPV'].max()\n",
    "cuts = np.linspace(minimum,5.5,40) #(0,20,10)    #(0,0.001,10)\n",
    "#cuts = [-0.05]\n",
    "cuts_for_which_to_store_sdata = []   \n",
    "\n",
    "num_sig = []\n",
    "num_bkg = []\n",
    "num_all = []\n",
    "\n",
    "cut_to_performance = {} \n",
    "cut_to_shape = {}\n",
    "\n",
    "perform_fit = True\n",
    "do_splot    = True\n",
    "postfix = ''\n",
    "final_params_file = None\n",
    "oldParameters = None\n",
    "final_model = None"
   ]
  },
  {
   "cell_type": "markdown",
   "metadata": {},
   "source": [
    "### Calculate FOM"
   ]
  },
  {
   "cell_type": "code",
   "execution_count": 10,
   "metadata": {
    "collapsed": false
   },
   "outputs": [],
   "source": [
    "def calculate_foms(data_fit_cut): \n",
    "    import math\n",
    "    \n",
    "    signal_sum    = 0\n",
    "    cbkg_sum      = 0\n",
    "    signal_sumw2  = 0\n",
    "    signal_sum    = 0\n",
    "    cbkg_sum      = 0\n",
    "    signal_sumw2  = 0\n",
    "    timeres_power = 0\n",
    "    tagging_power = 0\n",
    "    \n",
    "    signal_sum_tag_decis = 0 # count two ways to check consistency\n",
    "    signal_sum_tag_omega = 0\n",
    "    \n",
    "    delta_m = 5065 \n",
    "    S = 0.691 #sin2beta value (average from HFAG)\n",
    "\n",
    "    \n",
    "    tagomega = np.array(data_fit_cut['B0_TAGOMEGA_OS'])\n",
    "    tag1 = np.array(data_fit_cut['B0_TAGDECISION_OS'])\n",
    "    time = np.array(data_fit_cut['B0_FitPVConst_tau_flat']) \n",
    "    error = np.absolute(np.array(data_fit_cut['Delta_TAU'])) \n",
    "    \n",
    "\n",
    "    ##################################################################\n",
    "    \n",
    "    for i in range(data_fit_cut.shape[0]):\n",
    "        signal_weight =  1 \n",
    "        cbkg_weight   =  1 \n",
    "        mistag        =  tagomega[i] \n",
    "        tag           =  tag1[i]\n",
    "        decaytime     =  time[i]\n",
    "        timeerror     =  error[i]\n",
    "        \n",
    "        \n",
    "        signal_sum    += signal_weight\n",
    "        signal_sumw2  += signal_weight**2\n",
    "        \n",
    "        timeerror_dilution = math.exp(-(delta_m*timeerror)**2)\n",
    "    \n",
    "        timeres_power     += timeerror_dilution *signal_weight \n",
    "        \n",
    "        timeres_power /= signal_sum  \n",
    "        \n",
    "    tagging_power /= signal_sum\n",
    "    timeres_power /= signal_sum\n",
    "\n",
    "    \n",
    "    \n",
    "    fomname_to_value = {\n",
    "    \n",
    "        'TimeresPower' : timeres_power,\n",
    "        'Efficiency'   : efficiency\n",
    "    }\n",
    "\n",
    "    return fomname_to_value"
   ]
  },
  {
   "cell_type": "code",
   "execution_count": 11,
   "metadata": {
    "collapsed": false
   },
   "outputs": [
    {
     "data": {
      "text/plain": [
       "(array([  7.36800000e+03,   9.00700000e+03,   1.55730000e+04,\n",
       "          9.08600000e+03,   1.17790000e+04,   8.17300000e+03,\n",
       "          1.02470000e+04,   7.91000000e+03,   9.65200000e+03,\n",
       "          1.44480000e+04,   1.43130000e+04,   1.28910000e+04,\n",
       "          1.66410000e+04,   3.85620000e+04,   8.57530000e+04,\n",
       "          1.19569000e+05,   4.44330000e+04,   1.66430000e+04,\n",
       "          1.05000000e+02,   4.50000000e+01]),\n",
       " array([ 4.00001767,  4.10839973,  4.2167818 ,  4.32516386,  4.43354593,\n",
       "         4.54192799,  4.65031006,  4.75869213,  4.86707419,  4.97545626,\n",
       "         5.08383832,  5.19222039,  5.30060245,  5.40898452,  5.51736659,\n",
       "         5.62574865,  5.73413072,  5.84251278,  5.95089485,  6.05927691,\n",
       "         6.16765898]),\n",
       " <a list of 20 Patch objects>)"
      ]
     },
     "execution_count": 11,
     "metadata": {},
     "output_type": "execute_result"
    },
    {
     "data": {
      "image/png": "[encoded data removed]",
      "text/plain": [
       "<matplotlib.figure.Figure at 0x7f776578b1d0>"
      ]
     },
     "metadata": {},
     "output_type": "display_data"
    }
   ],
   "source": [
    "import numpy as np\n",
    "import matplotlib.pyplot as plt\n",
    "plt.hist(signal_dataframe_wrongPV['BDTresponse_wrongPV'],20)"
   ]
  },
  {
   "cell_type": "code",
   "execution_count": 12,
   "metadata": {
    "collapsed": false
   },
   "outputs": [],
   "source": [
    "import numpy as np\n",
    "\n",
    "def unpack_cut_dict(cut_dict, normalize=True):\n",
    "    cuts = np.array(list(cut_dict.keys()))\n",
    "    cuts.sort()\n",
    "    \n",
    "    new_dict = {}\n",
    "    for cut in cuts:\n",
    "        parameters_dict = cut_dict[cut]\n",
    "        for parameter, value in parameters_dict.items():\n",
    "            if parameter in new_dict:\n",
    "                new_dict[parameter].append(value)\n",
    "            else:\n",
    "                new_dict[parameter] = [value]\n",
    "    \n",
    "    for parameter, values in new_dict.items():\n",
    "        new_dict[parameter] = np.array(values)\n",
    "        if normalize:\n",
    "            new_dict[parameter] = values/np.max(np.abs(values))\n",
    "    \n",
    "    return cuts, new_dict\n",
    "\n",
    "x, ys = unpack_cut_dict(cut_to_performance)\n",
    "for parameter, values in ys.items():\n",
    "    if \"value\" in parameter:\n",
    "        print(values)\n",
    "        y_errlo = np.array(ys[parameter.replace(\"_value\",\"_errlo\")])\n",
    "        y_errhi = np.array(ys[parameter.replace(\"_value\",\"_errhi\")])\n",
    "        y_errors= abs(np.vstack([y_errlo,y_errhi]))\n",
    "        plt.errorbar(x,values,yerr=y_errors,marker='.',linestyle='', label='sigma')\n",
    "        plt.xlabel(parameter)\n",
    "        plotname = parameter + '.pdf'\n",
    "        singleplot_file = os.path.join(plot_dir, plotname)\n",
    "        plt.savefig(singleplot_file)\n",
    "        plt.show()"
   ]
  },
  {
   "cell_type": "code",
   "execution_count": 13,
   "metadata": {
    "collapsed": false
   },
   "outputs": [
    {
     "name": "stdout",
     "output_type": "stream",
     "text": [
      "4.0000176653\n"
     ]
    }
   ],
   "source": [
    "first_cut = str(cuts[0])\n",
    "print(first_cut)"
   ]
  },
  {
   "cell_type": "code",
   "execution_count": 14,
   "metadata": {
    "collapsed": false,
    "scrolled": true
   },
   "outputs": [
    {
     "name": "stdout",
     "output_type": "stream",
     "text": [
      "Wait for GrimReaper\n",
      "GrimReaper hopefully finished\n",
      "INFO: Read selected data\n",
      "INFO: Starting to test cut BDTresponse_wrongPV>4.00001766529743\n",
      "INFO: Call CandidateSelectionGrimReaper\n",
      "Wait for GrimReaper\n",
      "GrimReaper hopefully finished\n",
      "INFO: Read selected data\n",
      "INFO: Start Calculation\n",
      "The inital number of candidates is:\n",
      "452198\n",
      "----------------------------------\n",
      "The number of candidates after the cut is:\n",
      "452197\n",
      "----------------------------------\n",
      "The efficiency of the cut is:\n",
      "0.9999977885793392\n",
      "INFO: Finish Calculation\n",
      "INFO: Starting to test cut BDTresponse_wrongPV>4.038478750802624\n",
      "INFO: Call CandidateSelectionGrimReaper\n",
      "Wait for GrimReaper\n",
      "GrimReaper hopefully finished\n",
      "INFO: Read selected data\n",
      "INFO: Start Calculation\n",
      "The inital number of candidates is:\n",
      "452198\n",
      "----------------------------------\n",
      "The number of candidates after the cut is:\n",
      "450814\n",
      "----------------------------------\n",
      "The efficiency of the cut is:\n",
      "0.9969393938053684\n",
      "INFO: Finish Calculation\n",
      "INFO: Starting to test cut BDTresponse_wrongPV>4.076939836307818\n",
      "INFO: Call CandidateSelectionGrimReaper\n",
      "Wait for GrimReaper\n",
      "GrimReaper hopefully finished\n",
      "INFO: Read selected data\n",
      "INFO: Start Calculation\n",
      "The inital number of candidates is:\n",
      "452198\n",
      "----------------------------------\n",
      "The number of candidates after the cut is:\n",
      "448801\n",
      "----------------------------------\n",
      "The efficiency of the cut is:\n",
      "0.9924878040150553\n",
      "INFO: Finish Calculation\n",
      "INFO: Starting to test cut BDTresponse_wrongPV>4.115400921813013\n",
      "INFO: Call CandidateSelectionGrimReaper\n",
      "Wait for GrimReaper\n",
      "GrimReaper hopefully finished\n",
      "INFO: Read selected data\n",
      "INFO: Start Calculation\n",
      "The inital number of candidates is:\n",
      "452198\n",
      "----------------------------------\n",
      "The number of candidates after the cut is:\n",
      "443244\n",
      "----------------------------------\n",
      "The efficiency of the cut is:\n",
      "0.980198939402651\n",
      "INFO: Finish Calculation\n",
      "INFO: Starting to test cut BDTresponse_wrongPV>4.153862007318207\n",
      "INFO: Call CandidateSelectionGrimReaper\n",
      "Wait for GrimReaper\n",
      "GrimReaper hopefully finished\n",
      "INFO: Read selected data\n",
      "INFO: Start Calculation\n",
      "The inital number of candidates is:\n",
      "452198\n",
      "----------------------------------\n",
      "The number of candidates after the cut is:\n",
      "439732\n",
      "----------------------------------\n",
      "The efficiency of the cut is:\n",
      "0.9724324300417074\n",
      "INFO: Finish Calculation\n",
      "INFO: Starting to test cut BDTresponse_wrongPV>4.1923230928234005\n",
      "INFO: Call CandidateSelectionGrimReaper\n",
      "Wait for GrimReaper\n",
      "GrimReaper hopefully finished\n",
      "INFO: Read selected data\n",
      "INFO: Start Calculation\n",
      "The inital number of candidates is:\n",
      "452198\n",
      "----------------------------------\n",
      "The number of candidates after the cut is:\n",
      "437572\n",
      "----------------------------------\n",
      "The efficiency of the cut is:\n",
      "0.9676557614142477\n",
      "INFO: Finish Calculation\n",
      "INFO: Starting to test cut BDTresponse_wrongPV>4.230784178328594\n",
      "INFO: Call CandidateSelectionGrimReaper\n",
      "Wait for GrimReaper\n",
      "GrimReaper hopefully finished\n",
      "INFO: Read selected data\n",
      "INFO: Start Calculation\n",
      "The inital number of candidates is:\n",
      "452198\n",
      "----------------------------------\n",
      "The number of candidates after the cut is:\n",
      "430134\n",
      "----------------------------------\n",
      "The efficiency of the cut is:\n",
      "0.951207214538764\n",
      "INFO: Finish Calculation\n",
      "INFO: Starting to test cut BDTresponse_wrongPV>4.269245263833789\n",
      "INFO: Call CandidateSelectionGrimReaper\n",
      "Wait for GrimReaper\n",
      "GrimReaper hopefully finished\n",
      "INFO: Read selected data\n",
      "INFO: Start Calculation\n",
      "The inital number of candidates is:\n",
      "452198\n",
      "----------------------------------\n",
      "The number of candidates after the cut is:\n",
      "424935\n",
      "----------------------------------\n",
      "The efficiency of the cut is:\n",
      "0.9397100385229479\n",
      "INFO: Finish Calculation\n",
      "INFO: Starting to test cut BDTresponse_wrongPV>4.307706349338983\n",
      "INFO: Call CandidateSelectionGrimReaper\n",
      "Wait for GrimReaper\n",
      "GrimReaper hopefully finished\n",
      "INFO: Read selected data\n",
      "INFO: Start Calculation\n",
      "The inital number of candidates is:\n",
      "452198\n",
      "----------------------------------\n",
      "The number of candidates after the cut is:\n",
      "421447\n",
      "----------------------------------\n",
      "The efficiency of the cut is:\n",
      "0.9319966032578649\n",
      "INFO: Finish Calculation\n",
      "INFO: Starting to test cut BDTresponse_wrongPV>4.346167434844177\n",
      "INFO: Call CandidateSelectionGrimReaper\n",
      "Wait for GrimReaper\n",
      "GrimReaper hopefully finished\n",
      "INFO: Read selected data\n",
      "INFO: Start Calculation\n",
      "The inital number of candidates is:\n",
      "452198\n",
      "----------------------------------\n",
      "The number of candidates after the cut is:\n",
      "418517\n",
      "----------------------------------\n",
      "The efficiency of the cut is:\n",
      "0.9255171407215423\n",
      "INFO: Finish Calculation\n",
      "INFO: Starting to test cut BDTresponse_wrongPV>4.384628520349371\n",
      "INFO: Call CandidateSelectionGrimReaper\n",
      "Wait for GrimReaper\n",
      "GrimReaper hopefully finished\n",
      "INFO: Read selected data\n",
      "INFO: Start Calculation\n",
      "The inital number of candidates is:\n",
      "452198\n",
      "----------------------------------\n",
      "The number of candidates after the cut is:\n",
      "414591\n",
      "----------------------------------\n",
      "The efficiency of the cut is:\n",
      "0.9168351032070022\n",
      "INFO: Finish Calculation\n",
      "INFO: Starting to test cut BDTresponse_wrongPV>4.423089605854566\n",
      "INFO: Call CandidateSelectionGrimReaper\n",
      "Wait for GrimReaper\n",
      "GrimReaper hopefully finished\n",
      "INFO: Read selected data\n",
      "INFO: Start Calculation\n",
      "The inital number of candidates is:\n",
      "452198\n",
      "----------------------------------\n",
      "The number of candidates after the cut is:\n",
      "411603\n",
      "----------------------------------\n",
      "The efficiency of the cut is:\n",
      "0.9102273782723497\n",
      "INFO: Finish Calculation\n",
      "INFO: Starting to test cut BDTresponse_wrongPV>4.46155069135976\n",
      "INFO: Call CandidateSelectionGrimReaper\n",
      "Wait for GrimReaper\n",
      "GrimReaper hopefully finished\n",
      "INFO: Read selected data\n",
      "INFO: Start Calculation\n",
      "The inital number of candidates is:\n",
      "452198\n",
      "----------------------------------\n",
      "The number of candidates after the cut is:\n",
      "408116\n",
      "----------------------------------\n",
      "The efficiency of the cut is:\n",
      "0.9025161544279275\n",
      "INFO: Finish Calculation\n",
      "INFO: Starting to test cut BDTresponse_wrongPV>4.5000117768649535\n",
      "INFO: Call CandidateSelectionGrimReaper\n",
      "Wait for GrimReaper\n",
      "GrimReaper hopefully finished\n",
      "INFO: Read selected data\n",
      "INFO: Start Calculation\n",
      "The inital number of candidates is:\n",
      "452198\n",
      "----------------------------------\n",
      "The number of candidates after the cut is:\n",
      "402425\n",
      "----------------------------------\n",
      "The efficiency of the cut is:\n",
      "0.8899309594469679\n",
      "INFO: Finish Calculation\n",
      "INFO: Starting to test cut BDTresponse_wrongPV>4.538472862370147\n",
      "INFO: Call CandidateSelectionGrimReaper\n",
      "Wait for GrimReaper\n",
      "GrimReaper hopefully finished\n",
      "INFO: Read selected data\n",
      "INFO: Start Calculation\n",
      "The inital number of candidates is:\n",
      "452198\n",
      "----------------------------------\n",
      "The number of candidates after the cut is:\n",
      "399535\n",
      "----------------------------------\n",
      "The efficiency of the cut is:\n",
      "0.8835399537370797\n",
      "INFO: Finish Calculation\n",
      "INFO: Starting to test cut BDTresponse_wrongPV>4.576933947875341\n",
      "INFO: Call CandidateSelectionGrimReaper\n",
      "Wait for GrimReaper\n",
      "GrimReaper hopefully finished\n",
      "INFO: Read selected data\n",
      "INFO: Start Calculation\n",
      "The inital number of candidates is:\n",
      "452198\n",
      "----------------------------------\n",
      "The number of candidates after the cut is:\n",
      "396052\n",
      "----------------------------------\n",
      "The efficiency of the cut is:\n",
      "0.8758375755753011\n",
      "INFO: Finish Calculation\n",
      "INFO: Starting to test cut BDTresponse_wrongPV>4.615395033380536\n",
      "INFO: Call CandidateSelectionGrimReaper\n",
      "Wait for GrimReaper\n",
      "GrimReaper hopefully finished\n",
      "INFO: Read selected data\n",
      "INFO: Start Calculation\n",
      "The inital number of candidates is:\n",
      "452198\n",
      "----------------------------------\n",
      "The number of candidates after the cut is:\n",
      "393311\n",
      "----------------------------------\n",
      "The efficiency of the cut is:\n",
      "0.8697760715438813\n",
      "INFO: Finish Calculation\n",
      "INFO: Starting to test cut BDTresponse_wrongPV>4.65385611888573\n",
      "INFO: Call CandidateSelectionGrimReaper\n",
      "Wait for GrimReaper\n",
      "GrimReaper hopefully finished\n",
      "INFO: Read selected data\n",
      "INFO: Start Calculation\n",
      "The inital number of candidates is:\n",
      "452198\n",
      "----------------------------------\n",
      "The number of candidates after the cut is:\n",
      "390125\n",
      "----------------------------------\n",
      "The efficiency of the cut is:\n",
      "0.8627304853183783\n",
      "INFO: Finish Calculation\n",
      "INFO: Starting to test cut BDTresponse_wrongPV>4.692317204390924\n",
      "INFO: Call CandidateSelectionGrimReaper\n",
      "Wait for GrimReaper\n",
      "GrimReaper hopefully finished\n",
      "INFO: Read selected data\n",
      "INFO: Start Calculation\n",
      "The inital number of candidates is:\n",
      "452198\n",
      "----------------------------------\n",
      "The number of candidates after the cut is:\n",
      "384935\n",
      "----------------------------------\n",
      "The efficiency of the cut is:\n",
      "0.8512532120885099\n",
      "INFO: Finish Calculation\n",
      "INFO: Starting to test cut BDTresponse_wrongPV>4.730778289896119\n",
      "INFO: Call CandidateSelectionGrimReaper\n",
      "Wait for GrimReaper\n",
      "GrimReaper hopefully finished\n",
      "INFO: Read selected data\n",
      "INFO: Start Calculation\n",
      "The inital number of candidates is:\n",
      "452198\n",
      "----------------------------------\n",
      "The number of candidates after the cut is:\n",
      "382272\n",
      "----------------------------------\n",
      "The efficiency of the cut is:\n",
      "0.8453641988686372\n",
      "INFO: Finish Calculation\n",
      "INFO: Starting to test cut BDTresponse_wrongPV>4.7692393754013125\n",
      "INFO: Call CandidateSelectionGrimReaper\n",
      "Wait for GrimReaper\n",
      "GrimReaper hopefully finished\n",
      "INFO: Read selected data\n",
      "INFO: Start Calculation\n",
      "The inital number of candidates is:\n",
      "452198\n",
      "----------------------------------\n",
      "The number of candidates after the cut is:\n",
      "379307\n",
      "----------------------------------\n",
      "The efficiency of the cut is:\n",
      "0.8388073366091845\n",
      "INFO: Finish Calculation\n",
      "INFO: Starting to test cut BDTresponse_wrongPV>4.807700460906506\n",
      "INFO: Call CandidateSelectionGrimReaper\n",
      "Wait for GrimReaper\n",
      "GrimReaper hopefully finished\n",
      "INFO: Read selected data\n",
      "INFO: Start Calculation\n",
      "The inital number of candidates is:\n",
      "452198\n",
      "----------------------------------\n",
      "The number of candidates after the cut is:\n",
      "376948\n",
      "----------------------------------\n",
      "The efficiency of the cut is:\n",
      "0.8335905952702135\n",
      "INFO: Finish Calculation\n",
      "INFO: Starting to test cut BDTresponse_wrongPV>4.8461615464117\n",
      "INFO: Call CandidateSelectionGrimReaper\n",
      "Wait for GrimReaper\n",
      "GrimReaper hopefully finished\n",
      "INFO: Read selected data\n",
      "INFO: Start Calculation\n",
      "The inital number of candidates is:\n",
      "452198\n",
      "----------------------------------\n",
      "The number of candidates after the cut is:\n",
      "373928\n",
      "----------------------------------\n",
      "The efficiency of the cut is:\n",
      "0.8269121048744135\n",
      "INFO: Finish Calculation\n",
      "INFO: Starting to test cut BDTresponse_wrongPV>4.884622631916894\n",
      "INFO: Call CandidateSelectionGrimReaper\n",
      "Wait for GrimReaper\n",
      "GrimReaper hopefully finished\n",
      "INFO: Read selected data\n",
      "INFO: Start Calculation\n",
      "The inital number of candidates is:\n",
      "452198\n",
      "----------------------------------\n",
      "The number of candidates after the cut is:\n",
      "371750\n",
      "----------------------------------\n",
      "The efficiency of the cut is:\n",
      "0.8220956306750583\n",
      "INFO: Finish Calculation\n",
      "INFO: Starting to test cut BDTresponse_wrongPV>4.923083717422089\n",
      "INFO: Call CandidateSelectionGrimReaper\n",
      "Wait for GrimReaper\n",
      "GrimReaper hopefully finished\n",
      "INFO: Read selected data\n",
      "INFO: Start Calculation\n",
      "The inital number of candidates is:\n",
      "452198\n",
      "----------------------------------\n",
      "The number of candidates after the cut is:\n",
      "368201\n",
      "----------------------------------\n",
      "The efficiency of the cut is:\n",
      "0.8142472987496627\n",
      "INFO: Finish Calculation\n",
      "INFO: Starting to test cut BDTresponse_wrongPV>4.961544802927283\n",
      "INFO: Call CandidateSelectionGrimReaper\n",
      "Wait for GrimReaper\n",
      "GrimReaper hopefully finished\n",
      "INFO: Read selected data\n",
      "INFO: Start Calculation\n",
      "The inital number of candidates is:\n",
      "452198\n",
      "----------------------------------\n",
      "The number of candidates after the cut is:\n",
      "363970\n",
      "----------------------------------\n",
      "The efficiency of the cut is:\n",
      "0.8048907779335601\n",
      "INFO: Finish Calculation\n",
      "INFO: Starting to test cut BDTresponse_wrongPV>5.000005888432477\n",
      "INFO: Call CandidateSelectionGrimReaper\n",
      "Wait for GrimReaper\n",
      "GrimReaper hopefully finished\n",
      "INFO: Read selected data\n",
      "INFO: Start Calculation\n",
      "The inital number of candidates is:\n",
      "452198\n",
      "----------------------------------\n",
      "The number of candidates after the cut is:\n",
      "361638\n",
      "----------------------------------\n",
      "The efficiency of the cut is:\n",
      "0.7997337449524323\n",
      "INFO: Finish Calculation\n",
      "INFO: Starting to test cut BDTresponse_wrongPV>5.038466973937671\n",
      "INFO: Call CandidateSelectionGrimReaper\n",
      "Wait for GrimReaper\n",
      "GrimReaper hopefully finished\n",
      "INFO: Read selected data\n",
      "INFO: Start Calculation\n",
      "The inital number of candidates is:\n",
      "452198\n",
      "----------------------------------\n",
      "The number of candidates after the cut is:\n",
      "357335\n",
      "----------------------------------\n",
      "The efficiency of the cut is:\n",
      "0.7902180018487477\n",
      "INFO: Finish Calculation\n",
      "INFO: Starting to test cut BDTresponse_wrongPV>5.076928059442865\n",
      "INFO: Call CandidateSelectionGrimReaper\n",
      "Wait for GrimReaper\n",
      "GrimReaper hopefully finished\n",
      "INFO: Read selected data\n",
      "INFO: Start Calculation\n",
      "The inital number of candidates is:\n",
      "452198\n",
      "----------------------------------\n",
      "The number of candidates after the cut is:\n",
      "349804\n",
      "----------------------------------\n",
      "The efficiency of the cut is:\n",
      "0.7735637928518039\n",
      "INFO: Finish Calculation\n",
      "INFO: Starting to test cut BDTresponse_wrongPV>5.115389144948059\n",
      "INFO: Call CandidateSelectionGrimReaper\n",
      "Wait for GrimReaper\n",
      "GrimReaper hopefully finished\n",
      "INFO: Read selected data\n",
      "INFO: Start Calculation\n",
      "The inital number of candidates is:\n",
      "452198\n",
      "----------------------------------\n",
      "The number of candidates after the cut is:\n",
      "344326\n",
      "----------------------------------\n",
      "The efficiency of the cut is:\n",
      "0.7614496304716075\n",
      "INFO: Finish Calculation\n",
      "INFO: Starting to test cut BDTresponse_wrongPV>5.153850230453253\n",
      "INFO: Call CandidateSelectionGrimReaper\n",
      "Wait for GrimReaper\n",
      "GrimReaper hopefully finished\n",
      "INFO: Read selected data\n",
      "INFO: Start Calculation\n",
      "The inital number of candidates is:\n",
      "452198\n",
      "----------------------------------\n",
      "The number of candidates after the cut is:\n",
      "338578\n",
      "----------------------------------\n",
      "The efficiency of the cut is:\n",
      "0.7487383845129788\n",
      "INFO: Finish Calculation\n",
      "INFO: Starting to test cut BDTresponse_wrongPV>5.192311315958447\n",
      "INFO: Call CandidateSelectionGrimReaper\n",
      "Wait for GrimReaper\n",
      "GrimReaper hopefully finished\n",
      "INFO: Read selected data\n",
      "INFO: Start Calculation\n",
      "The inital number of candidates is:\n",
      "452198\n",
      "----------------------------------\n",
      "The number of candidates after the cut is:\n",
      "334641\n",
      "----------------------------------\n",
      "The efficiency of the cut is:\n",
      "0.7400320213711693\n",
      "INFO: Finish Calculation\n",
      "INFO: Starting to test cut BDTresponse_wrongPV>5.230772401463641\n",
      "INFO: Call CandidateSelectionGrimReaper\n",
      "Wait for GrimReaper\n",
      "GrimReaper hopefully finished\n",
      "INFO: Read selected data\n",
      "INFO: Start Calculation\n",
      "The inital number of candidates is:\n",
      "452198\n",
      "----------------------------------\n",
      "The number of candidates after the cut is:\n",
      "330513\n",
      "----------------------------------\n",
      "The efficiency of the cut is:\n",
      "0.7309032768831353\n",
      "INFO: Finish Calculation\n",
      "INFO: Starting to test cut BDTresponse_wrongPV>5.269233486968836\n",
      "INFO: Call CandidateSelectionGrimReaper\n",
      "Wait for GrimReaper\n",
      "GrimReaper hopefully finished\n",
      "INFO: Read selected data\n",
      "INFO: Start Calculation\n",
      "The inital number of candidates is:\n",
      "452198\n",
      "----------------------------------\n",
      "The number of candidates after the cut is:\n",
      "324704\n",
      "----------------------------------\n",
      "The efficiency of the cut is:\n",
      "0.718057134264194\n",
      "INFO: Finish Calculation\n",
      "INFO: Starting to test cut BDTresponse_wrongPV>5.30769457247403\n",
      "INFO: Call CandidateSelectionGrimReaper\n",
      "Wait for GrimReaper\n",
      "GrimReaper hopefully finished\n",
      "INFO: Read selected data\n",
      "INFO: Start Calculation\n",
      "The inital number of candidates is:\n",
      "452198\n",
      "----------------------------------\n",
      "The number of candidates after the cut is:\n",
      "321275\n",
      "----------------------------------\n",
      "The efficiency of the cut is:\n",
      "0.7104741728181018\n",
      "INFO: Finish Calculation\n",
      "INFO: Starting to test cut BDTresponse_wrongPV>5.3461556579792235\n",
      "INFO: Call CandidateSelectionGrimReaper\n",
      "Wait for GrimReaper\n",
      "GrimReaper hopefully finished\n",
      "INFO: Read selected data\n",
      "INFO: Start Calculation\n",
      "The inital number of candidates is:\n",
      "452198\n",
      "----------------------------------\n",
      "The number of candidates after the cut is:\n",
      "317467\n",
      "----------------------------------\n",
      "The efficiency of the cut is:\n",
      "0.7020530829415433\n",
      "INFO: Finish Calculation\n",
      "INFO: Starting to test cut BDTresponse_wrongPV>5.384616743484418\n",
      "INFO: Call CandidateSelectionGrimReaper\n",
      "Wait for GrimReaper\n",
      "GrimReaper hopefully finished\n",
      "INFO: Read selected data\n",
      "INFO: Start Calculation\n",
      "The inital number of candidates is:\n",
      "452198\n",
      "----------------------------------\n",
      "The number of candidates after the cut is:\n",
      "311251\n",
      "----------------------------------\n",
      "The efficiency of the cut is:\n",
      "0.6883068921136316\n",
      "INFO: Finish Calculation\n",
      "INFO: Starting to test cut BDTresponse_wrongPV>5.423077828989612\n",
      "INFO: Call CandidateSelectionGrimReaper\n",
      "Wait for GrimReaper\n",
      "GrimReaper hopefully finished\n",
      "INFO: Read selected data\n",
      "INFO: Start Calculation\n",
      "The inital number of candidates is:\n",
      "452198\n",
      "----------------------------------\n",
      "The number of candidates after the cut is:\n",
      "301706\n",
      "----------------------------------\n",
      "The efficiency of the cut is:\n",
      "0.6671988819057139\n",
      "INFO: Finish Calculation\n",
      "INFO: Starting to test cut BDTresponse_wrongPV>5.461538914494806\n",
      "INFO: Call CandidateSelectionGrimReaper\n",
      "Wait for GrimReaper\n",
      "GrimReaper hopefully finished\n",
      "INFO: Read selected data\n",
      "INFO: Start Calculation\n",
      "The inital number of candidates is:\n",
      "452198\n",
      "----------------------------------\n",
      "The number of candidates after the cut is:\n",
      "287238\n",
      "----------------------------------\n",
      "The efficiency of the cut is:\n",
      "0.6352040477843777\n",
      "INFO: Finish Calculation\n",
      "INFO: Starting to test cut BDTresponse_wrongPV>5.5\n",
      "INFO: Call CandidateSelectionGrimReaper\n",
      "Wait for GrimReaper\n",
      "GrimReaper hopefully finished\n",
      "INFO: Read selected data\n",
      "INFO: Start Calculation\n",
      "The inital number of candidates is:\n",
      "452198\n",
      "----------------------------------\n",
      "The number of candidates after the cut is:\n",
      "273631\n",
      "----------------------------------\n",
      "The efficiency of the cut is:\n",
      "0.6051132468520427\n",
      "INFO: Finish Calculation\n"
     ]
    }
   ],
   "source": [
    "from ROOT import RooArgList\n",
    "import subprocess, os\n",
    "import time\n",
    "import root_pandas as rp\n",
    "\n",
    "x=None\n",
    "\n",
    "\n",
    "\n",
    "\n",
    "first_cut = str(cuts[0])\n",
    "data_fit_cut = signal_dataframe_wrongPV#.query('BDTresponse_wrongPV>='+ first_cut)\n",
    "my_env = os.environ.copy()\n",
    "my_env['PATH'] = '/usr/local/bin:/bin:/usr/bin:/usr/local/sbin:/usr/sbin:/sbin:/home/chasenberg/bin'\n",
    "my_env['LD_LIBRARY_PATH'] = '/usr/local/lib'\n",
    "my_env['script'] = '/home/chasenberg/repos/b2cc_sin2beta_run2/notebooks/selection'\n",
    "my_command = 'source /lhcbsoft/LHCbSoftwareSetup.sh &&' \\\n",
    "        'lb-run DaVinci/v41r2 $BASH -c \"' \\\n",
    "        'echo $PATH && ' \\\n",
    "        'source /doosoft/InstallDooSoftware/LoadDooSoftware && CandidateSelectionGrimReaper /fhgfs/users/chasenberg/mc/2015_2016_merged/jpsimumuks/interim.root Bd2JpsiKS /fhgfs/users/chasenberg/mc/2015_2016_merged/jpsimumuks/interim.root Bd2JpsiKS \"idxRunNumber\"\"'        \n",
    "subprocess.Popen([my_command], env=my_env, shell=True)\n",
    "        \n",
    "print(\"Wait for GrimReaper\")\n",
    "time.sleep(40.0)        # pause 5.5 seconds\n",
    "print(\"GrimReaper hopefully finished\")\n",
    "print('INFO: Read selected data', flush=True)\n",
    "data_fit_cut = rp.read_root('/fhgfs/users/chasenberg/mc/2015_2016_merged/jpsimumuks/interim.root',key=tree_mc)\n",
    "sig_yields_init = data_fit_cut.shape[0]\n",
    "\n",
    "for cut in cuts:\n",
    "    print('INFO: Starting to test cut ' + '{0}>{1}'.format(cuttype,cut), flush=True)\n",
    "    data_fit_cut = signal_dataframe_wrongPV.query('{0}>{1}'.format(cuttype,cut)) #data_after_import.reduce('{0}>{1}'.format(cuttype,cut))\n",
    "    #best_pv = signal_dataframe_wrongPV.query('{0}>{1}'.format(cuttype,cut)).query('idxPV==0')\n",
    "    #data_fit_cut = data_fit_cut.query('B0_FitPVConst_MinIPCHI2anyPV_flat>6')\n",
    "    #print(\"The size of the sample is:\")\n",
    "    #print(data_fit_cut['Delta_TAU'].min())\n",
    "    data_fit_cut.to_root('/fhgfs/users/chasenberg/mc/2015_2016_merged/jpsimumuks/interim.root',key=tree_mc)\n",
    "    print('INFO: Call CandidateSelectionGrimReaper', flush=True)\n",
    "    my_env = os.environ.copy()\n",
    "    my_env['PATH'] = '/usr/local/bin:/bin:/usr/bin:/usr/local/sbin:/usr/sbin:/sbin:/home/chasenberg/bin'\n",
    "    my_env['LD_LIBRARY_PATH'] = '/usr/local/lib'\n",
    "    my_env['script'] = '/home/chasenberg/repos/b2cc_sin2beta_run2/notebooks/selection'\n",
    "    my_command = 'source /lhcbsoft/LHCbSoftwareSetup.sh &&' \\\n",
    "             'lb-run DaVinci/v41r2 $BASH -c \"' \\\n",
    "             'echo $PATH && ' \\\n",
    "             'source /doosoft/InstallDooSoftware/LoadDooSoftware && CandidateSelectionGrimReaper /fhgfs/users/chasenberg/mc/2015_2016_merged/jpsimumuks/interim.root Bd2JpsiKS /fhgfs/users/chasenberg/mc/2015_2016_merged/jpsimumuks/interim.root Bd2JpsiKS \"idxRunNumber\"\"'                     \n",
    "    subprocess.Popen([my_command], env=my_env, shell=True)\n",
    "   # subprocess.call(('bash /home/chasenberg/repos/b2cc_sin2beta_run2/notebooks/selection/random_sel.sh'),shell=True)                      \n",
    "    print(\"Wait for GrimReaper\")\n",
    "    time.sleep(40.0)    # pause 5.5 seconds\n",
    "    print(\"GrimReaper hopefully finished\")\n",
    "    print('INFO: Read selected data', flush=True)\n",
    "    data_fit_cut = rp.read_root('/fhgfs/users/chasenberg/mc/2015_2016_merged/jpsimumuks/interim.root',key=tree_mc)\n",
    "    \n",
    "    print('INFO: Start Calculation', flush=True)\n",
    "    #print('INFO: Building Ipatia (signal) + Exp (combinatorics) + Ipatia (bs-component) model for data', flush=True) \n",
    "    #final_model = build_mass_model(B0_FitDaughtersConst_M)\n",
    "    sig_yields_cut = data_fit_cut.shape[0] \n",
    "    efficiency = sig_yields_cut / sig_yields_init\n",
    "    print(\"The inital number of candidates is:\")\n",
    "    print(sig_yields_init)\n",
    "    print(\"----------------------------------\")\n",
    "    print(\"The number of candidates after the cut is:\")\n",
    "    print(sig_yields_cut)\n",
    "    print(\"----------------------------------\")\n",
    "    print(\"The efficiency of the cut is:\")\n",
    "    print(efficiency)\n",
    "    cut_to_shape[cut] = {} \n",
    "    cut_to_performance[cut] = {}\n",
    "    \n",
    "    \n",
    "    foms = calculate_foms(data_fit_cut)\n",
    "    cut_to_performance[cut].update(foms)\n",
    "    \n",
    "    print('INFO: Finish Calculation', flush=True)"
   ]
  },
  {
   "cell_type": "markdown",
   "metadata": {},
   "source": [
    "### Plot FOMs"
   ]
  },
  {
   "cell_type": "code",
   "execution_count": 15,
   "metadata": {
    "collapsed": false,
    "scrolled": true
   },
   "outputs": [
    {
     "data": {
      "text/plain": [
       "'import random\\nimport seaborn as sns\\nsns.set_style(\"whitegrid\")\\nsns.set_style(\"whitegrid\", {\"legend.frameon\": True})\\n\\nx, ys = unpack_cut_dict(cut_to_performance)\\nshift = 0.0\\n\\nfoms_to_plot = {}\\nfoms_to_plot[\"TimeresPower\"] = \"BDT PV selection\"\\n\\n#for parameter, values in ys.items():\\nfor parameter in foms_to_plot:\\n    x=ys[parameter]\\n    values = ys[\\'TimeresPower\\']\\n    #if \"FOM\" in parameter or \"EffSig\" in parameter or \"s3_over_spb2\" in parameter    #or \"TaggingPower\" in parameter or \"TimeresPower\" in parameter:\\n    if parameter in foms_to_plot:\\n        plt.errorbar(x,values+random.random()*shift,marker=\\'.\\',linestyle=\\'-\\',label=foms_to_plot[parameter])\\n        plt.xlabel(\"wPV BDT cut\")\\n\\nplt.gca().set_ylim(0.,1.0)\\nplt.gca().set_xlim(4,6.5)\\nplt.legend(loc=\\'best\\')\\nplt.savefig(subdir + \\'/FOMS.pdf\\')\\nplt.show()'"
      ]
     },
     "execution_count": 15,
     "metadata": {},
     "output_type": "execute_result"
    }
   ],
   "source": [
    "'''import random\n",
    "import seaborn as sns\n",
    "sns.set_style(\"whitegrid\")\n",
    "sns.set_style(\"whitegrid\", {\"legend.frameon\": True})\n",
    "\n",
    "x, ys = unpack_cut_dict(cut_to_performance)\n",
    "shift = 0.0\n",
    "\n",
    "foms_to_plot = {}\n",
    "foms_to_plot[\"TimeresPower\"] = \"BDT PV selection\"\n",
    "\n",
    "#for parameter, values in ys.items():\n",
    "for parameter in foms_to_plot:\n",
    "    x=ys[parameter]\n",
    "    values = ys['TimeresPower']\n",
    "    #if \"FOM\" in parameter or \"EffSig\" in parameter or \"s3_over_spb2\" in parameter\\\n",
    "    #or \"TaggingPower\" in parameter or \"TimeresPower\" in parameter:\n",
    "    if parameter in foms_to_plot:\n",
    "        plt.errorbar(x,values+random.random()*shift,marker='.',linestyle='-',label=foms_to_plot[parameter])\n",
    "        plt.xlabel(\"wPV BDT cut\")\n",
    "\n",
    "plt.gca().set_ylim(0.,1.0)\n",
    "plt.gca().set_xlim(4,6.5)\n",
    "plt.legend(loc='best')\n",
    "plt.savefig(subdir + '/FOMS.pdf')\n",
    "plt.show()'''"
   ]
  },
  {
   "cell_type": "code",
   "execution_count": 16,
   "metadata": {
    "collapsed": false
   },
   "outputs": [
    {
     "name": "stdout",
     "output_type": "stream",
     "text": [
      "(40, 2)\n"
     ]
    },
    {
     "data": {
      "image/png": "[encoded data removed]",
      "text/plain": [
       "<matplotlib.figure.Figure at 0x7f7757d67ba8>"
      ]
     },
     "metadata": {},
     "output_type": "display_data"
    }
   ],
   "source": [
    "import seaborn as sns; sns.set_style('white')\n",
    "\n",
    "x, ys = unpack_cut_dict(cut_to_performance)\n",
    "test = pd.DataFrame()\n",
    "test['TimeresPower'] = np.array(ys['TimeresPower'])\n",
    "test['Efficiency'] = np.array(ys['Efficiency'])\n",
    "\n",
    "\n",
    "y_lim = (0.4,1)\n",
    "x_lim = (0.4,1)\n",
    "g = sns.jointplot(x='TimeresPower', y='Efficiency',data=test,stat_func=None,space=0.05, kind=\"kde\",xlim=x_lim,ylim=y_lim, color=\"r\")\n",
    "#g.savefig(\"/home/chasenberg/plots/wrong_pv/deltatau_vs_pvzpull.pdf\")\n",
    "print(test.shape)"
   ]
  },
  {
   "cell_type": "code",
   "execution_count": 17,
   "metadata": {
    "collapsed": false
   },
   "outputs": [
    {
     "data": {
      "text/plain": [
       "(0.4, 1.05)"
      ]
     },
     "execution_count": 17,
     "metadata": {},
     "output_type": "execute_result"
    },
    {
     "data": {
      "image/png": "[encoded data removed]",
      "text/plain": [
       "<matplotlib.figure.Figure at 0x7f7757d845f8>"
      ]
     },
     "metadata": {},
     "output_type": "display_data"
    }
   ],
   "source": [
    "x = test['TimeresPower'] = np.array(ys['TimeresPower'])\n",
    "y = test['Efficiency'] = np.array(ys['Efficiency'])\n",
    "lm = sns.lmplot(x='TimeresPower', y='Efficiency',data=test,x_estimator=np.mean)\n",
    "axes = lm.axes\n",
    "axes[0,0].set_ylim(0.4,1)\n",
    "axes[0,0].set_xlim(0.4,1.05)"
   ]
  },
  {
   "cell_type": "code",
   "execution_count": null,
   "metadata": {
    "collapsed": true
   },
   "outputs": [],
   "source": []
  },
  {
   "cell_type": "code",
   "execution_count": 18,
   "metadata": {
    "collapsed": false
   },
   "outputs": [
    {
     "data": {
      "text/plain": [
       "array([ 0.43874368,  0.44143976,  0.44540861,  0.45664691,  0.46397023,\n",
       "        0.46856216,  0.48490732,  0.49684542,  0.50510349,  0.51773783,\n",
       "        0.52758978,  0.53527759,  0.54446365,  0.55997191,  0.56810222,\n",
       "        0.57813829,  0.58622452,  0.59583856,  0.5053065 ,  0.51237121,\n",
       "        0.52041282,  0.52694686,  0.53549294,  0.5417858 ,  0.55228043,\n",
       "        0.56519425,  0.57250699,  0.58637818,  0.61190021,  0.63152498,\n",
       "        0.65314969,  0.66860854,  0.68541428,  0.71015801,  0.72539812,\n",
       "        0.74290475,  0.77287424,  0.82255038,  0.90750016,  1.        ])"
      ]
     },
     "execution_count": 18,
     "metadata": {},
     "output_type": "execute_result"
    }
   ],
   "source": [
    "ys['TimeresPower']"
   ]
  },
  {
   "cell_type": "code",
   "execution_count": 19,
   "metadata": {
    "collapsed": false
   },
   "outputs": [
    {
     "data": {
      "text/plain": [
       "[]"
      ]
     },
     "execution_count": 19,
     "metadata": {},
     "output_type": "execute_result"
    },
    {
     "data": {
      "image/png": "[encoded data removed]",
      "text/plain": [
       "<matplotlib.figure.Figure at 0x7f7765444940>"
      ]
     },
     "metadata": {},
     "output_type": "display_data"
    }
   ],
   "source": [
    "a = test['TimeresPower']\n",
    "plt.plot(cuts,a)\n",
    "plt.semilogy()"
   ]
  },
  {
   "cell_type": "code",
   "execution_count": 20,
   "metadata": {
    "collapsed": false
   },
   "outputs": [
    {
     "data": {
      "text/plain": [
       "[<matplotlib.lines.Line2D at 0x7f772011bc18>]"
      ]
     },
     "execution_count": 20,
     "metadata": {},
     "output_type": "execute_result"
    },
    {
     "data": {
      "image/png": "[encoded data removed]",
      "text/plain": [
       "<matplotlib.figure.Figure at 0x7f774ae23f60>"
      ]
     },
     "metadata": {},
     "output_type": "display_data"
    }
   ],
   "source": [
    "a = test['Efficiency']\n",
    "plt.plot(cuts,a)\n"
   ]
  },
  {
   "cell_type": "code",
   "execution_count": 21,
   "metadata": {
    "collapsed": false
   },
   "outputs": [
    {
     "data": {
      "text/plain": [
       "0     1.000000\n",
       "1     0.996942\n",
       "2     0.992490\n",
       "3     0.980201\n",
       "4     0.972435\n",
       "5     0.967658\n",
       "6     0.951209\n",
       "7     0.939712\n",
       "8     0.931999\n",
       "9     0.925519\n",
       "10    0.916837\n",
       "11    0.910229\n",
       "12    0.902518\n",
       "13    0.889933\n",
       "14    0.883542\n",
       "15    0.875840\n",
       "16    0.869778\n",
       "17    0.862732\n",
       "18    0.851255\n",
       "19    0.845366\n",
       "20    0.838809\n",
       "21    0.833592\n",
       "22    0.826914\n",
       "23    0.822097\n",
       "24    0.814249\n",
       "25    0.804893\n",
       "26    0.799736\n",
       "27    0.790220\n",
       "28    0.773566\n",
       "29    0.761451\n",
       "30    0.748740\n",
       "31    0.740034\n",
       "32    0.730905\n",
       "33    0.718059\n",
       "34    0.710476\n",
       "35    0.702055\n",
       "36    0.688308\n",
       "37    0.667200\n",
       "38    0.635205\n",
       "39    0.605115\n",
       "Name: Efficiency, dtype: float64"
      ]
     },
     "execution_count": 21,
     "metadata": {},
     "output_type": "execute_result"
    }
   ],
   "source": [
    "a"
   ]
  },
  {
   "cell_type": "code",
   "execution_count": 22,
   "metadata": {
    "collapsed": false
   },
   "outputs": [
    {
     "data": {
      "text/plain": [
       "array([ 0.43874368,  0.44143976,  0.44540861,  0.45664691,  0.46397023,\n",
       "        0.46856216,  0.48490732,  0.49684542,  0.50510349,  0.51773783,\n",
       "        0.52758978,  0.53527759,  0.54446365,  0.55997191,  0.56810222,\n",
       "        0.57813829,  0.58622452,  0.59583856,  0.5053065 ,  0.51237121,\n",
       "        0.52041282,  0.52694686,  0.53549294,  0.5417858 ,  0.55228043,\n",
       "        0.56519425,  0.57250699,  0.58637818,  0.61190021,  0.63152498,\n",
       "        0.65314969,  0.66860854,  0.68541428,  0.71015801,  0.72539812,\n",
       "        0.74290475,  0.77287424,  0.82255038,  0.90750016,  1.        ])"
      ]
     },
     "execution_count": 22,
     "metadata": {},
     "output_type": "execute_result"
    }
   ],
   "source": [
    "x"
   ]
  },
  {
   "cell_type": "code",
   "execution_count": null,
   "metadata": {
    "collapsed": true
   },
   "outputs": [],
   "source": []
  }
 ],
 "metadata": {
  "kernelspec": {
   "display_name": "Python 3",
   "language": "python",
   "name": "python3"
  },
  "language_info": {
   "codemirror_mode": {
    "name": "ipython",
    "version": 3
   },
   "file_extension": ".py",
   "mimetype": "text/x-python",
   "name": "python",
   "nbconvert_exporter": "python",
   "pygments_lexer": "ipython3",
   "version": "3.4.4"
  }
 },
 "nbformat": 4,
 "nbformat_minor": 0
}
