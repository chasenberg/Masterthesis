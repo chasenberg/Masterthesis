{
 "cells": [
  {
   "cell_type": "markdown",
   "metadata": {},
   "source": [
    "## Notebook for 1D BDT scan and calculating FOMs in Bd2psi2SKS on data\n"
   ]
  },
  {
   "cell_type": "code",
   "execution_count": 7,
   "metadata": {
    "collapsed": false
   },
   "outputs": [
    {
     "name": "stdout",
     "output_type": "stream",
     "text": [
      "The autoreload extension is already loaded. To reload it, use:\n",
      "  %reload_ext autoreload\n"
     ]
    }
   ],
   "source": [
    "%matplotlib inline\n",
    "%load_ext autoreload\n",
    "%autoreload 2\n",
    "import sys\n",
    "sys.path.append('/home/chasenberg/repos/')\n",
    "import os\n",
    "import sys\n",
    "import ROOT\n",
    "from ROOT import TFile, TH1D, TH2D, TCanvas, gStyle, TLine, TTree\n",
    "from ROOT import (RooArgSet, RooRealVar, RooDataSet, RooPlot, RooFit, RooStats, RooArgList)\n",
    "import root_pandas as rp\n",
    "import root_numpy as ry \n",
    "\n",
    "import math\n",
    "import itertools\n",
    "import numpy as np\n",
    "import matplotlib as mpl\n",
    "import matplotlib.pyplot as plt\n",
    "from matplotlib.backends.backend_pdf import PdfPages\n",
    "\n",
    "from root_pandas import read_root\n",
    "import pandas as pd\n",
    "\n",
    "sys.path.append('/home/vmueller/repos')\n",
    "from dopy.doroot.root_utils import read_roodataset_from_tree, plot_pulls\n",
    "from dopy.doplot.plotting import Plotter, Plot                "
   ]
  },
  {
   "cell_type": "code",
   "execution_count": 8,
   "metadata": {
    "collapsed": false
   },
   "outputs": [],
   "source": [
    "\n",
    "from ROOT import RooRealVar, RooExponential, RooExtendPdf, RooAddPdf, RooArgList, RooGaussian\n",
    "from ROOT import RooFormulaVar\n",
    "from ROOT import gSystem\n",
    "gSystem.Load('libRooFit.so')\n",
    "gSystem.Load('/home/chasenberg/repos/dopy/dolib/CustomShapes/libKll')\n",
    "from ROOT import RooIpatia2"
   ]
  },
  {
   "cell_type": "markdown",
   "metadata": {},
   "source": [
    "### Read ROOT file"
   ]
  },
  {
   "cell_type": "code",
   "execution_count": 9,
   "metadata": {
    "collapsed": false
   },
   "outputs": [],
   "source": [
    "dataset_file_name = '/fhgfs/users/chasenberg/mc/2015_2016_merged/jpsimumuks/Bd2JpsiKS_pv_selected.root'"
   ]
  },
  {
   "cell_type": "code",
   "execution_count": 23,
   "metadata": {
    "collapsed": true
   },
   "outputs": [],
   "source": [
    "branches = [\n",
    "            'B0_FitPVConst_tau_flat',\n",
    "            'B0_FitPVConst_tauErr_flat',\n",
    "            'B0_TRUETAU',\n",
    "            'B0_FitPVConst_MinIPCHI2anyPV_flat',\n",
    "            'idxRunNumber',\n",
    "            'idxEventNumber',    \n",
    "            'idxRandom',\n",
    "            'idxPV',\n",
    "            'Delta_TAU',\n",
    "            'BDTresponse_wrongPV'\n",
    "            ]"
   ]
  },
  {
   "cell_type": "code",
   "execution_count": 24,
   "metadata": {
    "collapsed": false
   },
   "outputs": [],
   "source": [
    "tree_mc = 'Bd2JpsiKS'\n",
    "signal_dataframe_wrongPV  = rp.read_root(dataset_file_name,key=tree_mc,columns=branches, flatten=False)\n",
    "signal_dataframe_wrongPV  = signal_dataframe_wrongPV.replace([np.inf, -np.inf], np.nan)\n",
    "signal_dataframe_wrongPV  = signal_dataframe_wrongPV.dropna()"
   ]
  },
  {
   "cell_type": "code",
   "execution_count": 25,
   "metadata": {
    "collapsed": false
   },
   "outputs": [
    {
     "data": {
      "text/plain": [
       "Index(['B0_FitPVConst_tau_flat', 'B0_FitPVConst_tauErr_flat', 'B0_TRUETAU',\n",
       "       'B0_FitPVConst_MinIPCHI2anyPV_flat', 'idxRunNumber', 'idxEventNumber',\n",
       "       'idxRandom', 'idxPV', 'Delta_TAU', 'BDTresponse_wrongPV'],\n",
       "      dtype='object')"
      ]
     },
     "execution_count": 25,
     "metadata": {},
     "output_type": "execute_result"
    }
   ],
   "source": [
    "#columns=branches\n",
    "signal_dataframe_wrongPV.columns"
   ]
  },
  {
   "cell_type": "code",
   "execution_count": 26,
   "metadata": {
    "collapsed": false
   },
   "outputs": [
    {
     "data": {
      "text/plain": [
       "501573"
      ]
     },
     "execution_count": 26,
     "metadata": {},
     "output_type": "execute_result"
    }
   ],
   "source": [
    "len(signal_dataframe_wrongPV['BDTresponse_wrongPV'])"
   ]
  },
  {
   "cell_type": "code",
   "execution_count": 27,
   "metadata": {
    "collapsed": false
   },
   "outputs": [
    {
     "data": {
      "text/plain": [
       "<matplotlib.axes._subplots.AxesSubplot at 0x7f622062c780>"
      ]
     },
     "execution_count": 27,
     "metadata": {},
     "output_type": "execute_result"
    },
    {
     "data": {
      "image/png": "[encoded data removed]",
      "text/plain": [
       "<matplotlib.figure.Figure at 0x7f62206470b8>"
      ]
     },
     "metadata": {},
     "output_type": "display_data"
    }
   ],
   "source": [
    "import seaborn as sns\n",
    "sns.distplot(signal_dataframe_wrongPV['BDTresponse_wrongPV'])"
   ]
  },
  {
   "cell_type": "markdown",
   "metadata": {},
   "source": [
    "### Function to calculate the FOMs"
   ]
  },
  {
   "cell_type": "markdown",
   "metadata": {},
   "source": [
    "### Configure  and define cuts "
   ]
  },
  {
   "cell_type": "code",
   "execution_count": 84,
   "metadata": {
    "collapsed": false
   },
   "outputs": [],
   "source": [
    "\n",
    "subdir = '/home/chasenberg/plots/wrongpv_cuttuning'\n",
    "plot_dir    = os.path.join(subdir, 'plots')\n",
    "results_dir = os.path.join(subdir, 'results')\n",
    "plot_file   = os.path.join(plot_dir, 'all_plots.pdf')\n",
    "\n",
    "\n",
    "if not os.path.exists(plot_dir):\n",
    "    os.makedirs(plot_dir)\n",
    "if not os.path.exists(results_dir):\n",
    "    os.makedirs(results_dir)\n",
    "\n",
    "cuttype = 'BDTresponse_wrongPV' \n",
    "\n",
    "minimum = signal_dataframe_wrongPV['BDTresponse_wrongPV'].min()\n",
    "maximum = signal_dataframe_wrongPV['BDTresponse_wrongPV'].max()\n",
    "cuts = np.linspace(3.5,3.85,20) #(0,20,10)    #(0,0.001,10)\n",
    "#cuts = [-0.05]\n",
    "cuts_for_which_to_store_sdata = []   \n",
    "\n",
    "num_sig = []\n",
    "num_bkg = []\n",
    "num_all = []\n",
    "\n",
    "cut_to_performance = {} \n",
    "cut_to_shape = {}\n",
    "\n",
    "perform_fit = True\n",
    "do_splot    = True\n",
    "postfix = ''\n",
    "final_params_file = None\n",
    "oldParameters = None\n",
    "final_model = None"
   ]
  },
  {
   "cell_type": "code",
   "execution_count": 85,
   "metadata": {
    "collapsed": false
   },
   "outputs": [
    {
     "data": {
      "text/plain": [
       "'def calculate_foms(df_random,df_bestpv): \\n    import math\\n    \\n\\n    delta_m = 5065 \\n    S = 0.691 #sin2beta value (average from HFAG)\\n    \\n    dilution_bdt_bestpv = 0\\n    dilution_bdt_random = 0\\n    \\n\\n    \\n    tagomega = np.array(df_bestpv[\\'B0_TAGOMEGA_OS\\'])\\n    tag1 = np.array(df_bestpv[\\'B0_TAGDECISION_OS\\'])\\n    time = np.array(df_bestpv[\\'B0_FitPVConst_tau_flat\\']) \\n    error = np.absolute(np.array(df_bestpv[\\'Delta_TAU\\']))\\n    \\n    tagomega_random = np.array(df_random[\\'B0_TAGOMEGA_OS\\'])\\n    tag1_random = np.array(df_random[\\'B0_TAGDECISION_OS\\'])\\n    time_random = np.array(df_random[\\'B0_FitPVConst_tau_flat\\']) \\n    error_random = np.absolute(np.array(df_random[\\'Delta_TAU\\']))\\n    \\n    #Calculate dilution for best pv selection\\n    range_df_bestpv = df_bestpv.shape[0]   \\n    for i in range(range_df_bestpv):\\n        timeerror           =  error[i]     \\n        dilution_bdt_bestpv = math.exp(-(delta_m*timeerror)**2)\\n        dilution_bdt_bestpv += dilution_bdt_bestpv\\n\\n    #timeerror_dilution_theory = math.exp(-(delta_m*cut)**2)\\n    dilution_bdt_bestpv     /= range_df_bestpv\\n    efficiency_bdt_bestpv   = range_df_bestpv /sig_yields_init\\n    \\n\\n    #Calcutlate dilution for random selection\\n    efficiency_bdt_random   = df_random.shape[0]  / sig_yields_init\\n    \\n    print(\"The efficiency_bdt_random of the cut is:\")\\n    print(efficiency_bdt_random)\\n\\n    for i in range(df_random.shape[0]):\\n        timeerror_random    =  error_random[i]\\n        dilution_bdt_random   = math.exp(-(delta_m*timeerror_random)**2)\\n        dilution_bdt_random   += dilution_bdt_random\\n        \\n    dilution_bdt_random /= df_random.shape[0]  \\n    \\n    \\n    fomname_to_value = {\\n        \\'dilution_bdt_bestpv\\'   : dilution_bdt_bestpv,\\n        \\'efficiency_bdt_bestpv\\' : efficiency_bdt_bestpv,\\n         #\\'timeerror_dilution_theory\\': timeerror_dilution_theory,\\n        \\'dilution_bdt_random\\'  : dilution_bdt_random,\\n        \\'efficiency_bdt_random\\'   : efficiency_bdt_random\\n    }\\n    return fomname_to_value'"
      ]
     },
     "execution_count": 85,
     "metadata": {},
     "output_type": "execute_result"
    }
   ],
   "source": [
    "'''def calculate_foms(df_random,df_bestpv): \n",
    "    import math\n",
    "    \n",
    "\n",
    "    delta_m = 5065 \n",
    "    S = 0.691 #sin2beta value (average from HFAG)\n",
    "    \n",
    "    dilution_bdt_bestpv = 0\n",
    "    dilution_bdt_random = 0\n",
    "    \n",
    "\n",
    "    \n",
    "    tagomega = np.array(df_bestpv['B0_TAGOMEGA_OS'])\n",
    "    tag1 = np.array(df_bestpv['B0_TAGDECISION_OS'])\n",
    "    time = np.array(df_bestpv['B0_FitPVConst_tau_flat']) \n",
    "    error = np.absolute(np.array(df_bestpv['Delta_TAU']))\n",
    "    \n",
    "    tagomega_random = np.array(df_random['B0_TAGOMEGA_OS'])\n",
    "    tag1_random = np.array(df_random['B0_TAGDECISION_OS'])\n",
    "    time_random = np.array(df_random['B0_FitPVConst_tau_flat']) \n",
    "    error_random = np.absolute(np.array(df_random['Delta_TAU']))\n",
    "    \n",
    "    #Calculate dilution for best pv selection\n",
    "    range_df_bestpv = df_bestpv.shape[0]   \n",
    "    for i in range(range_df_bestpv):\n",
    "        timeerror           =  error[i]     \n",
    "        dilution_bdt_bestpv = math.exp(-(delta_m*timeerror)**2)\n",
    "        dilution_bdt_bestpv += dilution_bdt_bestpv\n",
    "\n",
    "    #timeerror_dilution_theory = math.exp(-(delta_m*cut)**2)\n",
    "    dilution_bdt_bestpv     /= range_df_bestpv\n",
    "    efficiency_bdt_bestpv   = range_df_bestpv /sig_yields_init\n",
    "    \n",
    "\n",
    "    #Calcutlate dilution for random selection\n",
    "    efficiency_bdt_random   = df_random.shape[0]  / sig_yields_init\n",
    "    \n",
    "    print(\"The efficiency_bdt_random of the cut is:\")\n",
    "    print(efficiency_bdt_random)\n",
    "\n",
    "    for i in range(df_random.shape[0]):\n",
    "        timeerror_random    =  error_random[i]\n",
    "        dilution_bdt_random   = math.exp(-(delta_m*timeerror_random)**2)\n",
    "        dilution_bdt_random   += dilution_bdt_random\n",
    "        \n",
    "    dilution_bdt_random /= df_random.shape[0]  \n",
    "    \n",
    "    \n",
    "    fomname_to_value = {\n",
    "        'dilution_bdt_bestpv'   : dilution_bdt_bestpv,\n",
    "        'efficiency_bdt_bestpv' : efficiency_bdt_bestpv,\n",
    "         #'timeerror_dilution_theory': timeerror_dilution_theory,\n",
    "        'dilution_bdt_random'  : dilution_bdt_random,\n",
    "        'efficiency_bdt_random'   : efficiency_bdt_random\n",
    "    }\n",
    "    return fomname_to_value'''"
   ]
  },
  {
   "cell_type": "markdown",
   "metadata": {},
   "source": [
    "### Calculate FOM"
   ]
  },
  {
   "cell_type": "code",
   "execution_count": 86,
   "metadata": {
    "collapsed": false
   },
   "outputs": [],
   "source": [
    "def calculate_foms(data_fit_cut,best_pv): \n",
    "    import math\n",
    "    \n",
    "    signal_sum    = 0\n",
    "    cbkg_sum      = 0\n",
    "    signal_sumw2  = 0\n",
    "    signal_sum_wrong    = 0\n",
    "    cbkg_sum_wrong       = 0\n",
    "    signal_sumw2_wrong   = 0\n",
    "    \n",
    "    delta_m = 5065 \n",
    "    S = 0.691 #sin2beta value (average from HFAG)\n",
    "    \n",
    "    dilution_bdt_bestpv = 0\n",
    "    dilution_bdt_random = 0\n",
    "    \n",
    "\n",
    "    time = np.array(best_pv['B0_FitPVConst_tau_flat']) \n",
    "    error = np.absolute(np.array(best_pv['Delta_TAU']))\n",
    "   \n",
    "    time_wrong = np.array(data_fit_cut['B0_FitPVConst_tau_flat']) \n",
    "    error_wrong = np.absolute(np.array(data_fit_cut['Delta_TAU']))\n",
    "\n",
    "    #calculate dilution and efficiency for best PV selection \n",
    "    efficiency_bdt_bestpv = best_pv.shape[0]  / sig_yields_init\n",
    "    \n",
    "    for i in range(best_pv.shape[0]):\n",
    "        signal_weight =  1 \n",
    "        timeerror     =  error[i]        \n",
    "        signal_sum    += signal_weight\n",
    "        timeerror_dilution = math.exp(-(delta_m*timeerror)**2)\n",
    "        dilution_bdt_bestpv    += timeerror_dilution\n",
    "    \n",
    "    dilution_bdt_bestpv /= signal_sum\n",
    "    bdt_bestpv_poisson = 1 / np.sqrt(best_pv.shape[0])\n",
    "    \n",
    "    #Calculate for random selection\n",
    "    efficiency_bdt_random = data_fit_cut.shape[0]  / sig_yields_init\n",
    "\n",
    "    for i in range(data_fit_cut.shape[0]):\n",
    "        signal_weight_wrong =  1 \n",
    "        timeerror_wrong     =  error_wrong[i]\n",
    "        signal_sum_wrong    += signal_weight_wrong\n",
    "        timeerror_dilution_wrong = math.exp(-(delta_m*timeerror_wrong)**2)\n",
    "        dilution_bdt_random     += timeerror_dilution_wrong *signal_weight_wrong \n",
    "        \n",
    "    dilution_bdt_random /= signal_sum_wrong  \n",
    "    bdt_random_poisson = 1 / np.sqrt(data_fit_cut.shape[0])\n",
    "\n",
    "    #Write to dictionary\n",
    "    fomname_to_value = {\n",
    "        'dilution_bdt_bestpv'   : dilution_bdt_bestpv,\n",
    "        'efficiency_bdt_bestpv' : efficiency_bdt_bestpv,\n",
    "        'bdt_bestpv_poisson'    : bdt_bestpv_poisson,\n",
    "        'dilution_bdt_random'   : dilution_bdt_random,\n",
    "        'efficiency_bdt_random' : efficiency_bdt_random,\n",
    "        'bdt_random_poisson'    : bdt_random_poisson, \n",
    "    }\n",
    "    \n",
    "    return fomname_to_value"
   ]
  },
  {
   "cell_type": "code",
   "execution_count": 87,
   "metadata": {
    "collapsed": false
   },
   "outputs": [
    {
     "data": {
      "image/png": "[encoded data removed]",
      "text/plain": [
       "<matplotlib.figure.Figure at 0x7f61ec3c0e48>"
      ]
     },
     "metadata": {},
     "output_type": "display_data"
    }
   ],
   "source": [
    "import numpy as np\n",
    "import matplotlib.pyplot as plt\n",
    "plt.hist(signal_dataframe_wrongPV['BDTresponse_wrongPV'],40,range=[1,6.5])\n",
    "plt.savefig(\"/home/chasenberg/plots/wrong_pv/bdt_output.pdf\")"
   ]
  },
  {
   "cell_type": "code",
   "execution_count": 88,
   "metadata": {
    "collapsed": false
   },
   "outputs": [
    {
     "name": "stdout",
     "output_type": "stream",
     "text": [
      "Wait for GrimReaper\n",
      "GrimReaper hopefully finished\n",
      "INFO: Read selected data\n"
     ]
    }
   ],
   "source": [
    "from ROOT import RooArgList\n",
    "import subprocess, os\n",
    "import time\n",
    "import root_pandas as rp\n",
    "\n",
    "x=None\n",
    "\n",
    "data_fit_cut = signal_dataframe_wrongPV.query('BDTresponse_wrongPV>3.5')\n",
    "data_fit_cut.to_root('/fhgfs/users/chasenberg/mc/2015_2016_merged/jpsimumuks/interim_initial.root',key=tree_mc)\n",
    "my_env = os.environ.copy()\n",
    "my_env['PATH'] = '/usr/local/bin:/bin:/usr/bin:/usr/local/sbin:/usr/sbin:/sbin:/home/chasenberg/bin'\n",
    "my_env['LD_LIBRARY_PATH'] = '/usr/local/lib'\n",
    "my_env['script'] = '/home/chasenberg/repos/b2cc_sin2beta_run2/notebooks/selection'\n",
    "my_command = 'source /lhcbsoft/LHCbSoftwareSetup.sh &&' \\\n",
    "        'lb-run DaVinci/v41r2 $BASH -c \"' \\\n",
    "        'echo $PATH && ' \\\n",
    "        'source /doosoft/InstallDooSoftware/LoadDooSoftware && CandidateSelectionGrimReaper /fhgfs/users/chasenberg/mc/2015_2016_merged/jpsimumuks/interim_initial.root Bd2JpsiKS /fhgfs/users/chasenberg/mc/2015_2016_merged/jpsimumuks/interim_initial.root Bd2JpsiKS \"idxRunNumber\"\"'        \n",
    "subprocess.Popen([my_command], env=my_env, shell=True)\n",
    "        \n",
    "print(\"Wait for GrimReaper\")\n",
    "time.sleep(90.0)        # pause 5.5 seconds\n",
    "print(\"GrimReaper hopefully finished\")\n",
    "print('INFO: Read selected data', flush=True)\n",
    "data_fit_cut = rp.read_root('/fhgfs/users/chasenberg/mc/2015_2016_merged/jpsimumuks/interim_initial.root',key=tree_mc)\n",
    "sig_yields_init = data_fit_cut.shape[0]"
   ]
  },
  {
   "cell_type": "code",
   "execution_count": 89,
   "metadata": {
    "collapsed": false
   },
   "outputs": [
    {
     "data": {
      "text/plain": [
       "'#calculate poisson uncertainty \\ntest = pd.DataFrame()\\npoisson_error_arr = []\\nfor cut in cuts:\\n    cut = str(cut)\\n    mu = data_fit_cut.query(\\'BDTresponse_wrongPV>\\'+cut).shape[0]\\n    print(\"Yields after the cut:\")\\n    print(\"---------------------\")\\n    print(mu)\\n    poisson_error = 1/np.sqrt(mu)\\n    print(poisson_error)\\n    poisson_error_arr.append(poisson_error)\\n    #return(poisson_error_arr)\\npoisson_error_arr = poisson_error_arr/np.amax(poisson_error_arr)#*min(np.array(ys[\\'TimeresPower\\']))\\nerror = np.array(poisson_error_arr)\\ntest[\\'error\\'] = error'"
      ]
     },
     "execution_count": 89,
     "metadata": {},
     "output_type": "execute_result"
    }
   ],
   "source": [
    "'''#calculate poisson uncertainty \n",
    "test = pd.DataFrame()\n",
    "poisson_error_arr = []\n",
    "for cut in cuts:\n",
    "    cut = str(cut)\n",
    "    mu = data_fit_cut.query('BDTresponse_wrongPV>'+cut).shape[0]\n",
    "    print(\"Yields after the cut:\")\n",
    "    print(\"---------------------\")\n",
    "    print(mu)\n",
    "    poisson_error = 1/np.sqrt(mu)\n",
    "    print(poisson_error)\n",
    "    poisson_error_arr.append(poisson_error)\n",
    "    #return(poisson_error_arr)\n",
    "poisson_error_arr = poisson_error_arr/np.amax(poisson_error_arr)#*min(np.array(ys['TimeresPower']))\n",
    "error = np.array(poisson_error_arr)\n",
    "test['error'] = error'''"
   ]
  },
  {
   "cell_type": "code",
   "execution_count": 90,
   "metadata": {
    "collapsed": false,
    "scrolled": false
   },
   "outputs": [
    {
     "name": "stdout",
     "output_type": "stream",
     "text": [
      "INFO: Starting to test cut BDTresponse_wrongPV>3.5\n",
      "INFO: Call CandidateSelectionGrimReaper\n",
      "Wait for GrimReaper\n",
      "GrimReaper hopefully finished\n",
      "INFO: Read selected data\n",
      "INFO: Start Calculation\n",
      "The inital number of candidates is:\n",
      "482050\n",
      "----------------------------------\n",
      "The number of candidates after the cut is:\n",
      "482050\n",
      "----------------------------------\n",
      "The efficiency of the cut is:\n",
      "1.0\n",
      "INFO: Finish Calculation\n",
      "INFO: Starting to test cut BDTresponse_wrongPV>3.518421052631579\n",
      "INFO: Call CandidateSelectionGrimReaper\n",
      "Wait for GrimReaper\n",
      "GrimReaper hopefully finished\n",
      "INFO: Read selected data\n",
      "INFO: Start Calculation\n",
      "The inital number of candidates is:\n",
      "482050\n",
      "----------------------------------\n",
      "The number of candidates after the cut is:\n",
      "481705\n",
      "----------------------------------\n",
      "The efficiency of the cut is:\n",
      "0.9992843066071985\n",
      "INFO: Finish Calculation\n",
      "INFO: Starting to test cut BDTresponse_wrongPV>3.536842105263158\n",
      "INFO: Call CandidateSelectionGrimReaper\n",
      "Wait for GrimReaper\n",
      "GrimReaper hopefully finished\n",
      "INFO: Read selected data\n",
      "INFO: Start Calculation\n",
      "The inital number of candidates is:\n",
      "482050\n",
      "----------------------------------\n",
      "The number of candidates after the cut is:\n",
      "481297\n",
      "----------------------------------\n",
      "The efficiency of the cut is:\n",
      "0.9984379213774505\n",
      "INFO: Finish Calculation\n",
      "INFO: Starting to test cut BDTresponse_wrongPV>3.555263157894737\n",
      "INFO: Call CandidateSelectionGrimReaper\n",
      "Wait for GrimReaper\n",
      "GrimReaper hopefully finished\n",
      "INFO: Read selected data\n",
      "INFO: Start Calculation\n",
      "The inital number of candidates is:\n",
      "482050\n",
      "----------------------------------\n",
      "The number of candidates after the cut is:\n",
      "480926\n",
      "----------------------------------\n",
      "The efficiency of the cut is:\n",
      "0.9976682916709885\n",
      "INFO: Finish Calculation\n",
      "INFO: Starting to test cut BDTresponse_wrongPV>3.573684210526316\n",
      "INFO: Call CandidateSelectionGrimReaper\n",
      "Wait for GrimReaper\n",
      "GrimReaper hopefully finished\n",
      "INFO: Read selected data\n",
      "INFO: Start Calculation\n",
      "The inital number of candidates is:\n",
      "482050\n",
      "----------------------------------\n",
      "The number of candidates after the cut is:\n",
      "480615\n",
      "----------------------------------\n",
      "The efficiency of the cut is:\n",
      "0.9970231303806659\n",
      "INFO: Finish Calculation\n",
      "INFO: Starting to test cut BDTresponse_wrongPV>3.5921052631578947\n",
      "INFO: Call CandidateSelectionGrimReaper\n",
      "Wait for GrimReaper\n",
      "GrimReaper hopefully finished\n",
      "INFO: Read selected data\n",
      "INFO: Start Calculation\n",
      "The inital number of candidates is:\n",
      "482050\n",
      "----------------------------------\n",
      "The number of candidates after the cut is:\n",
      "480071\n",
      "----------------------------------\n",
      "The efficiency of the cut is:\n",
      "0.995894616741002\n",
      "INFO: Finish Calculation\n",
      "INFO: Starting to test cut BDTresponse_wrongPV>3.610526315789474\n",
      "INFO: Call CandidateSelectionGrimReaper\n",
      "Wait for GrimReaper\n",
      "GrimReaper hopefully finished\n",
      "INFO: Read selected data\n",
      "INFO: Start Calculation\n",
      "The inital number of candidates is:\n",
      "482050\n",
      "----------------------------------\n",
      "The number of candidates after the cut is:\n",
      "479693\n",
      "----------------------------------\n",
      "The efficiency of the cut is:\n",
      "0.9951104657193237\n",
      "INFO: Finish Calculation\n",
      "INFO: Starting to test cut BDTresponse_wrongPV>3.6289473684210525\n",
      "INFO: Call CandidateSelectionGrimReaper\n",
      "Wait for GrimReaper\n",
      "GrimReaper hopefully finished\n",
      "INFO: Read selected data\n",
      "INFO: Start Calculation\n",
      "The inital number of candidates is:\n",
      "482050\n",
      "----------------------------------\n",
      "The number of candidates after the cut is:\n",
      "479355\n",
      "----------------------------------\n",
      "The efficiency of the cut is:\n",
      "0.9944092936417384\n",
      "INFO: Finish Calculation\n",
      "INFO: Starting to test cut BDTresponse_wrongPV>3.6473684210526316\n",
      "INFO: Call CandidateSelectionGrimReaper\n",
      "Wait for GrimReaper\n",
      "GrimReaper hopefully finished\n",
      "INFO: Read selected data\n",
      "INFO: Start Calculation\n",
      "The inital number of candidates is:\n",
      "482050\n",
      "----------------------------------\n",
      "The number of candidates after the cut is:\n",
      "478843\n",
      "----------------------------------\n",
      "The efficiency of the cut is:\n",
      "0.9933471631573488\n",
      "INFO: Finish Calculation\n",
      "INFO: Starting to test cut BDTresponse_wrongPV>3.6657894736842107\n",
      "INFO: Call CandidateSelectionGrimReaper\n",
      "Wait for GrimReaper\n",
      "GrimReaper hopefully finished\n",
      "INFO: Read selected data\n",
      "INFO: Start Calculation\n",
      "The inital number of candidates is:\n",
      "482050\n",
      "----------------------------------\n",
      "The number of candidates after the cut is:\n",
      "478557\n",
      "----------------------------------\n",
      "The efficiency of the cut is:\n",
      "0.9927538637070843\n",
      "INFO: Finish Calculation\n",
      "INFO: Starting to test cut BDTresponse_wrongPV>3.6842105263157894\n",
      "INFO: Call CandidateSelectionGrimReaper\n",
      "Wait for GrimReaper\n",
      "GrimReaper hopefully finished\n",
      "INFO: Read selected data\n",
      "INFO: Start Calculation\n",
      "The inital number of candidates is:\n",
      "482050\n",
      "----------------------------------\n",
      "The number of candidates after the cut is:\n",
      "477760\n",
      "----------------------------------\n",
      "The efficiency of the cut is:\n",
      "0.9911005082460326\n",
      "INFO: Finish Calculation\n",
      "INFO: Starting to test cut BDTresponse_wrongPV>3.7026315789473685\n",
      "INFO: Call CandidateSelectionGrimReaper\n",
      "Wait for GrimReaper\n",
      "GrimReaper hopefully finished\n",
      "INFO: Read selected data\n",
      "INFO: Start Calculation\n",
      "The inital number of candidates is:\n",
      "482050\n",
      "----------------------------------\n",
      "The number of candidates after the cut is:\n",
      "477304\n",
      "----------------------------------\n",
      "The efficiency of the cut is:\n",
      "0.9901545482833731\n",
      "INFO: Finish Calculation\n",
      "INFO: Starting to test cut BDTresponse_wrongPV>3.7210526315789476\n",
      "INFO: Call CandidateSelectionGrimReaper\n",
      "Wait for GrimReaper\n",
      "GrimReaper hopefully finished\n",
      "INFO: Read selected data\n",
      "INFO: Start Calculation\n",
      "The inital number of candidates is:\n",
      "482050\n",
      "----------------------------------\n",
      "The number of candidates after the cut is:\n",
      "476507\n",
      "----------------------------------\n",
      "The efficiency of the cut is:\n",
      "0.9885011928223213\n",
      "INFO: Finish Calculation\n",
      "INFO: Starting to test cut BDTresponse_wrongPV>3.7394736842105263\n",
      "INFO: Call CandidateSelectionGrimReaper\n",
      "Wait for GrimReaper\n",
      "GrimReaper hopefully finished\n",
      "INFO: Read selected data\n",
      "INFO: Start Calculation\n",
      "The inital number of candidates is:\n",
      "482050\n",
      "----------------------------------\n",
      "The number of candidates after the cut is:\n",
      "475645\n",
      "----------------------------------\n",
      "The efficiency of the cut is:\n",
      "0.9867129965771185\n",
      "INFO: Finish Calculation\n",
      "INFO: Starting to test cut BDTresponse_wrongPV>3.7578947368421054\n",
      "INFO: Call CandidateSelectionGrimReaper\n",
      "Wait for GrimReaper\n",
      "GrimReaper hopefully finished\n",
      "INFO: Read selected data\n",
      "INFO: Start Calculation\n",
      "The inital number of candidates is:\n",
      "482050\n",
      "----------------------------------\n",
      "The number of candidates after the cut is:\n",
      "473085\n",
      "----------------------------------\n",
      "The efficiency of the cut is:\n",
      "0.9814023441551706\n",
      "INFO: Finish Calculation\n",
      "INFO: Starting to test cut BDTresponse_wrongPV>3.776315789473684\n",
      "INFO: Call CandidateSelectionGrimReaper\n",
      "Wait for GrimReaper\n",
      "GrimReaper hopefully finished\n",
      "INFO: Read selected data\n",
      "INFO: Start Calculation\n",
      "The inital number of candidates is:\n",
      "482050\n",
      "----------------------------------\n",
      "The number of candidates after the cut is:\n",
      "471275\n",
      "----------------------------------\n",
      "The efficiency of the cut is:\n",
      "0.9776475469349653\n",
      "INFO: Finish Calculation\n",
      "INFO: Starting to test cut BDTresponse_wrongPV>3.794736842105263\n",
      "INFO: Call CandidateSelectionGrimReaper\n",
      "Wait for GrimReaper\n",
      "GrimReaper hopefully finished\n",
      "INFO: Read selected data\n",
      "INFO: Start Calculation\n",
      "The inital number of candidates is:\n",
      "482050\n",
      "----------------------------------\n",
      "The number of candidates after the cut is:\n",
      "470215\n",
      "----------------------------------\n",
      "The efficiency of the cut is:\n",
      "0.9754486049165024\n",
      "INFO: Finish Calculation\n",
      "INFO: Starting to test cut BDTresponse_wrongPV>3.8131578947368423\n",
      "INFO: Call CandidateSelectionGrimReaper\n",
      "Wait for GrimReaper\n",
      "GrimReaper hopefully finished\n",
      "INFO: Read selected data\n",
      "INFO: Start Calculation\n",
      "The inital number of candidates is:\n",
      "482050\n",
      "----------------------------------\n",
      "The number of candidates after the cut is:\n",
      "469253\n",
      "----------------------------------\n",
      "The efficiency of the cut is:\n",
      "0.9734529613110673\n",
      "INFO: Finish Calculation\n",
      "INFO: Starting to test cut BDTresponse_wrongPV>3.831578947368421\n",
      "INFO: Call CandidateSelectionGrimReaper\n",
      "Wait for GrimReaper\n",
      "GrimReaper hopefully finished\n",
      "INFO: Read selected data\n",
      "INFO: Start Calculation\n",
      "The inital number of candidates is:\n",
      "482050\n",
      "----------------------------------\n",
      "The number of candidates after the cut is:\n",
      "468432\n",
      "----------------------------------\n",
      "The efficiency of the cut is:\n",
      "0.9717498184835598\n",
      "INFO: Finish Calculation\n",
      "INFO: Starting to test cut BDTresponse_wrongPV>3.85\n",
      "INFO: Call CandidateSelectionGrimReaper\n",
      "Wait for GrimReaper\n",
      "GrimReaper hopefully finished\n",
      "INFO: Read selected data\n",
      "INFO: Start Calculation\n",
      "The inital number of candidates is:\n",
      "482050\n",
      "----------------------------------\n",
      "The number of candidates after the cut is:\n",
      "468047\n",
      "----------------------------------\n",
      "The efficiency of the cut is:\n",
      "0.9709511461466653\n",
      "INFO: Finish Calculation\n"
     ]
    }
   ],
   "source": [
    "for cut in cuts:\n",
    "    print('INFO: Starting to test cut ' + '{0}>{1}'.format(cuttype,cut), flush=True)\n",
    "    data_fit_cut = signal_dataframe_wrongPV.query('{0}>{1}'.format(cuttype,cut)) \n",
    "    best_pv = signal_dataframe_wrongPV.query('{0}>{1}'.format(cuttype,cut)).query('idxPV==0')\n",
    "    data_fit_cut.to_root('/fhgfs/users/chasenberg/mc/2015_2016_merged/jpsimumuks/interim.root',key=tree_mc)\n",
    "    print('INFO: Call CandidateSelectionGrimReaper', flush=True)\n",
    "    my_env = os.environ.copy()\n",
    "    my_env['PATH'] = '/usr/local/bin:/bin:/usr/bin:/usr/local/sbin:/usr/sbin:/sbin:/home/chasenberg/bin'\n",
    "    my_env['LD_LIBRARY_PATH'] = '/usr/local/lib'\n",
    "    my_env['script'] = '/home/chasenberg/repos/b2cc_sin2beta_run2/notebooks/selection'\n",
    "    my_command = 'source /lhcbsoft/LHCbSoftwareSetup.sh &&' \\\n",
    "             'lb-run DaVinci/v41r2 $BASH -c \"' \\\n",
    "             'echo $PATH && ' \\\n",
    "             'source /doosoft/InstallDooSoftware/LoadDooSoftware && CandidateSelectionGrimReaper /fhgfs/users/chasenberg/mc/2015_2016_merged/jpsimumuks/interim.root Bd2JpsiKS /fhgfs/users/chasenberg/mc/2015_2016_merged/jpsimumuks/interim.root Bd2JpsiKS \"idxRandom\"\"'                     \n",
    "    subprocess.Popen([my_command], env=my_env, shell=True)\n",
    "   # subprocess.call(('bash /home/chasenberg/repos/b2cc_sin2beta_run2/notebooks/selection/random_sel.sh'),shell=True)                      \n",
    "    print(\"Wait for GrimReaper\")\n",
    "    time.sleep(120.0)    # pause 5.5 seconds\n",
    "    print(\"GrimReaper hopefully finished\")\n",
    "    print('INFO: Read selected data', flush=True)\n",
    "    data_fit_cut = rp.read_root('/fhgfs/users/chasenberg/mc/2015_2016_merged/jpsimumuks/interim.root',key=tree_mc)\n",
    "    \n",
    "    print('INFO: Start Calculation', flush=True)\n",
    "    #print('INFO: Building Ipatia (signal) + Exp (combinatorics) + Ipatia (bs-component) model for data', flush=True) \n",
    "    #final_model = build_mass_model(B0_FitDaughtersConst_M)\n",
    "    sig_yields_cut = data_fit_cut.shape[0] \n",
    "    efficiency = sig_yields_cut / sig_yields_init\n",
    "    print(\"The inital number of candidates is:\")\n",
    "    print(sig_yields_init)\n",
    "    print(\"----------------------------------\")\n",
    "    print(\"The number of candidates after the cut is:\")\n",
    "    print(sig_yields_cut)\n",
    "    print(\"----------------------------------\")\n",
    "    print(\"The efficiency of the cut is:\")\n",
    "    print(efficiency)\n",
    "    cut_to_shape[cut] = {} \n",
    "    cut_to_performance[cut] = {}\n",
    "    \n",
    "    \n",
    "    foms = calculate_foms(data_fit_cut,best_pv)\n",
    "    cut_to_performance[cut].update(foms)\n",
    "    \n",
    "    print('INFO: Finish Calculation', flush=True)"
   ]
  },
  {
   "cell_type": "code",
   "execution_count": 91,
   "metadata": {
    "collapsed": false
   },
   "outputs": [],
   "source": [
    "import numpy as np\n",
    "\n",
    "def unpack_cut_dict(cut_dict, normalize=True):\n",
    "    cuts = np.array(list(cut_dict.keys()))\n",
    "    cuts.sort()\n",
    "    \n",
    "    new_dict = {}\n",
    "    for cut in cuts:\n",
    "        parameters_dict = cut_dict[cut]\n",
    "        for parameter, value in parameters_dict.items():\n",
    "            if parameter in new_dict:\n",
    "                new_dict[parameter].append(value)\n",
    "            else:\n",
    "                new_dict[parameter] = [value]\n",
    "    \n",
    "    for parameter, values in new_dict.items():\n",
    "        new_dict[parameter] = np.array(values)\n",
    "        if normalize:\n",
    "            new_dict[parameter] = values/np.max(np.abs(values))\n",
    "    \n",
    "    return cuts, new_dict\n",
    "\n",
    "x, ys = unpack_cut_dict(cut_to_performance)\n",
    "for parameter, values in ys.items():\n",
    "    if \"value\" in parameter:\n",
    "        print(values)\n",
    "        y_errlo = np.array(ys[parameter.replace(\"_value\",\"_errlo\")])\n",
    "        y_errhi = np.array(ys[parameter.replace(\"_value\",\"_errhi\")])\n",
    "        y_errors= abs(np.vstack([y_errlo,y_errhi]))\n",
    "        plt.errorbar(x,values,yerr=y_errors,marker='.',linestyle='', label='sigma')\n",
    "        plt.xlabel(parameter)\n",
    "        plotname = parameter + '.pdf'\n",
    "        singleplot_file = os.path.join(plot_dir, plotname)\n",
    "        plt.savefig(singleplot_file)\n",
    "        plt.show()"
   ]
  },
  {
   "cell_type": "markdown",
   "metadata": {},
   "source": [
    "### Plot FOMs"
   ]
  },
  {
   "cell_type": "code",
   "execution_count": 92,
   "metadata": {
    "collapsed": false
   },
   "outputs": [
    {
     "data": {
      "text/plain": [
       "\"\\ntest['TimeresPower'] = np.array(ys['TimeresPower_bdt'])\\ntest['TimeresPower_poisson'] = test['TimeresPower'] / test['error']\\ntest['TimeresPower_bestPV'] = np.array(ys['TimeresPower_bestPV'])\\ntest['Efficiency'] = np.array(ys['Efficiency'])\""
      ]
     },
     "execution_count": 92,
     "metadata": {},
     "output_type": "execute_result"
    }
   ],
   "source": [
    "'''\n",
    "test['TimeresPower'] = np.array(ys['TimeresPower_bdt'])\n",
    "test['TimeresPower_poisson'] = test['TimeresPower'] / test['error']\n",
    "test['TimeresPower_bestPV'] = np.array(ys['TimeresPower_bestPV'])\n",
    "test['Efficiency'] = np.array(ys['Efficiency'])'''"
   ]
  },
  {
   "cell_type": "code",
   "execution_count": 93,
   "metadata": {
    "collapsed": false
   },
   "outputs": [],
   "source": [
    "df_bdt = pd.DataFrame()\n",
    "df_bdt['dilution_bdt_bestpv'] = np.array(ys['dilution_bdt_bestpv'])\n",
    "df_bdt['dilution_bdt_random'] = np.array(ys['dilution_bdt_random'])\n",
    "df_bdt['efficiency_bdt_bestpv'] = np.array(ys['efficiency_bdt_bestpv'])\n",
    "df_bdt['efficiency_bdt_random'] = np.array(ys['efficiency_bdt_random'])\n",
    "df_bdt['bdt_random_poisson'] = np.array(ys['bdt_random_poisson'])\n",
    "df_bdt['bdt_bestpv_poisson'] = np.array(ys['bdt_bestpv_poisson'])\n",
    "df_bdt['dilution_bdt_random_poisson'] = df_bdt['dilution_bdt_random'] / df_bdt['bdt_random_poisson']\n",
    "df_bdt['dilution_bdt_bestpv_poisson'] = df_bdt.dilution_bdt_bestpv / df_bdt.bdt_bestpv_poisson"
   ]
  },
  {
   "cell_type": "markdown",
   "metadata": {},
   "source": [
    "### Get similiar efficiencies for both approaches"
   ]
  },
  {
   "cell_type": "markdown",
   "metadata": {},
   "source": [
    "#### Import dataframe "
   ]
  },
  {
   "cell_type": "code",
   "execution_count": 103,
   "metadata": {
    "collapsed": false
   },
   "outputs": [],
   "source": [
    "df_minipchi2 = pd.read_csv('/home/chasenberg/plots/csv_data/minipchi2.csv')\n"
   ]
  },
  {
   "cell_type": "code",
   "execution_count": 104,
   "metadata": {
    "collapsed": false
   },
   "outputs": [
    {
     "data": {
      "text/plain": [
       "((20, 9), (20, 8))"
      ]
     },
     "execution_count": 104,
     "metadata": {},
     "output_type": "execute_result"
    }
   ],
   "source": [
    "df_minipchi2.shape,df_bdt.shape"
   ]
  },
  {
   "cell_type": "markdown",
   "metadata": {},
   "source": [
    "### Normalize both dataframes"
   ]
  },
  {
   "cell_type": "code",
   "execution_count": 105,
   "metadata": {
    "collapsed": false
   },
   "outputs": [],
   "source": [
    "normalize = True\n",
    "if normalize==True:    \n",
    "    params_bdt = list(df_bdt.columns)\n",
    "    params_minipchi2 = list(df_minipchi2.columns)\n",
    "    for param in params_bdt:\n",
    "        param = str(param)\n",
    "        df_bdt[param] = df_bdt[param] / df_bdt[param].max()\n",
    "    for param in params_minipchi2:\n",
    "        param = str(param)\n",
    "        df_minipchi2[param] = df_minipchi2[param] / df_minipchi2[param].max()"
   ]
  },
  {
   "cell_type": "markdown",
   "metadata": {},
   "source": [
    "### Merge both dataframes"
   ]
  },
  {
   "cell_type": "code",
   "execution_count": 106,
   "metadata": {
    "collapsed": true
   },
   "outputs": [],
   "source": [
    "df_all = pd.concat([df_minipchi2,df_bdt], axis=1)"
   ]
  },
  {
   "cell_type": "markdown",
   "metadata": {},
   "source": [
    "### Compare BDT approach vs. MinIPCHI2"
   ]
  },
  {
   "cell_type": "code",
   "execution_count": 134,
   "metadata": {
    "collapsed": false,
    "scrolled": true
   },
   "outputs": [
    {
     "data": {
      "image/png": "[encoded data removed]",
      "text/plain": [
       "<matplotlib.figure.Figure at 0x7f61ced04710>"
      ]
     },
     "metadata": {},
     "output_type": "display_data"
    }
   ],
   "source": [
    "import seaborn as sns; sns.set_style('white')\n",
    "plt.title(\"\")\n",
    "plt.xlabel(\"\")\n",
    "plt.ylabel(\"\")\n",
    "\n",
    "plot_3 = sns.regplot(x='efficiency_minipchi2_random', y='dilution_minipchi2_random',data=df_minipchi2,marker='s',x_estimator=np.mean,fit_reg=False,label=\"MinIPCHI2 approach\") \n",
    "plot_2 = sns.regplot(x='efficiency_bdt_random', y='dilution_bdt_random',data=df_bdt,x_estimator=np.mean,marker='v',color='red',fit_reg=False,label=\"BDT approach\")\n",
    "plot_2.legend(loc=\"best\")\n",
    "plt.savefig(\"/home/chasenberg/plots/wrong_pv/timres_eff_bdt_vs_chi2.pdf\")"
   ]
  },
  {
   "cell_type": "markdown",
   "metadata": {},
   "source": [
    "### Weight with Poisson error"
   ]
  },
  {
   "cell_type": "code",
   "execution_count": 133,
   "metadata": {
    "collapsed": false,
    "scrolled": true
   },
   "outputs": [
    {
     "data": {
      "image/png": "[encoded data removed]",
      "text/plain": [
       "<matplotlib.figure.Figure at 0x7f61cecf8b38>"
      ]
     },
     "metadata": {},
     "output_type": "display_data"
    }
   ],
   "source": [
    "plt.title(\"\")\n",
    "plt.xlabel(\"\")\n",
    "plt.ylabel(\"\")\n",
    "\n",
    "#plot_1 = sns.regplot(x='Efficiency', y='TimeresPower',data=test_cut,x_estimator=np.mean,fit_reg=True,label=\"BDT approach\") \n",
    "#plot_2 = sns.regplot(x='Efficiency', y='error',data=test_cut,x_estimator=np.mean,fit_reg=True,label=\"Poisson error\")\n",
    "plot_3 = sns.regplot(x='efficiency_bdt_random', y='dilution_minipchi2_random_poisson',data=df_all,marker='s',x_estimator=np.mean,fit_reg=False,label=\"MinIPCHI2 approach - poisson\") \n",
    "plot_2 = sns.regplot(x='efficiency_bdt_random', y='dilution_bdt_random_poisson',data=df_all,marker='v',color='red',x_estimator=np.mean,fit_reg=False,label=\"BDT approach - poisson\")\n",
    "\n",
    " \n",
    "plot_2.legend(loc=\"best\")\n",
    "plt.savefig(\"/home/chasenberg/plots/wrong_pv/timres_eff_bdt_vs_chi2_poisson.pdf\")"
   ]
  },
  {
   "cell_type": "code",
   "execution_count": 130,
   "metadata": {
    "collapsed": false
   },
   "outputs": [
    {
     "data": {
      "image/png": "[encoded data removed]",
      "text/plain": [
       "<matplotlib.figure.Figure at 0x7f61ec9d0dd8>"
      ]
     },
     "metadata": {},
     "output_type": "display_data"
    }
   ],
   "source": [
    "plt.title(\"\")\n",
    "plt.xlabel(\"\")\n",
    "plt.ylabel(\"\")\n",
    "\n",
    "plot_3 = sns.regplot(x='efficiency_minipchi2_random', y='dilution_minipchi2_bestpv',data=df_minipchi2,x_estimator=np.mean,fit_reg=False,label=\"MinIPCHI2 approach\") \n",
    "plot_2 = sns.regplot(x='efficiency_bdt_random', y='dilution_bdt_bestpv',data=df_bdt,x_estimator=np.mean,fit_reg=False,marker='v',color='red',label=\"BDT approach\")\n",
    "plot_2.legend(loc=\"best\")\n",
    "plt.savefig(\"/home/chasenberg/plots/wrong_pv/timres_eff_bdt_vs_chi2_bestpv.pdf\")"
   ]
  },
  {
   "cell_type": "code",
   "execution_count": 131,
   "metadata": {
    "collapsed": false
   },
   "outputs": [
    {
     "data": {
      "image/png": "[encoded data removed]",
      "text/plain": [
       "<matplotlib.figure.Figure at 0x7f61ec9d0518>"
      ]
     },
     "metadata": {},
     "output_type": "display_data"
    }
   ],
   "source": [
    "plt.title(\"\")\n",
    "plt.xlabel(\"\")\n",
    "plt.ylabel(\"\")\n",
    "\n",
    "plot_3 = sns.regplot(x='efficiency_minipchi2_random', y='dilution_minipchi2_bestpv_poisson',data=df_minipchi2,x_estimator=np.mean,marker='s',fit_reg=False,label=\"MinIPCHI2 approach\") \n",
    "plot_2 = sns.regplot(x='efficiency_bdt_random', y='dilution_bdt_bestpv_poisson',data=df_bdt,x_estimator=np.mean,marker='v',color='red',fit_reg=False,label=\"BDT approach\")\n",
    "plot_2.legend(loc=\"best\")\n",
    "plt.savefig(\"/home/chasenberg/plots/wrong_pv/timres_eff_bdt_vs_chi2_bestpv_poisson.pdf\")"
   ]
  },
  {
   "cell_type": "markdown",
   "metadata": {},
   "source": [
    "### Compare BDT approach vs best PV selection"
   ]
  },
  {
   "cell_type": "code",
   "execution_count": 109,
   "metadata": {
    "collapsed": false
   },
   "outputs": [
    {
     "data": {
      "text/plain": [
       "Index(['dilution_bdt_bestpv', 'dilution_bdt_random', 'efficiency_bdt_bestpv',\n",
       "       'efficiency_bdt_random', 'bdt_random_poisson', 'bdt_bestpv_poisson',\n",
       "       'dilution_bdt_random_poisson', 'dilution_bdt_bestpv_poisson'],\n",
       "      dtype='object')"
      ]
     },
     "execution_count": 109,
     "metadata": {},
     "output_type": "execute_result"
    }
   ],
   "source": [
    "df_bdt.columns"
   ]
  },
  {
   "cell_type": "code",
   "execution_count": 128,
   "metadata": {
    "collapsed": false
   },
   "outputs": [
    {
     "data": {
      "image/png": "[encoded data removed]",
      "text/plain": [
       "<matplotlib.figure.Figure at 0x7f61ecbba860>"
      ]
     },
     "metadata": {},
     "output_type": "display_data"
    }
   ],
   "source": [
    "plt.title(\"\")\n",
    "plt.xlabel(\"\")\n",
    "plt.ylabel(\"\")\n",
    "\n",
    "plot_2 = sns.regplot(x='efficiency_bdt_bestpv', y='dilution_bdt_bestpv',data=df_bdt,x_estimator=np.mean,marker='s', fit_reg=False,label='Best PV Selection')\n",
    "plot_1 = sns.regplot(x='efficiency_bdt_random', y='dilution_bdt_random',data=df_bdt,x_estimator=np.mean,marker='v',color='red', fit_reg=False,label='BDT PV Selection')\n",
    "plot_1.legend(loc=\"best\")\n",
    "#plot_1.set(xlim=(test['Efficiency'].min(), test['Efficiency'].max()))\n",
    "#plot_1.set(ylim=(0.9995,1.0001))\n",
    "plt.savefig(\"/home/chasenberg/plots/wrong_pv/timres_eff_bdt_bestpv_vs_random.pdf\")"
   ]
  },
  {
   "cell_type": "code",
   "execution_count": 129,
   "metadata": {
    "collapsed": false
   },
   "outputs": [
    {
     "data": {
      "image/png": "[encoded data removed]",
      "text/plain": [
       "<matplotlib.figure.Figure at 0x7f61ceb63518>"
      ]
     },
     "metadata": {},
     "output_type": "display_data"
    }
   ],
   "source": [
    "plot_2 = sns.regplot(x='efficiency_bdt_random', y='dilution_bdt_bestpv_poisson',data=df_bdt,x_estimator=np.mean,marker='s', fit_reg=False,label='Best PV Selection')\n",
    "plot_1 = sns.regplot(x='efficiency_bdt_random', y='dilution_bdt_random_poisson',data=df_bdt,x_estimator=np.mean,marker='v',color='red', fit_reg=False,label='Random PV Selection')\n",
    "plot_1.legend(loc=\"upper left\")\n",
    "#plot_1.set(xlim=(test['Efficiency'].min(), test['Efficiency'].max()))\n",
    "#plot_1.set(ylim=(0.9995,1.0001))\n",
    "plt.savefig(\"/home/chasenberg/plots/wrong_pv/timres_eff_bdt_bestpv_vs_random_poisson.pdf\")"
   ]
  },
  {
   "cell_type": "code",
   "execution_count": null,
   "metadata": {
    "collapsed": true
   },
   "outputs": [],
   "source": []
  }
 ],
 "metadata": {
  "kernelspec": {
   "display_name": "Python 3",
   "language": "python",
   "name": "python3"
  },
  "language_info": {
   "codemirror_mode": {
    "name": "ipython",
    "version": 3
   },
   "file_extension": ".py",
   "mimetype": "text/x-python",
   "name": "python",
   "nbconvert_exporter": "python",
   "pygments_lexer": "ipython3",
   "version": "3.4.4"
  }
 },
 "nbformat": 4,
 "nbformat_minor": 0
}
