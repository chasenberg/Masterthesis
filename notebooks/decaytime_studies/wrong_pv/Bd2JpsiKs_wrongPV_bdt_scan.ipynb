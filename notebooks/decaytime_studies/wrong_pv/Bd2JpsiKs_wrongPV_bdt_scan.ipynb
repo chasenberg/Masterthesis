{
 "cells": [
  {
   "cell_type": "markdown",
   "metadata": {},
   "source": [
    "## Notebook for 1D BDT scan and calculating FOMs in Bd2psi2SKS on data\n"
   ]
  },
  {
   "cell_type": "code",
   "execution_count": 1,
   "metadata": {
    "collapsed": false
   },
   "outputs": [],
   "source": [
    "%matplotlib inline\n",
    "%load_ext autoreload\n",
    "%autoreload 2\n",
    "import sys\n",
    "sys.path.append('/home/chasenberg/repos/')\n",
    "import os\n",
    "import sys\n",
    "import ROOT\n",
    "from ROOT import TFile, TH1D, TH2D, TCanvas, gStyle, TLine, TTree\n",
    "from ROOT import (RooArgSet, RooRealVar, RooDataSet, RooPlot, RooFit, RooStats, RooArgList)\n",
    "import root_pandas as rp\n",
    "import root_numpy as ry \n",
    "\n",
    "import math\n",
    "import itertools\n",
    "import numpy as np\n",
    "import matplotlib as mpl\n",
    "import matplotlib.pyplot as plt\n",
    "from matplotlib.backends.backend_pdf import PdfPages\n",
    "\n",
    "from root_pandas import read_root\n",
    "import pandas as pd\n",
    "\n",
    "sys.path.append('/home/vmueller/repos')\n",
    "from dopy.doroot.root_utils import read_roodataset_from_tree, plot_pulls\n",
    "from dopy.doplot.plotting import Plotter, Plot                "
   ]
  },
  {
   "cell_type": "code",
   "execution_count": 2,
   "metadata": {
    "collapsed": false
   },
   "outputs": [],
   "source": [
    "\n",
    "from ROOT import RooRealVar, RooExponential, RooExtendPdf, RooAddPdf, RooArgList, RooGaussian\n",
    "from ROOT import RooFormulaVar\n",
    "from ROOT import gSystem\n",
    "gSystem.Load('libRooFit.so')\n",
    "gSystem.Load('/home/chasenberg/repos/dopy/dolib/CustomShapes/libKll')\n",
    "from ROOT import RooIpatia2"
   ]
  },
  {
   "cell_type": "markdown",
   "metadata": {},
   "source": [
    "### Read ROOT file"
   ]
  },
  {
   "cell_type": "code",
   "execution_count": 3,
   "metadata": {
    "collapsed": false
   },
   "outputs": [],
   "source": [
    "dataset_file_name = '/fhgfs/users/chasenberg/mc/2015_2016_merged/jpsimumuks/Bd2JpsiKS_pv_selected.root'"
   ]
  },
  {
   "cell_type": "code",
   "execution_count": 4,
   "metadata": {
    "collapsed": true
   },
   "outputs": [],
   "source": [
    "branches = [\n",
    "            'B0_TAGOMEGA_OS',\n",
    "            'B0_TAGDECISION_OS',\n",
    "            'B0_FitPVConst_tau_flat',\n",
    "            'B0_FitPVConst_tauErr_flat',\n",
    "            'B0_TRUETAU',\n",
    "            'B0_FitPVConst_MinIPCHI2anyPV_flat',\n",
    "            'idxRunNumber',\n",
    "            'idxEventNumber',\n",
    "            'idxPV',\n",
    "            'Delta_TAU',\n",
    "            'BDTresponse_wrongPV'\n",
    "            ]\n"
   ]
  },
  {
   "cell_type": "code",
   "execution_count": 5,
   "metadata": {
    "collapsed": false
   },
   "outputs": [],
   "source": [
    "tree_mc = 'Bd2JpsiKS'\n",
    "signal_dataframe_wrongPV  = rp.read_root(dataset_file_name,key=tree_mc,columns=branches, flatten=False)\n",
    "signal_dataframe_wrongPV  = signal_dataframe_wrongPV.replace([np.inf, -np.inf], np.nan)\n",
    "signal_dataframe_wrongPV  = signal_dataframe_wrongPV.dropna()"
   ]
  },
  {
   "cell_type": "code",
   "execution_count": 6,
   "metadata": {
    "collapsed": false
   },
   "outputs": [
    {
     "data": {
      "text/plain": [
       "501573"
      ]
     },
     "execution_count": 6,
     "metadata": {},
     "output_type": "execute_result"
    }
   ],
   "source": [
    "len(signal_dataframe_wrongPV['BDTresponse_wrongPV'])"
   ]
  },
  {
   "cell_type": "code",
   "execution_count": 7,
   "metadata": {
    "collapsed": false
   },
   "outputs": [
    {
     "data": {
      "text/plain": [
       "<matplotlib.axes._subplots.AxesSubplot at 0x7f6623032320>"
      ]
     },
     "execution_count": 7,
     "metadata": {},
     "output_type": "execute_result"
    },
    {
     "data": {
      "image/png": "[encoded data removed]",
      "text/plain": [
       "<matplotlib.figure.Figure at 0x7f667c90e978>"
      ]
     },
     "metadata": {},
     "output_type": "display_data"
    }
   ],
   "source": [
    "import seaborn as sns\n",
    "sns.distplot(signal_dataframe_wrongPV['BDTresponse_wrongPV'])"
   ]
  },
  {
   "cell_type": "markdown",
   "metadata": {},
   "source": [
    "### Function to calculate the FOMs"
   ]
  },
  {
   "cell_type": "markdown",
   "metadata": {},
   "source": [
    "### Configure  and define cuts "
   ]
  },
  {
   "cell_type": "code",
   "execution_count": 22,
   "metadata": {
    "collapsed": false
   },
   "outputs": [],
   "source": [
    "\n",
    "subdir = '/home/chasenberg/plots/wrongpv_cuttuning'\n",
    "plot_dir    = os.path.join(subdir, 'plots')\n",
    "results_dir = os.path.join(subdir, 'results')\n",
    "plot_file   = os.path.join(plot_dir, 'all_plots.pdf')\n",
    "\n",
    "\n",
    "if not os.path.exists(plot_dir):\n",
    "    os.makedirs(plot_dir)\n",
    "if not os.path.exists(results_dir):\n",
    "    os.makedirs(results_dir)\n",
    "\n",
    "cuttype = 'BDTresponse_wrongPV' \n",
    "\n",
    "minimum = signal_dataframe_wrongPV['BDTresponse_wrongPV'].min()\n",
    "maximum = signal_dataframe_wrongPV['BDTresponse_wrongPV'].max()\n",
    "cuts = np.linspace(3.5,3.85,30) #(0,20,10)    #(0,0.001,10)\n",
    "#cuts = [-0.05]\n",
    "cuts_for_which_to_store_sdata = []   \n",
    "\n",
    "num_sig = []\n",
    "num_bkg = []\n",
    "num_all = []\n",
    "\n",
    "cut_to_performance = {} \n",
    "cut_to_shape = {}\n",
    "\n",
    "perform_fit = True\n",
    "do_splot    = True\n",
    "postfix = ''\n",
    "final_params_file = None\n",
    "oldParameters = None\n",
    "final_model = None"
   ]
  },
  {
   "cell_type": "markdown",
   "metadata": {},
   "source": [
    "### Calculate FOM"
   ]
  },
  {
   "cell_type": "code",
   "execution_count": 23,
   "metadata": {
    "collapsed": false
   },
   "outputs": [
    {
     "data": {
      "text/plain": [
       "\"def calculate_foms(data_fit_cut): \\n    import math\\n    \\n    signal_sum    = 0\\n    cbkg_sum      = 0\\n    signal_sumw2  = 0\\n    signal_sum    = 0\\n    cbkg_sum      = 0\\n    signal_sumw2  = 0\\n    timeres_power = 0\\n    tagging_power = 0\\n    \\n    signal_sum_tag_decis = 0 # count two ways to check consistency\\n    signal_sum_tag_omega = 0\\n    \\n    delta_m = 5065 \\n    S = 0.691 #sin2beta value (average from HFAG)\\n\\n    \\n    tagomega = np.array(data_fit_cut['B0_TAGOMEGA_OS'])\\n    tag1 = np.array(data_fit_cut['B0_TAGDECISION_OS'])\\n    time = np.array(data_fit_cut['B0_FitPVConst_tau_flat']) \\n    error = np.absolute(np.array(data_fit_cut['Delta_TAU'])) \\n    \\n\\n    ##################################################################\\n    \\n    for i in range(data_fit_cut.shape[0]):\\n        signal_weight =  1 \\n        cbkg_weight   =  1 \\n        mistag        =  tagomega[i] \\n        tag           =  tag1[i]\\n        decaytime     =  time[i]\\n        timeerror     =  error[i]\\n        \\n        \\n        signal_sum    += signal_weight\\n        signal_sumw2  += signal_weight**2\\n        \\n        timeerror_dilution = math.exp(-(delta_m*timeerror)**2)\\n    \\n        timeres_power     += timeerror_dilution *signal_weight \\n        \\n    timeres_power /= signal_sum\\n\\n    \\n    \\n    fomname_to_value = {\\n    \\n        'TimeresPower' : timeres_power,\\n        'Efficiency'   : efficiency\\n    }\\n\\n    return fomname_to_value\""
      ]
     },
     "execution_count": 23,
     "metadata": {},
     "output_type": "execute_result"
    }
   ],
   "source": [
    "'''def calculate_foms(data_fit_cut): \n",
    "    import math\n",
    "    \n",
    "    signal_sum    = 0\n",
    "    cbkg_sum      = 0\n",
    "    signal_sumw2  = 0\n",
    "    signal_sum    = 0\n",
    "    cbkg_sum      = 0\n",
    "    signal_sumw2  = 0\n",
    "    timeres_power = 0\n",
    "    tagging_power = 0\n",
    "    \n",
    "    signal_sum_tag_decis = 0 # count two ways to check consistency\n",
    "    signal_sum_tag_omega = 0\n",
    "    \n",
    "    delta_m = 5065 \n",
    "    S = 0.691 #sin2beta value (average from HFAG)\n",
    "\n",
    "    \n",
    "    tagomega = np.array(data_fit_cut['B0_TAGOMEGA_OS'])\n",
    "    tag1 = np.array(data_fit_cut['B0_TAGDECISION_OS'])\n",
    "    time = np.array(data_fit_cut['B0_FitPVConst_tau_flat']) \n",
    "    error = np.absolute(np.array(data_fit_cut['Delta_TAU'])) \n",
    "    \n",
    "\n",
    "    ##################################################################\n",
    "    \n",
    "    for i in range(data_fit_cut.shape[0]):\n",
    "        signal_weight =  1 \n",
    "        cbkg_weight   =  1 \n",
    "        mistag        =  tagomega[i] \n",
    "        tag           =  tag1[i]\n",
    "        decaytime     =  time[i]\n",
    "        timeerror     =  error[i]\n",
    "        \n",
    "        \n",
    "        signal_sum    += signal_weight\n",
    "        signal_sumw2  += signal_weight**2\n",
    "        \n",
    "        timeerror_dilution = math.exp(-(delta_m*timeerror)**2)\n",
    "    \n",
    "        timeres_power     += timeerror_dilution *signal_weight \n",
    "        \n",
    "    timeres_power /= signal_sum\n",
    "\n",
    "    \n",
    "    \n",
    "    fomname_to_value = {\n",
    "    \n",
    "        'TimeresPower' : timeres_power,\n",
    "        'Efficiency'   : efficiency\n",
    "    }\n",
    "\n",
    "    return fomname_to_value'''"
   ]
  },
  {
   "cell_type": "code",
   "execution_count": 24,
   "metadata": {
    "collapsed": true
   },
   "outputs": [],
   "source": [
    "def calculate_foms(data_fit_cut,best_pv): \n",
    "    import math\n",
    "    \n",
    "    signal_sum    = 0\n",
    "    cbkg_sum      = 0\n",
    "    signal_sumw2  = 0\n",
    "    signal_sum_wrong    = 0\n",
    "    cbkg_sum_wrong       = 0\n",
    "    signal_sumw2_wrong   = 0\n",
    "    \n",
    "    delta_m = 5065 \n",
    "    S = 0.691 #sin2beta value (average from HFAG)\n",
    "    \n",
    "    timeres_power_bestPV = 0\n",
    "    timeres_power_bdt = 0\n",
    "    \n",
    "\n",
    "    \n",
    "    tagomega = np.array(best_pv['B0_TAGOMEGA_OS'])\n",
    "    tag1 = np.array(best_pv['B0_TAGDECISION_OS'])\n",
    "    time = np.array(best_pv['B0_FitPVConst_tau_flat']) \n",
    "    error = np.absolute(np.array(best_pv['Delta_TAU']))\n",
    "    \n",
    "    tagomega_wrong = np.array(data_fit_cut['B0_TAGOMEGA_OS'])\n",
    "    tag1_wrong = np.array(data_fit_cut['B0_TAGDECISION_OS'])\n",
    "    time_wrong = np.array(data_fit_cut['B0_FitPVConst_tau_flat']) \n",
    "    error_wrong = np.absolute(np.array(data_fit_cut['Delta_TAU']))\n",
    "    \n",
    "    range_best_pv = best_pv.shape[0]-1\n",
    "    \n",
    "    for i in range(range_best_pv):\n",
    "        signal_weight =  1 \n",
    "        cbkg_weight   =  1 \n",
    "        mistag        =  tagomega[i] \n",
    "        tag           =  tag1[i]\n",
    "        decaytime     =  time[i]\n",
    "        timeerror     =  error[i]\n",
    "        \n",
    "        \n",
    "        signal_sum    += signal_weight\n",
    "        signal_sumw2  += signal_weight**2\n",
    "        cbkg_sum      += cbkg_weight\n",
    "\n",
    "        timeerror_dilution = math.exp(-(delta_m*timeerror)**2)\n",
    "\n",
    "        timeres_power_bestPV    += timeerror_dilution*signal_weight\n",
    "         \n",
    "    print('+++++++++++++++++++++++++')\n",
    "    print(cut)\n",
    "    timeerror_dilution_theory = math.exp(-(delta_m*cut)**2)\n",
    "\n",
    "    timeres_power_bestPV /= signal_sum\n",
    "    #timeres_power_wrong /= signal_sum_wrong\n",
    "\n",
    "    sig_yields_cut = data_fit_cut.shape[0] \n",
    "    efficiency = sig_yields_cut / sig_yields_init\n",
    "    \n",
    "    print(\"The efficiency of the cut is:\")\n",
    "    print(efficiency)\n",
    "    \n",
    "    fomname_to_value = {\n",
    "        'TimeresPower_bestPV' : timeres_power_bestPV,\n",
    "        'TimeresTheory': timeerror_dilution_theory,\n",
    "        'Efficiency'   : efficiency\n",
    "    }\n",
    "    #return fomname_to_value\n",
    "\n",
    "    for i in range(data_fit_cut.shape[0]):\n",
    "        signal_weight_wrong =  1 \n",
    "        cbkg_weight_wrong   =  1 \n",
    "        mistag_wrong        =  tagomega_wrong[i] \n",
    "        tag_wrong           =  tag1_wrong[i]\n",
    "        decaytime_wrong     =  time_wrong[i]\n",
    "        timeerror_wrong     =  error_wrong[i]\n",
    "        \n",
    "        \n",
    "        signal_sum_wrong    += signal_weight_wrong\n",
    "        signal_sumw2_wrong  += signal_weight_wrong**2\n",
    "        \n",
    "        timeerror_dilution_wrong = math.exp(-(delta_m*timeerror_wrong)**2)\n",
    "    \n",
    "        timeres_power_bdt     += timeerror_dilution_wrong *signal_weight_wrong \n",
    "        \n",
    "    timeres_power_bdt /= signal_sum_wrong  \n",
    "    \n",
    "    fomname_to_value.update({'TimeresPower_bdt' : timeres_power_bdt})\n",
    "    \n",
    "    return fomname_to_value"
   ]
  },
  {
   "cell_type": "code",
   "execution_count": 25,
   "metadata": {
    "collapsed": false
   },
   "outputs": [
    {
     "data": {
      "image/png": "[encoded data removed]",
      "text/plain": [
       "<matplotlib.figure.Figure at 0x7f661b290be0>"
      ]
     },
     "metadata": {},
     "output_type": "display_data"
    }
   ],
   "source": [
    "import numpy as np\n",
    "import matplotlib.pyplot as plt\n",
    "plt.hist(signal_dataframe_wrongPV['BDTresponse_wrongPV'],40,range=[1,6.5])\n",
    "plt.savefig(\"/home/chasenberg/plots/wrong_pv/bdt_output.pdf\")"
   ]
  },
  {
   "cell_type": "code",
   "execution_count": 28,
   "metadata": {
    "collapsed": false
   },
   "outputs": [
    {
     "name": "stdout",
     "output_type": "stream",
     "text": [
      "Wait for GrimReaper\n",
      "GrimReaper hopefully finished\n",
      "INFO: Read selected data\n"
     ]
    }
   ],
   "source": [
    "from ROOT import RooArgList\n",
    "import subprocess, os\n",
    "import time\n",
    "import root_pandas as rp\n",
    "\n",
    "x=None\n",
    "\n",
    "data_fit_cut = signal_dataframe_wrongPV.query('BDTresponse_wrongPV>3.5')\n",
    "data_fit_cut.to_root('/fhgfs/users/chasenberg/mc/2015_2016_merged/jpsimumuks/interim_initial.root',key=tree_mc)\n",
    "my_env = os.environ.copy()\n",
    "my_env['PATH'] = '/usr/local/bin:/bin:/usr/bin:/usr/local/sbin:/usr/sbin:/sbin:/home/chasenberg/bin'\n",
    "my_env['LD_LIBRARY_PATH'] = '/usr/local/lib'\n",
    "my_env['script'] = '/home/chasenberg/repos/b2cc_sin2beta_run2/notebooks/selection'\n",
    "my_command = 'source /lhcbsoft/LHCbSoftwareSetup.sh &&' \\\n",
    "        'lb-run DaVinci/v41r2 $BASH -c \"' \\\n",
    "        'echo $PATH && ' \\\n",
    "        'source /doosoft/InstallDooSoftware/LoadDooSoftware && CandidateSelectionGrimReaper /fhgfs/users/chasenberg/mc/2015_2016_merged/jpsimumuks/interim_initial.root Bd2JpsiKS /fhgfs/users/chasenberg/mc/2015_2016_merged/jpsimumuks/interim_initial.root Bd2JpsiKS \"idxRunNumber\"\"'        \n",
    "subprocess.Popen([my_command], env=my_env, shell=True)\n",
    "        \n",
    "print(\"Wait for GrimReaper\")\n",
    "time.sleep(40.0)        # pause 5.5 seconds\n",
    "print(\"GrimReaper hopefully finished\")\n",
    "print('INFO: Read selected data', flush=True)\n",
    "data_fit_cut = rp.read_root('/fhgfs/users/chasenberg/mc/2015_2016_merged/jpsimumuks/interim_initial.root',key=tree_mc)\n",
    "sig_yields_init = data_fit_cut.shape[0]\n",
    "\n"
   ]
  },
  {
   "cell_type": "code",
   "execution_count": 29,
   "metadata": {
    "collapsed": false,
    "scrolled": false
   },
   "outputs": [
    {
     "name": "stdout",
     "output_type": "stream",
     "text": [
      "INFO: Starting to test cut BDTresponse_wrongPV>3.5\n",
      "INFO: Call CandidateSelectionGrimReaper\n",
      "Wait for GrimReaper\n",
      "GrimReaper hopefully finished\n",
      "INFO: Read selected data\n",
      "INFO: Start Calculation\n",
      "The inital number of candidates is:\n",
      "482050\n",
      "----------------------------------\n",
      "The number of candidates after the cut is:\n",
      "482050\n",
      "----------------------------------\n",
      "The efficiency of the cut is:\n",
      "1.0\n",
      "+++++++++++++++++++++++++\n",
      "3.5\n",
      "The efficiency of the cut is:\n",
      "1.0\n",
      "INFO: Finish Calculation\n",
      "INFO: Starting to test cut BDTresponse_wrongPV>3.5120689655172415\n",
      "INFO: Call CandidateSelectionGrimReaper\n",
      "Wait for GrimReaper\n",
      "GrimReaper hopefully finished\n",
      "INFO: Read selected data\n",
      "INFO: Start Calculation\n",
      "The inital number of candidates is:\n",
      "482050\n",
      "----------------------------------\n",
      "The number of candidates after the cut is:\n",
      "481891\n",
      "----------------------------------\n",
      "The efficiency of the cut is:\n",
      "0.9996701586972305\n",
      "+++++++++++++++++++++++++\n",
      "3.51206896552\n",
      "The efficiency of the cut is:\n",
      "0.9996701586972305\n",
      "INFO: Finish Calculation\n",
      "INFO: Starting to test cut BDTresponse_wrongPV>3.524137931034483\n",
      "INFO: Call CandidateSelectionGrimReaper\n",
      "Wait for GrimReaper\n",
      "GrimReaper hopefully finished\n",
      "INFO: Read selected data\n",
      "INFO: Start Calculation\n",
      "The inital number of candidates is:\n",
      "482050\n",
      "----------------------------------\n",
      "The number of candidates after the cut is:\n",
      "481558\n",
      "----------------------------------\n",
      "The efficiency of the cut is:\n",
      "0.9989793589876569\n",
      "+++++++++++++++++++++++++\n",
      "3.52413793103\n",
      "The efficiency of the cut is:\n",
      "0.9989793589876569\n",
      "INFO: Finish Calculation\n",
      "INFO: Starting to test cut BDTresponse_wrongPV>3.536206896551724\n",
      "INFO: Call CandidateSelectionGrimReaper\n",
      "Wait for GrimReaper\n",
      "GrimReaper hopefully finished\n",
      "INFO: Read selected data\n",
      "INFO: Start Calculation\n",
      "The inital number of candidates is:\n",
      "482050\n",
      "----------------------------------\n",
      "The number of candidates after the cut is:\n",
      "481310\n",
      "----------------------------------\n",
      "The efficiency of the cut is:\n",
      "0.9984648895342807\n",
      "+++++++++++++++++++++++++\n",
      "3.53620689655\n",
      "The efficiency of the cut is:\n",
      "0.9984648895342807\n",
      "INFO: Finish Calculation\n",
      "INFO: Starting to test cut BDTresponse_wrongPV>3.5482758620689654\n",
      "INFO: Call CandidateSelectionGrimReaper\n",
      "Wait for GrimReaper\n",
      "GrimReaper hopefully finished\n",
      "INFO: Read selected data\n",
      "INFO: Start Calculation\n",
      "The inital number of candidates is:\n",
      "482050\n",
      "----------------------------------\n",
      "The number of candidates after the cut is:\n",
      "481012\n",
      "----------------------------------\n",
      "The efficiency of the cut is:\n",
      "0.9978466964007883\n",
      "+++++++++++++++++++++++++\n",
      "3.54827586207\n",
      "The efficiency of the cut is:\n",
      "0.9978466964007883\n",
      "INFO: Finish Calculation\n",
      "INFO: Starting to test cut BDTresponse_wrongPV>3.560344827586207\n",
      "INFO: Call CandidateSelectionGrimReaper\n",
      "Wait for GrimReaper\n",
      "GrimReaper hopefully finished\n",
      "INFO: Read selected data\n",
      "INFO: Start Calculation\n",
      "The inital number of candidates is:\n",
      "482050\n",
      "----------------------------------\n",
      "The number of candidates after the cut is:\n",
      "480843\n",
      "----------------------------------\n",
      "The efficiency of the cut is:\n",
      "0.9974961103619956\n",
      "+++++++++++++++++++++++++\n",
      "3.56034482759\n",
      "The efficiency of the cut is:\n",
      "0.9974961103619956\n",
      "INFO: Finish Calculation\n",
      "INFO: Starting to test cut BDTresponse_wrongPV>3.5724137931034483\n",
      "INFO: Call CandidateSelectionGrimReaper\n",
      "Wait for GrimReaper\n",
      "GrimReaper hopefully finished\n",
      "INFO: Read selected data\n",
      "INFO: Start Calculation\n",
      "The inital number of candidates is:\n",
      "482050\n",
      "----------------------------------\n",
      "The number of candidates after the cut is:\n",
      "480636\n",
      "----------------------------------\n",
      "The efficiency of the cut is:\n",
      "0.9970666943263147\n",
      "+++++++++++++++++++++++++\n",
      "3.5724137931\n",
      "The efficiency of the cut is:\n",
      "0.9970666943263147\n",
      "INFO: Finish Calculation\n",
      "INFO: Starting to test cut BDTresponse_wrongPV>3.5844827586206898\n",
      "INFO: Call CandidateSelectionGrimReaper\n",
      "Wait for GrimReaper\n",
      "GrimReaper hopefully finished\n",
      "INFO: Read selected data\n",
      "INFO: Start Calculation\n",
      "The inital number of candidates is:\n",
      "482050\n",
      "----------------------------------\n",
      "The number of candidates after the cut is:\n",
      "480290\n",
      "----------------------------------\n",
      "The efficiency of the cut is:\n",
      "0.9963489264599108\n",
      "+++++++++++++++++++++++++\n",
      "3.58448275862\n",
      "The efficiency of the cut is:\n",
      "0.9963489264599108\n",
      "INFO: Finish Calculation\n",
      "INFO: Starting to test cut BDTresponse_wrongPV>3.5965517241379312\n",
      "INFO: Call CandidateSelectionGrimReaper\n",
      "Wait for GrimReaper\n",
      "GrimReaper hopefully finished\n",
      "INFO: Read selected data\n",
      "INFO: Start Calculation\n",
      "The inital number of candidates is:\n",
      "482050\n",
      "----------------------------------\n",
      "The number of candidates after the cut is:\n",
      "479969\n",
      "----------------------------------\n",
      "The efficiency of the cut is:\n",
      "0.9956830204335649\n",
      "+++++++++++++++++++++++++\n",
      "3.59655172414\n",
      "The efficiency of the cut is:\n",
      "0.9956830204335649\n",
      "INFO: Finish Calculation\n",
      "INFO: Starting to test cut BDTresponse_wrongPV>3.6086206896551722\n",
      "INFO: Call CandidateSelectionGrimReaper\n",
      "Wait for GrimReaper\n",
      "GrimReaper hopefully finished\n",
      "INFO: Read selected data\n",
      "INFO: Start Calculation\n",
      "The inital number of candidates is:\n",
      "482050\n",
      "----------------------------------\n",
      "The number of candidates after the cut is:\n",
      "479741\n",
      "----------------------------------\n",
      "The efficiency of the cut is:\n",
      "0.9952100404522353\n",
      "+++++++++++++++++++++++++\n",
      "3.60862068966\n",
      "The efficiency of the cut is:\n",
      "0.9952100404522353\n",
      "INFO: Finish Calculation\n",
      "INFO: Starting to test cut BDTresponse_wrongPV>3.6206896551724137\n",
      "INFO: Call CandidateSelectionGrimReaper\n",
      "Wait for GrimReaper\n",
      "GrimReaper hopefully finished\n",
      "INFO: Read selected data\n",
      "INFO: Start Calculation\n",
      "The inital number of candidates is:\n",
      "482050\n",
      "----------------------------------\n",
      "The number of candidates after the cut is:\n",
      "479493\n",
      "----------------------------------\n",
      "The efficiency of the cut is:\n",
      "0.9946955709988591\n",
      "+++++++++++++++++++++++++\n",
      "3.62068965517\n",
      "The efficiency of the cut is:\n",
      "0.9946955709988591\n",
      "INFO: Finish Calculation\n",
      "INFO: Starting to test cut BDTresponse_wrongPV>3.632758620689655\n",
      "INFO: Call CandidateSelectionGrimReaper\n",
      "Wait for GrimReaper\n",
      "GrimReaper hopefully finished\n",
      "INFO: Read selected data\n",
      "INFO: Start Calculation\n",
      "The inital number of candidates is:\n",
      "482050\n",
      "----------------------------------\n",
      "The number of candidates after the cut is:\n",
      "479275\n",
      "----------------------------------\n",
      "The efficiency of the cut is:\n",
      "0.9942433357535525\n",
      "+++++++++++++++++++++++++\n",
      "3.63275862069\n",
      "The efficiency of the cut is:\n",
      "0.9942433357535525\n",
      "INFO: Finish Calculation\n",
      "INFO: Starting to test cut BDTresponse_wrongPV>3.6448275862068966\n",
      "INFO: Call CandidateSelectionGrimReaper\n",
      "Wait for GrimReaper\n",
      "GrimReaper hopefully finished\n",
      "INFO: Read selected data\n",
      "INFO: Start Calculation\n",
      "The inital number of candidates is:\n",
      "482050\n",
      "----------------------------------\n",
      "The number of candidates after the cut is:\n",
      "478894\n",
      "----------------------------------\n",
      "The efficiency of the cut is:\n",
      "0.9934529613110673\n",
      "+++++++++++++++++++++++++\n",
      "3.64482758621\n",
      "The efficiency of the cut is:\n",
      "0.9934529613110673\n",
      "INFO: Finish Calculation\n",
      "INFO: Starting to test cut BDTresponse_wrongPV>3.656896551724138\n",
      "INFO: Call CandidateSelectionGrimReaper\n",
      "Wait for GrimReaper\n",
      "GrimReaper hopefully finished\n",
      "INFO: Read selected data\n",
      "INFO: Start Calculation\n",
      "The inital number of candidates is:\n",
      "482050\n",
      "----------------------------------\n",
      "The number of candidates after the cut is:\n",
      "478707\n",
      "----------------------------------\n",
      "The efficiency of the cut is:\n",
      "0.9930650347474328\n",
      "+++++++++++++++++++++++++\n",
      "3.65689655172\n",
      "The efficiency of the cut is:\n",
      "0.9930650347474328\n",
      "INFO: Finish Calculation\n",
      "INFO: Starting to test cut BDTresponse_wrongPV>3.6689655172413795\n",
      "INFO: Call CandidateSelectionGrimReaper\n",
      "Wait for GrimReaper\n",
      "GrimReaper hopefully finished\n",
      "INFO: Read selected data\n",
      "INFO: Start Calculation\n",
      "The inital number of candidates is:\n",
      "482050\n",
      "----------------------------------\n",
      "The number of candidates after the cut is:\n",
      "478141\n",
      "----------------------------------\n",
      "The efficiency of the cut is:\n",
      "0.9918908826885178\n",
      "+++++++++++++++++++++++++\n",
      "3.66896551724\n",
      "The efficiency of the cut is:\n",
      "0.9918908826885178\n",
      "INFO: Finish Calculation\n",
      "INFO: Starting to test cut BDTresponse_wrongPV>3.6810344827586206\n",
      "INFO: Call CandidateSelectionGrimReaper\n",
      "Wait for GrimReaper\n",
      "GrimReaper hopefully finished\n",
      "INFO: Read selected data\n",
      "INFO: Start Calculation\n",
      "The inital number of candidates is:\n",
      "482050\n",
      "----------------------------------\n",
      "The number of candidates after the cut is:\n",
      "477802\n",
      "----------------------------------\n",
      "The efficiency of the cut is:\n",
      "0.9911876361373302\n",
      "+++++++++++++++++++++++++\n",
      "3.68103448276\n",
      "The efficiency of the cut is:\n",
      "0.9911876361373302\n",
      "INFO: Finish Calculation\n",
      "INFO: Starting to test cut BDTresponse_wrongPV>3.693103448275862\n",
      "INFO: Call CandidateSelectionGrimReaper\n",
      "Wait for GrimReaper\n",
      "GrimReaper hopefully finished\n",
      "INFO: Read selected data\n",
      "INFO: Start Calculation\n",
      "The inital number of candidates is:\n",
      "482050\n",
      "----------------------------------\n",
      "The number of candidates after the cut is:\n",
      "477557\n",
      "----------------------------------\n",
      "The efficiency of the cut is:\n",
      "0.9906793901047609\n",
      "+++++++++++++++++++++++++\n",
      "3.69310344828\n",
      "The efficiency of the cut is:\n",
      "0.9906793901047609\n",
      "INFO: Finish Calculation\n",
      "INFO: Starting to test cut BDTresponse_wrongPV>3.7051724137931035\n",
      "INFO: Call CandidateSelectionGrimReaper\n",
      "Wait for GrimReaper\n",
      "GrimReaper hopefully finished\n",
      "INFO: Read selected data\n",
      "INFO: Start Calculation\n",
      "The inital number of candidates is:\n",
      "482050\n",
      "----------------------------------\n",
      "The number of candidates after the cut is:\n",
      "477284\n",
      "----------------------------------\n",
      "The efficiency of the cut is:\n",
      "0.9901130588113266\n",
      "+++++++++++++++++++++++++\n",
      "3.70517241379\n",
      "The efficiency of the cut is:\n",
      "0.9901130588113266\n",
      "INFO: Finish Calculation\n",
      "INFO: Starting to test cut BDTresponse_wrongPV>3.717241379310345\n",
      "INFO: Call CandidateSelectionGrimReaper\n",
      "Wait for GrimReaper\n",
      "GrimReaper hopefully finished\n",
      "INFO: Read selected data\n",
      "INFO: Start Calculation\n",
      "The inital number of candidates is:\n",
      "482050\n",
      "----------------------------------\n",
      "The number of candidates after the cut is:\n",
      "476660\n",
      "----------------------------------\n",
      "The efficiency of the cut is:\n",
      "0.9888185872834768\n",
      "+++++++++++++++++++++++++\n",
      "3.71724137931\n",
      "The efficiency of the cut is:\n",
      "0.9888185872834768\n",
      "INFO: Finish Calculation\n",
      "INFO: Starting to test cut BDTresponse_wrongPV>3.7293103448275864\n",
      "INFO: Call CandidateSelectionGrimReaper\n",
      "Wait for GrimReaper\n",
      "GrimReaper hopefully finished\n",
      "INFO: Read selected data\n",
      "INFO: Start Calculation\n",
      "The inital number of candidates is:\n",
      "482050\n",
      "----------------------------------\n",
      "The number of candidates after the cut is:\n",
      "475954\n",
      "----------------------------------\n",
      "The efficiency of the cut is:\n",
      "0.9873540089202365\n",
      "+++++++++++++++++++++++++\n",
      "3.72931034483\n",
      "The efficiency of the cut is:\n",
      "0.9873540089202365\n",
      "INFO: Finish Calculation\n",
      "INFO: Starting to test cut BDTresponse_wrongPV>3.741379310344828\n",
      "INFO: Call CandidateSelectionGrimReaper\n",
      "Wait for GrimReaper\n",
      "GrimReaper hopefully finished\n",
      "INFO: Read selected data\n",
      "INFO: Start Calculation\n",
      "The inital number of candidates is:\n",
      "482050\n",
      "----------------------------------\n",
      "The number of candidates after the cut is:\n",
      "475576\n",
      "----------------------------------\n",
      "The efficiency of the cut is:\n",
      "0.9865698578985582\n",
      "+++++++++++++++++++++++++\n",
      "3.74137931034\n",
      "The efficiency of the cut is:\n",
      "0.9865698578985582\n",
      "INFO: Finish Calculation\n",
      "INFO: Starting to test cut BDTresponse_wrongPV>3.753448275862069\n",
      "INFO: Call CandidateSelectionGrimReaper\n",
      "Wait for GrimReaper\n",
      "GrimReaper hopefully finished\n",
      "INFO: Read selected data\n",
      "INFO: Start Calculation\n",
      "The inital number of candidates is:\n",
      "482050\n",
      "----------------------------------\n",
      "The number of candidates after the cut is:\n",
      "474134\n",
      "----------------------------------\n",
      "The efficiency of the cut is:\n",
      "0.9835784669640079\n",
      "+++++++++++++++++++++++++\n",
      "3.75344827586\n",
      "The efficiency of the cut is:\n",
      "0.9835784669640079\n",
      "INFO: Finish Calculation\n",
      "INFO: Starting to test cut BDTresponse_wrongPV>3.7655172413793103\n",
      "INFO: Call CandidateSelectionGrimReaper\n",
      "Wait for GrimReaper\n",
      "GrimReaper hopefully finished\n",
      "INFO: Read selected data\n",
      "INFO: Start Calculation\n",
      "The inital number of candidates is:\n",
      "482050\n",
      "----------------------------------\n",
      "The number of candidates after the cut is:\n",
      "472375\n",
      "----------------------------------\n",
      "The efficiency of the cut is:\n",
      "0.979929467897521\n",
      "+++++++++++++++++++++++++\n",
      "3.76551724138\n",
      "The efficiency of the cut is:\n",
      "0.979929467897521\n",
      "INFO: Finish Calculation\n",
      "INFO: Starting to test cut BDTresponse_wrongPV>3.777586206896552\n",
      "INFO: Call CandidateSelectionGrimReaper\n",
      "Wait for GrimReaper\n",
      "GrimReaper hopefully finished\n",
      "INFO: Read selected data\n",
      "INFO: Start Calculation\n",
      "The inital number of candidates is:\n",
      "482050\n",
      "----------------------------------\n",
      "The number of candidates after the cut is:\n",
      "471137\n",
      "----------------------------------\n",
      "The efficiency of the cut is:\n",
      "0.9773612695778446\n",
      "+++++++++++++++++++++++++\n",
      "3.7775862069\n",
      "The efficiency of the cut is:\n",
      "0.9773612695778446\n",
      "INFO: Finish Calculation\n",
      "INFO: Starting to test cut BDTresponse_wrongPV>3.7896551724137932\n",
      "INFO: Call CandidateSelectionGrimReaper\n",
      "Wait for GrimReaper\n",
      "GrimReaper hopefully finished\n",
      "INFO: Read selected data\n",
      "INFO: Start Calculation\n",
      "The inital number of candidates is:\n",
      "482050\n",
      "----------------------------------\n",
      "The number of candidates after the cut is:\n",
      "470536\n",
      "----------------------------------\n",
      "The efficiency of the cut is:\n",
      "0.9761145109428483\n",
      "+++++++++++++++++++++++++\n",
      "3.78965517241\n",
      "The efficiency of the cut is:\n",
      "0.9761145109428483\n",
      "INFO: Finish Calculation\n",
      "INFO: Starting to test cut BDTresponse_wrongPV>3.8017241379310347\n",
      "INFO: Call CandidateSelectionGrimReaper\n",
      "Wait for GrimReaper\n",
      "GrimReaper hopefully finished\n",
      "INFO: Read selected data\n",
      "INFO: Start Calculation\n",
      "The inital number of candidates is:\n",
      "482050\n",
      "----------------------------------\n",
      "The number of candidates after the cut is:\n",
      "469890\n",
      "----------------------------------\n",
      "The efficiency of the cut is:\n",
      "0.9747744009957473\n",
      "+++++++++++++++++++++++++\n",
      "3.80172413793\n",
      "The efficiency of the cut is:\n",
      "0.9747744009957473\n",
      "INFO: Finish Calculation\n",
      "INFO: Starting to test cut BDTresponse_wrongPV>3.813793103448276\n",
      "INFO: Call CandidateSelectionGrimReaper\n",
      "Wait for GrimReaper\n",
      "GrimReaper hopefully finished\n",
      "INFO: Read selected data\n",
      "INFO: Start Calculation\n",
      "The inital number of candidates is:\n",
      "482050\n",
      "----------------------------------\n",
      "The number of candidates after the cut is:\n",
      "469244\n",
      "----------------------------------\n",
      "The efficiency of the cut is:\n",
      "0.9734342910486464\n",
      "+++++++++++++++++++++++++\n",
      "3.81379310345\n",
      "The efficiency of the cut is:\n",
      "0.9734342910486464\n",
      "INFO: Finish Calculation\n",
      "INFO: Starting to test cut BDTresponse_wrongPV>3.825862068965517\n",
      "INFO: Call CandidateSelectionGrimReaper\n",
      "Wait for GrimReaper\n",
      "GrimReaper hopefully finished\n",
      "INFO: Read selected data\n",
      "INFO: Start Calculation\n",
      "The inital number of candidates is:\n",
      "482050\n",
      "----------------------------------\n",
      "The number of candidates after the cut is:\n",
      "468688\n",
      "----------------------------------\n",
      "The efficiency of the cut is:\n",
      "0.9722808837257546\n",
      "+++++++++++++++++++++++++\n",
      "3.82586206897\n",
      "The efficiency of the cut is:\n",
      "0.9722808837257546\n",
      "INFO: Finish Calculation\n",
      "INFO: Starting to test cut BDTresponse_wrongPV>3.8379310344827586\n",
      "INFO: Call CandidateSelectionGrimReaper\n",
      "Wait for GrimReaper\n",
      "GrimReaper hopefully finished\n",
      "INFO: Read selected data\n",
      "INFO: Start Calculation\n",
      "The inital number of candidates is:\n",
      "482050\n",
      "----------------------------------\n",
      "The number of candidates after the cut is:\n",
      "468352\n",
      "----------------------------------\n",
      "The efficiency of the cut is:\n",
      "0.9715838605953739\n",
      "+++++++++++++++++++++++++\n",
      "3.83793103448\n",
      "The efficiency of the cut is:\n",
      "0.9715838605953739\n",
      "INFO: Finish Calculation\n",
      "INFO: Starting to test cut BDTresponse_wrongPV>3.85\n",
      "INFO: Call CandidateSelectionGrimReaper\n",
      "Wait for GrimReaper\n",
      "GrimReaper hopefully finished\n",
      "INFO: Read selected data\n",
      "INFO: Start Calculation\n",
      "The inital number of candidates is:\n",
      "482050\n",
      "----------------------------------\n",
      "The number of candidates after the cut is:\n",
      "468047\n",
      "----------------------------------\n",
      "The efficiency of the cut is:\n",
      "0.9709511461466653\n",
      "+++++++++++++++++++++++++\n",
      "3.85\n",
      "The efficiency of the cut is:\n",
      "0.9709511461466653\n",
      "INFO: Finish Calculation\n"
     ]
    }
   ],
   "source": [
    "for cut in cuts:\n",
    "    print('INFO: Starting to test cut ' + '{0}>{1}'.format(cuttype,cut), flush=True)\n",
    "    data_fit_cut = signal_dataframe_wrongPV.query('{0}>{1}'.format(cuttype,cut)) \n",
    "    best_pv = signal_dataframe_wrongPV.query('{0}>{1}'.format(cuttype,cut)).query('idxPV==0')\n",
    "    data_fit_cut.to_root('/fhgfs/users/chasenberg/mc/2015_2016_merged/jpsimumuks/interim.root',key=tree_mc)\n",
    "    print('INFO: Call CandidateSelectionGrimReaper', flush=True)\n",
    "    my_env = os.environ.copy()\n",
    "    my_env['PATH'] = '/usr/local/bin:/bin:/usr/bin:/usr/local/sbin:/usr/sbin:/sbin:/home/chasenberg/bin'\n",
    "    my_env['LD_LIBRARY_PATH'] = '/usr/local/lib'\n",
    "    my_env['script'] = '/home/chasenberg/repos/b2cc_sin2beta_run2/notebooks/selection'\n",
    "    my_command = 'source /lhcbsoft/LHCbSoftwareSetup.sh &&' \\\n",
    "             'lb-run DaVinci/v41r2 $BASH -c \"' \\\n",
    "             'echo $PATH && ' \\\n",
    "             'source /doosoft/InstallDooSoftware/LoadDooSoftware && CandidateSelectionGrimReaper /fhgfs/users/chasenberg/mc/2015_2016_merged/jpsimumuks/interim.root Bd2JpsiKS /fhgfs/users/chasenberg/mc/2015_2016_merged/jpsimumuks/interim.root Bd2JpsiKS \"idxRunNumber\"\"'                     \n",
    "    subprocess.Popen([my_command], env=my_env, shell=True)\n",
    "   # subprocess.call(('bash /home/chasenberg/repos/b2cc_sin2beta_run2/notebooks/selection/random_sel.sh'),shell=True)                      \n",
    "    print(\"Wait for GrimReaper\")\n",
    "    time.sleep(40.0)    # pause 5.5 seconds\n",
    "    print(\"GrimReaper hopefully finished\")\n",
    "    print('INFO: Read selected data', flush=True)\n",
    "    data_fit_cut = rp.read_root('/fhgfs/users/chasenberg/mc/2015_2016_merged/jpsimumuks/interim.root',key=tree_mc)\n",
    "    \n",
    "    print('INFO: Start Calculation', flush=True)\n",
    "    #print('INFO: Building Ipatia (signal) + Exp (combinatorics) + Ipatia (bs-component) model for data', flush=True) \n",
    "    #final_model = build_mass_model(B0_FitDaughtersConst_M)\n",
    "    sig_yields_cut = data_fit_cut.shape[0] \n",
    "    efficiency = sig_yields_cut / sig_yields_init\n",
    "    print(\"The inital number of candidates is:\")\n",
    "    print(sig_yields_init)\n",
    "    print(\"----------------------------------\")\n",
    "    print(\"The number of candidates after the cut is:\")\n",
    "    print(sig_yields_cut)\n",
    "    print(\"----------------------------------\")\n",
    "    print(\"The efficiency of the cut is:\")\n",
    "    print(efficiency)\n",
    "    cut_to_shape[cut] = {} \n",
    "    cut_to_performance[cut] = {}\n",
    "    \n",
    "    \n",
    "    foms = calculate_foms(data_fit_cut,best_pv)\n",
    "    cut_to_performance[cut].update(foms)\n",
    "    \n",
    "    print('INFO: Finish Calculation', flush=True)"
   ]
  },
  {
   "cell_type": "code",
   "execution_count": 30,
   "metadata": {
    "collapsed": false
   },
   "outputs": [
    {
     "name": "stderr",
     "output_type": "stream",
     "text": [
      "/opt/rh/miniconda/envs/py3root6/lib/python3.4/site-packages/ipykernel/__main__.py:19: RuntimeWarning: invalid value encountered in true_divide\n"
     ]
    }
   ],
   "source": [
    "import numpy as np\n",
    "\n",
    "def unpack_cut_dict(cut_dict, normalize=True):\n",
    "    cuts = np.array(list(cut_dict.keys()))\n",
    "    cuts.sort()\n",
    "    \n",
    "    new_dict = {}\n",
    "    for cut in cuts:\n",
    "        parameters_dict = cut_dict[cut]\n",
    "        for parameter, value in parameters_dict.items():\n",
    "            if parameter in new_dict:\n",
    "                new_dict[parameter].append(value)\n",
    "            else:\n",
    "                new_dict[parameter] = [value]\n",
    "    \n",
    "    for parameter, values in new_dict.items():\n",
    "        new_dict[parameter] = np.array(values)\n",
    "        if normalize:\n",
    "            new_dict[parameter] = values/np.max(np.abs(values))\n",
    "    \n",
    "    return cuts, new_dict\n",
    "\n",
    "x, ys = unpack_cut_dict(cut_to_performance)\n",
    "for parameter, values in ys.items():\n",
    "    if \"value\" in parameter:\n",
    "        print(values)\n",
    "        y_errlo = np.array(ys[parameter.replace(\"_value\",\"_errlo\")])\n",
    "        y_errhi = np.array(ys[parameter.replace(\"_value\",\"_errhi\")])\n",
    "        y_errors= abs(np.vstack([y_errlo,y_errhi]))\n",
    "        plt.errorbar(x,values,yerr=y_errors,marker='.',linestyle='', label='sigma')\n",
    "        plt.xlabel(parameter)\n",
    "        plotname = parameter + '.pdf'\n",
    "        singleplot_file = os.path.join(plot_dir, plotname)\n",
    "        plt.savefig(singleplot_file)\n",
    "        plt.show()"
   ]
  },
  {
   "cell_type": "markdown",
   "metadata": {},
   "source": [
    "### Plot FOMs"
   ]
  },
  {
   "cell_type": "code",
   "execution_count": 32,
   "metadata": {
    "collapsed": false
   },
   "outputs": [],
   "source": [
    "test = pd.DataFrame()\n",
    "test['TimeresPower'] = np.array(ys['TimeresPower_bdt'])\n",
    "test['TimeresPower_bestPV'] = np.array(ys['TimeresPower_bestPV'])\n",
    "test['Efficiency'] = np.array(ys['Efficiency'])"
   ]
  },
  {
   "cell_type": "code",
   "execution_count": 33,
   "metadata": {
    "collapsed": false
   },
   "outputs": [
    {
     "name": "stdout",
     "output_type": "stream",
     "text": [
      "Yields after the cut:\n",
      "---------------------\n",
      "468047\n",
      "Yields after the cut:\n",
      "---------------------\n",
      "468047\n",
      "Yields after the cut:\n",
      "---------------------\n",
      "468047\n",
      "Yields after the cut:\n",
      "---------------------\n",
      "468047\n",
      "Yields after the cut:\n",
      "---------------------\n",
      "468047\n",
      "Yields after the cut:\n",
      "---------------------\n",
      "468047\n",
      "Yields after the cut:\n",
      "---------------------\n",
      "468047\n",
      "Yields after the cut:\n",
      "---------------------\n",
      "468047\n",
      "Yields after the cut:\n",
      "---------------------\n",
      "468047\n",
      "Yields after the cut:\n",
      "---------------------\n",
      "468047\n",
      "Yields after the cut:\n",
      "---------------------\n",
      "468047\n",
      "Yields after the cut:\n",
      "---------------------\n",
      "468047\n",
      "Yields after the cut:\n",
      "---------------------\n",
      "468047\n",
      "Yields after the cut:\n",
      "---------------------\n",
      "468047\n",
      "Yields after the cut:\n",
      "---------------------\n",
      "468047\n",
      "Yields after the cut:\n",
      "---------------------\n",
      "468047\n",
      "Yields after the cut:\n",
      "---------------------\n",
      "468047\n",
      "Yields after the cut:\n",
      "---------------------\n",
      "468047\n",
      "Yields after the cut:\n",
      "---------------------\n",
      "468047\n",
      "Yields after the cut:\n",
      "---------------------\n",
      "468047\n",
      "Yields after the cut:\n",
      "---------------------\n",
      "468047\n",
      "Yields after the cut:\n",
      "---------------------\n",
      "468047\n",
      "Yields after the cut:\n",
      "---------------------\n",
      "468047\n",
      "Yields after the cut:\n",
      "---------------------\n",
      "468047\n",
      "Yields after the cut:\n",
      "---------------------\n",
      "468047\n",
      "Yields after the cut:\n",
      "---------------------\n",
      "468047\n",
      "Yields after the cut:\n",
      "---------------------\n",
      "468047\n",
      "Yields after the cut:\n",
      "---------------------\n",
      "468047\n",
      "Yields after the cut:\n",
      "---------------------\n",
      "468047\n",
      "Yields after the cut:\n",
      "---------------------\n",
      "468047\n"
     ]
    }
   ],
   "source": [
    "#calculate poisson uncertainty \n",
    "poisson_error_arr = []\n",
    "for cut in cuts:\n",
    "    cut = str(cut)\n",
    "    mu = data_fit_cut.query('BDTresponse_wrongPV>'+cut).shape[0]\n",
    "    print(\"Yields after the cut:\")\n",
    "    print(\"---------------------\")\n",
    "    print(mu)\n",
    "    poisson_error = 1/np.sqrt(mu)\n",
    "    poisson_error_arr.append(poisson_error)\n",
    "    #return(poisson_error_arr)\n",
    "poisson_error_arr = poisson_error_arr/np.amax(poisson_error_arr)#*min(np.array(ys['TimeresPower']))\n",
    "error = np.array(poisson_error_arr)\n",
    "test['error'] = error"
   ]
  },
  {
   "cell_type": "code",
   "execution_count": 95,
   "metadata": {
    "collapsed": true
   },
   "outputs": [],
   "source": []
  },
  {
   "cell_type": "markdown",
   "metadata": {},
   "source": [
    "### Efficiency of BDT output cut"
   ]
  },
  {
   "cell_type": "code",
   "execution_count": 58,
   "metadata": {
    "collapsed": false
   },
   "outputs": [
    {
     "name": "stdout",
     "output_type": "stream",
     "text": [
      "1.0\n"
     ]
    }
   ],
   "source": [
    "eff = data_fit_cut.query('BDTresponse_wrongPV>3.85').shape[0] / data_fit_cut.query('BDTresponse_wrongPV>3.5').shape[0]\n",
    "print(eff)"
   ]
  },
  {
   "cell_type": "markdown",
   "metadata": {},
   "source": [
    "### Get similiar efficiencies for both approaches"
   ]
  },
  {
   "cell_type": "markdown",
   "metadata": {},
   "source": [
    "#### Import dataframe "
   ]
  },
  {
   "cell_type": "code",
   "execution_count": 97,
   "metadata": {
    "collapsed": true
   },
   "outputs": [],
   "source": [
    "random_df = pd.read_csv('/home/chasenberg/plots/csv_data/random.csv')"
   ]
  },
  {
   "cell_type": "code",
   "execution_count": 98,
   "metadata": {
    "collapsed": false
   },
   "outputs": [],
   "source": [
    "test_cut = test.query('Efficiency>0.95')\n",
    "random_df_cut = random_df.query('Efficiency>0.95')"
   ]
  },
  {
   "cell_type": "markdown",
   "metadata": {},
   "source": [
    "### Normalize dilution with poisson error"
   ]
  },
  {
   "cell_type": "code",
   "execution_count": 99,
   "metadata": {
    "collapsed": true
   },
   "outputs": [],
   "source": [
    "test_cut['TimeresPower_poisson'] = test_cut['TimeresPower'] / test_cut['error']\n",
    "random_df_cut['TimeresPower_randomPV_poisson'] = random_df_cut['TimeresPower_randomPV'] / random_df_cut['error']"
   ]
  },
  {
   "cell_type": "code",
   "execution_count": 100,
   "metadata": {
    "collapsed": false
   },
   "outputs": [
    {
     "data": {
      "image/png": "[encoded data removed]",
      "text/plain": [
       "<matplotlib.figure.Figure at 0x7f6615ebf2e8>"
      ]
     },
     "metadata": {},
     "output_type": "display_data"
    }
   ],
   "source": [
    "import seaborn as sns; sns.set_style('white')\n",
    "plt.title(\"\")\n",
    "plt.xlabel(\"\")\n",
    "plt.ylabel(\"\")\n",
    "\n",
    "plot_1 = sns.regplot(x='Efficiency', y='TimeresPower_randomPV',data=random_df_cut,x_estimator=np.mean,fit_reg=True,label=\"MinIPCHI2 approach\") \n",
    "plot_2 = sns.regplot(x='Efficiency', y='error',data=test_cut,x_estimator=np.mean,fit_reg=True,label=\"Poisson error\")\n",
    "plot_3 = sns.regplot(x='Efficiency', y='TimeresPower',data=test_cut,x_estimator=np.mean,fit_reg=True,label=\"BDT approach\")\n",
    "\n",
    " \n",
    "plot_1.legend(loc=\"best\")\n",
    "plt.savefig(\"/home/chasenberg/plots/wrong_pv/timres_eff_bdt_random.pdf\")"
   ]
  },
  {
   "cell_type": "markdown",
   "metadata": {},
   "source": [
    "### Compare BDT approach vs. MinIPCHI2"
   ]
  },
  {
   "cell_type": "code",
   "execution_count": 105,
   "metadata": {
    "collapsed": false
   },
   "outputs": [
    {
     "data": {
      "image/png": "[encoded data removed]",
      "text/plain": [
       "<matplotlib.figure.Figure at 0x7f661b2c38d0>"
      ]
     },
     "metadata": {},
     "output_type": "display_data"
    }
   ],
   "source": [
    "plt.title(\"\")\n",
    "plt.xlabel(\"\")\n",
    "plt.ylabel(\"\")\n",
    "\n",
    "#plot_1 = sns.regplot(x='Efficiency', y='TimeresPower',data=test_cut,x_estimator=np.mean,fit_reg=True,label=\"BDT approach\") \n",
    "#plot_2 = sns.regplot(x='Efficiency', y='error',data=test_cut,x_estimator=np.mean,fit_reg=True,label=\"Poisson error\")\n",
    "plot_3 = sns.regplot(x='Efficiency', y='TimeresPower_randomPV_poisson',data=random_df_cut,x_estimator=np.mean,fit_reg=True,label=\"MinIPCHI2 approach - poisson\") \n",
    "plot_2 = sns.regplot(x='Efficiency', y='TimeresPower_poisson',data=test_cut,x_estimator=np.mean,fit_reg=True,label=\"BDT approach - poisson\")\n",
    "\n",
    " \n",
    "plot_2.legend(loc=\"best\")\n",
    "plt.savefig(\"/home/chasenberg/plots/wrong_pv/timres_eff_bdt_random_poisson.pdf\")"
   ]
  },
  {
   "cell_type": "code",
   "execution_count": null,
   "metadata": {
    "collapsed": true
   },
   "outputs": [],
   "source": []
  },
  {
   "cell_type": "markdown",
   "metadata": {},
   "source": [
    "### Compare BDT approach vs best PV selection"
   ]
  },
  {
   "cell_type": "code",
   "execution_count": 102,
   "metadata": {
    "collapsed": false
   },
   "outputs": [
    {
     "data": {
      "image/png": "[encoded data removed]",
      "text/plain": [
       "<matplotlib.figure.Figure at 0x7f65f9c222e8>"
      ]
     },
     "metadata": {},
     "output_type": "display_data"
    }
   ],
   "source": [
    "plot_2 = sns.regplot(x='Efficiency', y='TimeresPower_bestPV',data=test, fit_reg=False,label='Best PV Selection')\n",
    "plot_1 = sns.regplot(x='Efficiency', y='TimeresPower',data=test, fit_reg=False,label='BDT PV Selection')\n",
    "plot_1.legend(loc=\"best\")\n",
    "plot_1.set(xlim=(test['Efficiency'].min(), test['Efficiency'].max()))\n",
    "plot_1.set(ylim=(0.9995,1.0001))\n",
    "plt.savefig(\"/home/chasenberg/plots/wrong_pv/timeres_bdt_vs_bestpv.pdf\")"
   ]
  },
  {
   "cell_type": "code",
   "execution_count": 103,
   "metadata": {
    "collapsed": false
   },
   "outputs": [
    {
     "data": {
      "image/png": "[encoded data removed]",
      "text/plain": [
       "<matplotlib.figure.Figure at 0x7f661dc32b70>"
      ]
     },
     "metadata": {},
     "output_type": "display_data"
    }
   ],
   "source": [
    "a = test['TimeresPower']\n",
    "plt.plot(cuts,a)\n",
    "plt.savefig(\"/home/chasenberg/plots/wrong_pv/timeres _bdt.pdf\")"
   ]
  },
  {
   "cell_type": "code",
   "execution_count": 104,
   "metadata": {
    "collapsed": false
   },
   "outputs": [
    {
     "data": {
      "image/png": "[encoded data removed]",
      "text/plain": [
       "<matplotlib.figure.Figure at 0x7f65f9cdcef0>"
      ]
     },
     "metadata": {},
     "output_type": "display_data"
    }
   ],
   "source": [
    "a = test['Efficiency']\n",
    "plt.plot(cuts,a)\n",
    "plt.savefig(\"/home/chasenberg/plots/wrong_pv/eff_bdt.pdf\")"
   ]
  },
  {
   "cell_type": "code",
   "execution_count": null,
   "metadata": {
    "collapsed": true
   },
   "outputs": [],
   "source": []
  },
  {
   "cell_type": "code",
   "execution_count": null,
   "metadata": {
    "collapsed": true
   },
   "outputs": [],
   "source": []
  }
 ],
 "metadata": {
  "kernelspec": {
   "display_name": "Python 3",
   "language": "python",
   "name": "python3"
  },
  "language_info": {
   "codemirror_mode": {
    "name": "ipython",
    "version": 3
   },
   "file_extension": ".py",
   "mimetype": "text/x-python",
   "name": "python",
   "nbconvert_exporter": "python",
   "pygments_lexer": "ipython3",
   "version": "3.4.4"
  }
 },
 "nbformat": 4,
 "nbformat_minor": 0
}
