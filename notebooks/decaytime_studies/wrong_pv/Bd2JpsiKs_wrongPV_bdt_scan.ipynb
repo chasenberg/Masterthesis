{
 "cells": [
  {
   "cell_type": "markdown",
   "metadata": {},
   "source": [
    "## Notebook for 1D BDT scan and calculating FOMs in Bd2psi2SKS on data\n"
   ]
  },
  {
   "cell_type": "code",
   "execution_count": 1,
   "metadata": {
    "collapsed": false
   },
   "outputs": [],
   "source": [
    "%matplotlib inline\n",
    "%load_ext autoreload\n",
    "%autoreload 2\n",
    "import sys\n",
    "sys.path.append('/home/chasenberg/repos/')\n",
    "import os\n",
    "import sys\n",
    "import ROOT\n",
    "from ROOT import TFile, TH1D, TH2D, TCanvas, gStyle, TLine, TTree\n",
    "from ROOT import (RooArgSet, RooRealVar, RooDataSet, RooPlot, RooFit, RooStats, RooArgList)\n",
    "import root_pandas as rp\n",
    "import root_numpy as ry \n",
    "\n",
    "import math\n",
    "import itertools\n",
    "import numpy as np\n",
    "import matplotlib as mpl\n",
    "import matplotlib.pyplot as plt\n",
    "from matplotlib.backends.backend_pdf import PdfPages\n",
    "\n",
    "from root_pandas import read_root\n",
    "import pandas as pd\n",
    "\n",
    "sys.path.append('/home/vmueller/repos')\n",
    "from dopy.doroot.root_utils import read_roodataset_from_tree, plot_pulls\n",
    "from dopy.doplot.plotting import Plotter, Plot                "
   ]
  },
  {
   "cell_type": "code",
   "execution_count": 2,
   "metadata": {
    "collapsed": false
   },
   "outputs": [],
   "source": [
    "\n",
    "from ROOT import RooRealVar, RooExponential, RooExtendPdf, RooAddPdf, RooArgList, RooGaussian\n",
    "from ROOT import RooFormulaVar\n",
    "from ROOT import gSystem\n",
    "gSystem.Load('libRooFit.so')\n",
    "gSystem.Load('/home/chasenberg/repos/dopy/dolib/CustomShapes/libKll')\n",
    "from ROOT import RooIpatia2"
   ]
  },
  {
   "cell_type": "markdown",
   "metadata": {},
   "source": [
    "### Read ROOT file"
   ]
  },
  {
   "cell_type": "code",
   "execution_count": 3,
   "metadata": {
    "collapsed": false
   },
   "outputs": [],
   "source": [
    "dataset_file_name = '/fhgfs/users/chasenberg/mc/2015_2016_merged/jpsimumuks/Bd2JpsiKS_pv_selected.root'"
   ]
  },
  {
   "cell_type": "code",
   "execution_count": 4,
   "metadata": {
    "collapsed": true
   },
   "outputs": [],
   "source": [
    "branches = [\n",
    "            'B0_FitPVConst_tau_flat',\n",
    "            'B0_FitPVConst_tauErr_flat',\n",
    "            'B0_TRUETAU',\n",
    "            'B0_FitPVConst_MinIPCHI2anyPV_flat',\n",
    "            'idxRunNumber',\n",
    "            'idxEventNumber',    \n",
    "            'idxRandom',\n",
    "            'idxPV',\n",
    "            'Delta_TAU',\n",
    "            'BDTresponse_wrongPV'\n",
    "            ]"
   ]
  },
  {
   "cell_type": "code",
   "execution_count": 5,
   "metadata": {
    "collapsed": false
   },
   "outputs": [],
   "source": [
    "tree_mc = 'Bd2JpsiKS'\n",
    "signal_dataframe_wrongPV  = rp.read_root(dataset_file_name,key=tree_mc,columns=branches, flatten=False)\n",
    "signal_dataframe_wrongPV  = signal_dataframe_wrongPV.replace([np.inf, -np.inf], np.nan)\n",
    "signal_dataframe_wrongPV  = signal_dataframe_wrongPV.dropna()"
   ]
  },
  {
   "cell_type": "code",
   "execution_count": 6,
   "metadata": {
    "collapsed": false
   },
   "outputs": [
    {
     "data": {
      "text/plain": [
       "Index(['B0_FitPVConst_tau_flat', 'B0_FitPVConst_tauErr_flat', 'B0_TRUETAU',\n",
       "       'B0_FitPVConst_MinIPCHI2anyPV_flat', 'idxRunNumber', 'idxEventNumber',\n",
       "       'idxRandom', 'idxPV', 'Delta_TAU', 'BDTresponse_wrongPV'],\n",
       "      dtype='object')"
      ]
     },
     "execution_count": 6,
     "metadata": {},
     "output_type": "execute_result"
    }
   ],
   "source": [
    "#columns=branches\n",
    "signal_dataframe_wrongPV.columns"
   ]
  },
  {
   "cell_type": "code",
   "execution_count": 7,
   "metadata": {
    "collapsed": false
   },
   "outputs": [
    {
     "data": {
      "text/plain": [
       "501573"
      ]
     },
     "execution_count": 7,
     "metadata": {},
     "output_type": "execute_result"
    }
   ],
   "source": [
    "len(signal_dataframe_wrongPV['BDTresponse_wrongPV'])"
   ]
  },
  {
   "cell_type": "code",
   "execution_count": 8,
   "metadata": {
    "collapsed": false
   },
   "outputs": [
    {
     "data": {
      "text/plain": [
       "<matplotlib.axes._subplots.AxesSubplot at 0x7fbef8e03320>"
      ]
     },
     "execution_count": 8,
     "metadata": {},
     "output_type": "execute_result"
    },
    {
     "data": {
      "image/png": "[encoded data removed]",
      "text/plain": [
       "<matplotlib.figure.Figure at 0x7fbef8e5bf98>"
      ]
     },
     "metadata": {},
     "output_type": "display_data"
    }
   ],
   "source": [
    "import seaborn as sns\n",
    "sns.distplot(signal_dataframe_wrongPV['BDTresponse_wrongPV'])"
   ]
  },
  {
   "cell_type": "markdown",
   "metadata": {},
   "source": [
    "### Function to calculate the FOMs"
   ]
  },
  {
   "cell_type": "markdown",
   "metadata": {},
   "source": [
    "### Configure  and define cuts "
   ]
  },
  {
   "cell_type": "code",
   "execution_count": 9,
   "metadata": {
    "collapsed": false
   },
   "outputs": [],
   "source": [
    "subdir = '/home/chasenberg/plots/wrongpv_cuttuning'\n",
    "plot_dir    = os.path.join(subdir, 'plots')\n",
    "results_dir = os.path.join(subdir, 'results')\n",
    "plot_file   = os.path.join(plot_dir, 'all_plots.pdf')\n",
    "\n",
    "\n",
    "if not os.path.exists(plot_dir):\n",
    "    os.makedirs(plot_dir)\n",
    "if not os.path.exists(results_dir):\n",
    "    os.makedirs(results_dir)\n",
    "\n",
    "cuttype = 'BDTresponse_wrongPV' \n",
    "\n",
    "minimum = signal_dataframe_wrongPV['BDTresponse_wrongPV'].min()\n",
    "maximum = signal_dataframe_wrongPV['BDTresponse_wrongPV'].max()\n",
    "#cuts_1 = np.linspace(minimum,,5)\n",
    "#cuts_2 = np.linspace(3.5,3.85,10) #(0,20,10)    #(0,0.001,10)\n",
    "cuts = np.linspace(3.5,3.85,40)\n",
    "#cuts = cuts.append(minimum)\n",
    "#cuts = [-0.05]\n",
    "cuts_for_which_to_store_sdata = []   \n",
    "\n",
    "num_sig = []\n",
    "num_bkg = []\n",
    "num_all = []\n",
    "\n",
    "cut_to_performance = {} \n",
    "cut_to_shape = {}\n",
    "\n",
    "perform_fit = True\n",
    "do_splot    = True\n",
    "postfix = ''\n",
    "final_params_file = None\n",
    "oldParameters = None\n",
    "final_model = None"
   ]
  },
  {
   "cell_type": "code",
   "execution_count": 10,
   "metadata": {
    "collapsed": false,
    "scrolled": true
   },
   "outputs": [
    {
     "name": "stdout",
     "output_type": "stream",
     "text": [
      "0.9998763888805817\n"
     ]
    }
   ],
   "source": [
    "eff = signal_dataframe_wrongPV.query('BDTresponse_wrongPV>0').shape[0] / signal_dataframe_wrongPV.shape[0] \n",
    "print(eff)"
   ]
  },
  {
   "cell_type": "code",
   "execution_count": 11,
   "metadata": {
    "collapsed": false
   },
   "outputs": [
    {
     "data": {
      "text/plain": [
       "array([ 3.5       ,  3.50897436,  3.51794872,  3.52692308,  3.53589744,\n",
       "        3.54487179,  3.55384615,  3.56282051,  3.57179487,  3.58076923,\n",
       "        3.58974359,  3.59871795,  3.60769231,  3.61666667,  3.62564103,\n",
       "        3.63461538,  3.64358974,  3.6525641 ,  3.66153846,  3.67051282,\n",
       "        3.67948718,  3.68846154,  3.6974359 ,  3.70641026,  3.71538462,\n",
       "        3.72435897,  3.73333333,  3.74230769,  3.75128205,  3.76025641,\n",
       "        3.76923077,  3.77820513,  3.78717949,  3.79615385,  3.80512821,\n",
       "        3.81410256,  3.82307692,  3.83205128,  3.84102564,  3.85      ])"
      ]
     },
     "execution_count": 11,
     "metadata": {},
     "output_type": "execute_result"
    }
   ],
   "source": [
    "cuts"
   ]
  },
  {
   "cell_type": "code",
   "execution_count": 12,
   "metadata": {
    "collapsed": false
   },
   "outputs": [
    {
     "data": {
      "text/plain": [
       "'def calculate_foms(df_random,df_bestpv): \\n    import math\\n    \\n\\n    delta_m = 5065 \\n    S = 0.691 #sin2beta value (average from HFAG)\\n    \\n    dilution_bdt_bestpv = 0\\n    dilution_bdt_random = 0\\n    \\n\\n    \\n    tagomega = np.array(df_bestpv[\\'B0_TAGOMEGA_OS\\'])\\n    tag1 = np.array(df_bestpv[\\'B0_TAGDECISION_OS\\'])\\n    time = np.array(df_bestpv[\\'B0_FitPVConst_tau_flat\\']) \\n    error = np.absolute(np.array(df_bestpv[\\'Delta_TAU\\']))\\n    \\n    tagomega_random = np.array(df_random[\\'B0_TAGOMEGA_OS\\'])\\n    tag1_random = np.array(df_random[\\'B0_TAGDECISION_OS\\'])\\n    time_random = np.array(df_random[\\'B0_FitPVConst_tau_flat\\']) \\n    error_random = np.absolute(np.array(df_random[\\'Delta_TAU\\']))\\n    \\n    #Calculate dilution for best pv selection\\n    range_df_bestpv = df_bestpv.shape[0]   \\n    for i in range(range_df_bestpv):\\n        timeerror           =  error[i]     \\n        dilution_bdt_bestpv = math.exp(-(delta_m*timeerror)**2)\\n        dilution_bdt_bestpv += dilution_bdt_bestpv\\n\\n    #timeerror_dilution_theory = math.exp(-(delta_m*cut)**2)\\n    dilution_bdt_bestpv     /= range_df_bestpv\\n    efficiency_bdt_bestpv   = range_df_bestpv /sig_yields_init\\n    \\n\\n    #Calcutlate dilution for random selection\\n    efficiency_bdt_random   = df_random.shape[0]  / sig_yields_init\\n    \\n    print(\"The efficiency_bdt_random of the cut is:\")\\n    print(efficiency_bdt_random)\\n\\n    for i in range(df_random.shape[0]):\\n        timeerror_random    =  error_random[i]\\n        dilution_bdt_random   = math.exp(-(delta_m*timeerror_random)**2)\\n        dilution_bdt_random   += dilution_bdt_random\\n        \\n    dilution_bdt_random /= df_random.shape[0]  \\n    \\n    \\n    fomname_to_value = {\\n        \\'dilution_bdt_bestpv\\'   : dilution_bdt_bestpv,\\n        \\'efficiency_bdt_bestpv\\' : efficiency_bdt_bestpv,\\n         #\\'timeerror_dilution_theory\\': timeerror_dilution_theory,\\n        \\'dilution_bdt_random\\'  : dilution_bdt_random,\\n        \\'efficiency_bdt_random\\'   : efficiency_bdt_random\\n    }\\n    return fomname_to_value'"
      ]
     },
     "execution_count": 12,
     "metadata": {},
     "output_type": "execute_result"
    }
   ],
   "source": [
    "'''def calculate_foms(df_random,df_bestpv): \n",
    "    import math\n",
    "    \n",
    "\n",
    "    delta_m = 5065 \n",
    "    S = 0.691 #sin2beta value (average from HFAG)\n",
    "    \n",
    "    dilution_bdt_bestpv = 0\n",
    "    dilution_bdt_random = 0\n",
    "    \n",
    "\n",
    "    \n",
    "    tagomega = np.array(df_bestpv['B0_TAGOMEGA_OS'])\n",
    "    tag1 = np.array(df_bestpv['B0_TAGDECISION_OS'])\n",
    "    time = np.array(df_bestpv['B0_FitPVConst_tau_flat']) \n",
    "    error = np.absolute(np.array(df_bestpv['Delta_TAU']))\n",
    "    \n",
    "    tagomega_random = np.array(df_random['B0_TAGOMEGA_OS'])\n",
    "    tag1_random = np.array(df_random['B0_TAGDECISION_OS'])\n",
    "    time_random = np.array(df_random['B0_FitPVConst_tau_flat']) \n",
    "    error_random = np.absolute(np.array(df_random['Delta_TAU']))\n",
    "    \n",
    "    #Calculate dilution for best pv selection\n",
    "    range_df_bestpv = df_bestpv.shape[0]   \n",
    "    for i in range(range_df_bestpv):\n",
    "        timeerror           =  error[i]     \n",
    "        dilution_bdt_bestpv = math.exp(-(delta_m*timeerror)**2)\n",
    "        dilution_bdt_bestpv += dilution_bdt_bestpv\n",
    "\n",
    "    #timeerror_dilution_theory = math.exp(-(delta_m*cut)**2)\n",
    "    dilution_bdt_bestpv     /= range_df_bestpv\n",
    "    efficiency_bdt_bestpv   = range_df_bestpv /sig_yields_init\n",
    "    \n",
    "\n",
    "    #Calcutlate dilution for random selection\n",
    "    efficiency_bdt_random   = df_random.shape[0]  / sig_yields_init\n",
    "    \n",
    "    print(\"The efficiency_bdt_random of the cut is:\")\n",
    "    print(efficiency_bdt_random)\n",
    "\n",
    "    for i in range(df_random.shape[0]):\n",
    "        timeerror_random    =  error_random[i]\n",
    "        dilution_bdt_random   = math.exp(-(delta_m*timeerror_random)**2)\n",
    "        dilution_bdt_random   += dilution_bdt_random\n",
    "        \n",
    "    dilution_bdt_random /= df_random.shape[0]  \n",
    "    \n",
    "    \n",
    "    fomname_to_value = {\n",
    "        'dilution_bdt_bestpv'   : dilution_bdt_bestpv,\n",
    "        'efficiency_bdt_bestpv' : efficiency_bdt_bestpv,\n",
    "         #'timeerror_dilution_theory': timeerror_dilution_theory,\n",
    "        'dilution_bdt_random'  : dilution_bdt_random,\n",
    "        'efficiency_bdt_random'   : efficiency_bdt_random\n",
    "    }\n",
    "    return fomname_to_value'''"
   ]
  },
  {
   "cell_type": "markdown",
   "metadata": {},
   "source": [
    "### Calculate FOM"
   ]
  },
  {
   "cell_type": "code",
   "execution_count": 13,
   "metadata": {
    "collapsed": false
   },
   "outputs": [],
   "source": [
    "def calculate_foms(data_fit_cut,best_pv): \n",
    "    import math\n",
    "    \n",
    "    signal_sum    = 0\n",
    "    cbkg_sum      = 0\n",
    "    signal_sumw2  = 0\n",
    "    signal_sum_wrong    = 0\n",
    "    cbkg_sum_wrong       = 0\n",
    "    signal_sumw2_wrong   = 0\n",
    "    \n",
    "    delta_m = 5065 \n",
    "    S = 0.691 #sin2beta value (average from HFAG)\n",
    "    \n",
    "    dilution_bdt_bestpv = 0\n",
    "    dilution_bdt_random = 0\n",
    "    \n",
    "\n",
    "    time = np.array(best_pv['B0_FitPVConst_tau_flat']) \n",
    "    error = np.absolute(np.array(best_pv['Delta_TAU']))\n",
    "   \n",
    "    time_wrong = np.array(data_fit_cut['B0_FitPVConst_tau_flat']) \n",
    "    error_wrong = np.absolute(np.array(data_fit_cut['Delta_TAU']))\n",
    "\n",
    "    #calculate dilution and efficiency for best PV selection \n",
    "    efficiency_bdt_bestpv = best_pv.shape[0]  / sig_yields_init\n",
    "    \n",
    "    for i in range(best_pv.shape[0]):\n",
    "        signal_weight =  1 \n",
    "        timeerror     =  error[i]        \n",
    "        signal_sum    += signal_weight\n",
    "        timeerror_dilution = math.exp(-(delta_m*timeerror)**2)\n",
    "        dilution_bdt_bestpv    += timeerror_dilution\n",
    "    \n",
    "    dilution_bdt_bestpv /= signal_sum\n",
    "    bdt_bestpv_poisson = 1 / np.sqrt(best_pv.shape[0])\n",
    "    \n",
    "    #Calculate for random selection\n",
    "    efficiency_bdt_random = data_fit_cut.shape[0]  / sig_yields_init\n",
    "\n",
    "    for i in range(data_fit_cut.shape[0]):\n",
    "        signal_weight_wrong =  1 \n",
    "        timeerror_wrong     =  error_wrong[i]\n",
    "        signal_sum_wrong    += signal_weight_wrong\n",
    "        timeerror_dilution_wrong = math.exp(-(delta_m*timeerror_wrong)**2)\n",
    "        dilution_bdt_random     += timeerror_dilution_wrong *signal_weight_wrong \n",
    "        \n",
    "    dilution_bdt_random /= signal_sum_wrong  \n",
    "    bdt_random_poisson = 1 / np.sqrt(data_fit_cut.shape[0])\n",
    "\n",
    "    #Write to dictionary\n",
    "    fomname_to_value = {\n",
    "        'dilution_bdt_bestpv'   : dilution_bdt_bestpv,\n",
    "        'efficiency_bdt_bestpv' : efficiency_bdt_bestpv,\n",
    "        'bdt_bestpv_poisson'    : bdt_bestpv_poisson,\n",
    "        'dilution_bdt_random'   : dilution_bdt_random,\n",
    "        'efficiency_bdt_random' : efficiency_bdt_random,\n",
    "        'bdt_random_poisson'    : bdt_random_poisson, \n",
    "    }\n",
    "    \n",
    "    return fomname_to_value"
   ]
  },
  {
   "cell_type": "code",
   "execution_count": 14,
   "metadata": {
    "collapsed": false,
    "scrolled": true
   },
   "outputs": [
    {
     "data": {
      "image/png": "[encoded data removed]",
      "text/plain": [
       "<matplotlib.figure.Figure at 0x7fbeee6d9438>"
      ]
     },
     "metadata": {},
     "output_type": "display_data"
    }
   ],
   "source": [
    "import numpy as np\n",
    "import matplotlib.pyplot as plt\n",
    "plt.hist(signal_dataframe_wrongPV['BDTresponse_wrongPV'],40,range=[1,6.5])\n",
    "plt.savefig(\"/home/chasenberg/plots/wrong_pv/bdt_output.pdf\")"
   ]
  },
  {
   "cell_type": "code",
   "execution_count": 15,
   "metadata": {
    "collapsed": false
   },
   "outputs": [
    {
     "name": "stdout",
     "output_type": "stream",
     "text": [
      "3.5\n"
     ]
    }
   ],
   "source": [
    "print(str(cuts[0]))"
   ]
  },
  {
   "cell_type": "code",
   "execution_count": 16,
   "metadata": {
    "collapsed": false
   },
   "outputs": [
    {
     "name": "stdout",
     "output_type": "stream",
     "text": [
      "Wait for GrimReaper\n",
      "GrimReaper hopefully finished\n",
      "INFO: Read selected data\n"
     ]
    }
   ],
   "source": [
    "from ROOT import RooArgList\n",
    "import subprocess, os\n",
    "import time\n",
    "import root_pandas as rp\n",
    "\n",
    "x=None\n",
    "\n",
    "cut = str(cuts[0])\n",
    "data_fit_cut = signal_dataframe_wrongPV.query('BDTresponse_wrongPV>'+cut)\n",
    "data_fit_cut.to_root('/fhgfs/users/chasenberg/mc/2015_2016_merged/jpsimumuks/interim_initial.root',key=tree_mc)\n",
    "my_env = os.environ.copy()\n",
    "my_env['PATH'] = '/usr/local/bin:/bin:/usr/bin:/usr/local/sbin:/usr/sbin:/sbin:/home/chasenberg/bin'\n",
    "my_env['LD_LIBRARY_PATH'] = '/usr/local/lib'\n",
    "my_env['script'] = '/home/chasenberg/repos/b2cc_sin2beta_run2/notebooks/selection'\n",
    "my_command = 'source /lhcbsoft/LHCbSoftwareSetup.sh &&' \\\n",
    "        'lb-run DaVinci/v41r2 $BASH -c \"' \\\n",
    "        'echo $PATH && ' \\\n",
    "        'source /doosoft/InstallDooSoftware/LoadDooSoftware && CandidateSelectionGrimReaper /fhgfs/users/chasenberg/mc/2015_2016_merged/jpsimumuks/interim_initial.root Bd2JpsiKS /fhgfs/users/chasenberg/mc/2015_2016_merged/jpsimumuks/interim_initial.root Bd2JpsiKS \"idxRunNumber\"\"'        \n",
    "subprocess.Popen([my_command], env=my_env, shell=True)\n",
    "        \n",
    "print(\"Wait for GrimReaper\")\n",
    "time.sleep(120.0)        # pause 5.5 seconds\n",
    "print(\"GrimReaper hopefully finished\")\n",
    "print('INFO: Read selected data', flush=True)\n",
    "data_fit_cut = rp.read_root('/fhgfs/users/chasenberg/mc/2015_2016_merged/jpsimumuks/interim_initial.root',key=tree_mc)\n",
    "sig_yields_init = data_fit_cut.shape[0]"
   ]
  },
  {
   "cell_type": "code",
   "execution_count": 17,
   "metadata": {
    "collapsed": false
   },
   "outputs": [
    {
     "data": {
      "text/plain": [
       "'#calculate poisson uncertainty \\ntest = pd.DataFrame()\\npoisson_error_arr = []\\nfor cut in cuts:\\n    cut = str(cut)\\n    mu = data_fit_cut.query(\\'BDTresponse_wrongPV>\\'+cut).shape[0]\\n    print(\"Yields after the cut:\")\\n    print(\"---------------------\")\\n    print(mu)\\n    poisson_error = 1/np.sqrt(mu)\\n    print(poisson_error)\\n    poisson_error_arr.append(poisson_error)\\n    #return(poisson_error_arr)\\npoisson_error_arr = poisson_error_arr/np.amax(poisson_error_arr)#*min(np.array(ys[\\'TimeresPower\\']))\\nerror = np.array(poisson_error_arr)\\ntest[\\'error\\'] = error'"
      ]
     },
     "execution_count": 17,
     "metadata": {},
     "output_type": "execute_result"
    }
   ],
   "source": [
    "'''#calculate poisson uncertainty \n",
    "test = pd.DataFrame()\n",
    "poisson_error_arr = []\n",
    "for cut in cuts:\n",
    "    cut = str(cut)\n",
    "    mu = data_fit_cut.query('BDTresponse_wrongPV>'+cut).shape[0]\n",
    "    print(\"Yields after the cut:\")\n",
    "    print(\"---------------------\")\n",
    "    print(mu)\n",
    "    poisson_error = 1/np.sqrt(mu)\n",
    "    print(poisson_error)\n",
    "    poisson_error_arr.append(poisson_error)\n",
    "    #return(poisson_error_arr)\n",
    "poisson_error_arr = poisson_error_arr/np.amax(poisson_error_arr)#*min(np.array(ys['TimeresPower']))\n",
    "error = np.array(poisson_error_arr)\n",
    "test['error'] = error'''"
   ]
  },
  {
   "cell_type": "code",
   "execution_count": 18,
   "metadata": {
    "collapsed": false,
    "scrolled": false
   },
   "outputs": [
    {
     "name": "stdout",
     "output_type": "stream",
     "text": [
      "INFO: Starting to test cut BDTresponse_wrongPV>3.5\n",
      "INFO: Call CandidateSelectionGrimReaper\n",
      "Wait for GrimReaper\n",
      "GrimReaper hopefully finished\n",
      "INFO: Read selected data\n",
      "INFO: Start Calculation\n",
      "The inital number of candidates is:\n",
      "482051\n",
      "----------------------------------\n",
      "The number of candidates after the cut is:\n",
      "482051\n",
      "----------------------------------\n",
      "The efficiency of the cut is:\n",
      "1.0\n",
      "INFO: Finish Calculation\n",
      "INFO: Starting to test cut BDTresponse_wrongPV>3.508974358974359\n",
      "INFO: Call CandidateSelectionGrimReaper\n",
      "Wait for GrimReaper\n",
      "GrimReaper hopefully finished\n",
      "INFO: Read selected data\n",
      "INFO: Start Calculation\n",
      "The inital number of candidates is:\n",
      "482051\n",
      "----------------------------------\n",
      "The number of candidates after the cut is:\n",
      "481930\n",
      "----------------------------------\n",
      "The efficiency of the cut is:\n",
      "0.9997489892148341\n",
      "INFO: Finish Calculation\n",
      "INFO: Starting to test cut BDTresponse_wrongPV>3.517948717948718\n",
      "INFO: Call CandidateSelectionGrimReaper\n",
      "Wait for GrimReaper\n",
      "GrimReaper hopefully finished\n",
      "INFO: Read selected data\n",
      "INFO: Start Calculation\n",
      "The inital number of candidates is:\n",
      "482051\n",
      "----------------------------------\n",
      "The number of candidates after the cut is:\n",
      "481706\n",
      "----------------------------------\n",
      "The efficiency of the cut is:\n",
      "0.9992843080918824\n",
      "INFO: Finish Calculation\n",
      "INFO: Starting to test cut BDTresponse_wrongPV>3.526923076923077\n",
      "INFO: Call CandidateSelectionGrimReaper\n",
      "Wait for GrimReaper\n",
      "GrimReaper hopefully finished\n",
      "INFO: Read selected data\n",
      "INFO: Start Calculation\n",
      "The inital number of candidates is:\n",
      "482051\n",
      "----------------------------------\n",
      "The number of candidates after the cut is:\n",
      "481527\n",
      "----------------------------------\n",
      "The efficiency of the cut is:\n",
      "0.9989129780873808\n",
      "INFO: Finish Calculation\n",
      "INFO: Starting to test cut BDTresponse_wrongPV>3.5358974358974358\n",
      "INFO: Call CandidateSelectionGrimReaper\n",
      "Wait for GrimReaper\n",
      "GrimReaper hopefully finished\n",
      "INFO: Read selected data\n",
      "INFO: Start Calculation\n",
      "The inital number of candidates is:\n",
      "482051\n",
      "----------------------------------\n",
      "The number of candidates after the cut is:\n",
      "481320\n",
      "----------------------------------\n",
      "The efficiency of the cut is:\n",
      "0.9984835629425103\n",
      "INFO: Finish Calculation\n",
      "INFO: Starting to test cut BDTresponse_wrongPV>3.5448717948717947\n",
      "INFO: Call CandidateSelectionGrimReaper\n",
      "Wait for GrimReaper\n",
      "GrimReaper hopefully finished\n",
      "INFO: Read selected data\n",
      "INFO: Start Calculation\n",
      "The inital number of candidates is:\n",
      "482051\n",
      "----------------------------------\n",
      "The number of candidates after the cut is:\n",
      "481081\n",
      "----------------------------------\n",
      "The efficiency of the cut is:\n",
      "0.9979877647800751\n",
      "INFO: Finish Calculation\n",
      "INFO: Starting to test cut BDTresponse_wrongPV>3.5538461538461537\n",
      "INFO: Call CandidateSelectionGrimReaper\n",
      "Wait for GrimReaper\n",
      "GrimReaper hopefully finished\n",
      "INFO: Read selected data\n",
      "INFO: Start Calculation\n",
      "The inital number of candidates is:\n",
      "482051\n",
      "----------------------------------\n",
      "The number of candidates after the cut is:\n",
      "480944\n",
      "----------------------------------\n",
      "The efficiency of the cut is:\n",
      "0.997703562486127\n",
      "INFO: Finish Calculation\n",
      "INFO: Starting to test cut BDTresponse_wrongPV>3.562820512820513\n",
      "INFO: Call CandidateSelectionGrimReaper\n",
      "Wait for GrimReaper\n",
      "GrimReaper hopefully finished\n",
      "INFO: Read selected data\n",
      "INFO: Start Calculation\n",
      "The inital number of candidates is:\n",
      "482051\n",
      "----------------------------------\n",
      "The number of candidates after the cut is:\n",
      "480795\n",
      "----------------------------------\n",
      "The efficiency of the cut is:\n",
      "0.9973944665605922\n",
      "INFO: Finish Calculation\n",
      "INFO: Starting to test cut BDTresponse_wrongPV>3.571794871794872\n",
      "INFO: Call CandidateSelectionGrimReaper\n",
      "Wait for GrimReaper\n",
      "GrimReaper hopefully finished\n",
      "INFO: Read selected data\n",
      "INFO: Start Calculation\n",
      "The inital number of candidates is:\n",
      "482051\n",
      "----------------------------------\n",
      "The number of candidates after the cut is:\n",
      "480658\n",
      "----------------------------------\n",
      "The efficiency of the cut is:\n",
      "0.997110264266644\n",
      "INFO: Finish Calculation\n",
      "INFO: Starting to test cut BDTresponse_wrongPV>3.580769230769231\n",
      "INFO: Call CandidateSelectionGrimReaper\n",
      "Wait for GrimReaper\n",
      "GrimReaper hopefully finished\n",
      "INFO: Read selected data\n",
      "INFO: Start Calculation\n",
      "The inital number of candidates is:\n",
      "482051\n",
      "----------------------------------\n",
      "The number of candidates after the cut is:\n",
      "480367\n",
      "----------------------------------\n",
      "The efficiency of the cut is:\n",
      "0.9965065937006665\n",
      "INFO: Finish Calculation\n",
      "INFO: Starting to test cut BDTresponse_wrongPV>3.58974358974359\n",
      "INFO: Call CandidateSelectionGrimReaper\n",
      "Wait for GrimReaper\n",
      "GrimReaper hopefully finished\n",
      "INFO: Read selected data\n",
      "INFO: Start Calculation\n",
      "The inital number of candidates is:\n",
      "482051\n",
      "----------------------------------\n",
      "The number of candidates after the cut is:\n",
      "480124\n",
      "----------------------------------\n",
      "The efficiency of the cut is:\n",
      "0.9960024976610359\n",
      "INFO: Finish Calculation\n",
      "INFO: Starting to test cut BDTresponse_wrongPV>3.598717948717949\n",
      "INFO: Call CandidateSelectionGrimReaper\n",
      "Wait for GrimReaper\n",
      "GrimReaper hopefully finished\n",
      "INFO: Read selected data\n",
      "INFO: Start Calculation\n",
      "The inital number of candidates is:\n",
      "482051\n",
      "----------------------------------\n",
      "The number of candidates after the cut is:\n",
      "479908\n",
      "----------------------------------\n",
      "The efficiency of the cut is:\n",
      "0.9955544122924753\n",
      "INFO: Finish Calculation\n",
      "INFO: Starting to test cut BDTresponse_wrongPV>3.6076923076923078\n",
      "INFO: Call CandidateSelectionGrimReaper\n",
      "Wait for GrimReaper\n",
      "GrimReaper hopefully finished\n",
      "INFO: Read selected data\n",
      "INFO: Start Calculation\n",
      "The inital number of candidates is:\n",
      "482051\n",
      "----------------------------------\n",
      "The number of candidates after the cut is:\n",
      "479747\n",
      "----------------------------------\n",
      "The efficiency of the cut is:\n",
      "0.9952204227353537\n",
      "INFO: Finish Calculation\n",
      "INFO: Starting to test cut BDTresponse_wrongPV>3.6166666666666667\n",
      "INFO: Call CandidateSelectionGrimReaper\n",
      "Wait for GrimReaper\n",
      "GrimReaper hopefully finished\n",
      "INFO: Read selected data\n",
      "INFO: Start Calculation\n",
      "The inital number of candidates is:\n",
      "482051\n",
      "----------------------------------\n",
      "The number of candidates after the cut is:\n",
      "479580\n",
      "----------------------------------\n",
      "The efficiency of the cut is:\n",
      "0.9948739863624388\n",
      "INFO: Finish Calculation\n",
      "INFO: Starting to test cut BDTresponse_wrongPV>3.6256410256410256\n",
      "INFO: Call CandidateSelectionGrimReaper\n",
      "Wait for GrimReaper\n",
      "GrimReaper hopefully finished\n",
      "INFO: Read selected data\n",
      "INFO: Start Calculation\n",
      "The inital number of candidates is:\n",
      "482051\n",
      "----------------------------------\n",
      "The number of candidates after the cut is:\n",
      "479398\n",
      "----------------------------------\n",
      "The efficiency of the cut is:\n",
      "0.9944964329500405\n",
      "INFO: Finish Calculation\n",
      "INFO: Starting to test cut BDTresponse_wrongPV>3.6346153846153846\n",
      "INFO: Call CandidateSelectionGrimReaper\n",
      "Wait for GrimReaper\n",
      "GrimReaper hopefully finished\n",
      "INFO: Read selected data\n",
      "INFO: Start Calculation\n",
      "The inital number of candidates is:\n",
      "482051\n",
      "----------------------------------\n",
      "The number of candidates after the cut is:\n",
      "479252\n",
      "----------------------------------\n",
      "The efficiency of the cut is:\n",
      "0.9941935604324024\n",
      "INFO: Finish Calculation\n",
      "INFO: Starting to test cut BDTresponse_wrongPV>3.6435897435897435\n",
      "INFO: Call CandidateSelectionGrimReaper\n",
      "Wait for GrimReaper\n",
      "GrimReaper hopefully finished\n",
      "INFO: Read selected data\n",
      "INFO: Start Calculation\n",
      "The inital number of candidates is:\n",
      "482051\n",
      "----------------------------------\n",
      "The number of candidates after the cut is:\n",
      "478905\n",
      "----------------------------------\n",
      "The efficiency of the cut is:\n",
      "0.993473719585687\n",
      "INFO: Finish Calculation\n",
      "INFO: Starting to test cut BDTresponse_wrongPV>3.6525641025641025\n",
      "INFO: Call CandidateSelectionGrimReaper\n",
      "Wait for GrimReaper\n",
      "GrimReaper hopefully finished\n",
      "INFO: Read selected data\n",
      "INFO: Start Calculation\n",
      "The inital number of candidates is:\n",
      "482051\n",
      "----------------------------------\n",
      "The number of candidates after the cut is:\n",
      "478800\n",
      "----------------------------------\n",
      "The efficiency of the cut is:\n",
      "0.9932559003093033\n",
      "INFO: Finish Calculation\n",
      "INFO: Starting to test cut BDTresponse_wrongPV>3.6615384615384614\n",
      "INFO: Call CandidateSelectionGrimReaper\n",
      "Wait for GrimReaper\n",
      "GrimReaper hopefully finished\n",
      "INFO: Read selected data\n",
      "INFO: Start Calculation\n",
      "The inital number of candidates is:\n",
      "482051\n",
      "----------------------------------\n",
      "The number of candidates after the cut is:\n",
      "478632\n",
      "----------------------------------\n",
      "The efficiency of the cut is:\n",
      "0.9929073894670896\n",
      "INFO: Finish Calculation\n",
      "INFO: Starting to test cut BDTresponse_wrongPV>3.670512820512821\n",
      "INFO: Call CandidateSelectionGrimReaper\n",
      "Wait for GrimReaper\n",
      "GrimReaper hopefully finished\n",
      "INFO: Read selected data\n",
      "INFO: Start Calculation\n",
      "The inital number of candidates is:\n",
      "482051\n",
      "----------------------------------\n",
      "The number of candidates after the cut is:\n",
      "478117\n",
      "----------------------------------\n",
      "The efficiency of the cut is:\n",
      "0.9918390377781604\n",
      "INFO: Finish Calculation\n",
      "INFO: Starting to test cut BDTresponse_wrongPV>3.6794871794871797\n",
      "INFO: Call CandidateSelectionGrimReaper\n",
      "Wait for GrimReaper\n",
      "GrimReaper hopefully finished\n",
      "INFO: Read selected data\n",
      "INFO: Start Calculation\n",
      "The inital number of candidates is:\n",
      "482051\n",
      "----------------------------------\n",
      "The number of candidates after the cut is:\n",
      "477813\n",
      "----------------------------------\n",
      "The efficiency of the cut is:\n",
      "0.9912083991112973\n",
      "INFO: Finish Calculation\n",
      "INFO: Starting to test cut BDTresponse_wrongPV>3.6884615384615387\n",
      "INFO: Call CandidateSelectionGrimReaper\n",
      "Wait for GrimReaper\n",
      "GrimReaper hopefully finished\n",
      "INFO: Read selected data\n",
      "INFO: Start Calculation\n",
      "The inital number of candidates is:\n",
      "482051\n",
      "----------------------------------\n",
      "The number of candidates after the cut is:\n",
      "477654\n",
      "----------------------------------\n",
      "The efficiency of the cut is:\n",
      "0.9908785584927736\n",
      "INFO: Finish Calculation\n",
      "INFO: Starting to test cut BDTresponse_wrongPV>3.6974358974358976\n",
      "INFO: Call CandidateSelectionGrimReaper\n",
      "Wait for GrimReaper\n",
      "GrimReaper hopefully finished\n",
      "INFO: Read selected data\n",
      "INFO: Start Calculation\n",
      "The inital number of candidates is:\n",
      "482051\n",
      "----------------------------------\n",
      "The number of candidates after the cut is:\n",
      "477463\n",
      "----------------------------------\n",
      "The efficiency of the cut is:\n",
      "0.9904823348566852\n",
      "INFO: Finish Calculation\n",
      "INFO: Starting to test cut BDTresponse_wrongPV>3.7064102564102566\n",
      "INFO: Call CandidateSelectionGrimReaper\n",
      "Wait for GrimReaper\n",
      "GrimReaper hopefully finished\n",
      "INFO: Read selected data\n",
      "INFO: Start Calculation\n",
      "The inital number of candidates is:\n",
      "482051\n",
      "----------------------------------\n",
      "The number of candidates after the cut is:\n",
      "477279\n",
      "----------------------------------\n",
      "The efficiency of the cut is:\n",
      "0.9901006325056892\n",
      "INFO: Finish Calculation\n",
      "INFO: Starting to test cut BDTresponse_wrongPV>3.7153846153846155\n",
      "INFO: Call CandidateSelectionGrimReaper\n",
      "Wait for GrimReaper\n",
      "GrimReaper hopefully finished\n",
      "INFO: Read selected data\n",
      "INFO: Start Calculation\n",
      "The inital number of candidates is:\n",
      "482051\n",
      "----------------------------------\n",
      "The number of candidates after the cut is:\n",
      "476918\n",
      "----------------------------------\n",
      "The efficiency of the cut is:\n",
      "0.9893517490887893\n",
      "INFO: Finish Calculation\n",
      "INFO: Starting to test cut BDTresponse_wrongPV>3.7243589743589745\n",
      "INFO: Call CandidateSelectionGrimReaper\n",
      "Wait for GrimReaper\n",
      "GrimReaper hopefully finished\n",
      "INFO: Read selected data\n",
      "INFO: Start Calculation\n",
      "The inital number of candidates is:\n",
      "482051\n",
      "----------------------------------\n",
      "The number of candidates after the cut is:\n",
      "476100\n",
      "----------------------------------\n",
      "The efficiency of the cut is:\n",
      "0.987654833202296\n",
      "INFO: Finish Calculation\n",
      "INFO: Starting to test cut BDTresponse_wrongPV>3.7333333333333334\n",
      "INFO: Call CandidateSelectionGrimReaper\n",
      "Wait for GrimReaper\n",
      "GrimReaper hopefully finished\n",
      "INFO: Read selected data\n",
      "INFO: Start Calculation\n",
      "The inital number of candidates is:\n",
      "482051\n",
      "----------------------------------\n",
      "The number of candidates after the cut is:\n",
      "475866\n",
      "----------------------------------\n",
      "The efficiency of the cut is:\n",
      "0.9871694073863554\n",
      "INFO: Finish Calculation\n",
      "INFO: Starting to test cut BDTresponse_wrongPV>3.7423076923076923\n",
      "INFO: Call CandidateSelectionGrimReaper\n",
      "Wait for GrimReaper\n",
      "GrimReaper hopefully finished\n",
      "INFO: Read selected data\n",
      "INFO: Start Calculation\n",
      "The inital number of candidates is:\n",
      "482051\n",
      "----------------------------------\n",
      "The number of candidates after the cut is:\n",
      "475449\n",
      "----------------------------------\n",
      "The efficiency of the cut is:\n",
      "0.9863043536887176\n",
      "INFO: Finish Calculation\n",
      "INFO: Starting to test cut BDTresponse_wrongPV>3.7512820512820513\n",
      "INFO: Call CandidateSelectionGrimReaper\n",
      "Wait for GrimReaper\n",
      "GrimReaper hopefully finished\n",
      "INFO: Read selected data\n",
      "INFO: Start Calculation\n",
      "The inital number of candidates is:\n",
      "482051\n",
      "----------------------------------\n",
      "The number of candidates after the cut is:\n",
      "474396\n",
      "----------------------------------\n",
      "The efficiency of the cut is:\n",
      "0.9841199375169847\n",
      "INFO: Finish Calculation\n",
      "INFO: Starting to test cut BDTresponse_wrongPV>3.76025641025641\n",
      "INFO: Call CandidateSelectionGrimReaper\n",
      "Wait for GrimReaper\n",
      "GrimReaper hopefully finished\n",
      "INFO: Read selected data\n",
      "INFO: Start Calculation\n",
      "The inital number of candidates is:\n",
      "482051\n",
      "----------------------------------\n",
      "The number of candidates after the cut is:\n",
      "472914\n",
      "----------------------------------\n",
      "The efficiency of the cut is:\n",
      "0.9810455740160273\n",
      "INFO: Finish Calculation\n",
      "INFO: Starting to test cut BDTresponse_wrongPV>3.769230769230769\n",
      "INFO: Call CandidateSelectionGrimReaper\n",
      "Wait for GrimReaper\n",
      "GrimReaper hopefully finished\n",
      "INFO: Read selected data\n",
      "INFO: Start Calculation\n",
      "The inital number of candidates is:\n",
      "482051\n",
      "----------------------------------\n",
      "The number of candidates after the cut is:\n",
      "472124\n",
      "----------------------------------\n",
      "The efficiency of the cut is:\n",
      "0.979406743269903\n",
      "INFO: Finish Calculation\n",
      "INFO: Starting to test cut BDTresponse_wrongPV>3.778205128205128\n",
      "INFO: Call CandidateSelectionGrimReaper\n",
      "Wait for GrimReaper\n",
      "GrimReaper hopefully finished\n",
      "INFO: Read selected data\n",
      "INFO: Start Calculation\n",
      "The inital number of candidates is:\n",
      "482051\n",
      "----------------------------------\n",
      "The number of candidates after the cut is:\n",
      "471069\n",
      "----------------------------------\n",
      "The efficiency of the cut is:\n",
      "0.9772181781595723\n",
      "INFO: Finish Calculation\n",
      "INFO: Starting to test cut BDTresponse_wrongPV>3.787179487179487\n",
      "INFO: Call CandidateSelectionGrimReaper\n",
      "Wait for GrimReaper\n",
      "GrimReaper hopefully finished\n",
      "INFO: Read selected data\n",
      "INFO: Start Calculation\n",
      "The inital number of candidates is:\n",
      "482051\n",
      "----------------------------------\n",
      "The number of candidates after the cut is:\n",
      "470597\n",
      "----------------------------------\n",
      "The efficiency of the cut is:\n",
      "0.9762390286504955\n",
      "INFO: Finish Calculation\n",
      "INFO: Starting to test cut BDTresponse_wrongPV>3.7961538461538464\n",
      "INFO: Call CandidateSelectionGrimReaper\n",
      "Wait for GrimReaper\n",
      "GrimReaper hopefully finished\n",
      "INFO: Read selected data\n",
      "INFO: Start Calculation\n",
      "The inital number of candidates is:\n",
      "482051\n",
      "----------------------------------\n",
      "The number of candidates after the cut is:\n",
      "470200\n",
      "----------------------------------\n",
      "The efficiency of the cut is:\n",
      "0.9754154643388355\n",
      "INFO: Finish Calculation\n",
      "INFO: Starting to test cut BDTresponse_wrongPV>3.8051282051282054\n",
      "INFO: Call CandidateSelectionGrimReaper\n",
      "Wait for GrimReaper\n",
      "GrimReaper hopefully finished\n",
      "INFO: Read selected data\n",
      "INFO: Start Calculation\n",
      "The inital number of candidates is:\n",
      "482051\n",
      "----------------------------------\n",
      "The number of candidates after the cut is:\n",
      "469748\n",
      "----------------------------------\n",
      "The efficiency of the cut is:\n",
      "0.9744778042157365\n",
      "INFO: Finish Calculation\n",
      "INFO: Starting to test cut BDTresponse_wrongPV>3.8141025641025643\n",
      "INFO: Call CandidateSelectionGrimReaper\n",
      "Wait for GrimReaper\n",
      "GrimReaper hopefully finished\n",
      "INFO: Read selected data\n",
      "INFO: Start Calculation\n",
      "The inital number of candidates is:\n",
      "482051\n",
      "----------------------------------\n",
      "The number of candidates after the cut is:\n",
      "469230\n",
      "----------------------------------\n",
      "The efficiency of the cut is:\n",
      "0.9734032291189106\n",
      "INFO: Finish Calculation\n",
      "INFO: Starting to test cut BDTresponse_wrongPV>3.8230769230769233\n",
      "INFO: Call CandidateSelectionGrimReaper\n",
      "Wait for GrimReaper\n",
      "GrimReaper hopefully finished\n",
      "INFO: Read selected data\n",
      "INFO: Start Calculation\n",
      "The inital number of candidates is:\n",
      "482051\n",
      "----------------------------------\n",
      "The number of candidates after the cut is:\n",
      "468760\n",
      "----------------------------------\n",
      "The efficiency of the cut is:\n",
      "0.9724282285484316\n",
      "INFO: Finish Calculation\n",
      "INFO: Starting to test cut BDTresponse_wrongPV>3.832051282051282\n",
      "INFO: Call CandidateSelectionGrimReaper\n",
      "Wait for GrimReaper\n",
      "GrimReaper hopefully finished\n",
      "INFO: Read selected data\n",
      "INFO: Start Calculation\n",
      "The inital number of candidates is:\n",
      "482051\n",
      "----------------------------------\n",
      "The number of candidates after the cut is:\n",
      "468425\n",
      "----------------------------------\n",
      "The efficiency of the cut is:\n",
      "0.971733281333303\n",
      "INFO: Finish Calculation\n",
      "INFO: Starting to test cut BDTresponse_wrongPV>3.841025641025641\n",
      "INFO: Call CandidateSelectionGrimReaper\n",
      "Wait for GrimReaper\n",
      "GrimReaper hopefully finished\n",
      "INFO: Read selected data\n",
      "INFO: Start Calculation\n",
      "The inital number of candidates is:\n",
      "482051\n",
      "----------------------------------\n",
      "The number of candidates after the cut is:\n",
      "468295\n",
      "----------------------------------\n",
      "The efficiency of the cut is:\n",
      "0.971463600324447\n",
      "INFO: Finish Calculation\n",
      "INFO: Starting to test cut BDTresponse_wrongPV>3.85\n",
      "INFO: Call CandidateSelectionGrimReaper\n",
      "Wait for GrimReaper\n",
      "GrimReaper hopefully finished\n",
      "INFO: Read selected data\n",
      "INFO: Start Calculation\n",
      "The inital number of candidates is:\n",
      "482051\n",
      "----------------------------------\n",
      "The number of candidates after the cut is:\n",
      "468047\n",
      "----------------------------------\n",
      "The efficiency of the cut is:\n",
      "0.9709491319383219\n",
      "INFO: Finish Calculation\n"
     ]
    }
   ],
   "source": [
    "for cut in cuts:\n",
    "    print('INFO: Starting to test cut ' + '{0}>{1}'.format(cuttype,cut), flush=True)\n",
    "    data_fit_cut = signal_dataframe_wrongPV.query('{0}>{1}'.format(cuttype,cut)) \n",
    "    best_pv = signal_dataframe_wrongPV.query('{0}>{1}'.format(cuttype,cut)).query('idxPV==0')\n",
    "    data_fit_cut.to_root('/fhgfs/users/chasenberg/mc/2015_2016_merged/jpsimumuks/interim.root',key=tree_mc)\n",
    "    print('INFO: Call CandidateSelectionGrimReaper', flush=True)\n",
    "    my_env = os.environ.copy()\n",
    "    my_env['PATH'] = '/usr/local/bin:/bin:/usr/bin:/usr/local/sbin:/usr/sbin:/sbin:/home/chasenberg/bin'\n",
    "    my_env['LD_LIBRARY_PATH'] = '/usr/local/lib'\n",
    "    my_env['script'] = '/home/chasenberg/repos/b2cc_sin2beta_run2/notebooks/selection'\n",
    "    my_command = 'source /lhcbsoft/LHCbSoftwareSetup.sh &&' \\\n",
    "             'lb-run DaVinci/v41r2 $BASH -c \"' \\\n",
    "             'echo $PATH && ' \\\n",
    "             'source /doosoft/InstallDooSoftware/LoadDooSoftware && CandidateSelectionGrimReaper /fhgfs/users/chasenberg/mc/2015_2016_merged/jpsimumuks/interim.root Bd2JpsiKS /fhgfs/users/chasenberg/mc/2015_2016_merged/jpsimumuks/interim.root Bd2JpsiKS \"idxRandom\"\"'                     \n",
    "    subprocess.Popen([my_command], env=my_env, shell=True)\n",
    "   # subprocess.call(('bash /home/chasenberg/repos/b2cc_sin2beta_run2/notebooks/selection/random_sel.sh'),shell=True)                      \n",
    "    print(\"Wait for GrimReaper\")\n",
    "    time.sleep(150.0)    # pause 5.5 seconds\n",
    "    print(\"GrimReaper hopefully finished\")\n",
    "    print('INFO: Read selected data', flush=True)\n",
    "    data_fit_cut = rp.read_root('/fhgfs/users/chasenberg/mc/2015_2016_merged/jpsimumuks/interim.root',key=tree_mc)\n",
    "    \n",
    "    print('INFO: Start Calculation', flush=True)\n",
    "    #print('INFO: Building Ipatia (signal) + Exp (combinatorics) + Ipatia (bs-component) model for data', flush=True) \n",
    "    #final_model = build_mass_model(B0_FitDaughtersConst_M)\n",
    "    sig_yields_cut = data_fit_cut.shape[0] \n",
    "    efficiency = sig_yields_cut / sig_yields_init\n",
    "    print(\"The inital number of candidates is:\")\n",
    "    print(sig_yields_init)\n",
    "    print(\"----------------------------------\")\n",
    "    print(\"The number of candidates after the cut is:\")\n",
    "    print(sig_yields_cut)\n",
    "    print(\"----------------------------------\")\n",
    "    print(\"The efficiency of the cut is:\")\n",
    "    print(efficiency)\n",
    "    cut_to_shape[cut] = {} \n",
    "    cut_to_performance[cut] = {}\n",
    "    \n",
    "    \n",
    "    foms = calculate_foms(data_fit_cut,best_pv)\n",
    "    cut_to_performance[cut].update(foms)\n",
    "    \n",
    "    print('INFO: Finish Calculation', flush=True)"
   ]
  },
  {
   "cell_type": "code",
   "execution_count": 19,
   "metadata": {
    "collapsed": false
   },
   "outputs": [],
   "source": [
    "import numpy as np\n",
    "\n",
    "def unpack_cut_dict(cut_dict, normalize=True):\n",
    "    cuts = np.array(list(cut_dict.keys()))\n",
    "    cuts.sort()\n",
    "    \n",
    "    new_dict = {}\n",
    "    for cut in cuts:\n",
    "        parameters_dict = cut_dict[cut]\n",
    "        for parameter, value in parameters_dict.items():\n",
    "            if parameter in new_dict:\n",
    "                new_dict[parameter].append(value)\n",
    "            else:\n",
    "                new_dict[parameter] = [value]\n",
    "    \n",
    "    for parameter, values in new_dict.items():\n",
    "        new_dict[parameter] = np.array(values)\n",
    "        if normalize:\n",
    "            new_dict[parameter] = values/np.max(np.abs(values))\n",
    "    \n",
    "    return cuts, new_dict\n",
    "\n",
    "x, ys = unpack_cut_dict(cut_to_performance)\n",
    "for parameter, values in ys.items():\n",
    "    if \"value\" in parameter:\n",
    "        print(values)\n",
    "        y_errlo = np.array(ys[parameter.replace(\"_value\",\"_errlo\")])\n",
    "        y_errhi = np.array(ys[parameter.replace(\"_value\",\"_errhi\")])\n",
    "        y_errors= abs(np.vstack([y_errlo,y_errhi]))\n",
    "        plt.errorbar(x,values,yerr=y_errors,marker='.',linestyle='', label='sigma')\n",
    "        plt.xlabel(parameter)\n",
    "        plotname = parameter + '.pdf'\n",
    "        singleplot_file = os.path.join(plot_dir, plotname)\n",
    "        plt.savefig(singleplot_file)\n",
    "        plt.show()"
   ]
  },
  {
   "cell_type": "markdown",
   "metadata": {},
   "source": [
    "### Plot FOMs"
   ]
  },
  {
   "cell_type": "code",
   "execution_count": 20,
   "metadata": {
    "collapsed": false
   },
   "outputs": [
    {
     "data": {
      "text/plain": [
       "\"\\ntest['TimeresPower'] = np.array(ys['TimeresPower_bdt'])\\ntest['TimeresPower_poisson'] = test['TimeresPower'] / test['error']\\ntest['TimeresPower_bestPV'] = np.array(ys['TimeresPower_bestPV'])\\ntest['Efficiency'] = np.array(ys['Efficiency'])\""
      ]
     },
     "execution_count": 20,
     "metadata": {},
     "output_type": "execute_result"
    }
   ],
   "source": [
    "'''\n",
    "test['TimeresPower'] = np.array(ys['TimeresPower_bdt'])\n",
    "test['TimeresPower_poisson'] = test['TimeresPower'] / test['error']\n",
    "test['TimeresPower_bestPV'] = np.array(ys['TimeresPower_bestPV'])\n",
    "test['Efficiency'] = np.array(ys['Efficiency'])'''"
   ]
  },
  {
   "cell_type": "code",
   "execution_count": 21,
   "metadata": {
    "collapsed": false
   },
   "outputs": [],
   "source": [
    "df_bdt = pd.DataFrame()\n",
    "df_bdt['dilution_bdt_bestpv'] = np.array(ys['dilution_bdt_bestpv'])\n",
    "df_bdt['dilution_bdt_random'] = np.array(ys['dilution_bdt_random'])\n",
    "df_bdt['efficiency_bdt_bestpv'] = np.array(ys['efficiency_bdt_bestpv'])\n",
    "df_bdt['efficiency_bdt_random'] = np.array(ys['efficiency_bdt_random'])\n",
    "df_bdt['bdt_random_poisson'] = np.array(ys['bdt_random_poisson'])\n",
    "df_bdt['bdt_bestpv_poisson'] = np.array(ys['bdt_bestpv_poisson'])\n",
    "df_bdt['dilution_bdt_random_poisson'] = df_bdt['dilution_bdt_random'] / df_bdt['bdt_random_poisson']\n",
    "df_bdt['dilution_bdt_bestpv_poisson'] = df_bdt.dilution_bdt_bestpv / df_bdt.bdt_bestpv_poisson"
   ]
  },
  {
   "cell_type": "markdown",
   "metadata": {},
   "source": [
    "### Get similiar efficiencies for both approaches"
   ]
  },
  {
   "cell_type": "markdown",
   "metadata": {},
   "source": [
    "#### Import dataframe "
   ]
  },
  {
   "cell_type": "code",
   "execution_count": 22,
   "metadata": {
    "collapsed": false
   },
   "outputs": [],
   "source": [
    "df_minipchi2 = pd.read_csv('/home/chasenberg/plots/csv_data/minipchi2.csv')\n"
   ]
  },
  {
   "cell_type": "code",
   "execution_count": 23,
   "metadata": {
    "collapsed": false
   },
   "outputs": [
    {
     "data": {
      "text/plain": [
       "((40, 9), (40, 8))"
      ]
     },
     "execution_count": 23,
     "metadata": {},
     "output_type": "execute_result"
    }
   ],
   "source": [
    "df_minipchi2.shape,df_bdt.shape"
   ]
  },
  {
   "cell_type": "markdown",
   "metadata": {},
   "source": [
    "### Normalize both dataframes"
   ]
  },
  {
   "cell_type": "code",
   "execution_count": 24,
   "metadata": {
    "collapsed": false
   },
   "outputs": [],
   "source": [
    "normalize = True\n",
    "if normalize==True:    \n",
    "    params_bdt = list(df_bdt.columns)\n",
    "    params_minipchi2 = list(df_minipchi2.columns)\n",
    "    for param in params_bdt:\n",
    "        param = str(param)\n",
    "        df_bdt[param] = df_bdt[param] / df_bdt[param].max()\n",
    "    for param in params_minipchi2:\n",
    "        param = str(param)\n",
    "        df_minipchi2[param] = df_minipchi2[param] / df_minipchi2[param].max()"
   ]
  },
  {
   "cell_type": "markdown",
   "metadata": {},
   "source": [
    "### Merge both dataframes"
   ]
  },
  {
   "cell_type": "code",
   "execution_count": 25,
   "metadata": {
    "collapsed": true
   },
   "outputs": [],
   "source": [
    "df_all = pd.concat([df_minipchi2,df_bdt], axis=1)"
   ]
  },
  {
   "cell_type": "markdown",
   "metadata": {},
   "source": [
    "### Compare BDT approach vs. MinIPCHI2"
   ]
  },
  {
   "cell_type": "code",
   "execution_count": 26,
   "metadata": {
    "collapsed": false
   },
   "outputs": [
    {
     "data": {
      "text/plain": [
       "(0.99535069730050318, 0.99958314682816185)"
      ]
     },
     "execution_count": 26,
     "metadata": {},
     "output_type": "execute_result"
    }
   ],
   "source": [
    "df_all.dilution_minipchi2_random.min(),df_all.dilution_bdt_random.min()"
   ]
  },
  {
   "cell_type": "code",
   "execution_count": 27,
   "metadata": {
    "collapsed": false,
    "scrolled": true
   },
   "outputs": [
    {
     "data": {
      "image/png": "[encoded data removed]",
      "text/plain": [
       "<matplotlib.figure.Figure at 0x7fbeee69f630>"
      ]
     },
     "metadata": {},
     "output_type": "display_data"
    }
   ],
   "source": [
    "import seaborn as sns; sns.set_style('white')\n",
    "plt.title(\"\")\n",
    "plt.xlabel(\"\")\n",
    "plt.ylabel(\"\")\n",
    "\n",
    "plot_3 = sns.regplot(x='efficiency_minipchi2_random', y='dilution_minipchi2_random',data=df_all,marker='s',x_estimator=np.mean,fit_reg=False,label=\"MinIPCHI2 approach\") \n",
    "plot_2 = sns.regplot(x='efficiency_bdt_random', y='dilution_bdt_random',data=df_all,x_estimator=np.mean,marker='v',color='red',fit_reg=False,label=\"BDT approach\")\n",
    "plot_2.legend(loc=\"best\")\n",
    "plt.savefig(\"/home/chasenberg/plots/wrong_pv/timres_eff_bdt_vs_chi2.pdf\")"
   ]
  },
  {
   "cell_type": "markdown",
   "metadata": {},
   "source": [
    "### Weight with Poisson error"
   ]
  },
  {
   "cell_type": "code",
   "execution_count": 28,
   "metadata": {
    "collapsed": false,
    "scrolled": true
   },
   "outputs": [
    {
     "data": {
      "image/png": "[encoded data removed]",
      "text/plain": [
       "<matplotlib.figure.Figure at 0x7fbeee69f390>"
      ]
     },
     "metadata": {},
     "output_type": "display_data"
    }
   ],
   "source": [
    "plt.title(\"\")\n",
    "plt.xlabel(\"\")\n",
    "plt.ylabel(\"\")\n",
    "\n",
    "#plot_1 = sns.regplot(x='Efficiency', y='TimeresPower',data=test_cut,x_estimator=np.mean,fit_reg=True,label=\"BDT approach\") \n",
    "#plot_2 = sns.regplot(x='Efficiency', y='error',data=test_cut,x_estimator=np.mean,fit_reg=True,label=\"Poisson error\")\n",
    "plot_3 = sns.regplot(x='efficiency_minipchi2_random', y='dilution_minipchi2_random_poisson',data=df_all,marker='s',x_estimator=np.mean,fit_reg=False,label=\"MinIPCHI2 approach - poisson\") \n",
    "plot_2 = sns.regplot(x='efficiency_bdt_bestpv', y='dilution_bdt_random_poisson',data=df_all,marker='v',color='red',x_estimator=np.mean,fit_reg=False,label=\"BDT approach - poisson\")\n",
    "\n",
    " \n",
    "plot_2.legend(loc=\"best\")\n",
    "plt.savefig(\"/home/chasenberg/plots/wrong_pv/timres_eff_bdt_vs_chi2_poisson.pdf\")"
   ]
  },
  {
   "cell_type": "code",
   "execution_count": 29,
   "metadata": {
    "collapsed": false
   },
   "outputs": [
    {
     "data": {
      "image/png": "[encoded data removed]",
      "text/plain": [
       "<matplotlib.figure.Figure at 0x7fbe9bf3be80>"
      ]
     },
     "metadata": {},
     "output_type": "display_data"
    }
   ],
   "source": [
    "plt.title(\"\")\n",
    "plt.xlabel(\"\")\n",
    "plt.ylabel(\"\")\n",
    "\n",
    "plot_3 = sns.regplot(x='efficiency_minipchi2_random', y='dilution_minipchi2_bestpv',data=df_minipchi2,x_estimator=np.mean,fit_reg=False,label=\"MinIPCHI2 approach\") \n",
    "plot_2 = sns.regplot(x='efficiency_bdt_random', y='dilution_bdt_bestpv',data=df_bdt,x_estimator=np.mean,fit_reg=False,marker='v',color='red',label=\"BDT approach\")\n",
    "plot_2.legend(loc=\"best\")\n",
    "plt.savefig(\"/home/chasenberg/plots/wrong_pv/timres_eff_bdt_vs_chi2_bestpv.pdf\")"
   ]
  },
  {
   "cell_type": "code",
   "execution_count": 30,
   "metadata": {
    "collapsed": false
   },
   "outputs": [
    {
     "data": {
      "image/png": "[encoded data removed]",
      "text/plain": [
       "<matplotlib.figure.Figure at 0x7fbee887f7b8>"
      ]
     },
     "metadata": {},
     "output_type": "display_data"
    }
   ],
   "source": [
    "plt.title(\"\")\n",
    "plt.xlabel(\"\")\n",
    "plt.ylabel(\"\")\n",
    "\n",
    "plot_3 = sns.regplot(x='efficiency_minipchi2_random', y='dilution_minipchi2_bestpv_poisson',data=df_minipchi2,x_estimator=np.mean,marker='o',fit_reg=False,label=\"MinIPCHI2 approach\") \n",
    "plot_2 = sns.regplot(x='efficiency_bdt_random', y='dilution_bdt_bestpv_poisson',data=df_bdt,x_estimator=np.mean,marker='o',color='green',fit_reg=False,label=\"BDT approach\")\n",
    "plot_2.legend(loc=\"best\")\n",
    "plt.savefig(\"/home/chasenberg/plots/wrong_pv/timres_eff_bdt_vs_chi2_bestpv_poisson.pdf\")"
   ]
  },
  {
   "cell_type": "markdown",
   "metadata": {},
   "source": [
    "### Compare BDT approach vs best PV selection"
   ]
  },
  {
   "cell_type": "code",
   "execution_count": 31,
   "metadata": {
    "collapsed": false
   },
   "outputs": [
    {
     "data": {
      "text/plain": [
       "Index(['dilution_bdt_bestpv', 'dilution_bdt_random', 'efficiency_bdt_bestpv',\n",
       "       'efficiency_bdt_random', 'bdt_random_poisson', 'bdt_bestpv_poisson',\n",
       "       'dilution_bdt_random_poisson', 'dilution_bdt_bestpv_poisson'],\n",
       "      dtype='object')"
      ]
     },
     "execution_count": 31,
     "metadata": {},
     "output_type": "execute_result"
    }
   ],
   "source": [
    "df_bdt.columns"
   ]
  },
  {
   "cell_type": "code",
   "execution_count": 32,
   "metadata": {
    "collapsed": false
   },
   "outputs": [
    {
     "data": {
      "image/png": "[encoded data removed]",
      "text/plain": [
       "<matplotlib.figure.Figure at 0x7fbee00b3390>"
      ]
     },
     "metadata": {},
     "output_type": "display_data"
    }
   ],
   "source": [
    "plt.title(\"\")\n",
    "plt.xlabel(\"\")\n",
    "plt.ylabel(\"\")\n",
    "\n",
    "plot_2 = sns.regplot(x='efficiency_bdt_random', y='dilution_bdt_bestpv',data=df_bdt,x_estimator=np.mean,marker='o', fit_reg=False,label='Best PV Selection')\n",
    "plot_1 = sns.regplot(x='efficiency_bdt_random', y='dilution_bdt_random',data=df_bdt,x_estimator=np.mean,marker='v', fit_reg=False,label='BDT PV Selection')\n",
    "plot_1.legend(loc=\"best\")\n",
    "#plot_1.set(xlim=(test['Efficiency'].min(), test['Efficiency'].max()))\n",
    "#plot_1.set(ylim=(0.9995,1.0001))\n",
    "plt.savefig(\"/home/chasenberg/plots/wrong_pv/timres_eff_bdt_bestpv_vs_random.pdf\")"
   ]
  },
  {
   "cell_type": "code",
   "execution_count": 53,
   "metadata": {
    "collapsed": false
   },
   "outputs": [
    {
     "data": {
      "image/png": "[encoded data removed]",
      "text/plain": [
       "<matplotlib.figure.Figure at 0x7fbec408e128>"
      ]
     },
     "metadata": {},
     "output_type": "display_data"
    }
   ],
   "source": [
    "plot_2 = sns.regplot(x='efficiency_bdt_bestpv', y='dilution_bdt_bestpv_poisson',data=df_bdt,x_estimator=np.mean,marker='o', fit_reg=False,label='Best PV Selection')\n",
    "plot_1 = sns.regplot(x='efficiency_bdt_random', y='dilution_bdt_random_poisson',data=df_bdt,x_estimator=np.mean,marker='v',color='green', fit_reg=False,label='Random PV Selection')\n",
    "plot_1.legend(loc=\"upper left\")\n",
    "\n",
    "if df_bdt['dilution_bdt_bestpv_poisson'].min() > df_bdt['dilution_bdt_random_poisson'].min():\n",
    "    plot_1.set(ylim=(df_bdt['dilution_bdt_bestpv_poisson'].min(), df_bdt['dilution_bdt_random_poisson'].max()+0.01))\n",
    "else:  \n",
    "    plot_1.set(ylim=(df_bdt['dilution_bdt_random_poisson'].min(), df_bdt['dilution_bdt_random_poisson'].max()+0.001))\n",
    "plot_1.set(xlim=(df_bdt['dilution_bdt_bestpv_poisson'].min(), df_bdt['dilution_bdt_bestpv_poisson'].max()+0.001))\n",
    "plot_1.set(ylim=(0.996, 1.0001))\n",
    "\n",
    "\n",
    "plt.savefig(\"/home/chasenberg/plots/wrong_pv/timres_eff_bdt_bestpv_vs_random_poisson.pdf\")"
   ]
  },
  {
   "cell_type": "code",
   "execution_count": null,
   "metadata": {
    "collapsed": true
   },
   "outputs": [],
   "source": []
  }
 ],
 "metadata": {
  "kernelspec": {
   "display_name": "Python 3",
   "language": "python",
   "name": "python3"
  },
  "language_info": {
   "codemirror_mode": {
    "name": "ipython",
    "version": 3
   },
   "file_extension": ".py",
   "mimetype": "text/x-python",
   "name": "python",
   "nbconvert_exporter": "python",
   "pygments_lexer": "ipython3",
   "version": "3.4.4"
  }
 },
 "nbformat": 4,
 "nbformat_minor": 0
}
