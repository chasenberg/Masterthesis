{
 "cells": [
  {
   "cell_type": "code",
   "execution_count": 1,
   "metadata": {
    "collapsed": true
   },
   "outputs": [],
   "source": [
    "import ROOT\n",
    "from ROOT import gROOT, TCanvas, TF1, TFile, TTree, gRandom, TH1F\n",
    "\n",
    "from ROOT import RooRealVar, RooFormulaVar, RooVoigtian, RooChebychev, RooArgList, \\\n",
    "                 RooArgSet, RooAddPdf, RooDataSet, RooCategory, RooSimultaneous, \\\n",
    "                 RooBreitWigner, RooCBShape, RooFFTConvPdf, RooGaussian,RooExponential, \\\n",
    "                 RooBinning, kRed, kBlue, kDotted,TString,RooAbsData, RooPlot, TCut, RooAbsData, RooFit , RooStats               "
   ]
  },
  {
   "cell_type": "code",
   "execution_count": 2,
   "metadata": {
    "collapsed": false
   },
   "outputs": [
    {
     "name": "stderr",
     "output_type": "stream",
     "text": [
      "/opt/rh/miniconda/envs/py3root6/lib/python3.4/site-packages/sklearn/cross_validation.py:44: DeprecationWarning: This module was deprecated in version 0.18 in favor of the model_selection module into which all the refactored classes and functions are moved. Also note that the interface of the new CV iterators are different from that of this module. This module will be removed in 0.20.\n",
      "  \"This module will be removed in 0.20.\", DeprecationWarning)\n"
     ]
    }
   ],
   "source": [
    "import sys\n",
    "sys.path.append('/home/chasenberg/repos/')\n",
    "from dopy.dolearn.sklearn_utils import plot_roc_curve, plot_classifier_output, plot_correlations"
   ]
  },
  {
   "cell_type": "code",
   "execution_count": 3,
   "metadata": {
    "collapsed": false
   },
   "outputs": [],
   "source": [
    "%matplotlib inline\n",
    "%reload_ext autoreload\n",
    "%autoreload 2\n",
    "\n",
    "import os, sys, time, random\n",
    "import ROOT \n",
    "from ROOT import TTree, TFile\n",
    "\n",
    "# from root_numpy import root2array, rec2array, array2root\n",
    "\n",
    "import pandas as pd\n",
    "import numpy as np\n",
    "import scipy \n",
    "import root_pandas as rp\n",
    "import root_numpy as ry \n",
    "\n",
    "import pandas.core.common as com\n",
    "from pandas.core.index import Index\n",
    "from pandas.tools import plotting\n",
    "from pandas.tools.plotting import scatter_matrix\n",
    "\n",
    "from tqdm import tqdm_notebook\n",
    "\n",
    "import numpy as np\n",
    "import matplotlib as mpl\n",
    "import matplotlib.pyplot as plt\n",
    "from matplotlib.backends.backend_pdf import PdfPages\n",
    "\n",
    "from sklearn import datasets\n",
    "from sklearn.tree import DecisionTreeClassifier\n",
    "from sklearn.ensemble import AdaBoostClassifier, GradientBoostingClassifier\n",
    "from sklearn.cross_validation import train_test_split\n",
    "from sklearn.preprocessing import Imputer, StandardScaler\n",
    "from sklearn.externals import joblib\n",
    "from sklearn.metrics import classification_report, roc_curve, auc, roc_auc_score\n",
    "\n",
    "sys.path.append('/home/chasenberg/repos/')\n",
    "sys.path.append('/home/chasenberg/repos/dopy')\n",
    "from dopy import * \n",
    "from dopy.dolearn.sklearn_utils import plot_roc_curve, plot_classifier_output, plot_correlations\n",
    "from dopy.dolearn.sklearn_utils import plot_feature_importances, plot_classifier_output, classify_unseen_data\n",
    "#from dopy.sklearn_utils import plot_bdt_vars\n",
    "from dopy.doplot.plotting import Plotter, Plot\n",
    "from dopy.doanalysis.df_utils import add_min_max, add_eta "
   ]
  },
  {
   "cell_type": "markdown",
   "metadata": {},
   "source": [
    "Declare data directories and read files\n",
    "--------------------------------------"
   ]
  },
  {
   "cell_type": "code",
   "execution_count": 4,
   "metadata": {
    "collapsed": false
   },
   "outputs": [],
   "source": [
    "#directories and files \n",
    "mc_dir = '/fhgfs/users/chasenberg/mc/2015_2016_merged/jpsimumuks/'\n",
    "mc_file= 'Bd2JpsiKS_random.root'\n",
    "mc_dir = os.path.join(mc_dir, mc_file)\n",
    "data_dir = '/fhgfs/users/chasenberg/data/2015_2016_merged/jpsimumuks/'\n",
    "data_file= 'Bd2JpsiKS_bestPV_sw.root'\n",
    "data_dir = os.path.join(data_dir, data_file)"
   ]
  },
  {
   "cell_type": "code",
   "execution_count": 5,
   "metadata": {
    "collapsed": false
   },
   "outputs": [],
   "source": [
    "#Treename and cut for data\n",
    "tree_data = 'Bd2JpsiKS'\n",
    "cut_string_data = 'B0_FitDaughtersConst_M_flat<5450&B0_FitDaughtersConst_M_flat>5200'\n",
    "#criteria and information for read in mc\n",
    "cut_string_mc = 'B0_FitDaughtersConst_M_flat<5450&B0_FitDaughtersConst_M_flat>5200'\n",
    "tree_mc = 'Bd2JpsiKS'"
   ]
  },
  {
   "cell_type": "markdown",
   "metadata": {},
   "source": [
    "Load data from ROOT files\n",
    "-------------------------------------------------------"
   ]
  },
  {
   "cell_type": "code",
   "execution_count": 6,
   "metadata": {
    "collapsed": false
   },
   "outputs": [],
   "source": [
    "signal_dataframe_wrongPV  = rp.read_root(mc_dir,key=tree_mc,where=cut_string_mc, flatten=False)\n",
    "signal_dataframe_wrongPV  = signal_dataframe_wrongPV.replace([np.inf, -np.inf], np.nan)\n",
    "signal_dataframe_wrongPV  = signal_dataframe_wrongPV.dropna()"
   ]
  },
  {
   "cell_type": "code",
   "execution_count": 7,
   "metadata": {
    "collapsed": false
   },
   "outputs": [],
   "source": [
    "real_dataframe_wrongPV = rp.read_root(data_dir,key=tree_data,where=cut_string_data, flatten=False)\n",
    "real_dataframe_wrongPV = real_dataframe_wrongPV.replace([np.inf, -np.inf], np.nan)\n",
    "real_dataframe_wrongPV = real_dataframe_wrongPV.dropna()\n",
    "#real_dataframe_wrongPV = pd.concat([real_dataframe_wrongPV_2015])'''"
   ]
  },
  {
   "cell_type": "markdown",
   "metadata": {},
   "source": [
    "## Plot control variable \"pz_pull\"\n"
   ]
  },
  {
   "cell_type": "code",
   "execution_count": 11,
   "metadata": {
    "collapsed": false
   },
   "outputs": [
    {
     "name": "stdout",
     "output_type": "stream",
     "text": [
      "WARNING: Range for plot pv_z_pull has been manually set with range_part_of_selection=False.\n",
      "WARNING: Efficiencies are calculated against the full complete dataset.\n"
     ]
    },
    {
     "data": {
      "image/png": "[encoded data removed]",
      "text/plain": [
       "<matplotlib.figure.Figure at 0x7f74a8a4ecf8>"
      ]
     },
     "metadata": {},
     "output_type": "display_data"
    }
   ],
   "source": [
    "plot_var = ['pv_z_pull']\n",
    "plot_names = plot_var\n",
    "\n",
    "plotter = Plotter('/home/chasenberg/plots/wrong_pv/')\n",
    "plotter.create_plots(signal_dataframe_wrongPV, plot_var)\n",
    "plotter['pv_z_pull'].set_range(-40,40)#-5000,2000\n",
    "#plotter['pv_z_pull'].set_log_y()\n",
    "plotter.plot()"
   ]
  },
  {
   "cell_type": "code",
   "execution_count": 15,
   "metadata": {
    "collapsed": false
   },
   "outputs": [],
   "source": [
    "#Rescale Delta_tau\n",
    "signal_dataframe_wrongPV['pv_z_pull_rescaled'] = signal_dataframe_wrongPV['pv_z_pull'] / np.linalg.norm(signal_dataframe_wrongPV['pv_z_pull'])\n",
    "signal_dataframe_wrongPV['Delta_TAU_rescaled'] = 1000 * signal_dataframe_wrongPV['Delta_TAU'] / np.linalg.norm(signal_dataframe_wrongPV['Delta_TAU'])\n"
   ]
  },
  {
   "cell_type": "code",
   "execution_count": null,
   "metadata": {
    "collapsed": false
   },
   "outputs": [],
   "source": [
    "import numpy as np\n",
    "from sklearn.preprocessing import normalize\n",
    "\n",
    "x = np.random.rand(1000)*10\n",
    "norm1 = x / np.linalg.norm(x)\n",
    "norm2 = normalize(x[:,np.newaxis], axis=0).ravel()\n",
    "print( np.all(norm1 == norm2))\n",
    "print(norm1)"
   ]
  },
  {
   "cell_type": "markdown",
   "metadata": {},
   "source": [
    "## Plot correlation of pv_z_pull and delta_tau"
   ]
  },
  {
   "cell_type": "code",
   "execution_count": 16,
   "metadata": {
    "collapsed": false
   },
   "outputs": [
    {
     "name": "stdout",
     "output_type": "stream",
     "text": [
      "WARNING: Range for plot stuff has been manually set with range_part_of_selection=False.\n",
      "WARNING: Efficiencies are calculated against the full complete dataset.\n"
     ]
    },
    {
     "data": {
      "image/png": "[encoded data removed]",
      "text/plain": [
       "<matplotlib.figure.Figure at 0x7f7492e4bda0>"
      ]
     },
     "metadata": {},
     "output_type": "display_data"
    }
   ],
   "source": [
    "plot_var = ['stuff']\n",
    "plot_names = plot_var\n",
    "\n",
    "test1 = pd.DataFrame()\n",
    "test2 = pd.DataFrame()\n",
    "test1['stuff'] = signal_dataframe_wrongPV['Delta_TAU_rescaled']\n",
    "test2['stuff'] = signal_dataframe_wrongPV['pv_z_pull_rescaled']\n",
    "df = [test1,test2]\n",
    "plotter = Plotter('/home/chasenberg/plots/wrong_pv/')\n",
    "plotter.create_plots([test1,test2], plot_var,component_labels=['Delta_TAU','pv_z_pull'])\n",
    "plotter['stuff'].set_range(-0.0004,0.0004)#-5000,2000\n",
    "#plotter['pv_z_pull'].set_log_y()\n",
    "plotter.plot()"
   ]
  },
  {
   "cell_type": "code",
   "execution_count": 56,
   "metadata": {
    "collapsed": false
   },
   "outputs": [
    {
     "data": {
      "image/png": "[encoded data removed]",
      "text/plain": [
       "<matplotlib.figure.Figure at 0x7f748ad8f080>"
      ]
     },
     "metadata": {},
     "output_type": "display_data"
    },
    {
     "data": {
      "image/png": "[encoded data removed]",
      "text/plain": [
       "<matplotlib.figure.Figure at 0x7f748b0a8198>"
      ]
     },
     "metadata": {},
     "output_type": "display_data"
    }
   ],
   "source": [
    "import numpy as np\n",
    "import matplotlib.pyplot as plt\n",
    "from scipy.stats import gaussian_kde\n",
    "from matplotlib.ticker import NullFormatter\n",
    "import seaborn as sns\n",
    "\n",
    "test = signal_dataframe_wrongPV.query('abs(Delta_TAU_rescaled)<0.0004&abs(pv_z_pull_rescaled)<0.0004').sample(1000)\n",
    "# the random data\n",
    "x =  pd.Series(test['Delta_TAU_rescaled'], name=\"\\sigma_t\")\n",
    "y = pd.Series(test['pv_z_pull_rescaled'], name=\"pv_z\") \n",
    "\n",
    "nullfmt = NullFormatter()         # no labels\n",
    "\n",
    "# definitions for the axes\n",
    "left, width = 0.02, 0.65\n",
    "bottom, height = 0.0002, 0.65\n",
    "bottom_h = left_h = left + width + 0.02\n",
    "\n",
    "rect_scatter = [left, bottom, width, height]\n",
    "rect_histx = [left, bottom_h, width, 0.2]\n",
    "rect_histy = [left_h, bottom, 0.2, height]\n",
    "\n",
    "# start with a rectangular Figure\n",
    "plt.figure(1, figsize=(8, 8))\n",
    "\n",
    "axScatter = plt.axes(rect_scatter)\n",
    "axHistx = plt.axes(rect_histx)\n",
    "axHisty = plt.axes(rect_histy)\n",
    "\n",
    "# no labels\n",
    "axHistx.xaxis.set_major_formatter(nullfmt)\n",
    "axHisty.yaxis.set_major_formatter(nullfmt)\n",
    "\n",
    "# the scatter plot:\n",
    "# Calculate the point density\n",
    "xy = np.vstack([x,y])\n",
    "z = gaussian_kde(xy)(xy)\n",
    "\n",
    "fig, ax = plt.subplots()\n",
    "axScatter.scatter(x, y, c=z, s=100, edgecolor='')\n",
    "#sns.kdeplot(x, y, shade=True,cbar='coolwarm')\n",
    "\n",
    "# now determine nice limits by hand:\n",
    "binwidth = 0.00004\n",
    "\n",
    "xymax = np.max([np.max(np.fabs(x)), np.max(np.fabs(y))])\n",
    "lim = (int(xymax/binwidth) + 1) * binwidth\n",
    "\n",
    "axScatter.set_xlim((-lim, lim))\n",
    "axScatter.set_ylim((-lim, lim))\n",
    "\n",
    "bins = np.arange(-lim, lim + binwidth, binwidth)\n",
    "axHistx.hist(x, bins=bins)\n",
    "axHisty.hist(y, bins=bins, orientation='horizontal')\n",
    "\n",
    "axHistx.set_xlim(axScatter.get_xlim())\n",
    "axHisty.set_ylim(axScatter.get_ylim())\n",
    "\n",
    "plt.show()"
   ]
  },
  {
   "cell_type": "code",
   "execution_count": 58,
   "metadata": {
    "collapsed": false
   },
   "outputs": [
    {
     "data": {
      "text/plain": [
       "<matplotlib.text.Text at 0x7f748ac72550>"
      ]
     },
     "execution_count": 58,
     "metadata": {},
     "output_type": "execute_result"
    },
    {
     "data": {
      "image/png": "[encoded data removed]",
      "text/plain": [
       "<matplotlib.figure.Figure at 0x7f748aea3cc0>"
      ]
     },
     "metadata": {},
     "output_type": "display_data"
    }
   ],
   "source": [
    "import seaborn as sns; sns.set_style('white')\n",
    "\n",
    "\n",
    "#fig = plt.figure(1)\n",
    "\n",
    "g = sns.jointplot(x='Delta_TAU_rescaled', y='pv_z_pull_rescaled', ylabel='PDF' ,data=test,stat_func=None,space=0.05, kind=\"kde\", color=\"r\")\n",
    "#plt.set(xlabel=r'$e(t_0)$ [s]', ylabel='PDF')\n",
    "#plt.xlabel(r'$e(t_0)$', fontsize=15)\n",
    "plt.rc(\"legend\", fontsize=15)\n",
    "plt.xlabel('Longitude', fontsize=15)\n",
    "plt.ylabel('Latitude', fontsize=15)\n",
    "#fig.gca().set(xlabel=r'$e(t_0)$ [s]', ylabel='PDF')"
   ]
  },
  {
   "cell_type": "code",
   "execution_count": null,
   "metadata": {
    "collapsed": true
   },
   "outputs": [],
   "source": []
  },
  {
   "cell_type": "markdown",
   "metadata": {},
   "source": [
    "Declare bdt features and correlation matrix  \n",
    "---------------------------------------------------------------------------------"
   ]
  },
  {
   "cell_type": "code",
   "execution_count": null,
   "metadata": {
    "collapsed": false
   },
   "outputs": [],
   "source": [
    "bdt_features = [  \n",
    "       'B0_FitPVConst_IPCHI2_flat', \n",
    "       'B0_FitPVConst_chi2_flat',\n",
    "       'B0_FitPVConst_MinIPCHI2anyPV_flat',\n",
    "       #'B0_FitPVConst_J_psi_1S_MinIPCHI2anyPV_flat',\n",
    "       'B0_FitPVConst_J_psi_1S_IPCHI2_flat',\n",
    "       #'B0_FitPVConst_KS0_IPCHI2_flat',\n",
    "       #'B0_FitPVConst_KS0_MinIPCHI2anyPV_flat',\n",
    "       'B0_FitDaughtersConst_KS0_IP_flat',\n",
    "       'muminus_MINIPCHI2',\n",
    "       'muplus_MINIPCHI2', \n",
    "       'B0_FitPVConst_PV_Z_flat',  \n",
    "      # 'B0_FitPVConst_Z_flat',\n",
    "       'B0_FitDaughtersConst_J_psi_1S_min_PT'\n",
    "]"
   ]
  },
  {
   "cell_type": "code",
   "execution_count": null,
   "metadata": {
    "collapsed": false
   },
   "outputs": [],
   "source": [
    "plt.figure(figsize=(12,8))\n",
    "plot_correlations(signal_dataframe_wrongPV[bdt_features], annot=True, fmt='.2f')\n",
    "plt.savefig('/home/chasenberg/plots/wrong_pv/correlation_data.png')\n",
    "plt.show()\n",
    "plt.figure(figsize=(12,8))\n",
    "'''plot_correlations(signal_dataframe_wrongPV[bdt_features], annot=True, fmt='.2f')\n",
    "plt.savefig('/home/chasenberg/plots/wrong_pv/correlation_mc.png')\n",
    "plt.show()\n",
    "print('Done!')'''"
   ]
  },
  {
   "cell_type": "markdown",
   "metadata": {},
   "source": [
    "Plot sWeighted BDT variables against MC\n",
    "----------------------------------------------------------------------------------"
   ]
  },
  {
   "cell_type": "code",
   "execution_count": null,
   "metadata": {
    "collapsed": false
   },
   "outputs": [],
   "source": [
    "variables = real_dataframe_wrongPV.columns.tolist().remove('signal_sw')"
   ]
  },
  {
   "cell_type": "code",
   "execution_count": null,
   "metadata": {
    "collapsed": false
   },
   "outputs": [],
   "source": [
    "real_dataframe_wrongPV.columns"
   ]
  },
  {
   "cell_type": "markdown",
   "metadata": {},
   "source": [
    "## sWeighted data against mc"
   ]
  },
  {
   "cell_type": "code",
   "execution_count": null,
   "metadata": {
    "collapsed": false
   },
   "outputs": [],
   "source": [
    "for feature in bdt_features:\n",
    "    print(feature)"
   ]
  },
  {
   "cell_type": "code",
   "execution_count": null,
   "metadata": {
    "collapsed": false
   },
   "outputs": [],
   "source": [
    "#Check bdt-variables \n",
    "mc_weight = np.ones(signal_dataframe_wrongPV.shape[0])\n",
    "signal_dataframe_wrongPV['mc_weight'] = mc_weight\n",
    "\n",
    "for feature in bdt_features:\n",
    "    plotter = Plotter('/home/chasenberg/plots/wrong_pv/mc_agreement/')\n",
    "    plotter.create_plots([real_dataframe_wrongPV,signal_dataframe_wrongPV], bdt_features, weightvars=['signal_sw','mc_weight']\n",
    "    ,component_labels=['sWeighted data','Signal-MC'])\n",
    "    plotter[feature].set_range(0,real_dataframe_wrongPV[feature].quantile(0.95))\n",
    "    #plotter[feature].set_range(0,20)\n",
    "    plotter.plot()"
   ]
  },
  {
   "cell_type": "markdown",
   "metadata": {},
   "source": [
    "Train GradienBoost classifier\n",
    "===================================================================="
   ]
  },
  {
   "cell_type": "code",
   "execution_count": null,
   "metadata": {
    "collapsed": false
   },
   "outputs": [],
   "source": [
    "correct_pvs = signal_dataframe_wrongPV.query('abs(pv_z_pull)<20')\n",
    "incorrect_pvs = signal_dataframe_wrongPV.query('abs(pv_z_pull)>20')\n",
    "flags = np.array([1]*len(correct_pvs)+[0]*len(incorrect_pvs))\n",
    "dataframe = pd.concat([correct_pvs,incorrect_pvs])"
   ]
  },
  {
   "cell_type": "code",
   "execution_count": null,
   "metadata": {
    "collapsed": false
   },
   "outputs": [],
   "source": [
    "correct_pvs.shape, incorrect_pvs.shape,dataframe.shape"
   ]
  },
  {
   "cell_type": "code",
   "execution_count": null,
   "metadata": {
    "collapsed": false
   },
   "outputs": [],
   "source": [
    "#Apply Track Type cuts piminus_TRACK_Type"
   ]
  },
  {
   "cell_type": "code",
   "execution_count": null,
   "metadata": {
    "collapsed": false
   },
   "outputs": [],
   "source": [
    "train_dataframe, test_dataframe, train_flags, test_flags = train_test_split(\n",
    "                                                            dataframe[bdt_features], flags, test_size=0.5, random_state=42)\n",
    "classifier = GradientBoostingClassifier(max_depth=3, verbose=1,n_estimators=200,learning_rate=0.03)\n",
    "classifier.fit(train_dataframe, train_flags)"
   ]
  },
  {
   "cell_type": "code",
   "execution_count": null,
   "metadata": {
    "collapsed": false
   },
   "outputs": [],
   "source": [
    "dataframe.shape"
   ]
  },
  {
   "cell_type": "markdown",
   "metadata": {},
   "source": [
    "Classifier performance\n",
    "-----------------------"
   ]
  },
  {
   "cell_type": "code",
   "execution_count": null,
   "metadata": {
    "collapsed": false
   },
   "outputs": [],
   "source": [
    "classifier.score(test_dataframe, test_flags)"
   ]
  },
  {
   "cell_type": "code",
   "execution_count": null,
   "metadata": {
    "collapsed": false
   },
   "outputs": [],
   "source": [
    "importances = classifier.feature_importances_\n",
    "print(\"Features sorted by their score:\" )\n",
    "importances_sorted = sorted(zip(importances, dataframe.columns), reverse=True)\n",
    "for val,name in importances_sorted:\n",
    "    print('{}: {:.4f}'.format(name, val))"
   ]
  },
  {
   "cell_type": "code",
   "execution_count": null,
   "metadata": {
    "collapsed": false
   },
   "outputs": [],
   "source": [
    "#Plot feature importances \n",
    "plot_feature_importances(classifier,dataframe[bdt_features])\n",
    "plt.savefig('/home/chasenberg/plots/wrong_pv/feature_importance.png', bbox_inches='tight')"
   ]
  },
  {
   "cell_type": "code",
   "execution_count": null,
   "metadata": {
    "collapsed": false
   },
   "outputs": [],
   "source": [
    "plt.figure(figsize=(12,10))\n",
    "plot_classifier_output(classifier, train_dataframe, train_flags, test_dataframe, test_flags, title='Ausgabe des BDT',bins=50)\n",
    "plt.savefig('/home/chasenberg/plots/wrong_pv/overtraining.png')\n",
    "plt.show()\n"
   ]
  },
  {
   "cell_type": "code",
   "execution_count": null,
   "metadata": {
    "collapsed": false
   },
   "outputs": [],
   "source": [
    "plot_roc_curve(classifier, test_dataframe, test_flags)\n",
    "plt.savefig('/home/chasenberg/plots/wrong_pv/roc_curve.png')"
   ]
  },
  {
   "cell_type": "markdown",
   "metadata": {},
   "source": [
    "\n",
    "\n",
    "\n",
    "Classify unseen Data\n",
    "============================================"
   ]
  },
  {
   "cell_type": "code",
   "execution_count": null,
   "metadata": {
    "collapsed": false
   },
   "outputs": [],
   "source": [
    "#apply classifier to data and MC\n",
    "classify_unseen_data([classifier], dataframe, bdt_features, 'BDTresponse_wrongPV')"
   ]
  },
  {
   "cell_type": "markdown",
   "metadata": {},
   "source": [
    "Check efficiencies of classifier cuts\n",
    "-------------------------------"
   ]
  },
  {
   "cell_type": "code",
   "execution_count": null,
   "metadata": {
    "collapsed": false
   },
   "outputs": [],
   "source": [
    "cut = 'BDTresponse_wrongPV>4'\n",
    "efficiency = dataframe.query(cut).shape[0] / dataframe.shape[0]\n",
    "print('The efficiency of the cut is:')\n",
    "print(efficiency,dataframe.shape[0])\n",
    "#compare to best PV selection\n",
    "efficiency = dataframe.query('idxPV==0').shape[0] / dataframe.shape[0]\n",
    "print('The efficiency of the bestPV selection is:')\n",
    "print(efficiency,dataframe.shape[0])\n",
    "\n"
   ]
  },
  {
   "cell_type": "code",
   "execution_count": null,
   "metadata": {
    "collapsed": false
   },
   "outputs": [],
   "source": [
    "dataframe.query(cut).to_root('/fhgfs/users/chasenberg/mc/2015_2016_merged/jpsimumuks/Bd2JpsiKS_pv_selected.root',key='Bd2JpsiKS')"
   ]
  },
  {
   "cell_type": "code",
   "execution_count": null,
   "metadata": {
    "collapsed": true
   },
   "outputs": [],
   "source": []
  }
 ],
 "metadata": {
  "kernelspec": {
   "display_name": "Python 3",
   "language": "python",
   "name": "python3"
  },
  "language_info": {
   "codemirror_mode": {
    "name": "ipython",
    "version": 3
   },
   "file_extension": ".py",
   "mimetype": "text/x-python",
   "name": "python",
   "nbconvert_exporter": "python",
   "pygments_lexer": "ipython3",
   "version": "3.4.4"
  }
 },
 "nbformat": 4,
 "nbformat_minor": 0
}
