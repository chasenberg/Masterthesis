{
 "cells": [
  {
   "cell_type": "markdown",
   "metadata": {},
   "source": [
    "## Notebook for 1D BDT scan and calculating FOMs in Bd2psi2SKS on data\n"
   ]
  },
  {
   "cell_type": "code",
   "execution_count": 1,
   "metadata": {
    "collapsed": false
   },
   "outputs": [],
   "source": [
    "%matplotlib inline\n",
    "%load_ext autoreload\n",
    "%autoreload 2\n",
    "import sys\n",
    "sys.path.append('/home/chasenberg/repos/')\n",
    "import os\n",
    "import sys\n",
    "import ROOT\n",
    "from ROOT import TFile, TH1D, TH2D, TCanvas, gStyle, TLine, TTree\n",
    "from ROOT import (RooArgSet, RooRealVar, RooDataSet, RooPlot, RooFit, RooStats, RooArgList)\n",
    "import root_pandas as rp\n",
    "import root_numpy as ry \n",
    "\n",
    "import math\n",
    "import itertools\n",
    "import numpy as np\n",
    "import matplotlib as mpl\n",
    "import matplotlib.pyplot as plt\n",
    "from matplotlib.backends.backend_pdf import PdfPages\n",
    "\n",
    "from root_pandas import read_root\n",
    "import pandas as pd\n",
    "\n",
    "sys.path.append('/home/vmueller/repos')\n",
    "from dopy.doroot.root_utils import read_roodataset_from_tree, plot_pulls\n",
    "from dopy.doplot.plotting import Plotter, Plot                "
   ]
  },
  {
   "cell_type": "code",
   "execution_count": 2,
   "metadata": {
    "collapsed": false
   },
   "outputs": [],
   "source": [
    "\n",
    "from ROOT import RooRealVar, RooExponential, RooExtendPdf, RooAddPdf, RooArgList, RooGaussian\n",
    "from ROOT import RooFormulaVar\n",
    "from ROOT import gSystem\n",
    "gSystem.Load('libRooFit.so')\n",
    "gSystem.Load('/home/chasenberg/repos/dopy/dolib/CustomShapes/libKll')\n",
    "from ROOT import RooIpatia2"
   ]
  },
  {
   "cell_type": "markdown",
   "metadata": {},
   "source": [
    "### Read ROOT file"
   ]
  },
  {
   "cell_type": "code",
   "execution_count": 3,
   "metadata": {
    "collapsed": false
   },
   "outputs": [],
   "source": [
    "dataset_file_name = '/fhgfs/users/chasenberg/mc/2015_2016_merged/jpsimumuks/Bd2JpsiKS_selected.root'"
   ]
  },
  {
   "cell_type": "code",
   "execution_count": 4,
   "metadata": {
    "collapsed": true
   },
   "outputs": [],
   "source": [
    "branches = [\n",
    "            'B0_TAGOMEGA_OS',\n",
    "            'B0_TAGDECISION_OS',\n",
    "            'B0_TAU',\n",
    "            'B0_TAUERR',\n",
    "            'B0_TRUETAU',\n",
    "            'B0_FitPVConst_MinIPCHI2anyPV_flat',\n",
    "            'idxRunNumber',\n",
    "            'idxEventNumber',\n",
    "            'idxPV'\n",
    "            ]"
   ]
  },
  {
   "cell_type": "code",
   "execution_count": 5,
   "metadata": {
    "collapsed": true
   },
   "outputs": [],
   "source": [
    "l0_cut =  '((abs(1115.683-varLambda0MassHypo_ppluspiminus)>17)|piplus_ProbNNp<0.4)&((abs(1115.683-varLambda0MassHypo_pminuspiplus)>17)|(piminus_ProbNNp<0.4))'"
   ]
  },
  {
   "cell_type": "code",
   "execution_count": 6,
   "metadata": {
    "collapsed": false
   },
   "outputs": [],
   "source": [
    "tree_mc = 'Bd2JpsiKS'\n",
    "signal_dataframe_wrongPV  = rp.read_root(dataset_file_name,key=tree_mc,columns=branches,where=l0_cut, flatten=False)\n",
    "signal_dataframe_wrongPV  = signal_dataframe_wrongPV.replace([np.inf, -np.inf], np.nan)\n",
    "signal_dataframe_wrongPV  = signal_dataframe_wrongPV.dropna()"
   ]
  },
  {
   "cell_type": "code",
   "execution_count": 7,
   "metadata": {
    "collapsed": false
   },
   "outputs": [],
   "source": [
    "signal_dataframe_wrongPV['Delta_TAU'] = signal_dataframe_wrongPV['B0_TAU'] -signal_dataframe_wrongPV['B0_TRUETAU']"
   ]
  },
  {
   "cell_type": "code",
   "execution_count": 8,
   "metadata": {
    "collapsed": false
   },
   "outputs": [],
   "source": [
    "signal_dataframe_wrongPV.to_root('/fhgfs/users/chasenberg/mc/2015_2016_merged/jpsimumuks/interim.root',key='Bd2JpsiKS')"
   ]
  },
  {
   "cell_type": "code",
   "execution_count": 9,
   "metadata": {
    "collapsed": false
   },
   "outputs": [
    {
     "data": {
      "text/plain": [
       "'test_1 = pd.DataFrame()\\ntest_2 = pd.DataFrame()\\ntest_3 = pd.DataFrame()\\nfor row in signal_dataframe_wrongPV.itertuples():\\n    print(\"yes\")\\npv_num = signal_dataframe_wrongPV[\\'runNumber\\'].unique()\\npv_num = np.array(pv_num)\\nprint(len(pv_num))\\nfor nums in pv_num:\\n    num = str(nums)\\n    test_1 = signal_dataframe_wrongPV.query(\\'runNumber\\'+\\'==\\'+num)\\n    evt_num = test_1[\\'eventNumber\\'].unique()\\n    evt_num = np.array(evt_num)\\n    print(len(evt_num))\\n    for evts in evt_num:\\n        print(len(evt_num))\\n        evt = str(evts)\\n        #print(test_1.query(\\'eventNumber\\'+\\'==\\'+evt).shape).sample(n=1)\\n        test_3.append(test_1[test_1[\\'eventNumber\\']==evts]).sample(n=1) \\n    for evts in evt_num:\\n        print(len(evt_num))\\n        evt = str(evts)\\n        #print(test_1.query(\\'eventNumber\\'+\\'==\\'+evt).shape).sample(n=1)\\n        test_3.append(test_1[test_1[\\'eventNumber\\']==evts]).sample(n=1)'"
      ]
     },
     "execution_count": 9,
     "metadata": {},
     "output_type": "execute_result"
    }
   ],
   "source": [
    "'''test_1 = pd.DataFrame()\n",
    "test_2 = pd.DataFrame()\n",
    "test_3 = pd.DataFrame()\n",
    "for row in signal_dataframe_wrongPV.itertuples():\n",
    "    print(\"yes\")\n",
    "pv_num = signal_dataframe_wrongPV['runNumber'].unique()\n",
    "pv_num = np.array(pv_num)\n",
    "print(len(pv_num))\n",
    "for nums in pv_num:\n",
    "    num = str(nums)\n",
    "    test_1 = signal_dataframe_wrongPV.query('runNumber'+'=='+num)\n",
    "    evt_num = test_1['eventNumber'].unique()\n",
    "    evt_num = np.array(evt_num)\n",
    "    print(len(evt_num))\n",
    "    for evts in evt_num:\n",
    "        print(len(evt_num))\n",
    "        evt = str(evts)\n",
    "        #print(test_1.query('eventNumber'+'=='+evt).shape).sample(n=1)\n",
    "        test_3.append(test_1[test_1['eventNumber']==evts]).sample(n=1) \n",
    "    for evts in evt_num:\n",
    "        print(len(evt_num))\n",
    "        evt = str(evts)\n",
    "        #print(test_1.query('eventNumber'+'=='+evt).shape).sample(n=1)\n",
    "        test_3.append(test_1[test_1['eventNumber']==evts]).sample(n=1)'''"
   ]
  },
  {
   "cell_type": "code",
   "execution_count": 10,
   "metadata": {
    "collapsed": false
   },
   "outputs": [],
   "source": [
    "#test.shape,signal_dataframe_wrongPV.query('idxPV==0').shape,signal_dataframe_wrongPV.shape"
   ]
  },
  {
   "cell_type": "markdown",
   "metadata": {},
   "source": [
    "### Function to calculate the FOMs"
   ]
  },
  {
   "cell_type": "markdown",
   "metadata": {},
   "source": [
    "### Configure  and define cuts "
   ]
  },
  {
   "cell_type": "code",
   "execution_count": 11,
   "metadata": {
    "collapsed": false
   },
   "outputs": [],
   "source": [
    "lowerbound=5220 # rather arbitrary signal window definition\n",
    "upperbound=5450\n",
    "#B0_FitDaughtersConst_M.setRange('SIGREGION',lowerbound,upperbound)\n",
    "\n",
    "subdir = '/home/chasenberg/plots/wrongpv_cuttuning'\n",
    "plot_dir    = os.path.join(subdir, 'plots')\n",
    "results_dir = os.path.join(subdir, 'results')\n",
    "plot_file   = os.path.join(plot_dir, 'all_plots.pdf')\n",
    "\n",
    "\n",
    "if not os.path.exists(plot_dir):\n",
    "    os.makedirs(plot_dir)\n",
    "if not os.path.exists(results_dir):\n",
    "    os.makedirs(results_dir)\n",
    "    \n",
    "mass_var_name = 'B0_FitDaughtersConst_M'\n",
    "cuttype = 'Delta_TAU'#'B0_TAUERR'#\n",
    "\n",
    "cuts = np.linspace(0.00001,0.02,30) #(0,20,10)    #(0,0.001,10)\n",
    "#cuts = [-0.05]\n",
    "cuts_for_which_to_store_sdata = []   \n",
    "\n",
    "num_sig = []\n",
    "num_bkg = []\n",
    "num_all = []\n",
    "\n",
    "cut_to_performance = {} \n",
    "cut_to_shape = {}\n",
    "\n",
    "perform_fit = True\n",
    "do_splot    = True\n",
    "postfix = ''\n",
    "final_params_file = None\n",
    "oldParameters = None\n",
    "final_model = None"
   ]
  },
  {
   "cell_type": "markdown",
   "metadata": {},
   "source": [
    "### Calculate FOM"
   ]
  },
  {
   "cell_type": "code",
   "execution_count": 52,
   "metadata": {
    "collapsed": false
   },
   "outputs": [],
   "source": [
    "def calculate_foms(data_fit_cut,best_pv): \n",
    "    import math\n",
    "    \n",
    "    signal_sum    = 0\n",
    "    cbkg_sum      = 0\n",
    "    signal_sumw2  = 0\n",
    "    signal_sum_wrong    = 0\n",
    "    cbkg_sum_wrong       = 0\n",
    "    signal_sumw2_wrong   = 0\n",
    "    \n",
    "    delta_m = 5065 \n",
    "    S = 0.691 #sin2beta value (average from HFAG)\n",
    "    \n",
    "    timeres_power_bestPV = 0\n",
    "    timeres_power_randomPV = 0\n",
    "    \n",
    "\n",
    "    \n",
    "    tagomega = np.array(best_pv['B0_TAGOMEGA_OS'])\n",
    "    tag1 = np.array(best_pv['B0_TAGDECISION_OS'])\n",
    "    time = np.array(best_pv['B0_TAU']) \n",
    "    error = np.absolute(np.array(best_pv['Delta_TAU']))\n",
    "    \n",
    "    tagomega_wrong = np.array(data_fit_cut['B0_TAGOMEGA_OS'])\n",
    "    tag1_wrong = np.array(data_fit_cut['B0_TAGDECISION_OS'])\n",
    "    time_wrong = np.array(data_fit_cut['B0_TAU']) \n",
    "    error_wrong = np.absolute(np.array(data_fit_cut['Delta_TAU']))\n",
    "    \n",
    "    range_best_pv = best_pv.shape[0]-1\n",
    "    print(range_best_pv)\n",
    "    \n",
    "    for i in range(range_best_pv):\n",
    "        signal_weight =  1 \n",
    "        cbkg_weight   =  1 \n",
    "        mistag        =  tagomega[i] \n",
    "        tag           =  tag1[i]\n",
    "        decaytime     =  time[i]\n",
    "        timeerror     =  error[i]\n",
    "        \n",
    "        \n",
    "        signal_sum    += signal_weight\n",
    "        signal_sumw2  += signal_weight**2\n",
    "        cbkg_sum      += cbkg_weight\n",
    "\n",
    "        timeerror_dilution = math.exp(-(delta_m*timeerror)**2)\n",
    "\n",
    "        timeres_power_bestPV    += timeerror_dilution*signal_weight\n",
    "         \n",
    "    print('+++++++++++++++++++++++++')\n",
    "    print(cut)\n",
    "    timeerror_dilution_theory = math.exp(-(delta_m*cut)**2)\n",
    "\n",
    "    timeres_power_bestPV /= signal_sum\n",
    "    #timeres_power_wrong /= signal_sum_wrong\n",
    "\n",
    "    \n",
    "    fomname_to_value = {\n",
    "        'TimeresPower_bestPV' : timeres_power_bestPV,\n",
    "        'TimeresTheory': timeerror_dilution_theory,\n",
    "    }\n",
    "    #return fomname_to_value\n",
    "\n",
    "    for i in range(data_fit_cut.shape[0]):\n",
    "        signal_weight_wrong =  1 \n",
    "        cbkg_weight_wrong   =  1 \n",
    "        mistag_wrong        =  tagomega_wrong[i] \n",
    "        tag_wrong           =  tag1_wrong[i]\n",
    "        decaytime_wrong     =  time_wrong[i]\n",
    "        timeerror_wrong     =  error_wrong[i]\n",
    "        \n",
    "        \n",
    "        signal_sum_wrong    += signal_weight_wrong\n",
    "        signal_sumw2_wrong  += signal_weight_wrong**2\n",
    "        \n",
    "        timeerror_dilution_wrong = math.exp(-(delta_m*timeerror_wrong)**2)\n",
    "    \n",
    "        timeres_power_randomPV     += timeerror_dilution_wrong *signal_weight_wrong \n",
    "        \n",
    "    timeres_power_randomPV /= signal_sum_wrong  \n",
    "    fomname_to_value.update({'TimeresPower_randomPV' : timeres_power_randomPV})\n",
    "    \n",
    "    return fomname_to_value"
   ]
  },
  {
   "cell_type": "code",
   "execution_count": null,
   "metadata": {
    "collapsed": true
   },
   "outputs": [],
   "source": []
  },
  {
   "cell_type": "code",
   "execution_count": null,
   "metadata": {
    "collapsed": true
   },
   "outputs": [],
   "source": []
  },
  {
   "cell_type": "code",
   "execution_count": null,
   "metadata": {
    "collapsed": true
   },
   "outputs": [],
   "source": []
  },
  {
   "cell_type": "code",
   "execution_count": 53,
   "metadata": {
    "collapsed": false
   },
   "outputs": [
    {
     "name": "stdout",
     "output_type": "stream",
     "text": [
      "WARNING: Range for plot Delta_TAU has been manually set with range_part_of_selection=False.\n",
      "WARNING: Efficiencies are calculated against the full complete dataset.\n"
     ]
    },
    {
     "data": {
      "image/png": "[encoded data removed]",
      "text/plain": [
       "<matplotlib.figure.Figure at 0x7f8892eb3a90>"
      ]
     },
     "metadata": {},
     "output_type": "display_data"
    }
   ],
   "source": [
    "sys.path.append('/home/chasenberg/repos/')\n",
    "sys.path.append('/home/chasenberg/repos/dopy')\n",
    "from dopy import * \n",
    "from dopy.dolearn.sklearn_utils import plot_roc_curve, plot_classifier_output, plot_correlations\n",
    "from dopy.dolearn.sklearn_utils import plot_feature_importances, plot_classifier_output, classify_unseen_data\n",
    "#from dopy.sklearn_utils import plot_bdt_vars\n",
    "from dopy.doplot.plotting import Plotter, Plot\n",
    "from dopy.doanalysis.df_utils import add_min_max, add_eta \n",
    "\n",
    "cuttype = 'Delta_TAU'\n",
    "cut = 0.000001\n",
    "\n",
    "p = Plotter('/home/chasenberg/plots/selection/')\n",
    "p.create_plots(signal_dataframe_wrongPV.query('{0}>-{1}&{0}<{1}'.format(cuttype,cut)).query('idxPV==0'),'Delta_TAU',component_labels=['MC'])\n",
    "p['Delta_TAU'].set_range(-0.0005,0.0005)\n",
    "#bdt_plot.plot()\n",
    "p.plot()"
   ]
  },
  {
   "cell_type": "code",
   "execution_count": 69,
   "metadata": {
    "collapsed": false,
    "scrolled": true
   },
   "outputs": [
    {
     "name": "stdout",
     "output_type": "stream",
     "text": [
      "INFO: Starting to test cut Delta_TAU<1e-05\n",
      "INFO: Call CandidateSelectionGrimReaper\n",
      "Wait for GrimReaper\n",
      "GrimReaper hopefully finished\n",
      "INFO: Read selected data\n",
      "INFO: Start Calculation\n",
      "107184\n",
      "+++++++++++++++++++++++++\n",
      "1e-05\n",
      "INFO: Finish Calculation\n",
      "INFO: Starting to test cut Delta_TAU<0.0006993103448275863\n",
      "INFO: Call CandidateSelectionGrimReaper\n",
      "Wait for GrimReaper\n",
      "GrimReaper hopefully finished\n",
      "INFO: Read selected data\n",
      "INFO: Start Calculation\n",
      "499950\n",
      "+++++++++++++++++++++++++\n",
      "0.000699310344828\n",
      "INFO: Finish Calculation\n",
      "INFO: Starting to test cut Delta_TAU<0.0013886206896551725\n",
      "INFO: Call CandidateSelectionGrimReaper\n",
      "Wait for GrimReaper\n",
      "GrimReaper hopefully finished\n",
      "INFO: Read selected data\n",
      "INFO: Start Calculation\n",
      "500187\n",
      "+++++++++++++++++++++++++\n",
      "0.00138862068966\n",
      "INFO: Finish Calculation\n",
      "INFO: Starting to test cut Delta_TAU<0.002077931034482759\n",
      "INFO: Call CandidateSelectionGrimReaper\n",
      "Wait for GrimReaper\n",
      "GrimReaper hopefully finished\n",
      "INFO: Read selected data\n",
      "INFO: Start Calculation\n",
      "500244\n",
      "+++++++++++++++++++++++++\n",
      "0.00207793103448\n",
      "INFO: Finish Calculation\n",
      "INFO: Starting to test cut Delta_TAU<0.002767241379310345\n",
      "INFO: Call CandidateSelectionGrimReaper\n",
      "Wait for GrimReaper\n",
      "GrimReaper hopefully finished\n",
      "INFO: Read selected data\n",
      "INFO: Start Calculation\n",
      "500284\n",
      "+++++++++++++++++++++++++\n",
      "0.00276724137931\n",
      "INFO: Finish Calculation\n",
      "INFO: Starting to test cut Delta_TAU<0.003456551724137931\n",
      "INFO: Call CandidateSelectionGrimReaper\n",
      "Wait for GrimReaper\n",
      "GrimReaper hopefully finished\n",
      "INFO: Read selected data\n",
      "INFO: Start Calculation\n",
      "500295\n",
      "+++++++++++++++++++++++++\n",
      "0.00345655172414\n",
      "INFO: Finish Calculation\n",
      "INFO: Starting to test cut Delta_TAU<0.0041458620689655175\n",
      "INFO: Call CandidateSelectionGrimReaper\n",
      "Wait for GrimReaper\n",
      "GrimReaper hopefully finished\n",
      "INFO: Read selected data\n",
      "INFO: Start Calculation\n",
      "500308\n",
      "+++++++++++++++++++++++++\n",
      "0.00414586206897\n",
      "INFO: Finish Calculation\n",
      "INFO: Starting to test cut Delta_TAU<0.0048351724137931035\n",
      "INFO: Call CandidateSelectionGrimReaper\n",
      "Wait for GrimReaper\n",
      "GrimReaper hopefully finished\n",
      "INFO: Read selected data\n",
      "INFO: Start Calculation\n",
      "500315\n",
      "+++++++++++++++++++++++++\n",
      "0.00483517241379\n",
      "INFO: Finish Calculation\n",
      "INFO: Starting to test cut Delta_TAU<0.0055244827586206895\n",
      "INFO: Call CandidateSelectionGrimReaper\n",
      "Wait for GrimReaper\n",
      "GrimReaper hopefully finished\n",
      "INFO: Read selected data\n",
      "INFO: Start Calculation\n",
      "500324\n",
      "+++++++++++++++++++++++++\n",
      "0.00552448275862\n",
      "INFO: Finish Calculation\n",
      "INFO: Starting to test cut Delta_TAU<0.0062137931034482756\n",
      "INFO: Call CandidateSelectionGrimReaper\n",
      "Wait for GrimReaper\n",
      "GrimReaper hopefully finished\n",
      "INFO: Read selected data\n",
      "INFO: Start Calculation\n",
      "500331\n",
      "+++++++++++++++++++++++++\n",
      "0.00621379310345\n",
      "INFO: Finish Calculation\n",
      "INFO: Starting to test cut Delta_TAU<0.006903103448275862\n",
      "INFO: Call CandidateSelectionGrimReaper\n",
      "Wait for GrimReaper\n",
      "GrimReaper hopefully finished\n",
      "INFO: Read selected data\n",
      "INFO: Start Calculation\n",
      "500336\n",
      "+++++++++++++++++++++++++\n",
      "0.00690310344828\n",
      "INFO: Finish Calculation\n",
      "INFO: Starting to test cut Delta_TAU<0.0075924137931034485\n",
      "INFO: Call CandidateSelectionGrimReaper\n",
      "Wait for GrimReaper\n",
      "GrimReaper hopefully finished\n",
      "INFO: Read selected data\n",
      "INFO: Start Calculation\n",
      "500341\n",
      "+++++++++++++++++++++++++\n",
      "0.0075924137931\n",
      "INFO: Finish Calculation\n",
      "INFO: Starting to test cut Delta_TAU<0.008281724137931035\n",
      "INFO: Call CandidateSelectionGrimReaper\n",
      "Wait for GrimReaper\n",
      "GrimReaper hopefully finished\n",
      "INFO: Read selected data\n",
      "INFO: Start Calculation\n",
      "500344\n",
      "+++++++++++++++++++++++++\n",
      "0.00828172413793\n",
      "INFO: Finish Calculation\n",
      "INFO: Starting to test cut Delta_TAU<0.00897103448275862\n",
      "INFO: Call CandidateSelectionGrimReaper\n",
      "Wait for GrimReaper\n",
      "GrimReaper hopefully finished\n",
      "INFO: Read selected data\n",
      "INFO: Start Calculation\n",
      "500350\n",
      "+++++++++++++++++++++++++\n",
      "0.00897103448276\n",
      "INFO: Finish Calculation\n",
      "INFO: Starting to test cut Delta_TAU<0.009660344827586207\n",
      "INFO: Call CandidateSelectionGrimReaper\n",
      "Wait for GrimReaper\n",
      "GrimReaper hopefully finished\n",
      "INFO: Read selected data\n",
      "INFO: Start Calculation\n",
      "500352\n",
      "+++++++++++++++++++++++++\n",
      "0.00966034482759\n",
      "INFO: Finish Calculation\n",
      "INFO: Starting to test cut Delta_TAU<0.010349655172413793\n",
      "INFO: Call CandidateSelectionGrimReaper\n",
      "Wait for GrimReaper\n",
      "GrimReaper hopefully finished\n",
      "INFO: Read selected data\n",
      "INFO: Start Calculation\n",
      "500355\n",
      "+++++++++++++++++++++++++\n",
      "0.0103496551724\n",
      "INFO: Finish Calculation\n",
      "INFO: Starting to test cut Delta_TAU<0.01103896551724138\n",
      "INFO: Call CandidateSelectionGrimReaper\n",
      "Wait for GrimReaper\n",
      "GrimReaper hopefully finished\n",
      "INFO: Read selected data\n",
      "INFO: Start Calculation\n",
      "500357\n",
      "+++++++++++++++++++++++++\n",
      "0.0110389655172\n",
      "INFO: Finish Calculation\n",
      "INFO: Starting to test cut Delta_TAU<0.011728275862068966\n",
      "INFO: Call CandidateSelectionGrimReaper\n",
      "Wait for GrimReaper\n",
      "GrimReaper hopefully finished\n",
      "INFO: Read selected data\n",
      "INFO: Start Calculation\n",
      "500361\n",
      "+++++++++++++++++++++++++\n",
      "0.0117282758621\n",
      "INFO: Finish Calculation\n",
      "INFO: Starting to test cut Delta_TAU<0.012417586206896552\n",
      "INFO: Call CandidateSelectionGrimReaper\n",
      "Wait for GrimReaper\n",
      "GrimReaper hopefully finished\n",
      "INFO: Read selected data\n",
      "INFO: Start Calculation\n",
      "500364\n",
      "+++++++++++++++++++++++++\n",
      "0.0124175862069\n",
      "INFO: Finish Calculation\n",
      "INFO: Starting to test cut Delta_TAU<0.013106896551724138\n",
      "INFO: Call CandidateSelectionGrimReaper\n",
      "Wait for GrimReaper\n",
      "GrimReaper hopefully finished\n",
      "INFO: Read selected data\n",
      "INFO: Start Calculation\n",
      "500367\n",
      "+++++++++++++++++++++++++\n",
      "0.0131068965517\n",
      "INFO: Finish Calculation\n",
      "INFO: Starting to test cut Delta_TAU<0.013796206896551724\n",
      "INFO: Call CandidateSelectionGrimReaper\n",
      "Wait for GrimReaper\n",
      "GrimReaper hopefully finished\n",
      "INFO: Read selected data\n",
      "INFO: Start Calculation\n",
      "500368\n",
      "+++++++++++++++++++++++++\n",
      "0.0137962068966\n",
      "INFO: Finish Calculation\n",
      "INFO: Starting to test cut Delta_TAU<0.01448551724137931\n",
      "INFO: Call CandidateSelectionGrimReaper\n",
      "Wait for GrimReaper\n",
      "GrimReaper hopefully finished\n",
      "INFO: Read selected data\n",
      "INFO: Start Calculation\n",
      "500371\n",
      "+++++++++++++++++++++++++\n",
      "0.0144855172414\n",
      "INFO: Finish Calculation\n",
      "INFO: Starting to test cut Delta_TAU<0.015174827586206897\n",
      "INFO: Call CandidateSelectionGrimReaper\n",
      "Wait for GrimReaper\n",
      "GrimReaper hopefully finished\n",
      "INFO: Read selected data\n",
      "INFO: Start Calculation\n",
      "500373\n",
      "+++++++++++++++++++++++++\n",
      "0.0151748275862\n",
      "INFO: Finish Calculation\n",
      "INFO: Starting to test cut Delta_TAU<0.015864137931034483\n",
      "INFO: Call CandidateSelectionGrimReaper\n",
      "Wait for GrimReaper\n",
      "GrimReaper hopefully finished\n",
      "INFO: Read selected data\n",
      "INFO: Start Calculation\n",
      "500374\n",
      "+++++++++++++++++++++++++\n",
      "0.015864137931\n",
      "INFO: Finish Calculation\n",
      "INFO: Starting to test cut Delta_TAU<0.01655344827586207\n",
      "INFO: Call CandidateSelectionGrimReaper\n",
      "Wait for GrimReaper\n",
      "GrimReaper hopefully finished\n",
      "INFO: Read selected data\n",
      "INFO: Start Calculation\n",
      "500374\n",
      "+++++++++++++++++++++++++\n",
      "0.0165534482759\n",
      "INFO: Finish Calculation\n",
      "INFO: Starting to test cut Delta_TAU<0.017242758620689656\n",
      "INFO: Call CandidateSelectionGrimReaper\n",
      "Wait for GrimReaper\n",
      "GrimReaper hopefully finished\n",
      "INFO: Read selected data\n",
      "INFO: Start Calculation\n",
      "500376\n",
      "+++++++++++++++++++++++++\n",
      "0.0172427586207\n",
      "INFO: Finish Calculation\n",
      "INFO: Starting to test cut Delta_TAU<0.01793206896551724\n",
      "INFO: Call CandidateSelectionGrimReaper\n",
      "Wait for GrimReaper\n",
      "GrimReaper hopefully finished\n",
      "INFO: Read selected data\n",
      "INFO: Start Calculation\n",
      "500376\n",
      "+++++++++++++++++++++++++\n",
      "0.0179320689655\n",
      "INFO: Finish Calculation\n",
      "INFO: Starting to test cut Delta_TAU<0.018621379310344827\n",
      "INFO: Call CandidateSelectionGrimReaper\n",
      "Wait for GrimReaper\n",
      "GrimReaper hopefully finished\n",
      "INFO: Read selected data\n",
      "INFO: Start Calculation\n",
      "500379\n",
      "+++++++++++++++++++++++++\n",
      "0.0186213793103\n",
      "INFO: Finish Calculation\n",
      "INFO: Starting to test cut Delta_TAU<0.019310689655172415\n",
      "INFO: Call CandidateSelectionGrimReaper\n",
      "Wait for GrimReaper\n",
      "GrimReaper hopefully finished\n",
      "INFO: Read selected data\n",
      "INFO: Start Calculation\n",
      "500380\n",
      "+++++++++++++++++++++++++\n",
      "0.0193106896552\n",
      "INFO: Finish Calculation\n",
      "INFO: Starting to test cut Delta_TAU<0.02\n",
      "INFO: Call CandidateSelectionGrimReaper\n",
      "Wait for GrimReaper\n",
      "GrimReaper hopefully finished\n",
      "INFO: Read selected data\n"
     ]
    },
    {
     "name": "stderr",
     "output_type": "stream",
     "text": [
      "TFile::Init:0: RuntimeWarning: file /fhgfs/users/chasenberg/mc/2015_2016_merged/jpsimumuks/interim.root has no keys\n",
      "TFile::Init:0: RuntimeWarning: no StreamerInfo found in /fhgfs/users/chasenberg/mc/2015_2016_merged/jpsimumuks/interim.root therefore preventing schema evolution when reading this file.\n"
     ]
    },
    {
     "ename": "OSError",
     "evalue": "tree 'Bd2JpsiKS' not found in /fhgfs/users/chasenberg/mc/2015_2016_merged/jpsimumuks/interim.root",
     "output_type": "error",
     "traceback": [
      "\u001b[1;31m---------------------------------------------------------------------------\u001b[0m",
      "\u001b[1;31mOSError\u001b[0m                                   Traceback (most recent call last)",
      "\u001b[1;32m<ipython-input-69-46375e470971>\u001b[0m in \u001b[0;36m<module>\u001b[1;34m()\u001b[0m\n\u001b[0;32m     24\u001b[0m     \u001b[0mprint\u001b[0m\u001b[1;33m(\u001b[0m\u001b[1;34m\"GrimReaper hopefully finished\"\u001b[0m\u001b[1;33m)\u001b[0m\u001b[1;33m\u001b[0m\u001b[0m\n\u001b[0;32m     25\u001b[0m     \u001b[0mprint\u001b[0m\u001b[1;33m(\u001b[0m\u001b[1;34m'INFO: Read selected data'\u001b[0m\u001b[1;33m,\u001b[0m \u001b[0mflush\u001b[0m\u001b[1;33m=\u001b[0m\u001b[1;32mTrue\u001b[0m\u001b[1;33m)\u001b[0m\u001b[1;33m\u001b[0m\u001b[0m\n\u001b[1;32m---> 26\u001b[1;33m     \u001b[0mdata_fit_cut\u001b[0m \u001b[1;33m=\u001b[0m \u001b[0mrp\u001b[0m\u001b[1;33m.\u001b[0m\u001b[0mread_root\u001b[0m\u001b[1;33m(\u001b[0m\u001b[1;34m'/fhgfs/users/chasenberg/mc/2015_2016_merged/jpsimumuks/interim.root'\u001b[0m\u001b[1;33m,\u001b[0m\u001b[0mkey\u001b[0m\u001b[1;33m=\u001b[0m\u001b[0mtree_mc\u001b[0m\u001b[1;33m)\u001b[0m\u001b[1;33m\u001b[0m\u001b[0m\n\u001b[0m\u001b[0;32m     27\u001b[0m     \u001b[0mprint\u001b[0m\u001b[1;33m(\u001b[0m\u001b[1;34m'INFO: Start Calculation'\u001b[0m\u001b[1;33m,\u001b[0m \u001b[0mflush\u001b[0m\u001b[1;33m=\u001b[0m\u001b[1;32mTrue\u001b[0m\u001b[1;33m)\u001b[0m\u001b[1;33m\u001b[0m\u001b[0m\n\u001b[0;32m     28\u001b[0m     \u001b[1;31m#print('INFO: Building Ipatia (signal) + Exp (combinatorics) + Ipatia (bs-component) model for data', flush=True)\u001b[0m\u001b[1;33m\u001b[0m\u001b[1;33m\u001b[0m\u001b[0m\n",
      "\u001b[1;32m/opt/rh/miniconda/envs/py3root6/lib/python3.4/site-packages/root_pandas/readwrite.py\u001b[0m in \u001b[0;36mread_root\u001b[1;34m(paths, key, columns, ignore, chunksize, where, flatten, *args, **kwargs)\u001b[0m\n\u001b[0;32m    117\u001b[0m             \u001b[1;32mraise\u001b[0m \u001b[0mValueError\u001b[0m\u001b[1;33m(\u001b[0m\u001b[1;34m'More than one tree found in {}'\u001b[0m\u001b[1;33m.\u001b[0m\u001b[0mformat\u001b[0m\u001b[1;33m(\u001b[0m\u001b[0mseed_path\u001b[0m\u001b[1;33m)\u001b[0m\u001b[1;33m)\u001b[0m\u001b[1;33m\u001b[0m\u001b[0m\n\u001b[0;32m    118\u001b[0m \u001b[1;33m\u001b[0m\u001b[0m\n\u001b[1;32m--> 119\u001b[1;33m     \u001b[0mbranches\u001b[0m \u001b[1;33m=\u001b[0m \u001b[0mlist_branches\u001b[0m\u001b[1;33m(\u001b[0m\u001b[0mseed_path\u001b[0m\u001b[1;33m,\u001b[0m \u001b[0mkey\u001b[0m\u001b[1;33m)\u001b[0m\u001b[1;33m\u001b[0m\u001b[0m\n\u001b[0m\u001b[0;32m    120\u001b[0m \u001b[1;33m\u001b[0m\u001b[0m\n\u001b[0;32m    121\u001b[0m     \u001b[1;32mif\u001b[0m \u001b[1;32mnot\u001b[0m \u001b[0mcolumns\u001b[0m\u001b[1;33m:\u001b[0m\u001b[1;33m\u001b[0m\u001b[0m\n",
      "\u001b[1;32m/opt/rh/miniconda/envs/py3root6/lib/python3.4/site-packages/root_numpy/_tree.py\u001b[0m in \u001b[0;36mlist_branches\u001b[1;34m(filename, treename)\u001b[0m\n\u001b[0;32m     73\u001b[0m \u001b[1;33m\u001b[0m\u001b[0m\n\u001b[0;32m     74\u001b[0m     \"\"\"\n\u001b[1;32m---> 75\u001b[1;33m     \u001b[1;32mreturn\u001b[0m \u001b[0m_librootnumpy\u001b[0m\u001b[1;33m.\u001b[0m\u001b[0mlist_branches\u001b[0m\u001b[1;33m(\u001b[0m\u001b[0mfilename\u001b[0m\u001b[1;33m,\u001b[0m \u001b[0mtreename\u001b[0m\u001b[1;33m)\u001b[0m\u001b[1;33m\u001b[0m\u001b[0m\n\u001b[0m\u001b[0;32m     76\u001b[0m \u001b[1;33m\u001b[0m\u001b[0m\n\u001b[0;32m     77\u001b[0m \u001b[1;33m\u001b[0m\u001b[0m\n",
      "\u001b[1;32mroot_numpy/src/tree.pyx\u001b[0m in \u001b[0;36m_librootnumpy.list_branches (root_numpy/src/_librootnumpy.cpp:81)\u001b[1;34m()\u001b[0m\n",
      "\u001b[1;32mroot_numpy/src/tree.pyx\u001b[0m in \u001b[0;36m_librootnumpy.list_structures (root_numpy/src/_librootnumpy.cpp:73)\u001b[1;34m()\u001b[0m\n",
      "\u001b[1;31mOSError\u001b[0m: tree 'Bd2JpsiKS' not found in /fhgfs/users/chasenberg/mc/2015_2016_merged/jpsimumuks/interim.root"
     ]
    }
   ],
   "source": [
    "from ROOT import RooArgList\n",
    "import subprocess, os\n",
    "import time\n",
    "\n",
    "x=None\n",
    "for cut in cuts:\n",
    "    print('INFO: Starting to test cut ' + '{0}<{1}'.format(cuttype,cut), flush=True)\n",
    "    data_fit_cut = signal_dataframe_wrongPV.query('{0}>-{1}&{0}<{1}'.format(cuttype,cut)) #data_after_import.reduce('{0}>{1}'.format(cuttype,cut))\n",
    "    best_pv = signal_dataframe_wrongPV.query('{0}>-{1}&{0}<{1}'.format(cuttype,cut)).query('idxPV==0')\n",
    "    #data_fit_cut = data_fit_cut.query('B0_FitPVConst_MinIPCHI2anyPV_flat>6')\n",
    "    #print(\"The size of the sample is:\")\n",
    "    #print(data_fit_cut['Delta_TAU'].min())\n",
    "    data_fit_cut.query('B0_FitPVConst_MinIPCHI2anyPV_flat>15').to_root('/fhgfs/users/chasenberg/mc/2015_2016_merged/jpsimumuks/interim.root',key=tree_mc)\n",
    "    print('INFO: Call CandidateSelectionGrimReaper', flush=True)\n",
    "    my_env = os.environ.copy()\n",
    "    my_env['PATH'] = '/usr/local/bin:/bin:/usr/bin:/usr/local/sbin:/usr/sbin:/sbin:/home/chasenberg/bin'\n",
    "    my_env['LD_LIBRARY_PATH'] = '/usr/local/lib'\n",
    "    my_env['script'] = '/home/chasenberg/repos/b2cc_sin2beta_run2/notebooks/selection'\n",
    "    my_command = 'source /lhcbsoft/LHCbSoftwareSetup.sh &&' \\\n",
    "             'lb-run DaVinci/v41r2 $BASH -c \"' \\\n",
    "             'echo $PATH && ' \\\n",
    "             'source /doosoft/InstallDooSoftware/LoadDooSoftware && CandidateSelectionGrimReaper /fhgfs/users/chasenberg/mc/2015_2016_merged/jpsimumuks/interim.root Bd2JpsiKS /fhgfs/users/chasenberg/mc/2015_2016_merged/jpsimumuks/interim.root Bd2JpsiKS \"idxRunNumber\"\"'                     \n",
    "    subprocess.Popen([my_command], env=my_env, shell=True)\n",
    "   # subprocess.call(('bash /home/chasenberg/repos/b2cc_sin2beta_run2/notebooks/selection/random_sel.sh'),shell=True)                      \n",
    "    print(\"Wait for GrimReaper\")\n",
    "    time.sleep(40.0)    # pause 5.5 seconds\n",
    "    print(\"GrimReaper hopefully finished\")\n",
    "    print('INFO: Read selected data', flush=True)\n",
    "    data_fit_cut = rp.read_root('/fhgfs/users/chasenberg/mc/2015_2016_merged/jpsimumuks/interim.root',key=tree_mc)\n",
    "    print('INFO: Start Calculation', flush=True)\n",
    "    #print('INFO: Building Ipatia (signal) + Exp (combinatorics) + Ipatia (bs-component) model for data', flush=True) \n",
    "    #final_model = build_mass_model(B0_FitDaughtersConst_M)\n",
    "    \n",
    "    cut_to_shape[cut] = {} \n",
    "    cut_to_performance[cut] = {}\n",
    "   \n",
    "    \n",
    "    foms = calculate_foms(data_fit_cut,best_pv)\n",
    "    cut_to_performance[cut].update(foms)\n",
    "    \n",
    "    print('INFO: Finish Calculation', flush=True)"
   ]
  },
  {
   "cell_type": "code",
   "execution_count": 70,
   "metadata": {
    "collapsed": true
   },
   "outputs": [],
   "source": [
    "import numpy as np\n",
    "\n",
    "def unpack_cut_dict(cut_dict, normalize=True):\n",
    "    cuts = np.array(list(cut_dict.keys()))\n",
    "    cuts.sort()\n",
    "    \n",
    "    new_dict = {}\n",
    "    for cut in cuts:\n",
    "        parameters_dict = cut_dict[cut]\n",
    "        for parameter, value in parameters_dict.items():\n",
    "            if parameter in new_dict:\n",
    "                new_dict[parameter].append(value)\n",
    "            else:\n",
    "                new_dict[parameter] = [value]\n",
    "    \n",
    "    for parameter, values in new_dict.items():\n",
    "        new_dict[parameter] = np.array(values)\n",
    "        if normalize:\n",
    "            new_dict[parameter] = values/np.max(np.abs(values))\n",
    "    \n",
    "    return cuts, new_dict\n",
    "\n",
    "x, ys = unpack_cut_dict(cut_to_performance)\n",
    "for parameter, values in ys.items():\n",
    "    if \"value\" in parameter:\n",
    "        print(values)\n",
    "        y_errlo = np.array(ys[parameter.replace(\"_value\",\"_errlo\")])\n",
    "        y_errhi = np.array(ys[parameter.replace(\"_value\",\"_errhi\")])\n",
    "        y_errors= abs(np.vstack([y_errlo,y_errhi]))\n",
    "        plt.errorbar(x,values,yerr=y_errors,marker='.',linestyle='', label='sigma')\n",
    "        plt.xlabel(parameter)\n",
    "        plotname = parameter + '.pdf'\n",
    "        singleplot_file = os.path.join(plot_dir, plotname)\n",
    "        plt.savefig(singleplot_file)\n",
    "        plt.show()"
   ]
  },
  {
   "cell_type": "markdown",
   "metadata": {},
   "source": [
    "### Plot FOMs"
   ]
  },
  {
   "cell_type": "code",
   "execution_count": 71,
   "metadata": {
    "collapsed": false,
    "scrolled": true
   },
   "outputs": [
    {
     "data": {
      "image/png": "[encoded data removed]",
      "text/plain": [
       "<matplotlib.figure.Figure at 0x7f88958ab2e8>"
      ]
     },
     "metadata": {},
     "output_type": "display_data"
    }
   ],
   "source": [
    "import random\n",
    "import seaborn as sns\n",
    "sns.set_style(\"whitegrid\")\n",
    "sns.set_style(\"whitegrid\", {\"legend.frameon\": True})\n",
    "\n",
    "x, ys = unpack_cut_dict(cut_to_performance)\n",
    "shift = 0.0\n",
    "\n",
    "foms_to_plot = {}\n",
    "#foms_to_plot[\"TaggingPower\"] = r\"Flavour Tagging\"\n",
    "foms_to_plot[\"TimeresPower_bestPV\"] = \"Best PV selection\"\n",
    "foms_to_plot[\"TimeresPower_randomPV\"]   = \"Random PV selection\"\n",
    "#foms_to_plot[\"BsFOM\"]        = \"$X_i$-term\"\n",
    "#foms_to_plot[\"BdFOM_p\"]      = \"FOM ${}_{B^0_d}$\"\n",
    "#foms_to_plot[\"BdFOM\"]        = \"FOM\"\n",
    "\n",
    "#for parameter, values in ys.items():\n",
    "for parameter in foms_to_plot:\n",
    "    values=ys[parameter]\n",
    "    #if \"FOM\" in parameter or \"EffSig\" in parameter or \"s3_over_spb2\" in parameter\\\n",
    "    #or \"TaggingPower\" in parameter or \"TimeresPower\" in parameter:\n",
    "    if parameter in foms_to_plot:\n",
    "        plt.errorbar(x,values+random.random()*shift,marker='.',linestyle='-',label=foms_to_plot[parameter])\n",
    "        plt.xlabel(\"Delta_TAU cut\")\n",
    "'''values_EffSigSize=ys['EffSigSize']\n",
    "values_TimeresPower=ys['TimeresPower']\n",
    "values_TaggingPower=ys['TaggingPower']\n",
    "values_BdFOM_p=ys['BdFOM_p']\n",
    "values_BdFOM=ys['BdFOM']\n",
    "\n",
    "\n",
    "plt.errorbar(x,values_EffSigSize+random.random()*shift,marker='.',linestyle='-',label=foms_to_plot[parameter],color=current_palette[0])\n",
    "plt.errorbar(x,values_TimeresPower+random.random()*shift,marker='.',linestyle='-',label=foms_to_plot[parameter],color=current_palette[1])\n",
    "plt.errorbar(x,values_TaggingPower+random.random()*shift,marker='.',linestyle='-',label=foms_to_plot[parameter],color=current_palette[2])\n",
    "plt.errorbar(x,values_BdFOM_p+random.random()*shift,marker='.',linestyle='-',label=foms_to_plot[parameter],color=current_palette[3])\n",
    "plt.errorbar(x,values_BdFOM+random.random()*shift,marker='.',linestyle='-',label=foms_to_plot[parameter],color=current_palette[4])\n",
    "plt.xlabel(\"BDT Schnitt\")'''\n",
    "plt.gca().set_ylim(0.94,1.001)\n",
    "plt.gca().set_xlim(0.0000000001,0.02)\n",
    "plt.legend(loc='best')\n",
    "plt.savefig(subdir + '/FOMS.pdf')\n",
    "plt.show()"
   ]
  },
  {
   "cell_type": "code",
   "execution_count": 72,
   "metadata": {
    "collapsed": false
   },
   "outputs": [
    {
     "name": "stdout",
     "output_type": "stream",
     "text": [
      "[ 1.          0.95083392  0.95038339  0.9502751   0.95019912  0.95017823\n",
      "  0.95015354  0.95014024  0.95012315  0.95010986  0.95010037  0.95009087\n",
      "  0.95008517  0.95007378  0.95006998  0.95006429  0.95006049  0.9500529\n",
      "  0.9500472   0.9500415   0.9500396   0.95003391  0.95003011  0.95002821\n",
      "  0.95002821  0.95002441  0.95002441  0.95001872  0.95001682  0.95001492]\n"
     ]
    }
   ],
   "source": [
    "print(ys['TimeresPower_bestPV'])"
   ]
  },
  {
   "cell_type": "code",
   "execution_count": 73,
   "metadata": {
    "collapsed": false
   },
   "outputs": [
    {
     "name": "stdout",
     "output_type": "stream",
     "text": [
      "[ 1.          0.95145929  0.95126489  0.95121486  0.95116869  0.95114752\n",
      "  0.95111867  0.9510975   0.95108019  0.95106865  0.95104942  0.95103787\n",
      "  0.95103018  0.95101864  0.95101479  0.95100325  0.95099364  0.95098402\n",
      "  0.95097441  0.95096671  0.95096479  0.9509571   0.95095133  0.9509494\n",
      "  0.9509494   0.95094556  0.95094364  0.95093979  0.95093402  0.95076451]\n"
     ]
    }
   ],
   "source": [
    "print(ys['TimeresPower_randomPV'])"
   ]
  },
  {
   "cell_type": "code",
   "execution_count": null,
   "metadata": {
    "collapsed": false
   },
   "outputs": [],
   "source": [
    "print(x)"
   ]
  },
  {
   "cell_type": "markdown",
   "metadata": {
    "collapsed": true
   },
   "source": [
    "Plotting of B0_TAU and Delta_TAU"
   ]
  },
  {
   "cell_type": "code",
   "execution_count": null,
   "metadata": {
    "collapsed": false
   },
   "outputs": [],
   "source": [
    "delta_tau = RooRealVar(\"Delta_TAU\", \"delta_tau\", 0,2, \"ps\")\n",
    "b0_tauerr = RooRealVar(\"B0_TAUERR\", \"delta_tau\", 0,2, \"ps\")\n",
    "\n",
    "dataset_file_name =  '/fhgfs/users/chasenberg/mc/2015_2016_merged/jpsimumuks/interim.root'\n",
    "data = ROOT.TFile(dataset_file_name)\n",
    "tree_data = data.Get('Bd2JpsiKS') \n",
    "ntupleVarSet =  RooArgSet(delta_tau,b0_tauerr) \n",
    "dataset = RooDataSet('data','data',tree_data,ntupleVarSet)"
   ]
  },
  {
   "cell_type": "code",
   "execution_count": null,
   "metadata": {
    "collapsed": false
   },
   "outputs": [],
   "source": [
    "# Prepare frame\n",
    "%matplotlib inline  \n",
    "import ROOT\n",
    "\n",
    "frame = delta_tau.frame(ROOT.RooFit.Bins(100))\n",
    "\n",
    "dataset.plotOn(frame, ROOT.RooFit.Name(\"data1\"))\n",
    "text_size = 0.035\n",
    "# Create TLegend\n",
    "legend = ROOT.TLegend(0.7, 0.7,0.85,0.85)\n",
    "legend.AddEntry(0,\"LHCb unofficial\", \"\")\n",
    "legend.AddEntry(frame.findObject('data1'), \"Delta_Tau\", \"p\");\n",
    "#legend.AddEntry(frame.findObject('sig_pdf_ext'), 'Massenfunktion', 'kBluw')\n",
    "\n",
    "legend.SetTextSize(text_size)\n",
    "frame.GetYaxis().SetTitle(frame.GetYaxis().GetTitle().replace(\"Events\", \"Kandidaten\"))\n",
    "# Plot pulls\n",
    "#can, _ = plot_pulls('Hallo', frame, legend=legend, logy=False)#, latex=latex)\n",
    "can = ROOT.TCanvas(\"my_canvas\",\"Plotting Canvas\",150,10,990,660)\n",
    "can.SaveAs(\"/home/chasenberg/plots/wrongpv_cuttuning/delta_tau.pdf\")\n",
    "can  # To display plot in notebooks"
   ]
  },
  {
   "cell_type": "code",
   "execution_count": null,
   "metadata": {
    "collapsed": true
   },
   "outputs": [],
   "source": []
  },
  {
   "cell_type": "code",
   "execution_count": null,
   "metadata": {
    "collapsed": true
   },
   "outputs": [],
   "source": []
  },
  {
   "cell_type": "code",
   "execution_count": null,
   "metadata": {
    "collapsed": true
   },
   "outputs": [],
   "source": []
  }
 ],
 "metadata": {
  "kernelspec": {
   "display_name": "Python 3",
   "language": "python",
   "name": "python3"
  },
  "language_info": {
   "codemirror_mode": {
    "name": "ipython",
    "version": 3
   },
   "file_extension": ".py",
   "mimetype": "text/x-python",
   "name": "python",
   "nbconvert_exporter": "python",
   "pygments_lexer": "ipython3",
   "version": "3.4.4"
  }
 },
 "nbformat": 4,
 "nbformat_minor": 0
}
