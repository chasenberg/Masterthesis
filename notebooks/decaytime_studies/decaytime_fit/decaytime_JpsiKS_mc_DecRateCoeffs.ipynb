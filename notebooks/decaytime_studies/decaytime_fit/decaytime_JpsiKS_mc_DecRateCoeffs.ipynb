{
 "cells": [
  {
   "cell_type": "markdown",
   "metadata": {},
   "source": [
    "# Acceptance model for B02JpsiKS"
   ]
  },
  {
   "cell_type": "code",
   "execution_count": 1,
   "metadata": {
    "collapsed": false
   },
   "outputs": [],
   "source": [
    "%matplotlib inline\n",
    "%load_ext autoreload\n",
    "%autoreload 2\n",
    "\n",
    "import os\n",
    "import sys\n",
    "import ROOT\n",
    "from ROOT import (RooArgSet,\n",
    "                  RooCategory,\n",
    "                  RooRealVar,\n",
    "                  RooDataSet,\n",
    "                  RooPlot,\n",
    "                  RooFit,\n",
    "                  RooStats,\n",
    "                  RooArgList,\n",
    "                  RooFormulaVar)\n",
    "\n",
    "from ROOT import (TFile, \n",
    "                  TH1D, \n",
    "                  TH2D, \n",
    "                  TCanvas, \n",
    "                  gStyle, \n",
    "                  TLine, \n",
    "                  TTree)\n",
    "\n",
    "import math\n",
    "import itertools\n",
    "import numpy as np\n",
    "import matplotlib as mpl\n",
    "import matplotlib.pyplot as plt\n",
    "from matplotlib.backends.backend_pdf import PdfPages\n",
    "\n",
    "import root_pandas as rp\n",
    "from root_pandas import read_root\n",
    "import pandas as pd\n",
    "            \n",
    "sys.path.append('/home/vmueller/repos/')\n",
    "from dopy.doroot.root_utils import read_roodataset_from_tree, plot_pulls, build_tchain_from_files\n",
    "from dopy.doplot.plotting import Plotter, Plot\n",
    "import dopy.doroot.rootnotes \n",
    "from dopy.doplot.selection import add_log_to_dataframe, add_max_to_dataframe, add_min_to_dataframe"
   ]
  },
  {
   "cell_type": "code",
   "execution_count": 2,
   "metadata": {
    "collapsed": false
   },
   "outputs": [],
   "source": [
    "dataset_dir = '/fhgfs/users/chasenberg/mc/2015_2016_merged/jpsimumuks'\n",
    " \n",
    "#new dataset1\n",
    "dataset_file_name= 'random_sample.root' #'random_sample.root'\n",
    "dataset_tree_name = 'Bd2JpsiKS'\n",
    "dataset_file_name = os.path.join(dataset_dir, dataset_file_name) "
   ]
  },
  {
   "cell_type": "markdown",
   "metadata": {},
   "source": [
    "# Write true ID as tagging decision to tuple "
   ]
  },
  {
   "cell_type": "code",
   "execution_count": 3,
   "metadata": {
    "collapsed": false
   },
   "outputs": [],
   "source": [
    "Bd2JpsiKS = rp.read_root(dataset_dir+'/random_sample.root', key=\"Bd2JpsiKS\", flatten = False)"
   ]
  },
  {
   "cell_type": "code",
   "execution_count": 4,
   "metadata": {
    "collapsed": false
   },
   "outputs": [],
   "source": [
    "var_OS_dec_true = \"B0_TRUEID\"\n",
    "Bd2JpsiKS['true_id_tag'] = Bd2JpsiKS[var_OS_dec_true].replace([511,-511],[1,-1])"
   ]
  },
  {
   "cell_type": "markdown",
   "metadata": {},
   "source": [
    "## Conversion into pico seconds"
   ]
  },
  {
   "cell_type": "code",
   "execution_count": 5,
   "metadata": {
    "collapsed": true
   },
   "outputs": [],
   "source": [
    "Bd2JpsiKS['B0_FitPVConst_tau_ps'] = Bd2JpsiKS['B0_FitPVConst_tau_flat'] * 1000\n",
    "Bd2JpsiKS['B0_FitPVConst_tauErr_ps'] = Bd2JpsiKS['B0_FitPVConst_tau_flat'] * 1000"
   ]
  },
  {
   "cell_type": "markdown",
   "metadata": {},
   "source": [
    "## Calculate mean mistag "
   ]
  },
  {
   "cell_type": "code",
   "execution_count": 6,
   "metadata": {
    "collapsed": false
   },
   "outputs": [
    {
     "data": {
      "text/plain": [
       "0.45179736934730508"
      ]
     },
     "execution_count": 6,
     "metadata": {},
     "output_type": "execute_result"
    }
   ],
   "source": [
    "eta_mean = Bd2JpsiKS['B0_TAGOMEGA_OS'].mean()\n",
    "eta_mean"
   ]
  },
  {
   "cell_type": "code",
   "execution_count": 7,
   "metadata": {
    "collapsed": false
   },
   "outputs": [
    {
     "name": "stdout",
     "output_type": "stream",
     "text": [
      "The average mistag is: \n",
      "0.36518052036028803\n",
      "The tagging efficiency is: \n",
      "0.2705801686331482\n"
     ]
    }
   ],
   "source": [
    "true_tags = np.array(Bd2JpsiKS['true_id_tag'])\n",
    "real_tags = np.array(Bd2JpsiKS['B0_TAGDECISION_OS'])\n",
    "correct_tags = 0\n",
    "incorrect_tags = 0\n",
    "no_tags = 0\n",
    "\n",
    "for i in range(Bd2JpsiKS.shape[0]):\n",
    "    if (abs(real_tags[i])==1 and real_tags[i]==true_tags[i]):\n",
    "        correct_tags += 1\n",
    "    if (abs(real_tags[i])==1 and real_tags[i]!=true_tags[i]):\n",
    "        incorrect_tags += 1\n",
    "    else:\n",
    "        no_tags += 1\n",
    "eta_average = incorrect_tags / (correct_tags+incorrect_tags)\n",
    "tag_eff = (correct_tags+incorrect_tags )/ (correct_tags+incorrect_tags+no_tags)\n",
    "print(\"The average mistag is: \")\n",
    "print(eta_average)\n",
    "print(\"The tagging efficiency is: \")\n",
    "print(tag_eff)"
   ]
  },
  {
   "cell_type": "code",
   "execution_count": 8,
   "metadata": {
    "collapsed": false
   },
   "outputs": [],
   "source": [
    "Bd2JpsiKS.to_root(dataset_dir + '/random_sample_true_tag.root', key=\"Bd2JpsiKS\")"
   ]
  },
  {
   "cell_type": "code",
   "execution_count": 9,
   "metadata": {
    "collapsed": false
   },
   "outputs": [],
   "source": [
    "dataset_file = TFile(dataset_dir + '/random_sample_true_tag.root')\n",
    "ROOT.SetOwnership(dataset_file, False)\n",
    "\n",
    "dataset_tree = dataset_file.Get(dataset_tree_name)\n",
    "ROOT.SetOwnership(dataset_tree, False) "
   ]
  },
  {
   "cell_type": "code",
   "execution_count": 10,
   "metadata": {
    "collapsed": false
   },
   "outputs": [
    {
     "data": {
      "text/plain": [
       "<ROOT.TFile object (\"/fhgfs/users/chasenberg/mc/2015_2016_merged/jpsimumuks/random_sample_true_tag.root\") at 0x89575e0>"
      ]
     },
     "execution_count": 10,
     "metadata": {},
     "output_type": "execute_result"
    }
   ],
   "source": [
    "dataset_file"
   ]
  },
  {
   "cell_type": "code",
   "execution_count": 11,
   "metadata": {
    "collapsed": false
   },
   "outputs": [
    {
     "name": "stdout",
     "output_type": "stream",
     "text": [
      "Number of entries: 107741\n"
     ]
    }
   ],
   "source": [
    "obsTime     = RooRealVar('B0_FitPVConst_tau_flat', 'obsTime', 0,0.0002, 0.015, 'ns')\n",
    "obsTimeErr = RooRealVar(\"B0_FitPVConst_tauErr_flat\", \"obsTimeErr\", 0,-0.001,0.001, \"ns\")\n",
    "idxPV = RooRealVar(\"idxPV\", \"idxPV\", 0,0,0)\n",
    "\n",
    "ROOT.SetOwnership(obsTime, False)\n",
    "ROOT.SetOwnership(obsTimeErr, False)\n",
    "ROOT.SetOwnership(idxPV, False)\n",
    "\n",
    "obsEtaOS = RooRealVar(\"B0_TAGOMEGA_OS\", \"#it{#eta}_{OS}\", 0, 0.5)\n",
    "\n",
    "obsTagOS = RooCategory(\"B0_TAGDECISION_OS\", \"#it{d}_{OS}\")\n",
    "obsTagOS.defineType(\"B0b\", -1)\n",
    "obsTagOS.defineType(\"B0\",  +1)\n",
    "obsTagOS.defineType(\"noTag\",  0)\n",
    "\n",
    "#criteria and information for read in mc\n",
    "data = ROOT.TFile(dataset_dir+'/random_sample_true_tag.root')\n",
    "tree_data = data.Get('Bd2JpsiKS') \n",
    "tree_data.GetEntries()\n",
    "ntupleVarSet =  RooArgSet(obsTime,obsTimeErr,idxPV,obsTagOS,obsEtaOS) \n",
    "data = RooDataSet('data','data',tree_data,ntupleVarSet)\n",
    "ROOT.SetOwnership(data,False)\n",
    "\n",
    "print('Number of entries: '+ str(data.numEntries()))"
   ]
  },
  {
   "cell_type": "code",
   "execution_count": 12,
   "metadata": {
    "collapsed": true
   },
   "outputs": [],
   "source": [
    "data.Print()"
   ]
  },
  {
   "cell_type": "code",
   "execution_count": 13,
   "metadata": {
    "collapsed": true
   },
   "outputs": [],
   "source": [
    "data.Print(\"v\")"
   ]
  },
  {
   "cell_type": "code",
   "execution_count": 14,
   "metadata": {
    "collapsed": false
   },
   "outputs": [],
   "source": [
    "subdir = '/home/chasenberg/plots/acceptance'\n",
    "plot_dir    = os.path.join(subdir, 'plots')\n",
    "results_dir = os.path.join(subdir, 'results')\n",
    "plot_file   = os.path.join(plot_dir, 'all_plots.pdf')\n",
    "\n",
    "if not os.path.exists(plot_dir):\n",
    "    os.makedirs(plot_dir)\n",
    "if not os.path.exists(results_dir):\n",
    "    os.makedirs(results_dir)"
   ]
  },
  {
   "cell_type": "markdown",
   "metadata": {},
   "source": [
    "### Build acceptance model"
   ]
  },
  {
   "cell_type": "code",
   "execution_count": 15,
   "metadata": {
    "collapsed": false
   },
   "outputs": [
    {
     "data": {
      "text/plain": [
       "0"
      ]
     },
     "execution_count": 15,
     "metadata": {},
     "output_type": "execute_result"
    }
   ],
   "source": [
    "from ROOT import gSystem\n",
    "gSystem.Load(\"libRooFit.so\")\n",
    "gSystem.Load(\"/home/vmueller/repos/dopy/dolib/acceptances/libAcceptances\")"
   ]
  },
  {
   "cell_type": "code",
   "execution_count": 16,
   "metadata": {
    "collapsed": false
   },
   "outputs": [],
   "source": [
    "from ROOT import RooCubicSplineFun\n",
    "from ROOT import RooResolutionModel "
   ]
  },
  {
   "cell_type": "code",
   "execution_count": 17,
   "metadata": {
    "collapsed": false
   },
   "outputs": [],
   "source": [
    "from ROOT import std\n",
    "knots = std.vector(\"double\")(5)\n",
    "knots[0]=(obsTime.getMin()) # 0.0\n",
    "knots[1]=(0.00025)\n",
    "knots[2]=(0.0009)\n",
    "#knots[3]=(0.0007)\n",
    "knots[3]=(0.004)\n",
    "#knots[3]=(0.0011)\n",
    "#knots[5]=(0.013)\n",
    "knots[4]=(obsTime.getMax()) # 18.0"
   ]
  },
  {
   "cell_type": "code",
   "execution_count": 18,
   "metadata": {
    "collapsed": false
   },
   "outputs": [
    {
     "name": "stdout",
     "output_type": "stream",
     "text": [
      "0.0002 0.015 5\n"
     ]
    }
   ],
   "source": [
    "print(obsTime.getMin(),obsTime.getMax(),len(knots))"
   ]
  },
  {
   "cell_type": "code",
   "execution_count": 450,
   "metadata": {
    "collapsed": false,
    "scrolled": true
   },
   "outputs": [
    {
     "name": "stdout",
     "output_type": "stream",
     "text": [
      "1.5\n",
      "1.505\n",
      "1.51\n",
      "1.515\n",
      "1.52\n",
      "1.525\n"
     ]
    }
   ],
   "source": [
    "knotlist = RooArgList(\"knotlist\")\n",
    "ROOT.SetOwnership(knotlist, False)\n",
    "\n",
    "# This is needed because 2 extra coefficients are needed\n",
    "# (assert statement)\n",
    "for i in range(0,len(knots)+1): # len(knots)+2\n",
    "    binname = \"parTimeAccCSpline\" + str(i)\n",
    "    bintitle = \"h_{\" + str(i) + \"}\"\n",
    "    var = RooRealVar(binname, bintitle,0.01*i,3)\n",
    "    print(var.getVal())\n",
    "    #print(str(var.GetName()))\n",
    "    ROOT.SetOwnership(var, False)\n",
    "    knotlist.add(var)\n",
    "    \n",
    "knotlist.add(knotlist[len(knots)])  \n",
    "\n",
    "accspline = RooCubicSplineFun(\"accspline\", \"Spline Acceptance\", obsTime, knots, knotlist)\n",
    "ROOT.SetOwnership(accspline, False)\n",
    "#RooCubicSplineFun()"
   ]
  },
  {
   "cell_type": "markdown",
   "metadata": {},
   "source": [
    "## Fix spline parameters "
   ]
  },
  {
   "cell_type": "code",
   "execution_count": 470,
   "metadata": {
    "collapsed": false
   },
   "outputs": [],
   "source": [
    "parTimeAccCSpline0 = RooRealVar(\"parTimeAccCSpline0\",\"h_{0}\", 8.1403e-01 )\n",
    "parTimeAccCSpline1 = RooRealVar(\"parTimeAccCSpline1\",\"h_{1}\", 1.2741e+00)\n",
    "parTimeAccCSpline2 = RooRealVar(\"parTimeAccCSpline2\",\"h_{2}\", 1.3968e+00)\n",
    "parTimeAccCSpline3 = RooRealVar(\"parTimeAccCSpline3\",\"h_{3}\", 1.7193e+00)\n",
    "parTimeAccCSpline4 = RooRealVar(\"parTimeAccCSpline4\",\"h_{4}\", 1.6193e+00 )\n",
    "parTimeAccCSpline5 = RooRealVar(\"parTimeAccCSpline5\",\"h_{5}\", 1.6727e+00)\n",
    "\n",
    "ROOT.SetOwnership(parTimeAccCSpline0, False)\n",
    "ROOT.SetOwnership(parTimeAccCSpline1, False)\n",
    "ROOT.SetOwnership(parTimeAccCSpline2, False)\n",
    "ROOT.SetOwnership(parTimeAccCSpline3, False)\n",
    "ROOT.SetOwnership(parTimeAccCSpline4, False)\n",
    "ROOT.SetOwnership(parTimeAccCSpline5, False)\n",
    "\n",
    "knotlist = RooArgList(\"knotlist\")\n",
    "ROOT.SetOwnership(knotlist, False)\n",
    "knotlist.add(parTimeAccCSpline0)\n",
    "knotlist.add(parTimeAccCSpline1)\n",
    "knotlist.add(parTimeAccCSpline2)\n",
    "knotlist.add(parTimeAccCSpline3)\n",
    "knotlist.add(parTimeAccCSpline4)\n",
    "knotlist.add(parTimeAccCSpline5)\n",
    "\n",
    "knotlist.add(knotlist[len(knots)])  \n",
    "\n",
    "accspline = RooCubicSplineFun(\"accspline\", \"Spline Acceptance\", obsTime, knots, knotlist)\n",
    "ROOT.SetOwnership(accspline, False)\n",
    "#RooCubicSplineFun()"
   ]
  },
  {
   "cell_type": "markdown",
   "metadata": {},
   "source": [
    "### Build resolution model"
   ]
  },
  {
   "cell_type": "markdown",
   "metadata": {},
   "source": [
    "### Per event resolution "
   ]
  },
  {
   "cell_type": "code",
   "execution_count": 471,
   "metadata": {
    "collapsed": false
   },
   "outputs": [],
   "source": [
    "from ROOT import RooGaussian, RooAddPdf, RooEffResAddModel,RooGaussEfficiencyModel, RooGaussModel, RooAddModel, RooSimultaneous\n",
    "from ROOT import (RooArgSet,\n",
    "                  RooCategory,\n",
    "                  RooRealVar,\n",
    "                  RooDataSet,\n",
    "                  RooPlot,\n",
    "                  RooFit,\n",
    "                  RooStats,\n",
    "                  RooArgList,\n",
    "                  RooFormulaVar)\n",
    "\n",
    "from ROOT import (TFile, \n",
    "                  TH1D, \n",
    "                  TH2D, \n",
    "                  TCanvas, \n",
    "                  gStyle, \n",
    "                  TLine, \n",
    "                  TTree)\n",
    "\n",
    "\n",
    "\n",
    "############################################################################################################\n",
    "############################################################################################################\n",
    "\n",
    "parResCondMean  = RooRealVar('parResCondMean', 'parResCondMean', 0)\n",
    "ROOT.SetOwnership(parResCondMean, False)\n",
    "\n",
    "parResCond_a_1 = RooRealVar('parResCond_a_1', 'parResCond_a_1',0.007)\n",
    "ROOT.SetOwnership(parResCond_a_1, False)\n",
    "parResCond_b_1 = RooRealVar('parResCond_b_1', 'parResCond_b_1',  2.99717e-05)\n",
    "ROOT.SetOwnership(parResCond_b_1, False)\n",
    "\n",
    "\n",
    "parResCond_a_2 = RooRealVar('parResCond_a_2', 'parResCond_a_2',1.29732e-01)\n",
    "ROOT.SetOwnership(parResCond_a_2, False)\n",
    "parResCond_b_2 = RooRealVar('parResCond_b_2', 'parResCond_b_2', 6.80000e-05)\n",
    "ROOT.SetOwnership(parResCond_b_2, False)\n",
    "\n",
    "     \n",
    "parResCond_a_3 = RooRealVar('parResCond_a_3', 'parResCond_a_3', 0)\n",
    "ROOT.SetOwnership(parResCond_a_3, False)\n",
    "parResCond_b_3 = RooRealVar('parResCond_b_3', 'parResCond_b_3',4.00000e-04)\n",
    "ROOT.SetOwnership(parResCond_b_3, False)\n",
    "\n",
    "\n",
    "\n",
    "\n",
    "\n",
    "#Definition and calculation of sigma's, related linearly on the decaytime error from the ntuple \n",
    "parResCondSigma_1 = RooFormulaVar('parResCondSigma_1', '@0*@1+@2', RooArgList(parResCond_a_1, obsTimeErr, parResCond_b_1))\n",
    "ROOT.SetOwnership(parResCondSigma_1, False)\n",
    "\n",
    "parResCondSigma_2 = RooFormulaVar('parResCondSigma_2', '@0*@1+@2', RooArgList(parResCond_a_2, obsTimeErr, parResCond_b_2))\n",
    "ROOT.SetOwnership(parResCondSigma_2, False)\n",
    "\n",
    "parResCondSigma_3 = RooFormulaVar('parResCondSigma_3', '@0*@1+@2', RooArgList(parResCond_a_3, obsTimeErr, parResCond_b_3))\n",
    "ROOT.SetOwnership(parResCondSigma_3, False)\n",
    " \n",
    "\n",
    "\n",
    "#Fractions of particular PDF's  \n",
    "parResCondFrac_1 = RooRealVar('parResCondFrac_1', 'parResCondFrac_1', 0.650000)\n",
    "ROOT.SetOwnership(parResCondFrac_1, False)\n",
    "parResCondFrac_2 = RooRealVar('parResCondFrac_2', 'parResCondFrac_2', 0.346972)\n",
    "ROOT.SetOwnership(parResCondFrac_2, False)\n",
    " \n",
    "\n",
    "pdfEffModel1 = RooGaussEfficiencyModel('pdfEffModel1', 'pdfEffModel1', obsTime, accspline, parResCondMean, parResCondSigma_1)\n",
    "ROOT.SetOwnership(pdfEffModel1, False)\n",
    "pdfEffModel2 = RooGaussEfficiencyModel('pdfEffModel2', 'pdfEffModel2', obsTime, accspline,  parResCondMean, parResCondSigma_2)\n",
    "ROOT.SetOwnership(pdfEffModel2, False)\n",
    "pdfEffModel3 = RooGaussEfficiencyModel('pdfEffModel3', 'pdfEffModel3', obsTime,  accspline, parResCondMean, parResCondSigma_3)\n",
    "ROOT.SetOwnership(pdfEffModel3, False) \n",
    " \n",
    "pdfRes = RooEffResAddModel('pdfRes', 'pdfRes', RooArgList(pdfEffModel1,pdfEffModel2, pdfEffModel3), RooArgList(parResCondFrac_1, parResCondFrac_2))\n",
    "ROOT.SetOwnership(pdfRes, False)\n",
    "pdfRes.Print('t')"
   ]
  },
  {
   "cell_type": "code",
   "execution_count": 472,
   "metadata": {
    "collapsed": false
   },
   "outputs": [
    {
     "data": {
      "text/plain": [
       "ROOT.RooEffResAddModel"
      ]
     },
     "execution_count": 472,
     "metadata": {},
     "output_type": "execute_result"
    }
   ],
   "source": [
    "type(pdfRes)"
   ]
  },
  {
   "cell_type": "markdown",
   "metadata": {},
   "source": [
    "## Simple average resolution"
   ]
  },
  {
   "cell_type": "code",
   "execution_count": 473,
   "metadata": {
    "collapsed": false
   },
   "outputs": [
    {
     "data": {
      "text/plain": [
       "'#Build and add two Gaussians for describing the central distribution\\nmean_1 = RooRealVar(\"mean\", \"mean\", 0,-0.01,0.01)\\nmean_1.setConstant()\\nsigma_1 = RooRealVar(\"sigma_1\", \"sigma_1\",0.00005,0.00005,0.00005)\\nsigma_1.setConstant()\\npdfRes = RooGaussModel(\"signal_1\",\"signal_1\",obsTime,mean_1,sigma_1)\\n\\nROOT.SetOwnership(mean_1,False)\\nROOT.SetOwnership(sigma_1,False)\\nROOT.SetOwnership(pdfRes,False)'"
      ]
     },
     "execution_count": 473,
     "metadata": {},
     "output_type": "execute_result"
    }
   ],
   "source": [
    "'''#Build and add two Gaussians for describing the central distribution\n",
    "mean_1 = RooRealVar(\"mean\", \"mean\", 0,-0.01,0.01)\n",
    "mean_1.setConstant()\n",
    "sigma_1 = RooRealVar(\"sigma_1\", \"sigma_1\",0.00005,0.00005,0.00005)\n",
    "sigma_1.setConstant()\n",
    "pdfRes = RooGaussModel(\"signal_1\",\"signal_1\",obsTime,mean_1,sigma_1)\n",
    "\n",
    "ROOT.SetOwnership(mean_1,False)\n",
    "ROOT.SetOwnership(sigma_1,False)\n",
    "ROOT.SetOwnership(pdfRes,False)'''"
   ]
  },
  {
   "cell_type": "markdown",
   "metadata": {},
   "source": [
    "## Build RooDecay"
   ]
  },
  {
   "cell_type": "code",
   "execution_count": 474,
   "metadata": {
    "collapsed": false
   },
   "outputs": [],
   "source": [
    "from ROOT import gSystem\n",
    "gSystem.Load(\"libRooFit.so\")\n",
    "gSystem.Load(\"/home/vmueller/repos/bd2jpsieeks/external/DecRateCoeff/libDecRateCoeff.so\")\n",
    "from ROOT import DecRateCoeff_Bd,RooUnblindUniform"
   ]
  },
  {
   "cell_type": "code",
   "execution_count": 475,
   "metadata": {
    "collapsed": false
   },
   "outputs": [],
   "source": [
    "parDGamma = RooRealVar(\"parDGamma\", \"#Delta#it{#Gamma}\", 0)\n",
    "parDm     = RooRealVar(\"parDm\",     \"#Delta#it{m}\", 506.4) #0.5064 +- 0.0019 ps-1\n",
    "parTimeTau = RooRealVar(\"parTimeTau\", \"#it{#tau}\", 0.001520)\n",
    "\n",
    "parS = RooRealVar(\"parS\", \"#it{S}\",  0.7,-1,1)\n",
    "parC = RooRealVar(\"parC\", \"#it{C}\", 0, -1, 1)\n",
    "#parC.setConstant(True)\n",
    "parS_ub = RooUnblindUniform(\"parS_ub\", \"parS_ub\", \"helloworld\", 2, parS)\n",
    "#parC_ub = RooUnblindUniform(\"parC_ub\", \"parC_ub\", \"helloworldhello\", 2, parC)\n",
    "\n",
    "parCoshCoeff = RooRealVar(\"parCoshCoeff\", \"parCoshCoeff\", 1)\n",
    "parCoshCoeff.setConstant(True)\n",
    "parSinhCoeff = RooRealVar(\"parSinhCoeff\", \"parSinhCoeff\", 0)\n",
    "\n",
    "parp0OS = RooRealVar('parp0OS', 'parp0OS',0.3634167600547877)\n",
    "parp1OS = RooRealVar('parp1OS', 'parp1OS', 1)\n",
    "\n",
    "pardeltap0OS = RooRealVar('pardeltap0OS', 'pardeltap0OS', 0)\n",
    "pardeltap1OS = RooRealVar('pardeltap1OS', 'pardeltap1OS', 0)\n",
    "\n",
    "paravgetaOS = RooRealVar('paravgetaOS', 'paravgetaOS', 0.3634167600547877)\n",
    "partageffOS = RooRealVar('partageffOS', 'partageffOS', 0.3,0,1)\n",
    "partageffasymOS = RooRealVar('partageffasymOS', 'partageffasymOS', 0)\n",
    "\n",
    "parprodasym = RooRealVar('parprodasym', 'parprodasym', 0)\n",
    "pardetecasym = RooRealVar('pardetecasym', 'pardetecasym', 0)\n",
    "\n",
    "obsFinalState = RooCategory(\"obsFinalState\", \"obsFinalState\")\n",
    "obsFinalState.defineType(\"jpsiks\", 1)\n",
    "\n",
    "parCoshCoeff_decrate = DecRateCoeff_Bd(\"parCoshCoeff_decrate\", \"parCoshCoeff_decrate\", 0,\n",
    "                              obsFinalState, \n",
    "                              parCoshCoeff, \n",
    "                              parCoshCoeff, \n",
    "                              obsTagOS, \n",
    "                              obsEtaOS,  \n",
    "                              parp0OS,\n",
    "                              parp1OS,\n",
    "                              pardeltap0OS,\n",
    "                              pardeltap1OS,\n",
    "                              paravgetaOS,\n",
    "                              partageffOS,\n",
    "                              partageffasymOS,\n",
    "                              parprodasym,\n",
    "                              pardetecasym)\n",
    "\n",
    "parSinhCoeff_decrate = DecRateCoeff_Bd(\"parSinhCoeff_decrate\", \"parSinhCoeff_decrate\", 1,\n",
    "                              obsFinalState, \n",
    "                              parSinhCoeff, \n",
    "                              parSinhCoeff, \n",
    "                              obsTagOS, \n",
    "                              obsEtaOS, \n",
    "                              parp0OS,\n",
    "                              parp1OS,\n",
    "                              pardeltap0OS,\n",
    "                              pardeltap1OS,\n",
    "                              paravgetaOS, \n",
    "                              partageffOS,\n",
    "                              partageffasymOS,\n",
    "                              parprodasym,\n",
    "                              pardetecasym)\n",
    "\n",
    "parCosCoeff = DecRateCoeff_Bd(\"parCosCoeff\", \"parCosCoeff\", 2,\n",
    "                              obsFinalState, \n",
    "                              parC, \n",
    "                              parC, \n",
    "                              obsTagOS, \n",
    "                              obsEtaOS,  \n",
    "                              parp0OS,\n",
    "                              parp1OS,\n",
    "                              pardeltap0OS,\n",
    "                              pardeltap1OS,\n",
    "                              paravgetaOS,\n",
    "                              partageffOS,\n",
    "                              partageffasymOS,\n",
    "                              parprodasym,\n",
    "                              pardetecasym)\n",
    "\n",
    "parSinCoeff = DecRateCoeff_Bd(\"parSinCoeff\", \"parSinCoeff\", 3,\n",
    "                              obsFinalState, \n",
    "                              parS, \n",
    "                              parS, \n",
    "                              obsTagOS, \n",
    "                              obsEtaOS, \n",
    "                              parp0OS,\n",
    "                              parp1OS,\n",
    "                              pardeltap0OS,\n",
    "                              pardeltap1OS,\n",
    "                              paravgetaOS, \n",
    "                              partageffOS,\n",
    "                              partageffasymOS,\n",
    "                              parprodasym,\n",
    "                              pardetecasym)\n",
    "\n",
    "from ROOT import RooBDecay\n",
    "from ROOT import RooSimultaneous\n",
    "\n",
    "pdfDecayTime = RooBDecay(\"simPdf\", \"simPdf\", obsTime, parTimeTau, parDGamma,  parCoshCoeff_decrate, parSinhCoeff_decrate, parCosCoeff, parSinCoeff, parDm, pdfRes, RooBDecay.SingleSided)\n",
    "\n",
    "ROOT.SetOwnership(pdfDecayTime, False)"
   ]
  },
  {
   "cell_type": "code",
   "execution_count": 476,
   "metadata": {
    "collapsed": false,
    "scrolled": false
   },
   "outputs": [
    {
     "name": "stdout",
     "output_type": "stream",
     "text": [
      "INFO: configfile... /home/chasenberg/plots/resolution/results/params_cond_init.txt does not exist\n",
      "INFO: Fit converged\n",
      "INFO: Fit complete\n"
     ]
    }
   ],
   "source": [
    "results_dir = '/home/chasenberg/plots/resolution/results/'\n",
    "\n",
    "parameters_file_name  = 'params_cond.txt'\n",
    "parameters_init_name  = parameters_file_name.replace('.txt', '_init.txt')\n",
    "parameters_final_name = parameters_file_name.replace('.txt', '_final.txt')\n",
    "\n",
    "if os.path.exists(os.path.join(results_dir, parameters_init_name)):\n",
    "    print('INFO: Reading parameters from configfile '  + os.path.join(results_dir, parameters_init_name), flush=True)\n",
    "    data_model_cond.getParameters(data).readFromFile(os.path.join(results_dir, parameters_init_name))\n",
    "else:\n",
    "    print('INFO: configfile... '  + os.path.join(results_dir, parameters_init_name) + ' does not exist', flush=True)\n",
    "    \n",
    "cond_argset = RooArgSet(obsEtaOS)    \n",
    "\n",
    "\n",
    "fit_result = pdfDecayTime.fitTo(data, \n",
    "                                    RooFit.NumCPU(10),\n",
    "                                    RooFit.Minimizer('Minuit','minimize'),\n",
    "                                    RooFit.Hesse(True),\n",
    "                                    RooFit.Save(True),\n",
    "                                    RooFit.ConditionalObservables(cond_argset)) \n",
    "\n",
    "if fit_result:\n",
    "    fit_result.Print('v')\n",
    "    fit_result.correlationMatrix().Print('v')\n",
    "    if fit_result.status()==0:\n",
    "        print('INFO: Fit converged')\n",
    "    else:\n",
    "        print('INFO: Status '+str(fit_result.status()))\n",
    "    print('INFO: Fit complete', flush=True)\n",
    "else:\n",
    "    print('ERROR: There is no fitresult', flush=True)\n",
    " \n",
    "final_params_file = os.path.join(results_dir, parameters_final_name)\n",
    "pdfRes.getParameters(data).writeToFile(final_params_file)"
   ]
  },
  {
   "cell_type": "markdown",
   "metadata": {},
   "source": [
    "## Values for S with blinding: 0.7035530658628502 +- 0.033010454735283856"
   ]
  },
  {
   "cell_type": "code",
   "execution_count": 477,
   "metadata": {
    "collapsed": false,
    "scrolled": true
   },
   "outputs": [
    {
     "data": {
      "text/plain": [
       "(0.6388175552930078, 0.026312691800514765)"
      ]
     },
     "execution_count": 477,
     "metadata": {},
     "output_type": "execute_result"
    }
   ],
   "source": [
    "parS.getVal(),parS.getError()"
   ]
  },
  {
   "cell_type": "code",
   "execution_count": 478,
   "metadata": {
    "collapsed": false
   },
   "outputs": [
    {
     "data": {
      "text/plain": [
       "0.5960378712262353"
      ]
     },
     "execution_count": 478,
     "metadata": {},
     "output_type": "execute_result"
    }
   ],
   "source": [
    "parS_ub.getVal()"
   ]
  },
  {
   "cell_type": "code",
   "execution_count": 479,
   "metadata": {
    "collapsed": false
   },
   "outputs": [
    {
     "data": {
      "text/plain": [
       "(-0.020735897808828008, 0.023174780199977485)"
      ]
     },
     "execution_count": 479,
     "metadata": {},
     "output_type": "execute_result"
    }
   ],
   "source": [
    "parC.getVal(),parC.getError()"
   ]
  },
  {
   "cell_type": "code",
   "execution_count": 480,
   "metadata": {
    "collapsed": false
   },
   "outputs": [
    {
     "data": {
      "text/plain": [
       "(0.3267499334201518, 0.0014289160800901035)"
      ]
     },
     "execution_count": 480,
     "metadata": {},
     "output_type": "execute_result"
    }
   ],
   "source": [
    "partageffOS.getVal(),partageffOS.getError()"
   ]
  },
  {
   "cell_type": "code",
   "execution_count": 481,
   "metadata": {
    "collapsed": false
   },
   "outputs": [
    {
     "data": {
      "text/plain": [
       "(0.28395321842512394, 0.0014289160800901035)"
      ]
     },
     "execution_count": 481,
     "metadata": {},
     "output_type": "execute_result"
    }
   ],
   "source": [
    "partageffOS_ub.getVal(),partageffOS.getError()"
   ]
  },
  {
   "cell_type": "markdown",
   "metadata": {},
   "source": [
    "### Plot RooDecay"
   ]
  },
  {
   "cell_type": "code",
   "execution_count": 482,
   "metadata": {
    "collapsed": false
   },
   "outputs": [
    {
     "name": "stdout",
     "output_type": "stream",
     "text": [
      "INFO: Start plotting\n",
      "INFO: Finish plotting\n"
     ]
    },
    {
     "name": "stderr",
     "output_type": "stream",
     "text": [
      "TCanvas::Constructor:0: RuntimeWarning: Deleting canvas with same name: canvas\n",
      "TCanvas::Constructor:0: RuntimeWarning: Deleting canvas with same name: can\n",
      "TFile::Append:0: RuntimeWarning: Replacing existing TH1: pulls_all (Potential memory leak).\n",
      "TFile::Append:0: RuntimeWarning: Replacing existing TH1: pulls_ok (Potential memory leak).\n",
      "TFile::Append:0: RuntimeWarning: Replacing existing TH1: pulls_danger (Potential memory leak).\n"
     ]
    },
    {
     "data": {
      "image/png": "[encoded data removed]",
      "text/plain": [
       "<ROOT.TCanvas object (\"can\") at 0x1017ba60>"
      ]
     },
     "execution_count": 482,
     "metadata": {},
     "output_type": "execute_result"
    }
   ],
   "source": [
    "print('INFO: Start plotting', flush=True)\n",
    "from ROOT import TColor\n",
    "from root_utils.lhcb_style import set_lhcb_style # Set basic LHCb plot style\n",
    "set_lhcb_style()   \n",
    "\n",
    "decay_set  = ROOT.RooArgSet(pdfDecayTime.getComponents().find('simPdf'))\n",
    "ROOT.SetOwnership(decay_set, False)\n",
    "\n",
    "# Prepare frame\n",
    "canvas = TCanvas('canvas', 'canvas', 1000, 600)\n",
    "ROOT.SetOwnership(canvas, False)\n",
    "\n",
    "plot_frame = obsTime.frame(ROOT.RooFit.Range(0.00022, 0.015), ROOT.RooFit.Bins(115))\n",
    "#plot_frame.SetMinimum(-100)\n",
    "\n",
    "ROOT.SetOwnership(plot_frame, False)\n",
    "\n",
    "data.plotOn(plot_frame, ROOT.RooFit.Name('data'))  \n",
    "#data.plotOn(plot_frame, RooFit.Cut(\"B0_TAGDECISION_OS==B0_TAGDECISION_OS::B0b\"), ROOT.RooFit.Name('data'))  \n",
    "pdfDecayTime.plotOn(plot_frame, RooFit.ProjWData(RooArgSet(obsTimeErr), data, True), RooFit.LineColor(410),ROOT.RooFit.Name('decay_fit'))\n",
    "#pdfDecayTime.plotOn(plot_frame,RooFit.Slice(obsTagOS,\"B0b\"), RooFit.ProjWData(RooArgSet(obsTimeErr), data, True), RooFit.LineColor(410),ROOT.RooFit.Name('decay_fit'))\n",
    "\n",
    "\n",
    "### Add additional informations to the plot\n",
    "text_size = 0.05\n",
    "# Create TLegend\n",
    "legend = ROOT.TLegend(0.7, 0.7, 0.80, 0.85)\n",
    "#legend = ROOT.TLegend(0.7, 0.30, 0.80, 0.5)\n",
    "ROOT.SetOwnership(plot_frame, False)\n",
    "legend.AddEntry(plot_frame.findObject('data'), 'MC', 'p')\n",
    "legend.AddEntry(plot_frame.findObject('decay_fit'), '#it{B}^{0}#rightarrow#it{J/#psi}#it{K}_{#kern[-0.3]{S}}', 'l')\n",
    "legend.SetTextSize(text_size)\n",
    "\n",
    "plot_frame.GetYaxis().SetRangeUser(0.1, plot_frame.GetMaximum()*1.2)\n",
    "\n",
    "# Plot pulls\n",
    "plotname = 'decaytime_mc_blinded'\n",
    "can,_ = plot_pulls(plotname, plot_frame, drawables=[legend], save_path= subdir + '/plots/', logy=True)\n",
    "print('INFO: Finish plotting', flush=True)\n",
    "can"
   ]
  },
  {
   "cell_type": "markdown",
   "metadata": {},
   "source": [
    "## Plotting Acceptance"
   ]
  },
  {
   "cell_type": "code",
   "execution_count": 483,
   "metadata": {
    "collapsed": false
   },
   "outputs": [
    {
     "name": "stderr",
     "output_type": "stream",
     "text": [
      "TFile::Append:0: RuntimeWarning: Replacing existing TH1: hist_obsTime (Potential memory leak).\n",
      "TFile::Append:0: RuntimeWarning: Replacing existing TH1: hist_obsTime (Potential memory leak).\n",
      "TCanvas::Constructor:0: RuntimeWarning: Deleting canvas with same name: canvas\n"
     ]
    }
   ],
   "source": [
    "nbins = 50\n",
    "time_min = 0.0002#obsTime.getMin()\n",
    "time_max = obsTime.getMax()\n",
    "\n",
    "from ROOT import TH1D\n",
    "hist_obsTime = TH1D('hist_obsTime', 'hist_obsTime', nbins, time_min, time_max)\n",
    "ROOT.SetOwnership(hist_obsTime, False)\n",
    "\n",
    "for i in range(data.numEntries()):\n",
    "    hist_obsTime.Fill(data.get(i).getRealValue('obsTime'))\n",
    "    \n",
    "canvas = TCanvas('canvas', 'canvas', 1000, 600)\n",
    "ROOT.SetOwnership(canvas, False)\n",
    "hist_obsTime.Sumw2()\n",
    "hist_obsTime.Draw()\n",
    "#canvas   "
   ]
  },
  {
   "cell_type": "code",
   "execution_count": 484,
   "metadata": {
    "collapsed": false
   },
   "outputs": [
    {
     "name": "stderr",
     "output_type": "stream",
     "text": [
      "TFile::Append:0: RuntimeWarning: Replacing existing TH1: hist_exp (Potential memory leak).\n"
     ]
    }
   ],
   "source": [
    "from ROOT import TRandom3\n",
    "\n",
    "expo = TRandom3(1337)\n",
    "hist_exp = TH1D('hist_exp', 'hist_exp', nbins, time_min, time_max)\n",
    "\n",
    "for i in range(0,nbins):\n",
    "    hist_exp.SetBinContent(i,data.numEntries()*np.exp(-(time_min+(i+0.5)*(time_max-time_min)/nbins)/1.520))\n",
    "\n",
    "hist_exp.Sumw2()\n",
    "hist_exp.Draw()\n",
    "#canvas"
   ]
  },
  {
   "cell_type": "code",
   "execution_count": 485,
   "metadata": {
    "collapsed": false
   },
   "outputs": [
    {
     "name": "stderr",
     "output_type": "stream",
     "text": [
      "TH1D::Sumw2:0: RuntimeWarning: Sum of squares of weights structure already created\n"
     ]
    }
   ],
   "source": [
    "hist_obsTime.Sumw2()\n",
    "hist = TH1D(hist_obsTime)\n",
    "hist.Divide(hist_exp)\n",
    "norm_divided = hist.GetSumOfWeights()\n",
    "hist.Scale(1/100)\n",
    "hist.Draw()\n",
    "#canvas"
   ]
  },
  {
   "cell_type": "code",
   "execution_count": 486,
   "metadata": {
    "collapsed": false
   },
   "outputs": [
    {
     "name": "stdout",
     "output_type": "stream",
     "text": [
      "0.024388874125000005\n",
      "0.012136681606658624\n"
     ]
    }
   ],
   "source": [
    "acc_int = accspline.createIntegral(RooArgSet(obsTime))\n",
    "print(acc_int.getVal())\n",
    "scale_bin = (time_max-time_min)/nbins\n",
    "scale = (1/acc_int.getVal())*scale_bin\n",
    "print(scale)"
   ]
  },
  {
   "cell_type": "code",
   "execution_count": 487,
   "metadata": {
    "collapsed": false,
    "scrolled": false
   },
   "outputs": [
    {
     "name": "stderr",
     "output_type": "stream",
     "text": [
      "TCanvas::Constructor:0: RuntimeWarning: Deleting canvas with same name: canvas_scaled\n"
     ]
    },
    {
     "data": {
      "image/png": "[encoded data removed]",
      "text/plain": [
       "<ROOT.TCanvas object (\"canvas_scaled\") at 0xff54e10>"
      ]
     },
     "execution_count": 487,
     "metadata": {},
     "output_type": "execute_result"
    }
   ],
   "source": [
    "from ROOT import TLine\n",
    "from ROOT import TLegend\n",
    "\n",
    "canvas_scaled = TCanvas('canvas_scaled', 'canvas_scaled', 1000, 600)\n",
    "time_frame = obsTime.frame()\n",
    "accspline.plotOn(time_frame, RooFit.Normalization(scale),RooFit.LineColor(1))\n",
    "#time_frame.addTH1(hist)\n",
    "\n",
    "coeffs = accspline.coefficients()\n",
    "basesplines = []\n",
    "lines = []\n",
    "baselist = RooArgList()\n",
    "\n",
    "for i,knot in enumerate(knots):\n",
    "    baselist = coeffs.snapshot()\n",
    "    for j in range(baselist.getSize()):\n",
    "        if j==i:\n",
    "            baselist[i] = coeffs[i] #RooRealVar('blub_'+str(i)+'_'+str(j), 'blub_'+str(i)+'_'+str(j), 1.0)#\n",
    "            ROOT.SetOwnership(baselist[i], False)\n",
    "        else:\n",
    "            baselist[i].setVal(0.0)   \n",
    "    baselist.Print()        \n",
    "    basespline = RooCubicSplineFun('csplines'+str(i),'csplines'+str(i), obsTime, knots, baselist)\n",
    "    basesplines.append(basespline)\n",
    "    basespline.plotOn(time_frame, RooFit.Normalization(scale), RooFit.LineColor(226), RooFit.LineStyle(2), RooFit.LineWidth(2), RooFit.Name('basespline'))\n",
    "    line = TLine(knot, 0, knot, time_frame.GetMaximum())\n",
    "    line.SetLineColor(96)\n",
    "    line.SetLineStyle(3)\n",
    "    lines.append(line)\n",
    "\n",
    "accspline.plotOn(time_frame, RooFit.Normalization(scale),RooFit.LineColor(1), RooFit.Name('accspline'))\n",
    "time_frame.GetYaxis().SetTitle('acceptance')\n",
    "time_frame.Draw()\n",
    "for line in lines:\n",
    "    line.Draw()\n",
    "    \n",
    "### Add additional informations to the plot\n",
    "text_size = 0.05\n",
    "# Create TLegend\n",
    "legend = ROOT.TLegend(0.75, 0.25, 0.90, 0.45)\n",
    "#legend.AddEntry(time_frame.findObject('hist_obsTime'), 'MC #it{B}^{0}#rightarrow#it{#psi}(2S)#it{K}_{#kern[-0.3]{S}}', 'p')\n",
    "legend.AddEntry(time_frame.findObject('accspline'), 'Acceptance', 'l')\n",
    "legend.AddEntry(time_frame.findObject('basespline'), 'Basesplines', 'l')\n",
    "legend.SetTextSize(text_size) \n",
    "legend.Draw()\n",
    "#canvas_scaled.SaveAs('/home/chasenberg/plots/acceptance/acceptance_mc.pdf') \n",
    "canvas_scaled "
   ]
  },
  {
   "cell_type": "code",
   "execution_count": 488,
   "metadata": {
    "collapsed": true
   },
   "outputs": [],
   "source": [
    "canvas_scaled.SaveAs(subdir + '/plots/'+'acceptance.pdf')"
   ]
  }
 ],
 "metadata": {
  "kernelspec": {
   "display_name": "Python 3",
   "language": "python",
   "name": "python3"
  },
  "language_info": {
   "codemirror_mode": {
    "name": "ipython",
    "version": 3
   },
   "file_extension": ".py",
   "mimetype": "text/x-python",
   "name": "python",
   "nbconvert_exporter": "python",
   "pygments_lexer": "ipython3",
   "version": "3.4.4"
  }
 },
 "nbformat": 4,
 "nbformat_minor": 0
}
