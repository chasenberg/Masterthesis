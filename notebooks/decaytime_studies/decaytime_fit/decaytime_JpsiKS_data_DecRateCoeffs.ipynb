{
 "cells": [
  {
   "cell_type": "markdown",
   "metadata": {},
   "source": [
    "# Acceptance model for B02JpsiKS"
   ]
  },
  {
   "cell_type": "code",
   "execution_count": 1,
   "metadata": {
    "collapsed": false
   },
   "outputs": [],
   "source": [
    "%matplotlib inline\n",
    "%load_ext autoreload\n",
    "%autoreload 2\n",
    "\n",
    "import os\n",
    "import sys\n",
    "import ROOT\n",
    "from ROOT import (RooArgSet,\n",
    "                  RooCategory,\n",
    "                  RooRealVar,\n",
    "                  RooDataSet,\n",
    "                  RooPlot,\n",
    "                  RooFit,\n",
    "                  RooStats,\n",
    "                  RooArgList,\n",
    "                  RooFormulaVar)\n",
    "\n",
    "from ROOT import (TFile, \n",
    "                  TH1D, \n",
    "                  TH2D, \n",
    "                  TCanvas, \n",
    "                  gStyle, \n",
    "                  TLine, \n",
    "                  TTree)\n",
    "\n",
    "import math\n",
    "import itertools\n",
    "import numpy as np\n",
    "import matplotlib as mpl\n",
    "import matplotlib.pyplot as plt\n",
    "from matplotlib.backends.backend_pdf import PdfPages\n",
    "\n",
    "from root_pandas import read_root\n",
    "import pandas as pd\n",
    "            \n",
    "sys.path.append('/home/vmueller/repos/')\n",
    "from dopy.doroot.root_utils import read_roodataset_from_tree, plot_pulls, build_tchain_from_files\n",
    "from dopy.doplot.plotting import Plotter, Plot\n",
    "import dopy.doroot.rootnotes \n",
    "from dopy.doplot.selection import add_log_to_dataframe, add_max_to_dataframe, add_min_to_dataframe"
   ]
  },
  {
   "cell_type": "code",
   "execution_count": 2,
   "metadata": {
    "collapsed": false
   },
   "outputs": [],
   "source": [
    "dataset_tree_name = 'Bd2JpsiKS'\n",
    "dataset_file_name = '/fhgfs/groups/e5/lhcb/analysis/B2CC/Bd2JpsiKS_run2/FT_calib/Bd2JpsiKS_final_sw_FTcalibrated_FTcombined_FTcombined.root'"
   ]
  },
  {
   "cell_type": "code",
   "execution_count": 3,
   "metadata": {
    "collapsed": false
   },
   "outputs": [],
   "source": [
    "dataset_file = TFile(dataset_file_name)\n",
    "ROOT.SetOwnership(dataset_file, False)\n",
    "\n",
    "dataset_tree = dataset_file.Get(dataset_tree_name)\n",
    "ROOT.SetOwnership(dataset_tree, False) "
   ]
  },
  {
   "cell_type": "code",
   "execution_count": null,
   "metadata": {
    "collapsed": true
   },
   "outputs": [],
   "source": []
  },
  {
   "cell_type": "code",
   "execution_count": 52,
   "metadata": {
    "collapsed": false
   },
   "outputs": [
    {
     "name": "stdout",
     "output_type": "stream",
     "text": [
      "Number of entries: 150703\n"
     ]
    }
   ],
   "source": [
    "obsTime     = RooRealVar('B0_FitPVConst_tau_flat', 'obsTime', 0,0.0002, 0.015, 'ns')\n",
    "obsTimeErr = RooRealVar(\"B0_FitPVConst_tauErr_flat\", \"obsTimeErr\", 0,-0.001,0.001, \"ns\")\n",
    "sweight_sig  = RooRealVar(\"sweight_sig\", \"sweight_sig\",0 ,-100000,1000000000)\n",
    "idxPV = RooRealVar(\"idxPV\", \"idxPV\", 0,0,0)\n",
    "\n",
    "#Read tagger output \n",
    "obsTagOS = RooCategory(\"B0_TAGDECISION_OS_new\", \"#it{d}_{OS}\")\n",
    "obsTagOS.defineType(\"B0b\", -1)\n",
    "obsTagOS.defineType(\"B0\",  +1)\n",
    "obsTagOS.defineType(\"noTag\", 0)\n",
    "obsTagSS = RooCategory(\"B0_TAGDECISION_SS_new\", \"#it{d}_{SS}\")\n",
    "obsTagSS.defineType(\"B0b\", -1)\n",
    "obsTagSS.defineType(\"B0\",  +1)\n",
    "\n",
    "\n",
    "obsEtaOS = RooRealVar('B0_TAGOMEGA_OS_new',\"#it{#eta}_{OS}\", 0,0.5)\n",
    "obsEtaSS = RooRealVar('B0_TAGOMEGA_SS_new',\"#it{#eta}_{SS}\", 0,0.5)\n",
    "\n",
    "ROOT.SetOwnership(obsTime, False)\n",
    "ROOT.SetOwnership(obsTimeErr, False)\n",
    "ROOT.SetOwnership(sweight_sig, False)\n",
    "ROOT.SetOwnership(idxPV, False)\n",
    "ROOT.SetOwnership(obsTagOS, False)\n",
    "ROOT.SetOwnership(obsTagSS, False)\n",
    "ROOT.SetOwnership(obsEtaOS, False)\n",
    "ROOT.SetOwnership(obsEtaSS, False)\n",
    "\n",
    "data = ROOT.TFile(dataset_file_name)\n",
    "tree_data = data.Get('Bd2JpsiKS') \n",
    "tree_data.GetEntries()\n",
    "ntupleVarSet =  RooArgSet(obsTime,obsTimeErr,sweight_sig,idxPV,obsTagOS,obsEtaOS)#,obsEtaSS,obsTagSS) \n",
    "data = RooDataSet('data','data',ntupleVarSet,RooFit.Import(tree_data), RooFit.WeightVar(\"sweight_sig\"))\n",
    "ROOT.SetOwnership(data,False)\n",
    "\n",
    "print('Number of entries: '+ str(data.numEntries()))"
   ]
  },
  {
   "cell_type": "code",
   "execution_count": 53,
   "metadata": {
    "collapsed": false
   },
   "outputs": [
    {
     "data": {
      "text/plain": [
       "True"
      ]
     },
     "execution_count": 53,
     "metadata": {},
     "output_type": "execute_result"
    }
   ],
   "source": [
    "data.isWeighted()"
   ]
  },
  {
   "cell_type": "code",
   "execution_count": 54,
   "metadata": {
    "collapsed": false
   },
   "outputs": [],
   "source": [
    "subdir = '/home/chasenberg/plots/decaytime'\n",
    "plot_dir    = os.path.join(subdir, 'plots')\n",
    "results_dir = os.path.join(subdir, 'results')\n",
    "plot_file   = os.path.join(plot_dir, 'all_plots.pdf')\n",
    "\n",
    "if not os.path.exists(plot_dir):\n",
    "    os.makedirs(plot_dir)\n",
    "if not os.path.exists(results_dir):\n",
    "    os.makedirs(results_dir)"
   ]
  },
  {
   "cell_type": "markdown",
   "metadata": {},
   "source": [
    "### Build acceptance model"
   ]
  },
  {
   "cell_type": "code",
   "execution_count": 55,
   "metadata": {
    "collapsed": false
   },
   "outputs": [
    {
     "data": {
      "text/plain": [
       "1"
      ]
     },
     "execution_count": 55,
     "metadata": {},
     "output_type": "execute_result"
    }
   ],
   "source": [
    "from ROOT import gSystem\n",
    "gSystem.Load(\"libRooFit.so\")\n",
    "gSystem.Load(\"/home/vmueller/repos/dopy/dolib/acceptances/libAcceptances\")"
   ]
  },
  {
   "cell_type": "code",
   "execution_count": 56,
   "metadata": {
    "collapsed": false
   },
   "outputs": [],
   "source": [
    "from ROOT import RooCubicSplineFun\n",
    "from ROOT import RooResolutionModel "
   ]
  },
  {
   "cell_type": "code",
   "execution_count": 57,
   "metadata": {
    "collapsed": false
   },
   "outputs": [],
   "source": [
    "from ROOT import std\n",
    "knots = std.vector(\"double\")(5)\n",
    "knots[0]=(obsTime.getMin()) # 0.0\n",
    "knots[1]=(0.0003)\n",
    "knots[2]=(0.0009)\n",
    "knots[3]=(0.004)\n",
    "knots[4]=(obsTime.getMax()) "
   ]
  },
  {
   "cell_type": "code",
   "execution_count": 58,
   "metadata": {
    "collapsed": false
   },
   "outputs": [
    {
     "name": "stdout",
     "output_type": "stream",
     "text": [
      "0.0003 0.015 5\n"
     ]
    }
   ],
   "source": [
    "print(obsTime.getMin(),obsTime.getMax(),len(knots))"
   ]
  },
  {
   "cell_type": "code",
   "execution_count": 59,
   "metadata": {
    "collapsed": false
   },
   "outputs": [
    {
     "name": "stdout",
     "output_type": "stream",
     "text": [
      "1.5\n",
      "1.505\n",
      "1.51\n",
      "1.515\n",
      "1.52\n",
      "1.525\n"
     ]
    }
   ],
   "source": [
    "knotlist = RooArgList(\"knotlist\")\n",
    "ROOT.SetOwnership(knotlist, False)\n",
    "\n",
    "# This is needed because 2 extra coefficients are needed\n",
    "# (assert statement)\n",
    "for i in range(0,len(knots)+1): # len(knots)+2\n",
    "    binname = \"parTimeAccCSpline\" + str(i)\n",
    "    bintitle = \"h_{\" + str(i) + \"}\"\n",
    "    var = RooRealVar(binname, bintitle,0.01*i,3)\n",
    "    print(var.getVal())\n",
    "    #print(str(var.GetName()))\n",
    "    ROOT.SetOwnership(var, False)\n",
    "    knotlist.add(var)\n",
    "    \n",
    "knotlist.add(knotlist[len(knots)])  \n",
    "\n",
    "accspline = RooCubicSplineFun(\"accspline\", \"Spline Acceptance\", obsTime, knots, knotlist)\n",
    "ROOT.SetOwnership(accspline, False)\n",
    "#RooCubicSplineFun()"
   ]
  },
  {
   "cell_type": "code",
   "execution_count": 60,
   "metadata": {
    "collapsed": false
   },
   "outputs": [
    {
     "data": {
      "text/plain": [
       "<ROOT.RooArgList object (\"knotlist\") at 0xa452620>"
      ]
     },
     "execution_count": 60,
     "metadata": {},
     "output_type": "execute_result"
    }
   ],
   "source": [
    "knotlist"
   ]
  },
  {
   "cell_type": "markdown",
   "metadata": {},
   "source": [
    "### Build resolution model"
   ]
  },
  {
   "cell_type": "code",
   "execution_count": 61,
   "metadata": {
    "collapsed": true
   },
   "outputs": [],
   "source": [
    "from ROOT import RooGaussEfficiencyModel\n",
    "from ROOT import RooEffResAddModel"
   ]
  },
  {
   "cell_type": "code",
   "execution_count": 62,
   "metadata": {
    "collapsed": false
   },
   "outputs": [],
   "source": [
    "from ROOT import RooGaussian, RooAddPdf, RooEffResAddModel,RooGaussEfficiencyModel, RooGaussModel, RooAddModel, RooSimultaneous\n",
    "from ROOT import (RooArgSet,\n",
    "                  RooCategory,\n",
    "                  RooRealVar,\n",
    "                  RooDataSet,\n",
    "                  RooPlot,\n",
    "                  RooFit,\n",
    "                  RooStats,\n",
    "                  RooArgList,\n",
    "                  RooFormulaVar)\n",
    "\n",
    "from ROOT import (TFile, \n",
    "                  TH1D, \n",
    "                  TH2D, \n",
    "                  TCanvas, \n",
    "                  gStyle, \n",
    "                  TLine, \n",
    "                  TTree)\n",
    "\n",
    "\n",
    "\n",
    "############################################################################################################\n",
    "############################################################################################################\n",
    "\n",
    "parResCondMean  = RooRealVar('parResCondMean', 'parResCondMean', 0,0,0)\n",
    "ROOT.SetOwnership(parResCondMean, False)\n",
    "\n",
    "parResCond_a_1 = RooRealVar('parResCond_a_1', 'parResCond_a_1', 0.00085,0.00085,0.00085)\n",
    "ROOT.SetOwnership(parResCond_a_1, False)\n",
    "parResCond_b_1 = RooRealVar('parResCond_b_1', 'parResCond_b_1', 3.19955196557233e-05,3.19955196557233e-05,3.19955196557233e-05)\n",
    "ROOT.SetOwnership(parResCond_b_1, False)\n",
    "\n",
    "\n",
    "parResCond_a_2 = RooRealVar('parResCond_a_2', 'parResCond_a_2',0.000122,0.000122,0.000122)\n",
    "ROOT.SetOwnership(parResCond_a_2, False)\n",
    "parResCond_b_2 = RooRealVar('parResCond_b_2', 'parResCond_b_2',6.904794288074763e-05,6.904794288074763e-05,6.904794288074763e-05)\n",
    "ROOT.SetOwnership(parResCond_b_2, False)\n",
    "\n",
    "\n",
    "parResCond_a_3 = RooRealVar('parResCond_a_3', 'parResCond_a_3', 0,0,0)\n",
    "ROOT.SetOwnership(parResCond_a_3, False)\n",
    "parResCond_b_3 = RooRealVar('parResCond_b_3', 'parResCond_b_3',0.0004,0.0004,0.0004)\n",
    "ROOT.SetOwnership(parResCond_b_3, False)\n",
    "\n",
    "## Floating resolution\n",
    "'''\n",
    "parResCond_a_1 = RooRealVar('parResCond_a_1', 'parResCond_a_1', 0.000957,0.0009,0.001)\n",
    "ROOT.SetOwnership(parResCond_a_1, False)\n",
    "parResCond_b_1 = RooRealVar('parResCond_b_1', 'parResCond_b_1', 3.400373600920488e-05,3.1e-05,3.7e-05)\n",
    "ROOT.SetOwnership(parResCond_b_1, False)\n",
    "\n",
    "\n",
    "parResCond_a_2 = RooRealVar('parResCond_a_2', 'parResCond_a_2',0.00136,0.001,0.0017)\n",
    "ROOT.SetOwnership(parResCond_a_2, False)\n",
    "parResCond_b_2 = RooRealVar('parResCond_b_2', 'parResCond_b_2',7.4517e-05,7.1e-05,7.7e-05)\n",
    "ROOT.SetOwnership(parResCond_b_2, False)\n",
    "\n",
    "\n",
    "parResCond_a_3 = RooRealVar('parResCond_a_3', 'parResCond_a_3', 0,0,0)\n",
    "ROOT.SetOwnership(parResCond_a_3, False)\n",
    "parResCond_b_3 = RooRealVar('parResCond_b_3', 'parResCond_b_3',0.0002531542345915059,0.00021,0.0003)\n",
    "ROOT.SetOwnership(parResCond_b_3, False)'''\n",
    "\n",
    "#Definition and calculation of sigma's, related linearly on the decaytime error from the ntuple \n",
    "parResCondSigma_1 = RooFormulaVar('parResCondSigma_1', '@0*@1+@2', RooArgList(parResCond_a_1, obsTimeErr, parResCond_b_1))\n",
    "ROOT.SetOwnership(parResCondSigma_1, False)\n",
    "\n",
    "parResCondSigma_2 = RooFormulaVar('parResCondSigma_2', '@0*@1+@2', RooArgList(parResCond_a_2, obsTimeErr, parResCond_b_2))\n",
    "ROOT.SetOwnership(parResCondSigma_2, False)\n",
    "\n",
    "parResCondSigma_3 = RooFormulaVar('parResCondSigma_3', '@0*@1+@2', RooArgList(parResCond_a_3, obsTimeErr, parResCond_b_3))\n",
    "ROOT.SetOwnership(parResCondSigma_3, False)\n",
    "\n",
    "#Fractions of particular PDF's  \n",
    "parResCondFrac_1 = RooRealVar('parResCondFrac_1', 'parResCondFrac_1', 0.7091842240219441,0.7091842240219441,0.7091842240219441)\n",
    "ROOT.SetOwnership(parResCondFrac_1, False)\n",
    "parResCondFrac_2 = RooRealVar('parResCondFrac_2', 'parResCondFrac_2', 0.2855196270337253,0.2855196270337253,0.2855196270337253)\n",
    "ROOT.SetOwnership(parResCondFrac_2, False)\n",
    " \n",
    "pdfEffModel1 = RooGaussEfficiencyModel('pdfEffModel1', 'pdfEffModel1', obsTime, accspline, parResCondMean, parResCondSigma_1)\n",
    "ROOT.SetOwnership(pdfEffModel1, False)\n",
    "pdfEffModel2 = RooGaussEfficiencyModel('pdfEffModel2', 'pdfEffModel2', obsTime, accspline, parResCondMean, parResCondSigma_2)\n",
    "ROOT.SetOwnership(pdfEffModel2, False)\n",
    "pdfEffModel3 = RooGaussEfficiencyModel('pdfEffModel3', 'pdfEffModel3', obsTime, accspline, parResCondMean, parResCondSigma_3)\n",
    "ROOT.SetOwnership(pdfEffModel3, False) \n",
    " \n",
    "pdfRes = RooEffResAddModel('pdfRes', 'pdfRes', RooArgList(pdfEffModel1,pdfEffModel2, pdfEffModel3), RooArgList(parResCondFrac_1, parResCondFrac_2))\n",
    "ROOT.SetOwnership(pdfRes, False)\n",
    "pdfRes.Print('t')"
   ]
  },
  {
   "cell_type": "code",
   "execution_count": 63,
   "metadata": {
    "collapsed": false
   },
   "outputs": [
    {
     "data": {
      "text/plain": [
       "(0.00085, 0.000122, 0.0)"
      ]
     },
     "execution_count": 63,
     "metadata": {},
     "output_type": "execute_result"
    }
   ],
   "source": [
    "parResCond_a_1.getVal(),parResCond_a_2.getVal(),parResCond_a_3.getVal()"
   ]
  },
  {
   "cell_type": "code",
   "execution_count": 64,
   "metadata": {
    "collapsed": false
   },
   "outputs": [
    {
     "data": {
      "text/plain": [
       "(3.19955196557233e-05, 6.904794288074763e-05, 0.0004)"
      ]
     },
     "execution_count": 64,
     "metadata": {},
     "output_type": "execute_result"
    }
   ],
   "source": [
    "parResCond_b_1.getVal(),parResCond_b_2.getVal(),parResCond_b_3.getVal()"
   ]
  },
  {
   "cell_type": "markdown",
   "metadata": {},
   "source": [
    "### Build RooBDecay"
   ]
  },
  {
   "cell_type": "code",
   "execution_count": 65,
   "metadata": {
    "collapsed": false
   },
   "outputs": [],
   "source": [
    "from ROOT import gSystem\n",
    "gSystem.Load(\"libRooFit.so\")\n",
    "gSystem.Load(\"/home/vmueller/repos/bd2jpsieeks/external/DecRateCoeff/libDecRateCoeff.so\")\n",
    "from ROOT import DecRateCoeff_Bd,RooUnblindUniform"
   ]
  },
  {
   "cell_type": "code",
   "execution_count": 66,
   "metadata": {
    "collapsed": false,
    "scrolled": true
   },
   "outputs": [],
   "source": [
    "parDGamma = RooRealVar(\"parDGamma\", \"#Delta#it{#Gamma}\", 0)\n",
    "parDm     = RooRealVar(\"parDm\",     \"#Delta#it{m}\", 506.4) #0.5064 +- 0.0019 ps-1\n",
    "parTimeTau = RooRealVar(\"parTimeTau\", \"#it{#tau}\", 0.001520)\n",
    "\n",
    "parS = RooRealVar(\"parS\", \"#it{S}\",  0.7, -1, 1)\n",
    "parC = RooRealVar(\"parC\", \"#it{C}\", 0, -1, 1)\n",
    "\n",
    "parS_ub = RooUnblindUniform(\"parS_ub\", \"parS_ub\", \"Sin2beta2017!\", 2, parS)\n",
    "parC_ub = RooUnblindUniform(\"parC_ub\", \"parC_ub\", \"Sin2beta2017!\", 2, parC)\n",
    "\n",
    "parCoshCoeff = RooRealVar(\"parCoshCoeff\", \"parCoshCoeff\", 1,1,1)\n",
    "parSinhCoeff = RooRealVar(\"parSinhCoeff\", \"parSinhCoeff\", 0,0,0)\n",
    "\n",
    "#Flavour tagging parameters for the OS tagger\n",
    "parp0OS = RooRealVar('parp0OS', 'parp0OS', 0.386)\n",
    "parp1OS = RooRealVar('parp1OS', 'parp1OS', 0.777)\n",
    "\n",
    "pardeltap0OS = RooRealVar('pardeltap0OS', 'pardeltap0OS', 0.008)\n",
    "pardeltap1OS = RooRealVar('pardeltap1OS', 'pardeltap1OS', -0.020)\n",
    "\n",
    "paravgetaOS = RooRealVar('paravgetaOS', 'paravgetaOS', 0.352)\n",
    "partageffOS = RooRealVar('partageffOS', 'partageffOS', 1)\n",
    "\n",
    "partageffasymOS = RooRealVar('partageffasymOS', 'partageffasymOS', 0)\n",
    "\n",
    "#Flavour tagging parameters for the SS tagger\n",
    "parp0SS = RooRealVar('parp0SS', 'parp0SS', 0.439)\n",
    "parp1SS = RooRealVar('parp1SS', 'parp1SS', 0.870)\n",
    "\n",
    "pardeltap0SS = RooRealVar('pardeltap0SS', 'pardeltap0SS', 0.012)\n",
    "pardeltap1SS = RooRealVar('pardeltap1SS', 'pardeltap1SS', 0.054)\n",
    "\n",
    "paravgetaSS = RooRealVar('paravgetaSS', 'paravgetaSS', 0.434)\n",
    "partageffSS = RooRealVar('partageffSS', 'partageffSS', 1)\n",
    "\n",
    "partageffasymSS = RooRealVar('partageffasymSS', 'partageffasymSS', 0)\n",
    "\n",
    "parprodasym = RooRealVar('parprodasym', 'parprodasym', 0)\n",
    "pardetecasym = RooRealVar('pardetecasym', 'pardetecasym', 0) \n",
    "\n",
    "obsFinalState = RooCategory(\"obsFinalState\", \"obsFinalState\")\n",
    "obsFinalState.defineType(\"jpsiks\", 1)\n",
    "\n",
    "parCoshCoeff_decrate = DecRateCoeff_Bd(\"parCoshCoeff_decrate\", \"parCoshCoeff_decrate\", 0,\n",
    "                              obsFinalState, \n",
    "                              parCoshCoeff, \n",
    "                              parCoshCoeff, \n",
    "                              obsTagOS, \n",
    "                              obsEtaOS,  \n",
    "                              parp0OS,\n",
    "                              parp1OS,\n",
    "                              pardeltap0OS,\n",
    "                              pardeltap1OS,\n",
    "                              paravgetaOS,\n",
    "                              partageffOS,\n",
    "                              partageffasymOS,\n",
    "                              obsTagSS, \n",
    "                              obsEtaSS,  \n",
    "                              parp0SS,\n",
    "                              parp1SS,\n",
    "                              pardeltap0SS,\n",
    "                              pardeltap1SS,\n",
    "                              paravgetaSS,\n",
    "                              partageffSS,\n",
    "                              partageffasymSS,\n",
    "                              parprodasym,\n",
    "                              pardetecasym)\n",
    "\n",
    "parSinhCoeff_decrate = DecRateCoeff_Bd(\"parSinhCoeff_decrate\", \"parSinhCoeff_decrate\", 1,\n",
    "                              obsFinalState, \n",
    "                              parSinhCoeff, \n",
    "                              parSinhCoeff, \n",
    "                              obsTagOS, \n",
    "                              obsEtaOS,  \n",
    "                              parp0OS,\n",
    "                              parp1OS,\n",
    "                              pardeltap0OS,\n",
    "                              pardeltap1OS,\n",
    "                              paravgetaOS,\n",
    "                              partageffOS,\n",
    "                              partageffasymOS,\n",
    "                              obsTagSS, \n",
    "                              obsEtaSS,  \n",
    "                              parp0SS,\n",
    "                              parp1SS,\n",
    "                              pardeltap0SS,\n",
    "                              pardeltap1SS,\n",
    "                              paravgetaSS,\n",
    "                              partageffSS,\n",
    "                              partageffasymSS,\n",
    "                              parprodasym,\n",
    "                              pardetecasym)\n",
    "\n",
    "parCosCoeff = DecRateCoeff_Bd(\"parCosCoeff\", \"parCosCoeff\", 2,\n",
    "                              obsFinalState, \n",
    "                              parC_ub, \n",
    "                              parC_ub, \n",
    "                              obsTagOS, \n",
    "                              obsEtaOS,  \n",
    "                              parp0OS,\n",
    "                              parp1OS,\n",
    "                              pardeltap0OS,\n",
    "                              pardeltap1OS,\n",
    "                              paravgetaOS,\n",
    "                              partageffOS,\n",
    "                              partageffasymOS,\n",
    "                              obsTagSS, \n",
    "                              obsEtaSS,  \n",
    "                              parp0SS,\n",
    "                              parp1SS,\n",
    "                              pardeltap0SS,\n",
    "                              pardeltap1SS,\n",
    "                              paravgetaSS,\n",
    "                              partageffSS,\n",
    "                              partageffasymSS,\n",
    "                              parprodasym,\n",
    "                              pardetecasym)\n",
    "\n",
    "parSinCoeff = DecRateCoeff_Bd(\"parSinCoeff\", \"parSinCoeff\", 3,\n",
    "                              obsFinalState, \n",
    "                              parS_ub, \n",
    "                              parS_ub, \n",
    "                              obsTagOS, \n",
    "                              obsEtaOS, \n",
    "                              parp0OS,\n",
    "                              parp1OS,\n",
    "                              pardeltap0OS,\n",
    "                              pardeltap1OS,\n",
    "                              paravgetaOS, \n",
    "                              partageffOS,\n",
    "                              partageffasymOS,\n",
    "                              obsTagSS, \n",
    "                              obsEtaSS,  \n",
    "                              parp0SS,\n",
    "                              parp1SS,\n",
    "                              pardeltap0SS,\n",
    "                              pardeltap1SS,\n",
    "                              paravgetaSS,\n",
    "                              partageffSS,\n",
    "                              partageffasymSS,                              \n",
    "                              parprodasym,\n",
    "                              pardetecasym)\n",
    "\n",
    "\n",
    "ROOT.SetOwnership(parCoshCoeff,False)\n",
    "ROOT.SetOwnership(parSinhCoeff,False)\n",
    "ROOT.SetOwnership(parCosCoeff,False)\n",
    "ROOT.SetOwnership(parSinCoeff,False)\n",
    "\n",
    "from ROOT import RooBDecay,RooSimultaneous\n",
    "\n",
    "pdfDecayTime = RooBDecay(\"simPdf\", \"simPdf\", obsTime, parTimeTau, parDGamma, parCoshCoeff_decrate, parSinhCoeff_decrate, parCosCoeff, parSinCoeff, parDm, pdfRes, RooBDecay.SingleSided)\n",
    "\n",
    "ROOT.SetOwnership(pdfDecayTime, False)"
   ]
  },
  {
   "cell_type": "markdown",
   "metadata": {},
   "source": [
    "## Test only the OS tagger"
   ]
  },
  {
   "cell_type": "code",
   "execution_count": 67,
   "metadata": {
    "collapsed": true
   },
   "outputs": [],
   "source": [
    "parDGamma = RooRealVar(\"parDGamma\", \"#Delta#it{#Gamma}\", 0)\n",
    "parDm     = RooRealVar(\"parDm\",     \"#Delta#it{m}\", 506.4) #0.5064 +- 0.0019 ps-1\n",
    "parTimeTau = RooRealVar(\"parTimeTau\", \"#it{#tau}\", 0.001520)\n",
    "\n",
    "parS = RooRealVar(\"parS\", \"#it{S}\",  0.7, -1, 1)\n",
    "parC = RooRealVar(\"parC\", \"#it{C}\", 0, -1, 1)\n",
    "\n",
    "parS_ub = RooUnblindUniform(\"parS_ub\", \"parS_ub\", \"Sin2beta2017!\", 2, parS)\n",
    "parC_ub = RooUnblindUniform(\"parC_ub\", \"parC_ub\", \"Sin2beta2017!\", 2, parC)\n",
    "\n",
    "parCoshCoeff = RooRealVar(\"parCoshCoeff\", \"parCoshCoeff\", 1,1,1)\n",
    "parSinhCoeff = RooRealVar(\"parSinhCoeff\", \"parSinhCoeff\", 0,0,0)\n",
    "\n",
    "parp0OS = RooRealVar('parp0OS', 'parp0OS', 0.386)\n",
    "parp1OS = RooRealVar('parp1OS', 'parp1OS', 0.777)\n",
    "\n",
    "pardeltap0OS = RooRealVar('pardeltap0OS', 'pardeltap0OS', 0.008)\n",
    "pardeltap1OS = RooRealVar('pardeltap1OS', 'pardeltap1OS', -0.020)  \n",
    "\n",
    "paravgetaOS = RooRealVar('paravgetaOS', 'paravgetaOS', 0.352)\n",
    "partageffOS = RooRealVar('partageffOS', 'partageffOS', 1)\n",
    "\n",
    "partageffasymOS = RooRealVar('partageffasymOS', 'partageffasymOS', 0)\n",
    "\n",
    "parprodasym = RooRealVar('parprodasym', 'parprodasym', 0)\n",
    "pardetecasym = RooRealVar('pardetecasym', 'pardetecasym', 0)\n",
    "\n",
    "obsFinalState = RooCategory(\"obsFinalState\", \"obsFinalState\")\n",
    "obsFinalState.defineType(\"jpsiks\", 1)\n",
    "\n",
    "parCoshCoeff_decrate = DecRateCoeff_Bd(\"parCoshCoeff_decrate\", \"parCoshCoeff_decrate\", 0,\n",
    "                              obsFinalState, \n",
    "                              parCoshCoeff, \n",
    "                              parCoshCoeff, \n",
    "                              obsTagOS, \n",
    "                              obsEtaOS,  \n",
    "                              parp0OS,\n",
    "                              parp1OS,\n",
    "                              pardeltap0OS,\n",
    "                              pardeltap1OS,\n",
    "                              paravgetaOS,\n",
    "                              partageffOS,\n",
    "                              partageffasymOS,\n",
    "                              parprodasym,\n",
    "                              pardetecasym)\n",
    "\n",
    "parSinhCoeff_decrate = DecRateCoeff_Bd(\"parSinhCoeff_decrate\", \"parSinhCoeff_decrate\", 1,\n",
    "                              obsFinalState, \n",
    "                              parSinhCoeff, \n",
    "                              parSinhCoeff, \n",
    "                              obsTagOS, \n",
    "                              obsEtaOS, \n",
    "                              parp0OS,\n",
    "                              parp1OS,\n",
    "                              pardeltap0OS,\n",
    "                              pardeltap1OS,\n",
    "                              paravgetaOS, \n",
    "                              partageffOS,\n",
    "                              partageffasymOS,\n",
    "                              parprodasym,\n",
    "                              pardetecasym)\n",
    "\n",
    "\n",
    "\n",
    "\n",
    "parCosCoeff = DecRateCoeff_Bd(\"parCosCoeff\", \"parCosCoeff\", 2,\n",
    "                              obsFinalState, \n",
    "                              parC_ub, \n",
    "                              parC_ub, \n",
    "                              obsTagOS, \n",
    "                              obsEtaOS,  \n",
    "                              parp0OS,\n",
    "                              parp1OS,\n",
    "                              pardeltap0OS,\n",
    "                              pardeltap1OS,\n",
    "                              paravgetaOS,\n",
    "                              partageffOS,\n",
    "                              partageffasymOS,\n",
    "                              parprodasym,\n",
    "                              pardetecasym)\n",
    "\n",
    "parSinCoeff = DecRateCoeff_Bd(\"parSinCoeff\", \"parSinCoeff\", 3,\n",
    "                              obsFinalState, \n",
    "                              parS_ub, \n",
    "                              parS_ub, \n",
    "                              obsTagOS, \n",
    "                              obsEtaOS, \n",
    "                              parp0OS,\n",
    "                              parp1OS,\n",
    "                              pardeltap0OS,\n",
    "                              pardeltap1OS,\n",
    "                              paravgetaOS, \n",
    "                              partageffOS,\n",
    "                              partageffasymOS,\n",
    "                              parprodasym,\n",
    "                              pardetecasym)\n",
    "\n",
    "\n",
    "from ROOT import RooBDecay\n",
    "from ROOT import RooSimultaneous\n",
    "\n",
    "pdfDecayTime = RooBDecay(\"simPdf\", \"simPdf\", obsTime, parTimeTau, parDGamma,  parCoshCoeff_decrate, parSinhCoeff_decrate, parCosCoeff, parSinCoeff, parDm, pdfRes, RooBDecay.SingleSided)\n",
    "\n",
    "ROOT.SetOwnership(pdfDecayTime, False)"
   ]
  },
  {
   "cell_type": "code",
   "execution_count": 68,
   "metadata": {
    "collapsed": false
   },
   "outputs": [
    {
     "name": "stdout",
     "output_type": "stream",
     "text": [
      "INFO: Reading parameters from configfile /home/chasenberg/plots/acceptance/results/params_cond_init.txt\n"
     ]
    }
   ],
   "source": [
    "results_dir = '/home/chasenberg/plots/acceptance/results/'\n",
    "\n",
    "parameters_file_name  = 'params_cond.txt'\n",
    "parameters_init_name  = parameters_file_name.replace('.txt', '_init.txt')\n",
    "parameters_final_name = parameters_file_name.replace('.txt', '_final.txt')\n",
    "\n",
    "if os.path.exists(os.path.join(results_dir, parameters_init_name)):\n",
    "    print('INFO: Reading parameters from configfile '  + os.path.join(results_dir, parameters_init_name), flush=True)\n",
    "    pdfDecayTime.getParameters(data).readFromFile(os.path.join(results_dir, parameters_init_name))\n",
    "else:\n",
    "    print('INFO: configfile... '  + os.path.join(results_dir, parameters_init_name) + ' does not exist', flush=True)\n",
    "    "
   ]
  },
  {
   "cell_type": "code",
   "execution_count": 69,
   "metadata": {
    "collapsed": false,
    "scrolled": true
   },
   "outputs": [],
   "source": [
    "cond_argset = RooArgSet(obsTimeErr)    \n",
    "\n",
    "\n",
    "fit_result = pdfDecayTime.fitTo(data, \n",
    "                                    RooFit.NumCPU(6),\n",
    "                                    RooFit.Minimizer('Minuit','minimize'),\n",
    "                                    RooFit.Hesse(True),\n",
    "                                    RooFit.Save(True),\n",
    "                                    RooFit.ConditionalObservables(cond_argset)) "
   ]
  },
  {
   "cell_type": "code",
   "execution_count": 70,
   "metadata": {
    "collapsed": false
   },
   "outputs": [
    {
     "name": "stdout",
     "output_type": "stream",
     "text": [
      "INFO: Fit converged\n",
      "INFO: Fit complete\n"
     ]
    }
   ],
   "source": [
    "if fit_result:\n",
    "    fit_result.Print('v')\n",
    "    fit_result.correlationMatrix().Print('v')\n",
    "    if fit_result.status()==0:\n",
    "        print('INFO: Fit converged')\n",
    "    else:\n",
    "        print('INFO: Status '+str(fit_result.status()))\n",
    "    print('INFO: Fit complete', flush=True)\n",
    "else:\n",
    "    print('ERROR: There is no fitresult', flush=True)\n",
    " \n",
    "final_params_file = os.path.join(results_dir, parameters_final_name)\n",
    "pdfRes.getParameters(data).writeToFile(final_params_file)"
   ]
  },
  {
   "cell_type": "markdown",
   "metadata": {},
   "source": [
    "### Plot RooBDecay"
   ]
  },
  {
   "cell_type": "markdown",
   "metadata": {},
   "source": [
    "### Complete projection"
   ]
  },
  {
   "cell_type": "code",
   "execution_count": 71,
   "metadata": {
    "collapsed": false,
    "scrolled": true
   },
   "outputs": [
    {
     "name": "stdout",
     "output_type": "stream",
     "text": [
      "INFO: Start plotting\n",
      "INFO: Finish plotting\n"
     ]
    },
    {
     "name": "stderr",
     "output_type": "stream",
     "text": [
      "TCanvas::Constructor:0: RuntimeWarning: Deleting canvas with same name: canvas\n",
      "TFile::Append:0: RuntimeWarning: Replacing existing TH1: data_plot__B0_FitPVConst_tau_flat (Potential memory leak).\n",
      "TCanvas::Constructor:0: RuntimeWarning: Deleting canvas with same name: can\n",
      "TFile::Append:0: RuntimeWarning: Replacing existing TH1: pulls_all (Potential memory leak).\n",
      "TFile::Append:0: RuntimeWarning: Replacing existing TH1: pulls_ok (Potential memory leak).\n",
      "TFile::Append:0: RuntimeWarning: Replacing existing TH1: pulls_danger (Potential memory leak).\n"
     ]
    },
    {
     "data": {
      "image/png": "[encoded data removed]",
      "text/plain": [
       "<ROOT.TCanvas object (\"can\") at 0xb4ec350>"
      ]
     },
     "execution_count": 71,
     "metadata": {},
     "output_type": "execute_result"
    }
   ],
   "source": [
    "print('INFO: Start plotting', flush=True)\n",
    "from ROOT import TColor\n",
    "from root_utils.lhcb_style import set_lhcb_style # Set basic LHCb plot style\n",
    "set_lhcb_style()   \n",
    "\n",
    "decay_set  = ROOT.RooArgSet(pdfDecayTime.getComponents().find('simPdf'))\n",
    "ROOT.SetOwnership(decay_set, False)\n",
    "\n",
    "# Prepare frame\n",
    "canvas = TCanvas('canvas', 'canvas', 1000, 600)\n",
    "ROOT.SetOwnership(canvas, False)\n",
    "\n",
    "plot_frame = obsTime.frame(ROOT.RooFit.Range(0.00025, 0.015), ROOT.RooFit.Bins(100))\n",
    "#plot_frame.SetMinimum(-100)\n",
    "\n",
    "ROOT.SetOwnership(plot_frame, False)\n",
    "\n",
    "data.plotOn(plot_frame, ROOT.RooFit.Name('data'))  \n",
    "pdfDecayTime.plotOn(plot_frame, RooFit.ProjWData(RooArgSet(obsTimeErr), data, True), RooFit.LineColor(410),ROOT.RooFit.Name('decay_fit'))\n",
    "\n",
    "### Add additional informations to the plot\n",
    "text_size = 0.05\n",
    "# Create TLegend\n",
    "legend = ROOT.TLegend(0.7, 0.7, 0.80, 0.85)\n",
    "#legend = ROOT.TLegend(0.7, 0.30, 0.80, 0.5)\n",
    "ROOT.SetOwnership(plot_frame, False)\n",
    "legend.AddEntry(0,\"LHCb unofficial\", \"\")\n",
    "legend.AddEntry(plot_frame.findObject('data'), 'MC', 'p')\n",
    "legend.AddEntry(plot_frame.findObject('decay_fit'), '#it{B}^{0}#rightarrow#it{J/#psi}#it{K}_{#kern[-0.3]{S}}', 'l')\n",
    "legend.SetTextSize(text_size)\n",
    "\n",
    "plot_frame.GetYaxis().SetRangeUser(0.1, plot_frame.GetMaximum()*1.2)\n",
    "\n",
    "# Plot pulls\n",
    "plotname = 'decaytime_data_blinded_decrateCoeffs'\n",
    "can,_ = plot_pulls(plotname, plot_frame, drawables=[legend], save_path= subdir + '/plots/', logy=True)\n",
    "print('INFO: Finish plotting', flush=True)\n",
    "can"
   ]
  },
  {
   "cell_type": "code",
   "execution_count": 78,
   "metadata": {
    "collapsed": false
   },
   "outputs": [
    {
     "data": {
      "text/plain": [
       "150703"
      ]
     },
     "execution_count": 78,
     "metadata": {},
     "output_type": "execute_result"
    }
   ],
   "source": [
    "data.numEntries()"
   ]
  },
  {
   "cell_type": "markdown",
   "metadata": {},
   "source": [
    "### OS Tagger: B0 projection"
   ]
  },
  {
   "cell_type": "code",
   "execution_count": 72,
   "metadata": {
    "collapsed": false
   },
   "outputs": [
    {
     "name": "stdout",
     "output_type": "stream",
     "text": [
      "INFO: Start plotting\n",
      "INFO: Finish plotting\n"
     ]
    },
    {
     "name": "stderr",
     "output_type": "stream",
     "text": [
      "TCanvas::Constructor:0: RuntimeWarning: Deleting canvas with same name: canvas\n",
      "TCanvas::Constructor:0: RuntimeWarning: Deleting canvas with same name: can\n",
      "TFile::Append:0: RuntimeWarning: Replacing existing TH1: pulls_all (Potential memory leak).\n",
      "TFile::Append:0: RuntimeWarning: Replacing existing TH1: pulls_ok (Potential memory leak).\n",
      "TFile::Append:0: RuntimeWarning: Replacing existing TH1: pulls_danger (Potential memory leak).\n"
     ]
    },
    {
     "data": {
      "image/png": "[encoded data removed]",
      "text/plain": [
       "<ROOT.TCanvas object (\"can\") at 0xa278d70>"
      ]
     },
     "execution_count": 72,
     "metadata": {},
     "output_type": "execute_result"
    }
   ],
   "source": [
    "print('INFO: Start plotting', flush=True)\n",
    "from ROOT import TColor\n",
    "from root_utils.lhcb_style import set_lhcb_style # Set basic LHCb plot style\n",
    "set_lhcb_style()   \n",
    "\n",
    "decay_set  = ROOT.RooArgSet(pdfDecayTime.getComponents().find('simPdf'))\n",
    "ROOT.SetOwnership(decay_set, False)\n",
    "\n",
    "# Prepare frame\n",
    "canvas = TCanvas('canvas', 'canvas', 1000, 600)\n",
    "ROOT.SetOwnership(canvas, False)\n",
    "\n",
    "plot_frame = obsTime.frame(ROOT.RooFit.Range(0.00025, 0.015), ROOT.RooFit.Bins(100))\n",
    "#plot_frame.SetMinimum(-100)\n",
    "\n",
    "ROOT.SetOwnership(plot_frame, False)\n",
    "\n",
    "#data.plotOn(plot_frame, ROOT.RooFit.Name('data'))  \n",
    "data.plotOn(plot_frame, RooFit.Cut(\"B0_TAGDECISION_OS_new==B0_TAGDECISION_OS_new::B0\"), ROOT.RooFit.Name('data'))  \n",
    "#pdfDecayTime.plotOn(plot_frame, RooFit.ProjWData(RooArgSet(obsTimeErr), data, True), RooFit.LineColor(410),ROOT.RooFit.Name('decay_fit'))\n",
    "pdfDecayTime.plotOn(plot_frame,RooFit.Slice(obsTagOS,\"B0\"), RooFit.ProjWData(RooArgSet(obsTimeErr), data, True), RooFit.LineColor(410),ROOT.RooFit.Name('decay_fit'))\n",
    "\n",
    "\n",
    "\n",
    "\n",
    "### Add additional informations to the plot\n",
    "text_size = 0.05\n",
    "# Create TLegend\n",
    "legend = ROOT.TLegend(0.7, 0.7, 0.80, 0.85)\n",
    "#legend = ROOT.TLegend(0.7, 0.30, 0.80, 0.5)\n",
    "ROOT.SetOwnership(plot_frame, False)\n",
    "legend.AddEntry(0,\"LHCb unofficial\", \"\")\n",
    "legend.AddEntry(plot_frame.findObject('data'), 'MC', 'p')\n",
    "legend.AddEntry(plot_frame.findObject('decay_fit'), '#it{B}^{0}#rightarrow#it{J/#psi}#it{K}_{#kern[-0.3]{S}}', 'l')\n",
    "legend.SetTextSize(text_size)\n",
    "\n",
    "plot_frame.GetYaxis().SetRangeUser(0.1, plot_frame.GetMaximum()*1.2)\n",
    "\n",
    "# Plot pulls\n",
    "plotname = 'decaytime_data_blinded_decrateCoeffs_OS_B0'\n",
    "can,_ = plot_pulls(plotname, plot_frame, drawables=[legend], save_path= subdir + '/plots/', logy=True)\n",
    "print('INFO: Finish plotting', flush=True)\n",
    "can"
   ]
  },
  {
   "cell_type": "markdown",
   "metadata": {},
   "source": [
    "### OS Tagger: B0bar projection"
   ]
  },
  {
   "cell_type": "code",
   "execution_count": 73,
   "metadata": {
    "collapsed": false
   },
   "outputs": [
    {
     "name": "stdout",
     "output_type": "stream",
     "text": [
      "INFO: Start plotting\n",
      "INFO: Finish plotting\n"
     ]
    },
    {
     "name": "stderr",
     "output_type": "stream",
     "text": [
      "TCanvas::Constructor:0: RuntimeWarning: Deleting canvas with same name: canvas\n",
      "TCanvas::Constructor:0: RuntimeWarning: Deleting canvas with same name: can\n",
      "TFile::Append:0: RuntimeWarning: Replacing existing TH1: pulls_all (Potential memory leak).\n",
      "TFile::Append:0: RuntimeWarning: Replacing existing TH1: pulls_ok (Potential memory leak).\n",
      "TFile::Append:0: RuntimeWarning: Replacing existing TH1: pulls_danger (Potential memory leak).\n"
     ]
    },
    {
     "data": {
      "image/png": "[encoded data removed]",
      "text/plain": [
       "<ROOT.TCanvas object (\"can\") at 0xa2d4aa0>"
      ]
     },
     "execution_count": 73,
     "metadata": {},
     "output_type": "execute_result"
    }
   ],
   "source": [
    "print('INFO: Start plotting', flush=True)\n",
    "from ROOT import TColor\n",
    "from root_utils.lhcb_style import set_lhcb_style # Set basic LHCb plot style\n",
    "set_lhcb_style()   \n",
    "\n",
    "decay_set  = ROOT.RooArgSet(pdfDecayTime.getComponents().find('simPdf'))\n",
    "ROOT.SetOwnership(decay_set, False)\n",
    "\n",
    "# Prepare frame\n",
    "canvas = TCanvas('canvas', 'canvas', 1000, 600)\n",
    "ROOT.SetOwnership(canvas, False)\n",
    "\n",
    "plot_frame = obsTime.frame(ROOT.RooFit.Range(0.00025, 0.015), ROOT.RooFit.Bins(100))\n",
    "#plot_frame.SetMinimum(-100)\n",
    "\n",
    "ROOT.SetOwnership(plot_frame, False)\n",
    "\n",
    "#data.plotOn(plot_frame, ROOT.RooFit.Name('data'))  \n",
    "data.plotOn(plot_frame, RooFit.Cut(\"B0_TAGDECISION_OS_new==B0_TAGDECISION_OS_new::B0b\"), ROOT.RooFit.Name('data'))  \n",
    "#pdfDecayTime.plotOn(plot_frame, RooFit.ProjWData(RooArgSet(obsTimeErr), data, True), RooFit.LineColor(410),ROOT.RooFit.Name('decay_fit'))\n",
    "pdfDecayTime.plotOn(plot_frame,RooFit.Slice(obsTagOS,\"B0b\"), RooFit.ProjWData(RooArgSet(obsTimeErr), data, True), RooFit.LineColor(410),ROOT.RooFit.Name('decay_fit'))\n",
    "\n",
    "\n",
    "\n",
    "\n",
    "### Add additional informations to the plot\n",
    "text_size = 0.05\n",
    "# Create TLegend\n",
    "legend = ROOT.TLegend(0.7, 0.7, 0.80, 0.85)\n",
    "#legend = ROOT.TLegend(0.7, 0.30, 0.80, 0.5)\n",
    "ROOT.SetOwnership(plot_frame, False)\n",
    "legend.AddEntry(0,\"LHCb unofficial\", \"\")\n",
    "legend.AddEntry(plot_frame.findObject('data'), 'MC', 'p')\n",
    "legend.AddEntry(plot_frame.findObject('decay_fit'), '#it{B}^{0}#rightarrow#it{J/#psi}#it{K}_{#kern[-0.3]{S}}', 'l')\n",
    "legend.SetTextSize(text_size)\n",
    "\n",
    "plot_frame.GetYaxis().SetRangeUser(0.1, plot_frame.GetMaximum()*1.2)\n",
    "\n",
    "# Plot pulls\n",
    "plotname = 'decaytime_data_blinded_decrateCoeffs_OS_B0b'\n",
    "can,_ = plot_pulls(plotname, plot_frame, drawables=[legend], save_path= subdir + '/plots/', logy=True)\n",
    "print('INFO: Finish plotting', flush=True)\n",
    "can"
   ]
  },
  {
   "cell_type": "markdown",
   "metadata": {},
   "source": [
    "### SS Tagger: B0 projection"
   ]
  },
  {
   "cell_type": "code",
   "execution_count": 74,
   "metadata": {
    "collapsed": false
   },
   "outputs": [
    {
     "name": "stdout",
     "output_type": "stream",
     "text": [
      "INFO: Start plotting\n",
      "ERROR: No RooCurve found! Will skip plotting...\n",
      "INFO: Finish plotting\n"
     ]
    },
    {
     "name": "stderr",
     "output_type": "stream",
     "text": [
      "TCanvas::Constructor:0: RuntimeWarning: Deleting canvas with same name: canvas\n",
      "TCanvas::Constructor:0: RuntimeWarning: Deleting canvas with same name: can\n"
     ]
    },
    {
     "data": {
      "text/plain": [
       "0"
      ]
     },
     "execution_count": 74,
     "metadata": {},
     "output_type": "execute_result"
    }
   ],
   "source": [
    "print('INFO: Start plotting', flush=True)\n",
    "from ROOT import TColor\n",
    "from root_utils.lhcb_style import set_lhcb_style # Set basic LHCb plot style\n",
    "set_lhcb_style()   \n",
    "\n",
    "decay_set  = ROOT.RooArgSet(pdfDecayTime.getComponents().find('simPdf'))\n",
    "ROOT.SetOwnership(decay_set, False)\n",
    "\n",
    "# Prepare frame\n",
    "canvas = TCanvas('canvas', 'canvas', 1000, 600)\n",
    "ROOT.SetOwnership(canvas, False)\n",
    "\n",
    "plot_frame = obsTime.frame(ROOT.RooFit.Range(0.00025, 0.015), ROOT.RooFit.Bins(100))\n",
    "#plot_frame.SetMinimum(-100)\n",
    "\n",
    "ROOT.SetOwnership(plot_frame, False)\n",
    "\n",
    "#data.plotOn(plot_frame, ROOT.RooFit.Name('data'))  \n",
    "data.plotOn(plot_frame, RooFit.Cut(\"B0_TAGDECISION_SS_new==B0_TAGDECISION_SS_new::B0\"), ROOT.RooFit.Name('data'))  \n",
    "#pdfDecayTime.plotOn(plot_frame, RooFit.ProjWData(RooArgSet(obsTimeErr), data, True), RooFit.LineColor(410),ROOT.RooFit.Name('decay_fit'))\n",
    "pdfDecayTime.plotOn(plot_frame,RooFit.Slice(obsTagSS,\"B0\"), RooFit.ProjWData(RooArgSet(obsTimeErr), data, True), RooFit.LineColor(410),ROOT.RooFit.Name('decay_fit'))\n",
    "\n",
    "\n",
    "\n",
    "\n",
    "### Add additional informations to the plot\n",
    "text_size = 0.05\n",
    "# Create TLegend\n",
    "legend = ROOT.TLegend(0.7, 0.7, 0.80, 0.85)\n",
    "#legend = ROOT.TLegend(0.7, 0.30, 0.80, 0.5)\n",
    "ROOT.SetOwnership(plot_frame, False)\n",
    "legend.AddEntry(0,\"LHCb unofficial\", \"\")\n",
    "legend.AddEntry(plot_frame.findObject('data'), 'MC', 'p')\n",
    "legend.AddEntry(plot_frame.findObject('decay_fit'), '#it{B}^{0}#rightarrow#it{J/#psi}#it{K}_{#kern[-0.3]{S}}', 'l')\n",
    "legend.SetTextSize(text_size)\n",
    "\n",
    "plot_frame.GetYaxis().SetRangeUser(0.1, plot_frame.GetMaximum()*1.2)\n",
    "\n",
    "# Plot pulls\n",
    "plotname = 'decaytime_data_blinded_decrateCoeffs_SS_B0'\n",
    "can,_ = plot_pulls(plotname, plot_frame, drawables=[legend], save_path= subdir + '/plots/', logy=True)\n",
    "print('INFO: Finish plotting', flush=True)\n",
    "can"
   ]
  },
  {
   "cell_type": "markdown",
   "metadata": {},
   "source": [
    "### SS Tagger: B0bar projection"
   ]
  },
  {
   "cell_type": "code",
   "execution_count": 75,
   "metadata": {
    "collapsed": false
   },
   "outputs": [
    {
     "name": "stdout",
     "output_type": "stream",
     "text": [
      "INFO: Start plotting\n",
      "ERROR: No RooCurve found! Will skip plotting...\n",
      "INFO: Finish plotting\n"
     ]
    },
    {
     "name": "stderr",
     "output_type": "stream",
     "text": [
      "TCanvas::Constructor:0: RuntimeWarning: Deleting canvas with same name: canvas\n",
      "TFile::Append:0: RuntimeWarning: Replacing existing TH1: data_plot__B0_FitPVConst_tau_flat (Potential memory leak).\n",
      "TCanvas::Constructor:0: RuntimeWarning: Deleting canvas with same name: can\n"
     ]
    },
    {
     "data": {
      "text/plain": [
       "0"
      ]
     },
     "execution_count": 75,
     "metadata": {},
     "output_type": "execute_result"
    }
   ],
   "source": [
    "print('INFO: Start plotting', flush=True)\n",
    "from ROOT import TColor\n",
    "from root_utils.lhcb_style import set_lhcb_style # Set basic LHCb plot style\n",
    "set_lhcb_style()   \n",
    "\n",
    "decay_set  = ROOT.RooArgSet(pdfDecayTime.getComponents().find('simPdf'))\n",
    "ROOT.SetOwnership(decay_set, False)\n",
    "\n",
    "# Prepare frame\n",
    "canvas = TCanvas('canvas', 'canvas', 1000, 600)\n",
    "ROOT.SetOwnership(canvas, False)\n",
    "\n",
    "plot_frame = obsTime.frame(ROOT.RooFit.Range(0.00025, 0.015), ROOT.RooFit.Bins(100))\n",
    "#plot_frame.SetMinimum(-100)\n",
    "\n",
    "ROOT.SetOwnership(plot_frame, False)\n",
    "\n",
    "#data.plotOn(plot_frame, ROOT.RooFit.Name('data'))  \n",
    "data.plotOn(plot_frame, RooFit.Cut(\"B0_TAGDECISION_SS_new==B0_TAGDECISION_SS_new::B0b\"), ROOT.RooFit.Name('data'))  \n",
    "#pdfDecayTime.plotOn(plot_frame, RooFit.ProjWData(RooArgSet(obsTimeErr), data, True), RooFit.LineColor(410),ROOT.RooFit.Name('decay_fit'))\n",
    "pdfDecayTime.plotOn(plot_frame,RooFit.Slice(obsTagSS,\"B0b\"), RooFit.ProjWData(RooArgSet(obsTimeErr), data, True), RooFit.LineColor(410),ROOT.RooFit.Name('decay_fit'))\n",
    "\n",
    "\n",
    "\n",
    "\n",
    "### Add additional informations to the plot\n",
    "text_size = 0.05\n",
    "# Create TLegend\n",
    "legend = ROOT.TLegend(0.7, 0.7, 0.80, 0.85)\n",
    "#legend = ROOT.TLegend(0.7, 0.30, 0.80, 0.5)\n",
    "ROOT.SetOwnership(plot_frame, False)\n",
    "legend.AddEntry(0,\"LHCb unofficial\", \"\")\n",
    "legend.AddEntry(plot_frame.findObject('data'), 'MC', 'p')\n",
    "legend.AddEntry(plot_frame.findObject('decay_fit'), '#it{B}^{0}#rightarrow#it{J/#psi}#it{K}_{#kern[-0.3]{S}}', 'l')\n",
    "legend.SetTextSize(text_size)\n",
    "\n",
    "plot_frame.GetYaxis().SetRangeUser(0.1, plot_frame.GetMaximum()*1.2)\n",
    "\n",
    "# Plot pulls\n",
    "plotname = 'decaytime_data_blinded_decrateCoeffs_SS_B0b'\n",
    "can,_ = plot_pulls(plotname, plot_frame, drawables=[legend], save_path= subdir + '/plots/', logy=True)\n",
    "print('INFO: Finish plotting', flush=True)\n",
    "can"
   ]
  }
 ],
 "metadata": {
  "kernelspec": {
   "display_name": "Python 3",
   "language": "python",
   "name": "python3"
  },
  "language_info": {
   "codemirror_mode": {
    "name": "ipython",
    "version": 3
   },
   "file_extension": ".py",
   "mimetype": "text/x-python",
   "name": "python",
   "nbconvert_exporter": "python",
   "pygments_lexer": "ipython3",
   "version": "3.4.4"
  }
 },
 "nbformat": 4,
 "nbformat_minor": 0
}
