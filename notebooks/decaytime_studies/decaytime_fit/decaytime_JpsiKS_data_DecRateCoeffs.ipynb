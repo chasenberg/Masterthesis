{
 "cells": [
  {
   "cell_type": "markdown",
   "metadata": {},
   "source": [
    "# Acceptance model for B02JpsiKS"
   ]
  },
  {
   "cell_type": "code",
   "execution_count": 1,
   "metadata": {
    "collapsed": false
   },
   "outputs": [],
   "source": [
    "%matplotlib inline\n",
    "%load_ext autoreload\n",
    "%autoreload 2\n",
    "\n",
    "import os\n",
    "import sys\n",
    "import ROOT\n",
    "from ROOT import (RooArgSet,\n",
    "                  RooCategory,\n",
    "                  RooRealVar,\n",
    "                  RooDataSet,\n",
    "                  RooPlot,\n",
    "                  RooFit,\n",
    "                  RooStats,\n",
    "                  RooArgList,\n",
    "                  RooFormulaVar)\n",
    "\n",
    "from ROOT import (TFile, \n",
    "                  TH1D, \n",
    "                  TH2D, \n",
    "                  TCanvas, \n",
    "                  gStyle, \n",
    "                  TLine, \n",
    "                  TTree)\n",
    "\n",
    "import math\n",
    "import itertools\n",
    "import numpy as np\n",
    "import matplotlib as mpl\n",
    "import matplotlib.pyplot as plt\n",
    "from matplotlib.backends.backend_pdf import PdfPages\n",
    "\n",
    "import root_pandas as rp\n",
    "from root_pandas import read_root\n",
    "import pandas as pd\n",
    "            \n",
    "sys.path.append('/home/vmueller/repos/')\n",
    "from dopy.doroot.root_utils import read_roodataset_from_tree, plot_pulls, build_tchain_from_files\n",
    "from dopy.doplot.plotting import Plotter, Plot\n",
    "import dopy.doroot.rootnotes \n",
    "from dopy.doplot.selection import add_log_to_dataframe, add_max_to_dataframe, add_min_to_dataframe"
   ]
  },
  {
   "cell_type": "code",
   "execution_count": 2,
   "metadata": {
    "collapsed": false
   },
   "outputs": [],
   "source": [
    "dataset_tree_name = 'Bd2JpsiKS'\n",
    "dataset_file_name = '/fhgfs/groups/e5/lhcb/analysis/B2CC/Bd2JpsiKS_run2/FT_calib/Bd2JpsiKS_final_sw_FTcalibrated_FTcombined_FTcombined.root'"
   ]
  },
  {
   "cell_type": "code",
   "execution_count": 3,
   "metadata": {
    "collapsed": false
   },
   "outputs": [],
   "source": [
    "dataset_file = TFile(dataset_file_name)\n",
    "ROOT.SetOwnership(dataset_file, False)\n",
    "\n",
    "dataset_tree = dataset_file.Get(dataset_tree_name)\n",
    "ROOT.SetOwnership(dataset_tree, False) "
   ]
  },
  {
   "cell_type": "code",
   "execution_count": 4,
   "metadata": {
    "collapsed": false
   },
   "outputs": [],
   "source": [
    "cut_string = 'B0_FitPVConst_tau_flat>0.00025&B0_FitPVConst_tau_flat<0.015&B0_FitPVConst_tauErr_flat>-0.001&B0_FitPVConst_tauErr_flat<0.001'\n",
    "df = rp.read_root(dataset_file_name, key=dataset_tree_name, where=cut_string)"
   ]
  },
  {
   "cell_type": "code",
   "execution_count": 5,
   "metadata": {
    "collapsed": false
   },
   "outputs": [
    {
     "name": "stdout",
     "output_type": "stream",
     "text": [
      "0.3333536206833591\n"
     ]
    }
   ],
   "source": [
    "tags = np.array(df['B0_TAGDECISION_OS_new'] )\n",
    "tagged = 0\n",
    "untagged = 0\n",
    "for tag in range(df.shape[0]):\n",
    "    if tags[tag] == 1 or tags[tag] == -1:\n",
    "        tagged +=1\n",
    "    else:\n",
    "        untagged +=1\n",
    "tagging_efficiency_OS = tagged / (tagged + untagged)\n",
    "print(tagging_efficiency_OS)"
   ]
  },
  {
   "cell_type": "code",
   "execution_count": 6,
   "metadata": {
    "collapsed": false
   },
   "outputs": [
    {
     "name": "stdout",
     "output_type": "stream",
     "text": [
      "0.3333536206833591\n"
     ]
    }
   ],
   "source": [
    "tags = np.array(df['B0_TAGDECISION_SS_new'] )\n",
    "tagged_SS = 0\n",
    "untagged_SS = 0\n",
    "for tag in range(df.shape[0]):\n",
    "    if tags[tag] == 1 or tags[tag] == -1:\n",
    "        tagged_SS +=1\n",
    "    else:\n",
    "        untagged_SS +=1\n",
    "tagging_efficiency_SS = tagged / (tagged + untagged)\n",
    "print(tagging_efficiency_SS)"
   ]
  },
  {
   "cell_type": "code",
   "execution_count": 7,
   "metadata": {
    "collapsed": false
   },
   "outputs": [
    {
     "name": "stdout",
     "output_type": "stream",
     "text": [
      "Number of entries: 159554\n"
     ]
    }
   ],
   "source": [
    "mass = RooRealVar(\"B0_FitDaughtersConst_M_flat\",\"B0_FitDaughtersConst_M_flat\",5280,5270,5290)\n",
    "obsTime     = RooRealVar('B0_FitPVConst_tau_flat', 'obsTime',0.00025, 0.015, 'ns')\n",
    "obsTimeErr = RooRealVar(\"B0_FitPVConst_tauErr_flat\", \"obsTimeErr\", 0,-0.001,0.001, \"ns\")\n",
    "sweight_sig  = RooRealVar(\"sweight_sig\", \"sweight_sig\",0 ,-100000,1000000000)\n",
    "idxPV = RooRealVar(\"idxPV\", \"idxPV\", 0,0,0)\n",
    "\n",
    "#Read tagger output \n",
    "obsTagOS = RooCategory(\"B0_TAGDECISION_OS_new\", \"obsTagOS\")\n",
    "obsTagOS.defineType(\"B0b\", -1)\n",
    "obsTagOS.defineType(\"B0\",  +1)\n",
    "obsTagOS.defineType(\"noTag\", 0)\n",
    "obsTagSS = RooCategory(\"B0_TAGDECISION_SS_new\", \"obsTagSS\")\n",
    "obsTagSS.defineType(\"B0b\", -1)\n",
    "obsTagSS.defineType(\"B0\",  +1)\n",
    "obsTagSS.defineType(\"noTag\", 0)\n",
    "\n",
    "obsEtaOS = RooRealVar('B0_TAGOMEGA_OS_new',\"obsEtaOS\", 0,0.5)\n",
    "obsEtaSS = RooRealVar('B0_TAGOMEGA_SS_new',\"obsEtaSS\", 0,0.5)\n",
    "\n",
    "ROOT.SetOwnership(obsTime, False)\n",
    "ROOT.SetOwnership(obsTimeErr, False)\n",
    "ROOT.SetOwnership(sweight_sig, False)\n",
    "ROOT.SetOwnership(idxPV, False)\n",
    "ROOT.SetOwnership(obsTagOS, False)\n",
    "ROOT.SetOwnership(obsTagSS, False)\n",
    "ROOT.SetOwnership(obsEtaOS, False)\n",
    "ROOT.SetOwnership(obsEtaSS, False)\n",
    "\n",
    "data = ROOT.TFile(dataset_file_name)\n",
    "tree_data = data.Get('Bd2JpsiKS') \n",
    "tree_data.GetEntries()\n",
    "ntupleVarSet =  RooArgSet(obsTime,obsTimeErr,sweight_sig,idxPV,obsTagOS,obsEtaOS)#,obsEtaSS,obsTagSS) \n",
    "data = RooDataSet('data','data',ntupleVarSet,RooFit.Import(tree_data), RooFit.WeightVar(\"sweight_sig\"))\n",
    "ROOT.SetOwnership(data,False)\n",
    "\n",
    "print('Number of entries: '+ str(data.numEntries()))\n",
    "data.Print()"
   ]
  },
  {
   "cell_type": "code",
   "execution_count": 8,
   "metadata": {
    "collapsed": false
   },
   "outputs": [
    {
     "data": {
      "text/plain": [
       "True"
      ]
     },
     "execution_count": 8,
     "metadata": {},
     "output_type": "execute_result"
    }
   ],
   "source": [
    "data.isWeighted()"
   ]
  },
  {
   "cell_type": "code",
   "execution_count": 9,
   "metadata": {
    "collapsed": false
   },
   "outputs": [],
   "source": [
    "subdir = '/home/chasenberg/plots/decaytime'\n",
    "plot_dir    = os.path.join(subdir, 'plots')\n",
    "results_dir = os.path.join(subdir, 'results')\n",
    "plot_file   = os.path.join(plot_dir, 'all_plots.pdf')\n",
    "\n",
    "if not os.path.exists(plot_dir):\n",
    "    os.makedirs(plot_dir)\n",
    "if not os.path.exists(results_dir):\n",
    "    os.makedirs(results_dir)"
   ]
  },
  {
   "cell_type": "markdown",
   "metadata": {},
   "source": [
    "### Build acceptance model"
   ]
  },
  {
   "cell_type": "code",
   "execution_count": 10,
   "metadata": {
    "collapsed": false
   },
   "outputs": [
    {
     "data": {
      "text/plain": [
       "0"
      ]
     },
     "execution_count": 10,
     "metadata": {},
     "output_type": "execute_result"
    }
   ],
   "source": [
    "from ROOT import gSystem\n",
    "gSystem.Load(\"libRooFit.so\")\n",
    "gSystem.Load(\"/home/vmueller/repos/dopy/dolib/acceptances/libAcceptances\")"
   ]
  },
  {
   "cell_type": "code",
   "execution_count": 11,
   "metadata": {
    "collapsed": false
   },
   "outputs": [],
   "source": [
    "from ROOT import RooCubicSplineFun\n",
    "from ROOT import RooResolutionModel "
   ]
  },
  {
   "cell_type": "code",
   "execution_count": 12,
   "metadata": {
    "collapsed": false
   },
   "outputs": [],
   "source": [
    "from ROOT import std\n",
    "knots = std.vector(\"double\")(5)\n",
    "knots[0]=(obsTime.getMin()) # 0.0\n",
    "knots[1]=(0.0003)\n",
    "knots[2]=(0.0009)\n",
    "knots[3]=(0.004)\n",
    "knots[4]=(obsTime.getMax()) "
   ]
  },
  {
   "cell_type": "code",
   "execution_count": 13,
   "metadata": {
    "collapsed": false
   },
   "outputs": [
    {
     "name": "stdout",
     "output_type": "stream",
     "text": [
      "0.00025 0.015 5\n"
     ]
    }
   ],
   "source": [
    "print(obsTime.getMin(),obsTime.getMax(),len(knots))"
   ]
  },
  {
   "cell_type": "code",
   "execution_count": 14,
   "metadata": {
    "collapsed": false
   },
   "outputs": [
    {
     "name": "stdout",
     "output_type": "stream",
     "text": [
      "h_{0}\n",
      "1.5\n",
      "h_{1}\n",
      "1.505\n",
      "h_{2}\n",
      "1.51\n",
      "h_{3}\n",
      "1.515\n",
      "h_{4}\n",
      "1.52\n",
      "h_{5}\n",
      "1.525\n"
     ]
    }
   ],
   "source": [
    "knotlist = RooArgList(\"knotlist\")\n",
    "ROOT.SetOwnership(knotlist, False)\n",
    "\n",
    "# This is needed because 2 extra coefficients are needed\n",
    "# (assert statement)\n",
    "for i in range(0,len(knots)+1): # len(knots)+2\n",
    "    binname = \"parTimeAccCSpline\" + str(i)\n",
    "    bintitle = \"h_{\" + str(i) + \"}\"\n",
    "    print(bintitle)\n",
    "    var = RooRealVar(binname, bintitle,0.01*i,3)\n",
    "    print(var.getVal())\n",
    "    #print(str(var.GetName()))\n",
    "    ROOT.SetOwnership(var, False)\n",
    "    knotlist.add(var)\n",
    "    \n",
    "knotlist.add(knotlist[len(knots)])  \n",
    "\n",
    "accspline = RooCubicSplineFun(\"accspline\", \"Spline Acceptance\", obsTime, knots, knotlist)\n",
    "ROOT.SetOwnership(accspline, False)\n",
    "#RooCubicSplineFun()"
   ]
  },
  {
   "cell_type": "markdown",
   "metadata": {
    "collapsed": false
   },
   "source": [
    "## Fix Spline parameters"
   ]
  },
  {
   "cell_type": "code",
   "execution_count": 15,
   "metadata": {
    "collapsed": false
   },
   "outputs": [
    {
     "data": {
      "text/plain": [
       "'parTimeAccCSpline0 = RooRealVar(\"parTimeAccCSpline0\",\"h_{0}\", 6.9989e-04)\\nparTimeAccCSpline1 = RooRealVar(\"parTimeAccCSpline1\",\"h_{1}\", 1.0000e-02)\\nparTimeAccCSpline2 = RooRealVar(\"parTimeAccCSpline2\",\"h_{2}\", 1.8739e+00)\\nparTimeAccCSpline3 = RooRealVar(\"parTimeAccCSpline3\",\"h_{3}\", 3.0000e+00)\\nparTimeAccCSpline4 = RooRealVar(\"parTimeAccCSpline4\",\"h_{4}\", 3.0000e+00)\\nparTimeAccCSpline5 = RooRealVar(\"parTimeAccCSpline5\",\"h_{5}\", 1.9418e+00)\\n\\nROOT.SetOwnership(parTimeAccCSpline0, False)\\nROOT.SetOwnership(parTimeAccCSpline1, False)\\nROOT.SetOwnership(parTimeAccCSpline2, False)\\nROOT.SetOwnership(parTimeAccCSpline3, False)\\nROOT.SetOwnership(parTimeAccCSpline4, False)\\nROOT.SetOwnership(parTimeAccCSpline5, False)\\n\\nknotlist = RooArgList(\"knotlist\")\\nROOT.SetOwnership(knotlist, False)\\nknotlist.add(parTimeAccCSpline0)\\nknotlist.add(parTimeAccCSpline1)\\nknotlist.add(parTimeAccCSpline2)\\nknotlist.add(parTimeAccCSpline3)\\nknotlist.add(parTimeAccCSpline4)\\nknotlist.add(parTimeAccCSpline5)\\n\\nknotlist.add(knotlist[len(knots)])  \\n\\naccspline = RooCubicSplineFun(\"accspline\", \"Spline Acceptance\", obsTime, knots, knotlist)\\nROOT.SetOwnership(accspline, False)\\n#RooCubicSplineFun()'"
      ]
     },
     "execution_count": 15,
     "metadata": {},
     "output_type": "execute_result"
    }
   ],
   "source": [
    "'''parTimeAccCSpline0 = RooRealVar(\"parTimeAccCSpline0\",\"h_{0}\", 6.9989e-04)\n",
    "parTimeAccCSpline1 = RooRealVar(\"parTimeAccCSpline1\",\"h_{1}\", 1.0000e-02)\n",
    "parTimeAccCSpline2 = RooRealVar(\"parTimeAccCSpline2\",\"h_{2}\", 1.8739e+00)\n",
    "parTimeAccCSpline3 = RooRealVar(\"parTimeAccCSpline3\",\"h_{3}\", 3.0000e+00)\n",
    "parTimeAccCSpline4 = RooRealVar(\"parTimeAccCSpline4\",\"h_{4}\", 3.0000e+00)\n",
    "parTimeAccCSpline5 = RooRealVar(\"parTimeAccCSpline5\",\"h_{5}\", 1.9418e+00)\n",
    "\n",
    "ROOT.SetOwnership(parTimeAccCSpline0, False)\n",
    "ROOT.SetOwnership(parTimeAccCSpline1, False)\n",
    "ROOT.SetOwnership(parTimeAccCSpline2, False)\n",
    "ROOT.SetOwnership(parTimeAccCSpline3, False)\n",
    "ROOT.SetOwnership(parTimeAccCSpline4, False)\n",
    "ROOT.SetOwnership(parTimeAccCSpline5, False)\n",
    "\n",
    "knotlist = RooArgList(\"knotlist\")\n",
    "ROOT.SetOwnership(knotlist, False)\n",
    "knotlist.add(parTimeAccCSpline0)\n",
    "knotlist.add(parTimeAccCSpline1)\n",
    "knotlist.add(parTimeAccCSpline2)\n",
    "knotlist.add(parTimeAccCSpline3)\n",
    "knotlist.add(parTimeAccCSpline4)\n",
    "knotlist.add(parTimeAccCSpline5)\n",
    "\n",
    "knotlist.add(knotlist[len(knots)])  \n",
    "\n",
    "accspline = RooCubicSplineFun(\"accspline\", \"Spline Acceptance\", obsTime, knots, knotlist)\n",
    "ROOT.SetOwnership(accspline, False)\n",
    "#RooCubicSplineFun()'''"
   ]
  },
  {
   "cell_type": "markdown",
   "metadata": {},
   "source": [
    "### Build resolution model"
   ]
  },
  {
   "cell_type": "code",
   "execution_count": 16,
   "metadata": {
    "collapsed": true
   },
   "outputs": [],
   "source": [
    "from ROOT import RooGaussEfficiencyModel\n",
    "from ROOT import RooEffResAddModel"
   ]
  },
  {
   "cell_type": "code",
   "execution_count": 17,
   "metadata": {
    "collapsed": false
   },
   "outputs": [],
   "source": [
    "from ROOT import RooGaussian, RooAddPdf, RooEffResAddModel,RooGaussEfficiencyModel, RooGaussModel, RooAddModel, RooSimultaneous\n",
    "from ROOT import (RooArgSet,\n",
    "                  RooCategory,\n",
    "                  RooRealVar,\n",
    "                  RooDataSet,\n",
    "                  RooPlot,\n",
    "                  RooFit,\n",
    "                  RooStats,\n",
    "                  RooArgList,\n",
    "                  RooFormulaVar)\n",
    "\n",
    "from ROOT import (TFile, \n",
    "                  TH1D, \n",
    "                  TH2D, \n",
    "                  TCanvas, \n",
    "                  gStyle, \n",
    "                  TLine, \n",
    "                  TTree)\n",
    "\n",
    "\n",
    "\n",
    "############################################################################################################\n",
    "############################################################################################################\n",
    "\n",
    "parResCondMean  = RooRealVar('parResCondMean', 'parResCondMean', 0)\n",
    "ROOT.SetOwnership(parResCondMean, False)\n",
    "\n",
    "parResCond_a_1 = RooRealVar('parResCond_a_1', 'parResCond_a_1',0.007)\n",
    "ROOT.SetOwnership(parResCond_a_1, False)\n",
    "parResCond_b_1 = RooRealVar('parResCond_b_1', 'parResCond_b_1',  2.99717e-05)\n",
    "ROOT.SetOwnership(parResCond_b_1, False)\n",
    "\n",
    "\n",
    "parResCond_a_2 = RooRealVar('parResCond_a_2', 'parResCond_a_2',1.29732e-01)\n",
    "ROOT.SetOwnership(parResCond_a_2, False)\n",
    "parResCond_b_2 = RooRealVar('parResCond_b_2', 'parResCond_b_2', 6.80000e-05)\n",
    "ROOT.SetOwnership(parResCond_b_2, False)\n",
    "\n",
    "\n",
    "parResCond_a_3 = RooRealVar('parResCond_a_3', 'parResCond_a_3', 0)\n",
    "ROOT.SetOwnership(parResCond_a_3, False)\n",
    "parResCond_b_3 = RooRealVar('parResCond_b_3', 'parResCond_b_3',4.00000e-04)\n",
    "ROOT.SetOwnership(parResCond_b_3, False)\n",
    "\n",
    "\n",
    "\n",
    "\n",
    "\n",
    "#Definition and calculation of sigma's, related linearly on the decaytime error from the ntuple \n",
    "parResCondSigma_1 = RooFormulaVar('parResCondSigma_1', '@0*@1+@2', RooArgList(parResCond_a_1, obsTimeErr, parResCond_b_1))\n",
    "ROOT.SetOwnership(parResCondSigma_1, False)\n",
    "\n",
    "parResCondSigma_2 = RooFormulaVar('parResCondSigma_2', '@0*@1+@2', RooArgList(parResCond_a_2, obsTimeErr, parResCond_b_2))\n",
    "ROOT.SetOwnership(parResCondSigma_2, False)\n",
    "\n",
    "parResCondSigma_3 = RooFormulaVar('parResCondSigma_3', '@0*@1+@2', RooArgList(parResCond_a_3, obsTimeErr, parResCond_b_3))\n",
    "ROOT.SetOwnership(parResCondSigma_3, False)\n",
    " \n",
    "\n",
    "\n",
    "#Fractions of particular PDF's  \n",
    "parResCondFrac_1 = RooRealVar('parResCondFrac_1', 'parResCondFrac_1', 0.650000)\n",
    "ROOT.SetOwnership(parResCondFrac_1, False)\n",
    "parResCondFrac_2 = RooRealVar('parResCondFrac_2', 'parResCondFrac_2', 0.346972)\n",
    "ROOT.SetOwnership(parResCondFrac_2, False)\n",
    " \n",
    "\n",
    "pdfEffModel1 = RooGaussEfficiencyModel('pdfEffModel1', 'pdfEffModel1', obsTime, accspline, parResCondMean, parResCondSigma_1)\n",
    "ROOT.SetOwnership(pdfEffModel1, False)\n",
    "pdfEffModel2 = RooGaussEfficiencyModel('pdfEffModel2', 'pdfEffModel2', obsTime, accspline,  parResCondMean, parResCondSigma_2)\n",
    "ROOT.SetOwnership(pdfEffModel2, False)\n",
    "pdfEffModel3 = RooGaussEfficiencyModel('pdfEffModel3', 'pdfEffModel3', obsTime,  accspline, parResCondMean, parResCondSigma_3)\n",
    "ROOT.SetOwnership(pdfEffModel3, False) \n",
    " \n",
    "pdfRes = RooEffResAddModel('pdfRes', 'pdfRes', RooArgList(pdfEffModel1,pdfEffModel2, pdfEffModel3), RooArgList(parResCondFrac_1, parResCondFrac_2))\n",
    "ROOT.SetOwnership(pdfRes, False)\n",
    "pdfRes.Print('t')"
   ]
  },
  {
   "cell_type": "code",
   "execution_count": 18,
   "metadata": {
    "collapsed": false
   },
   "outputs": [
    {
     "data": {
      "text/plain": [
       "(0.007, 0.129732, 0.0)"
      ]
     },
     "execution_count": 18,
     "metadata": {},
     "output_type": "execute_result"
    }
   ],
   "source": [
    "parResCond_a_1.getVal(),parResCond_a_2.getVal(),parResCond_a_3.getVal()"
   ]
  },
  {
   "cell_type": "code",
   "execution_count": 19,
   "metadata": {
    "collapsed": false
   },
   "outputs": [
    {
     "data": {
      "text/plain": [
       "(2.99717e-05, 6.8e-05, 0.0004)"
      ]
     },
     "execution_count": 19,
     "metadata": {},
     "output_type": "execute_result"
    }
   ],
   "source": [
    "parResCond_b_1.getVal(),parResCond_b_2.getVal(),parResCond_b_3.getVal()"
   ]
  },
  {
   "cell_type": "markdown",
   "metadata": {},
   "source": [
    "### Build RooBDecay"
   ]
  },
  {
   "cell_type": "code",
   "execution_count": 20,
   "metadata": {
    "collapsed": false
   },
   "outputs": [],
   "source": [
    "from ROOT import gSystem\n",
    "gSystem.Load(\"libRooFit.so\")\n",
    "gSystem.Load(\"/home/vmueller/repos/bd2jpsieeks/external/DecRateCoeff/libDecRateCoeff.so\")\n",
    "from ROOT import DecRateCoeff_Bd,RooUnblindUniform"
   ]
  },
  {
   "cell_type": "code",
   "execution_count": 21,
   "metadata": {
    "collapsed": false,
    "scrolled": true
   },
   "outputs": [],
   "source": [
    "parDGamma = RooRealVar(\"parDGamma\", \"#Delta#it{#Gamma}\", 0)\n",
    "parDm     = RooRealVar(\"parDm\",     \"#Delta#it{m}\", 506.4) #0.5064 +- 0.0019 ps-1\n",
    "parTimeTau = RooRealVar(\"parTimeTau\", \"#it{#tau}\", 0.001520)\n",
    "\n",
    "parS = RooRealVar(\"parS\", \"#it{S}\",  0.7, -1, 1)\n",
    "parC = RooRealVar(\"parC\", \"#it{C}\", 0,-1,1)\n",
    "#parC.setConstant()\n",
    "\n",
    "parS_ub = RooUnblindUniform(\"parS_ub\", \"parS_ub\", \"hellosin2beta2017\", 2, parS)\n",
    "parC_ub = RooUnblindUniform(\"parC_ub\", \"parC_ub\", \"hellosin2beta2017\", 2, parC)\n",
    "\n",
    "parCoshCoeff = RooRealVar(\"parCoshCoeff\", \"parCoshCoeff\", 1)\n",
    "parCoshCoeff.setConstant()\n",
    "parSinhCoeff = RooRealVar(\"parSinhCoeff\", \"parSinhCoeff\", 0)\n",
    "parSinhCoeff.setConstant()\n",
    "#Flavour tagging parameters for the OS tagger\n",
    "parp0OS = RooRealVar('parp0OS', 'parp0OS', 0.386)\n",
    "parp1OS = RooRealVar('parp1OS', 'parp1OS', 0.777)\n",
    "\n",
    "pardeltap0OS = RooRealVar('pardeltap0OS', 'pardeltap0OS', 0.008)\n",
    "pardeltap1OS = RooRealVar('pardeltap1OS', 'pardeltap1OS', -0.020)\n",
    "\n",
    "paravgetaOS = RooRealVar('paravgetaOS', 'paravgetaOS', 0.352)\n",
    "partageffOS = RooRealVar('partageffOS', 'partageffOS', tagging_efficiency_OS)\n",
    "\n",
    "partageffasymOS = RooRealVar('partageffasymOS', 'partageffasymOS', 0)\n",
    "\n",
    "#Flavour tagging parameters for the SS tagger\n",
    "parp0SS = RooRealVar('parp0SS', 'parp0SS', 0.439)\n",
    "parp1SS = RooRealVar('parp1SS', 'parp1SS', 0.870)\n",
    "\n",
    "pardeltap0SS = RooRealVar('pardeltap0SS', 'pardeltap0SS', 0.012)\n",
    "pardeltap1SS = RooRealVar('pardeltap1SS', 'pardeltap1SS', 0.054)\n",
    "\n",
    "paravgetaSS = RooRealVar('paravgetaSS', 'paravgetaSS', 0.434)\n",
    "partageffSS = RooRealVar('partageffSS', 'partageffSS', tagging_efficiency_SS)\n",
    "\n",
    "partageffasymSS = RooRealVar('partageffasymSS', 'partageffasymSS', 0)\n",
    "\n",
    "parprodasym = RooRealVar('parprodasym', 'parprodasym', 0)\n",
    "pardetecasym = RooRealVar('pardetecasym', 'pardetecasym', 0) \n",
    "\n",
    "obsFinalState = RooCategory(\"obsFinalState\", \"obsFinalState\")\n",
    "obsFinalState.defineType(\"jpsiks\", 1)\n",
    "\n",
    "parCoshCoeff_decrate = DecRateCoeff_Bd(\"parCoshCoeff_decrate\", \"parCoshCoeff_decrate\", 0,\n",
    "                              obsFinalState, \n",
    "                              parCoshCoeff, \n",
    "                              parCoshCoeff, \n",
    "                              obsTagOS, \n",
    "                              obsEtaOS,  \n",
    "                              parp0OS,\n",
    "                              parp1OS,\n",
    "                              pardeltap0OS,\n",
    "                              pardeltap1OS,\n",
    "                              paravgetaOS,\n",
    "                              partageffOS,\n",
    "                              partageffasymOS,\n",
    "                              obsTagSS, \n",
    "                              obsEtaSS,  \n",
    "                              parp0SS,\n",
    "                              parp1SS,\n",
    "                              pardeltap0SS,\n",
    "                              pardeltap1SS,\n",
    "                              paravgetaSS,\n",
    "                              partageffSS,\n",
    "                              partageffasymSS,\n",
    "                              parprodasym,\n",
    "                              pardetecasym)\n",
    "\n",
    "parSinhCoeff_decrate = DecRateCoeff_Bd(\"parSinhCoeff_decrate\", \"parSinhCoeff_decrate\", 1,\n",
    "                              obsFinalState, \n",
    "                              parSinhCoeff, \n",
    "                              parSinhCoeff, \n",
    "                              obsTagOS, \n",
    "                              obsEtaOS,  \n",
    "                              parp0OS,\n",
    "                              parp1OS,\n",
    "                              pardeltap0OS,\n",
    "                              pardeltap1OS,\n",
    "                              paravgetaOS,\n",
    "                              partageffOS,\n",
    "                              partageffasymOS,\n",
    "                              obsTagSS, \n",
    "                              obsEtaSS,  \n",
    "                              parp0SS,\n",
    "                              parp1SS,\n",
    "                              pardeltap0SS,\n",
    "                              pardeltap1SS,\n",
    "                              paravgetaSS,\n",
    "                              partageffSS,\n",
    "                              partageffasymSS,\n",
    "                              parprodasym,\n",
    "                              pardetecasym)\n",
    "\n",
    "parCosCoeff = DecRateCoeff_Bd(\"parCosCoeff\", \"parCosCoeff\", 2,\n",
    "                              obsFinalState, \n",
    "                              parC_ub, \n",
    "                              parC_ub, \n",
    "                              obsTagOS, \n",
    "                              obsEtaOS,  \n",
    "                              parp0OS,\n",
    "                              parp1OS,\n",
    "                              pardeltap0OS,\n",
    "                              pardeltap1OS,\n",
    "                              paravgetaOS,\n",
    "                              partageffOS,\n",
    "                              partageffasymOS,\n",
    "                              obsTagSS, \n",
    "                              obsEtaSS,  \n",
    "                              parp0SS,\n",
    "                              parp1SS,\n",
    "                              pardeltap0SS,\n",
    "                              pardeltap1SS,\n",
    "                              paravgetaSS,\n",
    "                              partageffSS,\n",
    "                              partageffasymSS,\n",
    "                              parprodasym,\n",
    "                              pardetecasym)\n",
    "\n",
    "parSinCoeff = DecRateCoeff_Bd(\"parSinCoeff\", \"parSinCoeff\", 3,\n",
    "                              obsFinalState, \n",
    "                              parS_ub, \n",
    "                              parS_ub, \n",
    "                              obsTagOS, \n",
    "                              obsEtaOS, \n",
    "                              parp0OS,\n",
    "                              parp1OS,\n",
    "                              pardeltap0OS,\n",
    "                              pardeltap1OS,\n",
    "                              paravgetaOS, \n",
    "                              partageffOS,\n",
    "                              partageffasymOS,\n",
    "                              obsTagSS, \n",
    "                              obsEtaSS,  \n",
    "                              parp0SS,\n",
    "                              parp1SS,\n",
    "                              pardeltap0SS,\n",
    "                              pardeltap1SS,\n",
    "                              paravgetaSS,\n",
    "                              partageffSS,\n",
    "                              partageffasymSS,                              \n",
    "                              parprodasym,\n",
    "                              pardetecasym)\n",
    "\n",
    "\n",
    "ROOT.SetOwnership(parCoshCoeff,False)\n",
    "ROOT.SetOwnership(parSinhCoeff,False)\n",
    "ROOT.SetOwnership(parCosCoeff,False)\n",
    "ROOT.SetOwnership(parSinCoeff,False)\n",
    "\n",
    "from ROOT import RooBDecay,RooSimultaneous\n",
    "\n",
    "pdfDecayTime = RooBDecay(\"simPdf\", \"simPdf\", obsTime, parTimeTau, parDGamma, parCoshCoeff_decrate, parSinhCoeff_decrate, parCosCoeff, parSinCoeff, parDm, pdfRes, RooBDecay.SingleSided)\n",
    "\n",
    "ROOT.SetOwnership(pdfDecayTime, False)"
   ]
  },
  {
   "cell_type": "markdown",
   "metadata": {},
   "source": [
    "## Test only the OS tagger"
   ]
  },
  {
   "cell_type": "code",
   "execution_count": 22,
   "metadata": {
    "collapsed": false
   },
   "outputs": [
    {
     "data": {
      "text/plain": [
       "'#Build and add two Gaussians for describing the central distribution\\nmean_1 = RooRealVar(\"mean\", \"mean\", 0,-0.01,0.01)\\nmean_1.setConstant()\\nsigma_1 = RooRealVar(\"sigma_1\", \"sigma_1\",0.00005,0.00005,0.00005)\\nsigma_1.setConstant()\\npdfRes = RooGaussModel(\"signal_1\",\"signal_1\",obsTime,mean_1,sigma_1)\\n\\nROOT.SetOwnership(mean_1,False)\\nROOT.SetOwnership(sigma_1,False)\\nROOT.SetOwnership(pdfRes,False)'"
      ]
     },
     "execution_count": 22,
     "metadata": {},
     "output_type": "execute_result"
    }
   ],
   "source": [
    "'''#Build and add two Gaussians for describing the central distribution\n",
    "mean_1 = RooRealVar(\"mean\", \"mean\", 0,-0.01,0.01)\n",
    "mean_1.setConstant()\n",
    "sigma_1 = RooRealVar(\"sigma_1\", \"sigma_1\",0.00005,0.00005,0.00005)\n",
    "sigma_1.setConstant()\n",
    "pdfRes = RooGaussModel(\"signal_1\",\"signal_1\",obsTime,mean_1,sigma_1)\n",
    "\n",
    "ROOT.SetOwnership(mean_1,False)\n",
    "ROOT.SetOwnership(sigma_1,False)\n",
    "ROOT.SetOwnership(pdfRes,False)'''"
   ]
  },
  {
   "cell_type": "code",
   "execution_count": 23,
   "metadata": {
    "collapsed": false
   },
   "outputs": [
    {
     "data": {
      "text/plain": [
       "'print(\"============================================================================pdf\")\\nparDGamma = RooRealVar(\"parDGamma\", \"#Delta#it{#Gamma}\", 0)\\nparDm     = RooRealVar(\"parDm\",     \"#Delta#it{m}\", 506.4) #0.5064 +- 0.0019 ps-1\\nparTimeTau = RooRealVar(\"parTimeTau\", \"#it{#tau}\", 0.001520)\\n\\nparS = RooRealVar(\"parS\", \"#it{S}\",  0.7, -1, 1)\\nparC = RooRealVar(\"parC\", \"#it{C}\", 0, -1, 1)\\nparC.setConstant()\\n\\nparS_ub = RooUnblindUniform(\"parS_ub\", \"parS_ub\", \"hellocpviolationsinus\", 2, parS)\\n#parC_ub = RooUnblindUniform(\"parC_ub\", \"parC_ub\", \"Sin2beta2017!\", 2, parC)\\n\\nparCoshCoeff = RooRealVar(\"parCoshCoeff\", \"parCoshCoeff\", 1)\\nparSinhCoeff = RooRealVar(\"parSinhCoeff\", \"parSinhCoeff\", 0)\\n\\nparp0OS = RooRealVar(\\'parp0OS\\', \\'parp0OS\\',  0.386)\\nparp1OS = RooRealVar(\\'parp1OS\\', \\'parp1OS\\', 0.777)\\n\\npardeltap0OS = RooRealVar(\\'pardeltap0OS\\', \\'pardeltap0OS\\', 0.008)\\npardeltap1OS = RooRealVar(\\'pardeltap1OS\\', \\'pardeltap1OS\\', -0.020) \\n\\n\\n# Test average tagging \\nparp0OS = RooRealVar(\\'parp0OS\\', \\'parp0OS\\', 0.352)\\nparp1OS = RooRealVar(\\'parp1OS\\', \\'parp1OS\\', 1)\\n\\npardeltap0OS = RooRealVar(\\'pardeltap0OS\\', \\'pardeltap0OS\\', 0)\\npardeltap1OS = RooRealVar(\\'pardeltap1OS\\', \\'pardeltap1OS\\', 0) \\n\\nparavgetaOS = RooRealVar(\\'paravgetaOS\\', \\'paravgetaOS\\', 0.352)\\npartageffOS = RooRealVar(\\'partageffOS\\', \\'partageffOS\\', tagging_efficiency)#0.33,0,1)\\n\\npartageffasymOS = RooRealVar(\\'partageffasymOS\\', \\'partageffasymOS\\', 0)\\n\\nparprodasym = RooRealVar(\\'parprodasym\\', \\'parprodasym\\', 0)\\npardetecasym = RooRealVar(\\'pardetecasym\\', \\'pardetecasym\\', 0)\\n\\nobsFinalState = RooCategory(\"obsFinalState\", \"obsFinalState\")\\nobsFinalState.defineType(\"jpsiks\", 1)\\n\\nparCoshCoeff_decrate = DecRateCoeff_Bd(\"parCoshCoeff_decrate\", \"parCoshCoeff_decrate\", 0,\\n                              obsFinalState, \\n                              parCoshCoeff, \\n                              parCoshCoeff, \\n                              obsTagOS, \\n                              obsEtaOS,  \\n                              parp0OS,\\n                              parp1OS,\\n                              pardeltap0OS,\\n                              pardeltap1OS,\\n                              paravgetaOS,\\n                              partageffOS,\\n                              partageffasymOS,\\n                              parprodasym,\\n                              pardetecasym)\\n\\nparSinhCoeff_decrate = DecRateCoeff_Bd(\"parSinhCoeff_decrate\", \"parSinhCoeff_decrate\", 1,\\n                              obsFinalState, \\n                              parSinhCoeff, \\n                              parSinhCoeff, \\n                              obsTagOS, \\n                              obsEtaOS, \\n                              parp0OS,\\n                              parp1OS,\\n                              pardeltap0OS,\\n                              pardeltap1OS,\\n                              paravgetaOS, \\n                              partageffOS,\\n                              partageffasymOS,\\n                              parprodasym,\\n                              pardetecasym)\\n\\nparCosCoeff = DecRateCoeff_Bd(\"parCosCoeff\", \"parCosCoeff\", 2,\\n                              obsFinalState, \\n                              parC, \\n                              parC, \\n                              obsTagOS, \\n                              obsEtaOS,  \\n                              parp0OS,\\n                              parp1OS,\\n                              pardeltap0OS,\\n                              pardeltap1OS,\\n                              paravgetaOS,\\n                              partageffOS,\\n                              partageffasymOS,\\n                              parprodasym,\\n                              pardetecasym)\\n\\nparSinCoeff = DecRateCoeff_Bd(\"parSinCoeff\", \"parSinCoeff\", 3,\\n                              obsFinalState, \\n                              parS_ub, \\n                              parS_ub, \\n                              obsTagOS, \\n                              obsEtaOS, \\n                              parp0OS,\\n                              parp1OS,\\n                              pardeltap0OS,\\n                              pardeltap1OS,\\n                              paravgetaOS, \\n                              partageffOS,\\n                              partageffasymOS,\\n                              parprodasym,\\n                              pardetecasym)\\n\\n\\nfrom ROOT import RooBDecay\\nfrom ROOT import RooSimultaneous\\n\\npdfDecayTime = RooBDecay(\"simPdf\", \"simPdf\", obsTime, parTimeTau, parDGamma,  parCoshCoeff_decrate, parSinhCoeff_decrate, parCosCoeff, parSinCoeff, parDm, pdfRes, RooBDecay.SingleSided)\\n\\nROOT.SetOwnership(pdfDecayTime, False)\\nprint(\"============================================================================pdf\")\\npdfDecayTime.printCompactTree(\"v\")'"
      ]
     },
     "execution_count": 23,
     "metadata": {},
     "output_type": "execute_result"
    }
   ],
   "source": [
    "'''print(\"============================================================================pdf\")\n",
    "parDGamma = RooRealVar(\"parDGamma\", \"#Delta#it{#Gamma}\", 0)\n",
    "parDm     = RooRealVar(\"parDm\",     \"#Delta#it{m}\", 506.4) #0.5064 +- 0.0019 ps-1\n",
    "parTimeTau = RooRealVar(\"parTimeTau\", \"#it{#tau}\", 0.001520)\n",
    "\n",
    "parS = RooRealVar(\"parS\", \"#it{S}\",  0.7, -1, 1)\n",
    "parC = RooRealVar(\"parC\", \"#it{C}\", 0, -1, 1)\n",
    "parC.setConstant()\n",
    "\n",
    "parS_ub = RooUnblindUniform(\"parS_ub\", \"parS_ub\", \"hellocpviolationsinus\", 2, parS)\n",
    "#parC_ub = RooUnblindUniform(\"parC_ub\", \"parC_ub\", \"Sin2beta2017!\", 2, parC)\n",
    "\n",
    "parCoshCoeff = RooRealVar(\"parCoshCoeff\", \"parCoshCoeff\", 1)\n",
    "parSinhCoeff = RooRealVar(\"parSinhCoeff\", \"parSinhCoeff\", 0)\n",
    "\n",
    "parp0OS = RooRealVar('parp0OS', 'parp0OS',  0.386)\n",
    "parp1OS = RooRealVar('parp1OS', 'parp1OS', 0.777)\n",
    "\n",
    "pardeltap0OS = RooRealVar('pardeltap0OS', 'pardeltap0OS', 0.008)\n",
    "pardeltap1OS = RooRealVar('pardeltap1OS', 'pardeltap1OS', -0.020) \n",
    "\n",
    "\n",
    "# Test average tagging \n",
    "parp0OS = RooRealVar('parp0OS', 'parp0OS', 0.352)\n",
    "parp1OS = RooRealVar('parp1OS', 'parp1OS', 1)\n",
    "\n",
    "pardeltap0OS = RooRealVar('pardeltap0OS', 'pardeltap0OS', 0)\n",
    "pardeltap1OS = RooRealVar('pardeltap1OS', 'pardeltap1OS', 0) \n",
    "\n",
    "paravgetaOS = RooRealVar('paravgetaOS', 'paravgetaOS', 0.352)\n",
    "partageffOS = RooRealVar('partageffOS', 'partageffOS', tagging_efficiency)#0.33,0,1)\n",
    "\n",
    "partageffasymOS = RooRealVar('partageffasymOS', 'partageffasymOS', 0)\n",
    "\n",
    "parprodasym = RooRealVar('parprodasym', 'parprodasym', 0)\n",
    "pardetecasym = RooRealVar('pardetecasym', 'pardetecasym', 0)\n",
    "\n",
    "obsFinalState = RooCategory(\"obsFinalState\", \"obsFinalState\")\n",
    "obsFinalState.defineType(\"jpsiks\", 1)\n",
    "\n",
    "parCoshCoeff_decrate = DecRateCoeff_Bd(\"parCoshCoeff_decrate\", \"parCoshCoeff_decrate\", 0,\n",
    "                              obsFinalState, \n",
    "                              parCoshCoeff, \n",
    "                              parCoshCoeff, \n",
    "                              obsTagOS, \n",
    "                              obsEtaOS,  \n",
    "                              parp0OS,\n",
    "                              parp1OS,\n",
    "                              pardeltap0OS,\n",
    "                              pardeltap1OS,\n",
    "                              paravgetaOS,\n",
    "                              partageffOS,\n",
    "                              partageffasymOS,\n",
    "                              parprodasym,\n",
    "                              pardetecasym)\n",
    "\n",
    "parSinhCoeff_decrate = DecRateCoeff_Bd(\"parSinhCoeff_decrate\", \"parSinhCoeff_decrate\", 1,\n",
    "                              obsFinalState, \n",
    "                              parSinhCoeff, \n",
    "                              parSinhCoeff, \n",
    "                              obsTagOS, \n",
    "                              obsEtaOS, \n",
    "                              parp0OS,\n",
    "                              parp1OS,\n",
    "                              pardeltap0OS,\n",
    "                              pardeltap1OS,\n",
    "                              paravgetaOS, \n",
    "                              partageffOS,\n",
    "                              partageffasymOS,\n",
    "                              parprodasym,\n",
    "                              pardetecasym)\n",
    "\n",
    "parCosCoeff = DecRateCoeff_Bd(\"parCosCoeff\", \"parCosCoeff\", 2,\n",
    "                              obsFinalState, \n",
    "                              parC, \n",
    "                              parC, \n",
    "                              obsTagOS, \n",
    "                              obsEtaOS,  \n",
    "                              parp0OS,\n",
    "                              parp1OS,\n",
    "                              pardeltap0OS,\n",
    "                              pardeltap1OS,\n",
    "                              paravgetaOS,\n",
    "                              partageffOS,\n",
    "                              partageffasymOS,\n",
    "                              parprodasym,\n",
    "                              pardetecasym)\n",
    "\n",
    "parSinCoeff = DecRateCoeff_Bd(\"parSinCoeff\", \"parSinCoeff\", 3,\n",
    "                              obsFinalState, \n",
    "                              parS_ub, \n",
    "                              parS_ub, \n",
    "                              obsTagOS, \n",
    "                              obsEtaOS, \n",
    "                              parp0OS,\n",
    "                              parp1OS,\n",
    "                              pardeltap0OS,\n",
    "                              pardeltap1OS,\n",
    "                              paravgetaOS, \n",
    "                              partageffOS,\n",
    "                              partageffasymOS,\n",
    "                              parprodasym,\n",
    "                              pardetecasym)\n",
    "\n",
    "\n",
    "from ROOT import RooBDecay\n",
    "from ROOT import RooSimultaneous\n",
    "\n",
    "pdfDecayTime = RooBDecay(\"simPdf\", \"simPdf\", obsTime, parTimeTau, parDGamma,  parCoshCoeff_decrate, parSinhCoeff_decrate, parCosCoeff, parSinCoeff, parDm, pdfRes, RooBDecay.SingleSided)\n",
    "\n",
    "ROOT.SetOwnership(pdfDecayTime, False)\n",
    "print(\"============================================================================pdf\")\n",
    "pdfDecayTime.printCompactTree(\"v\")'''"
   ]
  },
  {
   "cell_type": "code",
   "execution_count": 24,
   "metadata": {
    "collapsed": false
   },
   "outputs": [
    {
     "name": "stdout",
     "output_type": "stream",
     "text": [
      "INFO: Reading parameters from configfile /home/chasenberg/plots/acceptance/results/params_cond_init.txt\n"
     ]
    }
   ],
   "source": [
    "results_dir = '/home/chasenberg/plots/acceptance/results/'\n",
    "\n",
    "parameters_file_name  = 'params_cond.txt'\n",
    "parameters_init_name  = parameters_file_name.replace('.txt', '_init.txt')\n",
    "parameters_final_name = parameters_file_name.replace('.txt', '_final.txt')\n",
    "\n",
    "if os.path.exists(os.path.join(results_dir, parameters_init_name)):\n",
    "    print('INFO: Reading parameters from configfile '  + os.path.join(results_dir, parameters_init_name), flush=True)\n",
    "    pdfDecayTime.getParameters(data).readFromFile(os.path.join(results_dir, parameters_init_name))\n",
    "else:\n",
    "    print('INFO: configfile... '  + os.path.join(results_dir, parameters_init_name) + ' does not exist', flush=True)\n",
    "    "
   ]
  },
  {
   "cell_type": "code",
   "execution_count": null,
   "metadata": {
    "collapsed": true
   },
   "outputs": [],
   "source": []
  },
  {
   "cell_type": "code",
   "execution_count": 25,
   "metadata": {
    "collapsed": false,
    "scrolled": true
   },
   "outputs": [
    {
     "name": "stdout",
     "output_type": "stream",
     "text": [
      "INFO: Fit converged\n",
      "INFO: Fit complete\n"
     ]
    }
   ],
   "source": [
    "cond_argset = RooArgSet(obsTimeErr)    \n",
    "\n",
    "\n",
    "fit_result = pdfDecayTime.fitTo(data, \n",
    "                                    RooFit.NumCPU(10),\n",
    "                                    RooFit.Minimizer('Minuit','minimize'),\n",
    "                                    RooFit.Hesse(True),\n",
    "                                    RooFit.Save(True),\n",
    "                                    RooFit.ConditionalObservables(cond_argset)) \n",
    "if fit_result:\n",
    "    fit_result.Print('v')\n",
    "    fit_result.correlationMatrix().Print('v')\n",
    "    if fit_result.status()==0:\n",
    "        print('INFO: Fit converged')\n",
    "    else:\n",
    "        print('INFO: Status '+str(fit_result.status()))\n",
    "    print('INFO: Fit complete', flush=True)\n",
    "else:\n",
    "    print('ERROR: There is no fitresult', flush=True)\n",
    " \n",
    "final_params_file = os.path.join(results_dir, parameters_final_name)\n",
    "pdfRes.getParameters(data).writeToFile(final_params_file)"
   ]
  },
  {
   "cell_type": "code",
   "execution_count": 26,
   "metadata": {
    "collapsed": true
   },
   "outputs": [],
   "source": [
    "data.Print()"
   ]
  },
  {
   "cell_type": "code",
   "execution_count": 27,
   "metadata": {
    "collapsed": false
   },
   "outputs": [
    {
     "name": "stdout",
     "output_type": "stream",
     "text": [
      "INFO: Fit converged\n",
      "INFO: Fit complete\n"
     ]
    }
   ],
   "source": [
    "if fit_result:\n",
    "    fit_result.Print('v')\n",
    "    fit_result.correlationMatrix().Print('v')\n",
    "    if fit_result.status()==0:\n",
    "        print('INFO: Fit converged')\n",
    "    else:\n",
    "        print('INFO: Status '+str(fit_result.status()))\n",
    "    print('INFO: Fit complete', flush=True)\n",
    "else:\n",
    "    print('ERROR: There is no fitresult', flush=True)\n",
    " \n",
    "final_params_file = os.path.join(results_dir, parameters_final_name)\n",
    "pdfRes.getParameters(data).writeToFile(final_params_file)"
   ]
  },
  {
   "cell_type": "markdown",
   "metadata": {},
   "source": [
    "### Plot RooBDecay"
   ]
  },
  {
   "cell_type": "markdown",
   "metadata": {},
   "source": [
    "### Complete projection"
   ]
  },
  {
   "cell_type": "code",
   "execution_count": 28,
   "metadata": {
    "collapsed": false,
    "scrolled": true
   },
   "outputs": [
    {
     "name": "stdout",
     "output_type": "stream",
     "text": [
      "INFO: Start plotting\n",
      "INFO: Finish plotting\n"
     ]
    },
    {
     "data": {
      "image/png": "[encoded data removed]",
      "text/plain": [
       "<ROOT.TCanvas object (\"can\") at 0xbc5e650>"
      ]
     },
     "execution_count": 28,
     "metadata": {},
     "output_type": "execute_result"
    }
   ],
   "source": [
    "print('INFO: Start plotting', flush=True)\n",
    "from ROOT import TColor\n",
    "from root_utils.lhcb_style import set_lhcb_style # Set basic LHCb plot style\n",
    "set_lhcb_style()   \n",
    "\n",
    "decay_set  = ROOT.RooArgSet(pdfDecayTime.getComponents().find('simPdf'))\n",
    "ROOT.SetOwnership(decay_set, False)\n",
    "\n",
    "# Prepare frame\n",
    "canvas = TCanvas('canvas', 'canvas', 1000, 600)\n",
    "ROOT.SetOwnership(canvas, False)\n",
    "\n",
    "plot_frame = obsTime.frame(ROOT.RooFit.Range(0.00025, 0.015), ROOT.RooFit.Bins(100))\n",
    "#plot_frame.SetMinimum(-100)\n",
    "\n",
    "ROOT.SetOwnership(plot_frame, False)\n",
    "\n",
    "data.plotOn(plot_frame, ROOT.RooFit.Name('data'))  \n",
    "pdfDecayTime.plotOn(plot_frame, RooFit.ProjWData(RooArgSet(obsTimeErr ), data, True), RooFit.LineColor(410),ROOT.RooFit.Name('decay_fit'))\n",
    "\n",
    "### Add additional informations to the plot\n",
    "text_size = 0.05\n",
    "# Create TLegend\n",
    "legend = ROOT.TLegend(0.7, 0.7, 0.80, 0.85)\n",
    "#legend = ROOT.TLegend(0.7, 0.30, 0.80, 0.5)\n",
    "ROOT.SetOwnership(plot_frame, False)\n",
    "legend.AddEntry(0,\"LHCb unofficial\", \"\")\n",
    "legend.AddEntry(plot_frame.findObject('data'), 'Data', 'p')\n",
    "legend.AddEntry(plot_frame.findObject('decay_fit'), '#it{B}^{0}#rightarrow#it{J/#psi}#it{K}_{#kern[-0.3]{S}}', 'l')\n",
    "legend.SetTextSize(text_size)\n",
    "\n",
    "plot_frame.GetYaxis().SetRangeUser(0.1, plot_frame.GetMaximum()*1.2)\n",
    "\n",
    "# Plot pulls\n",
    "plotname = 'decaytime_data_blinded_decrateCoeffs'\n",
    "can,_ = plot_pulls(plotname, plot_frame, drawables=[legend], save_path= subdir + '/plots/', logy=True)\n",
    "print('INFO: Finish plotting', flush=True)\n",
    "can"
   ]
  },
  {
   "cell_type": "code",
   "execution_count": 29,
   "metadata": {
    "collapsed": false
   },
   "outputs": [
    {
     "data": {
      "text/plain": [
       "(0.033088511830541734, 0.6516684134347153)"
      ]
     },
     "execution_count": 29,
     "metadata": {},
     "output_type": "execute_result"
    }
   ],
   "source": [
    "parS.getError(),parS.getVal()"
   ]
  },
  {
   "cell_type": "code",
   "execution_count": 30,
   "metadata": {
    "collapsed": false
   },
   "outputs": [
    {
     "data": {
      "text/plain": [
       "(0.031906840717212004, -0.1335949455090062)"
      ]
     },
     "execution_count": 30,
     "metadata": {},
     "output_type": "execute_result"
    }
   ],
   "source": [
    "parC.getError(),parC.getVal()"
   ]
  },
  {
   "cell_type": "markdown",
   "metadata": {},
   "source": [
    "### OS Tagger: B0 projection"
   ]
  },
  {
   "cell_type": "code",
   "execution_count": 31,
   "metadata": {
    "collapsed": false
   },
   "outputs": [
    {
     "name": "stdout",
     "output_type": "stream",
     "text": [
      "INFO: Start plotting\n",
      "INFO: Finish plotting\n"
     ]
    },
    {
     "name": "stderr",
     "output_type": "stream",
     "text": [
      "TCanvas::Constructor:0: RuntimeWarning: Deleting canvas with same name: canvas\n",
      "TCanvas::Constructor:0: RuntimeWarning: Deleting canvas with same name: can\n",
      "TFile::Append:0: RuntimeWarning: Replacing existing TH1: pulls_all (Potential memory leak).\n",
      "TFile::Append:0: RuntimeWarning: Replacing existing TH1: pulls_ok (Potential memory leak).\n",
      "TFile::Append:0: RuntimeWarning: Replacing existing TH1: pulls_danger (Potential memory leak).\n"
     ]
    },
    {
     "data": {
      "image/png": "[encoded data removed]",
      "text/plain": [
       "<ROOT.TCanvas object (\"can\") at 0xc1216b0>"
      ]
     },
     "execution_count": 31,
     "metadata": {},
     "output_type": "execute_result"
    }
   ],
   "source": [
    "print('INFO: Start plotting', flush=True)\n",
    "from ROOT import TColor\n",
    "from root_utils.lhcb_style import set_lhcb_style # Set basic LHCb plot style\n",
    "set_lhcb_style()   \n",
    "\n",
    "decay_set  = ROOT.RooArgSet(pdfDecayTime.getComponents().find('simPdf'))\n",
    "ROOT.SetOwnership(decay_set, False)\n",
    "\n",
    "# Prepare frame\n",
    "canvas = TCanvas('canvas', 'canvas', 1000, 600)\n",
    "ROOT.SetOwnership(canvas, False)\n",
    "\n",
    "plot_frame = obsTime.frame(ROOT.RooFit.Range(0.00025, 0.015), ROOT.RooFit.Bins(100))\n",
    "#plot_frame.SetMinimum(-100)\n",
    "\n",
    "ROOT.SetOwnership(plot_frame, False)\n",
    "\n",
    "#data.plotOn(plot_frame, ROOT.RooFit.Name('data'))  \n",
    "data.plotOn(plot_frame, RooFit.Cut(\"B0_TAGDECISION_OS_new==B0_TAGDECISION_OS_new::B0\"), ROOT.RooFit.Name('data'))  \n",
    "#pdfDecayTime.plotOn(plot_frame, RooFit.ProjWData(RooArgSet(obsTimeErr), data, True), RooFit.LineColor(410),ROOT.RooFit.Name('decay_fit'))\n",
    "pdfDecayTime.plotOn(plot_frame,RooFit.Slice(obsTagOS,\"B0\"), RooFit.ProjWData(RooArgSet(obsTimeErr), data, True), RooFit.LineColor(410),ROOT.RooFit.Name('decay_fit'))\n",
    "\n",
    "\n",
    "\n",
    "\n",
    "### Add additional informations to the plot\n",
    "text_size = 0.05\n",
    "# Create TLegend\n",
    "legend = ROOT.TLegend(0.7, 0.7, 0.80, 0.85)\n",
    "#legend = ROOT.TLegend(0.7, 0.30, 0.80, 0.5)\n",
    "ROOT.SetOwnership(plot_frame, False)\n",
    "legend.AddEntry(0,\"LHCb unofficial\", \"\")\n",
    "legend.AddEntry(plot_frame.findObject('data'), 'MC', 'p')\n",
    "legend.AddEntry(plot_frame.findObject('decay_fit'), '#it{B}^{0}#rightarrow#it{J/#psi}#it{K}_{#kern[-0.3]{S}}', 'l')\n",
    "legend.SetTextSize(text_size)\n",
    "\n",
    "plot_frame.GetYaxis().SetRangeUser(0.1, plot_frame.GetMaximum()*1.2)\n",
    "\n",
    "# Plot pulls\n",
    "plotname = 'decaytime_data_blinded_decrateCoeffs_OS_B0'\n",
    "can,_ = plot_pulls(plotname, plot_frame, drawables=[legend], save_path= subdir + '/plots/', logy=True)\n",
    "print('INFO: Finish plotting', flush=True)\n",
    "can"
   ]
  },
  {
   "cell_type": "markdown",
   "metadata": {},
   "source": [
    "### OS Tagger: B0bar projection"
   ]
  },
  {
   "cell_type": "code",
   "execution_count": 32,
   "metadata": {
    "collapsed": false
   },
   "outputs": [
    {
     "name": "stdout",
     "output_type": "stream",
     "text": [
      "INFO: Start plotting\n",
      "INFO: Finish plotting\n"
     ]
    },
    {
     "name": "stderr",
     "output_type": "stream",
     "text": [
      "TCanvas::Constructor:0: RuntimeWarning: Deleting canvas with same name: canvas\n",
      "TCanvas::Constructor:0: RuntimeWarning: Deleting canvas with same name: can\n",
      "TFile::Append:0: RuntimeWarning: Replacing existing TH1: pulls_all (Potential memory leak).\n",
      "TFile::Append:0: RuntimeWarning: Replacing existing TH1: pulls_ok (Potential memory leak).\n",
      "TFile::Append:0: RuntimeWarning: Replacing existing TH1: pulls_danger (Potential memory leak).\n"
     ]
    },
    {
     "data": {
      "image/png": "[encoded data removed]",
      "text/plain": [
       "<ROOT.TCanvas object (\"can\") at 0xafc9130>"
      ]
     },
     "execution_count": 32,
     "metadata": {},
     "output_type": "execute_result"
    }
   ],
   "source": [
    "print('INFO: Start plotting', flush=True)\n",
    "from ROOT import TColor\n",
    "from root_utils.lhcb_style import set_lhcb_style # Set basic LHCb plot style\n",
    "set_lhcb_style()   \n",
    "\n",
    "decay_set  = ROOT.RooArgSet(pdfDecayTime.getComponents().find('simPdf'))\n",
    "ROOT.SetOwnership(decay_set, False)\n",
    "\n",
    "# Prepare frame\n",
    "canvas = TCanvas('canvas', 'canvas', 1000, 600)\n",
    "ROOT.SetOwnership(canvas, False)\n",
    "\n",
    "plot_frame = obsTime.frame(ROOT.RooFit.Range(0.00025, 0.015), ROOT.RooFit.Bins(100))\n",
    "#plot_frame.SetMinimum(-100)\n",
    "\n",
    "ROOT.SetOwnership(plot_frame, False)\n",
    "\n",
    "#data.plotOn(plot_frame, ROOT.RooFit.Name('data'))  \n",
    "data.plotOn(plot_frame, RooFit.Cut(\"B0_TAGDECISION_OS_new==B0_TAGDECISION_OS_new::B0b\"), ROOT.RooFit.Name('data'))  \n",
    "#pdfDecayTime.plotOn(plot_frame, RooFit.ProjWData(RooArgSet(obsTimeErr), data, True), RooFit.LineColor(410),ROOT.RooFit.Name('decay_fit'))\n",
    "pdfDecayTime.plotOn(plot_frame,RooFit.Slice(obsTagOS,\"B0b\"), RooFit.ProjWData(RooArgSet(obsTimeErr), data, True), RooFit.LineColor(410),ROOT.RooFit.Name('decay_fit'))\n",
    "\n",
    "### Add additional informations to the plot\n",
    "text_size = 0.05\n",
    "# Create TLegend\n",
    "legend = ROOT.TLegend(0.7, 0.7, 0.80, 0.85)\n",
    "#legend = ROOT.TLegend(0.7, 0.30, 0.80, 0.5)\n",
    "ROOT.SetOwnership(plot_frame, False)\n",
    "legend.AddEntry(0,\"LHCb unofficial\", \"\")\n",
    "legend.AddEntry(plot_frame.findObject('data'), 'MC', 'p')\n",
    "legend.AddEntry(plot_frame.findObject('decay_fit'), '#it{B}^{0}#rightarrow#it{J/#psi}#it{K}_{#kern[-0.3]{S}}', 'l')\n",
    "legend.SetTextSize(text_size)\n",
    "\n",
    "plot_frame.GetYaxis().SetRangeUser(0.1, plot_frame.GetMaximum()*1.2)\n",
    "\n",
    "# Plot pulls\n",
    "plotname = 'decaytime_data_blinded_decrateCoeffs_OS_B0b'\n",
    "can,_ = plot_pulls(plotname, plot_frame, drawables=[legend], save_path= subdir + '/plots/', logy=True)\n",
    "print('INFO: Finish plotting', flush=True)\n",
    "can"
   ]
  },
  {
   "cell_type": "markdown",
   "metadata": {},
   "source": [
    "### SS Tagger: B0 projection"
   ]
  },
  {
   "cell_type": "code",
   "execution_count": 33,
   "metadata": {
    "collapsed": false
   },
   "outputs": [
    {
     "name": "stdout",
     "output_type": "stream",
     "text": [
      "INFO: Start plotting\n",
      "ERROR: No RooCurve found! Will skip plotting...\n",
      "INFO: Finish plotting\n"
     ]
    },
    {
     "name": "stderr",
     "output_type": "stream",
     "text": [
      "TCanvas::Constructor:0: RuntimeWarning: Deleting canvas with same name: canvas\n",
      "TCanvas::Constructor:0: RuntimeWarning: Deleting canvas with same name: can\n"
     ]
    },
    {
     "data": {
      "text/plain": [
       "0"
      ]
     },
     "execution_count": 33,
     "metadata": {},
     "output_type": "execute_result"
    }
   ],
   "source": [
    "print('INFO: Start plotting', flush=True)\n",
    "from ROOT import TColor\n",
    "from root_utils.lhcb_style import set_lhcb_style # Set basic LHCb plot style\n",
    "set_lhcb_style()   \n",
    "\n",
    "decay_set  = ROOT.RooArgSet(pdfDecayTime.getComponents().find('simPdf'))\n",
    "ROOT.SetOwnership(decay_set, False)\n",
    "\n",
    "# Prepare frame\n",
    "canvas = TCanvas('canvas', 'canvas', 1000, 600)\n",
    "ROOT.SetOwnership(canvas, False)\n",
    "\n",
    "plot_frame = obsTime.frame(ROOT.RooFit.Range(0.00025, 0.015), ROOT.RooFit.Bins(100))\n",
    "#plot_frame.SetMinimum(-100)\n",
    "\n",
    "ROOT.SetOwnership(plot_frame, False)\n",
    "\n",
    "#data.plotOn(plot_frame, ROOT.RooFit.Name('data'))  \n",
    "data.plotOn(plot_frame, RooFit.Cut(\"B0_TAGDECISION_SS_new==B0_TAGDECISION_SS_new::B0\"), ROOT.RooFit.Name('data'))  \n",
    "#pdfDecayTime.plotOn(plot_frame, RooFit.ProjWData(RooArgSet(obsTimeErr), data, True), RooFit.LineColor(410),ROOT.RooFit.Name('decay_fit'))\n",
    "pdfDecayTime.plotOn(plot_frame,RooFit.Slice(obsTagSS,\"B0\"), RooFit.ProjWData(RooArgSet(obsTimeErr), data, True), RooFit.LineColor(410),ROOT.RooFit.Name('decay_fit'))\n",
    "\n",
    "### Add additional informations to the plot\n",
    "text_size = 0.05\n",
    "# Create TLegend\n",
    "legend = ROOT.TLegend(0.7, 0.7, 0.80, 0.85)\n",
    "#legend = ROOT.TLegend(0.7, 0.30, 0.80, 0.5)\n",
    "ROOT.SetOwnership(plot_frame, False)\n",
    "legend.AddEntry(0,\"LHCb unofficial\", \"\")\n",
    "legend.AddEntry(plot_frame.findObject('data'), 'MC', 'p')\n",
    "legend.AddEntry(plot_frame.findObject('decay_fit'), '#it{B}^{0}#rightarrow#it{J/#psi}#it{K}_{#kern[-0.3]{S}}', 'l')\n",
    "legend.SetTextSize(text_size)\n",
    "\n",
    "plot_frame.GetYaxis().SetRangeUser(0.1, plot_frame.GetMaximum()*1.2)\n",
    "\n",
    "# Plot pulls\n",
    "plotname = 'decaytime_data_blinded_decrateCoeffs_SS_B0'\n",
    "can,_ = plot_pulls(plotname, plot_frame, drawables=[legend], save_path= subdir + '/plots/', logy=True)\n",
    "print('INFO: Finish plotting', flush=True)\n",
    "can"
   ]
  },
  {
   "cell_type": "markdown",
   "metadata": {},
   "source": [
    "### SS Tagger: B0bar projection"
   ]
  },
  {
   "cell_type": "code",
   "execution_count": 34,
   "metadata": {
    "collapsed": false
   },
   "outputs": [
    {
     "ename": "SyntaxError",
     "evalue": "invalid syntax (<ipython-input-34-38e872e6fc7f>, line 3)",
     "output_type": "error",
     "traceback": [
      "\u001b[1;36m  File \u001b[1;32m\"<ipython-input-34-38e872e6fc7f>\"\u001b[1;36m, line \u001b[1;32m3\u001b[0m\n\u001b[1;33m    from root_utils.lhcb_style i1mport set_lhcb_style # Set basic LHCb plot style\u001b[0m\n\u001b[1;37m                                     ^\u001b[0m\n\u001b[1;31mSyntaxError\u001b[0m\u001b[1;31m:\u001b[0m invalid syntax\n"
     ]
    }
   ],
   "source": [
    "print('INFO: Start plotting', flush=True)\n",
    "from ROOT import TColor\n",
    "from root_utils.lhcb_style i1mport set_lhcb_style # Set basic LHCb plot style\n",
    "set_lhcb_style()   \n",
    "\n",
    "decay_set  = ROOT.RooArgSet(pdfDecayTime.getComponents().find('simPdf'))\n",
    "ROOT.SetOwnership(decay_set, False)\n",
    "\n",
    "# Prepare frame\n",
    "canvas = TCanvas('canvas', 'canvas', 1000, 600)\n",
    "ROOT.SetOwnership(canvas, False)\n",
    "\n",
    "plot_frame = obsTime.frame(ROOT.RooFit.Range(0.00025, 0.015), ROOT.RooFit.Bins(100))\n",
    "#plot_frame.SetMinimum(-100)\n",
    "\n",
    "ROOT.SetOwnership(plot_frame, False)\n",
    "\n",
    "#data.plotOn(plot_frame, ROOT.RooFit.Name('data'))  \n",
    "data.plotOn(plot_frame, RooFit.Cut(\"B0_TAGDECISION_SS_new==B0_TAGDECISION_SS_new::B0b\"), ROOT.RooFit.Name('data'))  \n",
    "#pdfDecayTime.plotOn(plot_frame, RooFit.ProjWData(RooArgSet(obsTimeErr), data, True), RooFit.LineColor(410),ROOT.RooFit.Name('decay_fit'))\n",
    "pdfDecayTime.plotOn(plot_frame,RooFit.Slice(obsTagSS,\"B0b\"), RooFit.ProjWData(RooArgSet(obsTimeErr), data, True), RooFit.LineColor(410),ROOT.RooFit.Name('decay_fit'))\n",
    "\n",
    "### Add additional informations to the plot\n",
    "text_size = 0.05\n",
    "# Create TLegend\n",
    "legend = ROOT.TLegend(0.7, 0.7, 0.80, 0.85)\n",
    "#legend = ROOT.TLegend(0.7, 0.30, 0.80, 0.5)\n",
    "ROOT.SetOwnership(plot_frame, False)\n",
    "legend.AddEntry(0,\"LHCb unofficial\", \"\")\n",
    "legend.AddEntry(plot_frame.findObject('data'), 'MC', 'p')\n",
    "legend.AddEntry(plot_frame.findObject('decay_fit'), '#it{B}^{0}#rightarrow#it{J/#psi}#it{K}_{#kern[-0.3]{S}}', 'l')\n",
    "legend.SetTextSize(text_size)\n",
    "\n",
    "plot_frame.GetYaxis().SetRangeUser(0.1, plot_frame.GetMaximum()*1.2)\n",
    "\n",
    "# Plot pulls\n",
    "plotname = 'decaytime_data_blinded_decrateCoeffs_SS_B0b'\n",
    "can,_ = plot_pulls(plotname, plot_frame, drawables=[legend], save_path= subdir + '/plots/', logy=True)\n",
    "print('INFO: Finish plotting', flush=True)\n",
    "can"
   ]
  }
 ],
 "metadata": {
  "kernelspec": {
   "display_name": "Python 3",
   "language": "python",
   "name": "python3"
  },
  "language_info": {
   "codemirror_mode": {
    "name": "ipython",
    "version": 3
   },
   "file_extension": ".py",
   "mimetype": "text/x-python",
   "name": "python",
   "nbconvert_exporter": "python",
   "pygments_lexer": "ipython3",
   "version": "3.4.4"
  }
 },
 "nbformat": 4,
 "nbformat_minor": 0
}
