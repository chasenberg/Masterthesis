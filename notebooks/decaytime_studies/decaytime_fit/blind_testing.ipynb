{
 "cells": [
  {
   "cell_type": "code",
   "execution_count": 1,
   "metadata": {
    "collapsed": false
   },
   "outputs": [],
   "source": [
    "%matplotlib inline\n",
    "%load_ext autoreload\n",
    "%autoreload 2\n",
    "\n",
    "import os\n",
    "import sys\n",
    "import ROOT\n",
    "from ROOT import TFile, TH1D, TH2D, TCanvas, gStyle, TLine, TTree\n",
    "from ROOT import (RooArgSet, RooRealVar, RooDataSet, RooPlot, RooFit, RooStats, RooArgList)\n",
    "\n",
    "import math\n",
    "import itertools\n",
    "import numpy as np\n",
    "import matplotlib as mpl\n",
    "import matplotlib.pyplot as plt\n",
    "from matplotlib.backends.backend_pdf import PdfPages\n",
    "\n",
    "from root_pandas import read_root\n",
    "import pandas as pd\n",
    "\n",
    "sys.path.append('/home/vmueller/repos')\n",
    "from dopy.doroot.root_utils import read_roodataset_from_tree, plot_pulls\n",
    "from dopy.doplot.plotting import Plotter, Plot                "
   ]
  },
  {
   "cell_type": "code",
   "execution_count": 2,
   "metadata": {
    "collapsed": true
   },
   "outputs": [],
   "source": [
    "\n",
    "from ROOT import RooRealVar, RooExponential, RooExtendPdf, RooAddPdf, RooArgList, RooGaussian\n",
    "from ROOT import RooFormulaVar\n",
    "from ROOT import gSystem\n",
    "gSystem.Load('libRooFit.so')\n",
    "gSystem.Load('/home/chasenberg/repos/dopy/dolib/CustomShapes/libKll')\n",
    "from ROOT import RooIpatia2\n",
    "\n",
    "from ROOT import gSystem\n",
    "gSystem.Load(\"libRooFit.so\")\n",
    "gSystem.Load(\"/home/vmueller/repos/bd2jpsieeks/external/DecRateCoeff/libDecRateCoeff.so\")\n",
    "from ROOT import DecRateCoeff_Bd,RooUnblindUniform"
   ]
  },
  {
   "cell_type": "code",
   "execution_count": 5,
   "metadata": {
    "collapsed": false
   },
   "outputs": [
    {
     "name": "stderr",
     "output_type": "stream",
     "text": [
      "TCanvas::Constructor:0: RuntimeWarning: Deleting canvas with same name: can\n",
      "TROOT::Append:0: RuntimeWarning: Replacing existing TH1: pulls_all (Potential memory leak).\n",
      "TROOT::Append:0: RuntimeWarning: Replacing existing TH1: pulls_ok (Potential memory leak).\n",
      "TROOT::Append:0: RuntimeWarning: Replacing existing TH1: pulls_danger (Potential memory leak).\n"
     ]
    },
    {
     "data": {
      "text/plain": [
       "<ROOT.TCanvas object (\"can\") at 0x74af020>"
      ]
     },
     "execution_count": 5,
     "metadata": {},
     "output_type": "execute_result"
    }
   ],
   "source": [
    "\n",
    "\n",
    "n_events = 10000\n",
    "save_path = 'plots_root/'\n",
    "\n",
    "x = ROOT.RooRealVar('x', 'variable', -10, 10, 'MeV/#it{c}^{2}')\n",
    "mean = ROOT.RooRealVar('mean', 'mean', 0, -2, 2)\n",
    "sigma = ROOT.RooRealVar('sigma', 'sigma', 2, 1, 5)\n",
    "\n",
    "gauss1 = ROOT.RooGaussian('gauss', 'gauss', x, mean, sigma)\n",
    "\n",
    "# Create pseudodata and fit it\n",
    "data = gauss1.generate(ROOT.RooArgSet(x), n_events)\n",
    "\n",
    "\n",
    "#Define fitmodel with blinded mean and sigma\n",
    "\n",
    "\n",
    "sigma = ROOT.RooRealVar('sigma', 'sigma', 2, 1, 5)\n",
    "sigma_ub = RooUnblindUniform('sigma_ub','sigma_ub', 'testing', 2, sigma)\n",
    "mean2 = ROOT.RooRealVar('mean', 'mean', 0, -2, 2)\n",
    "mean_ub = RooUnblindUniform('mean_ub','mean_ub', 'adfbeee', 2, mean2)\n",
    "\n",
    "gauss = ROOT.RooGaussian('gauss', 'gauss', x, mean_ub, sigma_ub)\n",
    "\n",
    "#fit model with blinded paramters to generated data \n",
    "gauss.fitTo(data)\n",
    "\n",
    "# Prepare frame\n",
    "frame = x.frame(ROOT.RooFit.Bins(40))\n",
    "\n",
    "data.plotOn(frame, ROOT.RooFit.Name(\"data\"))\n",
    "gauss.plotOn(frame, ROOT.RooFit.Name(\"fit\"))\n",
    "\n",
    "### Add additional informations to the plot\n",
    "\n",
    "# Create TLegend\n",
    "legend = ROOT.TLegend(0.7, 0.7, 0.85, 0.85, 'Legend')\n",
    "legend.AddEntry(frame.findObject('data'), 'Data points', 'p');\n",
    "legend.AddEntry(frame.findObject('fit'), 'Gauss fit', 'l')\n",
    "\n",
    "# Create TLatex\n",
    "text_size = 0.045\n",
    "latex = ROOT.TLatex(0.2, 0.78, '#splitline{Toy MC example}' + \\\n",
    "                                 '{#it{f}(x) = #frac{1}{#sigma #sqrt{2 #pi}}' + \\\n",
    "                                 ' e^{- 0.5 #left( #frac{x - #mu}{#sigma} #right)^{2}}}')\n",
    "latex.SetTextSize(text_size*0.75)\n",
    "latex.SetNDC()\n",
    "\n",
    "# Set y-axis minimum to a positive value (to remove the overlapping zero)\n",
    "frame.GetYaxis().SetRangeUser(0.1, frame.GetMaximum()*1.2)\n",
    "\n",
    "# Plot simple (== without pulls) using plot_simple or with pulls using plot_pulls\n",
    "#can, _ = plot_simple('gaussian_fit_simple', frame, drawables=[latex, legend],\n",
    "#                      save_path=save_path)\n",
    "can, _ = plot_pulls('gaussian_fit_pulls', frame, drawables=[latex, legend], \n",
    "                    save_path=save_path)\n",
    "can  # To display plot in notebooks"
   ]
  },
  {
   "cell_type": "code",
   "execution_count": null,
   "metadata": {
    "collapsed": true
   },
   "outputs": [],
   "source": []
  },
  {
   "cell_type": "code",
   "execution_count": null,
   "metadata": {
    "collapsed": true
   },
   "outputs": [],
   "source": []
  }
 ],
 "metadata": {
  "kernelspec": {
   "display_name": "Python 3",
   "language": "python",
   "name": "python3"
  },
  "language_info": {
   "codemirror_mode": {
    "name": "ipython",
    "version": 3
   },
   "file_extension": ".py",
   "mimetype": "text/x-python",
   "name": "python",
   "nbconvert_exporter": "python",
   "pygments_lexer": "ipython3",
   "version": "3.4.4"
  }
 },
 "nbformat": 4,
 "nbformat_minor": 0
}
