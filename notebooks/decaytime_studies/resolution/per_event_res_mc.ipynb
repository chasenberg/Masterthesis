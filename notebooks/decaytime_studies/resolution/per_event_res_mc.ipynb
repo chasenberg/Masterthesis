{
 "cells": [
  {
   "cell_type": "code",
   "execution_count": 1,
   "metadata": {
    "collapsed": false
   },
   "outputs": [],
   "source": [
    "import ROOT\n",
    "from ROOT import gROOT, TCanvas, TF1, TFile, TTree, gRandom, TH1F\n",
    "\n",
    "from ROOT import RooRealVar, RooFormulaVar, RooVoigtian, RooChebychev, RooArgList, \\\n",
    "                 RooArgSet, RooAddPdf, RooDataSet, RooCategory, RooSimultaneous, \\\n",
    "                 RooBreitWigner, RooCBShape, RooFFTConvPdf, RooGaussian,RooExponential, \\\n",
    "                 RooBinning, kRed, kBlue,kGreen, kDotted,TString,RooAbsData, RooPlot, TCut, RooAbsData, RooFit , RooStats,RooAbsReal              "
   ]
  },
  {
   "cell_type": "code",
   "execution_count": 2,
   "metadata": {
    "collapsed": false
   },
   "outputs": [
    {
     "name": "stderr",
     "output_type": "stream",
     "text": [
      "/opt/rh/miniconda/envs/py3root6/lib/python3.4/site-packages/sklearn/cross_validation.py:44: DeprecationWarning: This module was deprecated in version 0.18 in favor of the model_selection module into which all the refactored classes and functions are moved. Also note that the interface of the new CV iterators are different from that of this module. This module will be removed in 0.20.\n",
      "  \"This module will be removed in 0.20.\", DeprecationWarning)\n"
     ]
    }
   ],
   "source": [
    "%matplotlib inline\n",
    "%reload_ext autoreload\n",
    "%autoreload 2\n",
    "\n",
    "import os, sys, time, random\n",
    "\n",
    "from ROOT import TTree, TFile\n",
    "\n",
    "# from root_numpy import root2array, rec2array, array2root\n",
    "\n",
    "import pandas as pd\n",
    "import numpy as np\n",
    "import scipy \n",
    "import root_pandas as rp\n",
    "import root_numpy as ry \n",
    "\n",
    "import pandas.core.common as com\n",
    "from pandas.core.index import Index\n",
    "from pandas.tools import plotting\n",
    "from pandas.tools.plotting import scatter_matrix\n",
    "\n",
    "from tqdm import tqdm_notebook\n",
    "\n",
    "import numpy as np\n",
    "import matplotlib as mpl\n",
    "import matplotlib.pyplot as plt\n",
    "from matplotlib.backends.backend_pdf import PdfPages\n",
    "\n",
    "from sklearn import datasets\n",
    "from sklearn.tree import DecisionTreeClassifier\n",
    "from sklearn.ensemble import AdaBoostClassifier, GradientBoostingClassifier\n",
    "from sklearn.cross_validation import train_test_split\n",
    "from sklearn.preprocessing import Imputer, StandardScaler\n",
    "from sklearn.externals import joblib\n",
    "from sklearn.metrics import classification_report, roc_curve, auc, roc_auc_score\n",
    "\n",
    "sys.path.append('/home/chasenberg/repos/')\n",
    "sys.path.append('/home/chasenberg/repos/dopy')\n",
    "from dopy import * \n",
    "from dopy.dolearn.sklearn_utils import plot_roc_curve, plot_classifier_output, plot_correlations\n",
    "from dopy.dolearn.sklearn_utils import plot_feature_importances, plot_classifier_output, classify_unseen_data\n",
    "#from dopy.sklearn_utils import plot_bdt_vars\n",
    "from dopy.doplot.plotting import Plotter, Plot\n",
    "from dopy.doanalysis.df_utils import add_min_max, add_eta "
   ]
  },
  {
   "cell_type": "code",
   "execution_count": 3,
   "metadata": {
    "collapsed": true
   },
   "outputs": [],
   "source": [
    "sys.path.append('/home/chasenberg/repos/root_utils/')\n",
    "from ROOT import TColor\n",
    "import rootnotes  # For displaying TCanvas in notebooks\n",
    "from lhcb_style import set_lhcb_style # Set basic LHCb plot style\n",
    "set_lhcb_style()   \n",
    "from root_utils import plot_pulls"
   ]
  },
  {
   "cell_type": "code",
   "execution_count": 4,
   "metadata": {
    "collapsed": true
   },
   "outputs": [],
   "source": [
    "from ROOT import RooRealVar, RooExponential, RooExtendPdf, RooAddPdf, RooArgList, RooGaussian\n",
    "from ROOT import RooFormulaVar\n",
    "from ROOT import gSystem\n",
    "gSystem.Load('libRooFit.so')\n",
    "gSystem.Load('/home/chasenberg/repos/dopy/dolib/CustomShapes/libKll')\n",
    "from ROOT import RooIpatia2"
   ]
  },
  {
   "cell_type": "code",
   "execution_count": 5,
   "metadata": {
    "collapsed": true
   },
   "outputs": [],
   "source": [
    "mc_path = '/fhgfs/users/chasenberg/mc/2015_2016_merged/jpsimumuks/'\n",
    "mc_file = 'Bd2JpsiKS_random.root'\n",
    "mc_dir = os.path.join(mc_path, mc_file)"
   ]
  },
  {
   "cell_type": "code",
   "execution_count": 6,
   "metadata": {
    "collapsed": false
   },
   "outputs": [],
   "source": [
    "cut_string_mc = ''  #'idxPV==0'\n",
    "tree_mc = 'Bd2JpsiKS'"
   ]
  },
  {
   "cell_type": "code",
   "execution_count": 7,
   "metadata": {
    "collapsed": false
   },
   "outputs": [],
   "source": [
    "signal_dataframe_wrongPV  = rp.read_root(mc_dir,key=tree_mc,where=cut_string_mc, flatten=False)\n",
    "signal_dataframe_wrongPV  = signal_dataframe_wrongPV.replace([np.inf, -np.inf], np.nan)\n",
    "signal_dataframe_wrongPV  = signal_dataframe_wrongPV.dropna()"
   ]
  },
  {
   "cell_type": "code",
   "execution_count": 8,
   "metadata": {
    "collapsed": false
   },
   "outputs": [
    {
     "data": {
      "text/plain": [
       "Index(['B0_FitDaughtersConst_status_flat', 'B0_FitDaughtersConst_M_flat',\n",
       "       'B0_FitDaughtersConst_chi2_flat', 'B0_FitDaughtersConst_IPCHI2_flat',\n",
       "       'B0_FitDaughtersConst_PT_flat',\n",
       "       'B0_FitDaughtersConst_J_psi_1S_P0_PT_flat',\n",
       "       'B0_FitDaughtersConst_J_psi_1S_P1_PT_flat',\n",
       "       'B0_FitDaughtersConst_J_psi_1S_MinIPCHI2anyPV_flat',\n",
       "       'B0_FitDaughtersConst_J_psi_1S_IPCHI2_flat',\n",
       "       'B0_FitDaughtersConst_J_psi_1S_IP_flat',\n",
       "       'B0_FitDaughtersConst_KS0_P1_PT_flat',\n",
       "       'B0_FitDaughtersConst_KS0_P0_PT_flat',\n",
       "       'B0_FitDaughtersConst_KS0_P0_IPCHI2_flat',\n",
       "       'B0_FitDaughtersConst_KS0_P1_IPCHI2_flat',\n",
       "       'B0_FitDaughtersConst_KS0_decayLength_flat',\n",
       "       'B0_FitDaughtersConst_KS0_IP_flat', 'B0_FitPVConst_status_flat',\n",
       "       'B0_FitPVConst_IPCHI2_flat', 'B0_FitPVConst_chi2_flat',\n",
       "       'B0_FitPVConst_nDOF_flat', 'B0_FitPVConst_tauErr_flat',\n",
       "       'B0_FitPVConst_tau_flat', 'B0_FitPVConst_MinIPCHI2anyPV_flat',\n",
       "       'B0_FitPVConst_PV_Z_flat', 'B0_FitPVConst_X_flat',\n",
       "       'B0_FitPVConst_Y_flat', 'B0_FitPVConst_Z_flat',\n",
       "       'B0_FitPVConst_XERR_flat', 'B0_FitPVConst_YERR_flat',\n",
       "       'B0_FitPVConst_ZERR_flat', 'B0_FitPVConst_J_psi_1S_MinIPCHI2anyPV_flat',\n",
       "       'B0_FitPVConst_J_psi_1S_IP_flat', 'B0_FitPVConst_J_psi_1S_IPCHI2_flat',\n",
       "       'B0_FitPVConst_KS0_MinIPCHI2anyPV_flat', 'B0_FitPVConst_KS0_IP_flat',\n",
       "       'B0_FitPVConst_KS0_IPCHI2_flat', 'B0_FitPVConst_KS0_tau_flat',\n",
       "       'B0_FitPVConst_KS0_tauErr_flat', 'B0_FitJpsiPVConst_Z_flat',\n",
       "       'B0_FitJpsiConst_J_psi_1S_MinIPCHI2anyPV_flat', 'B0_BKGCAT',\n",
       "       'B0_TRUETAU', 'pv_z_pull', 'piplus_TRACK_Type', 'piminus_MINIPCHI2',\n",
       "       'piplus_MINIPCHI2', 'muminus_MINIPCHI2', 'muplus_MINIPCHI2',\n",
       "       'piplus_ProbNNp', 'piminus_ProbNNp', 'varLambda0MassHypo_ppluspiminus',\n",
       "       'varLambda0MassHypo_pminuspiplus', 'eventNumber', 'runNumber',\n",
       "       'B0_LOKI_ETA', 'B0_LOKI_PHI', 'nPV', 'nTracks', 'idxPV', 'idxRandom',\n",
       "       'idxEventNumber', 'idxRunNumber', 'B0_FitDaughtersConst_KS0_min_PT',\n",
       "       'test_IP', 'B0_FitDaughtersConst_J_psi_1S_min_PT',\n",
       "       'B0_FitPVConst_KS0_tau_dimless', 'Delta_TAU', 'BDTresponse'],\n",
       "      dtype='object')"
      ]
     },
     "execution_count": 8,
     "metadata": {},
     "output_type": "execute_result"
    }
   ],
   "source": [
    "signal_dataframe_wrongPV.columns"
   ]
  },
  {
   "cell_type": "code",
   "execution_count": 9,
   "metadata": {
    "collapsed": false
   },
   "outputs": [],
   "source": [
    "sample = signal_dataframe_wrongPV.sample(122000)"
   ]
  },
  {
   "cell_type": "code",
   "execution_count": 10,
   "metadata": {
    "collapsed": false
   },
   "outputs": [],
   "source": [
    "random_set = 'random_sample.root'\n",
    "sample.to_root(mc_path+random_set,key='Bd2JpsiKS')"
   ]
  },
  {
   "cell_type": "markdown",
   "metadata": {},
   "source": [
    "### Plot Delta_Tau"
   ]
  },
  {
   "cell_type": "code",
   "execution_count": 11,
   "metadata": {
    "collapsed": false
   },
   "outputs": [
    {
     "name": "stdout",
     "output_type": "stream",
     "text": [
      "WARNING: Range for plot Delta_TAU has been manually set with range_part_of_selection=False.\n",
      "WARNING: Efficiencies are calculated against the full complete dataset.\n"
     ]
    },
    {
     "data": {
      "image/png": "[encoded data removed]",
      "text/plain": [
       "<matplotlib.figure.Figure at 0x7fec852c9630>"
      ]
     },
     "metadata": {},
     "output_type": "display_data"
    }
   ],
   "source": [
    "signal_dataframe_wrongPV['Delta_TAU']\n",
    "p = Plotter('/home/chasenberg/plots/selection/')\n",
    "p.create_plots(signal_dataframe_wrongPV,'Delta_TAU',component_labels=['MC'])\n",
    "p['Delta_TAU'].set_log_y()#(-0.0005,0.0005)\n",
    "a = p['Delta_TAU']\n",
    "p['Delta_TAU'].set_range(-0.0005,0.0005)\n",
    "#bdt_plot.plot()\n",
    "p.plot()"
   ]
  },
  {
   "cell_type": "markdown",
   "metadata": {},
   "source": [
    "## Build per event resolution model \n"
   ]
  },
  {
   "cell_type": "code",
   "execution_count": 12,
   "metadata": {
    "collapsed": false
   },
   "outputs": [
    {
     "data": {
      "text/plain": [
       "122000"
      ]
     },
     "execution_count": 12,
     "metadata": {},
     "output_type": "execute_result"
    }
   ],
   "source": [
    "#criteria and information for read in mc\n",
    "data = ROOT.TFile(mc_path+'random_sample.root')\n",
    "tree_data = data.Get('Bd2JpsiKS') \n",
    "tree_data.GetEntries()"
   ]
  },
  {
   "cell_type": "markdown",
   "metadata": {},
   "source": [
    "## Triple Gaussian"
   ]
  },
  {
   "cell_type": "code",
   "execution_count": 13,
   "metadata": {
    "collapsed": false
   },
   "outputs": [],
   "source": [
    "from ROOT import RooGaussian, RooAddPdf\n",
    "\n",
    "obsTime = RooRealVar(\"B0_FitPVConst_tau_flat\", \"obsTime\", 0,-0.001,0.0015, \"ps\")\n",
    "obsTimeErr = RooRealVar(\"B0_FitPVConst_tauErr_flat\", \"obsTimeErr\", 0,-0.001,0.001, \"ps\")\n",
    "obsTimeRes = RooRealVar(\"Delta_TAU\", \"obsTimeRes\", 0,-0.001,0.001, \"ps\")\n",
    "idxPV = RooRealVar(\"idxPV\", \"idxPV\", 0,0,0)\n",
    "\n",
    "ntupleVarSet =  RooArgSet(obsTimeErr,obsTimeRes)#,idxPV)\n",
    "dataset = RooDataSet('data','data',tree_data,ntupleVarSet)\n",
    "ROOT.SetOwnership(dataset,False)\n",
    "\n",
    "#observables = RooArgSet(obsTimeRes, obsTimeErr)\n",
    "#dataset = RooDataSet(\"data\", \"data\", tree_data, observables)\n",
    "#ROOT.SetOwnership(dataset,False)\n",
    "\n",
    "parResCondMean  = RooRealVar('parResCondMean', 'parResCondMean', 0.0, -5.0, 5.0)\n",
    "ROOT.SetOwnership(parResCondMean, False)\n",
    "\n",
    "parResCond_a_1 = RooRealVar('parResCond_a_1', 'parResCond_a_1', 0.000957,0.000957,0.000957)\n",
    "ROOT.SetOwnership(parResCond_a_1, False)\n",
    "parResCond_b_1 = RooRealVar('parResCond_b_1', 'parResCond_b_1', 0.00003, 0.000001, 0.0005)\n",
    "ROOT.SetOwnership(parResCond_b_1, False)\n",
    "\n",
    "\n",
    "parResCond_a_2 = RooRealVar('parResCond_a_2', 'parResCond_a_2',0.00136,0.00136,0.00136)\n",
    "ROOT.SetOwnership(parResCond_a_2, False)\n",
    "parResCond_b_2 = RooRealVar('parResCond_b_2', 'parResCond_b_2',0.00005, 0.000003, 0.0008)\n",
    "ROOT.SetOwnership(parResCond_b_2, False)\n",
    "\n",
    "\n",
    "parResCond_a_3 = RooRealVar('parResCond_a_3', 'parResCond_a_3', 0,0,0)\n",
    "ROOT.SetOwnership(parResCond_a_3, False)\n",
    "parResCond_b_3 = RooRealVar('parResCond_b_3', 'parResCond_b_3', 0.001, 0.0004,0.002)\n",
    "ROOT.SetOwnership(parResCond_b_3, False)\n",
    "\n",
    "\n",
    " \n",
    "\n",
    "\n",
    "#Definition and calculation of sigma's, related linearly on the decaytime error from the ntuple \n",
    "parResCondSigma_1 = RooFormulaVar('parResCondSigma_1', '@0*@1+@2', RooArgList(parResCond_a_1, obsTimeErr, parResCond_b_1))\n",
    "ROOT.SetOwnership(parResCondSigma_1, False)\n",
    "\n",
    "parResCondSigma_2 = RooFormulaVar('parResCondSigma_2', '@0*@1+@2', RooArgList(parResCond_a_2, obsTimeErr, parResCond_b_2))\n",
    "ROOT.SetOwnership(parResCondSigma_2, False)\n",
    "\n",
    "parResCondSigma_3 = RooFormulaVar('parResCondSigma_3', '@0*@1+@2', RooArgList(parResCond_a_3, obsTimeErr, parResCond_b_3))\n",
    "ROOT.SetOwnership(parResCondSigma_3, False)\n",
    " \n",
    "\n",
    "#Fractions of particular PDF's  \n",
    "parResCondFrac_1 = RooRealVar('parResCondFrac_1', 'parResCondFrac_1', 0.45, 0,1)\n",
    "ROOT.SetOwnership(parResCondFrac_1, False)\n",
    "parResCondFrac_2 = RooRealVar('parResCondFrac_2', 'parResCondFrac_2', 0.35, 0.0, 1)\n",
    "ROOT.SetOwnership(parResCondFrac_2, False)\n",
    " \n",
    "\n",
    "\n",
    "#Defition of the four Gaussians     \n",
    "pdfGaussianCond_1 = RooGaussian('pdfGaussianCond_1', 'pdfGaussianCond_1', obsTimeRes, parResCondMean, parResCondSigma_1)\n",
    "ROOT.SetOwnership(pdfGaussianCond_1, False)\n",
    "    \n",
    "pdfGaussianCond_2 = RooGaussian('pdfGaussianCond_2', 'pdfGaussianCond_2', obsTimeRes, parResCondMean, parResCondSigma_2)\n",
    "ROOT.SetOwnership(pdfGaussianCond_2, False)\n",
    "    \n",
    "pdfGaussianCond_3 = RooGaussian('pdfGaussianCond_3', 'pdfGaussianCond_3', obsTimeRes, parResCondMean, parResCondSigma_3)\n",
    "ROOT.SetOwnership(pdfGaussianCond_3, False)\n",
    " \n",
    "\n",
    "# including four components -> 4 Gaussians\n",
    "pdfGaussianCond_sum = RooAddPdf('pdfGaussianCond_sum', 'pdfGaussianCond_sum', RooArgList(pdfGaussianCond_1, pdfGaussianCond_2, pdfGaussianCond_3,  ), RooArgList(parResCondFrac_1,parResCondFrac_2))\n",
    "ROOT.SetOwnership(pdfGaussianCond_sum, False)\n",
    "\n",
    "\n",
    "data_model_cond = pdfGaussianCond_sum\n",
    "data_model_cond.Print('t')"
   ]
  },
  {
   "cell_type": "code",
   "execution_count": 14,
   "metadata": {
    "collapsed": false
   },
   "outputs": [
    {
     "name": "stdout",
     "output_type": "stream",
     "text": [
      "INFO: configfile... /home/chasenberg/plots/resolution/results/params_cond_init.txt does not exist\n",
      "INFO: Fit converged\n",
      "INFO: Fit complete\n"
     ]
    }
   ],
   "source": [
    "results_dir = '/home/chasenberg/plots/resolution/results/'\n",
    "\n",
    "parameters_file_name  = 'params_cond.txt'\n",
    "parameters_init_name  = parameters_file_name.replace('.txt', '_init.txt')\n",
    "parameters_final_name = parameters_file_name.replace('.txt', '_final.txt')\n",
    "\n",
    "if os.path.exists(os.path.join(results_dir, parameters_init_name)):\n",
    "    print('INFO: Reading parameters from configfile '  + os.path.join(results_dir, parameters_init_name), flush=True)\n",
    "    data_model_cond.getParameters(data).readFromFile(os.path.join(results_dir, parameters_init_name))\n",
    "else:\n",
    "    print('INFO: configfile... '  + os.path.join(results_dir, parameters_init_name) + ' does not exist', flush=True)\n",
    "    \n",
    "cond_argset = RooArgSet(obsTimeErr)    \n",
    "\n",
    "\n",
    "fit_result = data_model_cond.fitTo(dataset, \n",
    "                                    RooFit.NumCPU(6),\n",
    "                                    RooFit.Minimizer('Minuit','minimize'),\n",
    "                                    RooFit.Hesse(True),\n",
    "                                    RooFit.Save(True),\n",
    "                                    RooFit.ConditionalObservables(cond_argset)) \n",
    "\n",
    "if fit_result:\n",
    "    fit_result.Print('v')\n",
    "    fit_result.correlationMatrix().Print('v')\n",
    "    if fit_result.status()==0:\n",
    "        print('INFO: Fit converged')\n",
    "    else:\n",
    "        print('INFO: Status '+str(fit_result.status()))\n",
    "    print('INFO: Fit complete', flush=True)\n",
    "else:\n",
    "    print('ERROR: There is no fitresult', flush=True)\n",
    " \n",
    "final_params_file = os.path.join(results_dir, parameters_final_name)\n",
    "data_model_cond.getParameters(dataset).writeToFile(final_params_file)"
   ]
  },
  {
   "cell_type": "code",
   "execution_count": 15,
   "metadata": {
    "collapsed": false
   },
   "outputs": [
    {
     "name": "stdout",
     "output_type": "stream",
     "text": [
      "1.3054726988315224e-07\n"
     ]
    }
   ],
   "source": [
    "print(parResCondMean.getVal())"
   ]
  },
  {
   "cell_type": "code",
   "execution_count": 16,
   "metadata": {
    "collapsed": false
   },
   "outputs": [
    {
     "name": "stdout",
     "output_type": "stream",
     "text": [
      "0.6925733320832279\n",
      "0.2952594136463226\n"
     ]
    },
    {
     "data": {
      "text/plain": [
       "(None, None)"
      ]
     },
     "execution_count": 16,
     "metadata": {},
     "output_type": "execute_result"
    }
   ],
   "source": [
    "print(parResCondFrac_1.getVal()),print(parResCondFrac_2.getVal()) "
   ]
  },
  {
   "cell_type": "code",
   "execution_count": 17,
   "metadata": {
    "collapsed": false
   },
   "outputs": [
    {
     "name": "stdout",
     "output_type": "stream",
     "text": [
      "0.000957\n",
      "0.00136\n",
      "0.0\n"
     ]
    },
    {
     "data": {
      "text/plain": [
       "(None, None, None)"
      ]
     },
     "execution_count": 17,
     "metadata": {},
     "output_type": "execute_result"
    }
   ],
   "source": [
    "print(parResCond_a_1.getVal()),print(parResCond_a_2.getVal()),print(parResCond_a_3.getVal()) "
   ]
  },
  {
   "cell_type": "code",
   "execution_count": 18,
   "metadata": {
    "collapsed": false
   },
   "outputs": [
    {
     "name": "stdout",
     "output_type": "stream",
     "text": [
      "3.410874332596374e-05\n",
      "7.382772582827384e-05\n",
      "0.0004775346637790601\n"
     ]
    },
    {
     "data": {
      "text/plain": [
       "(None, None, None)"
      ]
     },
     "execution_count": 18,
     "metadata": {},
     "output_type": "execute_result"
    }
   ],
   "source": [
    "print(parResCond_b_1.getVal()),print(parResCond_b_2.getVal()),print(parResCond_b_3.getVal()) "
   ]
  },
  {
   "cell_type": "code",
   "execution_count": 19,
   "metadata": {
    "collapsed": true
   },
   "outputs": [],
   "source": [
    "from ROOT import TColor\n",
    "from ROOT import RooAbsReal\n",
    "from ROOT import TGraph, RooList, RooCurve\n",
    "from root_utils.lhcb_style import set_lhcb_style # Set basic LHCb plot style\n",
    "set_lhcb_style() \n",
    "\n",
    "obsTimeRes.setRange('small_range', -0.001,0.001,)\n",
    "range_name = 'small_range'\n",
    "\n",
    "def plot_like_a_pro(n_steps, n_bins, range_name, plot_var, data_model, data_set):\n",
    "    \n",
    "    min_res   = plot_var.getBinning(range_name).binLow(1)\n",
    "    max_res   = plot_var.getBinning(range_name).binHigh(n_bins-1)\n",
    "    increment = (max_res - min_res)/n_steps\n",
    "    width     = (max_res - min_res)/n_bins\n",
    "    \n",
    "    canvas = TCanvas('canvas', 'canvas', 1000, 600)\n",
    "    frame = plot_var.frame(min_res, max_res)\n",
    "    data_set.plotOn(frame, ROOT.RooFit.Name('data'))\n",
    "    \n",
    "    int_set = RooArgSet('int_set')\n",
    "    int_set.Print('v')\n",
    "\n",
    "    norm_set = RooArgSet(data_model.getObservables(data_set))\n",
    "    norm_set.remove(obsTimeErr, True, True)\n",
    "    norm_set.Print('v')\n",
    "   \n",
    "    RooAbsReal.defaultIntegratorConfig().setEpsAbs(1e-3)\n",
    "    RooAbsReal.defaultIntegratorConfig().setEpsRel(1e-3)\n",
    "    \n",
    "    integral_gauss_1 = pdfGaussianCond_1.createIntegral(int_set, RooFit.NormSet(norm_set), RooFit.Range(range_name))\n",
    "    integral_gauss_2   = pdfGaussianCond_2.createIntegral(int_set, RooFit.NormSet(norm_set), RooFit.Range(range_name))\n",
    "    integral_gauss_3    = pdfGaussianCond_3.createIntegral(int_set, RooFit.NormSet(norm_set), RooFit.Range(range_name))\n",
    "    #integral_gauss_4    = pdfGaussianCond_4.createIntegral(int_set, RooFit.NormSet(norm_set), RooFit.Range(range_name))\n",
    "    \n",
    "    value_gauss_1 = 0\n",
    "    value_gauss_2 = 0\n",
    "    value_gauss_3 = 0\n",
    "    value_gauss_4 = 0\n",
    "    obs_value = min_res+0.5*increment\n",
    "    \n",
    "    x_vals = np.zeros(n_steps)\n",
    "    y_vals = np.zeros(n_steps)\n",
    "    y_vals_gauss_1 = np.zeros(n_steps)\n",
    "    y_vals_gauss_2 = np.zeros(n_steps)\n",
    "    y_vals_gauss_3 = np.zeros(n_steps)\n",
    "    #y_vals_gauss_4 = np.zeros(n_steps)\n",
    "    \n",
    "    entriesintree = data_set.numEntries()\n",
    "    \n",
    "    for i in range(0,n_steps):\n",
    "        #print('step: ' + str(i))\n",
    "        plot_var.setVal(obs_value)\n",
    "        value_gauss_1 = 0\n",
    "        value_gauss_2 = 0\n",
    "        value_gauss_3 = 0\n",
    "        value_gauss_4 = 0\n",
    "        for j in range(0,entriesintree):\n",
    "            argset = data_set.get(j)\n",
    "            obsTimeErr.setVal(argset.getRealValue('obsTimeErr'))\n",
    "            value_gauss_1  += integral_gauss_1.getVal() * width * parResCondFrac_1.getVal()\n",
    "            value_gauss_2  += integral_gauss_2.getVal() * width * parResCondFrac_2.getVal()\n",
    "            value_gauss_3  += integral_gauss_3.getVal() * width * ( 1-parResCondFrac_1.getVal()-parResCondFrac_2.getVal())\n",
    "            #value_gauss_4  += integral_gauss_4.getVal() * width * (1. - parResCondFrac_1.getVal() - parResCondFrac_2.getVal() - parResCondFrac_3.getVal())  \n",
    "           \n",
    "        x_vals[i] = obs_value\n",
    "        y_vals[i] = value_gauss_1 + value_gauss_2 +value_gauss_3\n",
    "        y_vals_gauss_1[i] = value_gauss_1\n",
    "        y_vals_gauss_2[i] = value_gauss_2\n",
    "        y_vals_gauss_3[i] = value_gauss_3\n",
    "        #y_vals_gauss_4[i] = value_gauss_4\n",
    "        obs_value += increment\n",
    "        \n",
    "    graph        = ROOT.TGraph(len(x_vals), x_vals, y_vals)\n",
    "    graph_one = ROOT.TGraph(len(x_vals), x_vals, y_vals_gauss_1)\n",
    "    graph_two   = ROOT.TGraph(len(x_vals), x_vals, y_vals_gauss_2)\n",
    "    graph_three    = ROOT.TGraph(len(x_vals), x_vals, y_vals_gauss_3)\n",
    "    #graph_four    = ROOT.TGraph(len(x_vals), x_vals, y_vals_gauss_4)\n",
    "\n",
    "    one_list = ROOT.RooList()\n",
    "    one_list.Add(graph_one)\n",
    "    one_curve = ROOT.RooCurve()\n",
    "    one_curve.Merge(one_list)\n",
    "    one_curve.SetLineStyle(2)\n",
    "    one_curve.SetLineColor(kRed)\n",
    "    frame.addPlotable(one_curve, 'same')\n",
    "\n",
    "    two_list = ROOT.RooList()\n",
    "    two_list.Add(graph_two)\n",
    "    two_curve = ROOT.RooCurve()\n",
    "    two_curve.Merge(two_list)\n",
    "    two_curve.SetLineStyle(3)\n",
    "    two_curve.SetLineColor(kBlue)\n",
    "    frame.addPlotable(two_curve, 'same')\n",
    "\n",
    "    three_list = ROOT.RooList()\n",
    "    three_list.Add(graph_three)\n",
    "    three_curve = ROOT.RooCurve()\n",
    "    three_curve.Merge(three_list)\n",
    "    three_curve.SetLineStyle(8)\n",
    "    three_curve.SetLineColor(kGreen)\n",
    "    frame.addPlotable(three_curve, 'same')\n",
    "    '''\n",
    "    four_list = ROOT.RooList()\n",
    "    four_list.Add(graph_four)\n",
    "    four_curve = ROOT.RooCurve()\n",
    "    four_curve.Merge(four_list)\n",
    "    four_curve.SetLineStyle(8)\n",
    "    four_curve.SetLineColor(96)\n",
    "    frame.addPlotable(four_curve, 'same')'''\n",
    "    \n",
    "    curve_list = ROOT.RooList()\n",
    "    curve_list.Add(graph)\n",
    "    curve = ROOT.RooCurve()\n",
    "    curve.Merge(curve_list)\n",
    "    curve.SetLineColor(1)\n",
    "    frame.addPlotable(curve, 'same')\n",
    "\n",
    "    #frame.SetMinimum(0)\n",
    "    #frame.SetMaximum(20)\n",
    "\n",
    "    # Plot pulls\n",
    "    legend = ROOT.TLegend(0.7, 0.7, 0.80, 0.85)\n",
    "    legend.AddEntry(frame.findObject('data'), 'MC', 'p')\n",
    "    subdir = '/home/chasenberg/plots/resolution/'\n",
    "    plotname = 'plot_'+ range_name\n",
    "    can, _ = plot_pulls(plotname, frame , save_path= subdir , logy=True) \n",
    "    print('INFO: Finish plotting', flush=True)  \n",
    "    return(can)    "
   ]
  },
  {
   "cell_type": "code",
   "execution_count": 25,
   "metadata": {
    "collapsed": false
   },
   "outputs": [
    {
     "name": "stdout",
     "output_type": "stream",
     "text": [
      "INFO: Finish plotting\n"
     ]
    },
    {
     "name": "stderr",
     "output_type": "stream",
     "text": [
      "TCanvas::Constructor:0: RuntimeWarning: Deleting canvas with same name: can\n"
     ]
    },
    {
     "data": {
      "image/png": "[encoded data removed]",
      "text/plain": [
       "<ROOT.TCanvas object (\"can\") at 0xeb180a0>"
      ]
     },
     "execution_count": 25,
     "metadata": {},
     "output_type": "execute_result"
    }
   ],
   "source": [
    "plot_like_a_pro(200, 100, range_name, obsTimeRes, data_model_cond, dataset)"
   ]
  },
  {
   "cell_type": "code",
   "execution_count": 21,
   "metadata": {
    "collapsed": true
   },
   "outputs": [],
   "source": [
    "y_narrow = {}\n",
    "y_wide   = {}\n",
    "y_frac   = {}"
   ]
  },
  {
   "cell_type": "code",
   "execution_count": 22,
   "metadata": {
    "collapsed": false
   },
   "outputs": [],
   "source": [
    "import collections\n",
    "\n",
    "iter = data_model_cond.getParameters(dataset).createIterator()\n",
    "var = iter.Next()\n",
    "while var:\n",
    "    #print(var.GetName())\n",
    "    if 'Sigma_wide' in var.GetName():\n",
    "        #print('Save value and error of {} to list'.format(var.GetName()), flush=True)\n",
    "        y_wide[var.GetName().strip( 'parResSigma_2' )] = [var.getValV(),var.getError()]\n",
    "    if 'Sigma_narrow' in var.GetName():\n",
    "        #print('Save value and error of {} to list'.format(var.GetName()), flush=True)\n",
    "        y_narrow[var.GetName().strip( 'parResSigma_1' )] = [var.getValV(),var.getError()] \n",
    "    if 'parResFrac_wide' in var.GetName():\n",
    "        #print('Save value and error of {} to list'.format(var.GetName()), flush=True)\n",
    "        y_frac[var.GetName().strip( 'parResFrac_2' )] = [var.getValV(),var.getError()]      \n",
    "    var=iter.Next()\n",
    "    \n",
    "def get_key(key):\n",
    "    try:\n",
    "        return int(key)\n",
    "    except ValueError:\n",
    "        return key\n",
    "    \n",
    "y_narrow_od = collections.OrderedDict(sorted(y_narrow.items(), key=lambda t: get_key(t[0])))\n",
    "y_wide_od = collections.OrderedDict(sorted(y_wide.items(), key=lambda t: get_key(t[0])))\n",
    "y_frac_od = collections.OrderedDict(sorted(y_frac.items(), key=lambda t: get_key(t[0])))\n",
    "    \n",
    "#y_narrow_od = collections.OrderedDict(sorted(y_narrow.items()))    \n",
    "#y_wide_od = collections.OrderedDict(sorted(y_wide.items()))   "
   ]
  },
  {
   "cell_type": "code",
   "execution_count": 23,
   "metadata": {
    "collapsed": true
   },
   "outputs": [],
   "source": [
    "y_values_narrow, y_errors_narrow = [v[0] for v in y_narrow_od.values()], [v[1] for v in y_narrow_od.values()]\n",
    "y_values_wide, y_errors_wide = [v[0] for v in y_wide_od.values()], [v[1] for v in y_wide_od.values()]\n",
    "y_values_frac, y_errors_frac = [v[0] for v in y_frac_od.values()], [v[1] for v in y_frac_od.values()]"
   ]
  },
  {
   "cell_type": "code",
   "execution_count": 24,
   "metadata": {
    "collapsed": false
   },
   "outputs": [
    {
     "ename": "NameError",
     "evalue": "name 'x_values' is not defined",
     "output_type": "error",
     "traceback": [
      "\u001b[1;31m---------------------------------------------------------------------------\u001b[0m",
      "\u001b[1;31mNameError\u001b[0m                                 Traceback (most recent call last)",
      "\u001b[1;32m<ipython-input-24-a86033b3237d>\u001b[0m in \u001b[0;36m<module>\u001b[1;34m()\u001b[0m\n\u001b[1;32m----> 1\u001b[1;33m \u001b[0mplt\u001b[0m\u001b[1;33m.\u001b[0m\u001b[0merrorbar\u001b[0m\u001b[1;33m(\u001b[0m\u001b[0mx_values\u001b[0m\u001b[1;33m,\u001b[0m \u001b[0my_values_narrow\u001b[0m\u001b[1;33m,\u001b[0m \u001b[0mxerr\u001b[0m\u001b[1;33m=\u001b[0m\u001b[1;36m0\u001b[0m\u001b[1;33m,\u001b[0m \u001b[0myerr\u001b[0m\u001b[1;33m=\u001b[0m\u001b[0my_errors_narrow\u001b[0m\u001b[1;33m,\u001b[0m \u001b[0mmarker\u001b[0m\u001b[1;33m=\u001b[0m\u001b[1;34m'o'\u001b[0m\u001b[1;33m,\u001b[0m \u001b[0mcolor\u001b[0m\u001b[1;33m=\u001b[0m\u001b[1;34m'r'\u001b[0m\u001b[1;33m,\u001b[0m \u001b[0mls\u001b[0m\u001b[1;33m=\u001b[0m\u001b[1;34m''\u001b[0m\u001b[1;33m)\u001b[0m\u001b[1;33m\u001b[0m\u001b[0m\n\u001b[0m",
      "\u001b[1;31mNameError\u001b[0m: name 'x_values' is not defined"
     ]
    }
   ],
   "source": [
    "plt.errorbar(x_values, y_values_narrow, xerr=0, yerr=y_errors_narrow, marker='o', color='r', ls='')"
   ]
  },
  {
   "cell_type": "code",
   "execution_count": null,
   "metadata": {
    "collapsed": true
   },
   "outputs": [],
   "source": [
    "plt.errorbar(x_values, y_values_wide, xerr=0, yerr=y_errors_wide, marker='o', color='r', ls='')"
   ]
  },
  {
   "cell_type": "markdown",
   "metadata": {},
   "source": [
    "### Narrow Gaussian"
   ]
  },
  {
   "cell_type": "code",
   "execution_count": null,
   "metadata": {
    "collapsed": true
   },
   "outputs": [],
   "source": [
    "from scipy.optimize import curve_fit\n",
    "\n",
    "def line(x, a, b):\n",
    "    return a * x + b\n",
    "\n",
    "def parabel(x, a, b, c):\n",
    "    return c * x * x + a * x + b"
   ]
  },
  {
   "cell_type": "code",
   "execution_count": null,
   "metadata": {
    "collapsed": true
   },
   "outputs": [],
   "source": [
    "popt, pcov = curve_fit(line, x_values, y_values_narrow, sigma=y_errors_narrow)"
   ]
  },
  {
   "cell_type": "code",
   "execution_count": null,
   "metadata": {
    "collapsed": true
   },
   "outputs": [],
   "source": [
    "print(\"a =\", popt[0], \"+/-\", pcov[0,0]**0.5)\n",
    "print(\"b =\", popt[1], \"+/-\", pcov[1,1]**0.5)"
   ]
  },
  {
   "cell_type": "code",
   "execution_count": null,
   "metadata": {
    "collapsed": true
   },
   "outputs": [],
   "source": [
    "plt.errorbar(x_values, y_values_narrow, xerr=0, yerr=y_errors_narrow, marker='o', color='r', ls='')\n",
    "xfine = np.linspace(0., 0.1, 20)  # define values to plot the function for\n",
    "fig = plt.plot(xfine, line(xfine, popt[0], popt[1]), 'r-')\n",
    "plt.xlabel('decay time error [ps]')\n",
    "plt.ylabel('decay time resolution [ps]')\n",
    "#plt.show()\n",
    "plt.savefig(subdir + '/plots/narrow_gaussian.pdf')"
   ]
  },
  {
   "cell_type": "markdown",
   "metadata": {},
   "source": [
    "### Wide Gaussian"
   ]
  },
  {
   "cell_type": "code",
   "execution_count": null,
   "metadata": {
    "collapsed": true
   },
   "outputs": [],
   "source": [
    "popt, pcov = curve_fit(line, x_values, y_values_wide, sigma=y_errors_wide)"
   ]
  },
  {
   "cell_type": "code",
   "execution_count": null,
   "metadata": {
    "collapsed": true
   },
   "outputs": [],
   "source": [
    "print(\"a =\", popt[0], \"+/-\", pcov[0,0]**0.5)\n",
    "print(\"b =\", popt[1], \"+/-\", pcov[1,1]**0.5)"
   ]
  },
  {
   "cell_type": "code",
   "execution_count": null,
   "metadata": {
    "collapsed": true
   },
   "outputs": [],
   "source": [
    "plt.errorbar(x_values, y_values_wide, xerr=0, yerr=y_errors_wide, marker='o', color='b', ls='')\n",
    "xfine = np.linspace(0., 0.1, 20)  # define values to plot the function for\n",
    "fig = plt.plot(xfine, line(xfine, popt[0], popt[1]), 'b-')\n",
    "plt.xlabel('decay time error [ps]')\n",
    "plt.ylabel('decay time resolution [ps]')\n",
    "#plt.show()\n",
    "plt.savefig(subdir + '/plots/wide_gaussian.pdf')"
   ]
  },
  {
   "cell_type": "code",
   "execution_count": null,
   "metadata": {
    "collapsed": true
   },
   "outputs": [],
   "source": [
    "popt_p, pcov_p = curve_fit(parabel, x_values, y_values_wide, sigma=y_errors_wide)"
   ]
  },
  {
   "cell_type": "code",
   "execution_count": null,
   "metadata": {
    "collapsed": true
   },
   "outputs": [],
   "source": [
    "print(\"a =\", popt_p[0], \"+/-\", pcov_p[0,0]**0.5)\n",
    "print(\"b =\", popt_p[1], \"+/-\", pcov_p[1,1]**0.5)\n",
    "print(\"c =\", popt_p[2], \"+/-\", pcov_p[2,2]**0.5)"
   ]
  },
  {
   "cell_type": "code",
   "execution_count": null,
   "metadata": {
    "collapsed": true
   },
   "outputs": [],
   "source": [
    "plt.errorbar(x_values, y_values_wide, xerr=0, yerr=y_errors_wide, marker='o', color='b', ls='')\n",
    "xfine = np.linspace(0., 0.1, 20)  # define values to plot the function for\n",
    "plt.plot(xfine, parabel(xfine, popt_p[0], popt_p[1], popt_p[2]), 'b-')\n",
    "plt.xlabel('decay time error [ps]')\n",
    "plt.ylabel('decay time resolution [ps]')\n",
    "#plt.show()\n",
    "plt.savefig(subdir + '/plots/wide_gaussian_quadratic.pdf')"
   ]
  }
 ],
 "metadata": {
  "kernelspec": {
   "display_name": "Python 3",
   "language": "python",
   "name": "python3"
  },
  "language_info": {
   "codemirror_mode": {
    "name": "ipython",
    "version": 3
   },
   "file_extension": ".py",
   "mimetype": "text/x-python",
   "name": "python",
   "nbconvert_exporter": "python",
   "pygments_lexer": "ipython3",
   "version": "3.4.4"
  }
 },
 "nbformat": 4,
 "nbformat_minor": 0
}
