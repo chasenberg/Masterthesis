{
 "cells": [
  {
   "cell_type": "code",
   "execution_count": 1,
   "metadata": {
    "collapsed": false
   },
   "outputs": [],
   "source": [
    "import ROOT\n",
    "from ROOT import gROOT, TCanvas, TF1, TFile, TTree, gRandom, TH1F\n",
    "\n",
    "from ROOT import RooRealVar, RooFormulaVar, RooVoigtian, RooChebychev, RooArgList, \\\n",
    "                 RooArgSet, RooAddPdf, RooDataSet, RooCategory, RooSimultaneous, \\\n",
    "                 RooBreitWigner, RooCBShape, RooFFTConvPdf, RooGaussian,RooExponential, \\\n",
    "                 RooBinning, kRed, kBlue, kDotted,TString,RooAbsData, RooPlot, TCut, RooAbsData, RooFit , RooStats,RooAbsReal              "
   ]
  },
  {
   "cell_type": "code",
   "execution_count": 2,
   "metadata": {
    "collapsed": false
   },
   "outputs": [
    {
     "name": "stderr",
     "output_type": "stream",
     "text": [
      "/opt/rh/miniconda/envs/py3root6/lib/python3.4/site-packages/sklearn/cross_validation.py:44: DeprecationWarning: This module was deprecated in version 0.18 in favor of the model_selection module into which all the refactored classes and functions are moved. Also note that the interface of the new CV iterators are different from that of this module. This module will be removed in 0.20.\n",
      "  \"This module will be removed in 0.20.\", DeprecationWarning)\n"
     ]
    }
   ],
   "source": [
    "%matplotlib inline\n",
    "%reload_ext autoreload\n",
    "%autoreload 2\n",
    "\n",
    "import os, sys, time, random\n",
    "\n",
    "from ROOT import TTree, TFile\n",
    "\n",
    "# from root_numpy import root2array, rec2array, array2root\n",
    "\n",
    "import pandas as pd\n",
    "import numpy as np\n",
    "import scipy \n",
    "import root_pandas as rp\n",
    "import root_numpy as ry \n",
    "\n",
    "import pandas.core.common as com\n",
    "from pandas.core.index import Index\n",
    "from pandas.tools import plotting\n",
    "from pandas.tools.plotting import scatter_matrix\n",
    "\n",
    "from tqdm import tqdm_notebook\n",
    "\n",
    "import numpy as np\n",
    "import matplotlib as mpl\n",
    "import matplotlib.pyplot as plt\n",
    "from matplotlib.backends.backend_pdf import PdfPages\n",
    "\n",
    "from sklearn import datasets\n",
    "from sklearn.tree import DecisionTreeClassifier\n",
    "from sklearn.ensemble import AdaBoostClassifier, GradientBoostingClassifier\n",
    "from sklearn.cross_validation import train_test_split\n",
    "from sklearn.preprocessing import Imputer, StandardScaler\n",
    "from sklearn.externals import joblib\n",
    "from sklearn.metrics import classification_report, roc_curve, auc, roc_auc_score\n",
    "\n",
    "sys.path.append('/home/chasenberg/repos/')\n",
    "sys.path.append('/home/chasenberg/repos/dopy')\n",
    "from dopy import * \n",
    "from dopy.dolearn.sklearn_utils import plot_roc_curve, plot_classifier_output, plot_correlations\n",
    "from dopy.dolearn.sklearn_utils import plot_feature_importances, plot_classifier_output, classify_unseen_data\n",
    "#from dopy.sklearn_utils import plot_bdt_vars\n",
    "from dopy.doplot.plotting import Plotter, Plot\n",
    "from dopy.doanalysis.df_utils import add_min_max, add_eta "
   ]
  },
  {
   "cell_type": "code",
   "execution_count": 3,
   "metadata": {
    "collapsed": true
   },
   "outputs": [],
   "source": [
    "sys.path.append('/home/chasenberg/repos/root_utils/')\n",
    "from ROOT import TColor\n",
    "import rootnotes  # For displaying TCanvas in notebooks\n",
    "from lhcb_style import set_lhcb_style # Set basic LHCb plot style\n",
    "set_lhcb_style()   \n",
    "from root_utils import plot_pulls"
   ]
  },
  {
   "cell_type": "code",
   "execution_count": 4,
   "metadata": {
    "collapsed": true
   },
   "outputs": [],
   "source": [
    "from ROOT import RooRealVar, RooExponential, RooExtendPdf, RooAddPdf, RooArgList, RooGaussian\n",
    "from ROOT import RooFormulaVar\n",
    "from ROOT import gSystem\n",
    "gSystem.Load('libRooFit.so')\n",
    "gSystem.Load('/home/chasenberg/repos/dopy/dolib/CustomShapes/libKll')\n",
    "from ROOT import RooIpatia2"
   ]
  },
  {
   "cell_type": "code",
   "execution_count": 5,
   "metadata": {
    "collapsed": true
   },
   "outputs": [],
   "source": [
    "\n",
    "mc_path = '/fhgfs/users/chasenberg/mc/2015_2016_merged/jpsimumuks/'\n",
    "mc_file = 'Bd2JpsiKS_selected.root'\n",
    "mc_dir = os.path.join(mc_path, mc_file)"
   ]
  },
  {
   "cell_type": "code",
   "execution_count": 6,
   "metadata": {
    "collapsed": false
   },
   "outputs": [],
   "source": [
    "l0_cut =  '((abs(1115.683-varLambda0MassHypo_ppluspiminus)>17)|piplus_ProbNNp<0.4)&((abs(1115.683-varLambda0MassHypo_pminuspiplus)>17)|(piminus_ProbNNp<0.4))'\n",
    "best_pv_cut = 'idxPV==0'\n",
    " \n",
    "tree_mc = 'Bd2JpsiKS'"
   ]
  },
  {
   "cell_type": "code",
   "execution_count": 7,
   "metadata": {
    "collapsed": false
   },
   "outputs": [],
   "source": [
    "signal_dataframe_wrongPV  = rp.read_root(mc_dir,key=tree_mc,where=best_pv_cut, flatten=False)\n",
    "signal_dataframe_wrongPV  = signal_dataframe_wrongPV.replace([np.inf, -np.inf], np.nan)\n",
    "signal_dataframe_wrongPV  = signal_dataframe_wrongPV.dropna()\n",
    "signal_dataframe_wrongPV  = signal_dataframe_wrongPV.query(l0_cut)"
   ]
  },
  {
   "cell_type": "code",
   "execution_count": 8,
   "metadata": {
    "collapsed": false
   },
   "outputs": [
    {
     "data": {
      "text/plain": [
       "(500423, 52)"
      ]
     },
     "execution_count": 8,
     "metadata": {},
     "output_type": "execute_result"
    }
   ],
   "source": [
    "signal_dataframe_wrongPV.shape"
   ]
  },
  {
   "cell_type": "code",
   "execution_count": 9,
   "metadata": {
    "collapsed": false
   },
   "outputs": [
    {
     "data": {
      "text/plain": [
       "B0_TAGDECISION_OS                           -3.559189e-02\n",
       "B0_TAGOMEGA_OS                               4.510688e-01\n",
       "B0_FitDaughtersConst_M_flat                  5.279890e+03\n",
       "B0_FitDaughtersConst_chi2_flat               6.603886e+00\n",
       "B0_FitDaughtersConst_IPCHI2_flat             1.119191e+01\n",
       "B0_FitDaughtersConst_J_psi_1S_IP_flat        2.301933e-01\n",
       "B0_FitDaughtersConst_KS0_P1_PT_flat          1.451694e+03\n",
       "B0_FitDaughtersConst_KS0_P0_PT_flat          1.453746e+03\n",
       "B0_FitDaughtersConst_KS0_decayLength_flat   -2.375712e+05\n",
       "B0_FitDaughtersConst_KS0_IP_flat             5.889236e-01\n",
       "B0_FitDaughtersConst_KS0_P0_IPCHI2_flat      7.959688e+02\n",
       "B0_FitDaughtersConst_J_psi_1S_IPCHI2_flat    3.006802e+02\n",
       "B0_M                                         5.280009e+03\n",
       "idxPV                                        0.000000e+00\n",
       "piplus_TRACK_Type                            4.439670e+00\n",
       "B0_FitPVConst_status_flat                    0.000000e+00\n",
       "B0_FitDaughtersConst_KS0_P1_IPCHI2_flat      7.972832e+02\n",
       "B0_FitDaughtersConst_J_psi_1S_P0_PT_flat     2.993207e+03\n",
       "B0_FitDaughtersConst_J_psi_1S_P1_PT_flat     2.996947e+03\n",
       "B0_FitPVConst_KS0_tau_flat                  -5.662952e+00\n",
       "B0_FitPVConst_KS0_tauErr_flat                3.211912e+01\n",
       "B0_BKGCAT                                    0.000000e+00\n",
       "B0_FitPVConst_IPCHI2_flat                    2.088898e+00\n",
       "B0_FitPVConst_MinIPCHI2anyPV_flat            4.346075e+06\n",
       "B0_TAU                                       1.850807e-03\n",
       "B0_TAUERR                                    3.990449e-05\n",
       "B0_TRUETAU                                   1.799781e-03\n",
       "B0_FitDaughtersConst_status_flat             0.000000e+00\n",
       "pv_z_pull                                   -8.995036e-01\n",
       "piminus_MINIPCHI2                            7.231521e+02\n",
       "piplus_MINIPCHI2                             7.216259e+02\n",
       "muminus_MINIPCHI2                            1.171123e+03\n",
       "muplus_MINIPCHI2                             1.177297e+03\n",
       "piplus_ProbNNp                               7.113984e-02\n",
       "piminus_ProbNNp                              7.145986e-02\n",
       "varLambda0MassHypo_ppluspiminus              1.510592e+03\n",
       "varLambda0MassHypo_pminuspiplus              1.512787e+03\n",
       "eventNumber                                  2.617679e+06\n",
       "runNumber                                    5.839348e+06\n",
       "B0_FitPVConst_chi2_flat                      1.421532e+01\n",
       "B0_FitPVConst_nDOF_flat                      6.000000e+00\n",
       "idxRandom                                    5.374650e+08\n",
       "idxEventNumber                               2.617679e+06\n",
       "idxRunNumber                                 5.839348e+06\n",
       "B0_FitPVConst_tauErr_flat                    4.472179e-05\n",
       "B0_FitPVConst_tau_flat                       1.803968e-03\n",
       "B0_FitDaughtersConst_KS0_min_PT              9.294670e+02\n",
       "test_IP                                      5.363185e+02\n",
       "B0_FitDaughtersConst_J_psi_1S_min_PT         1.897656e+03\n",
       "B0_FitPVConst_KS0_tau_dimless                4.672694e+01\n",
       "BDTresponse                                  3.610924e+00\n",
       "Delta_TAU                                    4.187013e-06\n",
       "dtype: float64"
      ]
     },
     "execution_count": 9,
     "metadata": {},
     "output_type": "execute_result"
    }
   ],
   "source": [
    "signal_dataframe_wrongPV.query('idxPV==0').mean()#,signal_dataframe_wrongPV.query('idxPV==0').max()"
   ]
  },
  {
   "cell_type": "code",
   "execution_count": 10,
   "metadata": {
    "collapsed": false
   },
   "outputs": [],
   "source": [
    "sample = signal_dataframe_wrongPV.sample(122000)"
   ]
  },
  {
   "cell_type": "code",
   "execution_count": 11,
   "metadata": {
    "collapsed": false
   },
   "outputs": [],
   "source": [
    "random_set = 'random_sample.root'\n",
    "sample.to_root(mc_path+random_set,key='Bd2JpsiKS')"
   ]
  },
  {
   "cell_type": "markdown",
   "metadata": {},
   "source": [
    "### Plot Delta_Tau"
   ]
  },
  {
   "cell_type": "code",
   "execution_count": 12,
   "metadata": {
    "collapsed": false
   },
   "outputs": [
    {
     "name": "stdout",
     "output_type": "stream",
     "text": [
      "WARNING: Range for plot B0_FitPVConst_tau_flat has been manually set with range_part_of_selection=False.\n",
      "WARNING: Efficiencies are calculated against the full complete dataset.\n"
     ]
    },
    {
     "data": {
      "image/png": "[encoded data removed]",
      "text/plain": [
       "<matplotlib.figure.Figure at 0x7fd451d79c88>"
      ]
     },
     "metadata": {},
     "output_type": "display_data"
    },
    {
     "name": "stdout",
     "output_type": "stream",
     "text": [
      "WARNING: Range for plot B0_FitPVConst_tauErr_flat has been manually set with range_part_of_selection=False.\n",
      "WARNING: Efficiencies are calculated against the full complete dataset.\n"
     ]
    },
    {
     "data": {
      "image/png": "[encoded data removed]",
      "text/plain": [
       "<matplotlib.figure.Figure at 0x7fd451d27128>"
      ]
     },
     "metadata": {},
     "output_type": "display_data"
    },
    {
     "name": "stdout",
     "output_type": "stream",
     "text": [
      "WARNING: Range for plot Delta_TAU has been manually set with range_part_of_selection=False.\n",
      "WARNING: Efficiencies are calculated against the full complete dataset.\n"
     ]
    },
    {
     "data": {
      "image/png": "[encoded data removed]",
      "text/plain": [
       "<matplotlib.figure.Figure at 0x7fd436d18898>"
      ]
     },
     "metadata": {},
     "output_type": "display_data"
    }
   ],
   "source": [
    "signal_dataframe_wrongPV['Delta_TAU']\n",
    "p = Plotter('/home/chasenberg/plots/selection/')\n",
    "p.create_plots([signal_dataframe_wrongPV,signal_dataframe_wrongPV],['B0_FitPVConst_tau_flat','B0_FitPVConst_tauErr_flat','Delta_TAU'],component_labels=['MC','MCr'])\n",
    "p['B0_FitPVConst_tau_flat'].set_range(-0.0001,0.02)\n",
    "p['B0_FitPVConst_tauErr_flat'].set_range(-0.0002,0.0002)\n",
    "p['Delta_TAU'].set_range(-0.0002,0.0002)\n",
    "#bdt_plot.plot()\n",
    "p.plot()"
   ]
  },
  {
   "cell_type": "code",
   "execution_count": 13,
   "metadata": {
    "collapsed": true
   },
   "outputs": [],
   "source": [
    "#Mass variable\n",
    "#mass = RooRealVar(\"B0_M\", \"B0_M\", 5280, \"MeV\")\n",
    "Delta_TAU = RooRealVar(\"Delta_TAU\", \"Delta_TAU\", 0,-0.01,0.01, \"ps\")\n",
    "idxPV = RooRealVar(\"idxPV\", \"Best PV\", 0.,0., 0., \"\")"
   ]
  },
  {
   "cell_type": "code",
   "execution_count": 14,
   "metadata": {
    "collapsed": false
   },
   "outputs": [
    {
     "data": {
      "text/plain": [
       "634919"
      ]
     },
     "execution_count": 14,
     "metadata": {},
     "output_type": "execute_result"
    }
   ],
   "source": [
    "#criteria and information for read in mc\n",
    "data = ROOT.TFile(mc_dir)\n",
    "tree_data = data.Get('Bd2JpsiKS') \n",
    "tree_data.GetEntries()"
   ]
  },
  {
   "cell_type": "markdown",
   "metadata": {
    "collapsed": true
   },
   "source": [
    "# TripleGaussian"
   ]
  },
  {
   "cell_type": "code",
   "execution_count": 15,
   "metadata": {
    "collapsed": false
   },
   "outputs": [],
   "source": [
    "#criteria and information for read in mc\n",
    "data = ROOT.TFile(mc_path+random_set)\n",
    "tree_data = data.Get('Bd2JpsiKS') \n",
    "tree_data.GetEntries()\n",
    "ntupleVarSet =  RooArgSet(Delta_TAU,idxPV)\n",
    "dataset = RooDataSet('data','data',tree_data,ntupleVarSet)\n",
    "ROOT.SetOwnership(dataset,False)"
   ]
  },
  {
   "cell_type": "markdown",
   "metadata": {},
   "source": [
    "## The model below works somehow"
   ]
  },
  {
   "cell_type": "code",
   "execution_count": 16,
   "metadata": {
    "collapsed": false
   },
   "outputs": [],
   "source": [
    "\n",
    "Delta_TAU = RooRealVar(\"Delta_TAU\", \"Delta_TAU\", 0,-0.001,0.001, \"ps\")\n",
    "\n",
    "idxPV = RooRealVar(\"idxPV\", \"Best PV\", 0.,0., 0., \"\")\n",
    "\n",
    "#Build and add two Gaussians for describing the central distribution\n",
    "mean_1 = RooRealVar(\"mean\", \"mean\", 0,-0.00001,0.00001)\n",
    "#mean_2 = RooRealVar(\"mean_1\", \"mean_1\", -0.00000472)#,-0.00000471,-0.00000475)\n",
    "sigma_1 = RooRealVar(\"sigma_1\", \"sigma_1\", 0.00003, 0.00001, 0.0005)\n",
    "sigma_2 = RooRealVar(\"sigma_2\", \"sigma_2\", 0.00005, 0.00003, 0.0008)\n",
    "sigma_3 = RooRealVar(\"sigma_3\", \"sigma_3\", 0.00007, 0.000005,0.001)\n",
    "sigma_4 = RooRealVar(\"sigma_4\", \"sigma_4\", 0.0009, 0.00008,0.001)\n",
    "\n",
    "\n",
    "signal_1 = RooGaussian(\"signal_1\",\"signal_1\",Delta_TAU,mean_1,sigma_1)\n",
    "signal_2 = RooGaussian(\"signal_2\",\"signal_2\",Delta_TAU,mean_1,sigma_2)\n",
    "signal_3 = RooGaussian(\"signal_3\",\"signal_3\",Delta_TAU,mean_1,sigma_3)\n",
    "signal_4 = RooGaussian(\"signal_4\",\"signal_4\",Delta_TAU,mean_1,sigma_4)\n",
    "\n",
    "\n",
    "  \n",
    "\n",
    "yield_1 = RooRealVar(\"yield_1\", \"yield_1\", 100000, 1,130000)\n",
    "yield_2 = RooRealVar(\"yield_2\", \"yield_2\", 10000, 1,130000)\n",
    "yield_3 = RooRealVar(\"yield_3\", \"yield_3\", 1000, 1,130000)\n",
    "yield_4 = RooRealVar(\"yield_4\", \"yield_4\", 100, 1,130000)\n",
    "\n",
    "sig1frac = RooRealVar(\"sig1frac\",\"fraction of component 2 in signal\",0.9,0,1) \n",
    "sig2frac = RooRealVar(\"sig2frac\",\"fraction of component 1 in signal\",0.5,0,0.8) \n",
    "sig3frac = RooRealVar(\"sig3frac\",\"fraction of component 1 in signal\",0.5,0,0.5) \n",
    "\n",
    "\n",
    "\n",
    "#Build complete PDF\n",
    "sig3frac = RooRealVar(\"sig2frac\",\"fraction of component 3 in signal\",0.1,0.1,0.1) \n",
    "signal = RooAddPdf(\"QuadGaussian\",\"QuadGaussian\",RooArgList(signal_1,signal_2,signal_3,signal_4),RooArgList(yield_1,yield_2,yield_3,yield_4))\n",
    "\n",
    "\n",
    "\n",
    "ROOT.SetOwnership(Delta_TAU,False)\n",
    "ROOT.SetOwnership(idxPV,False)\n",
    "ROOT.SetOwnership(mean_1,False)\n",
    "ROOT.SetOwnership(sigma_1,False)\n",
    "ROOT.SetOwnership(sigma_2,False)\n",
    "ROOT.SetOwnership(sigma_3,False)\n",
    "ROOT.SetOwnership(sigma_4,False)\n",
    "ROOT.SetOwnership(signal_1,False)\n",
    "ROOT.SetOwnership(signal_2,False)\n",
    "ROOT.SetOwnership(signal_3,False)\n",
    "ROOT.SetOwnership(signal_4,False)\n",
    "ROOT.SetOwnership(sig2frac,False)\n",
    "ROOT.SetOwnership(sig3frac,False)\n",
    "ROOT.SetOwnership(sig1frac,False)\n",
    "ROOT.SetOwnership(signal,False)\n",
    "ROOT.SetOwnership(yield_1,False)\n",
    "ROOT.SetOwnership(yield_2,False)\n",
    "ROOT.SetOwnership(yield_3,False)\n",
    "ROOT.SetOwnership(yield_4,False)\n",
    "\n",
    "\n",
    "\n"
   ]
  },
  {
   "cell_type": "code",
   "execution_count": 17,
   "metadata": {
    "collapsed": false
   },
   "outputs": [
    {
     "data": {
      "text/plain": [
       "<ROOT.RooFitResult object (\"fitresult_QuadGaussian_data\") at 0xf889fb0>"
      ]
     },
     "execution_count": 17,
     "metadata": {},
     "output_type": "execute_result"
    }
   ],
   "source": [
    "signal.fitTo(dataset, RooFit.NumCPU(6),\n",
    "            RooFit.Minimizer('Minuit','minimize'),\n",
    "            RooFit.Hesse(True),\n",
    "            RooFit.Optimize(0),\n",
    "            RooFit.PrintEvalErrors(0),\n",
    "            RooFit.Save(True),\n",
    "            RooFit.Extended()) "
   ]
  },
  {
   "cell_type": "code",
   "execution_count": 18,
   "metadata": {
    "collapsed": false
   },
   "outputs": [
    {
     "data": {
      "text/plain": [
       "(-5.101164497335977e-08,\n",
       " 2.870734645846593e-05,\n",
       " 0.00010583893071287339,\n",
       " 5.16395132121829e-05,\n",
       " 0.0009999999999736981,\n",
       " 52289.74426928304,\n",
       " 9799.12287979035,\n",
       " 59451.025778651805)"
      ]
     },
     "execution_count": 18,
     "metadata": {},
     "output_type": "execute_result"
    }
   ],
   "source": [
    "mean_1.getVal(),sigma_1.getValV(),sigma_2.getValV(),sigma_3.getValV(),sigma_4.getValV(),yield_1.getValV(),yield_2.getValV(),yield_3.getValV()"
   ]
  },
  {
   "cell_type": "code",
   "execution_count": 19,
   "metadata": {
    "collapsed": false
   },
   "outputs": [
    {
     "data": {
      "image/png": "[encoded data removed]",
      "text/plain": [
       "<ROOT.TCanvas object (\"can\") at 0xcc5e8e0>"
      ]
     },
     "execution_count": 19,
     "metadata": {},
     "output_type": "execute_result"
    }
   ],
   "source": [
    "signal# Prepare frame\n",
    "%matplotlib inline  \n",
    "import ROOT\n",
    "import sys\n",
    "sys.path.append('/home/chasenberg/repos/root_utils/')\n",
    "from ROOT import TColor\n",
    "import rootnotes  # For displaying TCanvas in notebooks\n",
    "from lhcb_style import set_lhcb_style # Set basic LHCb plot style\n",
    "\n",
    "from root_utils import plot_pulls\n",
    "\n",
    "frame = Delta_TAU.frame(ROOT.RooFit.Bins(150))\n",
    "\n",
    "dataset.plotOn(frame, ROOT.RooFit.Name(\"data1\"))\n",
    "\n",
    "#model.plotOn( frame , ROOT.RooFit.Components(\"signal\"), ROOT.RooFit.LineStyle(kDotted), ROOT.RooFit.LineColor(kRed))\n",
    "\n",
    "signal.plotOn( frame , ROOT.RooFit.Components(\"signal_1\"), ROOT.RooFit.LineStyle(kDotted), ROOT.RooFit.LineColor(400))#\n",
    "signal.plotOn( frame , ROOT.RooFit.Components(\"signal_2\"), ROOT.RooFit.LineStyle(kDotted), ROOT.RooFit.LineColor(kBlue))#model.plotOn( frame , ROOT.RooFit.Components(\"signal_2\"), ROOT.RooFit.LineStyle(kDotted), ROOT.RooFit.LineColor(416))\n",
    "\n",
    "signal.plotOn( frame , ROOT.RooFit.Components(\"signal_3\"), ROOT.RooFit.LineStyle(kDotted), ROOT.RooFit.LineColor(400))#\n",
    "#signal.plotOn( frame , ROOT.RooFit.Components(\"signal_4\"), ROOT.RooFit.LineStyle(kDotted), ROOT.RooFit.LineColor(kBlue))#\n",
    "signal.plotOn(frame, ROOT.RooFit.Name(\"fit\"))\n",
    "### Add additional informations to the plot\n",
    "text_size = 0.035\n",
    "# Create TLegend\n",
    "legend = ROOT.TLegend(0.7, 0.75, 0.9, 0.9, '')\n",
    "legend.AddEntry(frame.findObject('data1'), \"Data points\", \"p\");\n",
    "legend.AddEntry(frame.findObject('fit'), 'Fit', 'l')\n",
    "legend.SetTextSize(text_size)\n",
    "\n",
    "# Create TLatex\n",
    "'''latex = ROOT.TLatex(0.19, 0.8, '#splitline{Toy MC example}' + \\\n",
    "                                 '{#it{f}(x) = #frac{1}{#sigma #sqrt{2 #pi}}' + \\\n",
    "                                 ' e^{- 0.5 #left( #frac{x - #mu}{#sigma} #right)^{2}}}')'''\n",
    "#latex.SetTextSize(text_size)\n",
    "\n",
    "# Plot pulls\n",
    "can, _ = plot_pulls('test', frame, legend=legend,logy=True)#, latex=latex)\n",
    "can.SaveAs(\"/home/chasenberg/plots/resolution/average_resolution.pdf\")\n",
    "can  # To display plot in notebooks"
   ]
  },
  {
   "cell_type": "markdown",
   "metadata": {
    "collapsed": true
   },
   "source": [
    "# Sigfracs"
   ]
  },
  {
   "cell_type": "code",
   "execution_count": 20,
   "metadata": {
    "collapsed": true
   },
   "outputs": [],
   "source": [
    "\n",
    "Delta_TAU = RooRealVar(\"Delta_TAU\", \"Delta_TAU\", 0,-0.001,0.001, \"ps\")\n",
    "\n",
    "idxPV = RooRealVar(\"idxPV\", \"Best PV\", 0.,0., 0., \"\")\n",
    "\n",
    "#Build and add two Gaussians for describing the central distribution\n",
    "mean_1 = RooRealVar(\"mean\", \"mean\", 0,-0.00001,0.00001)\n",
    "#mean_2 = RooRealVar(\"mean_1\", \"mean_1\", -0.00000472)#,-0.00000471,-0.00000475)\n",
    "sigma_1 = RooRealVar(\"sigma_1\", \"sigma_1\", 0.00003, 0.00001, 0.0005)\n",
    "sigma_2 = RooRealVar(\"sigma_2\", \"sigma_2\", 0.0001, 0.00005, 0.0009)\n",
    "sigma_3 = RooRealVar(\"sigma_3\", \"sigma_3\", 0.007, 0.0005,0.5)\n",
    "sigma_4 = RooRealVar(\"sigma_4\", \"sigma_4\", 0.0009, 0.00008,0.1)\n",
    "\n",
    "\n",
    "signal_1 = RooGaussian(\"signal_1\",\"signal_1\",Delta_TAU,mean_1,sigma_1)\n",
    "signal_2 = RooGaussian(\"signal_2\",\"signal_2\",Delta_TAU,mean_1,sigma_2)\n",
    "signal_3 = RooGaussian(\"signal_3\",\"signal_3\",Delta_TAU,mean_1,sigma_3)\n",
    "signal_4 = RooGaussian(\"signal_4\",\"signal_4\",Delta_TAU,mean_1,sigma_4)\n",
    "\n",
    "sig1frac = RooRealVar(\"sig1frac\",\"fraction of component 2 in signal\",0.5, 0.01, 0.8) \n",
    "sig2frac = RooRealVar(\"sig2frac\",\"fraction of component 1 in signal\", 0.48, 0.01, 0.5) \n",
    "sig3frac = RooRealVar(\"sig3frac\",\"fraction of component 1 in signal\",0.05, 0.000001, 0.5) \n",
    "\n",
    "#Build complete PDF\n",
    "sig3frac = RooRealVar(\"sig2frac\",\"fraction of component 3 in signal\",0.1,0.1,0.1) \n",
    "signal = RooAddPdf(\"QuadGaussian\",\"QuadGaussian\",RooArgList(signal_1,signal_2,signal_3),RooArgList(sig1frac,sig2frac))\n",
    "\n",
    "\n",
    "ROOT.SetOwnership(Delta_TAU,False)\n",
    "ROOT.SetOwnership(idxPV,False)\n",
    "ROOT.SetOwnership(mean_1,False)\n",
    "ROOT.SetOwnership(sigma_1,False)\n",
    "ROOT.SetOwnership(sigma_2,False)\n",
    "ROOT.SetOwnership(sigma_3,False)\n",
    "ROOT.SetOwnership(sigma_4,False)\n",
    "ROOT.SetOwnership(signal_1,False)\n",
    "ROOT.SetOwnership(signal_2,False)\n",
    "ROOT.SetOwnership(signal_3,False)\n",
    "ROOT.SetOwnership(signal_4,False)\n",
    "ROOT.SetOwnership(sig2frac,False)\n",
    "ROOT.SetOwnership(sig3frac,False)\n",
    "ROOT.SetOwnership(sig1frac,False)\n",
    "ROOT.SetOwnership(signal,False)\n",
    "ROOT.SetOwnership(yield_1,False)\n",
    "ROOT.SetOwnership(yield_2,False)\n",
    "ROOT.SetOwnership(yield_3,False)\n",
    "ROOT.SetOwnership(yield_4,False)"
   ]
  },
  {
   "cell_type": "code",
   "execution_count": 21,
   "metadata": {
    "collapsed": false
   },
   "outputs": [
    {
     "data": {
      "text/plain": [
       "<ROOT.RooFitResult object (\"fitresult_QuadGaussian_data\") at 0xd2c73c0>"
      ]
     },
     "execution_count": 21,
     "metadata": {},
     "output_type": "execute_result"
    }
   ],
   "source": [
    "signal.fitTo(dataset, RooFit.NumCPU(6),\n",
    "            RooFit.Minimizer('Minuit','minimize'),\n",
    "            RooFit.Hesse(True),\n",
    "            RooFit.Optimize(0),\n",
    "            RooFit.PrintEvalErrors(0),\n",
    "            RooFit.Save(True)) "
   ]
  },
  {
   "cell_type": "code",
   "execution_count": 22,
   "metadata": {
    "collapsed": false
   },
   "outputs": [
    {
     "name": "stderr",
     "output_type": "stream",
     "text": [
      "TCanvas::Constructor:0: RuntimeWarning: Deleting canvas with same name: can\n"
     ]
    },
    {
     "data": {
      "image/png": "[encoded data removed]",
      "text/plain": [
       "<ROOT.TCanvas object (\"can\") at 0xd2d1e70>"
      ]
     },
     "execution_count": 22,
     "metadata": {},
     "output_type": "execute_result"
    }
   ],
   "source": [
    "signal# Prepare frame\n",
    "%matplotlib inline  \n",
    "import ROOT\n",
    "import sys\n",
    "sys.path.append('/home/chasenberg/repos/root_utils/')\n",
    "from ROOT import TColor\n",
    "import rootnotes  # For displaying TCanvas in notebooks\n",
    "from lhcb_style import set_lhcb_style # Set basic LHCb plot style\n",
    "\n",
    "from root_utils import plot_pulls\n",
    "\n",
    "frame = Delta_TAU.frame(ROOT.RooFit.Bins(200))\n",
    "\n",
    "dataset.plotOn(frame, ROOT.RooFit.Name(\"data1\"))\n",
    "\n",
    "#model.plotOn( frame , ROOT.RooFit.Components(\"signal\"), ROOT.RooFit.LineStyle(kDotted), ROOT.RooFit.LineColor(kRed))\n",
    "\n",
    "signal.plotOn( frame , ROOT.RooFit.Components(\"signal_1\"), ROOT.RooFit.LineStyle(kDotted), ROOT.RooFit.LineColor(400))#\n",
    "signal.plotOn( frame , ROOT.RooFit.Components(\"signal_2\"), ROOT.RooFit.LineStyle(kDotted), ROOT.RooFit.LineColor(kBlue))#model.plotOn( frame , ROOT.RooFit.Components(\"signal_2\"), ROOT.RooFit.LineStyle(kDotted), ROOT.RooFit.LineColor(416))\n",
    "\n",
    "signal.plotOn( frame , ROOT.RooFit.Components(\"signal_3\"), ROOT.RooFit.LineStyle(kDotted), ROOT.RooFit.LineColor(400))#\n",
    "signal.plotOn( frame , ROOT.RooFit.Components(\"signal_4\"), ROOT.RooFit.LineStyle(kDotted), ROOT.RooFit.LineColor(kBlue))#\n",
    "signal.plotOn(frame, ROOT.RooFit.Name(\"fit\"))\n",
    "### Add additional informations to the plot\n",
    "text_size = 0.035\n",
    "# Create TLegend\n",
    "legend = ROOT.TLegend(0.7, 0.75, 0.9, 0.9, '')\n",
    "legend.AddEntry(frame.findObject('data1'), \"Data points\", \"p\");\n",
    "legend.AddEntry(frame.findObject('fit'), 'Fit', 'l')\n",
    "legend.SetTextSize(text_size)\n",
    "\n",
    "# Create TLatex\n",
    "'''latex = ROOT.TLatex(0.19, 0.8, '#splitline{Toy MC example}' + \\\n",
    "                                 '{#it{f}(x) = #frac{1}{#sigma #sqrt{2 #pi}}' + \\\n",
    "                                 ' e^{- 0.5 #left( #frac{x - #mu}{#sigma} #right)^{2}}}')'''\n",
    "#latex.SetTextSize(text_size)\n",
    "\n",
    "# Plot pulls\n",
    "can, _ = plot_pulls('test', frame, legend=legend,logy=True)#, latex=latex)\n",
    "can.SaveAs(\"/home/chasenberg/plots/resolution/average_resolution.pdf\")\n",
    "can  # To display plot in notebooks"
   ]
  },
  {
   "cell_type": "code",
   "execution_count": null,
   "metadata": {
    "collapsed": true
   },
   "outputs": [],
   "source": []
  },
  {
   "cell_type": "code",
   "execution_count": null,
   "metadata": {
    "collapsed": true
   },
   "outputs": [],
   "source": []
  }
 ],
 "metadata": {
  "kernelspec": {
   "display_name": "Python 3",
   "language": "python",
   "name": "python3"
  },
  "language_info": {
   "codemirror_mode": {
    "name": "ipython",
    "version": 3
   },
   "file_extension": ".py",
   "mimetype": "text/x-python",
   "name": "python",
   "nbconvert_exporter": "python",
   "pygments_lexer": "ipython3",
   "version": "3.4.4"
  }
 },
 "nbformat": 4,
 "nbformat_minor": 0
}
