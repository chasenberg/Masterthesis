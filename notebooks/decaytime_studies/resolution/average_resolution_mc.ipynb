{
 "cells": [
  {
   "cell_type": "code",
   "execution_count": 24,
   "metadata": {
    "collapsed": false
   },
   "outputs": [],
   "source": [
    "import ROOT\n",
    "from ROOT import gROOT, TCanvas, TF1, TFile, TTree, gRandom, TH1F\n",
    "\n",
    "from ROOT import RooRealVar, RooFormulaVar, RooVoigtian, RooChebychev, RooArgList, \\\n",
    "                 RooArgSet, RooAddPdf, RooDataSet, RooCategory, RooSimultaneous, \\\n",
    "                 RooBreitWigner, RooCBShape, RooFFTConvPdf, RooGaussian,RooExponential, \\\n",
    "                 RooBinning, kRed, kBlue, kDotted,TString,RooAbsData, RooPlot, TCut, RooAbsData, RooFit , RooStats,RooAbsReal              "
   ]
  },
  {
   "cell_type": "code",
   "execution_count": 1,
   "metadata": {
    "collapsed": false
   },
   "outputs": [
    {
     "name": "stderr",
     "output_type": "stream",
     "text": [
      "/opt/rh/miniconda/envs/py3root6/lib/python3.4/site-packages/sklearn/cross_validation.py:44: DeprecationWarning: This module was deprecated in version 0.18 in favor of the model_selection module into which all the refactored classes and functions are moved. Also note that the interface of the new CV iterators are different from that of this module. This module will be removed in 0.20.\n",
      "  \"This module will be removed in 0.20.\", DeprecationWarning)\n"
     ]
    }
   ],
   "source": [
    "%matplotlib inline\n",
    "%reload_ext autoreload\n",
    "%autoreload 2\n",
    "\n",
    "import os, sys, time, random\n",
    "\n",
    "from ROOT import TTree, TFile\n",
    "\n",
    "# from root_numpy import root2array, rec2array, array2root\n",
    "\n",
    "import pandas as pd\n",
    "import numpy as np\n",
    "import scipy \n",
    "import root_pandas as rp\n",
    "import root_numpy as ry \n",
    "\n",
    "import pandas.core.common as com\n",
    "from pandas.core.index import Index\n",
    "from pandas.tools import plotting\n",
    "from pandas.tools.plotting import scatter_matrix\n",
    "\n",
    "from tqdm import tqdm_notebook\n",
    "\n",
    "import numpy as np\n",
    "import matplotlib as mpl\n",
    "import matplotlib.pyplot as plt\n",
    "from matplotlib.backends.backend_pdf import PdfPages\n",
    "\n",
    "from sklearn import datasets\n",
    "from sklearn.tree import DecisionTreeClassifier\n",
    "from sklearn.ensemble import AdaBoostClassifier, GradientBoostingClassifier\n",
    "from sklearn.cross_validation import train_test_split\n",
    "from sklearn.preprocessing import Imputer, StandardScaler\n",
    "from sklearn.externals import joblib\n",
    "from sklearn.metrics import classification_report, roc_curve, auc, roc_auc_score\n",
    "\n",
    "sys.path.append('/home/chasenberg/repos/')\n",
    "sys.path.append('/home/chasenberg/repos/dopy')\n",
    "from dopy import * \n",
    "from dopy.dolearn.sklearn_utils import plot_roc_curve, plot_classifier_output, plot_correlations\n",
    "from dopy.dolearn.sklearn_utils import plot_feature_importances, plot_classifier_output, classify_unseen_data\n",
    "#from dopy.sklearn_utils import plot_bdt_vars\n",
    "from dopy.doplot.plotting import Plotter, Plot\n",
    "from dopy.doanalysis.df_utils import add_min_max, add_eta "
   ]
  },
  {
   "cell_type": "code",
   "execution_count": 2,
   "metadata": {
    "collapsed": true
   },
   "outputs": [],
   "source": [
    "sys.path.append('/home/chasenberg/repos/root_utils/')\n",
    "from ROOT import TColor\n",
    "import rootnotes  # For displaying TCanvas in notebooks\n",
    "from lhcb_style import set_lhcb_style # Set basic LHCb plot style\n",
    "set_lhcb_style()   \n",
    "from root_utils import plot_pulls"
   ]
  },
  {
   "cell_type": "code",
   "execution_count": 3,
   "metadata": {
    "collapsed": true
   },
   "outputs": [],
   "source": [
    "from ROOT import RooRealVar, RooExponential, RooExtendPdf, RooAddPdf, RooArgList, RooGaussian\n",
    "from ROOT import RooFormulaVar\n",
    "from ROOT import gSystem\n",
    "gSystem.Load('libRooFit.so')\n",
    "gSystem.Load('/home/chasenberg/repos/dopy/dolib/CustomShapes/libKll')\n",
    "from ROOT import RooIpatia2"
   ]
  },
  {
   "cell_type": "code",
   "execution_count": 4,
   "metadata": {
    "collapsed": true
   },
   "outputs": [],
   "source": [
    "\n",
    "mc_path = '/fhgfs/users/chasenberg/mc/2015_2016_merged/jpsimumuks/'\n",
    "mc_file = 'Bd2JpsiKS_selected.root'\n",
    "mc_dir = os.path.join(mc_path, mc_file)"
   ]
  },
  {
   "cell_type": "code",
   "execution_count": 5,
   "metadata": {
    "collapsed": false
   },
   "outputs": [],
   "source": [
    "l0_cut =  '((abs(1115.683-varLambda0MassHypo_ppluspiminus)>17)|piplus_ProbNNp<0.4)&((abs(1115.683-varLambda0MassHypo_pminuspiplus)>17)|(piminus_ProbNNp<0.4))'\n",
    "best_pv_cut = 'idxPV==0'\n",
    " \n",
    "tree_mc = 'Bd2JpsiKS'"
   ]
  },
  {
   "cell_type": "code",
   "execution_count": 6,
   "metadata": {
    "collapsed": false
   },
   "outputs": [],
   "source": [
    "signal_dataframe_wrongPV  = rp.read_root(mc_dir,key=tree_mc,where=best_pv_cut, flatten=False)\n",
    "signal_dataframe_wrongPV  = signal_dataframe_wrongPV.replace([np.inf, -np.inf], np.nan)\n",
    "signal_dataframe_wrongPV  = signal_dataframe_wrongPV.dropna()\n",
    "signal_dataframe_wrongPV  = signal_dataframe_wrongPV.query(l0_cut)"
   ]
  },
  {
   "cell_type": "code",
   "execution_count": 7,
   "metadata": {
    "collapsed": false
   },
   "outputs": [
    {
     "data": {
      "text/plain": [
       "(500423, 74)"
      ]
     },
     "execution_count": 7,
     "metadata": {},
     "output_type": "execute_result"
    }
   ],
   "source": [
    "signal_dataframe_wrongPV.shape"
   ]
  },
  {
   "cell_type": "code",
   "execution_count": 8,
   "metadata": {
    "collapsed": false
   },
   "outputs": [],
   "source": [
    "sample = signal_dataframe_wrongPV.sample(122000)"
   ]
  },
  {
   "cell_type": "code",
   "execution_count": 9,
   "metadata": {
    "collapsed": false
   },
   "outputs": [],
   "source": [
    "random_set = 'random_sample.root'\n",
    "sample.to_root(mc_path+random_set,key='Bd2JpsiKS')"
   ]
  },
  {
   "cell_type": "markdown",
   "metadata": {},
   "source": [
    "### Plot Delta_Tau"
   ]
  },
  {
   "cell_type": "code",
   "execution_count": 34,
   "metadata": {
    "collapsed": false
   },
   "outputs": [
    {
     "name": "stdout",
     "output_type": "stream",
     "text": [
      "WARNING: Range for plot B0_FitPVConst_tau_flat has been manually set with range_part_of_selection=False.\n",
      "WARNING: Efficiencies are calculated against the full complete dataset.\n"
     ]
    },
    {
     "data": {
      "image/png": "[encoded data removed]",
      "text/plain": [
       "<matplotlib.figure.Figure at 0x7f0d133ffb70>"
      ]
     },
     "metadata": {},
     "output_type": "display_data"
    },
    {
     "name": "stdout",
     "output_type": "stream",
     "text": [
      "WARNING: Range for plot B0_FitPVConst_tauErr_flat has been manually set with range_part_of_selection=False.\n",
      "WARNING: Efficiencies are calculated against the full complete dataset.\n"
     ]
    },
    {
     "data": {
      "image/png": "[encoded data removed]",
      "text/plain": [
       "<matplotlib.figure.Figure at 0x7f0cad22e5c0>"
      ]
     },
     "metadata": {},
     "output_type": "display_data"
    },
    {
     "name": "stdout",
     "output_type": "stream",
     "text": [
      "WARNING: Range for plot Delta_TAU has been manually set with range_part_of_selection=False.\n",
      "WARNING: Efficiencies are calculated against the full complete dataset.\n"
     ]
    },
    {
     "data": {
      "image/png": "[encoded data removed]",
      "text/plain": [
       "<matplotlib.figure.Figure at 0x7f0cad29b630>"
      ]
     },
     "metadata": {},
     "output_type": "display_data"
    }
   ],
   "source": [
    "signal_dataframe_wrongPV['Delta_TAU']\n",
    "p = Plotter('/home/chasenberg/plots/selection/')\n",
    "p.create_plots([signal_dataframe_wrongPV,signal_dataframe_wrongPV],['B0_FitPVConst_tau_flat','B0_FitPVConst_tauErr_flat','Delta_TAU'],component_labels=['MC','MCr'])\n",
    "p['B0_FitPVConst_tau_flat'].set_range(-0.0001,0.02)\n",
    "p['B0_FitPVConst_tauErr_flat'].set_range(-0.0002,0.0002)\n",
    "p['Delta_TAU'].set_range(-0.0002,0.0002)\n",
    "#bdt_plot.plot()\n",
    "p.plot()"
   ]
  },
  {
   "cell_type": "code",
   "execution_count": 35,
   "metadata": {
    "collapsed": true
   },
   "outputs": [],
   "source": [
    "#Mass variable\n",
    "#mass = RooRealVar(\"B0_M\", \"B0_M\", 5280, \"MeV\")\n",
    "Delta_TAU = RooRealVar(\"Delta_TAU\", \"Delta_TAU\", 0,-0.0005,0.0005, \"ps\")\n",
    "idxPV = RooRealVar(\"idxPV\", \"Best PV\", 0.,0., 0., \"\")"
   ]
  },
  {
   "cell_type": "markdown",
   "metadata": {
    "collapsed": true
   },
   "source": [
    "# TripleGaussian"
   ]
  },
  {
   "cell_type": "code",
   "execution_count": 36,
   "metadata": {
    "collapsed": false
   },
   "outputs": [],
   "source": [
    "#criteria and information for read in mc\n",
    "random_set = 'random_sample.root'\n",
    "data = ROOT.TFile(mc_path+random_set)\n",
    "tree_data = data.Get('Bd2JpsiKS') \n",
    "tree_data.GetEntries()\n",
    "ntupleVarSet =  RooArgSet(Delta_TAU,idxPV)\n",
    "dataset = RooDataSet('data','data',tree_data,ntupleVarSet)\n",
    "ROOT.SetOwnership(dataset,False)"
   ]
  },
  {
   "cell_type": "markdown",
   "metadata": {},
   "source": [
    "## The model below works somehow"
   ]
  },
  {
   "cell_type": "code",
   "execution_count": 37,
   "metadata": {
    "collapsed": false
   },
   "outputs": [],
   "source": [
    "#Build and add two Gaussians for describing the central distribution\n",
    "mean_1 = RooRealVar(\"mean\", \"mean\", 0,-0.00001,0.00001)\n",
    "#mean_2 = RooRealVar(\"mean_1\", \"mean_1\", -0.00000472)#,-0.00000471,-0.00000475)\n",
    "sigma_1 = RooRealVar(\"sigma_1\", \"sigma_1\", 0.00003, 0.00001, 0.0005)\n",
    "sigma_2 = RooRealVar(\"sigma_2\", \"sigma_2\", 0.00005, 0.00003, 0.0008)\n",
    "sigma_3 = RooRealVar(\"sigma_3\", \"sigma_3\", 0.00007, 0.000005,0.001)\n",
    "#sigma_4 = RooRealVar(\"sigma_4\", \"sigma_4\", 0.0009, 0.00008,0.001)\n",
    "\n",
    "\n",
    "signal_1 = RooGaussian(\"signal_1\",\"signal_1\",Delta_TAU,mean_1,sigma_1)\n",
    "signal_2 = RooGaussian(\"signal_2\",\"signal_2\",Delta_TAU,mean_1,sigma_2)\n",
    "signal_3 = RooGaussian(\"signal_3\",\"signal_3\",Delta_TAU,mean_1,sigma_3)\n",
    "#signal_4 = RooGaussian(\"signal_4\",\"signal_4\",Delta_TAU,mean_1,sigma_4)\n",
    "\n",
    "\n",
    "  \n",
    "\n",
    "yield_1 = RooRealVar(\"yield_1\", \"yield_1\", 100000, 1,130000)\n",
    "yield_2 = RooRealVar(\"yield_2\", \"yield_2\", 10000, 1,130000)\n",
    "yield_3 = RooRealVar(\"yield_3\", \"yield_3\", 1000, 1,130000)\n",
    "#yield_4 = RooRealVar(\"yield_4\", \"yield_4\", 100, 1,130000)\n",
    "\n",
    "sig1frac = RooRealVar(\"sig1frac\",\"fraction of component 2 in signal\",0.9,0,1) \n",
    "sig2frac = RooRealVar(\"sig2frac\",\"fraction of component 1 in signal\",0.5,0,0.8) \n",
    "#sig3frac = RooRealVar(\"sig3frac\",\"fraction of component 1 in signal\",0.5,0,0.5) \n",
    "#\n",
    "\n",
    "\n",
    "#Build complete PDF\n",
    "sig3frac = RooRealVar(\"sig2frac\",\"fraction of component 3 in signal\",0.1,0.1,0.1) \n",
    "signal = RooAddPdf(\"QuadGaussian\",\"QuadGaussian\",RooArgList(signal_1,signal_2,signal_3),RooArgList(yield_1,yield_2,yield_3))\n",
    "\n",
    "ROOT.SetOwnership(Delta_TAU,False)\n",
    "ROOT.SetOwnership(idxPV,False)\n",
    "ROOT.SetOwnership(mean_1,False)\n",
    "ROOT.SetOwnership(sigma_1,False)\n",
    "ROOT.SetOwnership(sigma_2,False)\n",
    "ROOT.SetOwnership(sigma_3,False)\n",
    "ROOT.SetOwnership(signal_1,False)\n",
    "ROOT.SetOwnership(signal_2,False)\n",
    "ROOT.SetOwnership(signal_3,False)\n",
    "ROOT.SetOwnership(sig2frac,False)\n",
    "ROOT.SetOwnership(sig3frac,False)\n",
    "ROOT.SetOwnership(sig1frac,False)\n",
    "ROOT.SetOwnership(signal,False)\n",
    "ROOT.SetOwnership(yield_1,False)\n",
    "ROOT.SetOwnership(yield_2,False)\n",
    "ROOT.SetOwnership(yield_3,False)"
   ]
  },
  {
   "cell_type": "code",
   "execution_count": 38,
   "metadata": {
    "collapsed": false
   },
   "outputs": [
    {
     "data": {
      "text/plain": [
       "<ROOT.RooFitResult object (\"fitresult_QuadGaussian_data\") at 0x12d469e0>"
      ]
     },
     "execution_count": 38,
     "metadata": {},
     "output_type": "execute_result"
    }
   ],
   "source": [
    "signal.fitTo(dataset, RooFit.NumCPU(6),\n",
    "            RooFit.Minimizer('Minuit','minimize'),\n",
    "            RooFit.Hesse(True),\n",
    "            RooFit.Optimize(0),\n",
    "            RooFit.PrintEvalErrors(0),\n",
    "            RooFit.Save(True),\n",
    "            RooFit.Extended())"
   ]
  },
  {
   "cell_type": "code",
   "execution_count": 39,
   "metadata": {
    "collapsed": false
   },
   "outputs": [
    {
     "data": {
      "text/plain": [
       "(-4.3813313092815815e-07,\n",
       " 70632.2086433084,\n",
       " 3496.406774582377,\n",
       " 47706.09632095764)"
      ]
     },
     "execution_count": 39,
     "metadata": {},
     "output_type": "execute_result"
    }
   ],
   "source": [
    "mean_1.getVal(),yield_1.getValV(),yield_2.getValV(),yield_3.getValV()"
   ]
  },
  {
   "cell_type": "code",
   "execution_count": 40,
   "metadata": {
    "collapsed": false
   },
   "outputs": [
    {
     "data": {
      "text/plain": [
       "(2.9398228983001965e-05, 0.00014005838726820528, 5.6324376130070894e-05)"
      ]
     },
     "execution_count": 40,
     "metadata": {},
     "output_type": "execute_result"
    }
   ],
   "source": [
    "sigma_1.getValV(),sigma_2.getValV(),sigma_3.getValV() "
   ]
  },
  {
   "cell_type": "code",
   "execution_count": null,
   "metadata": {
    "collapsed": true
   },
   "outputs": [],
   "source": []
  },
  {
   "cell_type": "code",
   "execution_count": 41,
   "metadata": {
    "collapsed": false
   },
   "outputs": [
    {
     "name": "stderr",
     "output_type": "stream",
     "text": [
      "TCanvas::Constructor:0: RuntimeWarning: Deleting canvas with same name: can\n"
     ]
    },
    {
     "data": {
      "image/png": "[encoded data removed]",
      "text/plain": [
       "<ROOT.TCanvas object (\"can\") at 0xabea240>"
      ]
     },
     "execution_count": 41,
     "metadata": {},
     "output_type": "execute_result"
    }
   ],
   "source": [
    "signal# Prepare frame\n",
    "%matplotlib inline  \n",
    "import ROOT\n",
    "import sys\n",
    "sys.path.append('/home/chasenberg/repos/root_utils/')\n",
    "from ROOT import TColor\n",
    "import rootnotes  # For displaying TCanvas in notebooks\n",
    "from lhcb_style import set_lhcb_style # Set basic LHCb plot style\n",
    "\n",
    "from root_utils import plot_pulls\n",
    "\n",
    "frame = Delta_TAU.frame(ROOT.RooFit.Bins(100))\n",
    "\n",
    "dataset.plotOn(frame, ROOT.RooFit.Name(\"data1\"))\n",
    "\n",
    "#model.plotOn( frame , ROOT.RooFit.Components(\"signal\"), ROOT.RooFit.LineStyle(kDotted), ROOT.RooFit.LineColor(kRed))\n",
    "\n",
    "signal.plotOn( frame , ROOT.RooFit.Components(\"signal_1\"), ROOT.RooFit.LineStyle(kDotted), ROOT.RooFit.LineColor(400))#\n",
    "signal.plotOn( frame , ROOT.RooFit.Components(\"signal_2\"), ROOT.RooFit.LineStyle(kDotted), ROOT.RooFit.LineColor(kBlue))#model.plotOn( frame , ROOT.RooFit.Components(\"signal_2\"), ROOT.RooFit.LineStyle(kDotted), ROOT.RooFit.LineColor(416))\n",
    "\n",
    "signal.plotOn( frame , ROOT.RooFit.Components(\"signal_3\"), ROOT.RooFit.LineStyle(kDotted), ROOT.RooFit.LineColor(400))#\n",
    "#signal.plotOn( frame , ROOT.RooFit.Components(\"signal_4\"), ROOT.RooFit.LineStyle(kDotted), ROOT.RooFit.LineColor(kBlue))#\n",
    "signal.plotOn(frame, ROOT.RooFit.Name(\"fit\"))\n",
    "### Add additional informations to the plot\n",
    "text_size = 0.035\n",
    "# Create TLegend\n",
    "legend = ROOT.TLegend(0.7, 0.75, 0.9, 0.9, '')\n",
    "legend.AddEntry(frame.findObject('data1'), \"Data points\", \"p\");\n",
    "legend.AddEntry(frame.findObject('fit'), 'Fit', 'l')\n",
    "legend.SetTextSize(text_size)\n",
    " \n",
    "#latex.SetTextSize(text_size)\n",
    "\n",
    "# Plot pulls\n",
    "can, _ = plot_pulls('test', frame, legend=legend,logy=True)#, latex=latex)\n",
    "can.SaveAs(\"/home/chasenberg/plots/resolution/average_resolution.pdf\")\n",
    "can  # To display plot in notebooks"
   ]
  },
  {
   "cell_type": "markdown",
   "metadata": {
    "collapsed": true
   },
   "source": [
    "# Sigfracs"
   ]
  },
  {
   "cell_type": "code",
   "execution_count": 42,
   "metadata": {
    "collapsed": false
   },
   "outputs": [],
   "source": [
    "\n",
    "Delta_TAU = RooRealVar(\"Delta_TAU\", \"Delta_TAU\", 0,-0.001,0.001, \"ps\")\n",
    "\n",
    "idxPV = RooRealVar(\"idxPV\", \"Best PV\", 0.,0., 0., \"\")\n",
    "\n",
    "#Build and add two Gaussians for describing the central distribution\n",
    "mean_1 = RooRealVar(\"mean\", \"mean\", 0,-0.00001,0.00001)\n",
    "#mean_2 = RooRealVar(\"mean_1\", \"mean_1\", -0.00000472)#,-0.00000471,-0.00000475)\n",
    "sigma_1 = RooRealVar(\"sigma_1\", \"sigma_1\", 0.00003, 0.00001, 0.0005)\n",
    "sigma_2 = RooRealVar(\"sigma_2\", \"sigma_2\", 0.0001, 0.00005, 0.0009)\n",
    "sigma_3 = RooRealVar(\"sigma_3\", \"sigma_3\", 0.007, 0.0005,0.5)\n",
    "sigma_4 = RooRealVar(\"sigma_4\", \"sigma_4\", 0.0009, 0.00008,0.1)\n",
    "\n",
    "\n",
    "signal_1 = RooGaussian(\"signal_1\",\"signal_1\",Delta_TAU,mean_1,sigma_1)\n",
    "signal_2 = RooGaussian(\"signal_2\",\"signal_2\",Delta_TAU,mean_1,sigma_2)\n",
    "signal_3 = RooGaussian(\"signal_3\",\"signal_3\",Delta_TAU,mean_1,sigma_3)\n",
    "signal_4 = RooGaussian(\"signal_4\",\"signal_4\",Delta_TAU,mean_1,sigma_4)\n",
    "\n",
    "sig1frac = RooRealVar(\"sig1frac\",\"fraction of component 2 in signal\",0.5, 0.01, 0.8) \n",
    "sig2frac = RooRealVar(\"sig2frac\",\"fraction of component 1 in signal\", 0.48, 0.01, 0.5) \n",
    "sig3frac = RooRealVar(\"sig3frac\",\"fraction of component 1 in signal\",0.05, 0.000001, 0.5) \n",
    "\n",
    "#Build complete PDF\n",
    "sig3frac = RooRealVar(\"sig2frac\",\"fraction of component 3 in signal\",0.1,0.1,0.1) \n",
    "signal = RooAddPdf(\"QuadGaussian\",\"QuadGaussian\",RooArgList(signal_1,signal_2,signal_3),RooArgList(sig1frac,sig2frac))\n",
    "\n",
    "\n",
    "ROOT.SetOwnership(Delta_TAU,False)\n",
    "ROOT.SetOwnership(idxPV,False)\n",
    "ROOT.SetOwnership(mean_1,False)\n",
    "ROOT.SetOwnership(sigma_1,False)\n",
    "ROOT.SetOwnership(sigma_2,False)\n",
    "ROOT.SetOwnership(sigma_3,False)\n",
    "ROOT.SetOwnership(signal_1,False)\n",
    "ROOT.SetOwnership(signal_2,False)\n",
    "ROOT.SetOwnership(signal_3,False)\n",
    "ROOT.SetOwnership(sig2frac,False)\n",
    "ROOT.SetOwnership(sig3frac,False)\n",
    "ROOT.SetOwnership(sig1frac,False)\n",
    "ROOT.SetOwnership(signal,False)\n",
    "ROOT.SetOwnership(yield_1,False)\n",
    "ROOT.SetOwnership(yield_2,False)\n",
    "ROOT.SetOwnership(yield_3,False)\n"
   ]
  },
  {
   "cell_type": "code",
   "execution_count": 43,
   "metadata": {
    "collapsed": false
   },
   "outputs": [
    {
     "ename": "TypeError",
     "evalue": "none of the 2 overloaded methods succeeded. Full details:\n  RooFitResult* RooAbsPdf::fitTo(RooAbsData& data, const RooCmdArg& arg1 = RooCmdArg::none(), const RooCmdArg& arg2 = RooCmdArg::none(), const RooCmdArg& arg3 = RooCmdArg::none(), const RooCmdArg& arg4 = RooCmdArg::none(), const RooCmdArg& arg5 = RooCmdArg::none(), const RooCmdArg& arg6 = RooCmdArg::none(), const RooCmdArg& arg7 = RooCmdArg::none(), const RooCmdArg& arg8 = RooCmdArg::none()) =>\n    problem in C++; program state has been reset\n  RooFitResult* RooAbsPdf::fitTo(RooAbsData& data, const RooLinkedList& cmdList) =>\n    takes at most 2 arguments (7 given)",
     "output_type": "error",
     "traceback": [
      "\u001b[1;31m---------------------------------------------------------------------------\u001b[0m",
      "\u001b[1;31mTypeError\u001b[0m                                 Traceback (most recent call last)",
      "\u001b[1;32m<ipython-input-43-4cb6f8438952>\u001b[0m in \u001b[0;36m<module>\u001b[1;34m()\u001b[0m\n\u001b[0;32m      4\u001b[0m             \u001b[0mRooFit\u001b[0m\u001b[1;33m.\u001b[0m\u001b[0mOptimize\u001b[0m\u001b[1;33m(\u001b[0m\u001b[1;36m0\u001b[0m\u001b[1;33m)\u001b[0m\u001b[1;33m,\u001b[0m\u001b[1;33m\u001b[0m\u001b[0m\n\u001b[0;32m      5\u001b[0m             \u001b[0mRooFit\u001b[0m\u001b[1;33m.\u001b[0m\u001b[0mPrintEvalErrors\u001b[0m\u001b[1;33m(\u001b[0m\u001b[1;36m0\u001b[0m\u001b[1;33m)\u001b[0m\u001b[1;33m,\u001b[0m\u001b[1;33m\u001b[0m\u001b[0m\n\u001b[1;32m----> 6\u001b[1;33m             RooFit.Save(True)) \n\u001b[0m",
      "\u001b[1;31mTypeError\u001b[0m: none of the 2 overloaded methods succeeded. Full details:\n  RooFitResult* RooAbsPdf::fitTo(RooAbsData& data, const RooCmdArg& arg1 = RooCmdArg::none(), const RooCmdArg& arg2 = RooCmdArg::none(), const RooCmdArg& arg3 = RooCmdArg::none(), const RooCmdArg& arg4 = RooCmdArg::none(), const RooCmdArg& arg5 = RooCmdArg::none(), const RooCmdArg& arg6 = RooCmdArg::none(), const RooCmdArg& arg7 = RooCmdArg::none(), const RooCmdArg& arg8 = RooCmdArg::none()) =>\n    problem in C++; program state has been reset\n  RooFitResult* RooAbsPdf::fitTo(RooAbsData& data, const RooLinkedList& cmdList) =>\n    takes at most 2 arguments (7 given)"
     ]
    }
   ],
   "source": [
    "signal.fitTo(dataset, RooFit.NumCPU(6),\n",
    "            RooFit.Minimizer('Minuit','minimize'),\n",
    "            RooFit.Hesse(True),\n",
    "            RooFit.Optimize(0),\n",
    "            RooFit.PrintEvalErrors(0),\n",
    "            RooFit.Save(True)) "
   ]
  },
  {
   "cell_type": "code",
   "execution_count": null,
   "metadata": {
    "collapsed": false
   },
   "outputs": [],
   "source": [
    "signal# Prepare frame\n",
    "%matplotlib inline  \n",
    "import ROOT\n",
    "import sys\n",
    "sys.path.append('/home/chasenberg/repos/root_utils/')\n",
    "from ROOT import TColor\n",
    "import rootnotes  # For displaying TCanvas in notebooks\n",
    "from lhcb_style import set_lhcb_style # Set basic LHCb plot style\n",
    "\n",
    "from root_utils import plot_pulls\n",
    "\n",
    "frame = Delta_TAU.frame(ROOT.RooFit.Bins(180))\n",
    "\n",
    "dataset.plotOn(frame, ROOT.RooFit.Name(\"data1\"))\n",
    "\n",
    "#model.plotOn( frame , ROOT.RooFit.Components(\"signal\"), ROOT.RooFit.LineStyle(kDotted), ROOT.RooFit.LineColor(kRed))\n",
    "\n",
    "signal.plotOn( frame , ROOT.RooFit.Components(\"signal_1\"), ROOT.RooFit.LineStyle(kDotted), ROOT.RooFit.LineColor(400))#\n",
    "signal.plotOn( frame , ROOT.RooFit.Components(\"signal_2\"), ROOT.RooFit.LineStyle(kDotted), ROOT.RooFit.LineColor(kBlue))#model.plotOn( frame , ROOT.RooFit.Components(\"signal_2\"), ROOT.RooFit.LineStyle(kDotted), ROOT.RooFit.LineColor(416))\n",
    "\n",
    "signal.plotOn( frame , ROOT.RooFit.Components(\"signal_3\"), ROOT.RooFit.LineStyle(kDotted), ROOT.RooFit.LineColor(400))#\n",
    "signal.plotOn( frame , ROOT.RooFit.Components(\"signal_4\"), ROOT.RooFit.LineStyle(kDotted), ROOT.RooFit.LineColor(kBlue))#\n",
    "signal.plotOn(frame, ROOT.RooFit.Name(\"fit\"))\n",
    "### Add additional informations to the plot\n",
    "text_size = 0.035\n",
    "# Create TLegend\n",
    "legend = ROOT.TLegend(0.7, 0.75, 0.9, 0.9, '')\n",
    "legend.AddEntry(frame.findObject('data1'), \"Data points\", \"p\");\n",
    "legend.AddEntry(frame.findObject('fit'), 'Fit', 'l')\n",
    "legend.SetTextSize(text_size)\n",
    "\n",
    "# Create TLatex\n",
    "'''latex = ROOT.TLatex(0.19, 0.8, '#splitline{Toy MC example}' + \\\n",
    "                                 '{#it{f}(x) = #frac{1}{#sigma #sqrt{2 #pi}}' + \\\n",
    "                                 ' e^{- 0.5 #left( #frac{x - #mu}{#sigma} #right)^{2}}}')'''\n",
    "#latex.SetTextSize(text_size)\n",
    "\n",
    "# Plot pulls\n",
    "can, _ = plot_pulls('test', frame, legend=legend,logy=True)#, latex=latex)\n",
    "can.SaveAs(\"/home/chasenberg/plots/resolution/average_resolution.pdf\")\n",
    "can  # To display plot in notebooks"
   ]
  },
  {
   "cell_type": "code",
   "execution_count": null,
   "metadata": {
    "collapsed": true
   },
   "outputs": [],
   "source": []
  },
  {
   "cell_type": "code",
   "execution_count": null,
   "metadata": {
    "collapsed": true
   },
   "outputs": [],
   "source": []
  }
 ],
 "metadata": {
  "kernelspec": {
   "display_name": "Python 3",
   "language": "python",
   "name": "python3"
  },
  "language_info": {
   "codemirror_mode": {
    "name": "ipython",
    "version": 3
   },
   "file_extension": ".py",
   "mimetype": "text/x-python",
   "name": "python",
   "nbconvert_exporter": "python",
   "pygments_lexer": "ipython3",
   "version": "3.4.4"
  }
 },
 "nbformat": 4,
 "nbformat_minor": 0
}
