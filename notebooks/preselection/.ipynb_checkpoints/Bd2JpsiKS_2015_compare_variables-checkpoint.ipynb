{
 "cells": [
  {
   "cell_type": "code",
   "execution_count": 3,
   "metadata": {
    "collapsed": true
   },
   "outputs": [],
   "source": [
    "import ROOT\n",
    "from rootpy.tree import Tree, TreeModel, FloatCol, IntCol\n",
    "from rootpy.io import root_open\n",
    "from ROOT import gROOT, TCanvas, TF1, TFile, TTree, gRandom, TH1F\n",
    "\n",
    "from ROOT import RooRealVar, RooFormulaVar, RooVoigtian, RooChebychev, RooArgList, \\\n",
    "                 RooArgSet, RooAddPdf, RooDataSet, RooCategory, RooSimultaneous, \\\n",
    "                 RooBreitWigner, RooCBShape, RooFFTConvPdf, RooGaussian,RooExponential, \\\n",
    "                 RooBinning, kRed, kBlue, kDotted,TString,RooAbsData, RooPlot, TCut, RooAbsData"
   ]
  },
  {
   "cell_type": "code",
   "execution_count": 4,
   "metadata": {
    "collapsed": false
   },
   "outputs": [
    {
     "name": "stderr",
     "output_type": "stream",
     "text": [
      "/opt/rh/miniconda/envs/py3root6/lib/python3.4/site-packages/sklearn/cross_validation.py:44: DeprecationWarning: This module was deprecated in version 0.18 in favor of the model_selection module into which all the refactored classes and functions are moved. Also note that the interface of the new CV iterators are different from that of this module. This module will be removed in 0.20.\n",
      "  \"This module will be removed in 0.20.\", DeprecationWarning)\n"
     ]
    }
   ],
   "source": [
    "# For debugging only\n",
    "%load_ext autoreload\n",
    "%autoreload 2\n",
    "\n",
    "import os\n",
    "import pandas as pd\n",
    "import numpy as np\n",
    "import scipy \n",
    "\n",
    "import sys\n",
    "sys.path.append('/home/chasenberg/repos')\n",
    "\n",
    "\n",
    "import dopy.plotting as dpp\n",
    "import dopy.sklearn_utils as sku\n",
    "\n",
    "\n",
    "import matplotlib.pyplot as plt\n",
    "%matplotlib inline"
   ]
  },
  {
   "cell_type": "code",
   "execution_count": 5,
   "metadata": {
    "collapsed": false
   },
   "outputs": [],
   "source": [
    "import rootnotes\n",
    "import root_pandas as rp#import read_root\n",
    "import root_numpy as ry \n",
    "from scipy.stats import chisquare\n",
    "from root_numpy import root2array, tree2array, tree2array\n",
    "from rootpy.io import root_open\n",
    "import dopy.sklearn_utils as sku\n",
    "import matplotlib.pyplot as plt\n",
    "%matplotlib inline\n",
    "import matplotlib as mpl\n",
    "mpl.rcParams['figure.figsize'] = (5, 3)"
   ]
  },
  {
   "cell_type": "code",
   "execution_count": 6,
   "metadata": {
    "collapsed": false
   },
   "outputs": [],
   "source": [
    "#mc = rp.read_root('/fhgfs/users/chasenberg/mc/dimuon_stripping/Bd2JpsiKS_Dimuon_flattened_cut.root',\"Bd2JpsiKs\",columns=['B0_FitDaughtersConst*'],flatten=True)\n",
    "#mc.to_csv('Bd2JpsiKS_Dimuon_flattened_B0_FitDaughtersConst.csv')\n",
    "#data_sideband = rp.read_root('/fhgfs/users/chasenberg/data/2015/sideband/Bd2JpsiKS_data_2015_flattened_cut_uppersideband.root',\"Bd2JpsiKs\",columns=['B0_FitDaughtersConst*'],flatten=True)\n",
    "#data_sideband.to_csv('Bd2JpsiKS_data_2015_flattened_sideband_B0_FitDaughtersConst.csv')\n",
    "#mc.head(n=5)"
   ]
  },
  {
   "cell_type": "code",
   "execution_count": 7,
   "metadata": {
    "collapsed": false
   },
   "outputs": [],
   "source": [
    "#directories and files \n",
    "data_dir = '/fhgfs/users/chasenberg/data/2015/flattened/'\n",
    "data_file ='Bd2JpsiKS_data_2015_flattened.root'\n",
    "\n",
    "mc_dir = '/fhgfs/users/chasenberg/mc/dimuon_stripping/'\n",
    "mc_file = 'Bd2JpsiKS_Dimuon_flattened.root'\n",
    "\n",
    "data_dir = os.path.join(data_dir, data_file)\n",
    "mc_dir = os.path.join(mc_dir, mc_file)"
   ]
  },
  {
   "cell_type": "code",
   "execution_count": 8,
   "metadata": {
    "collapsed": true
   },
   "outputs": [],
   "source": [
    "#criteria and information for read in data\n",
    "branch_names_data = ['B0_M','B0_FitDaughtersConst*','idxPV','B0_FitPVConst_status']\n",
    "cut_string_data = 'B0_FitDaughtersConst_status==0&B0_FitPVConst_status==0&idxPV==0&B0_FitDaughtersConst_M>5450'\n",
    "tree_data = 'Bd2JpsiKs'"
   ]
  },
  {
   "cell_type": "code",
   "execution_count": null,
   "metadata": {
    "collapsed": true
   },
   "outputs": [],
   "source": [
    "#criteria and information for read in mc\n",
    "branch_names_mc = ['B0_M','B0_FitDaughtersConst*','idxPV','B0_FitPVConst_status','B0_BKGCAT']\n",
    "cut_string_mc = 'B0_FitDaughtersConst_J_psi_1S_PT_flat>=2000&B0_FitDaughtersConst_status==0&B0_FitPVConst_status==0&idxPV==0&B0_FitDaughtersConst_M<5350&B0_FitDaughtersConst_M>5220&B0_BKGCAT==10&B0_L0Global_TOS==1&B0_Hlt1DiMuonLowMassDecision_TOS==1&B0_Hlt2DiMuonJPsiDecision_TOS==1'\n",
    "tree_mc = 'Bd2JpsiK'"
   ]
  },
  {
   "cell_type": "code",
   "execution_count": null,
   "metadata": {
    "collapsed": false
   },
   "outputs": [],
   "source": [
    "#read root files\n",
    "bkg_dataframe = rp.read_root(data_dir,key=tree_data,columns=branch_names_data,where=cut_string_data, flatten=True)\n",
    "bkg_dataframe = bkg_dataframe.replace([np.inf, -np.inf], np.nan)\n",
    "bkg_dataframe = bkg_dataframe.dropna()\n",
    "signal_dataframe = rp.read_root(mc_dir,key=tree_mc,columns=branch_names_mc,where=cut_string_mc, flatten=True)\n",
    "signal_dataframe = signal_dataframe.replace([np.inf, -np.inf], np.nan)\n",
    "signal_dataframe = signal_dataframe.dropna()"
   ]
  },
  {
   "cell_type": "code",
   "execution_count": null,
   "metadata": {
    "collapsed": false,
    "scrolled": true
   },
   "outputs": [],
   "source": [
    "#data_sideband = pd.read_csv('Bd2JpsiKS_data_2015_flattened_sideband_B0_FitDaughtersConst.csv', index_col = 0)\n",
    "#mc = pd.read_csv('Bd2JpsiKS_Dimuon_flattened_B0_FitDaughtersConst.csv',index_col = 0)\n",
    "#data_sideband.head(n=5)"
   ]
  },
  {
   "cell_type": "code",
   "execution_count": null,
   "metadata": {
    "collapsed": false
   },
   "outputs": [],
   "source": [
    "observables = list(signal_dataframe.columns.values)\n",
    "\n",
    "observables[0]\n"
   ]
  },
  {
   "cell_type": "code",
   "execution_count": null,
   "metadata": {
    "collapsed": false
   },
   "outputs": [],
   "source": [
    "#Loop over all entries in the dataframes\n",
    "for i in range(1,len(observables)):\n",
    "    lower_limit_data = bkg_dataframe[observables[i]].quantile(0.02)\n",
    "    upper_limit_data = bkg_dataframe[observables[i]].quantile(0.6)\n",
    "    lower_limit_mc = signal_dataframe[observables[i]].quantile(0.02)\n",
    "    upper_limit_mc = signal_dataframe[observables[i]].quantile(0.6)\n",
    "    if (upper_limit_mc < upper_limit_data ) and (lower_limit_mc > lower_limit_data):\n",
    "        selection_data = (bkg_dataframe[observables[i]] > lower_limit_mc) & (bkg_dataframe[observables[i]] < upper_limit_mc)\n",
    "        selection_mc = (signal_dataframe[observables[i]] > lower_limit_mc) & (signal_dataframe[observables[i]] < upper_limit_mc)\n",
    "        df_test = pd.DataFrame(bkg_dataframe[selection_data])\n",
    "        mc_test = pd.DataFrame(signal_dataframe[selection_mc])\n",
    "        p = dpp.Plotter('/home/chasenberg/plots/plots_compare/quantile_60')\n",
    "        p.create_plots([df_test,mc_test],observables[i],component_labels=['Data','MC'])\n",
    "        p[observables[i]].set_range(lower_limit_mc,upper_limit_mc)\n",
    "        p.plot()\n",
    "    else:\n",
    "        selection_data = (bkg_dataframe[observables[i]] > lower_limit_data) & (bkg_dataframe[observables[i]] < upper_limit_data)\n",
    "        selection_mc = (signal_dataframe[observables[i]] > lower_limit_data) & (signal_dataframe[observables[i]] < upper_limit_data) \n",
    "        df_test = pd.DataFrame(bkg_dataframe[selection_data])\n",
    "        mc_test = pd.DataFrame(signal_dataframe[selection_mc])\n",
    "        p = dpp.Plotter('/home/chasenberg/plots/plots_compare/quantile_60')\n",
    "        p.create_plots([df_test,mc_test],observables[i],component_labels=['Data','MC'])\n",
    "        p[observables[i]].set_range(lower_limit_data,upper_limit_data)\n",
    "        p.plot()\n",
    "#print(observables[i])\n",
    "    "
   ]
  },
  {
   "cell_type": "code",
   "execution_count": null,
   "metadata": {
    "collapsed": true
   },
   "outputs": [],
   "source": []
  }
 ],
 "metadata": {
  "kernelspec": {
   "display_name": "Python 3",
   "language": "python",
   "name": "python3"
  },
  "language_info": {
   "codemirror_mode": {
    "name": "ipython",
    "version": 3
   },
   "file_extension": ".py",
   "mimetype": "text/x-python",
   "name": "python",
   "nbconvert_exporter": "python",
   "pygments_lexer": "ipython3",
   "version": "3.4.4"
  }
 },
 "nbformat": 4,
 "nbformat_minor": 0
}
