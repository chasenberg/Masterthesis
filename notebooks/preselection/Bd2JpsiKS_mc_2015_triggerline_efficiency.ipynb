{
 "cells": [
  {
   "cell_type": "code",
   "execution_count": 1,
   "metadata": {
    "collapsed": true
   },
   "outputs": [],
   "source": [
    "import ROOT\n",
    "from rootpy.tree import Tree, TreeModel, FloatCol, IntCol\n",
    "from rootpy.io import root_open\n",
    "from ROOT import gROOT, TCanvas, TF1, TFile, TTree, gRandom, TH1F\n",
    "\n",
    "from ROOT import RooRealVar, RooFormulaVar, RooVoigtian, RooChebychev, RooArgList, \\\n",
    "                 RooArgSet, RooAddPdf, RooDataSet, RooCategory, RooSimultaneous, \\\n",
    "                 RooBreitWigner, RooCBShape, RooFFTConvPdf, RooGaussian,RooExponential, \\\n",
    "                 RooBinning, kRed, kBlue, kDotted,TString,RooAbsData, RooPlot, TCut, RooAbsData"
   ]
  },
  {
   "cell_type": "code",
   "execution_count": 2,
   "metadata": {
    "collapsed": false
   },
   "outputs": [
    {
     "name": "stderr",
     "output_type": "stream",
     "text": [
      "/opt/rh/miniconda/envs/py3root6/lib/python3.4/site-packages/sklearn/cross_validation.py:44: DeprecationWarning: This module was deprecated in version 0.18 in favor of the model_selection module into which all the refactored classes and functions are moved. Also note that the interface of the new CV iterators are different from that of this module. This module will be removed in 0.20.\n",
      "  \"This module will be removed in 0.20.\", DeprecationWarning)\n"
     ]
    }
   ],
   "source": [
    "import sys\n",
    "sys.path.append(\"/home/chasenberg/repos/rootnotes\")\n",
    "\n",
    "import rootnotes\n",
    "\n",
    "# For debugging only\n",
    "%load_ext autoreload\n",
    "%autoreload 2\n",
    "\n",
    "import pandas as pd\n",
    "import numpy as np\n",
    "import scipy \n",
    "import root_pandas as rp\n",
    "import root_numpy as ry \n",
    "\n",
    "import sys\n",
    "sys.path.append('/home/chasenberg/dopy')\n",
    "sys.path.append(\"/home/chasenberg/rootnotes\")\n",
    "\n",
    "import dopy.plotting as dpp\n",
    "import dopy.sklearn_utils as sku\n",
    "\n",
    "\n",
    "import matplotlib.pyplot as plt\n",
    "%matplotlib inline\n",
    "import rootnotes\n",
    "from scipy.stats import chisquare\n",
    "from root_numpy import root2array, tree2array, tree2array\n",
    "from rootpy.io import root_open\n",
    "import dopy.sklearn_utils as sku\n",
    "import matplotlib.pyplot as plt\n",
    "%matplotlib inline\n",
    "import matplotlib as mpl\n",
    "mpl.rcParams['figure.figsize'] = (5, 3)"
   ]
  },
  {
   "cell_type": "code",
   "execution_count": 3,
   "metadata": {
    "collapsed": true
   },
   "outputs": [],
   "source": [
    "branch_names_mc = ['B0_FitDaughtersConst*','idxPV','B0_L0*','B0_Hlt*','B0_BKGCAT','B0_FitPVConst_status','HLT*','J_psi_1S_Hlt*','J_psi_1S_L0*']"
   ]
  },
  {
   "cell_type": "code",
   "execution_count": 4,
   "metadata": {
    "collapsed": true
   },
   "outputs": [],
   "source": [
    "#Apply Cuts to dataframe: B0_FITDaughtersConst==0 & B0_FITPVConst==0 & idxPV=0 & B0_BKGCat==0 or B0_BKGCat==50"
   ]
  },
  {
   "cell_type": "code",
   "execution_count": 5,
   "metadata": {
    "collapsed": true
   },
   "outputs": [],
   "source": [
    "cut_string_mc = 'B0_FitDaughtersConst_status==0&B0_FitPVConst_status==0&idxPV==0&B0_BKGCAT==0'"
   ]
  },
  {
   "cell_type": "code",
   "execution_count": 6,
   "metadata": {
    "collapsed": true
   },
   "outputs": [],
   "source": [
    "mc_dir = '/fhgfs/users/chasenberg/mc/2015/jpsiks/dimuon/flattened/Bd2JpsiKS_dimuon_mc_2015_flat.root'"
   ]
  },
  {
   "cell_type": "code",
   "execution_count": 7,
   "metadata": {
    "collapsed": false
   },
   "outputs": [],
   "source": [
    "df_mc = rp.read_root(mc_dir,key='Bd2JpsiKs',columns=branch_names_mc,where=cut_string_mc,flatten=True)"
   ]
  },
  {
   "cell_type": "code",
   "execution_count": 8,
   "metadata": {
    "collapsed": false
   },
   "outputs": [
    {
     "name": "stdout",
     "output_type": "stream",
     "text": [
      "Number of events in MC:  691974\n"
     ]
    }
   ],
   "source": [
    "df_mc = df_mc.replace([np.inf, -np.inf], np.nan)\n",
    "df_mc = df_mc.dropna()\n",
    "df_mc_evt = len(df_mc)\n",
    "print('Number of events in MC: ',df_mc.shape[0])"
   ]
  },
  {
   "cell_type": "code",
   "execution_count": 9,
   "metadata": {
    "collapsed": false
   },
   "outputs": [
    {
     "name": "stdout",
     "output_type": "stream",
     "text": [
      "Just got rid of these triggerlines:\n",
      "------------------------------------\n",
      "B0_L0PhysicsDecision_TOS\n",
      "B0_Hlt1Phys_TOS\n",
      "B0_Hlt2Phys_TOS\n",
      "J_psi_1S_Hlt1Phys_TOS\n",
      "J_psi_1S_Hlt2Phys_TOS\n",
      "J_psi_1S_L0PhysicsDecision_TOS\n",
      "B0_Hlt2ForwardDecision_TOS\n",
      "J_psi_1S_Hlt2ForwardDecision_TOS\n"
     ]
    }
   ],
   "source": [
    "#first create dataframe with required triggerlines and get rid of 'physics' and 'global'\n",
    "'''df1 = df_mc.filter(regex=(\"B0_Hlt.*\"))\n",
    "df2 = df_mc.filter(regex=(\"B0_L0.*\"))\n",
    "df3 = df_mc.filter(regex=(\"J_psi_1S_Hlt.*\"))\n",
    "df4 = df_mc.filter(regex=(\"J_psi_1S_L0.*\"))\n",
    "df_mc = pd.concat([df1,df2,df3,df4],axis=1)'''\n",
    "df_mc = df_mc.filter(regex=(\".*TOS\"))\n",
    "df_forward = df_mc.filter(regex=(\".*ForwardDecision\"))\n",
    "df_phys = df_mc.filter(regex=(\".*Phys\"))\n",
    "#df_global = df_mc.filter(regex=(\".*Global\"))\n",
    "triggerlines_phys = list(df_phys.columns.values)\n",
    "#triggerlines_global = list(df_global.columns.values)\n",
    "triggerlines_forward = list(df_forward.columns.values)\n",
    "unwanted_triggers = np.concatenate((triggerlines_phys,triggerlines_forward),axis=0)#triggerlines_global\n",
    "print(\"Just got rid of these triggerlines:\")\n",
    "print(\"------------------------------------\")\n",
    "for unwanted_trigger in unwanted_triggers:\n",
    "    del df_mc[unwanted_trigger]\n",
    "    print(unwanted_trigger)"
   ]
  },
  {
   "cell_type": "code",
   "execution_count": 11,
   "metadata": {
    "collapsed": false
   },
   "outputs": [
    {
     "name": "stdout",
     "output_type": "stream",
     "text": [
      "0.8651293256683055\n"
     ]
    }
   ],
   "source": [
    "#Quick test\n",
    "cut = 'B0_L0Global_TOS==1|B0_Hlt1DiMuonHighMassDecision_TOS|B0_Hlt2DiMuonDetachedJPsiDecision_TOS==1'\n",
    "test = df_mc.query(cut)\n",
    "efficiency = test.shape[0]/df_mc.shape[0]\n",
    "print(efficiency)"
   ]
  },
  {
   "cell_type": "code",
   "execution_count": 12,
   "metadata": {
    "collapsed": true
   },
   "outputs": [],
   "source": [
    "#Now look at the L0 lines"
   ]
  },
  {
   "cell_type": "code",
   "execution_count": 13,
   "metadata": {
    "collapsed": false
   },
   "outputs": [
    {
     "data": {
      "text/html": [
       "<div>\n",
       "<table border=\"1\" class=\"dataframe\">\n",
       "  <thead>\n",
       "    <tr style=\"text-align: right;\">\n",
       "      <th></th>\n",
       "      <th>B0_L0Global_TOS</th>\n",
       "      <th>B0_L0MuonDecision_TOS</th>\n",
       "      <th>B0_L0DiMuonDecision_TOS</th>\n",
       "      <th>B0_L0MuonHighDecision_TOS</th>\n",
       "      <th>B0_L0HadronDecision_TOS</th>\n",
       "      <th>B0_L0ElectronDecision_TOS</th>\n",
       "      <th>B0_L0PhotonDecision_TOS</th>\n",
       "      <th>B0_Hlt1MultiMuonNoL0Decision_TOS</th>\n",
       "      <th>B0_Hlt1DiMuonNoL0Decision_TOS</th>\n",
       "      <th>B0_Hlt1L0AnyDecision_TOS</th>\n",
       "      <th>...</th>\n",
       "      <th>J_psi_1S_Hlt1L0AnyNoSPDDecision_TOS</th>\n",
       "      <th>J_psi_1S_Hlt2RadiativeLb2L0GammaEELLDecision_TOS</th>\n",
       "      <th>J_psi_1S_Hlt2RadiativeLb2L0GammaLLDecision_TOS</th>\n",
       "      <th>J_psi_1S_L0Global_TOS</th>\n",
       "      <th>J_psi_1S_L0MuonDecision_TOS</th>\n",
       "      <th>J_psi_1S_L0DiMuonDecision_TOS</th>\n",
       "      <th>J_psi_1S_L0MuonHighDecision_TOS</th>\n",
       "      <th>J_psi_1S_L0HadronDecision_TOS</th>\n",
       "      <th>J_psi_1S_L0ElectronDecision_TOS</th>\n",
       "      <th>J_psi_1S_L0PhotonDecision_TOS</th>\n",
       "    </tr>\n",
       "  </thead>\n",
       "  <tbody>\n",
       "    <tr>\n",
       "      <th>0</th>\n",
       "      <td>False</td>\n",
       "      <td>False</td>\n",
       "      <td>False</td>\n",
       "      <td>False</td>\n",
       "      <td>False</td>\n",
       "      <td>False</td>\n",
       "      <td>False</td>\n",
       "      <td>False</td>\n",
       "      <td>False</td>\n",
       "      <td>False</td>\n",
       "      <td>...</td>\n",
       "      <td>False</td>\n",
       "      <td>False</td>\n",
       "      <td>False</td>\n",
       "      <td>False</td>\n",
       "      <td>False</td>\n",
       "      <td>False</td>\n",
       "      <td>False</td>\n",
       "      <td>False</td>\n",
       "      <td>False</td>\n",
       "      <td>False</td>\n",
       "    </tr>\n",
       "    <tr>\n",
       "      <th>1</th>\n",
       "      <td>True</td>\n",
       "      <td>True</td>\n",
       "      <td>False</td>\n",
       "      <td>False</td>\n",
       "      <td>False</td>\n",
       "      <td>False</td>\n",
       "      <td>False</td>\n",
       "      <td>False</td>\n",
       "      <td>False</td>\n",
       "      <td>False</td>\n",
       "      <td>...</td>\n",
       "      <td>False</td>\n",
       "      <td>False</td>\n",
       "      <td>False</td>\n",
       "      <td>True</td>\n",
       "      <td>True</td>\n",
       "      <td>False</td>\n",
       "      <td>False</td>\n",
       "      <td>False</td>\n",
       "      <td>False</td>\n",
       "      <td>False</td>\n",
       "    </tr>\n",
       "    <tr>\n",
       "      <th>2</th>\n",
       "      <td>True</td>\n",
       "      <td>True</td>\n",
       "      <td>False</td>\n",
       "      <td>False</td>\n",
       "      <td>False</td>\n",
       "      <td>False</td>\n",
       "      <td>False</td>\n",
       "      <td>False</td>\n",
       "      <td>False</td>\n",
       "      <td>False</td>\n",
       "      <td>...</td>\n",
       "      <td>False</td>\n",
       "      <td>False</td>\n",
       "      <td>False</td>\n",
       "      <td>True</td>\n",
       "      <td>True</td>\n",
       "      <td>False</td>\n",
       "      <td>False</td>\n",
       "      <td>False</td>\n",
       "      <td>False</td>\n",
       "      <td>False</td>\n",
       "    </tr>\n",
       "    <tr>\n",
       "      <th>3</th>\n",
       "      <td>True</td>\n",
       "      <td>True</td>\n",
       "      <td>False</td>\n",
       "      <td>False</td>\n",
       "      <td>False</td>\n",
       "      <td>False</td>\n",
       "      <td>False</td>\n",
       "      <td>False</td>\n",
       "      <td>False</td>\n",
       "      <td>False</td>\n",
       "      <td>...</td>\n",
       "      <td>False</td>\n",
       "      <td>False</td>\n",
       "      <td>False</td>\n",
       "      <td>True</td>\n",
       "      <td>True</td>\n",
       "      <td>False</td>\n",
       "      <td>False</td>\n",
       "      <td>False</td>\n",
       "      <td>False</td>\n",
       "      <td>False</td>\n",
       "    </tr>\n",
       "    <tr>\n",
       "      <th>4</th>\n",
       "      <td>True</td>\n",
       "      <td>True</td>\n",
       "      <td>True</td>\n",
       "      <td>False</td>\n",
       "      <td>False</td>\n",
       "      <td>False</td>\n",
       "      <td>False</td>\n",
       "      <td>False</td>\n",
       "      <td>True</td>\n",
       "      <td>False</td>\n",
       "      <td>...</td>\n",
       "      <td>False</td>\n",
       "      <td>False</td>\n",
       "      <td>False</td>\n",
       "      <td>True</td>\n",
       "      <td>True</td>\n",
       "      <td>True</td>\n",
       "      <td>False</td>\n",
       "      <td>False</td>\n",
       "      <td>False</td>\n",
       "      <td>False</td>\n",
       "    </tr>\n",
       "  </tbody>\n",
       "</table>\n",
       "<p>5 rows × 26 columns</p>\n",
       "</div>"
      ],
      "text/plain": [
       "  B0_L0Global_TOS B0_L0MuonDecision_TOS B0_L0DiMuonDecision_TOS  \\\n",
       "0           False                 False                   False   \n",
       "1            True                  True                   False   \n",
       "2            True                  True                   False   \n",
       "3            True                  True                   False   \n",
       "4            True                  True                    True   \n",
       "\n",
       "  B0_L0MuonHighDecision_TOS B0_L0HadronDecision_TOS B0_L0ElectronDecision_TOS  \\\n",
       "0                     False                   False                     False   \n",
       "1                     False                   False                     False   \n",
       "2                     False                   False                     False   \n",
       "3                     False                   False                     False   \n",
       "4                     False                   False                     False   \n",
       "\n",
       "  B0_L0PhotonDecision_TOS B0_Hlt1MultiMuonNoL0Decision_TOS  \\\n",
       "0                   False                            False   \n",
       "1                   False                            False   \n",
       "2                   False                            False   \n",
       "3                   False                            False   \n",
       "4                   False                            False   \n",
       "\n",
       "  B0_Hlt1DiMuonNoL0Decision_TOS B0_Hlt1L0AnyDecision_TOS  \\\n",
       "0                         False                    False   \n",
       "1                         False                    False   \n",
       "2                         False                    False   \n",
       "3                         False                    False   \n",
       "4                          True                    False   \n",
       "\n",
       "               ...              J_psi_1S_Hlt1L0AnyNoSPDDecision_TOS  \\\n",
       "0              ...                                            False   \n",
       "1              ...                                            False   \n",
       "2              ...                                            False   \n",
       "3              ...                                            False   \n",
       "4              ...                                            False   \n",
       "\n",
       "  J_psi_1S_Hlt2RadiativeLb2L0GammaEELLDecision_TOS  \\\n",
       "0                                            False   \n",
       "1                                            False   \n",
       "2                                            False   \n",
       "3                                            False   \n",
       "4                                            False   \n",
       "\n",
       "  J_psi_1S_Hlt2RadiativeLb2L0GammaLLDecision_TOS J_psi_1S_L0Global_TOS  \\\n",
       "0                                          False                 False   \n",
       "1                                          False                  True   \n",
       "2                                          False                  True   \n",
       "3                                          False                  True   \n",
       "4                                          False                  True   \n",
       "\n",
       "  J_psi_1S_L0MuonDecision_TOS J_psi_1S_L0DiMuonDecision_TOS  \\\n",
       "0                       False                         False   \n",
       "1                        True                         False   \n",
       "2                        True                         False   \n",
       "3                        True                         False   \n",
       "4                        True                          True   \n",
       "\n",
       "  J_psi_1S_L0MuonHighDecision_TOS J_psi_1S_L0HadronDecision_TOS  \\\n",
       "0                           False                         False   \n",
       "1                           False                         False   \n",
       "2                           False                         False   \n",
       "3                           False                         False   \n",
       "4                           False                         False   \n",
       "\n",
       "  J_psi_1S_L0ElectronDecision_TOS J_psi_1S_L0PhotonDecision_TOS  \n",
       "0                           False                         False  \n",
       "1                           False                         False  \n",
       "2                           False                         False  \n",
       "3                           False                         False  \n",
       "4                           False                         False  \n",
       "\n",
       "[5 rows x 26 columns]"
      ]
     },
     "execution_count": 13,
     "metadata": {},
     "output_type": "execute_result"
    }
   ],
   "source": [
    "df_mc_L0 = df_mc.filter(regex=(\"L0.*\"))\n",
    "df_mc_L0.head(n=5)"
   ]
  },
  {
   "cell_type": "code",
   "execution_count": 14,
   "metadata": {
    "collapsed": true
   },
   "outputs": [],
   "source": [
    "trigger_L0 = list(df_mc_L0.columns.values)"
   ]
  },
  {
   "cell_type": "code",
   "execution_count": 15,
   "metadata": {
    "collapsed": false
   },
   "outputs": [
    {
     "name": "stdout",
     "output_type": "stream",
     "text": [
      "The selected triggerlines are: ['B0_L0Global_TOS', 'B0_L0MuonDecision_TOS', 'B0_L0DiMuonDecision_TOS', 'J_psi_1S_L0Global_TOS', 'J_psi_1S_L0MuonDecision_TOS', 'J_psi_1S_L0DiMuonDecision_TOS']\n",
      "Efficiency of the combined cut is: 0.821153684965042\n"
     ]
    }
   ],
   "source": [
    "#Loop of triggers and calculate efficiencies\n",
    "trigger_combine = []\n",
    "cutstring = np.str()\n",
    "for i in range(len(trigger_L0)):\n",
    "    a = df_mc_L0[trigger_L0[i]].count()\n",
    "    b = df_mc_L0[df_mc_L0[trigger_L0[i]] == 1].count()\n",
    "    efficiency = b/a\n",
    "    #print(efficiency[1])\n",
    "    if efficiency[1]>0.5:\n",
    "        #print(trigger_L0[i],efficiency[1])\n",
    "        cutstring = cutstring + '|' + trigger_L0[i]+'==1'\n",
    "        trigger_combine.append(trigger_L0[i])\n",
    "        #trigger_combine.append(trigger_L0[i])\n",
    "        #efficiencies.append(efficiency[1])\n",
    "selection_L0 = cutstring.lstrip('|')\n",
    "print(\"The selected triggerlines are:\",trigger_combine)\n",
    "efficiency = df_mc_L0.query(selection_L0).shape[0] / df_mc_L0.shape[0] \n",
    "print('Efficiency of the combined cut is:',efficiency)        "
   ]
  },
  {
   "cell_type": "code",
   "execution_count": 16,
   "metadata": {
    "collapsed": true
   },
   "outputs": [],
   "source": [
    "#Now HLT1"
   ]
  },
  {
   "cell_type": "code",
   "execution_count": 17,
   "metadata": {
    "collapsed": false
   },
   "outputs": [],
   "source": [
    "df_mc_hlt1 = df_mc.query(selection_L0).filter(regex=(\"Hlt1.*\"))"
   ]
  },
  {
   "cell_type": "code",
   "execution_count": 18,
   "metadata": {
    "collapsed": true
   },
   "outputs": [],
   "source": [
    "#Apply cut of the previous step"
   ]
  },
  {
   "cell_type": "code",
   "execution_count": 19,
   "metadata": {
    "collapsed": false
   },
   "outputs": [],
   "source": [
    "trigger_hlt1 = list(df_mc_hlt1.columns.values)"
   ]
  },
  {
   "cell_type": "code",
   "execution_count": 20,
   "metadata": {
    "collapsed": false
   },
   "outputs": [
    {
     "name": "stdout",
     "output_type": "stream",
     "text": [
      "The selected triggerlines are: ['B0_Hlt1Global_TOS', 'B0_Hlt1CalibHighPTLowMultTrksDecision_TOS', 'J_psi_1S_Hlt1Global_TOS', 'J_psi_1S_Hlt1CalibHighPTLowMultTrksDecision_TOS']\n",
      "The cutstring is: B0_Hlt1Global_TOS==1|B0_Hlt1CalibHighPTLowMultTrksDecision_TOS==1|J_psi_1S_Hlt1Global_TOS==1|J_psi_1S_Hlt1CalibHighPTLowMultTrksDecision_TOS==1\n",
      "Efficiency of the combined cut is: 0.9954893992963956\n",
      "Global efficiency of the combined cut is: 0.8174497885758714\n"
     ]
    }
   ],
   "source": [
    "#Loop of triggers and calculate efficiencies\n",
    "trigger_combine = []\n",
    "cutstring = np.str()\n",
    "for i in range(len(trigger_hlt1)):\n",
    "    a = df_mc_hlt1[trigger_hlt1[i]].count()\n",
    "    b = df_mc_hlt1[df_mc_hlt1[trigger_hlt1[i]] == 1].count()\n",
    "    efficiency = b/a\n",
    "    #print(efficiency[1])\n",
    "    if efficiency[1]>0.9:\n",
    "        #print(trigger_L0[i],efficiency[1])\n",
    "        cutstring = cutstring + '|' + trigger_hlt1[i]+'==1'\n",
    "        trigger_combine.append(trigger_hlt1[i])\n",
    "        #trigger_combine.append(trigger_L0[i])\n",
    "        #efficiencies.append(efficiency[1])\n",
    "selection_hlt1 = cutstring.lstrip('|')\n",
    "print(\"The selected triggerlines are:\",trigger_combine)\n",
    "print('The cutstring is:',selection_hlt1)\n",
    "efficiency = df_mc_hlt1.query(selection_hlt1).shape[0] / df_mc_hlt1.shape[0] \n",
    "global_efficiency = df_mc_hlt1.query(selection_hlt1).shape[0] / df_mc.shape[0] \n",
    "print('Efficiency of the combined cut is:',efficiency)\n",
    "print('Global efficiency of the combined cut is:',global_efficiency)"
   ]
  },
  {
   "cell_type": "code",
   "execution_count": 21,
   "metadata": {
    "collapsed": false
   },
   "outputs": [
    {
     "data": {
      "text/plain": [
       "0.8174497885758714"
      ]
     },
     "execution_count": 21,
     "metadata": {},
     "output_type": "execute_result"
    }
   ],
   "source": [
    "check = df_mc_hlt1.query(selection_hlt1).shape[0] / df_mc.shape[0]\n",
    "check"
   ]
  },
  {
   "cell_type": "code",
   "execution_count": 22,
   "metadata": {
    "collapsed": true
   },
   "outputs": [],
   "source": [
    "#Now HLT2"
   ]
  },
  {
   "cell_type": "code",
   "execution_count": 23,
   "metadata": {
    "collapsed": false
   },
   "outputs": [
    {
     "data": {
      "text/plain": [
       "0.821153684965042"
      ]
     },
     "execution_count": 23,
     "metadata": {},
     "output_type": "execute_result"
    }
   ],
   "source": [
    "#check\n",
    "check1 = df_mc.query(selection_L0)\n",
    "#check1 = check1.query(selection_hlt2)\n",
    "#check1 = check1.query(selection_hlt2)\n",
    "check = check1.shape[0] / df_mc.shape[0]\n",
    "check"
   ]
  },
  {
   "cell_type": "code",
   "execution_count": 24,
   "metadata": {
    "collapsed": false
   },
   "outputs": [],
   "source": [
    "df_mc_hlt2 = df_mc.query(selection_hlt1)\n",
    "df_mc_hlt2 = df_mc_hlt2.query(selection_L0).filter(regex=(\"Hlt2.*\"))"
   ]
  },
  {
   "cell_type": "code",
   "execution_count": 25,
   "metadata": {
    "collapsed": true
   },
   "outputs": [],
   "source": [
    "#Apply cuts of the previous steps --> L0 and HLT1"
   ]
  },
  {
   "cell_type": "code",
   "execution_count": 26,
   "metadata": {
    "collapsed": false
   },
   "outputs": [],
   "source": [
    "trigger_hlt2 = list(df_mc_hlt2.columns.values)"
   ]
  },
  {
   "cell_type": "code",
   "execution_count": 27,
   "metadata": {
    "collapsed": false
   },
   "outputs": [
    {
     "name": "stdout",
     "output_type": "stream",
     "text": [
      "The selected triggerlines are: ['B0_Hlt2Global_TOS', 'B0_Hlt2DiMuonDetachedJPsiDecision_TOS', 'B0_Hlt2DiMuonJPsiDecision_TOS', 'J_psi_1S_Hlt2Global_TOS', 'J_psi_1S_Hlt2DiMuonDetachedJPsiDecision_TOS', 'J_psi_1S_Hlt2DiMuonJPsiDecision_TOS']\n",
      "Efficiency of the combined cut is: 1.0\n",
      "Global efficiency of the combined cut is: 0.8174497885758714\n"
     ]
    }
   ],
   "source": [
    "#Loop of triggers and calculate efficiencies\n",
    "trigger_combine = []\n",
    "cutstring = np.str()\n",
    "for i in range(len(trigger_hlt2)):\n",
    "    a = df_mc_hlt2[trigger_hlt2[i]].count()\n",
    "    b = df_mc_hlt2[df_mc_hlt2[trigger_hlt2[i]] == 1].count()\n",
    "    efficiency = b/a\n",
    "    #print(efficiency[1])\n",
    "    if efficiency[1]>0.95:\n",
    "        #print(trigger_L0[i],efficiency[1])\n",
    "        cutstring = cutstring + '|' + trigger_hlt2[i]+'==1'\n",
    "        trigger_combine.append(trigger_hlt2[i])\n",
    "        #trigger_combine.append(trigger_L0[i])\n",
    "        #efficiencies.append(efficiency[1])\n",
    "selection_hlt2 = cutstring.lstrip('|')\n",
    "print(\"The selected triggerlines are:\",trigger_combine)\n",
    "#print('The cutstring is:',selection_hlt2)\n",
    "efficiency = df_mc_hlt2.query(selection_hlt2).shape[0] / df_mc_hlt2.shape[0] \n",
    "global_efficiency = df_mc_hlt2.query(selection_hlt2).shape[0] / df_mc.shape[0] \n",
    "print('Efficiency of the combined cut is:',efficiency)\n",
    "print('Global efficiency of the combined cut is:',global_efficiency)"
   ]
  },
  {
   "cell_type": "code",
   "execution_count": 28,
   "metadata": {
    "collapsed": false
   },
   "outputs": [
    {
     "data": {
      "text/plain": [
       "0.8174497885758714"
      ]
     },
     "execution_count": 28,
     "metadata": {},
     "output_type": "execute_result"
    }
   ],
   "source": [
    "check = df_mc_hlt2.shape[0] / df_mc.shape[0]\n",
    "check"
   ]
  },
  {
   "cell_type": "code",
   "execution_count": 29,
   "metadata": {
    "collapsed": true
   },
   "outputs": [],
   "source": [
    "#Final efficiencies after all three trigger stages"
   ]
  },
  {
   "cell_type": "code",
   "execution_count": 30,
   "metadata": {
    "collapsed": true
   },
   "outputs": [],
   "source": [
    "df_mc_final = df_mc.query( selection_L0 and selection_hlt1 )#and selection_hlt2  )"
   ]
  },
  {
   "cell_type": "code",
   "execution_count": 31,
   "metadata": {
    "collapsed": false
   },
   "outputs": [
    {
     "data": {
      "text/plain": [
       "0.8622477145095047"
      ]
     },
     "execution_count": 31,
     "metadata": {},
     "output_type": "execute_result"
    }
   ],
   "source": [
    "efficiency = df_mc_final.shape[0] / df_mc.shape[0]\n",
    "efficiency"
   ]
  },
  {
   "cell_type": "code",
   "execution_count": 32,
   "metadata": {
    "collapsed": true
   },
   "outputs": [],
   "source": [
    "#Check efficiency for all combinations of triggerlines "
   ]
  },
  {
   "cell_type": "code",
   "execution_count": 33,
   "metadata": {
    "collapsed": false
   },
   "outputs": [
    {
     "ename": "NameError",
     "evalue": "name 'df_trigger' is not defined",
     "output_type": "error",
     "traceback": [
      "\u001b[1;31m---------------------------------------------------------------------------\u001b[0m",
      "\u001b[1;31mNameError\u001b[0m                                 Traceback (most recent call last)",
      "\u001b[1;32m<ipython-input-33-6794a93c8368>\u001b[0m in \u001b[0;36m<module>\u001b[1;34m()\u001b[0m\n\u001b[1;32m----> 1\u001b[1;33m \u001b[0mtriggerlines\u001b[0m \u001b[1;33m=\u001b[0m \u001b[0mlist\u001b[0m\u001b[1;33m(\u001b[0m\u001b[0mdf_trigger\u001b[0m\u001b[1;33m.\u001b[0m\u001b[0mcolumns\u001b[0m\u001b[1;33m.\u001b[0m\u001b[0mvalues\u001b[0m\u001b[1;33m)\u001b[0m\u001b[1;33m\u001b[0m\u001b[0m\n\u001b[0m\u001b[0;32m      2\u001b[0m \u001b[0mentries\u001b[0m \u001b[1;33m=\u001b[0m \u001b[0mdf_trigger\u001b[0m\u001b[1;33m.\u001b[0m\u001b[0mshape\u001b[0m\u001b[1;33m[\u001b[0m\u001b[1;36m0\u001b[0m\u001b[1;33m]\u001b[0m\u001b[1;33m\u001b[0m\u001b[0m\n\u001b[0;32m      3\u001b[0m \u001b[1;32mfor\u001b[0m \u001b[0mtriggerline1\u001b[0m \u001b[1;32min\u001b[0m \u001b[0mtriggerlines\u001b[0m\u001b[1;33m:\u001b[0m\u001b[1;33m\u001b[0m\u001b[0m\n\u001b[0;32m      4\u001b[0m     \u001b[1;32mfor\u001b[0m \u001b[0mtriggerline2\u001b[0m \u001b[1;32min\u001b[0m \u001b[0mtriggerlines\u001b[0m\u001b[1;33m:\u001b[0m\u001b[1;33m\u001b[0m\u001b[0m\n\u001b[0;32m      5\u001b[0m         \u001b[1;32mif\u001b[0m \u001b[0mtriggerline1\u001b[0m \u001b[1;33m!=\u001b[0m \u001b[0mtriggerline2\u001b[0m\u001b[1;33m:\u001b[0m\u001b[1;33m\u001b[0m\u001b[0m\n",
      "\u001b[1;31mNameError\u001b[0m: name 'df_trigger' is not defined"
     ]
    }
   ],
   "source": [
    "triggerlines = list(df_trigger.columns.values)\n",
    "entries = df_trigger.shape[0]\n",
    "for triggerline1 in triggerlines:\n",
    "    for triggerline2 in triggerlines:\n",
    "        if triggerline1 != triggerline2:\n",
    "            test1 = df_trigger[(df_trigger[triggerline1] == 1)|(df_trigger[triggerline2] == 1)].shape[0]\n",
    "            efficiency1 = test1/entries\n",
    "            for triggerline3 in triggerlines:\n",
    "                if (triggerline1 != triggerline3) and (triggerline2 != triggerline3):\n",
    "                    test2 = df_trigger[(df_trigger[triggerline1] == 1)|(df_trigger[triggerline2] == 1)|(df_trigger[triggerline3] == 1)].shape[0]\n",
    "                    efficiency2 = test2/entries\n",
    "                    if (efficiency2 > 0.92) and (efficiency2>efficiency1):\n",
    "                        print(\"Triggerline combination (3 triggers chosen):\")\n",
    "                        print(\"===========================================\")\n",
    "                        print(triggerline1,triggerline2,triggerline3)\n",
    "                        print(\"The efficiency of these triggerlines combination is:\",efficiency2)\n",
    "                        print(\"---------------------------------------------------------------------------------------------------------------\")\n",
    "                    elif (efficiency1 > 0.92): \n",
    "                        print(\"Triggerline combination (2 triggers chosen):\")\n",
    "                        print(\"===========================================\")\n",
    "                        print(triggerline1,triggerline2)\n",
    "                        print(\"The efficiency of these triggerlines combination is:\",efficiency1)\n",
    "                        print(\"---------------------------------------------------------------------------------------------------------------\")"
   ]
  }
 ],
 "metadata": {
  "kernelspec": {
   "display_name": "Python 3",
   "language": "python",
   "name": "python3"
  },
  "language_info": {
   "codemirror_mode": {
    "name": "ipython",
    "version": 3
   },
   "file_extension": ".py",
   "mimetype": "text/x-python",
   "name": "python",
   "nbconvert_exporter": "python",
   "pygments_lexer": "ipython3",
   "version": "3.4.4"
  }
 },
 "nbformat": 4,
 "nbformat_minor": 0
}
