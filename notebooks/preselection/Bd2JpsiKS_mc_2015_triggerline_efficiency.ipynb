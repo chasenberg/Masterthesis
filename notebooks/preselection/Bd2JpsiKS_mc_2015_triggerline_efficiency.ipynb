{
 "cells": [
  {
   "cell_type": "code",
   "execution_count": 1,
   "metadata": {
    "collapsed": true
   },
   "outputs": [],
   "source": [
    "import ROOT\n",
    "from rootpy.tree import Tree, TreeModel, FloatCol, IntCol\n",
    "from rootpy.io import root_open\n",
    "from ROOT import gROOT, TCanvas, TF1, TFile, TTree, gRandom, TH1F\n",
    "\n",
    "from ROOT import RooRealVar, RooFormulaVar, RooVoigtian, RooChebychev, RooArgList, \\\n",
    "                 RooArgSet, RooAddPdf, RooDataSet, RooCategory, RooSimultaneous, \\\n",
    "                 RooBreitWigner, RooCBShape, RooFFTConvPdf, RooGaussian,RooExponential, \\\n",
    "                 RooBinning, kRed, kBlue, kDotted,TString,RooAbsData, RooPlot, TCut, RooAbsData"
   ]
  },
  {
   "cell_type": "code",
   "execution_count": 2,
   "metadata": {
    "collapsed": false
   },
   "outputs": [
    {
     "name": "stderr",
     "output_type": "stream",
     "text": [
      "/opt/rh/miniconda/envs/py3root6/lib/python3.4/site-packages/sklearn/cross_validation.py:44: DeprecationWarning: This module was deprecated in version 0.18 in favor of the model_selection module into which all the refactored classes and functions are moved. Also note that the interface of the new CV iterators are different from that of this module. This module will be removed in 0.20.\n",
      "  \"This module will be removed in 0.20.\", DeprecationWarning)\n"
     ]
    }
   ],
   "source": [
    "import sys\n",
    "sys.path.append(\"/home/chasenberg/repos/rootnotes\")\n",
    "\n",
    "import rootnotes\n",
    "\n",
    "# For debugging only\n",
    "%load_ext autoreload\n",
    "%autoreload 2\n",
    "\n",
    "import pandas as pd\n",
    "import numpy as np\n",
    "import scipy \n",
    "import root_pandas as rp\n",
    "import root_numpy as ry \n",
    "\n",
    "import sys\n",
    "sys.path.append('/home/chasenberg/dopy')\n",
    "sys.path.append(\"/home/chasenberg/rootnotes\")\n",
    "\n",
    "import dopy.plotting as dpp\n",
    "import dopy.sklearn_utils as sku\n",
    "\n",
    "\n",
    "import matplotlib.pyplot as plt\n",
    "%matplotlib inline\n",
    "import rootnotes\n",
    "from scipy.stats import chisquare\n",
    "from root_numpy import root2array, tree2array, tree2array\n",
    "from rootpy.io import root_open\n",
    "import dopy.sklearn_utils as sku\n",
    "import matplotlib.pyplot as plt\n",
    "%matplotlib inline\n",
    "import matplotlib as mpl\n",
    "mpl.rcParams['figure.figsize'] = (5, 3)"
   ]
  },
  {
   "cell_type": "code",
   "execution_count": 8,
   "metadata": {
    "collapsed": true
   },
   "outputs": [],
   "source": [
    "branch_names_mc = ['B0_Hlt2DiMuonDetachedJPsiDecision_Dec','B0_Hlt2DiMuonJPsiDecision_Dec','B0_Hlt1DiMuonHighMassDecision_Dec','B0_Hlt1TrackMVADecision_Dec','B0_Hlt1DiMuonHighMassDecision_Dec','B0_L0MuonHighDecision_Dec','B0_Hlt1TrackMVADecision_Dec','B0_L0MuonDecision_Dec','B0_L0DiMuonDecision_Dec']"
   ]
  },
  {
   "cell_type": "code",
   "execution_count": 4,
   "metadata": {
    "collapsed": true
   },
   "outputs": [],
   "source": [
    "#Apply Cuts to dataframe: B0_FITDaughtersConst==0 & B0_FITPVConst==0 & idxPV=0 & B0_BKGCat==0 or B0_BKGCat==50"
   ]
  },
  {
   "cell_type": "code",
   "execution_count": 9,
   "metadata": {
    "collapsed": true
   },
   "outputs": [],
   "source": [
    "cut_string_mc = 'B0_FitDaughtersConst_status==0&B0_FitPVConst_status==0&idxPV==0&B0_BKGCAT==0'"
   ]
  },
  {
   "cell_type": "code",
   "execution_count": 10,
   "metadata": {
    "collapsed": true
   },
   "outputs": [],
   "source": [
    "mc_dir = '/fhgfs/users/chasenberg/mc/2015/jpsimumuks/Bd2JpsimumuKS_mc_2015_flat.root'"
   ]
  },
  {
   "cell_type": "code",
   "execution_count": 12,
   "metadata": {
    "collapsed": false
   },
   "outputs": [],
   "source": [
    "df_mc = rp.read_root(mc_dir,key='Bd2JpsiKs',columns=branch_names_mc,where=cut_string_mc)"
   ]
  },
  {
   "cell_type": "code",
   "execution_count": 13,
   "metadata": {
    "collapsed": false
   },
   "outputs": [
    {
     "name": "stdout",
     "output_type": "stream",
     "text": [
      "Number of events in MC:  375227\n"
     ]
    }
   ],
   "source": [
    "df_mc = df_mc.replace([np.inf, -np.inf], np.nan)\n",
    "df_mc = df_mc.dropna()\n",
    "df_mc_evt = len(df_mc)\n",
    "print('Number of events in MC: ',df_mc.shape[0])"
   ]
  },
  {
   "cell_type": "code",
   "execution_count": 16,
   "metadata": {
    "collapsed": false
   },
   "outputs": [
    {
     "name": "stdout",
     "output_type": "stream",
     "text": [
      "0.7156467951400086\n"
     ]
    }
   ],
   "source": [
    "#Quick test\n",
    "trigger_cut = '(B0_L0MuonDecision_Dec==1|B0_L0DiMuonDecision_Dec==1|B0_L0MuonHighDecision_Dec==1)&(B0_Hlt1DiMuonHighMassDecision_Dec==1|B0_Hlt1TrackMVADecision_Dec==1)&(B0_Hlt1DiMuonHighMassDecision_Dec==1|B0_Hlt1TrackMVADecision_Dec==1)&(B0_Hlt2DiMuonJPsiDecision_Dec==1|B0_Hlt2DiMuonDetachedJPsiDecision_Dec==1)'\n",
    "test = df_mc.query(trigger_cut)\n",
    "efficiency = test.shape[0]/df_mc.shape[0]\n",
    "print(efficiency)"
   ]
  },
  {
   "cell_type": "markdown",
   "metadata": {
    "collapsed": true
   },
   "source": [
    "## Now look at the L0 lines"
   ]
  },
  {
   "cell_type": "code",
   "execution_count": 17,
   "metadata": {
    "collapsed": false
   },
   "outputs": [
    {
     "name": "stdout",
     "output_type": "stream",
     "text": [
      "0.7529735333544761\n"
     ]
    }
   ],
   "source": [
    "l0_trigger_cut = '(B0_L0MuonDecision_Dec==1|B0_L0DiMuonDecision_Dec==1|B0_L0MuonHighDecision_Dec==1)'\n",
    "df_l0 = df_mc.query(l0_trigger_cut)\n",
    "efficiency_l0 = df_l0.shape[0]/df_mc.shape[0]\n",
    "print(efficiency_l0)"
   ]
  },
  {
   "cell_type": "markdown",
   "metadata": {
    "collapsed": true
   },
   "source": [
    "## Now look at the HLT1 lines"
   ]
  },
  {
   "cell_type": "code",
   "execution_count": 25,
   "metadata": {
    "collapsed": false
   },
   "outputs": [
    {
     "name": "stdout",
     "output_type": "stream",
     "text": [
      "0.7726043168535314\n"
     ]
    }
   ],
   "source": [
    "hlt1_trigger_cut = '(B0_Hlt1DiMuonHighMassDecision_Dec==1|B0_Hlt1TrackMVADecision_Dec==1)&(B0_Hlt1DiMuonHighMassDecision_Dec==1|B0_Hlt1TrackMVADecision_Dec==1)'\n",
    "df_hlt1 = df_mc.query(hlt1_trigger_cut)\n",
    "efficiency_hlt1 = df_hlt1.shape[0]/df_mc.shape[0]\n",
    "print(efficiency_hlt1)"
   ]
  },
  {
   "cell_type": "code",
   "execution_count": 27,
   "metadata": {
    "collapsed": false
   },
   "outputs": [
    {
     "name": "stdout",
     "output_type": "stream",
     "text": [
      "0.6888710034192636\n"
     ]
    }
   ],
   "source": [
    "hlt1mva_trigger_cut = 'B0_Hlt1TrackMVADecision_Dec==1'\n",
    "hlt1mva_trigger_cut = 'B0_Hlt1TrackMVADecision_Dec==1'\n",
    "df_hlt1mva = df_mc.query(hlt1mva_trigger_cut)\n",
    "efficiency_hlt1mva = df_hlt1mva.shape[0]/df_mc.shape[0]\n",
    "print(efficiency_hlt1mva)"
   ]
  },
  {
   "cell_type": "markdown",
   "metadata": {},
   "source": [
    "## Now look at the HLT1 lines"
   ]
  },
  {
   "cell_type": "code",
   "execution_count": 22,
   "metadata": {
    "collapsed": false
   },
   "outputs": [
    {
     "name": "stdout",
     "output_type": "stream",
     "text": [
      "0.8519855980513129\n"
     ]
    }
   ],
   "source": [
    "hlt2_trigger_cut = '(B0_Hlt2DiMuonJPsiDecision_Dec==1|B0_Hlt2DiMuonDetachedJPsiDecision_Dec==1)'\n",
    "df_hlt2 = df_mc.query(hlt2_trigger_cut)\n",
    "efficiency_hlt2 = df_hlt2.shape[0]/df_mc.shape[0]\n",
    "print(efficiency_hlt2)"
   ]
  },
  {
   "cell_type": "code",
   "execution_count": null,
   "metadata": {
    "collapsed": true
   },
   "outputs": [],
   "source": []
  }
 ],
 "metadata": {
  "kernelspec": {
   "display_name": "Python 3",
   "language": "python",
   "name": "python3"
  },
  "language_info": {
   "codemirror_mode": {
    "name": "ipython",
    "version": 3
   },
   "file_extension": ".py",
   "mimetype": "text/x-python",
   "name": "python",
   "nbconvert_exporter": "python",
   "pygments_lexer": "ipython3",
   "version": "3.4.4"
  }
 },
 "nbformat": 4,
 "nbformat_minor": 0
}
