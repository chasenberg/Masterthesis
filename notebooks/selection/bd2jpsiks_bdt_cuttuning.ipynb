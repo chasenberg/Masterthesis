{
 "cells": [
  {
   "cell_type": "markdown",
   "metadata": {},
   "source": [
    "## Notebook for 1D BDT scan and calculating FOMs in Bd2psi2SKS on data\n"
   ]
  },
  {
   "cell_type": "code",
   "execution_count": 1,
   "metadata": {
    "collapsed": false
   },
   "outputs": [],
   "source": [
    "%matplotlib inline\n",
    "%load_ext autoreload\n",
    "%autoreload 2\n",
    "\n",
    "import os\n",
    "import sys\n",
    "import ROOT\n",
    "from ROOT import TFile, TH1D, TH2D, TCanvas, gStyle, TLine, TTree\n",
    "from ROOT import (RooArgSet, RooRealVar, RooDataSet, RooPlot, RooFit, RooStats, RooArgList)\n",
    "\n",
    "import math\n",
    "import itertools\n",
    "import numpy as np\n",
    "import matplotlib as mpl\n",
    "import matplotlib.pyplot as plt\n",
    "from matplotlib.backends.backend_pdf import PdfPages\n",
    "\n",
    "from root_pandas import read_root\n",
    "import pandas as pd\n",
    "\n",
    "sys.path.append('/home/vmueller/repos')\n",
    "from dopy.doroot.root_utils import read_roodataset_from_tree, plot_pulls\n",
    "from dopy.doplot.plotting import Plotter, Plot                "
   ]
  },
  {
   "cell_type": "code",
   "execution_count": 2,
   "metadata": {
    "collapsed": false
   },
   "outputs": [],
   "source": [
    "\n",
    "from ROOT import RooRealVar, RooExponential, RooExtendPdf, RooAddPdf, RooArgList, RooGaussian\n",
    "from ROOT import RooFormulaVar\n",
    "from ROOT import gSystem\n",
    "gSystem.Load('libRooFit.so')\n",
    "gSystem.Load('/home/chasenberg/repos/dopy/dolib/CustomShapes/libKll')\n",
    "from ROOT import RooIpatia2"
   ]
  },
  {
   "cell_type": "markdown",
   "metadata": {},
   "source": [
    "### Define dataset paths"
   ]
  },
  {
   "cell_type": "code",
   "execution_count": null,
   "metadata": {
    "collapsed": true
   },
   "outputs": [],
   "source": []
  },
  {
   "cell_type": "markdown",
   "metadata": {},
   "source": [
    "### Read in TFile and TTree"
   ]
  },
  {
   "cell_type": "code",
   "execution_count": 3,
   "metadata": {
    "collapsed": false
   },
   "outputs": [],
   "source": [
    "# Read data and fit it\n",
    "data = ROOT.TFile('/fhgfs/users/chasenberg/data/2015_2016/jpsiks/dimuon/with_cut/Bd2JpsiKS_dimuon_data_2015_2016_flat_BDT_cut_reduced.root')\n",
    "dataset_tree = data.Get('Bd2JpsiKs') \n",
    "#ntupleVarSet =  RooArgSet(mass) "
   ]
  },
  {
   "cell_type": "markdown",
   "metadata": {},
   "source": [
    "### Define observables"
   ]
  },
  {
   "cell_type": "code",
   "execution_count": 4,
   "metadata": {
    "collapsed": false
   },
   "outputs": [
    {
     "data": {
      "text/plain": [
       "True"
      ]
     },
     "execution_count": 4,
     "metadata": {},
     "output_type": "execute_result"
    }
   ],
   "source": [
    "obsMassJpsiKSConst = RooRealVar( 'B0_M','obsMassJpsiKSConst', 5280,5220, 5350, 'MeV/#it{c}^{2}')\n",
    "B0_TAU             = RooRealVar( 'B0_TAU','B0_TAU', 0.00019, 0.1, 'ps')\n",
    "B0_TAUERR          = RooRealVar( 'B0_TAUERR','B0_TAUERR', 0.0000045, 0.0017, 'ps')\n",
    "BDTresponse        = RooRealVar('BDTresponse','BDTresponse',  0.00049, 7.5)\n",
    "B0_TAGDECISION_OS  = RooRealVar('B0_TAGDECISION_OS','B0_TAGDECISION_OS',  -1, 1)\n",
    "B0_TAGOMEGA_OS   = RooRealVar('B0_TAGOMEGA_OS','B0_TAGOMEGA_OS',  0.0, 0.5)\n",
    "#catTrackType        = RooRealVar('catTrackType', 'catTrackType', 33, 33)\n",
    "\n",
    "observables = RooArgSet(obsMassJpsiKSConst)\n",
    "observables.add(B0_TAU)\n",
    "observables.add(B0_TAUERR)\n",
    "observables.add(BDTresponse)\n",
    "observables.add(B0_TAGDECISION_OS)\n",
    "observables.add(B0_TAGOMEGA_OS)\n",
    "#observables.add(catTrackType)"
   ]
  },
  {
   "cell_type": "code",
   "execution_count": 5,
   "metadata": {
    "collapsed": true
   },
   "outputs": [],
   "source": [
    "#B0_M = RooRealVar(\"B0_FitDaughtersConst_M\", \"B0_M\", 5280, \"MeV\")\n",
    "#mass = RooRealVar(\"B0_FitDaughtersConst_M\", \"Mass(J/psi K_{S})\", 5280,5220, 5350, \"MeV\")"
   ]
  },
  {
   "cell_type": "markdown",
   "metadata": {},
   "source": [
    "### Check imported dataset"
   ]
  },
  {
   "cell_type": "code",
   "execution_count": 6,
   "metadata": {
    "collapsed": false
   },
   "outputs": [
    {
     "name": "stdout",
     "output_type": "stream",
     "text": [
      "nBefore    nAfter    \n",
      "100000     16938     \n"
     ]
    }
   ],
   "source": [
    "data_after_import = RooDataSet('data_after_import', 'data_after_import', dataset_tree, observables)\n",
    "print('{:<10} {:<10}'.format('nBefore','nAfter'))\n",
    "print('{:<10} {:<10}'.format(dataset_tree.GetEntries(),data_after_import.numEntries()))\n",
    "data_sets = [None, None, data_after_import]\n",
    "data_after_import.get(0).Print('v')"
   ]
  },
  {
   "cell_type": "code",
   "execution_count": 7,
   "metadata": {
    "collapsed": false
   },
   "outputs": [
    {
     "data": {
      "text/plain": [
       "100000"
      ]
     },
     "execution_count": 7,
     "metadata": {},
     "output_type": "execute_result"
    }
   ],
   "source": [
    "dataset_tree.GetEntries()"
   ]
  },
  {
   "cell_type": "markdown",
   "metadata": {},
   "source": [
    "### Function to build mass model"
   ]
  },
  {
   "cell_type": "code",
   "execution_count": 8,
   "metadata": {
    "collapsed": false
   },
   "outputs": [],
   "source": [
    "def build_mass_model(mass):\n",
    "\n",
    "\n",
    "    par_ipatia_zeta  = RooRealVar('par_ipatia_zeta'  + postfix,  'par_ipatia_zeta'  + postfix, 2.8, 0.3, 5.3)\n",
    "    par_ipatia_fb    = RooRealVar('par_ipatia_fb'    + postfix,    'par_ipatia_fb'  + postfix, 0., 0., 0.)\n",
    "    par_ipatia_l     = RooRealVar('par_ipatia_l'     + postfix,     'par_ipatia_l'  + postfix, 1., 1., 1.)\n",
    "    par_ipatia_m     = RooRealVar('par_ipatia_m'     + postfix,     'par_ipatia_m'  + postfix, 5280, 5220., 5350.,)\n",
    "    par_ipatia_sigma = RooRealVar('par_ipatia_sigma' + postfix, 'par_ipatia_sigma'  + postfix, 8., 2., 100.)\n",
    "    par_ipatia_a1    = RooRealVar('par_ipatia_a1'    + postfix,     'par_ipatia_a1' + postfix, 2.1)#, 0.01, 4)\n",
    "    par_ipatia_a2    = RooRealVar('par_ipatia_a2'    + postfix,     'par_ipatia_a2' + postfix, 2.1)#, 0.01, 4)\n",
    "    par_ipatia_n1    = RooRealVar('par_ipatia_n1'    + postfix,     'par_ipatia_n1' + postfix, 3.8)#, 0.00001, 150.)\n",
    "    par_ipatia_n2    = RooRealVar('par_ipatia_n2'    + postfix,     'par_ipatia_n2' + postfix, 7.0)#, 0.00001, 150.)\n",
    "\n",
    "    pdf_mass_ipatia  = ROOT.RooIpatia2('pdf_mass_ipatia', 'pdf_mass_ipatia', mass, par_ipatia_l, par_ipatia_zeta, par_ipatia_fb,\n",
    "                               par_ipatia_sigma, par_ipatia_m, par_ipatia_a1, par_ipatia_n1,\n",
    "                               par_ipatia_a2, par_ipatia_n2)\n",
    "    \n",
    "    ROOT.SetOwnership( pdf_mass_ipatia, False )\n",
    "    ROOT.SetOwnership( par_ipatia_zeta, False )\n",
    "    ROOT.SetOwnership( par_ipatia_fb, False )\n",
    "    ROOT.SetOwnership( par_ipatia_l, False )\n",
    "    ROOT.SetOwnership( par_ipatia_m, False )\n",
    "    ROOT.SetOwnership( par_ipatia_sigma, False )\n",
    "    ROOT.SetOwnership( par_ipatia_a1, False )\n",
    "    ROOT.SetOwnership( par_ipatia_n1, False )\n",
    "    ROOT.SetOwnership( par_ipatia_a2, False )\n",
    "    ROOT.SetOwnership( par_ipatia_n2, False )\n",
    "\n",
    "    sig_yield = RooRealVar('sig_yield' + postfix, 'sig_yield' + postfix, 100, 0, 1000000)\n",
    "    ROOT.SetOwnership( sig_yield, False )\n",
    "\n",
    "    sig_pdf_ext = RooExtendPdf('sig_pdf_ext' + postfix, 'sig_pdf_ext' + postfix, pdf_mass_ipatia, sig_yield)\n",
    "    ROOT.SetOwnership( sig_pdf_ext, False )\n",
    "    \n",
    "    exp_a = RooRealVar('exp_a' + postfix, 'exp_a' + postfix, -0.001, -0.01, -0.00001)\n",
    "    exp   = RooExponential('exp' + postfix, 'exp' + postfix, mass, exp_a)\n",
    "    bkg_pdf = exp\n",
    "    bkg_yield = RooRealVar('bkg_yield' + postfix, 'bkg_yield' + postfix, 5000, 0, 1000000)\n",
    "    ROOT.SetOwnership( exp_a, False )\n",
    "    ROOT.SetOwnership( bkg_pdf, False )\n",
    "    ROOT.SetOwnership( bkg_yield, False)\n",
    "    \n",
    "    bkg_pdf_ext = RooExtendPdf('bkg_pdf_ext' + postfix, 'bkg_pdf_ext' + postfix, bkg_pdf, bkg_yield)\n",
    "    ROOT.SetOwnership( bkg_pdf_ext, False)\n",
    "    \n",
    "    par_ipatia_m_bs_shift = RooRealVar(\"par_ipatia_m_bs_shift\" + postfix, \"par_ipatia_m_bs_shift\" + postfix, 87.0, 50.0, 100.0)\n",
    "    par_ipatia_m_bs = RooFormulaVar(\"par_ipatia_m_bs\" + postfix, \"par_ipatia_m_bs\" + postfix, \"@0+@1\", RooArgList(par_ipatia_m, par_ipatia_m_bs_shift))\n",
    "    #par_ipatia_m_bs     = RooRealVar(\"par_ipatia_m_bs\"    + postfix,    \"par_ipatia_m_bs\" + postfix,    5366, 5300., 5400.,)\n",
    "                    \n",
    "    pdf_mass_ipatia_bs  = ROOT.RooIpatia2('pdf_mass_ipatia_bs', 'pdf_mass_ipatia_bs', mass, par_ipatia_l, par_ipatia_zeta, par_ipatia_fb,\n",
    "                                          par_ipatia_sigma, par_ipatia_m_bs, par_ipatia_a1, par_ipatia_n1, par_ipatia_a2, par_ipatia_n2)\n",
    "    \n",
    "    bs_yield = RooRealVar('bs_yield' + postfix, 'bs_yield' + postfix, 0, 0, 0)# 5000, 0, 1000000)\n",
    "    ROOT.SetOwnership( par_ipatia_m_bs_shift, False )\n",
    "    ROOT.SetOwnership( par_ipatia_m_bs, False)\n",
    "    ROOT.SetOwnership( bs_yield, False)\n",
    "    ROOT.SetOwnership( pdf_mass_ipatia_bs, False)\n",
    "    \n",
    "    bs_pdf_ext = RooExtendPdf('bs_pdf_ext' + postfix, 'bs_pdf_ext' + postfix, pdf_mass_ipatia_bs, bs_yield)\n",
    "    ROOT.SetOwnership( bs_pdf_ext, False)\n",
    "    \n",
    "    data_model = RooAddPdf('model' + postfix, 'model' + postfix, RooArgList(sig_pdf_ext, bkg_pdf_ext, bs_pdf_ext))\n",
    "    ROOT.SetOwnership( data_model, False )\n",
    "    \n",
    "    return data_model"
   ]
  },
  {
   "cell_type": "markdown",
   "metadata": {},
   "source": [
    "### Function to copy a tree and append sWeights"
   ]
  },
  {
   "cell_type": "code",
   "execution_count": 9,
   "metadata": {
    "collapsed": true
   },
   "outputs": [],
   "source": [
    "def copy_ttree_append_sweights(ttree_or_chain, dataset_with_weights):\n",
    "    sweight_sig = array('d', [0.0])\n",
    "    sweight_bkg = array('d', [0.0])\n",
    "    sweight_bs = array('d', [0.0])\n",
    "        \n",
    "    sig_sweight_branch = ttree_or_chain.Branch('sweight_sig',sweight_sig,'sweight_sig/D')\n",
    "    bkg_sweight_branch = ttree_or_chain.Branch('sweight_bkg',sweight_bkg,'sweight_bkg/D')\n",
    "    bs_sweight_branch = ttree_or_chain.Branch('sweight_bs',sweight_bkg,'sweight_bs/D')\n",
    "\n",
    "    for i in range(ttree_or_chain.GetEntries()):\n",
    "        ttree_or_chain.GetEntry(i)\n",
    "        control_branch_name = 'obsMassJpsiKSConst'\n",
    "        if (ttree_or_chain.GetBranch('obsMassJpsiKSConst').GetLeaf('obsMassJpsiKSConst').GetValue() + 0.01 > dataset_with_weights.get(i)['obsMassJpsiKSConst'].getValV() and\\\n",
    "            ttree_or_chain.GetBranch('obsMassJpsiKSConst').GetLeaf('obsMassJpsiKSConst').GetValue() - 0.01 < dataset_with_weights.get(i)['obsMassJpsiKSConst'].getValV()):\n",
    "            # print('Success in Event {}'.format(i))\n",
    "            sweight_sig[0]=data_fit_cut.get(i)['sig_yield_sw'].getValV()\n",
    "            sweight_bkg[0]=data_fit_cut.get(i)['bkg_yield_sw'].getValV()\n",
    "            sweight_bs[0]=data_fit_cut.get(i)[\"bs_yield_sw\"].getValV()\n",
    "            sig_sweight_branch.Fill()\n",
    "            bkg_sweight_branch.Fill()\n",
    "            bs_sweight_branch.Fill()\n",
    "        else:\n",
    "            print('ERROR')\n",
    "            sweight_sig[0]=-10000\n",
    "            sweight_bkg[0]=-10000\n",
    "            sweight_bs[0]=-10000\n",
    "            sig_sweight_branch.Fill()\n",
    "            bkg_sweight_branch.Fill()\n",
    "            bs_sweight_branch.Fill()\n",
    "    return ttree_or_chain"
   ]
  },
  {
   "cell_type": "markdown",
   "metadata": {},
   "source": [
    "### Function to calculate the fit performance (standard FOMs)"
   ]
  },
  {
   "cell_type": "code",
   "execution_count": 10,
   "metadata": {
    "collapsed": true
   },
   "outputs": [],
   "source": [
    "def fill_performance(final_model, mass, performance_dict):\n",
    "    sig_pdf = final_model.getComponents().find('sig_pdf_ext')\n",
    "    bkg_pdf = final_model.getComponents().find('bkg_pdf_ext')\n",
    "    \n",
    "    massset = RooArgSet(mass)\n",
    "    intbkg_sigregion = bkg_pdf.createIntegral(massset, RooFit.NormSet(massset), RooFit.Range('SIGREGION'))\n",
    "    intsig_sigregion = sig_pdf.createIntegral(massset, RooFit.NormSet(massset), RooFit.Range('SIGREGION'))\n",
    "    \n",
    "    sig_yield = final_model.getParameters(data_fit_cut).find('sig_yield').getVal()\n",
    "    bkg_yield = final_model.getParameters(data_fit_cut).find('bkg_yield').getVal()\n",
    "    sig_yield = intsig_sigregion.getVal()*sig_yield\n",
    "    bkg_yield = intbkg_sigregion.getVal()*bkg_yield\n",
    "    s_over_b = sig_yield/bkg_yield\n",
    "    s_over_spb = sig_yield/(sig_yield+bkg_yield)\n",
    "    s_over_sqrt_b = sig_yield/math.sqrt(bkg_yield)\n",
    "    s_over_sqrt_spb = sig_yield/math.sqrt(sig_yield+bkg_yield)\n",
    "    s3_over_spb2 = (sig_yield**3)/(sig_yield+bkg_yield)**2\n",
    "        \n",
    "    performance_dict['sig_yield']       = sig_yield\n",
    "    performance_dict['bkg_yield']       = bkg_yield\n",
    "    performance_dict['s_over_b']        = s_over_b\n",
    "    performance_dict['s_over_sqrt_b']   = s_over_sqrt_b\n",
    "    performance_dict['s_over_spb']      = s_over_spb\n",
    "    performance_dict['s_over_sqrt_spb'] = s_over_sqrt_spb\n",
    "    performance_dict['s3_over_spb2']    = s3_over_spb2"
   ]
  },
  {
   "cell_type": "markdown",
   "metadata": {},
   "source": [
    "### Function to get values and uncertainities of the fit parameters"
   ]
  },
  {
   "cell_type": "code",
   "execution_count": 11,
   "metadata": {
    "collapsed": true
   },
   "outputs": [],
   "source": [
    "def fill_shape(args, shape_dict):\n",
    "    varnames = []\n",
    "    varnames.append('par_ipatia_a1')\n",
    "    varnames.append('par_ipatia_a2')\n",
    "    varnames.append('par_ipatia_n1')\n",
    "    varnames.append('par_ipatia_n2')\n",
    "    varnames.append('par_ipatia_l')\n",
    "    varnames.append('par_ipatia_sigma')\n",
    "    varnames.append('par_ipatia_m')\n",
    "    varnames.append('par_ipatia_m_bs_shift')\n",
    "    varnames.append('par_ipatia_fb')\n",
    "    varnames.append('exp_a')\n",
    "    \n",
    "    for varname in varnames:\n",
    "        var = args.find(varname)\n",
    "        shape_dict[varname+'_value'] = var.getValV()\n",
    "        shape_dict[varname+'_errlo'] = var.getErrorLo()\n",
    "        shape_dict[varname+'_errhi'] = var.getErrorHi()"
   ]
  },
  {
   "cell_type": "markdown",
   "metadata": {},
   "source": [
    "### Function to print parameter info "
   ]
  },
  {
   "cell_type": "code",
   "execution_count": 12,
   "metadata": {
    "collapsed": true
   },
   "outputs": [],
   "source": [
    "def parameter_info(old):\n",
    "    print('\\n')\n",
    "    iter = old.createIterator()\n",
    "    var = iter.Next()\n",
    "    const_or_float = None\n",
    "    print('INFO parameter_info: {:<20} {:<16} {:<16} {:<16} {:<16}'.format('Name', 'Value', 'Min', 'Max', 'Status'), flush=True)\n",
    "    while var:\n",
    "        if var.isConstant():\n",
    "            const_or_float = 'const'\n",
    "        else:\n",
    "            const_or_float = 'float'\n",
    "        print('INFO parameter_info: {:<25} {:<16.8} {:<16} {:<16} {:<16}'.format(var.GetName(), var.getValV(), var.getMin(), var.getMax(), const_or_float), flush=True)\n",
    "        var=iter.Next()\n",
    "    print('\\n')"
   ]
  },
  {
   "cell_type": "markdown",
   "metadata": {},
   "source": [
    "### Function to copy old fit results to new init file"
   ]
  },
  {
   "cell_type": "code",
   "execution_count": 13,
   "metadata": {
    "collapsed": true
   },
   "outputs": [],
   "source": [
    "def copy_old_new(old, new, verbose=False):\n",
    "    iter = old.createIterator()\n",
    "    var = iter.Next()\n",
    "    const_or_float = None\n",
    "    while var:\n",
    "        new.find(var.GetName()).setMin(var.getMin())\n",
    "        new.find(var.GetName()).setMax(var.getMax())\n",
    "        new.find(var.GetName()).setVal(var.getValV())\n",
    "        if verbose:\n",
    "            print('copying ' + var.GetName())\n",
    "        if var.isConstant():\n",
    "            const_or_float = 'const'\n",
    "            new.find(var.GetName()).setConstant()\n",
    "        else:\n",
    "            const_or_float = 'float'\n",
    "        var=iter.Next()"
   ]
  },
  {
   "cell_type": "markdown",
   "metadata": {},
   "source": [
    "### Function to calculate the FOMs"
   ]
  },
  {
   "cell_type": "code",
   "execution_count": 14,
   "metadata": {
    "collapsed": true
   },
   "outputs": [],
   "source": [
    "def calculate_foms(dataset):\n",
    "    import math\n",
    "    \n",
    "    signal_sum    = 1\n",
    "    cbkg_sum      = 0\n",
    "    signal_sumw2  = 1\n",
    "    \n",
    "    signal_sum_tag_decis = 0 # count two ways to check consistency\n",
    "    signal_sum_tag_omega = 0\n",
    "\n",
    "    D_bs_perfect  = 0\n",
    "    D_bs_perftagg = 0\n",
    "    D_bs_perfterr = 0\n",
    "    D_bs          = 0\n",
    "    D_bd          = 0\n",
    "    D_bd_perfect  = 0\n",
    "    Q_bs_perfect  = 0\n",
    "    Q_bs_perftagg = 0\n",
    "    Q_bs_perfterr = 0\n",
    "    Q_bs          = 0\n",
    "    Q_bd          = 0\n",
    "    Q_bd_perfect  = 0\n",
    "    \n",
    "    delta_m = 0.5065 \n",
    "    S = 0.691 #sin2beta value (average from HFAG)\n",
    "    \n",
    "    tagging_power = 0\n",
    "    timeres_power = 0\n",
    "    \n",
    "    for i in range(dataset.numEntries()):\n",
    "        signal_weight =  dataset.get(i)['sig_yield_sw'].getValV()\n",
    "        cbkg_weight   =  dataset.get(i)['bkg_yield_sw'].getValV()\n",
    "        mistag        =  data_fit_cut.get(i)['B0_TAGOMEGA_OS'].getValV()\n",
    "        tag           = data_fit_cut.get(i)['B0_TAGDECISION_OS'].getValV()\n",
    "        decaytime     = data_fit_cut.get(i)['B0_TAU'].getValV()\n",
    "        timeerror     =  data_fit_cut.get(i)['B0_TAUERR'].getValV()\n",
    "\n",
    "        \n",
    "        signal_sum    += signal_weight\n",
    "        signal_sumw2  += signal_weight**2\n",
    "        cbkg_sum      += cbkg_weight\n",
    "        \n",
    "        if mistag != 0.5:\n",
    "            signal_sum_tag_omega += signal_weight\n",
    "        if tag != 0:    \n",
    "            signal_sum_tag_decis += signal_weight\n",
    "        if (tag != 0 and mistag == 0.5) or (tag == 0 and mistag != 0.5):\n",
    "            print('ERROR: mismatch tag {} mistag {}'.format(tag, mistag))\n",
    "        \n",
    "        nominator_bd_term   = math.sin(delta_m * decaytime)\n",
    "        denominator_bd_term = 1 + tag * (1 - 2 * mistag) * S * math.exp(-0.5*(delta_m*timeerror)**2)*math.sin(delta_m*decaytime)       \n",
    "        bd_term = (nominator_bd_term/denominator_bd_term)**2\n",
    "        \n",
    "        denominator_bd_term_perfect = 1 + tag * 1 * S * 1 *math.sin(delta_m*decaytime)\n",
    "        bd_term_perfect = (nominator_bd_term/denominator_bd_term_perfect)**2\n",
    "        \n",
    "        tagging_dilution  = (1 - 2*mistag)**2\n",
    "        timeerror_dilution = math.exp(-(delta_m*timeerror)**2)\n",
    "\n",
    "        timeres_power    += timeerror_dilution*signal_weight\n",
    "        tagging_power    += tagging_dilution*signal_weight\n",
    "        \n",
    "        D_bs_perfect      += 1                * 1                  * 1               * signal_weight\n",
    "        D_bs_perftagg     += 1                * timeerror_dilution * 1               * signal_weight\n",
    "        D_bs_perfterr     += tagging_dilution * 1                  * 1               * signal_weight\n",
    "        D_bs              += tagging_dilution * timeerror_dilution * 1               * signal_weight\n",
    "        D_bd              += tagging_dilution * timeerror_dilution * bd_term         * signal_weight\n",
    "        D_bd_perfect      += 1                * 1                  * bd_term_perfect * signal_weight\n",
    "\n",
    "    effsigsize = signal_sum**2 / signal_sumw2\n",
    "    \n",
    "    if (signal_sum_tag_omega != signal_sum_tag_decis):\n",
    "        print('ERROR: counting sweights via omega!=0.5 and decision!=0 led to different results')\n",
    "        print('ERROR: this should not happen! - tagging efficiency is not well defined')\n",
    "        print('ERROR: omega counting: {}   tag counting: {}'.format(signal_sum_tag_omega, signal_sum_tag_decis))\n",
    "        \n",
    "    tagging_dilution_avg_tagged = tagging_power / signal_sum_tag_omega\n",
    "    tagging_efficiency = signal_sum_tag_omega / signal_sum\n",
    "    \n",
    "    tagging_power /= signal_sum\n",
    "    timeres_power /= signal_sum\n",
    "\n",
    "    D_bs_perfect  /= signal_sum#dataset.numEntries()\n",
    "    D_bs_perftagg /= signal_sum#dataset.numEntries()\n",
    "    D_bs_perfterr /= signal_sum#dataset.numEntries()\n",
    "    D_bs          /= signal_sum#dataset.numEntries()\n",
    "    D_bd          /= signal_sum#dataset.numEntries()\n",
    "    D_bd_perfect  /= signal_sum#dataset.numEntries()\n",
    "        \n",
    "    Q_bs_perfect  = effsigsize * D_bs_perfect #signal_sum**2 / dataset.numEntries() * D_bs_perfect\n",
    "    Q_bs_perftagg = effsigsize * D_bs_perftagg #signal_sum**2 / dataset.numEntries() * D_bs_perftagg\n",
    "    Q_bs_perfterr = effsigsize * D_bs_perfterr #signal_sum**2 / dataset.numEntries() * D_bs_perfterr\n",
    "    Q_bs          = effsigsize * D_bs #signal_sum**2 / dataset.numEntries() * D_bs\n",
    "    Q_bd          = effsigsize * D_bd #signal_sum**2 / dataset.numEntries() * D_bd\n",
    "    Q_bd_perfect  = effsigsize * D_bd_perfect #signal_sum**2 / dataset.numEntries() * D_bd\n",
    "    \n",
    "    fomname_to_value = {\n",
    "        'EffSigSize'   : effsigsize,\n",
    "        'TaggingPower' : tagging_power,\n",
    "        'TaggingDavg'  : tagging_dilution_avg_tagged,\n",
    "        'TaggingEff'   : tagging_efficiency,\n",
    "        'TimeresPower' : timeres_power,\n",
    "        'BsFOM_p'      : Q_bs_perfect,\n",
    "        'BsFOM_pTim'   : Q_bs_perfterr,\n",
    "        'BsFOM_pTag'   : Q_bs_perftagg,\n",
    "        'BsFOM'        : Q_bs,\n",
    "        'BdFOM'        : Q_bd,\n",
    "        'BdFOM_p'      : Q_bd_perfect\n",
    "    }\n",
    "\n",
    "    return fomname_to_value       "
   ]
  },
  {
   "cell_type": "markdown",
   "metadata": {},
   "source": [
    "### Configure  and define cuts "
   ]
  },
  {
   "cell_type": "code",
   "execution_count": 15,
   "metadata": {
    "collapsed": false
   },
   "outputs": [],
   "source": [
    "lowerbound=5220 # rather arbitrary signal window definition\n",
    "upperbound=5350\n",
    "obsMassJpsiKSConst.setRange('SIGREGION',lowerbound,upperbound)\n",
    "\n",
    "subdir = '/home/chasenberg/plots/bdt_cuttuning'\n",
    "plot_dir    = os.path.join(subdir, 'plots')\n",
    "results_dir = os.path.join(subdir, 'results')\n",
    "plot_file   = os.path.join(plot_dir, 'all_plots.pdf')\n",
    "\n",
    "\n",
    "if not os.path.exists(plot_dir):\n",
    "    os.makedirs(plot_dir)\n",
    "if not os.path.exists(results_dir):\n",
    "    os.makedirs(results_dir)\n",
    "    \n",
    "mass_var_name = 'obsMassJpsiKSConst'\n",
    "cuttype = 'BDTresponse'\n",
    "\n",
    "cuts = np.linspace(-6,6,10)\n",
    "#cuts = [-0.05]\n",
    "cuts_for_which_to_store_sdata = []   \n",
    "\n",
    "cut_to_performance = {} \n",
    "cut_to_shape = {}\n",
    "\n",
    "perform_fit = True\n",
    "do_splot    = True\n",
    "postfix = ''\n",
    "final_params_file = None\n",
    "oldParameters = None\n",
    "final_model = None"
   ]
  },
  {
   "cell_type": "markdown",
   "metadata": {},
   "source": [
    "### Fit, sWeights, calculate FOMs, plot"
   ]
  },
  {
   "cell_type": "code",
   "execution_count": 16,
   "metadata": {
    "collapsed": false,
    "scrolled": true
   },
   "outputs": [
    {
     "name": "stdout",
     "output_type": "stream",
     "text": [
      "INFO: Starting to test cut BDTresponse>-6.0\n",
      "INFO: Building Ipatia (signal) + Exp (combinatorics) + Ipatia (bs-component) model for data\n",
      "INFO: configfile... /home/chasenberg/plots/bdt_cuttuning/results/paramsBDTresponse-6.0_init.txt does not exist\n",
      "INFO: Will try to copy parameters from last fit to get proper starting values\n",
      "INFO: This is the first fit, cannot copy\n",
      "INFO: Starting fit\n",
      "INFO: Fit converged\n",
      "INFO: Fit complete\n",
      "INFO: Calculating sWeights\n",
      "INFO: Finished calculating sWeights\n",
      "INFO: Start plotting\n",
      "INFO: Finish plotting\n",
      "INFO: Starting to test cut BDTresponse>-4.666666666666667\n",
      "INFO: Building Ipatia (signal) + Exp (combinatorics) + Ipatia (bs-component) model for data\n",
      "INFO: configfile... /home/chasenberg/plots/bdt_cuttuning/results/paramsBDTresponse-4.66666666667_init.txt does not exist\n",
      "INFO: Will try to copy parameters from last fit to get proper starting values\n",
      "INFO: Starting fit\n",
      "INFO: Fit converged\n",
      "INFO: Fit complete\n",
      "INFO: Calculating sWeights\n",
      "INFO: Finished calculating sWeights\n",
      "INFO: Start plotting\n",
      "INFO: Finish plotting\n",
      "INFO: Starting to test cut BDTresponse>-3.3333333333333335\n",
      "INFO: Building Ipatia (signal) + Exp (combinatorics) + Ipatia (bs-component) model for data\n",
      "INFO: configfile... /home/chasenberg/plots/bdt_cuttuning/results/paramsBDTresponse-3.33333333333_init.txt does not exist\n",
      "INFO: Will try to copy parameters from last fit to get proper starting values\n",
      "INFO: Starting fit\n",
      "INFO: Fit converged\n",
      "INFO: Fit complete\n"
     ]
    },
    {
     "name": "stderr",
     "output_type": "stream",
     "text": [
      "TCanvas::Constructor:0: RuntimeWarning: Deleting canvas with same name: can\n",
      "TFile::Append:0: RuntimeWarning: Replacing existing TH1: pulls_all (Potential memory leak).\n",
      "TFile::Append:0: RuntimeWarning: Replacing existing TH1: pulls_ok (Potential memory leak).\n",
      "TFile::Append:0: RuntimeWarning: Replacing existing TH1: pulls_danger (Potential memory leak).\n"
     ]
    },
    {
     "name": "stdout",
     "output_type": "stream",
     "text": [
      "INFO: Calculating sWeights\n",
      "INFO: Finished calculating sWeights\n",
      "INFO: Start plotting\n",
      "INFO: Finish plotting\n",
      "INFO: Starting to test cut BDTresponse>-2.0\n",
      "INFO: Building Ipatia (signal) + Exp (combinatorics) + Ipatia (bs-component) model for data\n",
      "INFO: configfile... /home/chasenberg/plots/bdt_cuttuning/results/paramsBDTresponse-2.0_init.txt does not exist\n",
      "INFO: Will try to copy parameters from last fit to get proper starting values\n",
      "INFO: Starting fit\n",
      "INFO: Fit converged\n",
      "INFO: Fit complete\n"
     ]
    },
    {
     "name": "stderr",
     "output_type": "stream",
     "text": [
      "TCanvas::Constructor:0: RuntimeWarning: Deleting canvas with same name: can\n",
      "TFile::Append:0: RuntimeWarning: Replacing existing TH1: pulls_all (Potential memory leak).\n",
      "TFile::Append:0: RuntimeWarning: Replacing existing TH1: pulls_ok (Potential memory leak).\n",
      "TFile::Append:0: RuntimeWarning: Replacing existing TH1: pulls_danger (Potential memory leak).\n"
     ]
    },
    {
     "name": "stdout",
     "output_type": "stream",
     "text": [
      "INFO: Calculating sWeights\n",
      "INFO: Finished calculating sWeights\n",
      "INFO: Start plotting\n",
      "INFO: Finish plotting\n",
      "INFO: Starting to test cut BDTresponse>-0.666666666666667\n",
      "INFO: Building Ipatia (signal) + Exp (combinatorics) + Ipatia (bs-component) model for data\n",
      "INFO: configfile... /home/chasenberg/plots/bdt_cuttuning/results/paramsBDTresponse-0.666666666667_init.txt does not exist\n",
      "INFO: Will try to copy parameters from last fit to get proper starting values\n",
      "INFO: Starting fit\n",
      "INFO: Fit converged\n",
      "INFO: Fit complete\n"
     ]
    },
    {
     "name": "stderr",
     "output_type": "stream",
     "text": [
      "TCanvas::Constructor:0: RuntimeWarning: Deleting canvas with same name: can\n",
      "TFile::Append:0: RuntimeWarning: Replacing existing TH1: pulls_all (Potential memory leak).\n",
      "TFile::Append:0: RuntimeWarning: Replacing existing TH1: pulls_ok (Potential memory leak).\n",
      "TFile::Append:0: RuntimeWarning: Replacing existing TH1: pulls_danger (Potential memory leak).\n"
     ]
    },
    {
     "name": "stdout",
     "output_type": "stream",
     "text": [
      "INFO: Calculating sWeights\n",
      "INFO: Finished calculating sWeights\n",
      "INFO: Start plotting\n",
      "INFO: Finish plotting\n",
      "INFO: Starting to test cut BDTresponse>0.6666666666666661\n",
      "INFO: Building Ipatia (signal) + Exp (combinatorics) + Ipatia (bs-component) model for data\n",
      "INFO: configfile... /home/chasenberg/plots/bdt_cuttuning/results/paramsBDTresponse0.666666666667_init.txt does not exist\n",
      "INFO: Will try to copy parameters from last fit to get proper starting values\n",
      "INFO: Starting fit\n",
      "INFO: Fit converged\n",
      "INFO: Fit complete\n"
     ]
    },
    {
     "name": "stderr",
     "output_type": "stream",
     "text": [
      "TCanvas::Constructor:0: RuntimeWarning: Deleting canvas with same name: can\n",
      "TFile::Append:0: RuntimeWarning: Replacing existing TH1: pulls_all (Potential memory leak).\n",
      "TFile::Append:0: RuntimeWarning: Replacing existing TH1: pulls_ok (Potential memory leak).\n",
      "TFile::Append:0: RuntimeWarning: Replacing existing TH1: pulls_danger (Potential memory leak).\n"
     ]
    },
    {
     "name": "stdout",
     "output_type": "stream",
     "text": [
      "INFO: Calculating sWeights\n",
      "INFO: Finished calculating sWeights\n",
      "INFO: Start plotting\n",
      "INFO: Finish plotting\n",
      "INFO: Starting to test cut BDTresponse>2.0\n",
      "INFO: Building Ipatia (signal) + Exp (combinatorics) + Ipatia (bs-component) model for data\n",
      "INFO: configfile... /home/chasenberg/plots/bdt_cuttuning/results/paramsBDTresponse2.0_init.txt does not exist\n",
      "INFO: Will try to copy parameters from last fit to get proper starting values\n",
      "INFO: Starting fit\n",
      "INFO: Fit converged\n",
      "INFO: Fit complete\n"
     ]
    },
    {
     "name": "stderr",
     "output_type": "stream",
     "text": [
      "TCanvas::Constructor:0: RuntimeWarning: Deleting canvas with same name: can\n",
      "TFile::Append:0: RuntimeWarning: Replacing existing TH1: pulls_all (Potential memory leak).\n",
      "TFile::Append:0: RuntimeWarning: Replacing existing TH1: pulls_ok (Potential memory leak).\n",
      "TFile::Append:0: RuntimeWarning: Replacing existing TH1: pulls_danger (Potential memory leak).\n"
     ]
    },
    {
     "name": "stdout",
     "output_type": "stream",
     "text": [
      "INFO: Calculating sWeights\n",
      "INFO: Finished calculating sWeights\n",
      "INFO: Start plotting\n",
      "INFO: Finish plotting\n",
      "INFO: Starting to test cut BDTresponse>3.333333333333332\n",
      "INFO: Building Ipatia (signal) + Exp (combinatorics) + Ipatia (bs-component) model for data\n",
      "INFO: configfile... /home/chasenberg/plots/bdt_cuttuning/results/paramsBDTresponse3.33333333333_init.txt does not exist\n",
      "INFO: Will try to copy parameters from last fit to get proper starting values\n",
      "INFO: Starting fit\n",
      "INFO: Fit converged\n",
      "INFO: Fit complete\n"
     ]
    },
    {
     "name": "stderr",
     "output_type": "stream",
     "text": [
      "TCanvas::Constructor:0: RuntimeWarning: Deleting canvas with same name: can\n",
      "TFile::Append:0: RuntimeWarning: Replacing existing TH1: pulls_all (Potential memory leak).\n",
      "TFile::Append:0: RuntimeWarning: Replacing existing TH1: pulls_ok (Potential memory leak).\n",
      "TFile::Append:0: RuntimeWarning: Replacing existing TH1: pulls_danger (Potential memory leak).\n"
     ]
    },
    {
     "name": "stdout",
     "output_type": "stream",
     "text": [
      "INFO: Calculating sWeights\n",
      "INFO: Finished calculating sWeights\n",
      "INFO: Start plotting\n",
      "INFO: Finish plotting\n",
      "INFO: Starting to test cut BDTresponse>4.666666666666666\n",
      "INFO: Building Ipatia (signal) + Exp (combinatorics) + Ipatia (bs-component) model for data\n",
      "INFO: configfile... /home/chasenberg/plots/bdt_cuttuning/results/paramsBDTresponse4.66666666667_init.txt does not exist\n",
      "INFO: Will try to copy parameters from last fit to get proper starting values\n",
      "INFO: Starting fit\n",
      "INFO: Fit converged\n",
      "INFO: Fit complete\n"
     ]
    },
    {
     "name": "stderr",
     "output_type": "stream",
     "text": [
      "TCanvas::Constructor:0: RuntimeWarning: Deleting canvas with same name: can\n",
      "TFile::Append:0: RuntimeWarning: Replacing existing TH1: pulls_all (Potential memory leak).\n",
      "TFile::Append:0: RuntimeWarning: Replacing existing TH1: pulls_ok (Potential memory leak).\n",
      "TFile::Append:0: RuntimeWarning: Replacing existing TH1: pulls_danger (Potential memory leak).\n"
     ]
    },
    {
     "name": "stdout",
     "output_type": "stream",
     "text": [
      "INFO: Calculating sWeights\n",
      "INFO: Finished calculating sWeights\n",
      "INFO: Start plotting\n",
      "INFO: Finish plotting\n",
      "INFO: Starting to test cut BDTresponse>6.0\n",
      "INFO: Building Ipatia (signal) + Exp (combinatorics) + Ipatia (bs-component) model for data\n",
      "INFO: configfile... /home/chasenberg/plots/bdt_cuttuning/results/paramsBDTresponse6.0_init.txt does not exist\n",
      "INFO: Will try to copy parameters from last fit to get proper starting values\n",
      "INFO: Starting fit\n",
      "INFO: Fit converged\n",
      "INFO: Fit complete\n"
     ]
    },
    {
     "name": "stderr",
     "output_type": "stream",
     "text": [
      "TCanvas::Constructor:0: RuntimeWarning: Deleting canvas with same name: can\n",
      "TFile::Append:0: RuntimeWarning: Replacing existing TH1: pulls_all (Potential memory leak).\n",
      "TFile::Append:0: RuntimeWarning: Replacing existing TH1: pulls_ok (Potential memory leak).\n",
      "TFile::Append:0: RuntimeWarning: Replacing existing TH1: pulls_danger (Potential memory leak).\n"
     ]
    },
    {
     "name": "stdout",
     "output_type": "stream",
     "text": [
      "INFO: Calculating sWeights\n",
      "INFO: Finished calculating sWeights\n",
      "INFO: Start plotting\n",
      "INFO: Finish plotting\n"
     ]
    },
    {
     "name": "stderr",
     "output_type": "stream",
     "text": [
      "TCanvas::Constructor:0: RuntimeWarning: Deleting canvas with same name: can\n",
      "TFile::Append:0: RuntimeWarning: Replacing existing TH1: pulls_all (Potential memory leak).\n",
      "TFile::Append:0: RuntimeWarning: Replacing existing TH1: pulls_ok (Potential memory leak).\n",
      "TFile::Append:0: RuntimeWarning: Replacing existing TH1: pulls_danger (Potential memory leak).\n"
     ]
    }
   ],
   "source": [
    "from ROOT import RooArgList\n",
    "\n",
    "x=None\n",
    "for cut in cuts:\n",
    "    print('INFO: Starting to test cut ' + '{0}>{1}'.format(cuttype,cut), flush=True)\n",
    "    data_fit_cut = data_after_import.reduce('{0}>{1}'.format(cuttype,cut))\n",
    "    \n",
    "    print('INFO: Building Ipatia (signal) + Exp (combinatorics) + Ipatia (bs-component) model for data', flush=True) \n",
    "    final_model = build_mass_model(obsMassJpsiKSConst)\n",
    "  \n",
    "    parameters_file_name  = 'params' + postfix + cuttype + str(cut) + '.txt';\n",
    "    parameters_init_name  = parameters_file_name.replace('.txt', '_init.txt')\n",
    "    parameters_final_name = parameters_file_name.replace('.txt', '_final.txt')\n",
    "    \n",
    "    if os.path.exists(os.path.join(results_dir, parameters_init_name)):\n",
    "        print('INFO: Reading parameters from configfile '  + os.path.join(results_dir, parameters_init_name), flush=True)\n",
    "        final_model.getParameters(data_fit_cut).readFromFile(os.path.join(results_dir, parameters_init_name))\n",
    "        if oldParameters:\n",
    "            print('INFO: Read following parameters from configfile:', flush=True)\n",
    "            final_model.getParameters(data_fit_cut).Print('v')\n",
    "    else:\n",
    "        print('INFO: configfile... '  + os.path.join(results_dir, parameters_init_name) + ' does not exist', flush=True)\n",
    "        print('INFO: Will try to copy parameters from last fit to get proper starting values', flush=True)\n",
    "        if oldParameters:\n",
    "            copy_old_new(oldParameters, final_model.getParameters(data_fit_cut))\n",
    "        else:\n",
    "            print('INFO: This is the first fit, cannot copy')\n",
    "        \n",
    "    if perform_fit:\n",
    "        print('INFO: Starting fit', flush=True)\n",
    "        fit_result = final_model.fitTo(data_fit_cut,\n",
    "                                      RooFit.NumCPU(6),\n",
    "                                      RooFit.Minimizer('Minuit','minimize'),\n",
    "                                      RooFit.Hesse(True),\n",
    "                                      RooFit.Optimize(0),\n",
    "                                      RooFit.PrintEvalErrors(0),\n",
    "                                      RooFit.Save(True),\n",
    "                                      RooFit.Extended(),\n",
    "                                      RooFit.Verbose(True))\n",
    "\n",
    "        if fit_result:\n",
    "            fit_result.Print('v')\n",
    "            fit_result.correlationMatrix().Print('v')\n",
    "            if fit_result.status()==0:\n",
    "                print('INFO: Fit converged')\n",
    "            else:\n",
    "                print('INFO: Status '+str(fit_result.status()))\n",
    "            print('INFO: Fit complete', flush=True)\n",
    "        else:\n",
    "            print('ERROR: There is no fitresult', flush=True)\n",
    "        \n",
    "    final_params_file = os.path.join(results_dir, parameters_final_name)\n",
    "    final_model.getParameters(data_fit_cut).writeToFile(final_params_file)\n",
    "    oldParameters = final_model.getParameters(data_fit_cut).snapshot()\n",
    "\n",
    "    cut_to_shape[cut] = {}\n",
    "    fill_shape(oldParameters, cut_to_shape[cut])\n",
    "    \n",
    "   \n",
    "    cut_to_performance[cut] = {}\n",
    "    fill_performance(final_model, obsMassJpsiKSConst, cut_to_performance[cut])\n",
    "    \n",
    "    sig_num = []\n",
    "    bkg_num = []\n",
    "    if do_splot:\n",
    "        print('INFO: Calculating sWeights', flush=True)\n",
    "        iter = final_model.getParameters(data_fit_cut).createIterator()\n",
    "        var = iter.Next()\n",
    "        while var:\n",
    "            # print(var.GetName())\n",
    "            if not 'yield' in var.GetName():\n",
    "                # print('Setting {} constant'.format(var.GetName()), flush=True)\n",
    "                var.setConstant()\n",
    "            var=iter.Next()\n",
    "            \n",
    "        var_sig_yield = final_model.getParameters(data_fit_cut).find('sig_yield')\n",
    "        var_bkg_yield = final_model.getParameters(data_fit_cut).find('bkg_yield')\n",
    "        var_bs_yield = final_model.getParameters(data_fit_cut).find('bs_yield')\n",
    "        sData = RooStats.SPlot('sData', 'sData', data_fit_cut, final_model, RooArgList(var_sig_yield,var_bkg_yield,var_bs_yield))\n",
    "        foms = calculate_foms(data_fit_cut)\n",
    "        cut_to_performance[cut].update(foms)\n",
    "        sig_num.append(var_sig_yield.getValV())\n",
    "        bkg_num.append(var_bkg_yield.getValV())\n",
    "        print('INFO: Finished calculating sWeights', flush=True)\n",
    "            \n",
    "        if cut in cuts_for_which_to_store_sdata:\n",
    "            from ROOT import TFile\n",
    "            from array import array\n",
    "                \n",
    "            filename_sweighted_data = dataset_file_name.replace('.root', '_sW{}{}.root'.format(cuttype,cut))\n",
    "            f_all_new = TFile(filename_sweighted_data, 'RECREATE')\n",
    "            tree_w_obscuts = dataset_tree.CopyTree('{0}>{1}'.format(cuttype,cut))\n",
    "            print('INFO: Entries in TTree: {}'.format(tree_w_obscuts.GetEntries()))\n",
    "            print('INFO: Entries in Dataset: {}'.format(data_fit_cut.numEntries()))\n",
    "            copy_ttree_append_sweights(tree_w_obscuts, data_fit_cut)\n",
    "            tree_w_obscuts.Write()\n",
    "            f_all_new.Close()\n",
    "    \n",
    "    print('INFO: Start plotting', flush=True)\n",
    "    sys.path.append('/home/vmueller/repos/root_utils/')\n",
    "    from ROOT import TColor\n",
    "    import rootnotes  # For displaying TCanvas in notebooks\n",
    "    from lhcb_style import set_lhcb_style # Set basic LHCb plot style\n",
    "    set_lhcb_style()   \n",
    "    from root_utils import plot_pulls\n",
    "\n",
    "    sig_set = ROOT.RooArgSet(final_model.getComponents().find('sig_pdf_ext'))\n",
    "    bkg_set = ROOT.RooArgSet(final_model.getComponents().find('bkg_pdf_ext'))\n",
    "    bs_set = ROOT.RooArgSet(final_model.getComponents().find('bs_pdf_ext'))\n",
    "\n",
    "    # Prepare frame\n",
    "    plot_frame = obsMassJpsiKSConst.frame(ROOT.RooFit.Bins(100))\n",
    "    data_fit_cut.plotOn(plot_frame, ROOT.RooFit.Name('data'))\n",
    "    final_model.plotOn(plot_frame, RooFit.Components(sig_set), RooFit.LineStyle(2), RooFit.LineColor(226), ROOT.RooFit.Name('sig_fit'))\n",
    "    final_model.plotOn(plot_frame, RooFit.Components(bs_set), RooFit.LineStyle(3), RooFit.LineColor(410), ROOT.RooFit.Name('bs_fit'))\n",
    "    final_model.plotOn(plot_frame, RooFit.Components(bkg_set), RooFit.LineStyle(8), RooFit.LineColor(96), ROOT.RooFit.Name('bkg_fit'))\n",
    "    final_model.plotOn(plot_frame,RooFit.LineColor(1))\n",
    "\n",
    "    ### Add additional informations to the plot\n",
    "    text_size = 0.035\n",
    "    # Create TLegend\n",
    "    legend = ROOT.TLegend(0.7, 0.75, 0.9, 0.9)\n",
    "    legend.AddEntry(plot_frame.findObject('data'), 'Data', 'p')\n",
    "    legend.AddEntry(plot_frame.findObject('sig_fit'), '#it{B}^{0}#rightarrow#it{#psi(2S)}#it{K}_{#kern[-0.3]{S}}', 'l')\n",
    "    legend.AddEntry(plot_frame.findObject('bs_fit'), '#it{B}^{0}_{s}#rightarrow#it{#psi(2S)}#it{K}_{#kern[-0.3]{S}}', 'l')\n",
    "    legend.AddEntry(plot_frame.findObject('bkg_fit'), 'Comb. background', 'l')\n",
    "    \n",
    "    \n",
    "    legend.SetTextSize(text_size)\n",
    "\n",
    "    # Plot pulls\n",
    "    plotname = 'plot' + postfix + cuttype + str(cut)\n",
    "    can, _ = plot_pulls(plotname, plot_frame, legend=legend, save_path= subdir + '/plots/', logy=True) \n",
    "    can  # To display plot in notebooks\n",
    "    print('INFO: Finish plotting', flush=True)"
   ]
  },
  {
   "cell_type": "markdown",
   "metadata": {},
   "source": [
    "### Print the performance values"
   ]
  },
  {
   "cell_type": "code",
   "execution_count": 17,
   "metadata": {
    "collapsed": false
   },
   "outputs": [
    {
     "name": "stdout",
     "output_type": "stream",
     "text": [
      "BDT>   Signal     Background S/B          S/S+B        S/sqrt(S+B)   S3/(S+B)2  FOM        Q          Q_Bd      \n",
      "-6.0   10612.5    6325.5     1.678        0.6266       81.54         4166.1     7319.7     189.53     0.0002305 \n",
      "-4.667 10612.5    6325.5     1.678        0.6266       81.54         4166.1     7265.6     187.77     0.00022817\n",
      "-3.333 10612.5    6325.5     1.678        0.6266       81.54         4166.1     7114.9     183.28     0.00022096\n",
      "-2.0   10612.5    6325.5     1.678        0.6266       81.54         4166.1     7072.9     182.57     0.00021698\n",
      "-0.6667 10612.5    6325.5     1.678        0.6266       81.54         4166.1     7076.0     182.76     0.00021694\n",
      "0.6667 9299.05    3677.1     2.529        0.7166       81.63         4775.6     6835.1     180.49     0.00021723\n",
      "2.0    6384.08    870.91     7.33         0.88         74.95         4943.4     5396.5     149.14     0.0002058 \n",
      "3.333  3287.54    128.46     25.59        0.9624       56.25         3044.9     3040.8     82.704     0.0001221 \n",
      "4.667  1084.71    17.285     62.75        0.9843       32.68         1050.9     1038.8     26.457     5.2382e-05\n",
      "6.0    204.072    7.2193e-06 2.827e+07    1.0          14.29         204.07     177.81     3.3415     7.1455e-06\n"
     ]
    }
   ],
   "source": [
    "print(\"{:<6} {:<10} {:<10} {:<12} {:<12} {:<13} {:<10} {:<10} {:<10} {:<10}\".format(\"BDT>\", \"Signal\", \"Background\", \"S/B\" ,\"S/S+B\", \"S/sqrt(S+B)\", \"S3/(S+B)2\",\"FOM\", \"Q\", \"Q_Bd\"))\n",
    "cuts.sort()\n",
    "for cut in cuts:\n",
    "  performance = cut_to_performance[cut]\n",
    "  print(\"{:<6.4} {:<10.6} {:<10.5} {:<12.4} {:<12.4} {:<13.4} {:<10.5} {:<10.5} {:<10.5} {:<10.5}\".format(cut,\n",
    "                                                                              performance[\"sig_yield\"],\n",
    "                                                                              performance[\"bkg_yield\"],\n",
    "                                                                              performance[\"s_over_b\"],\n",
    "                                                                              performance[\"s_over_spb\"],\n",
    "                                                                              performance[\"s_over_sqrt_spb\"],\n",
    "                                                                              performance[\"s3_over_spb2\"],\n",
    "                                                                              performance[\"EffSigSize\"],\n",
    "                                                                              performance[\"BsFOM\"],\n",
    "                                                                              performance[\"BdFOM\"]))"
   ]
  },
  {
   "cell_type": "markdown",
   "metadata": {},
   "source": [
    "### Print the FOMs"
   ]
  },
  {
   "cell_type": "code",
   "execution_count": 18,
   "metadata": {
    "collapsed": false
   },
   "outputs": [
    {
     "name": "stdout",
     "output_type": "stream",
     "text": [
      "BDT>   EffSig   TagPow   D      eff_t   BdFOM_p  TimPow   BsFOM_p    BsFOM_pTag   BsFOM_pTim   BsFOM      BdFOM       \n",
      "-6.0   7319.67  0.0259   0.0905 0.286   0.010776 0.9999   7318.98    7318.98      189.525      189.525    0.000230499 \n",
      "-4.67  7265.58  0.0258   0.0904 0.286   0.010661 0.9999   7264.9     7264.9       187.767      187.767    0.000228171 \n",
      "-3.33  7114.86  0.0258   0.0902 0.286   0.010393 0.9999   7114.19    7114.19      183.285      183.285    0.000220962 \n",
      "-2.0   7072.93  0.0258   0.0903 0.286   0.010362 0.9999   7072.26    7072.26      182.57       182.57     0.00021698  \n",
      "-0.667 7076.04  0.0258   0.0904 0.286   0.010375 0.9999   7075.37    7075.37      182.763      182.763    0.000216943 \n",
      "0.667  6835.09  0.0264   0.0918 0.288   0.010367 0.9999   6834.35    6834.35      180.494      180.494    0.00021723  \n",
      "2.0    5396.51  0.0276   0.0931 0.297   0.0080686 0.9998   5395.67    5395.67      149.137      149.137    0.000205796 \n",
      "3.33   3040.79  0.0272   0.0911 0.299   0.005489 0.9997   3039.87    3039.87      82.7045      82.7045    0.000122103 \n",
      "4.67   1038.84  0.0255   0.0859 0.296   0.00212  0.9991   1037.88    1037.88      26.4574      26.4574    5.23822e-05 \n",
      "6.0    177.808  0.0188   0.0725 0.259   0.00038109 0.9951   176.94     176.94       3.34154      3.34154    7.14551e-06 \n"
     ]
    }
   ],
   "source": [
    "print(\"{:<6} {:<8} {:<8} {:<6} {:<7} {:<8} {:<8} {:<10} {:<12} {:<12} {:<10} {:<12}\".format(\"BDT>\",\n",
    "                                                               \"EffSig\",\n",
    "                                                               \"TagPow\",\n",
    "                                                               \"D\",\n",
    "                                                               \"eff_t\",\n",
    "                                                               \"BdFOM_p\",\n",
    "                                                               \"TimPow\",\n",
    "                                                               \"BsFOM_p\",\n",
    "                                                               \"BsFOM_pTag\" ,\n",
    "                                                               \"BsFOM_pTim\",\n",
    "                                                               \"BsFOM\",\n",
    "                                                               \"BdFOM\"))\n",
    "cuts.sort()\n",
    "for cut in cuts:\n",
    "  performance = cut_to_performance[cut]\n",
    "  print(\"{:<6.3} {:<8.6} {:<8.3} {:<6.3} {:<7.3} {:<8.5} {:<8.4} {:<10.6} {:<12.6} {:<12.6} {:<10.6} {:<12.6}\".format(cut,\n",
    "                                                                             performance[\"EffSigSize\"],\n",
    "                                                                             performance[\"TaggingPower\"],\n",
    "                                                                             performance[\"TaggingDavg\"],\n",
    "                                                                             performance[\"TaggingEff\"],\n",
    "                                                                             performance[\"BdFOM_p\"],\n",
    "                                                                             performance[\"TimeresPower\"],\n",
    "                                                                             performance[\"BsFOM_p\"],\n",
    "                                                                             performance[\"BsFOM_pTag\"],\n",
    "                                                                             performance[\"BsFOM_pTim\"],\n",
    "                                                                             performance[\"BsFOM\"],\n",
    "                                                                             performance[\"BdFOM\"]))"
   ]
  },
  {
   "cell_type": "markdown",
   "metadata": {},
   "source": [
    "### Functions to unpack dictionaries (paramters and cuts)"
   ]
  },
  {
   "cell_type": "code",
   "execution_count": 19,
   "metadata": {
    "collapsed": false
   },
   "outputs": [],
   "source": [
    "import numpy as np\n",
    "def unpack_parameter_to_nparray(parameter, cut_to_shape):\n",
    "    x = np.array(list(cut_to_shape.keys()))\n",
    "    x.sort()\n",
    "    y_value = np.array([cut_to_shape[i][parameter+\"_value\"] for i in x])\n",
    "    y_errlo = np.array([cut_to_shape[i][parameter+\"_errlo\"] for i in x])\n",
    "    y_errhi = np.array([cut_to_shape[i][parameter+\"_errhi\"] for i in x])\n",
    "    y_errors= abs(np.vstack([y_errlo,y_errhi]))\n",
    "    return x, y_value, y_errors\n",
    "\n",
    "def unpack_cut_dict(cut_dict, normalize=True):\n",
    "    cuts = np.array(list(cut_dict.keys()))\n",
    "    cuts.sort()\n",
    "    \n",
    "    new_dict = {}\n",
    "    for cut in cuts:\n",
    "        parameters_dict = cut_dict[cut]\n",
    "        for parameter, value in parameters_dict.items():\n",
    "            if parameter in new_dict:\n",
    "                new_dict[parameter].append(value)\n",
    "            else:\n",
    "                new_dict[parameter] = [value]\n",
    "    \n",
    "    for parameter, values in new_dict.items():\n",
    "        new_dict[parameter] = np.array(values)\n",
    "        if normalize:\n",
    "            new_dict[parameter] = values/np.max(np.abs(values))\n",
    "    \n",
    "    return cuts, new_dict\n",
    "\n",
    "x, ys = unpack_cut_dict(cut_to_performance)\n",
    "for parameter, values in ys.items():\n",
    "    if \"value\" in parameter:\n",
    "        print(values)\n",
    "        y_errlo = np.array(ys[parameter.replace(\"_value\",\"_errlo\")])\n",
    "        y_errhi = np.array(ys[parameter.replace(\"_value\",\"_errhi\")])\n",
    "        y_errors= abs(np.vstack([y_errlo,y_errhi]))\n",
    "        plt.errorbar(x,values,yerr=y_errors,marker='.',linestyle='', label='sigma')\n",
    "        plt.xlabel(parameter)\n",
    "        plotname = parameter + '.pdf'\n",
    "        singleplot_file = os.path.join(plot_dir, plotname)\n",
    "        plt.savefig(singleplot_file)\n",
    "        plt.show()"
   ]
  },
  {
   "cell_type": "markdown",
   "metadata": {},
   "source": [
    "### Plot FOMs"
   ]
  },
  {
   "cell_type": "code",
   "execution_count": 28,
   "metadata": {
    "collapsed": false
   },
   "outputs": [
    {
     "data": {
      "image/png": "[encoded data removed]",
      "text/plain": [
       "<matplotlib.figure.Figure at 0x7f05dff43908>"
      ]
     },
     "metadata": {},
     "output_type": "display_data"
    }
   ],
   "source": [
    "import random\n",
    "import seaborn as sns\n",
    "sns.set_style(\"whitegrid\")\n",
    "sns.set_style(\"whitegrid\", {\"legend.frameon\": True})\n",
    "\n",
    "x, ys = unpack_cut_dict(cut_to_performance)\n",
    "shift = 0.0\n",
    "\n",
    "foms_to_plot = {}\n",
    "#foms_to_plot[\"TaggingPower\"] = r\"FOM ${}_{\\varepsilon D^2}$\"\n",
    "#foms_to_plot[\"TimeresPower\"] = \"FOM ${}_{\\sigma_{t}}$\"\n",
    "foms_to_plot[\"EffSigSize\"]   = \"FOM ${}_{S_{\\mathrm{eff}}}$\"\n",
    "#foms_to_plot[\"BsFOM\"]        = \"FOM ${}_{B^0_s}$\"\n",
    "#foms_to_plot[\"BdFOM_p\"]      = \"FOM ${}_{B^0_d}$\"\n",
    "#foms_to_plot[\"BdFOM\"]        = \"FOM\"\n",
    "\n",
    "#for parameter, values in ys.items():\n",
    "for parameter in foms_to_plot:\n",
    "    values=ys[parameter]\n",
    "    #if \"FOM\" in parameter or \"EffSig\" in parameter or \"s3_over_spb2\" in parameter\\\n",
    "    #or \"TaggingPower\" in parameter or \"TimeresPower\" in parameter:\n",
    "    if parameter in foms_to_plot:\n",
    "        plt.errorbar(x,values+random.random()*shift,marker='.',linestyle='-',label=foms_to_plot[parameter])\n",
    "        plt.xlabel(\"BDTCut\")\n",
    "\n",
    "plt.gca().set_ylim(0.7,1.02)\n",
    "plt.gca().set_xlim(-6,6)\n",
    "plt.legend(loc='best')\n",
    "plt.savefig(subdir + '/FOMS.pdf')\n",
    "plt.show()"
   ]
  },
  {
   "cell_type": "code",
   "execution_count": 27,
   "metadata": {
    "collapsed": false
   },
   "outputs": [
    {
     "data": {
      "text/plain": [
       "1"
      ]
     },
     "execution_count": 27,
     "metadata": {},
     "output_type": "execute_result"
    }
   ],
   "source": [
    "len(sig_num)"
   ]
  }
 ],
 "metadata": {
  "kernelspec": {
   "display_name": "Python 3",
   "language": "python",
   "name": "python3"
  },
  "language_info": {
   "codemirror_mode": {
    "name": "ipython",
    "version": 3
   },
   "file_extension": ".py",
   "mimetype": "text/x-python",
   "name": "python",
   "nbconvert_exporter": "python",
   "pygments_lexer": "ipython3",
   "version": "3.4.4"
  }
 },
 "nbformat": 4,
 "nbformat_minor": 0
}
