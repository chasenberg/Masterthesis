{
 "cells": [
  {
   "cell_type": "markdown",
   "metadata": {},
   "source": [
    "## Notebook for 1D BDT scan and calculating FOMs in Bd2psi2SKS on data\n"
   ]
  },
  {
   "cell_type": "code",
   "execution_count": 99,
   "metadata": {
    "collapsed": false
   },
   "outputs": [
    {
     "name": "stdout",
     "output_type": "stream",
     "text": [
      "The autoreload extension is already loaded. To reload it, use:\n",
      "  %reload_ext autoreload\n"
     ]
    }
   ],
   "source": [
    "%matplotlib inline\n",
    "%load_ext autoreload\n",
    "%autoreload 2\n",
    "import sys\n",
    "sys.path.append('/home/chasenberg/repos/')\n",
    "import os\n",
    "import sys\n",
    "import ROOT\n",
    "from ROOT import TFile, TH1D, TH2D, TCanvas, gStyle, TLine, TTree\n",
    "from ROOT import (RooArgSet, RooRealVar, RooDataSet, RooPlot, RooFit, RooStats, RooArgList)\n",
    "import root_pandas as rp\n",
    "import root_numpy as ry \n",
    "\n",
    "import math\n",
    "import itertools\n",
    "import numpy as np\n",
    "import matplotlib as mpl\n",
    "import matplotlib.pyplot as plt\n",
    "from matplotlib.backends.backend_pdf import PdfPages\n",
    "\n",
    "from root_pandas import read_root\n",
    "import pandas as pd\n",
    "\n",
    "sys.path.append('/home/vmueller/repos')\n",
    "from dopy.doroot.root_utils import read_roodataset_from_tree, plot_pulls\n",
    "from dopy.doplot.plotting import Plotter, Plot                "
   ]
  },
  {
   "cell_type": "code",
   "execution_count": 100,
   "metadata": {
    "collapsed": false
   },
   "outputs": [],
   "source": [
    "\n",
    "from ROOT import RooRealVar, RooExponential, RooExtendPdf, RooAddPdf, RooArgList, RooGaussian\n",
    "from ROOT import RooFormulaVar\n",
    "from ROOT import gSystem\n",
    "gSystem.Load('libRooFit.so')\n",
    "gSystem.Load('/home/chasenberg/repos/dopy/dolib/CustomShapes/libKll')\n",
    "from ROOT import RooIpatia2"
   ]
  },
  {
   "cell_type": "markdown",
   "metadata": {},
   "source": [
    "### Read ROOT file"
   ]
  },
  {
   "cell_type": "code",
   "execution_count": 101,
   "metadata": {
    "collapsed": false
   },
   "outputs": [],
   "source": [
    "dataset_file_name = '/fhgfs/users/chasenberg/mc/2015_2016_merged/jpsimumuks/wrong_pv/Bd2JpsimumuKS_mc_2015_2016_selected.root'"
   ]
  },
  {
   "cell_type": "code",
   "execution_count": 102,
   "metadata": {
    "collapsed": true
   },
   "outputs": [],
   "source": [
    "branches = [\n",
    "            'B0_TAGOMEGA_OS',\n",
    "            'B0_TAGDECISION_OS',\n",
    "            'B0_TAU',\n",
    "            'B0_TAUERR',\n",
    "            'Delta_TAU',\n",
    "            'B0_FitPVConst_MinIPCHI2anyPV_flat',\n",
    "            'idxRunNumber',\n",
    "            'idxEventNumber'\n",
    "            ]"
   ]
  },
  {
   "cell_type": "code",
   "execution_count": 103,
   "metadata": {
    "collapsed": false
   },
   "outputs": [],
   "source": [
    "tree_mc = 'Bd2JpsiKs'\n",
    "signal_dataframe_wrongPV  = rp.read_root(dataset_file_name,key=tree_mc,columns=branches,where='', flatten=False)\n",
    "signal_dataframe_wrongPV  = signal_dataframe_wrongPV.replace([np.inf, -np.inf], np.nan)\n",
    "signal_dataframe_wrongPV  = signal_dataframe_wrongPV.dropna()"
   ]
  },
  {
   "cell_type": "code",
   "execution_count": 104,
   "metadata": {
    "collapsed": true
   },
   "outputs": [],
   "source": [
    "#signal_dataframe_wrongPV['B0_TAUERR'] = signal_dataframe_wrongPV['Delta_TAU']"
   ]
  },
  {
   "cell_type": "code",
   "execution_count": 105,
   "metadata": {
    "collapsed": false
   },
   "outputs": [
    {
     "data": {
      "text/plain": [
       "'test_1 = pd.DataFrame()\\ntest_2 = pd.DataFrame()\\ntest_3 = pd.DataFrame()\\nfor row in signal_dataframe_wrongPV.itertuples():\\n    print(\"yes\")\\npv_num = signal_dataframe_wrongPV[\\'runNumber\\'].unique()\\npv_num = np.array(pv_num)\\nprint(len(pv_num))\\nfor nums in pv_num:\\n    num = str(nums)\\n    test_1 = signal_dataframe_wrongPV.query(\\'runNumber\\'+\\'==\\'+num)\\n    evt_num = test_1[\\'eventNumber\\'].unique()\\n    evt_num = np.array(evt_num)\\n    print(len(evt_num))\\n    for evts in evt_num:\\n        print(len(evt_num))\\n        evt = str(evts)\\n        #print(test_1.query(\\'eventNumber\\'+\\'==\\'+evt).shape).sample(n=1)\\n        test_3.append(test_1[test_1[\\'eventNumber\\']==evts]).sample(n=1) \\n    for evts in evt_num:\\n        print(len(evt_num))\\n        evt = str(evts)\\n        #print(test_1.query(\\'eventNumber\\'+\\'==\\'+evt).shape).sample(n=1)\\n        test_3.append(test_1[test_1[\\'eventNumber\\']==evts]).sample(n=1)'"
      ]
     },
     "execution_count": 105,
     "metadata": {},
     "output_type": "execute_result"
    }
   ],
   "source": [
    "'''test_1 = pd.DataFrame()\n",
    "test_2 = pd.DataFrame()\n",
    "test_3 = pd.DataFrame()\n",
    "for row in signal_dataframe_wrongPV.itertuples():\n",
    "    print(\"yes\")\n",
    "pv_num = signal_dataframe_wrongPV['runNumber'].unique()\n",
    "pv_num = np.array(pv_num)\n",
    "print(len(pv_num))\n",
    "for nums in pv_num:\n",
    "    num = str(nums)\n",
    "    test_1 = signal_dataframe_wrongPV.query('runNumber'+'=='+num)\n",
    "    evt_num = test_1['eventNumber'].unique()\n",
    "    evt_num = np.array(evt_num)\n",
    "    print(len(evt_num))\n",
    "    for evts in evt_num:\n",
    "        print(len(evt_num))\n",
    "        evt = str(evts)\n",
    "        #print(test_1.query('eventNumber'+'=='+evt).shape).sample(n=1)\n",
    "        test_3.append(test_1[test_1['eventNumber']==evts]).sample(n=1) \n",
    "    for evts in evt_num:\n",
    "        print(len(evt_num))\n",
    "        evt = str(evts)\n",
    "        #print(test_1.query('eventNumber'+'=='+evt).shape).sample(n=1)\n",
    "        test_3.append(test_1[test_1['eventNumber']==evts]).sample(n=1)'''"
   ]
  },
  {
   "cell_type": "code",
   "execution_count": 106,
   "metadata": {
    "collapsed": false
   },
   "outputs": [],
   "source": [
    "#test.shape,signal_dataframe_wrongPV.query('idxPV==0').shape,signal_dataframe_wrongPV.shape"
   ]
  },
  {
   "cell_type": "markdown",
   "metadata": {},
   "source": [
    "### Function to calculate the FOMs"
   ]
  },
  {
   "cell_type": "markdown",
   "metadata": {},
   "source": [
    "### Configure  and define cuts "
   ]
  },
  {
   "cell_type": "code",
   "execution_count": 113,
   "metadata": {
    "collapsed": false
   },
   "outputs": [],
   "source": [
    "lowerbound=5220 # rather arbitrary signal window definition\n",
    "upperbound=5450\n",
    "#B0_FitDaughtersConst_M.setRange('SIGREGION',lowerbound,upperbound)\n",
    "\n",
    "subdir = '/home/chasenberg/plots/wrongpv_cuttuning'\n",
    "plot_dir    = os.path.join(subdir, 'plots')\n",
    "results_dir = os.path.join(subdir, 'results')\n",
    "plot_file   = os.path.join(plot_dir, 'all_plots.pdf')\n",
    "\n",
    "\n",
    "if not os.path.exists(plot_dir):\n",
    "    os.makedirs(plot_dir)\n",
    "if not os.path.exists(results_dir):\n",
    "    os.makedirs(results_dir)\n",
    "    \n",
    "mass_var_name = 'B0_FitDaughtersConst_M'\n",
    "cuttype = 'B0_FitPVConst_MinIPCHI2anyPV_flat'#'B0_TAUERR'#\n",
    "\n",
    "cuts = np.linspace(0,20,20)\n",
    "#cuts = [-0.05]\n",
    "cuts_for_which_to_store_sdata = []   \n",
    "\n",
    "num_sig = []\n",
    "num_bkg = []\n",
    "num_all = []\n",
    "\n",
    "cut_to_performance = {} \n",
    "cut_to_shape = {}\n",
    "\n",
    "perform_fit = True\n",
    "do_splot    = True\n",
    "postfix = ''\n",
    "final_params_file = None\n",
    "oldParameters = None\n",
    "final_model = None"
   ]
  },
  {
   "cell_type": "markdown",
   "metadata": {},
   "source": [
    "### Calculate FOM"
   ]
  },
  {
   "cell_type": "code",
   "execution_count": 114,
   "metadata": {
    "collapsed": true
   },
   "outputs": [],
   "source": [
    "def calculate_foms(data_fit_cut): \n",
    "    import math\n",
    "    \n",
    "    signal_sum    = 1\n",
    "    cbkg_sum      = 0\n",
    "    signal_sumw2  = 1\n",
    "    \n",
    "    signal_sum_tag_decis = 0 # count two ways to check consistency\n",
    "    signal_sum_tag_omega = 1\n",
    "\n",
    "    D_bs_perfect  = 0\n",
    "    D_bs_perftagg = 0\n",
    "    D_bs_perfterr = 0\n",
    "    D_bs          = 0\n",
    "    D_bd          = 0\n",
    "    D_bd_perfect  = 0\n",
    "    Q_bs_perfect  = 0\n",
    "    Q_bs_perftagg = 0\n",
    "    Q_bs_perfterr = 0\n",
    "    Q_bs          = 0\n",
    "    Q_bd          = 0\n",
    "    Q_bd_perfect  = 0\n",
    "    \n",
    "    delta_m = 0.5065 \n",
    "    S = 0.691 #sin2beta value (average from HFAG)\n",
    "    \n",
    "    tagging_power = 0\n",
    "    timeres_power = 0\n",
    "    \n",
    "\n",
    "    \n",
    "    tagomega = np.array(data_fit_cut['B0_TAGOMEGA_OS'])\n",
    "    tag1 = np.array(data_fit_cut['B0_TAGDECISION_OS'])\n",
    "    time = np.array(data_fit_cut['B0_TAU']) \n",
    "    error = np.array(data_fit_cut['B0_TAUERR'])\n",
    "    \n",
    "    for i in range(data_fit_cut.shape[0]):\n",
    "        signal_weight =  1 \n",
    "        cbkg_weight   =  1 \n",
    "        mistag        =  tagomega[i] \n",
    "        tag           =  tag1[i]\n",
    "        decaytime     =  time[i]\n",
    "        timeerror     =  error[i]\n",
    "\n",
    "        \n",
    "        signal_sum    += signal_weight\n",
    "        signal_sumw2  += signal_weight**2\n",
    "        cbkg_sum      += cbkg_weight\n",
    "\n",
    "        \n",
    "        nominator_bd_term   = math.sin(delta_m * decaytime)\n",
    "        denominator_bd_term = 1 + tag * (1 - 2 * mistag) * S * math.exp(-0.5*(delta_m*timeerror)**2)*math.sin(delta_m*decaytime)       \n",
    "        bd_term = (nominator_bd_term/denominator_bd_term)**2\n",
    "        \n",
    "        #case of perfect flavour tagging and no time-dilution effect \n",
    "        denominator_bd_term_perfect = 1 + tag * 1 * S * 1 *math.sin(delta_m*decaytime)\n",
    "        bd_term_perfect = (nominator_bd_term/denominator_bd_term_perfect)**2\n",
    "        \n",
    "        tagging_dilution  = (1 - 2*mistag)**2\n",
    "        timeerror_dilution = math.exp(-(delta_m*timeerror)**2)\n",
    "\n",
    "        timeres_power    += timeerror_dilution*signal_weight\n",
    "        tagging_power    += tagging_dilution*signal_weight\n",
    "        \n",
    "        D_bs_perfect      += 1                * 1                  * 1                \n",
    "        D_bs_perftagg     += 1                * timeerror_dilution * 1                \n",
    "        D_bs_perfterr     += tagging_dilution * 1                  * 1                \n",
    "        D_bs              += tagging_dilution * timeerror_dilution * 1               \n",
    "        D_bd              += tagging_dilution * timeerror_dilution * bd_term          \n",
    "        D_bd_perfect      += 1                * 1                  * bd_term_perfect  \n",
    "\n",
    "    effsigsize = signal_sum**2 / signal_sumw2\n",
    "    \n",
    "     \n",
    "    tagging_dilution_avg_tagged = tagging_power / signal_sum_tag_omega\n",
    "    tagging_efficiency = signal_sum_tag_omega / signal_sum\n",
    "    \n",
    "    tagging_power /= signal_sum\n",
    "    timeres_power /= signal_sum\n",
    "\n",
    "    D_bs_perfect  /= signal_sum#dataset.numEntries()\n",
    "    D_bs_perftagg /= signal_sum#dataset.numEntries()\n",
    "    D_bs_perfterr /= signal_sum#dataset.numEntries()\n",
    "    D_bs          /= signal_sum#dataset.numEntries()\n",
    "    D_bd          /= signal_sum#dataset.numEntries()\n",
    "    D_bd_perfect  /= signal_sum#dataset.numEntries()\n",
    "        \n",
    "    Q_bs_perfect  = effsigsize * D_bs_perfect #signal_sum**2 / dataset.numEntries() * D_bs_perfect\n",
    "    Q_bs_perftagg = effsigsize * D_bs_perftagg #signal_sum**2 / dataset.numEntries() * D_bs_perftagg\n",
    "    Q_bs_perfterr = effsigsize * D_bs_perfterr #signal_sum**2 / dataset.numEntries() * D_bs_perfterr\n",
    "    Q_bs          = effsigsize * D_bs #signal_sum**2 / dataset.numEntries() * D_bs\n",
    "    Q_bd          = effsigsize * D_bd #signal_sum**2 / dataset.numEntries() * D_bd\n",
    "    Q_bd_perfect  = effsigsize * D_bd_perfect #signal_sum**2 / dataset.numEntries() * D_bd\n",
    "    \n",
    "    \n",
    "    #check the X_i term\n",
    "    nominator_check = effsigsize * (nominator_bd_term**2)*signal_weight\n",
    "    nominator_check /= signal_sum\n",
    "    denominator_check = denominator_bd_term_perfect**2\n",
    "    signal_weight_check = signal_weight/signal_sum \n",
    "    \n",
    "    fomname_to_value = {\n",
    "        'EffSigSize'   : effsigsize,\n",
    "        'TaggingPower' : tagging_power,\n",
    "        'TaggingDavg'  : tagging_dilution_avg_tagged,\n",
    "        'TaggingEff'   : tagging_efficiency,\n",
    "        'TimeresPower' : timeres_power,\n",
    "        'BsFOM_p'      : Q_bs_perfect,\n",
    "        'BsFOM_pTim'   : Q_bs_perfterr,\n",
    "        'BsFOM_pTag'   : Q_bs_perftagg,\n",
    "        'BsFOM'        : Q_bs,\n",
    "        'BdFOM'        : Q_bd,\n",
    "        'BdFOM_p'      : Q_bd_perfect,\n",
    "        'X_nominator'  : nominator_check,\n",
    "        'X_denominator': denominator_check,\n",
    "        'signal_weight_check': signal_weight_check,\n",
    "        'signal_sum'   : signal_sum,\n",
    "        'signal_weight': signal_weight\n",
    "    }\n",
    "    return fomname_to_value"
   ]
  },
  {
   "cell_type": "code",
   "execution_count": 123,
   "metadata": {
    "collapsed": false,
    "scrolled": true
   },
   "outputs": [
    {
     "name": "stdout",
     "output_type": "stream",
     "text": [
      "INFO: Starting to test cut B0_FitPVConst_MinIPCHI2anyPV_flat>0.0\n",
      "INFO: Call CandidateSelectionGrimReaper\n",
      "Wait for GrimReaper\n",
      "GrimReaper hopefully finished\n",
      "INFO: Read selected data\n",
      "INFO: Start Calculation\n",
      "INFO: Finish Calculation\n",
      "INFO: Starting to test cut B0_FitPVConst_MinIPCHI2anyPV_flat>1.0526315789473684\n",
      "INFO: Call CandidateSelectionGrimReaper\n",
      "Wait for GrimReaper\n",
      "GrimReaper hopefully finished\n",
      "INFO: Read selected data\n",
      "INFO: Start Calculation\n",
      "INFO: Finish Calculation\n",
      "INFO: Starting to test cut B0_FitPVConst_MinIPCHI2anyPV_flat>2.1052631578947367\n",
      "INFO: Call CandidateSelectionGrimReaper\n",
      "Wait for GrimReaper\n",
      "GrimReaper hopefully finished\n",
      "INFO: Read selected data\n",
      "INFO: Start Calculation\n",
      "INFO: Finish Calculation\n",
      "INFO: Starting to test cut B0_FitPVConst_MinIPCHI2anyPV_flat>3.1578947368421053\n",
      "INFO: Call CandidateSelectionGrimReaper\n",
      "Wait for GrimReaper\n",
      "GrimReaper hopefully finished\n",
      "INFO: Read selected data\n",
      "INFO: Start Calculation\n",
      "INFO: Finish Calculation\n",
      "INFO: Starting to test cut B0_FitPVConst_MinIPCHI2anyPV_flat>4.2105263157894735\n",
      "INFO: Call CandidateSelectionGrimReaper\n",
      "Wait for GrimReaper\n",
      "GrimReaper hopefully finished\n",
      "INFO: Read selected data\n",
      "INFO: Start Calculation\n",
      "INFO: Finish Calculation\n",
      "INFO: Starting to test cut B0_FitPVConst_MinIPCHI2anyPV_flat>5.263157894736842\n",
      "INFO: Call CandidateSelectionGrimReaper\n",
      "Wait for GrimReaper\n",
      "GrimReaper hopefully finished\n",
      "INFO: Read selected data\n",
      "INFO: Start Calculation\n",
      "INFO: Finish Calculation\n",
      "INFO: Starting to test cut B0_FitPVConst_MinIPCHI2anyPV_flat>6.315789473684211\n",
      "INFO: Call CandidateSelectionGrimReaper\n",
      "Wait for GrimReaper\n",
      "GrimReaper hopefully finished\n",
      "INFO: Read selected data\n",
      "INFO: Start Calculation\n",
      "INFO: Finish Calculation\n",
      "INFO: Starting to test cut B0_FitPVConst_MinIPCHI2anyPV_flat>7.368421052631579\n",
      "INFO: Call CandidateSelectionGrimReaper\n",
      "Wait for GrimReaper\n",
      "GrimReaper hopefully finished\n",
      "INFO: Read selected data\n",
      "INFO: Start Calculation\n",
      "INFO: Finish Calculation\n",
      "INFO: Starting to test cut B0_FitPVConst_MinIPCHI2anyPV_flat>8.421052631578947\n",
      "INFO: Call CandidateSelectionGrimReaper\n",
      "Wait for GrimReaper\n",
      "GrimReaper hopefully finished\n",
      "INFO: Read selected data\n",
      "INFO: Start Calculation\n",
      "INFO: Finish Calculation\n",
      "INFO: Starting to test cut B0_FitPVConst_MinIPCHI2anyPV_flat>9.473684210526315\n",
      "INFO: Call CandidateSelectionGrimReaper\n",
      "Wait for GrimReaper\n",
      "GrimReaper hopefully finished\n",
      "INFO: Read selected data\n",
      "INFO: Start Calculation\n",
      "INFO: Finish Calculation\n",
      "INFO: Starting to test cut B0_FitPVConst_MinIPCHI2anyPV_flat>10.526315789473683\n",
      "INFO: Call CandidateSelectionGrimReaper\n",
      "Wait for GrimReaper\n",
      "GrimReaper hopefully finished\n",
      "INFO: Read selected data\n",
      "INFO: Start Calculation\n",
      "INFO: Finish Calculation\n",
      "INFO: Starting to test cut B0_FitPVConst_MinIPCHI2anyPV_flat>11.578947368421051\n",
      "INFO: Call CandidateSelectionGrimReaper\n",
      "Wait for GrimReaper\n",
      "GrimReaper hopefully finished\n",
      "INFO: Read selected data\n",
      "INFO: Start Calculation\n",
      "INFO: Finish Calculation\n",
      "INFO: Starting to test cut B0_FitPVConst_MinIPCHI2anyPV_flat>12.631578947368421\n",
      "INFO: Call CandidateSelectionGrimReaper\n",
      "Wait for GrimReaper\n",
      "GrimReaper hopefully finished\n",
      "INFO: Read selected data\n",
      "INFO: Start Calculation\n",
      "INFO: Finish Calculation\n",
      "INFO: Starting to test cut B0_FitPVConst_MinIPCHI2anyPV_flat>13.68421052631579\n",
      "INFO: Call CandidateSelectionGrimReaper\n",
      "Wait for GrimReaper\n",
      "GrimReaper hopefully finished\n",
      "INFO: Read selected data\n",
      "INFO: Start Calculation\n",
      "INFO: Finish Calculation\n",
      "INFO: Starting to test cut B0_FitPVConst_MinIPCHI2anyPV_flat>14.736842105263158\n",
      "INFO: Call CandidateSelectionGrimReaper\n",
      "Wait for GrimReaper\n",
      "GrimReaper hopefully finished\n",
      "INFO: Read selected data\n",
      "INFO: Start Calculation\n",
      "INFO: Finish Calculation\n",
      "INFO: Starting to test cut B0_FitPVConst_MinIPCHI2anyPV_flat>15.789473684210526\n",
      "INFO: Call CandidateSelectionGrimReaper\n",
      "Wait for GrimReaper\n",
      "GrimReaper hopefully finished\n",
      "INFO: Read selected data\n",
      "INFO: Start Calculation\n",
      "INFO: Finish Calculation\n",
      "INFO: Starting to test cut B0_FitPVConst_MinIPCHI2anyPV_flat>16.842105263157894\n",
      "INFO: Call CandidateSelectionGrimReaper\n",
      "Wait for GrimReaper\n",
      "GrimReaper hopefully finished\n",
      "INFO: Read selected data\n",
      "INFO: Start Calculation\n",
      "INFO: Finish Calculation\n",
      "INFO: Starting to test cut B0_FitPVConst_MinIPCHI2anyPV_flat>17.894736842105264\n",
      "INFO: Call CandidateSelectionGrimReaper\n",
      "Wait for GrimReaper\n",
      "GrimReaper hopefully finished\n",
      "INFO: Read selected data\n",
      "INFO: Start Calculation\n",
      "INFO: Finish Calculation\n",
      "INFO: Starting to test cut B0_FitPVConst_MinIPCHI2anyPV_flat>18.94736842105263\n",
      "INFO: Call CandidateSelectionGrimReaper\n",
      "Wait for GrimReaper\n",
      "GrimReaper hopefully finished\n",
      "INFO: Read selected data\n",
      "INFO: Start Calculation\n",
      "INFO: Finish Calculation\n",
      "INFO: Starting to test cut B0_FitPVConst_MinIPCHI2anyPV_flat>20.0\n",
      "INFO: Call CandidateSelectionGrimReaper\n",
      "Wait for GrimReaper\n",
      "GrimReaper hopefully finished\n",
      "INFO: Read selected data\n",
      "INFO: Start Calculation\n",
      "INFO: Finish Calculation\n"
     ]
    }
   ],
   "source": [
    "from ROOT import RooArgList\n",
    "import subprocess, os\n",
    "import time\n",
    "\n",
    "x=None\n",
    "for cut in cuts:\n",
    "    print('INFO: Starting to test cut ' + '{0}>{1}'.format(cuttype,cut), flush=True)\n",
    "    data_fit_cut = signal_dataframe_wrongPV.query('{0}>{1}'.format(cuttype,cut)) #data_after_import.reduce('{0}>{1}'.format(cuttype,cut))\n",
    "    data_fit_cut.to_root('/fhgfs/users/chasenberg/mc/2015_2016_merged/jpsimumuks/wrong_pv/interim.root',key=tree_mc)\n",
    "    print('INFO: Call CandidateSelectionGrimReaper', flush=True)\n",
    "    my_env = os.environ.copy()\n",
    "    my_env['PATH'] = '/usr/local/bin:/bin:/usr/bin:/usr/local/sbin:/usr/sbin:/sbin:/home/chasenberg/bin'\n",
    "    my_env['LD_LIBRARY_PATH'] = '/usr/local/lib'\n",
    "    my_env['script'] = '/home/chasenberg/repos/b2cc_sin2beta_run2/notebooks/selection'\n",
    "    my_command = 'source /lhcbsoft/LHCbSoftwareSetup.sh &&' \\\n",
    "             'lb-run DaVinci/v41r2 $BASH -c \"' \\\n",
    "             'echo $PATH && ' \\\n",
    "             'source /doosoft/InstallDooSoftware/LoadDooSoftware && CandidateSelectionGrimReaper /fhgfs/users/chasenberg/mc/2015_2016_merged/jpsimumuks/wrong_pv/interim.root Bd2JpsiKs /fhgfs/users/chasenberg/mc/2015_2016_merged/jpsimumuks/wrong_pv/interim.root Bd2JpsiKs \"idxRunNumber\"\"'                     \n",
    "    subprocess.Popen([my_command], env=my_env, shell=True)\n",
    "   # subprocess.call(('bash /home/chasenberg/repos/b2cc_sin2beta_run2/notebooks/selection/random_sel.sh'),shell=True)                      \n",
    "    print(\"Wait for GrimReaper\")\n",
    "    time.sleep(40.0)    # pause 5.5 seconds\n",
    "    print(\"GrimReaper hopefully finished\")\n",
    "    print('INFO: Read selected data', flush=True)\n",
    "    data_fit_cut = rp.read_root('/fhgfs/users/chasenberg/mc/2015_2016_merged/jpsimumuks/wrong_pv/interim.root',key=tree_mc)\n",
    "    print('INFO: Start Calculation', flush=True)\n",
    "    #print('INFO: Building Ipatia (signal) + Exp (combinatorics) + Ipatia (bs-component) model for data', flush=True) \n",
    "    #final_model = build_mass_model(B0_FitDaughtersConst_M)\n",
    "    \n",
    "    cut_to_shape[cut] = {} \n",
    "    cut_to_performance[cut] = {}\n",
    "   \n",
    "    \n",
    "    foms = calculate_foms(data_fit_cut)\n",
    "    cut_to_performance[cut].update(foms)\n",
    "    \n",
    "    print('INFO: Finish Calculation', flush=True)"
   ]
  },
  {
   "cell_type": "code",
   "execution_count": 124,
   "metadata": {
    "collapsed": true
   },
   "outputs": [],
   "source": [
    "import numpy as np\n",
    "\n",
    "def unpack_cut_dict(cut_dict, normalize=True):\n",
    "    cuts = np.array(list(cut_dict.keys()))\n",
    "    cuts.sort()\n",
    "    \n",
    "    new_dict = {}\n",
    "    for cut in cuts:\n",
    "        parameters_dict = cut_dict[cut]\n",
    "        for parameter, value in parameters_dict.items():\n",
    "            if parameter in new_dict:\n",
    "                new_dict[parameter].append(value)\n",
    "            else:\n",
    "                new_dict[parameter] = [value]\n",
    "    \n",
    "    for parameter, values in new_dict.items():\n",
    "        new_dict[parameter] = np.array(values)\n",
    "        if normalize:\n",
    "            new_dict[parameter] = values/np.max(np.abs(values))\n",
    "    \n",
    "    return cuts, new_dict\n",
    "\n",
    "x, ys = unpack_cut_dict(cut_to_performance)\n",
    "for parameter, values in ys.items():\n",
    "    if \"value\" in parameter:\n",
    "        print(values)\n",
    "        y_errlo = np.array(ys[parameter.replace(\"_value\",\"_errlo\")])\n",
    "        y_errhi = np.array(ys[parameter.replace(\"_value\",\"_errhi\")])\n",
    "        y_errors= abs(np.vstack([y_errlo,y_errhi]))\n",
    "        plt.errorbar(x,values,yerr=y_errors,marker='.',linestyle='', label='sigma')\n",
    "        plt.xlabel(parameter)\n",
    "        plotname = parameter + '.pdf'\n",
    "        singleplot_file = os.path.join(plot_dir, plotname)\n",
    "        plt.savefig(singleplot_file)\n",
    "        plt.show()"
   ]
  },
  {
   "cell_type": "markdown",
   "metadata": {},
   "source": [
    "### Plot FOMs"
   ]
  },
  {
   "cell_type": "code",
   "execution_count": 128,
   "metadata": {
    "collapsed": false,
    "scrolled": true
   },
   "outputs": [
    {
     "data": {
      "image/png": "[encoded data removed]",
      "text/plain": [
       "<matplotlib.figure.Figure at 0x7f6692c68ac8>"
      ]
     },
     "metadata": {},
     "output_type": "display_data"
    }
   ],
   "source": [
    "import random\n",
    "import seaborn as sns\n",
    "sns.set_style(\"whitegrid\")\n",
    "sns.set_style(\"whitegrid\", {\"legend.frameon\": True})\n",
    "\n",
    "x, ys = unpack_cut_dict(cut_to_performance)\n",
    "shift = 0.0\n",
    "\n",
    "foms_to_plot = {}\n",
    "#foms_to_plot[\"TaggingPower\"] = r\"Flavour Tagging\"\n",
    "foms_to_plot[\"TimeresPower\"] = \"Time resolution\"\n",
    "#foms_to_plot[\"EffSigSize\"]   = \"Effective signalsize\"\n",
    "#foms_to_plot[\"BsFOM\"]        = \"$X_i$-term\"\n",
    "#foms_to_plot[\"BdFOM_p\"]      = \"FOM ${}_{B^0_d}$\"\n",
    "#foms_to_plot[\"BdFOM\"]        = \"FOM\"\n",
    "\n",
    "#for parameter, values in ys.items():\n",
    "for parameter in foms_to_plot:\n",
    "    values=ys[parameter]\n",
    "    #if \"FOM\" in parameter or \"EffSig\" in parameter or \"s3_over_spb2\" in parameter\\\n",
    "    #or \"TaggingPower\" in parameter or \"TimeresPower\" in parameter:\n",
    "    if parameter in foms_to_plot:\n",
    "        plt.errorbar(x,values+random.random()*shift,marker='.',linestyle='-',label=foms_to_plot[parameter])\n",
    "        plt.xlabel(\"Delta_TAU cut\")\n",
    "'''values_EffSigSize=ys['EffSigSize']\n",
    "values_TimeresPower=ys['TimeresPower']\n",
    "values_TaggingPower=ys['TaggingPower']\n",
    "values_BdFOM_p=ys['BdFOM_p']\n",
    "values_BdFOM=ys['BdFOM']\n",
    "\n",
    "\n",
    "plt.errorbar(x,values_EffSigSize+random.random()*shift,marker='.',linestyle='-',label=foms_to_plot[parameter],color=current_palette[0])\n",
    "plt.errorbar(x,values_TimeresPower+random.random()*shift,marker='.',linestyle='-',label=foms_to_plot[parameter],color=current_palette[1])\n",
    "plt.errorbar(x,values_TaggingPower+random.random()*shift,marker='.',linestyle='-',label=foms_to_plot[parameter],color=current_palette[2])\n",
    "plt.errorbar(x,values_BdFOM_p+random.random()*shift,marker='.',linestyle='-',label=foms_to_plot[parameter],color=current_palette[3])\n",
    "plt.errorbar(x,values_BdFOM+random.random()*shift,marker='.',linestyle='-',label=foms_to_plot[parameter],color=current_palette[4])\n",
    "plt.xlabel(\"BDT Schnitt\")'''\n",
    "plt.gca().set_ylim(0.999,1.001)\n",
    "plt.gca().set_xlim(0.0,20)\n",
    "plt.legend(loc='best')\n",
    "plt.savefig(subdir + '/FOMS.pdf')\n",
    "plt.show()"
   ]
  },
  {
   "cell_type": "code",
   "execution_count": 126,
   "metadata": {
    "collapsed": false
   },
   "outputs": [
    {
     "name": "stdout",
     "output_type": "stream",
     "text": [
      "[ 1.          0.99977665  0.99908111  0.99839553  0.99448122  0.9938409\n",
      "  0.99333178  0.99279199  0.99222191  0.99168396  0.99131499  0.99069133\n",
      "  0.99014182  0.98965669  0.98923996  0.98882555  0.9883853   0.98783267\n",
      "  0.98711509  0.98668843]\n"
     ]
    }
   ],
   "source": [
    "print(ys['BdFOM'])"
   ]
  }
 ],
 "metadata": {
  "kernelspec": {
   "display_name": "Python 3",
   "language": "python",
   "name": "python3"
  },
  "language_info": {
   "codemirror_mode": {
    "name": "ipython",
    "version": 3
   },
   "file_extension": ".py",
   "mimetype": "text/x-python",
   "name": "python",
   "nbconvert_exporter": "python",
   "pygments_lexer": "ipython3",
   "version": "3.4.4"
  }
 },
 "nbformat": 4,
 "nbformat_minor": 0
}
