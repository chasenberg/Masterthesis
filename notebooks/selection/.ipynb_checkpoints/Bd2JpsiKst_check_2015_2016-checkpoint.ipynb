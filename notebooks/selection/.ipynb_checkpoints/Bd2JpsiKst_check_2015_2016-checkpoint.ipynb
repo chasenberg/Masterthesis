{
 "cells": [
  {
   "cell_type": "code",
   "execution_count": 1,
   "metadata": {
    "collapsed": false
   },
   "outputs": [
    {
     "name": "stderr",
     "output_type": "stream",
     "text": [
      "/opt/rh/miniconda/envs/py3root6/lib/python3.4/site-packages/sklearn/cross_validation.py:44: DeprecationWarning: This module was deprecated in version 0.18 in favor of the model_selection module into which all the refactored classes and functions are moved. Also note that the interface of the new CV iterators are different from that of this module. This module will be removed in 0.20.\n",
      "  \"This module will be removed in 0.20.\", DeprecationWarning)\n"
     ]
    }
   ],
   "source": [
    "%matplotlib inline\n",
    "%reload_ext autoreload\n",
    "%autoreload 2\n",
    "\n",
    "import os, sys, time, random\n",
    "\n",
    "from ROOT import TTree, TFile\n",
    "\n",
    "# from root_numpy import root2array, rec2array, array2root\n",
    "\n",
    "import pandas as pd\n",
    "import numpy as np\n",
    "import scipy \n",
    "import root_pandas as rp\n",
    "import root_numpy as ry \n",
    "\n",
    "import pandas.core.common as com\n",
    "from pandas.core.index import Index\n",
    "from pandas.tools import plotting\n",
    "from pandas.tools.plotting import scatter_matrix\n",
    "\n",
    "from tqdm import tqdm_notebook\n",
    "\n",
    "import numpy as np\n",
    "import matplotlib as mpl\n",
    "import matplotlib.pyplot as plt\n",
    "from matplotlib.backends.backend_pdf import PdfPages\n",
    "\n",
    "from sklearn import datasets\n",
    "from sklearn.tree import DecisionTreeClassifier\n",
    "from sklearn.ensemble import AdaBoostClassifier, GradientBoostingClassifier\n",
    "from sklearn.cross_validation import train_test_split\n",
    "from sklearn.preprocessing import Imputer, StandardScaler\n",
    "from sklearn.externals import joblib\n",
    "from sklearn.metrics import classification_report, roc_curve, auc, roc_auc_score\n",
    "\n",
    "sys.path.append('/home/chasenberg/repos/')\n",
    "sys.path.append('/home/chasenberg/repos/dopy')\n",
    "from dopy import * \n",
    "from dopy.dolearn.sklearn_utils import plot_roc_curve, plot_classifier_output, plot_correlations\n",
    "from dopy.dolearn.sklearn_utils import plot_feature_importances, plot_classifier_output, classify_unseen_data\n",
    "#from dopy.sklearn_utils import plot_bdt_vars\n",
    "from dopy.doplot.plotting import Plotter, Plot\n",
    "from dopy.doanalysis.df_utils import add_min_max, add_eta "
   ]
  },
  {
   "cell_type": "code",
   "execution_count": 36,
   "metadata": {
    "collapsed": false
   },
   "outputs": [],
   "source": [
    "\n",
    "bdt_variables = [\n",
    "'B0_FitDaughtersConst_M',\n",
    "'B0_FitDaughtersConst_chi2',   \n",
    "'B0_FitDaughtersConst_J_psi_1S_muminus_PX',\n",
    "'B0_FitDaughtersConst_J_psi_1S_muminus_PY',  \n",
    "'J_psi_1S_IP_OWNPV',\n",
    "'J_psi_1S_IPCHI2_OWNPV',   \n",
    "'B0_FitDaughtersConst_Kst_892_0_Kplus_PX',\n",
    "'B0_FitDaughtersConst_Kst_892_0_Kplus_PY',  \n",
    "'Kst_KS0_PT',\n",
    "'Kst_KS0_IP_OWNPV',\n",
    "'Kst_KS0_IPCHI2_OWNPV',  \n",
    "#'Kplus_PT',\n",
    "#'Kplus_IP_OWNPV',\n",
    "'piminus_PT',\n",
    "'piminus_IP_OWNPV',\n",
    "'piminus_IPCHI2_OWNPV',\n",
    "'muminus_PT',\n",
    "'muminus_IP_OWNPV',\n",
    "'muminus_IPCHI2_OWNPV',\n",
    "'muplus_PT',\n",
    "'muplus_IP_OWNPV',\n",
    "'muplus_IPCHI2_OWNPV',\n",
    "'B_L0MuonDecision_TOS',\n",
    "'B_Hlt1TrackMuonDecision_TOS',\n",
    "'B_Hlt2DiMuonJPsiDecision_TOS',\n",
    "'B_FitPVConst_status',\n",
    "'SigYield_sw',\n",
    "'B0_FitDaughtersConst_J_psi_1S_P0_PT'\n",
    "]\n",
    "\n",
    "\n",
    "\n",
    "\n",
    "\n",
    "bdjpsikst_variables = [\n",
    "'B_FitDaughtersConst_M',\n",
    "'B_FitDaughtersConst_chi2',   \n",
    "'B_FitDaughtersConst_J_psi_1S_muminus_PX',\n",
    "'B_FitDaughtersConst_J_psi_1S_muminus_PY',  \n",
    "'J_psi_1S_IP_OWNPV',\n",
    "'J_psi_1S_IPCHI2_OWNPV',   \n",
    "'B_FitDaughtersConst_Kst_892_0_Kplus_PX',\n",
    "'B_FitDaughtersConst_Kst_892_0_Kplus_PY',  \n",
    "'Kst_892_0_PT',\n",
    "'Kst_892_0_IP_OWNPV',\n",
    "'Kst_892_0_IPCHI2_OWNPV',  \n",
    "#'Kplus_PT',\n",
    "#'Kplus_IP_OWNPV',\n",
    "'piminus_PT',\n",
    "'piminus_IP_OWNPV',\n",
    "'piminus_IPCHI2_OWNPV',\n",
    "'muminus_PT',\n",
    "'muminus_IP_OWNPV',\n",
    "'muminus_IPCHI2_OWNPV',\n",
    "'muplus_PT',\n",
    "'muplus_IP_OWNPV',\n",
    "'muplus_IPCHI2_OWNPV',\n",
    "'B_L0MuonDecision_TOS',\n",
    "'B_Hlt1TrackMuonDecision_TOS',\n",
    "'B_Hlt2DiMuonJPsiDecision_TOS',\n",
    "'B_FitPVConst_status',\n",
    "'SigYield_sw'\n",
    "]\n",
    "\n",
    "bdjpsiks_variables = [\n",
    "'B0_FitDaughtersConst_M',\n",
    "'B0_FitDaughtersConst_chi2',\n",
    "'B0_FitDaughtersConst_J_psi_1S_P0_PX',\n",
    "'B0_FitDaughtersConst_J_psi_1S_P0_PY',\n",
    "'J_psi_1S_IP_OWNPV',\n",
    "'J_psi_1S_IPCHI2_OWNPV',     \n",
    "'B0_FitDaughtersConst_KS0_P0_PT',\n",
    "'B0_FitDaughtersConst_KS0_P1_PT',\n",
    "'KS0_PT',\n",
    "'KS0_IP_OWNPV',\n",
    "'KS0_IPCHI2_OWNPV',\n",
    "'piminus_PT',\n",
    "'piminus_IP_OWNPV',\n",
    "'piminus_IPCHI2_OWNPV',\n",
    "'muminus_PT',\n",
    "'muminus_IP_OWNPV',\n",
    "'muminus_IPCHI2_OWNPV',\n",
    "'muplus_PT',\n",
    "'muplus_IP_OWNPV',\n",
    "'muplus_IPCHI2_OWNPV',\n",
    "'B0_L0MuonDecision_TOS',\n",
    "'B0_Hlt1TrackMuonDecision_TOS',\n",
    "'B0_Hlt2DiMuonJPsiDecision_TOS',\n",
    "'B0_FitPVConst_status',\n",
    "'SigYield_sw'\n",
    "]\n",
    "\n",
    "\n",
    "\n",
    "bdjpsikst_variables_mc = [\n",
    "'B0_FitDaughtersConst_M',\n",
    "'B0_FitDaughtersConst_chi2',\n",
    "'B0_FitDaughtersConst_J_psi_1S_P0_PX',\n",
    "'B0_FitDaughtersConst_J_psi_1S_P0_PY',\n",
    "'J_psi_1S_IP_OWNPV',\n",
    "'J_psi_1S_IPCHI2_OWNPV',     \n",
    "'B0_FitDaughtersConst_Kst_892_0_P0_PT',\n",
    "'B0_FitDaughtersConst_Kst_892_0_P1_PT',  \n",
    "'Kst_892_0_PT',\n",
    "'Kst_892_0_IP_OWNPV',\n",
    "'Kst_892_0_IPCHI2_OWNPV', \n",
    "'piminus_PT',\n",
    "'piminus_IP_OWNPV',\n",
    "'piminus_IPCHI2_OWNPV',\n",
    "'muminus_PT',\n",
    "'muminus_IP_OWNPV',\n",
    "'muminus_IPCHI2_OWNPV',\n",
    "'muplus_PT',\n",
    "'muplus_IP_OWNPV',\n",
    "'muplus_IPCHI2_OWNPV',\n",
    "'B0_L0MuonDecision_TOS',\n",
    "'B0_Hlt1TrackMuonDecision_TOS',\n",
    "'B0_Hlt2DiMuonJPsiDecision_TOS',\n",
    "'B0_FitPVConst_status',\n",
    "'B0_BKGCAT'\n",
    "]\n",
    "bdjpsiks_variables_mc = [\n",
    "'B0_FitDaughtersConst_M',\n",
    "'B0_FitDaughtersConst_chi2',\n",
    "'B0_FitDaughtersConst_J_psi_1S_P0_PX',\n",
    "'B0_FitDaughtersConst_J_psi_1S_P0_PY',\n",
    "'J_psi_1S_IP_OWNPV',\n",
    "'J_psi_1S_IPCHI2_OWNPV',     \n",
    "'B0_FitDaughtersConst_KS0_P0_PT',\n",
    "'B0_FitDaughtersConst_KS0_P1_PT',\n",
    "'KS0_PT',\n",
    "'KS0_IP_OWNPV',\n",
    "'KS0_IPCHI2_OWNPV',\n",
    "'piminus_PT',\n",
    "'piminus_IP_OWNPV',\n",
    "'piminus_IPCHI2_OWNPV',\n",
    "'muminus_PT',\n",
    "'muminus_IP_OWNPV',\n",
    "'muminus_IPCHI2_OWNPV',\n",
    "'muplus_PT',\n",
    "'muplus_IP_OWNPV',\n",
    "'muplus_IPCHI2_OWNPV',\n",
    "'B0_L0MuonDecision_TOS',\n",
    "'B0_Hlt1TrackMuonDecision_TOS',\n",
    "'B0_Hlt2DiMuonJPsiDecision_TOS',\n",
    "'B0_FitPVConst_status',\n",
    "'B0_BKGCAT'\n",
    "]\n",
    "\n"
   ]
  },
  {
   "cell_type": "code",
   "execution_count": 32,
   "metadata": {
    "collapsed": false
   },
   "outputs": [
    {
     "data": {
      "text/plain": [
       "(25, 25)"
      ]
     },
     "execution_count": 32,
     "metadata": {},
     "output_type": "execute_result"
    }
   ],
   "source": [
    "len(bdjpsikst_variables), len(bdt_variables)"
   ]
  },
  {
   "cell_type": "code",
   "execution_count": 3,
   "metadata": {
    "collapsed": false
   },
   "outputs": [],
   "source": [
    "#directories and files for Bd2JpsiKst and Bd2JpsiKS\n",
    "bdjpsikst_data_dir_2015 = '/fhgfs/users/chasenberg/data/2015/jpsikstar/flattened/'\n",
    "bdjpsikst_data_file_2015 ='Bd2JpsiKst_data_2015_flattened.root'\n",
    "\n",
    "bdjpsiks_data_dir_2015 = '/fhgfs/users/chasenberg/data/2015/jpsiks/sweights/'\n",
    "bdjpsiks_data_file_2015 ='Bd2JpsiKS_data_2015_flattened_sw.root'\n",
    "\n",
    "bdjpsikst_mc_dir = '/fhgfs/users/chasenberg/mc/2016/jpsikstar/flattened/'\n",
    "bdjpsikst_mc_file = 'Bd2Jpsi2SKst_mc_2016_flattened.root'\n",
    "\n",
    "bdjpsiks_mc_dir = '/fhgfs/users/chasenberg/mc/2015/jpsiks/dimuon_stripping/flattened/'\n",
    "bdjpsiks_mc_file = 'Bd2JpsiKS_dimuon_mc_2015_flattened.root'\n",
    "\n",
    "\n",
    "bdjpsikst_data_dir_2015 = os.path.join(bdjpsikst_data_dir_2015, bdjpsikst_data_file_2015)\n",
    "bdjpsiks_data_dir_2015 = os.path.join(bdjpsiks_data_dir_2015, bdjpsiks_data_file_2015)\n",
    "bdjpsikst_mc_dir = os.path.join(bdjpsikst_mc_dir, bdjpsikst_mc_file)\n",
    "bdjpsiks_mc_dir = os.path.join(bdjpsiks_mc_dir, bdjpsiks_mc_file)"
   ]
  },
  {
   "cell_type": "code",
   "execution_count": 4,
   "metadata": {
    "collapsed": false
   },
   "outputs": [],
   "source": [
    "#criteria and information for read in mc\n",
    "bdjpsikst_cutstring_mc = 'muplus_MINIPCHI2>16&muplus_PT>500&muplus_PIDmu>0&J_psi_1S_M>3036&J_psi_1S_M<3156&Kplus_MINIPCHI2>2&Kplus_PIDK>0&Kplus_PT>500&piminus_MINIPCHI2>2&piminus_PT>500&muplus_PT>500&Kst_892_0_M>826&Kst_892_0_M<966&B0_FitDaughtersConst_IPCHI2<25&B0_FitDaughtersConst_status==0&B0_FitPVConst_status==0&idxPV==0&B0_FitDaughtersConst_M<5350&B0_FitDaughtersConst_M>5220&((B0_BKGCAT==10)|(B0_BKGCAT==50))&((B0_L0Global_TOS==1)|(B0_Hlt1DiMuonHighMassDecision_TOS==1)|(B0_Hlt2DiMuonDetachedJPsiDecision_TOS==1))'\n",
    "bdjpsikst_tree_mc = 'Bd2JpsiKst'\n",
    "\n",
    "bdjpsiks_cutstring_mc = 'B0_FitDaughtersConst_status==0&B0_FitPVConst_status==0&idxPV==0&B0_FitDaughtersConst_M<5350&B0_FitDaughtersConst_M>5220&((B0_BKGCAT==10)|(B0_BKGCAT==50))&((B0_L0Global_TOS==1)|(B0_Hlt1DiMuonHighMassDecision_TOS==1)|(B0_Hlt2DiMuonDetachedJPsiDecision_TOS==1))'\n",
    "bdjpsiks_tree_mc = 'Bd2JpsiKs'"
   ]
  },
  {
   "cell_type": "code",
   "execution_count": 5,
   "metadata": {
    "collapsed": false
   },
   "outputs": [],
   "source": [
    "#Treename for data\n",
    "bdjpsikst_tree_data = 'Bd2JpsiKst'\n",
    "bdjpsiks_tree_data = 'Bd2JpsiKs'"
   ]
  },
  {
   "cell_type": "code",
   "execution_count": 6,
   "metadata": {
    "collapsed": false
   },
   "outputs": [
    {
     "name": "stdout",
     "output_type": "stream",
     "text": [
      "/fhgfs/users/chasenberg/data/2015/jpsikstar/flattened/Bd2JpsiKst_data_2015_flattened.root\n"
     ]
    }
   ],
   "source": [
    "print(bdjpsikst_data_dir_2015)"
   ]
  },
  {
   "cell_type": "code",
   "execution_count": 7,
   "metadata": {
    "collapsed": false
   },
   "outputs": [],
   "source": [
    "#read root files\n",
    "#2015 Bd2JpsiKst\n",
    "bdjpsikst_data_2015 = rp.read_root(bdjpsikst_data_dir_2015,key=bdjpsikst_tree_data,columns=bdjpsikst_variables)\n",
    "bdjpsikst_data_2015 = bdjpsikst_data_2015.replace([np.inf, -np.inf], np.nan)\n",
    "bdjpsikst_data_2015 = bdjpsikst_data_2015.dropna()\n",
    "\n",
    "#2015 Bd2JpsiKst data\n",
    "bdjpsiks_data_2015 = rp.read_root(bdjpsiks_data_dir_2015,key=bdjpsiks_tree_data,columns=bdjpsiks_variables)\n",
    "bdjpsiks_data_2015 = bdjpsiks_data_2015.replace([np.inf, -np.inf], np.nan)\n",
    "bdjpsiks_data_2015 = bdjpsiks_data_2015.dropna()\n",
    "\n",
    "#2015 Bd2JpsiKst mc\n",
    "bdjpsikst_mc_2015 = rp.read_root(bdjpsikst_mc_dir,key=bdjpsikst_tree_mc,columns=bdjpsikst_variables_mc,where=bdjpsikst_cutstring_mc, flatten=True)\n",
    "bdjpsikst_mc_2015 = bdjpsikst_mc_2015.replace([np.inf, -np.inf], np.nan)\n",
    "bdjpsikst_mc_2015 = bdjpsikst_mc_2015.dropna()\n",
    "\n",
    "#2015 Bd2JpsiKs mc\n",
    "bdjpsiks_mc_2015 = rp.read_root(bdjpsiks_mc_dir,key='Bd2JpsiK',columns=bdjpsiks_variables_mc,where=bdjpsiks_cutstring_mc, flatten=True)\n",
    "bdjpsiks_mc_2015 = bdjpsiks_mc_2015.replace([np.inf, -np.inf], np.nan)\n",
    "bdjpsiks_mc_2015 = bdjpsiks_mc_2015.dropna()"
   ]
  },
  {
   "cell_type": "code",
   "execution_count": 43,
   "metadata": {
    "collapsed": false
   },
   "outputs": [
    {
     "data": {
      "text/plain": [
       "Index(['B0_FitDaughtersConst_M', 'B0_FitDaughtersConst_chi2',\n",
       "       'B0_FitDaughtersConst_J_psi_1S_P0_PX',\n",
       "       'B0_FitDaughtersConst_J_psi_1S_P0_PY', 'J_psi_1S_IP_OWNPV',\n",
       "       'J_psi_1S_IPCHI2_OWNPV', 'B0_FitDaughtersConst_Kst_892_0_P0_PT',\n",
       "       'B0_FitDaughtersConst_Kst_892_0_P1_PT', 'Kst_892_0_PT',\n",
       "       'Kst_892_0_IP_OWNPV', 'Kst_892_0_IPCHI2_OWNPV', 'piminus_PT',\n",
       "       'piminus_IP_OWNPV', 'piminus_IPCHI2_OWNPV', 'muminus_PT',\n",
       "       'muminus_IP_OWNPV', 'muminus_IPCHI2_OWNPV', 'muplus_PT',\n",
       "       'muplus_IP_OWNPV', 'muplus_IPCHI2_OWNPV', 'B0_L0MuonDecision_TOS',\n",
       "       'B0_Hlt1TrackMuonDecision_TOS', 'B0_Hlt2DiMuonJPsiDecision_TOS',\n",
       "       'B0_FitPVConst_status', 'B0_BKGCAT', 'mc_weight',\n",
       "       'B0_FitDaughtersConst_J_psi_1S_P0_PT'],\n",
       "      dtype='object')"
      ]
     },
     "execution_count": 43,
     "metadata": {},
     "output_type": "execute_result"
    }
   ],
   "source": [
    "bdjpsikst_mc_2015.columns"
   ]
  },
  {
   "cell_type": "code",
   "execution_count": null,
   "metadata": {
    "collapsed": true
   },
   "outputs": [],
   "source": [
    "del bdjpsikst_mc_2015['__array_index']\n",
    "del bdjpsiks_mc_2015['__array_index']"
   ]
  },
  {
   "cell_type": "code",
   "execution_count": 45,
   "metadata": {
    "collapsed": true
   },
   "outputs": [],
   "source": [
    "del bdjpsiks_mc_2015['B0_BKGCAT']\n",
    "del bdjpsikst_mc_2015['B0_BKGCAT']"
   ]
  },
  {
   "cell_type": "code",
   "execution_count": 46,
   "metadata": {
    "collapsed": false
   },
   "outputs": [],
   "source": [
    "#Make equal column names\n",
    "bdjpsikst_data_2015.columns = bdt_variables\n",
    "bdjpsiks_data_2015.columns = bdt_variables\n",
    "\n",
    "bdjpsikst_mc_2015.columns = bdt_variables\n",
    "bdjpsiks_mc_2015.columns = bdt_variables"
   ]
  },
  {
   "cell_type": "code",
   "execution_count": 47,
   "metadata": {
    "collapsed": false
   },
   "outputs": [],
   "source": [
    "#Add pseudo weights on MC dataframe\n",
    "bd2jpsikst_mc_weight = np.ones(len(bdjpsikst_mc_2015))\n",
    "bdjpsikst_mc_2015['mc_weight'] = bd2jpsikst_mc_weight\n",
    "bdjpsiks_mc_weight = np.ones(len(bdjpsiks_mc_2015))\n",
    "bdjpsiks_mc_2015['mc_weight'] = bdjpsiks_mc_weight"
   ]
  },
  {
   "cell_type": "code",
   "execution_count": null,
   "metadata": {
    "collapsed": false
   },
   "outputs": [],
   "source": [
    "'''#add symmetrical variables to dataframe\n",
    "from dopy.doplot.selection import add_log_to_dataframe, add_max_to_dataframe, add_min_to_dataframe\n",
    "#choose minimal value of both myon transversal momentums\n",
    "add_min_to_dataframe(real_df, 'B0_FitDaughtersConst_KS0_min_PT', ['B0_FitDaughtersConst_KS0_P1_PT', 'B0_FitDaughtersConst_KS0_P0_PT'])\n",
    "add_min_to_dataframe(signal_df, 'B0_FitDaughtersConst_KS0_min_PT', ['B0_FitDaughtersConst_KS0_P1_PT', 'B0_FitDaughtersConst_KS0_P0_PT'])\n",
    "\n",
    "#choose minimal value of both pions ipchi2\n",
    "add_min_to_dataframe(real_df, 'test_IP', ['B0_FitDaughtersConst_KS0_P0_IPCHI2', 'B0_FitDaughtersConst_KS0_P1_IPCHI2'])\n",
    "add_min_to_dataframe(signal_df, 'test_IP', ['B0_FitDaughtersConst_KS0_P0_IPCHI2', 'B0_FitDaughtersConst_KS0_P1_IPCHI2'])\n",
    "\n",
    "#choose minimal value of both myons transversal momentum\n",
    "add_min_to_dataframe(real_df, 'B0_FitDaughtersConst_J_psi_1S_min_PT', ['B0_FitDaughtersConst_J_psi_1S_P0_PT', 'B0_FitDaughtersConst_J_psi_1S_P1_PT'])\n",
    "add_min_to_dataframe(signal_df, 'B0_FitDaughtersConst_J_psi_1S_min_PT', ['B0_FitDaughtersConst_J_psi_1S_P0_PT', 'B0_FitDaughtersConst_J_psi_1S_P1_PT'])\n",
    "\n",
    "#Generate dimensionless decay-time distribution\n",
    "real_df['B0_FitPVConst_KS0_tau_dimless'] = real_df['B0_FitPVConst_KS0_tau']/real_df['B0_FitPVConst_KS0_tauErr']\n",
    "signal_df['B0_FitPVConst_KS0_tau_dimless'] = signal_df['B0_FitPVConst_KS0_tau']/signal_df['B0_FitPVConst_KS0_tauErr']'''"
   ]
  },
  {
   "cell_type": "code",
   "execution_count": 26,
   "metadata": {
    "collapsed": false
   },
   "outputs": [],
   "source": [
    "#Calculate transversal momentum from x and y components\n",
    "bdjpsiks_mc_2015['B0_FitDaughtersConst_J_psi_1S_P0_PT'] = (bdjpsiks_mc_2015['B0_FitDaughtersConst_J_psi_1S_P0_PX']**2 + bdjpsiks_mc_2015['B0_FitDaughtersConst_J_psi_1S_P0_PY']**2)**0.5\n",
    "\n",
    "bdjpsikst_mc_2015['B0_FitDaughtersConst_J_psi_1S_P0_PT'] = (bdjpsikst_mc_2015['B0_FitDaughtersConst_J_psi_1S_P0_PX']**2 + bdjpsikst_mc_2015['B0_FitDaughtersConst_J_psi_1S_P0_PY']**2)**0.5\n",
    "\n",
    "bdjpsikst_data_2015['B0_FitDaughtersConst_J_psi_1S_P0_PT'] = (bdjpsikst_data_2015['B_FitDaughtersConst_J_psi_1S_muminus_PX']**2 + bdjpsikst_data_2015['B_FitDaughtersConst_J_psi_1S_muminus_PY']**2)**0.5\n",
    "\n",
    "bdjpsiks_data_2015['B0_FitDaughtersConst_J_psi_1S_P0_PT'] = (bdjpsiks_data_2015['B0_FitDaughtersConst_J_psi_1S_P0_PX']**2 + bdjpsiks_data_2015['B0_FitDaughtersConst_J_psi_1S_P0_PY']**2)**0.5"
   ]
  },
  {
   "cell_type": "markdown",
   "metadata": {},
   "source": [
    "Simple check of sWeighted data against monte-carlo\n",
    "----------------------------------------------------------------------"
   ]
  },
  {
   "cell_type": "code",
   "execution_count": null,
   "metadata": {
    "collapsed": true
   },
   "outputs": [],
   "source": []
  },
  {
   "cell_type": "code",
   "execution_count": 49,
   "metadata": {
    "collapsed": false
   },
   "outputs": [
    {
     "ename": "NameError",
     "evalue": "name 'real_df' is not defined",
     "output_type": "error",
     "traceback": [
      "\u001b[1;31m---------------------------------------------------------------------------\u001b[0m",
      "\u001b[1;31mNameError\u001b[0m                                 Traceback (most recent call last)",
      "\u001b[1;32m<ipython-input-49-69b4b6a9f90d>\u001b[0m in \u001b[0;36m<module>\u001b[1;34m()\u001b[0m\n\u001b[0;32m      2\u001b[0m \u001b[1;32mfor\u001b[0m \u001b[0mfeature\u001b[0m \u001b[1;32min\u001b[0m \u001b[0mbdt_variables\u001b[0m\u001b[1;33m:\u001b[0m\u001b[1;33m\u001b[0m\u001b[0m\n\u001b[0;32m      3\u001b[0m     \u001b[0mplotter\u001b[0m \u001b[1;33m=\u001b[0m \u001b[0mPlotter\u001b[0m\u001b[1;33m(\u001b[0m\u001b[1;34m'/home/chasenberg/repos/b2cc_sin2beta/notebooks/selection/plots/reweighting/'\u001b[0m\u001b[1;33m)\u001b[0m\u001b[1;33m\u001b[0m\u001b[0m\n\u001b[1;32m----> 4\u001b[1;33m     \u001b[0mplotter\u001b[0m\u001b[1;33m.\u001b[0m\u001b[0mcreate_plots\u001b[0m\u001b[1;33m(\u001b[0m\u001b[1;33m[\u001b[0m\u001b[0mreal_df\u001b[0m\u001b[1;33m.\u001b[0m\u001b[0mquery\u001b[0m\u001b[1;33m(\u001b[0m\u001b[1;34m'B_M>5300'\u001b[0m\u001b[1;33m)\u001b[0m\u001b[1;33m,\u001b[0m\u001b[0msignal_df\u001b[0m\u001b[1;33m]\u001b[0m\u001b[1;33m,\u001b[0m \u001b[0mfeature\u001b[0m\u001b[1;33m,\u001b[0m \u001b[0mcomponent_labels\u001b[0m\u001b[1;33m=\u001b[0m\u001b[1;33m[\u001b[0m\u001b[1;34m'data'\u001b[0m\u001b[1;33m,\u001b[0m\u001b[1;34m'Signal-MC'\u001b[0m\u001b[1;33m]\u001b[0m\u001b[1;33m)\u001b[0m\u001b[1;33m\u001b[0m\u001b[0m\n\u001b[0m\u001b[0;32m      5\u001b[0m     \u001b[0mplotter\u001b[0m\u001b[1;33m[\u001b[0m\u001b[0mfeature\u001b[0m\u001b[1;33m]\u001b[0m\u001b[1;33m.\u001b[0m\u001b[0mset_range\u001b[0m\u001b[1;33m(\u001b[0m\u001b[1;36m0\u001b[0m\u001b[1;33m,\u001b[0m\u001b[1;36m1000\u001b[0m\u001b[1;33m)\u001b[0m\u001b[1;33m\u001b[0m\u001b[0m\n\u001b[0;32m      6\u001b[0m     \u001b[0mplotter\u001b[0m\u001b[1;33m.\u001b[0m\u001b[0mplot\u001b[0m\u001b[1;33m(\u001b[0m\u001b[1;33m)\u001b[0m\u001b[1;33m\u001b[0m\u001b[0m\n",
      "\u001b[1;31mNameError\u001b[0m: name 'real_df' is not defined"
     ]
    }
   ],
   "source": [
    "#Check bdt-variables \n",
    "for feature in bdt_variables:\n",
    "    plotter = Plotter('/home/chasenberg/repos/b2cc_sin2beta/notebooks/selection/plots/reweighting/')\n",
    "    plotter.create_plots([real_df.query('B_M>5300'),signal_df], feature, component_labels=['data','Signal-MC'])\n",
    "    plotter[feature].set_range(0,1000)\n",
    "    plotter.plot()\n",
    "    \n",
    "    \n",
    "\n"
   ]
  },
  {
   "cell_type": "code",
   "execution_count": null,
   "metadata": {
    "collapsed": false,
    "scrolled": false
   },
   "outputs": [],
   "source": [
    "#Check bdt-variables \n",
    "for feature in bdt_features:\n",
    "    plotter = Plotter('/home/chasenberg/repos/b2cc_sin2beta/notebooks/selection/plots/reweighting/bdt_check/')\n",
    "    plotter.create_plots([real_df,signal_df], feature, weightvars=['SigYield_sw','mc_weight'],component_labels=['sWeighted data','Signal-MC'])\n",
    "    plotter[feature].set_range(0,1000)\n",
    "    plotter.plot()\n",
    "    \n",
    "    \n"
   ]
  },
  {
   "cell_type": "code",
   "execution_count": null,
   "metadata": {
    "collapsed": false
   },
   "outputs": [],
   "source": [
    "real = real_df[bdt_features]\n",
    "mc = signal_df[bdt_features]"
   ]
  },
  {
   "cell_type": "code",
   "execution_count": null,
   "metadata": {
    "collapsed": false
   },
   "outputs": [],
   "source": [
    "import sys\n",
    "sys.path.append('/home/chasenberg/repos/')\n",
    "#import hep_ml\n",
    "from hep_ml.hep_ml.reweight import GBReweighter"
   ]
  },
  {
   "cell_type": "code",
   "execution_count": null,
   "metadata": {
    "collapsed": false
   },
   "outputs": [],
   "source": [
    "gb = GBReweighter()"
   ]
  },
  {
   "cell_type": "code",
   "execution_count": null,
   "metadata": {
    "collapsed": false
   },
   "outputs": [],
   "source": [
    "gb.fit(mc, real, target_weight=real_df['SigYield_sw'])"
   ]
  },
  {
   "cell_type": "markdown",
   "metadata": {},
   "source": [
    "Read in MC sample for BdJpsiKS\n",
    "------------------------------"
   ]
  },
  {
   "cell_type": "code",
   "execution_count": null,
   "metadata": {
    "collapsed": false
   },
   "outputs": [],
   "source": [
    "variables = [\n",
    "'B0_M',\n",
    "'B0_FitDaughtersConst_M',\n",
    "'B0_FitDaughtersConst_chi2',\n",
    "'B0_FitDaughtersConst_IPCHI2',\n",
    "'J_psi_1S_M',\n",
    "'J_psi_1S_PT',\n",
    "'J_psi_1S_IP_OWNPV',  \n",
    "'J_psi_1S_IPCHI2_OWNPV',   \n",
    "'KS0_PT',\n",
    "'KS0_IP_OWNPV',\n",
    "'KS0_MINIPCHI2',\n",
    "'KS0_IP_OWNPV', \n",
    "'KS0_IPCHI2_OWNPV',  \n",
    "'KS0_TAU',\n",
    "'KS0_TAUERR',\n",
    "'piminus_PT',\n",
    "'piminus_IP_OWNPV',\n",
    "'piminus_IPCHI2_OWNPV',\n",
    "'piminus_MINIPCHI2',\n",
    "'muminus_PT',\n",
    "'muminus_IP_OWNPV',\n",
    "'muminus_IPCHI2_OWNPV',\n",
    "'muplus_PT',\n",
    "'muplus_IP_OWNPV',\n",
    "'muplus_IPCHI2_OWNPV',\n",
    "'muplus_MINIPCHI2',\n",
    "'muplus_PIDmu',\n",
    "'B0_L0MuonDecision_TOS',\n",
    "'B0_Hlt1TrackMuonDecision_TOS',\n",
    "'B0_Hlt2DiMuonJPsiDecision_TOS',\n",
    "'B0_FitDaughtersConst_M',\n",
    "'B0_FitDaughtersConst_chi2',\n",
    "'B0_FitDaughtersConst_IPCHI2',\n",
    "'B0_FitDaughtersConst_J_psi_1S_IP',    \n",
    "'B0_FitDaughtersConst_KS0_IP',\n",
    "'B0_FitDaughtersConst_KS0_IPCHI2', \n",
    "'B0_FitDaughtersConst_J_psi_1S_IPCHI2',\n",
    "'B0_L0MuonDecision_TOS',\n",
    "'B0_Hlt1TrackMuonDecision_TOS',\n",
    "'B0_Hlt2DiMuonJPsiDecision_TOS',\n",
    "'B0_M',\n",
    "'idxPV',\n",
    "'piminus_TRACK_Type',\n",
    "'B0_FitPVConst_status',\n",
    "'B0_FitDaughtersConst_J_psi_1S_P0_PT', \n",
    "'B0_FitDaughtersConst_J_psi_1S_P1_PT',\n",
    "'B0_FitPVConst_KS0_tau',\n",
    "'B0_FitPVConst_KS0_tauErr',\n",
    "'nsig_sw'\n",
    "]\n",
    "\n",
    "\n",
    "\n",
    "variables_mc = [\n",
    "'B0_M',\n",
    "'B0_M',\n",
    "'B0_FitDaughtersConst_M',\n",
    "'B0_FitDaughtersConst_chi2',\n",
    "'B0_FitDaughtersConst_IPCHI2',\n",
    "'B0_IPCHI2_OWNPV',\n",
    "'J_psi_1S_M',\n",
    "'J_psi_1S_PT',\n",
    "'J_psi_1S_IP_OWNPV',  \n",
    "'J_psi_1S_IPCHI2_OWNPV',   \n",
    "'KS0_PT',\n",
    "'KS0_IP_OWNPV',\n",
    "'KS0_MINIPCHI2',\n",
    "'KS0_IP_OWNPV', \n",
    "'KS0_IPCHI2_OWNPV',  \n",
    "'KS0_TAU',\n",
    "'KS0_TAUERR',\n",
    "'piminus_PT',\n",
    "'piminus_IP_OWNPV',\n",
    "'piminus_IPCHI2_OWNPV',\n",
    "'piminus_MINIPCHI2',\n",
    "'muminus_PT',\n",
    "'muminus_IP_OWNPV',\n",
    "'muminus_IPCHI2_OWNPV',\n",
    "'muplus_PT',\n",
    "'muplus_IP_OWNPV',\n",
    "'muplus_IPCHI2_OWNPV',\n",
    "'muplus_MINIPCHI2',\n",
    "'muplus_PIDmu',\n",
    "'B0_L0MuonDecision_TOS',\n",
    "'B0_Hlt1TrackMuonDecision_TOS',\n",
    "'B0_Hlt2DiMuonJPsiDecision_TOS',\n",
    "'B0_FitDaughtersConst_M',\n",
    "'B0_FitDaughtersConst_chi2',\n",
    "'B0_FitDaughtersConst_IPCHI2',\n",
    "'B0_FitDaughtersConst_J_psi_1S_IP',    \n",
    "'B0_FitDaughtersConst_KS0_IP',\n",
    "'B0_FitDaughtersConst_KS0_IPCHI2', \n",
    "'B0_FitDaughtersConst_J_psi_1S_IPCHI2',\n",
    "'B0_L0MuonDecision_TOS',\n",
    "'B0_Hlt1TrackMuonDecision_TOS',\n",
    "'B0_Hlt2DiMuonJPsiDecision_TOS',\n",
    "'B0_M',\n",
    "'idxPV',\n",
    "'piminus_TRACK_Type',\n",
    "'B0_FitPVConst_status',\n",
    "'B0_FitDaughtersConst_J_psi_1S_P0_PT', \n",
    "'B0_FitDaughtersConst_J_psi_1S_P1_PT',\n",
    "'B0_FitPVConst_KS0_tau',\n",
    "'B0_FitPVConst_KS0_tauErr',\n",
    "'B0_BKGCAT'\n",
    "]"
   ]
  },
  {
   "cell_type": "code",
   "execution_count": null,
   "metadata": {
    "collapsed": false
   },
   "outputs": [],
   "source": [
    "import os \n",
    "import root_pandas as rp\n",
    "\n",
    "#directories and files \n",
    "data_dir_2015 = '/fhgfs/users/chasenberg/data/2015/jpsiks/flattened/'\n",
    "data_file_2015 ='Bd2JpsiKS_data_2015_flattened.root'\n",
    "data_dir_2016 = '/fhgfs/users/chasenberg/data/2016/jpsiks/flattened/'\n",
    "data_file_2016 ='Bd2JpsiKS_data_2016_flattened_SWeights.root'\n",
    "\n",
    "data_dir_2015 = os.path.join(data_dir_2015, data_file_2015)\n",
    "data_dir_2016 = os.path.join(data_dir_2016, data_file_2016)\n",
    "mc_dir = '/fhgfs/users/chasenberg/mc/dimuon_stripping/'\n",
    "mc_file = 'Bd2JpsiKS_Dimuon_flattened.root'\n",
    "mc_dir = os.path.join(mc_dir, mc_file)\n",
    "\n",
    "#Read ROOT\n",
    "cut_string_mc = 'B0_FitDaughtersConst_status==0&B0_FitPVConst_status==0&idxPV==0&B0_FitDaughtersConst_M<5350&B0_FitDaughtersConst_M>5220&((B0_BKGCAT==10)|(B0_BKGCAT==50))&((B0_L0Global_TOS==1)|(B0_Hlt1DiMuonHighMassDecision_TOS==1)|(B0_Hlt2DiMuonDetachedJPsiDecision_TOS==1))'\n",
    "\n",
    "#Treename for data\n",
    "tree_data = 'Bd2JpsiKs'\n",
    "tree_mc = 'Bd2JpsiK'\n",
    "\n",
    "#read root files\n",
    "#2015 data\n",
    "bdjpsiks_2015 = rp.read_root(data_dir_2015,key=tree_data,columns=variables)\n",
    "bdjpsiks_2015 = bdjpsiks_2015.replace([np.inf, -np.inf], np.nan)\n",
    "bdjpsiks_2015 = bdjpsiks_2015.dropna()\n",
    "#2016 data\n",
    "bdjpsiks_2016 = rp.read_root(data_dir_2016,key=tree_data,columns=variables)\n",
    "bdjpsiks_2016 = bdjpsiks_2016.replace([np.inf, -np.inf], np.nan)\n",
    "bdjpsiks_2016 = bdjpsiks_2016.dropna()\n",
    "\n",
    "\n",
    "signal_bd2psiks = rp.read_root(mc_dir,key=tree_mc,columns=variables_mc,where=cut_string_mc, flatten=True)\n",
    "signal_bd2psiks = signal_bd2psiks.replace([np.inf, -np.inf], np.nan)\n",
    "signal_bd2psiks = signal_bd2psiks.dropna()"
   ]
  },
  {
   "cell_type": "code",
   "execution_count": null,
   "metadata": {
    "collapsed": false
   },
   "outputs": [],
   "source": [
    "#Merge 2015 and 2016 data\n",
    "real_df_bdjpsiks = pd.concat([bdjpsiks_2015,bdjpsiks_2016])"
   ]
  },
  {
   "cell_type": "code",
   "execution_count": null,
   "metadata": {
    "collapsed": true
   },
   "outputs": [],
   "source": [
    "#New BDT feautures for the other channel\n",
    "bdt_features = [\n",
    "#'B0_FitDaughtersConst_chi2',\n",
    "'J_psi_1S_IP_OWNPV',\n",
    "'J_psi_1S_IP_OWNPV',\n",
    "'J_psi_1S_IPCHI2_OWNPV',   \n",
    "'piminus_PT',\n",
    "'piminus_IP_OWNPV',\n",
    "'KS0_PT',\n",
    "'KS0_IP_OWNPV',\n",
    "'KS0_IPCHI2_OWNPV', \n",
    "'KS0_TAU',\n",
    "'KS0_TAUERR',\n",
    "'piminus_PT',\n",
    "'piminus_IP_OWNPV',\n",
    "'piminus_IPCHI2_OWNPV',\n",
    "'muminus_PT',\n",
    "'muminus_IP_OWNPV',\n",
    "'muminus_IPCHI2_OWNPV',\n",
    "'muplus_PT',\n",
    "'muplus_IP_OWNPV',\n",
    "'muplus_IPCHI2_OWNPV',   \n",
    "]\n"
   ]
  },
  {
   "cell_type": "code",
   "execution_count": null,
   "metadata": {
    "collapsed": false
   },
   "outputs": [],
   "source": [
    "reweights = gb.predict_weights(signal_bd2psiks[bdt_features])"
   ]
  },
  {
   "cell_type": "code",
   "execution_count": null,
   "metadata": {
    "collapsed": true
   },
   "outputs": [],
   "source": [
    "#Check bdt-variables in Bd2JpsiKS\n",
    "for feature in bdt_features:\n",
    "    plotter = Plotter('/home/chasenberg/repos/b2cc_sin2beta/notebooks/selection/plots/reweighting/bdt_check/bd2jpsiks')\n",
    "    plotter.create_plots([real_df,signal_df], feature, weightvars=['nsig_sw','mc_weight'],component_labels=['sWeighted data','Signal-MC'])\n",
    "    plotter[feature].set_range(0,1000)\n",
    "    plotter.plot()\n",
    "    \n",
    "    \n",
    "\n"
   ]
  }
 ],
 "metadata": {
  "kernelspec": {
   "display_name": "Python 3",
   "language": "python",
   "name": "python3"
  },
  "language_info": {
   "codemirror_mode": {
    "name": "ipython",
    "version": 3
   },
   "file_extension": ".py",
   "mimetype": "text/x-python",
   "name": "python",
   "nbconvert_exporter": "python",
   "pygments_lexer": "ipython3",
   "version": "3.4.4"
  }
 },
 "nbformat": 4,
 "nbformat_minor": 0
}
