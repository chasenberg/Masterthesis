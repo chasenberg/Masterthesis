{
 "cells": [
  {
   "cell_type": "markdown",
   "metadata": {},
   "source": [
    "## Notebook for 1D BDT scan and calculating FOMs in Bd2psi2SKS on data\n"
   ]
  },
  {
   "cell_type": "code",
   "execution_count": 1,
   "metadata": {
    "collapsed": false
   },
   "outputs": [],
   "source": [
    "%matplotlib inline\n",
    "%load_ext autoreload\n",
    "%autoreload 2\n",
    "\n",
    "import os\n",
    "import sys\n",
    "import ROOT\n",
    "from ROOT import TFile, TH1D, TH2D, TCanvas, gStyle, TLine, TTree\n",
    "from ROOT import (RooArgSet, RooRealVar, RooDataSet, RooPlot, RooFit, RooStats, RooArgList)\n",
    "\n",
    "import math\n",
    "import itertools\n",
    "import numpy as np\n",
    "import matplotlib as mpl\n",
    "import matplotlib.pyplot as plt\n",
    "from matplotlib.backends.backend_pdf import PdfPages\n",
    "\n",
    "from root_pandas import read_root\n",
    "import pandas as pd\n",
    "\n",
    "sys.path.append('/home/vmueller/repos')\n",
    "from dopy.doroot.root_utils import read_roodataset_from_tree, plot_pulls\n",
    "from dopy.doplot.plotting import Plotter, Plot                "
   ]
  },
  {
   "cell_type": "code",
   "execution_count": 2,
   "metadata": {
    "collapsed": false
   },
   "outputs": [],
   "source": [
    "\n",
    "from ROOT import RooRealVar, RooExponential, RooExtendPdf, RooAddPdf, RooArgList, RooGaussian\n",
    "from ROOT import RooFormulaVar\n",
    "from ROOT import gSystem\n",
    "gSystem.Load('libRooFit.so')\n",
    "gSystem.Load('/home/chasenberg/repos/dopy/dolib/CustomShapes/libKll')\n",
    "from ROOT import RooIpatia2"
   ]
  },
  {
   "cell_type": "markdown",
   "metadata": {},
   "source": [
    "### Define observables"
   ]
  },
  {
   "cell_type": "code",
   "execution_count": 3,
   "metadata": {
    "collapsed": false
   },
   "outputs": [
    {
     "data": {
      "text/plain": [
       "True"
      ]
     },
     "execution_count": 3,
     "metadata": {},
     "output_type": "execute_result"
    }
   ],
   "source": [
    "B0_FitDaughtersConst_M = RooRealVar( 'B0_FitDaughtersConst_M_flat','B0_FitDaughtersConst_M', 5280,5220, 5450, 'MeV/#it{c}^{2}')\n",
    "B0_TAU             = RooRealVar( 'B0_TAU','B0_TAU', -1, 100, 'ps')\n",
    "B0_TAUERR          = RooRealVar( 'B0_TAUERR','B0_TAUERR', 0.00000, 100, 'ps')\n",
    "BDTresponse        = RooRealVar('BDTresponse','BDTresponse',-20, 20)\n",
    "B0_TAGDECISION_OS  = RooRealVar('B0_TAGDECISION_OS','B0_TAGDECISION_OS',  -1, 1)\n",
    "B0_TAGOMEGA_OS   = RooRealVar('B0_TAGOMEGA_OS','B0_TAGOMEGA_OS',  0.0, 0.5)\n",
    "#idxPV = RooRealVar(\"idxPV\", \"Best PV\", 0.,0., 0., \"\")\n",
    "B0_FitPVConst_MinIPCHI2anyPV_flat   = RooRealVar('B0_FitPVConst_MinIPCHI2anyPV_flat','B0_FitPVConst_MinIPCHI2anyPV_flat',  0.0, 100000000000000000000)\n",
    "\n",
    "observables = RooArgSet(B0_FitDaughtersConst_M)\n",
    "observables.add(B0_TAU)\n",
    "observables.add(B0_TAUERR)\n",
    "observables.add(BDTresponse)\n",
    "observables.add(B0_TAGDECISION_OS)\n",
    "observables.add(B0_TAGOMEGA_OS)\n",
    "#observables.add(idxPV)\n",
    "observables.add(B0_FitPVConst_MinIPCHI2anyPV_flat)"
   ]
  },
  {
   "cell_type": "markdown",
   "metadata": {},
   "source": [
    "### Function to build mass model"
   ]
  },
  {
   "cell_type": "code",
   "execution_count": 4,
   "metadata": {
    "collapsed": false
   },
   "outputs": [],
   "source": [
    "def build_mass_model(mass):\n",
    "\n",
    "\n",
    "    par_ipatia_zeta  = RooRealVar('par_ipatia_zeta'  + postfix,  'par_ipatia_zeta'  + postfix, 0.,0.,0.)#, 1., 5.3)\n",
    "    par_ipatia_fb    = RooRealVar('par_ipatia_fb'    + postfix,    'par_ipatia_fb'  + postfix, 0.,0.,0.)\n",
    "    par_ipatia_l     = RooRealVar('par_ipatia_l'     + postfix,     'par_ipatia_l'  + postfix, -2.718,-2.718,-2.718)\n",
    "    par_ipatia_m     = RooRealVar('par_ipatia_m'     + postfix,     'par_ipatia_m'  + postfix, 5280.5, 5220., 5450.,)\n",
    "    par_ipatia_sigma = RooRealVar('par_ipatia_sigma' + postfix, 'par_ipatia_sigma'  + postfix, 8.71582, 2., 12.)\n",
    "    par_ipatia_a1    = RooRealVar('par_ipatia_a1'    + postfix,     'par_ipatia_a1' + postfix,  3.,3.,3.)\n",
    "    par_ipatia_a2    = RooRealVar('par_ipatia_a2'    + postfix,     'par_ipatia_a2' + postfix,  2.91222, 2.91222, 2.91222)\n",
    "    par_ipatia_n1    = RooRealVar('par_ipatia_n1'    + postfix,     'par_ipatia_n1' + postfix, 3.,3.,3.)\n",
    "    par_ipatia_n2    = RooRealVar('par_ipatia_n2'    + postfix,     'par_ipatia_n2' + postfix, 3.,3.,3.)\n",
    "\n",
    "    pdf_mass_ipatia  = ROOT.RooIpatia2('pdf_mass_ipatia', 'pdf_mass_ipatia', mass, par_ipatia_l, par_ipatia_zeta, par_ipatia_fb,\n",
    "                               par_ipatia_sigma, par_ipatia_m, par_ipatia_a1, par_ipatia_n1,\n",
    "                               par_ipatia_a2, par_ipatia_n2)\n",
    "    \n",
    "    ROOT.SetOwnership( pdf_mass_ipatia, False )\n",
    "    ROOT.SetOwnership( par_ipatia_zeta, False )\n",
    "    ROOT.SetOwnership( par_ipatia_fb, False )\n",
    "    ROOT.SetOwnership( par_ipatia_l, False )\n",
    "    ROOT.SetOwnership( par_ipatia_m, False )\n",
    "    ROOT.SetOwnership( par_ipatia_sigma, False )\n",
    "    ROOT.SetOwnership( par_ipatia_a1, False )\n",
    "    ROOT.SetOwnership( par_ipatia_n1, False )\n",
    "    ROOT.SetOwnership( par_ipatia_a2, False )\n",
    "    ROOT.SetOwnership( par_ipatia_n2, False )\n",
    "\n",
    "    sig_yield = RooRealVar('sig_yield' + postfix, 'sig_yield' + postfix, 256346, 0, 1000000)\n",
    "    ROOT.SetOwnership( sig_yield, False )\n",
    "\n",
    "    sig_pdf_ext = RooExtendPdf('sig_pdf_ext' + postfix, 'sig_pdf_ext' + postfix, pdf_mass_ipatia, sig_yield)\n",
    "    ROOT.SetOwnership( sig_pdf_ext, False )\n",
    "    \n",
    "    exp_a = RooRealVar('exp_a' + postfix, 'exp_a' + postfix, -0.001, -0.01, -0.00001)\n",
    "    exp   = RooExponential('exp' + postfix, 'exp' + postfix, mass, exp_a)\n",
    "    bkg_pdf = exp\n",
    "    bkg_yield = RooRealVar('bkg_yield' + postfix, 'bkg_yield' + postfix, 2262903, 0, 20000000)\n",
    "    ROOT.SetOwnership( exp_a, False )\n",
    "    ROOT.SetOwnership( bkg_pdf, False )\n",
    "    ROOT.SetOwnership( bkg_yield, False)\n",
    "    \n",
    "    bkg_pdf_ext = RooExtendPdf('bkg_pdf_ext' + postfix, 'bkg_pdf_ext' + postfix, bkg_pdf, bkg_yield)\n",
    "    ROOT.SetOwnership( bkg_pdf_ext, False)\n",
    "    \n",
    "    par_ipatia_m_bs_shift = RooRealVar(\"par_ipatia_m_bs_shift\" + postfix, \"par_ipatia_m_bs_shift\" + postfix, 87.0, 50.0, 100.0)\n",
    "    par_ipatia_m_bs = RooFormulaVar(\"par_ipatia_m_bs\" + postfix, \"par_ipatia_m_bs\" + postfix, \"@0+@1\", RooArgList(par_ipatia_m, par_ipatia_m_bs_shift))\n",
    "    #par_ipatia_m_bs     = RooRealVar(\"par_ipatia_m_bs\"    + postfix,    \"par_ipatia_m_bs\" + postfix,    5366, 5300., 5400.,)\n",
    "                    \n",
    "    pdf_mass_ipatia_bs  = ROOT.RooIpatia2('pdf_mass_ipatia_bs', 'pdf_mass_ipatia_bs', mass, par_ipatia_l, par_ipatia_zeta, par_ipatia_fb,\n",
    "                                          par_ipatia_sigma, par_ipatia_m_bs, par_ipatia_a1, par_ipatia_n1, par_ipatia_a2, par_ipatia_n2)\n",
    "    \n",
    "    bs_yield = RooRealVar('bs_yield' + postfix, 'bs_yield' + postfix, 6166, 0, 1000000)\n",
    "    ROOT.SetOwnership( par_ipatia_m_bs_shift, False )\n",
    "    ROOT.SetOwnership( par_ipatia_m_bs, False)\n",
    "    ROOT.SetOwnership( bs_yield, False)\n",
    "    ROOT.SetOwnership( pdf_mass_ipatia_bs, False)\n",
    "    \n",
    "    bs_pdf_ext = RooExtendPdf('bs_pdf_ext' + postfix, 'bs_pdf_ext' + postfix, pdf_mass_ipatia_bs, bs_yield)\n",
    "    ROOT.SetOwnership( bs_pdf_ext, False)\n",
    "    \n",
    "    data_model = RooAddPdf('model' + postfix, 'model' + postfix, RooArgList(sig_pdf_ext, bkg_pdf_ext, bs_pdf_ext))\n",
    "    ROOT.SetOwnership( data_model, False )\n",
    "    \n",
    "    return data_model"
   ]
  },
  {
   "cell_type": "markdown",
   "metadata": {},
   "source": [
    "Function to copy a tree and append sWeights\n",
    "--------------------------------------\n",
    "\n"
   ]
  },
  {
   "cell_type": "code",
   "execution_count": 5,
   "metadata": {
    "collapsed": true
   },
   "outputs": [],
   "source": [
    "def copy_ttree_append_sweights(ttree_or_chain, dataset_with_weights):\n",
    "    sweight_sig = array('d', [0.0])\n",
    "    sweight_bkg = array('d', [0.0])\n",
    "    sweight_bs = array('d', [0.0])\n",
    "        \n",
    "    sig_sweight_branch = ttree_or_chain.Branch('sweight_sig',sweight_sig,'sweight_sig/D')\n",
    "    bkg_sweight_branch = ttree_or_chain.Branch('sweight_bkg',sweight_bkg,'sweight_bkg/D')\n",
    "    bs_sweight_branch = ttree_or_chain.Branch('sweight_bs',sweight_bkg,'sweight_bs/D')\n",
    "\n",
    "    for i in range(ttree_or_chain.GetEntries()):\n",
    "        ttree_or_chain.GetEntry(i)\n",
    "        control_branch_name = 'B0_FitDaughtersConst_M'\n",
    "        if (ttree_or_chain.GetBranch('B0_FitDaughtersConst_M').GetLeaf('B0_FitDaughtersConst_M').GetValue() + 0.01 > dataset_with_weights.get(i)['B0_FitDaughtersConst_M'].getValV() and\\\n",
    "            ttree_or_chain.GetBranch('B0_FitDaughtersConst_M').GetLeaf('B0_FitDaughtersConst_M').GetValue() - 0.01 < dataset_with_weights.get(i)['B0_FitDaughtersConst_M'].getValV()):\n",
    "            # print('Success in Event {}'.format(i))\n",
    "            sweight_sig[0]=data_fit_cut.get(i)['sig_yield_sw'].getValV()\n",
    "            sweight_bkg[0]=data_fit_cut.get(i)['bkg_yield_sw'].getValV()\n",
    "            sweight_bs[0]=data_fit_cut.get(i)[\"bs_yield_sw\"].getValV()\n",
    "            sig_sweight_branch.Fill()\n",
    "            bkg_sweight_branch.Fill()\n",
    "            bs_sweight_branch.Fill()\n",
    "        else:\n",
    "            print('ERROR')\n",
    "            sweight_sig[0]=-10000\n",
    "            sweight_bkg[0]=-10000\n",
    "            sweight_bs[0]=-10000\n",
    "            sig_sweight_branch.Fill()\n",
    "            bkg_sweight_branch.Fill()\n",
    "            bs_sweight_branch.Fill()\n",
    "    return ttree_or_chain"
   ]
  },
  {
   "cell_type": "markdown",
   "metadata": {},
   "source": [
    "### Function to calculate the fit performance (standard FOMs)"
   ]
  },
  {
   "cell_type": "code",
   "execution_count": 6,
   "metadata": {
    "collapsed": true
   },
   "outputs": [],
   "source": [
    "def fill_performance(final_model, mass, performance_dict):\n",
    "    sig_pdf = final_model.getComponents().find('sig_pdf_ext')\n",
    "    bkg_pdf = final_model.getComponents().find('bkg_pdf_ext')\n",
    "    \n",
    "    massset = RooArgSet(mass)\n",
    "    intbkg_sigregion = bkg_pdf.createIntegral(massset, RooFit.NormSet(massset), RooFit.Range('SIGREGION'))\n",
    "    intsig_sigregion = sig_pdf.createIntegral(massset, RooFit.NormSet(massset), RooFit.Range('SIGREGION'))\n",
    "    \n",
    "    sig_yield = final_model.getParameters(data_fit_cut).find('sig_yield').getVal()\n",
    "    bkg_yield = final_model.getParameters(data_fit_cut).find('bkg_yield').getVal()\n",
    "    sig_yield = intsig_sigregion.getVal()*sig_yield\n",
    "    bkg_yield = intbkg_sigregion.getVal()*bkg_yield\n",
    "    s_over_b = sig_yield/bkg_yield\n",
    "    s_over_spb = sig_yield/(sig_yield+bkg_yield)\n",
    "    s_over_sqrt_b = sig_yield/math.sqrt(bkg_yield)\n",
    "    s_over_sqrt_spb = sig_yield/math.sqrt(sig_yield+bkg_yield)\n",
    "    s3_over_spb2 = (sig_yield**3)/(sig_yield+bkg_yield)**2\n",
    "        \n",
    "    performance_dict['sig_yield']       = sig_yield\n",
    "    performance_dict['bkg_yield']       = bkg_yield\n",
    "    performance_dict['s_over_b']        = s_over_b\n",
    "    performance_dict['s_over_sqrt_b']   = s_over_sqrt_b\n",
    "    performance_dict['s_over_spb']      = s_over_spb\n",
    "    performance_dict['s_over_sqrt_spb'] = s_over_sqrt_spb\n",
    "    performance_dict['s3_over_spb2']    = s3_over_spb2"
   ]
  },
  {
   "cell_type": "markdown",
   "metadata": {},
   "source": [
    "### Function to get values and uncertainities of the fit parameters"
   ]
  },
  {
   "cell_type": "code",
   "execution_count": 7,
   "metadata": {
    "collapsed": true
   },
   "outputs": [],
   "source": [
    "def fill_shape(args, shape_dict):\n",
    "    varnames = []\n",
    "    varnames.append('par_ipatia_a1')\n",
    "    varnames.append('par_ipatia_a2')\n",
    "    varnames.append('par_ipatia_n1')\n",
    "    varnames.append('par_ipatia_n2')\n",
    "    varnames.append('par_ipatia_l')\n",
    "    varnames.append('par_ipatia_sigma')\n",
    "    varnames.append('par_ipatia_m')\n",
    "    varnames.append('par_ipatia_m_bs_shift')\n",
    "    varnames.append('par_ipatia_fb')\n",
    "    varnames.append('exp_a')\n",
    "    \n",
    "    for varname in varnames:\n",
    "        var = args.find(varname)\n",
    "        shape_dict[varname+'_value'] = var.getValV()\n",
    "        shape_dict[varname+'_errlo'] = var.getErrorLo()\n",
    "        shape_dict[varname+'_errhi'] = var.getErrorHi()"
   ]
  },
  {
   "cell_type": "markdown",
   "metadata": {},
   "source": [
    "### Function to print parameter info "
   ]
  },
  {
   "cell_type": "code",
   "execution_count": 8,
   "metadata": {
    "collapsed": true
   },
   "outputs": [],
   "source": [
    "def parameter_info(old):\n",
    "    print('\\n')\n",
    "    iter = old.createIterator()\n",
    "    var = iter.Next()\n",
    "    const_or_float = None\n",
    "    print('INFO parameter_info: {:<20} {:<16} {:<16} {:<16} {:<16}'.format('Name', 'Value', 'Min', 'Max', 'Status'), flush=True)\n",
    "    while var:\n",
    "        if var.isConstant():\n",
    "            const_or_float = 'const'\n",
    "        else:\n",
    "            const_or_float = 'float'\n",
    "        print('INFO parameter_info: {:<25} {:<16.8} {:<16} {:<16} {:<16}'.format(var.GetName(), var.getValV(), var.getMin(), var.getMax(), const_or_float), flush=True)\n",
    "        var=iter.Next()\n",
    "    print('\\n')"
   ]
  },
  {
   "cell_type": "markdown",
   "metadata": {},
   "source": [
    "### Function to copy old fit results to new init file"
   ]
  },
  {
   "cell_type": "code",
   "execution_count": 9,
   "metadata": {
    "collapsed": true
   },
   "outputs": [],
   "source": [
    "def copy_old_new(old, new, verbose=False):\n",
    "    iter = old.createIterator()\n",
    "    var = iter.Next()\n",
    "    const_or_float = None\n",
    "    while var:\n",
    "        new.find(var.GetName()).setMin(var.getMin())\n",
    "        new.find(var.GetName()).setMax(var.getMax())\n",
    "        new.find(var.GetName()).setVal(var.getValV())\n",
    "        if verbose:\n",
    "            print('copying ' + var.GetName())\n",
    "        if var.isConstant():\n",
    "            const_or_float = 'const'\n",
    "            new.find(var.GetName()).setConstant()\n",
    "        else:\n",
    "            const_or_float = 'float'\n",
    "        var=iter.Next()"
   ]
  },
  {
   "cell_type": "markdown",
   "metadata": {},
   "source": [
    "### Function to calculate the FOMs"
   ]
  },
  {
   "cell_type": "code",
   "execution_count": 10,
   "metadata": {
    "collapsed": false
   },
   "outputs": [],
   "source": [
    "def calculate_foms(dataset):\n",
    "    import math\n",
    "    \n",
    "    signal_sum    = 1\n",
    "    cbkg_sum      = 0\n",
    "    signal_sumw2  = 1\n",
    "    \n",
    "    signal_sum_tag_decis = 0 # count two ways to check consistency\n",
    "    signal_sum_tag_omega = 0\n",
    "\n",
    "    D_bs_perfect  = 0\n",
    "    D_bs_perftagg = 0\n",
    "    D_bs_perfterr = 0\n",
    "    D_bs          = 0\n",
    "    D_bd          = 0\n",
    "    D_bd_perfect  = 0\n",
    "    Q_bs_perfect  = 0\n",
    "    Q_bs_perftagg = 0\n",
    "    Q_bs_perfterr = 0\n",
    "    Q_bs          = 0\n",
    "    Q_bd          = 0\n",
    "    Q_bd_perfect  = 0\n",
    "    \n",
    "    delta_m = 0.5065 \n",
    "    S = 0.691 #sin2beta value (average from HFAG)\n",
    "    \n",
    "    tagging_power = 0\n",
    "    timeres_power = 0\n",
    "    \n",
    "    for i in range(dataset.numEntries()):\n",
    "        signal_weight =  dataset.get(i)['sig_yield_sw'].getValV()\n",
    "        cbkg_weight   =  dataset.get(i)['bkg_yield_sw'].getValV()\n",
    "        mistag        =  data_fit_cut.get(i)['B0_TAGOMEGA_OS'].getValV()\n",
    "        tag           =  data_fit_cut.get(i)['B0_TAGDECISION_OS'].getValV()\n",
    "        decaytime     =  data_fit_cut.get(i)['B0_TAU'].getValV()\n",
    "        timeerror     =  data_fit_cut.get(i)['B0_TAUERR'].getValV()\n",
    "\n",
    "        \n",
    "        signal_sum    += signal_weight\n",
    "        signal_sumw2  += signal_weight**2\n",
    "        cbkg_sum      += cbkg_weight\n",
    "        \n",
    "        if mistag != 0.5:\n",
    "            signal_sum_tag_omega += signal_weight\n",
    "        if tag != 0:    \n",
    "            signal_sum_tag_decis += signal_weight\n",
    "        if (tag != 0 and mistag == 0.5) or (tag == 0 and mistag != 0.5):\n",
    "            print('ERROR: mismatch tag {} mistag {}'.format(tag, mistag))\n",
    "        \n",
    "        nominator_bd_term   = math.sin(delta_m * decaytime)\n",
    "        denominator_bd_term = 1 + tag * (1 - 2 * mistag) * S * math.exp(-0.5*(delta_m*timeerror)**2)*math.sin(delta_m*decaytime)       \n",
    "        bd_term = (nominator_bd_term/denominator_bd_term)**2\n",
    "        \n",
    "        #case of perfect flavour tagging and no time-dilution effect \n",
    "        denominator_bd_term_perfect = 1 + tag * 1 * S * 1 *math.sin(delta_m*decaytime)\n",
    "        bd_term_perfect = (nominator_bd_term/denominator_bd_term_perfect)**2\n",
    "        \n",
    "        tagging_dilution  = (1 - 2*mistag)**2\n",
    "        timeerror_dilution = math.exp(-(delta_m*timeerror)**2)\n",
    "\n",
    "        timeres_power    += timeerror_dilution*signal_weight\n",
    "        tagging_power    += tagging_dilution*signal_weight\n",
    "        \n",
    "        D_bs_perfect      += 1                * 1                  * 1               * signal_weight\n",
    "        D_bs_perftagg     += 1                * timeerror_dilution * 1               * signal_weight\n",
    "        D_bs_perfterr     += tagging_dilution * 1                  * 1               * signal_weight\n",
    "        D_bs              += tagging_dilution * timeerror_dilution * 1               * signal_weight\n",
    "        D_bd              += tagging_dilution * timeerror_dilution * bd_term         * signal_weight\n",
    "        D_bd_perfect      += 1                * 1                  * bd_term_perfect * signal_weight\n",
    "\n",
    "    effsigsize = signal_sum**2 / signal_sumw2\n",
    "    \n",
    "    if (signal_sum_tag_omega != signal_sum_tag_decis):\n",
    "        print('ERROR: counting sweights via omega!=0.5 and decision!=0 led to different results')\n",
    "        print('ERROR: this should not happen! - tagging efficiency is not well defined')\n",
    "        print('ERROR: omega counting: {}   tag counting: {}'.format(signal_sum_tag_omega, signal_sum_tag_decis))\n",
    "        \n",
    "    tagging_dilution_avg_tagged = tagging_power / signal_sum_tag_omega\n",
    "    tagging_efficiency = signal_sum_tag_omega / signal_sum\n",
    "    \n",
    "    tagging_power /= signal_sum\n",
    "    timeres_power /= signal_sum\n",
    "\n",
    "    D_bs_perfect  /= signal_sum#dataset.numEntries()\n",
    "    D_bs_perftagg /= signal_sum#dataset.numEntries()\n",
    "    D_bs_perfterr /= signal_sum#dataset.numEntries()\n",
    "    D_bs          /= signal_sum#dataset.numEntries()\n",
    "    D_bd          /= signal_sum#dataset.numEntries()\n",
    "    D_bd_perfect  /= signal_sum#dataset.numEntries()\n",
    "        \n",
    "    Q_bs_perfect  = effsigsize * D_bs_perfect #signal_sum**2 / dataset.numEntries() * D_bs_perfect\n",
    "    Q_bs_perftagg = effsigsize * D_bs_perftagg #signal_sum**2 / dataset.numEntries() * D_bs_perftagg\n",
    "    Q_bs_perfterr = effsigsize * D_bs_perfterr #signal_sum**2 / dataset.numEntries() * D_bs_perfterr\n",
    "    Q_bs          = effsigsize * D_bs #signal_sum**2 / dataset.numEntries() * D_bs\n",
    "    Q_bd          = effsigsize * D_bd #signal_sum**2 / dataset.numEntries() * D_bd\n",
    "    Q_bd_perfect  = effsigsize * D_bd_perfect #signal_sum**2 / dataset.numEntries() * D_bd\n",
    "    \n",
    "    \n",
    "    #check the X_i term\n",
    "    nominator_check = effsigsize * (nominator_bd_term**2)*signal_weight\n",
    "    nominator_check /= signal_sum\n",
    "    denominator_check = denominator_bd_term_perfect**2\n",
    "    signal_weight_check = signal_weight/signal_sum \n",
    "    \n",
    "    fomname_to_value = {\n",
    "        'EffSigSize'   : effsigsize,\n",
    "        'TaggingPower' : tagging_power,\n",
    "        'TaggingDavg'  : tagging_dilution_avg_tagged,\n",
    "        'TaggingEff'   : tagging_efficiency,\n",
    "        'TimeresPower' : timeres_power,\n",
    "        'BsFOM_p'      : Q_bs_perfect,\n",
    "        'BsFOM_pTim'   : Q_bs_perfterr,\n",
    "        'BsFOM_pTag'   : Q_bs_perftagg,\n",
    "        'BsFOM'        : Q_bs,\n",
    "        'BdFOM'        : Q_bd,\n",
    "        'BdFOM_p'      : Q_bd_perfect,\n",
    "        'X_nominator'  : nominator_check,\n",
    "        'X_denominator': denominator_check,\n",
    "        'signal_weight_check': signal_weight_check,\n",
    "        'signal_sum'   : signal_sum,\n",
    "        'signal_weight': signal_weight\n",
    "    }\n",
    "\n",
    "    return fomname_to_value       "
   ]
  },
  {
   "cell_type": "markdown",
   "metadata": {},
   "source": [
    "### Configure  and define cuts "
   ]
  },
  {
   "cell_type": "code",
   "execution_count": 11,
   "metadata": {
    "collapsed": false
   },
   "outputs": [],
   "source": [
    "lowerbound=5220 # rather arbitrary signal window definition\n",
    "upperbound=5450\n",
    "B0_FitDaughtersConst_M.setRange('SIGREGION',lowerbound,upperbound)\n",
    "\n",
    "subdir = '/home/chasenberg/plots/bdt_cuttuning'\n",
    "plot_dir    = os.path.join(subdir, 'plots')\n",
    "results_dir = os.path.join(subdir, 'results')\n",
    "plot_file   = os.path.join(plot_dir, 'all_plots.pdf')\n",
    "\n",
    "\n",
    "if not os.path.exists(plot_dir):\n",
    "    os.makedirs(plot_dir)\n",
    "if not os.path.exists(results_dir):\n",
    "    os.makedirs(results_dir)\n",
    "    \n",
    "mass_var_name = 'B0_FitDaughtersConst_M_flat'\n",
    "cuttype = 'B0_FitPVConst_MinIPCHI2anyPV_flat'\n",
    "\n",
    "cuts = np.linspace(0,20,20)\n",
    "#cuts = [-0.05]\n",
    "cuts_for_which_to_store_sdata = []   \n",
    "\n",
    "num_sig = []\n",
    "num_bkg = []\n",
    "num_all = []\n",
    "\n",
    "cut_to_performance = {} \n",
    "cut_to_shape = {}\n",
    "\n",
    "perform_fit = True\n",
    "do_splot    = True\n",
    "postfix = ''\n",
    "final_params_file = None\n",
    "oldParameters = None\n",
    "final_model = None"
   ]
  },
  {
   "cell_type": "markdown",
   "metadata": {},
   "source": [
    "### Fit, sWeights, calculate FOMs, plot"
   ]
  },
  {
   "cell_type": "code",
   "execution_count": 12,
   "metadata": {
    "collapsed": false,
    "scrolled": true
   },
   "outputs": [
    {
     "name": "stdout",
     "output_type": "stream",
     "text": [
      "INFO: Starting to test cut B0_FitPVConst_MinIPCHI2anyPV_flat>0.0\n",
      "INFO: Call CandidateSelectionGrimReaper\n",
      "Wait for GrimReaper\n",
      "GrimReaper hopefully finished\n",
      "INFO: Read selected data\n",
      "INFO: Start Calculation\n",
      "INFO: Building Ipatia (signal) + Exp (combinatorics) + Ipatia (bs-component) model for data\n",
      "INFO: configfile... /home/chasenberg/plots/bdt_cuttuning/results/paramsB0_FitPVConst_MinIPCHI2anyPV_flat0.0_init.txt does not exist\n",
      "INFO: Will try to copy parameters from last fit to get proper starting values\n",
      "INFO: This is the first fit, cannot copy\n",
      "INFO: Starting fit\n",
      "INFO: Fit converged\n",
      "INFO: Fit complete\n",
      "INFO: Calculating sWeights\n",
      "INFO: Finished calculating sWeights\n",
      "INFO: Start plotting\n",
      "INFO: Finish plotting\n",
      "INFO: Starting to test cut B0_FitPVConst_MinIPCHI2anyPV_flat>1.0526315789473684\n",
      "INFO: Call CandidateSelectionGrimReaper\n",
      "Wait for GrimReaper\n",
      "GrimReaper hopefully finished\n",
      "INFO: Read selected data\n",
      "INFO: Start Calculation\n",
      "INFO: Building Ipatia (signal) + Exp (combinatorics) + Ipatia (bs-component) model for data\n",
      "INFO: configfile... /home/chasenberg/plots/bdt_cuttuning/results/paramsB0_FitPVConst_MinIPCHI2anyPV_flat1.05263157895_init.txt does not exist\n",
      "INFO: Will try to copy parameters from last fit to get proper starting values\n",
      "INFO: Starting fit\n",
      "INFO: Fit converged\n",
      "INFO: Fit complete\n",
      "INFO: Calculating sWeights\n",
      "INFO: Finished calculating sWeights\n",
      "INFO: Start plotting\n",
      "INFO: Finish plotting\n",
      "INFO: Starting to test cut B0_FitPVConst_MinIPCHI2anyPV_flat>2.1052631578947367\n"
     ]
    },
    {
     "name": "stderr",
     "output_type": "stream",
     "text": [
      "TCanvas::Constructor:0: RuntimeWarning: Deleting canvas with same name: can\n"
     ]
    },
    {
     "name": "stdout",
     "output_type": "stream",
     "text": [
      "INFO: Call CandidateSelectionGrimReaper\n",
      "Wait for GrimReaper\n",
      "GrimReaper hopefully finished\n",
      "INFO: Read selected data\n",
      "INFO: Start Calculation\n",
      "INFO: Building Ipatia (signal) + Exp (combinatorics) + Ipatia (bs-component) model for data\n",
      "INFO: configfile... /home/chasenberg/plots/bdt_cuttuning/results/paramsB0_FitPVConst_MinIPCHI2anyPV_flat2.10526315789_init.txt does not exist\n",
      "INFO: Will try to copy parameters from last fit to get proper starting values\n",
      "INFO: Starting fit\n",
      "INFO: Fit converged\n",
      "INFO: Fit complete\n",
      "INFO: Calculating sWeights\n",
      "INFO: Finished calculating sWeights\n",
      "INFO: Start plotting\n",
      "INFO: Finish plotting\n",
      "INFO: Starting to test cut B0_FitPVConst_MinIPCHI2anyPV_flat>3.1578947368421053\n"
     ]
    },
    {
     "name": "stderr",
     "output_type": "stream",
     "text": [
      "TCanvas::Constructor:0: RuntimeWarning: Deleting canvas with same name: can\n"
     ]
    },
    {
     "name": "stdout",
     "output_type": "stream",
     "text": [
      "INFO: Call CandidateSelectionGrimReaper\n",
      "Wait for GrimReaper\n",
      "GrimReaper hopefully finished\n",
      "INFO: Read selected data\n",
      "INFO: Start Calculation\n",
      "INFO: Building Ipatia (signal) + Exp (combinatorics) + Ipatia (bs-component) model for data\n",
      "INFO: configfile... /home/chasenberg/plots/bdt_cuttuning/results/paramsB0_FitPVConst_MinIPCHI2anyPV_flat3.15789473684_init.txt does not exist\n",
      "INFO: Will try to copy parameters from last fit to get proper starting values\n",
      "INFO: Starting fit\n",
      "INFO: Fit converged\n",
      "INFO: Fit complete\n",
      "INFO: Calculating sWeights\n",
      "INFO: Finished calculating sWeights\n",
      "INFO: Start plotting\n",
      "INFO: Finish plotting\n",
      "INFO: Starting to test cut B0_FitPVConst_MinIPCHI2anyPV_flat>4.2105263157894735\n"
     ]
    },
    {
     "name": "stderr",
     "output_type": "stream",
     "text": [
      "TCanvas::Constructor:0: RuntimeWarning: Deleting canvas with same name: can\n"
     ]
    },
    {
     "name": "stdout",
     "output_type": "stream",
     "text": [
      "INFO: Call CandidateSelectionGrimReaper\n",
      "Wait for GrimReaper\n",
      "GrimReaper hopefully finished\n",
      "INFO: Read selected data\n",
      "INFO: Start Calculation\n",
      "INFO: Building Ipatia (signal) + Exp (combinatorics) + Ipatia (bs-component) model for data\n",
      "INFO: configfile... /home/chasenberg/plots/bdt_cuttuning/results/paramsB0_FitPVConst_MinIPCHI2anyPV_flat4.21052631579_init.txt does not exist\n",
      "INFO: Will try to copy parameters from last fit to get proper starting values\n",
      "INFO: Starting fit\n",
      "INFO: Fit converged\n",
      "INFO: Fit complete\n",
      "INFO: Calculating sWeights\n",
      "INFO: Finished calculating sWeights\n",
      "INFO: Start plotting\n",
      "INFO: Finish plotting\n",
      "INFO: Starting to test cut B0_FitPVConst_MinIPCHI2anyPV_flat>5.263157894736842\n"
     ]
    },
    {
     "name": "stderr",
     "output_type": "stream",
     "text": [
      "TCanvas::Constructor:0: RuntimeWarning: Deleting canvas with same name: can\n"
     ]
    },
    {
     "name": "stdout",
     "output_type": "stream",
     "text": [
      "INFO: Call CandidateSelectionGrimReaper\n",
      "Wait for GrimReaper\n",
      "GrimReaper hopefully finished\n",
      "INFO: Read selected data\n",
      "INFO: Start Calculation\n",
      "INFO: Building Ipatia (signal) + Exp (combinatorics) + Ipatia (bs-component) model for data\n",
      "INFO: configfile... /home/chasenberg/plots/bdt_cuttuning/results/paramsB0_FitPVConst_MinIPCHI2anyPV_flat5.26315789474_init.txt does not exist\n",
      "INFO: Will try to copy parameters from last fit to get proper starting values\n",
      "INFO: Starting fit\n",
      "INFO: Fit converged\n",
      "INFO: Fit complete\n",
      "INFO: Calculating sWeights\n",
      "INFO: Finished calculating sWeights\n",
      "INFO: Start plotting\n",
      "INFO: Finish plotting\n",
      "INFO: Starting to test cut B0_FitPVConst_MinIPCHI2anyPV_flat>6.315789473684211\n"
     ]
    },
    {
     "name": "stderr",
     "output_type": "stream",
     "text": [
      "TCanvas::Constructor:0: RuntimeWarning: Deleting canvas with same name: can\n"
     ]
    },
    {
     "name": "stdout",
     "output_type": "stream",
     "text": [
      "INFO: Call CandidateSelectionGrimReaper\n",
      "Wait for GrimReaper\n",
      "GrimReaper hopefully finished\n",
      "INFO: Read selected data\n",
      "INFO: Start Calculation\n",
      "INFO: Building Ipatia (signal) + Exp (combinatorics) + Ipatia (bs-component) model for data\n",
      "INFO: configfile... /home/chasenberg/plots/bdt_cuttuning/results/paramsB0_FitPVConst_MinIPCHI2anyPV_flat6.31578947368_init.txt does not exist\n",
      "INFO: Will try to copy parameters from last fit to get proper starting values\n",
      "INFO: Starting fit\n",
      "INFO: Fit converged\n",
      "INFO: Fit complete\n",
      "INFO: Calculating sWeights\n",
      "INFO: Finished calculating sWeights\n",
      "INFO: Start plotting\n",
      "INFO: Finish plotting\n",
      "INFO: Starting to test cut B0_FitPVConst_MinIPCHI2anyPV_flat>7.368421052631579\n"
     ]
    },
    {
     "name": "stderr",
     "output_type": "stream",
     "text": [
      "TCanvas::Constructor:0: RuntimeWarning: Deleting canvas with same name: can\n"
     ]
    },
    {
     "name": "stdout",
     "output_type": "stream",
     "text": [
      "INFO: Call CandidateSelectionGrimReaper\n",
      "Wait for GrimReaper\n",
      "GrimReaper hopefully finished\n",
      "INFO: Read selected data\n",
      "INFO: Start Calculation\n",
      "INFO: Building Ipatia (signal) + Exp (combinatorics) + Ipatia (bs-component) model for data\n",
      "INFO: configfile... /home/chasenberg/plots/bdt_cuttuning/results/paramsB0_FitPVConst_MinIPCHI2anyPV_flat7.36842105263_init.txt does not exist\n",
      "INFO: Will try to copy parameters from last fit to get proper starting values\n",
      "INFO: Starting fit\n",
      "INFO: Fit converged\n",
      "INFO: Fit complete\n",
      "INFO: Calculating sWeights\n",
      "INFO: Finished calculating sWeights\n",
      "INFO: Start plotting\n",
      "INFO: Finish plotting\n",
      "INFO: Starting to test cut B0_FitPVConst_MinIPCHI2anyPV_flat>8.421052631578947\n"
     ]
    },
    {
     "name": "stderr",
     "output_type": "stream",
     "text": [
      "TCanvas::Constructor:0: RuntimeWarning: Deleting canvas with same name: can\n"
     ]
    },
    {
     "name": "stdout",
     "output_type": "stream",
     "text": [
      "INFO: Call CandidateSelectionGrimReaper\n",
      "Wait for GrimReaper\n",
      "GrimReaper hopefully finished\n",
      "INFO: Read selected data\n",
      "INFO: Start Calculation\n",
      "INFO: Building Ipatia (signal) + Exp (combinatorics) + Ipatia (bs-component) model for data\n",
      "INFO: configfile... /home/chasenberg/plots/bdt_cuttuning/results/paramsB0_FitPVConst_MinIPCHI2anyPV_flat8.42105263158_init.txt does not exist\n",
      "INFO: Will try to copy parameters from last fit to get proper starting values\n",
      "INFO: Starting fit\n",
      "INFO: Fit converged\n",
      "INFO: Fit complete\n",
      "INFO: Calculating sWeights\n",
      "INFO: Finished calculating sWeights\n",
      "INFO: Start plotting\n",
      "INFO: Finish plotting\n",
      "INFO: Starting to test cut B0_FitPVConst_MinIPCHI2anyPV_flat>9.473684210526315\n"
     ]
    },
    {
     "name": "stderr",
     "output_type": "stream",
     "text": [
      "TCanvas::Constructor:0: RuntimeWarning: Deleting canvas with same name: can\n"
     ]
    },
    {
     "name": "stdout",
     "output_type": "stream",
     "text": [
      "INFO: Call CandidateSelectionGrimReaper\n",
      "Wait for GrimReaper\n",
      "GrimReaper hopefully finished\n",
      "INFO: Read selected data\n",
      "INFO: Start Calculation\n",
      "INFO: Building Ipatia (signal) + Exp (combinatorics) + Ipatia (bs-component) model for data\n",
      "INFO: configfile... /home/chasenberg/plots/bdt_cuttuning/results/paramsB0_FitPVConst_MinIPCHI2anyPV_flat9.47368421053_init.txt does not exist\n",
      "INFO: Will try to copy parameters from last fit to get proper starting values\n",
      "INFO: Starting fit\n",
      "INFO: Fit converged\n",
      "INFO: Fit complete\n",
      "INFO: Calculating sWeights\n",
      "INFO: Finished calculating sWeights\n",
      "INFO: Start plotting\n",
      "INFO: Finish plotting\n",
      "INFO: Starting to test cut B0_FitPVConst_MinIPCHI2anyPV_flat>10.526315789473683\n"
     ]
    },
    {
     "name": "stderr",
     "output_type": "stream",
     "text": [
      "TCanvas::Constructor:0: RuntimeWarning: Deleting canvas with same name: can\n"
     ]
    },
    {
     "name": "stdout",
     "output_type": "stream",
     "text": [
      "INFO: Call CandidateSelectionGrimReaper\n",
      "Wait for GrimReaper\n",
      "GrimReaper hopefully finished\n",
      "INFO: Read selected data\n",
      "INFO: Start Calculation\n",
      "INFO: Building Ipatia (signal) + Exp (combinatorics) + Ipatia (bs-component) model for data\n",
      "INFO: configfile... /home/chasenberg/plots/bdt_cuttuning/results/paramsB0_FitPVConst_MinIPCHI2anyPV_flat10.5263157895_init.txt does not exist\n",
      "INFO: Will try to copy parameters from last fit to get proper starting values\n",
      "INFO: Starting fit\n",
      "INFO: Fit converged\n",
      "INFO: Fit complete\n",
      "INFO: Calculating sWeights\n",
      "INFO: Finished calculating sWeights\n",
      "INFO: Start plotting\n",
      "INFO: Finish plotting\n",
      "INFO: Starting to test cut B0_FitPVConst_MinIPCHI2anyPV_flat>11.578947368421051\n"
     ]
    },
    {
     "name": "stderr",
     "output_type": "stream",
     "text": [
      "TCanvas::Constructor:0: RuntimeWarning: Deleting canvas with same name: can\n"
     ]
    },
    {
     "name": "stdout",
     "output_type": "stream",
     "text": [
      "INFO: Call CandidateSelectionGrimReaper\n",
      "Wait for GrimReaper\n",
      "GrimReaper hopefully finished\n",
      "INFO: Read selected data\n",
      "INFO: Start Calculation\n",
      "INFO: Building Ipatia (signal) + Exp (combinatorics) + Ipatia (bs-component) model for data\n",
      "INFO: configfile... /home/chasenberg/plots/bdt_cuttuning/results/paramsB0_FitPVConst_MinIPCHI2anyPV_flat11.5789473684_init.txt does not exist\n",
      "INFO: Will try to copy parameters from last fit to get proper starting values\n",
      "INFO: Starting fit\n",
      "INFO: Fit converged\n",
      "INFO: Fit complete\n",
      "INFO: Calculating sWeights\n",
      "INFO: Finished calculating sWeights\n",
      "INFO: Start plotting\n",
      "INFO: Finish plotting\n",
      "INFO: Starting to test cut B0_FitPVConst_MinIPCHI2anyPV_flat>12.631578947368421\n"
     ]
    },
    {
     "name": "stderr",
     "output_type": "stream",
     "text": [
      "TCanvas::Constructor:0: RuntimeWarning: Deleting canvas with same name: can\n"
     ]
    },
    {
     "name": "stdout",
     "output_type": "stream",
     "text": [
      "INFO: Call CandidateSelectionGrimReaper\n",
      "Wait for GrimReaper\n",
      "GrimReaper hopefully finished\n",
      "INFO: Read selected data\n",
      "INFO: Start Calculation\n",
      "INFO: Building Ipatia (signal) + Exp (combinatorics) + Ipatia (bs-component) model for data\n",
      "INFO: configfile... /home/chasenberg/plots/bdt_cuttuning/results/paramsB0_FitPVConst_MinIPCHI2anyPV_flat12.6315789474_init.txt does not exist\n",
      "INFO: Will try to copy parameters from last fit to get proper starting values\n",
      "INFO: Starting fit\n",
      "INFO: Fit converged\n",
      "INFO: Fit complete\n",
      "INFO: Calculating sWeights\n",
      "INFO: Finished calculating sWeights\n",
      "INFO: Start plotting\n",
      "INFO: Finish plotting\n",
      "INFO: Starting to test cut B0_FitPVConst_MinIPCHI2anyPV_flat>13.68421052631579\n"
     ]
    },
    {
     "name": "stderr",
     "output_type": "stream",
     "text": [
      "TCanvas::Constructor:0: RuntimeWarning: Deleting canvas with same name: can\n"
     ]
    },
    {
     "name": "stdout",
     "output_type": "stream",
     "text": [
      "INFO: Call CandidateSelectionGrimReaper\n",
      "Wait for GrimReaper\n",
      "GrimReaper hopefully finished\n",
      "INFO: Read selected data\n",
      "INFO: Start Calculation\n",
      "INFO: Building Ipatia (signal) + Exp (combinatorics) + Ipatia (bs-component) model for data\n",
      "INFO: configfile... /home/chasenberg/plots/bdt_cuttuning/results/paramsB0_FitPVConst_MinIPCHI2anyPV_flat13.6842105263_init.txt does not exist\n",
      "INFO: Will try to copy parameters from last fit to get proper starting values\n",
      "INFO: Starting fit\n",
      "INFO: Fit converged\n",
      "INFO: Fit complete\n",
      "INFO: Calculating sWeights\n",
      "INFO: Finished calculating sWeights\n",
      "INFO: Start plotting\n",
      "INFO: Finish plotting\n",
      "INFO: Starting to test cut B0_FitPVConst_MinIPCHI2anyPV_flat>14.736842105263158\n"
     ]
    },
    {
     "name": "stderr",
     "output_type": "stream",
     "text": [
      "TCanvas::Constructor:0: RuntimeWarning: Deleting canvas with same name: can\n"
     ]
    },
    {
     "name": "stdout",
     "output_type": "stream",
     "text": [
      "INFO: Call CandidateSelectionGrimReaper\n",
      "Wait for GrimReaper\n",
      "GrimReaper hopefully finished\n",
      "INFO: Read selected data\n",
      "INFO: Start Calculation\n",
      "INFO: Building Ipatia (signal) + Exp (combinatorics) + Ipatia (bs-component) model for data\n",
      "INFO: configfile... /home/chasenberg/plots/bdt_cuttuning/results/paramsB0_FitPVConst_MinIPCHI2anyPV_flat14.7368421053_init.txt does not exist\n",
      "INFO: Will try to copy parameters from last fit to get proper starting values\n",
      "INFO: Starting fit\n",
      "INFO: Fit converged\n",
      "INFO: Fit complete\n",
      "INFO: Calculating sWeights\n",
      "INFO: Finished calculating sWeights\n",
      "INFO: Start plotting\n",
      "INFO: Finish plotting\n",
      "INFO: Starting to test cut B0_FitPVConst_MinIPCHI2anyPV_flat>15.789473684210526\n"
     ]
    },
    {
     "name": "stderr",
     "output_type": "stream",
     "text": [
      "TCanvas::Constructor:0: RuntimeWarning: Deleting canvas with same name: can\n"
     ]
    },
    {
     "name": "stdout",
     "output_type": "stream",
     "text": [
      "INFO: Call CandidateSelectionGrimReaper\n",
      "Wait for GrimReaper\n",
      "GrimReaper hopefully finished\n",
      "INFO: Read selected data\n",
      "INFO: Start Calculation\n",
      "INFO: Building Ipatia (signal) + Exp (combinatorics) + Ipatia (bs-component) model for data\n",
      "INFO: configfile... /home/chasenberg/plots/bdt_cuttuning/results/paramsB0_FitPVConst_MinIPCHI2anyPV_flat15.7894736842_init.txt does not exist\n",
      "INFO: Will try to copy parameters from last fit to get proper starting values\n",
      "INFO: Starting fit\n",
      "INFO: Fit converged\n",
      "INFO: Fit complete\n",
      "INFO: Calculating sWeights\n",
      "INFO: Finished calculating sWeights\n",
      "INFO: Start plotting\n",
      "INFO: Finish plotting\n",
      "INFO: Starting to test cut B0_FitPVConst_MinIPCHI2anyPV_flat>16.842105263157894\n"
     ]
    },
    {
     "name": "stderr",
     "output_type": "stream",
     "text": [
      "TCanvas::Constructor:0: RuntimeWarning: Deleting canvas with same name: can\n"
     ]
    },
    {
     "name": "stdout",
     "output_type": "stream",
     "text": [
      "INFO: Call CandidateSelectionGrimReaper\n",
      "Wait for GrimReaper\n",
      "GrimReaper hopefully finished\n",
      "INFO: Read selected data\n",
      "INFO: Start Calculation\n",
      "INFO: Building Ipatia (signal) + Exp (combinatorics) + Ipatia (bs-component) model for data\n",
      "INFO: configfile... /home/chasenberg/plots/bdt_cuttuning/results/paramsB0_FitPVConst_MinIPCHI2anyPV_flat16.8421052632_init.txt does not exist\n",
      "INFO: Will try to copy parameters from last fit to get proper starting values\n",
      "INFO: Starting fit\n",
      "INFO: Fit converged\n",
      "INFO: Fit complete\n",
      "INFO: Calculating sWeights\n",
      "INFO: Finished calculating sWeights\n",
      "INFO: Start plotting\n",
      "INFO: Finish plotting\n",
      "INFO: Starting to test cut B0_FitPVConst_MinIPCHI2anyPV_flat>17.894736842105264\n"
     ]
    },
    {
     "name": "stderr",
     "output_type": "stream",
     "text": [
      "TCanvas::Constructor:0: RuntimeWarning: Deleting canvas with same name: can\n"
     ]
    },
    {
     "name": "stdout",
     "output_type": "stream",
     "text": [
      "INFO: Call CandidateSelectionGrimReaper\n",
      "Wait for GrimReaper\n",
      "GrimReaper hopefully finished\n",
      "INFO: Read selected data\n",
      "INFO: Start Calculation\n",
      "INFO: Building Ipatia (signal) + Exp (combinatorics) + Ipatia (bs-component) model for data\n",
      "INFO: configfile... /home/chasenberg/plots/bdt_cuttuning/results/paramsB0_FitPVConst_MinIPCHI2anyPV_flat17.8947368421_init.txt does not exist\n",
      "INFO: Will try to copy parameters from last fit to get proper starting values\n",
      "INFO: Starting fit\n",
      "INFO: Fit converged\n",
      "INFO: Fit complete\n",
      "INFO: Calculating sWeights\n",
      "INFO: Finished calculating sWeights\n",
      "INFO: Start plotting\n",
      "INFO: Finish plotting\n",
      "INFO: Starting to test cut B0_FitPVConst_MinIPCHI2anyPV_flat>18.94736842105263\n"
     ]
    },
    {
     "name": "stderr",
     "output_type": "stream",
     "text": [
      "TCanvas::Constructor:0: RuntimeWarning: Deleting canvas with same name: can\n"
     ]
    },
    {
     "name": "stdout",
     "output_type": "stream",
     "text": [
      "INFO: Call CandidateSelectionGrimReaper\n",
      "Wait for GrimReaper\n",
      "GrimReaper hopefully finished\n",
      "INFO: Read selected data\n",
      "INFO: Start Calculation\n",
      "INFO: Building Ipatia (signal) + Exp (combinatorics) + Ipatia (bs-component) model for data\n",
      "INFO: configfile... /home/chasenberg/plots/bdt_cuttuning/results/paramsB0_FitPVConst_MinIPCHI2anyPV_flat18.9473684211_init.txt does not exist\n",
      "INFO: Will try to copy parameters from last fit to get proper starting values\n",
      "INFO: Starting fit\n",
      "INFO: Fit converged\n",
      "INFO: Fit complete\n",
      "INFO: Calculating sWeights\n",
      "INFO: Finished calculating sWeights\n",
      "INFO: Start plotting\n",
      "INFO: Finish plotting\n",
      "INFO: Starting to test cut B0_FitPVConst_MinIPCHI2anyPV_flat>20.0\n"
     ]
    },
    {
     "name": "stderr",
     "output_type": "stream",
     "text": [
      "TCanvas::Constructor:0: RuntimeWarning: Deleting canvas with same name: can\n"
     ]
    },
    {
     "name": "stdout",
     "output_type": "stream",
     "text": [
      "INFO: Call CandidateSelectionGrimReaper\n",
      "Wait for GrimReaper\n",
      "GrimReaper hopefully finished\n",
      "INFO: Read selected data\n",
      "INFO: Start Calculation\n",
      "INFO: Building Ipatia (signal) + Exp (combinatorics) + Ipatia (bs-component) model for data\n",
      "INFO: configfile... /home/chasenberg/plots/bdt_cuttuning/results/paramsB0_FitPVConst_MinIPCHI2anyPV_flat20.0_init.txt does not exist\n",
      "INFO: Will try to copy parameters from last fit to get proper starting values\n",
      "INFO: Starting fit\n",
      "INFO: Fit converged\n",
      "INFO: Fit complete\n",
      "INFO: Calculating sWeights\n",
      "INFO: Finished calculating sWeights\n",
      "INFO: Start plotting\n",
      "INFO: Finish plotting\n"
     ]
    },
    {
     "name": "stderr",
     "output_type": "stream",
     "text": [
      "TCanvas::Constructor:0: RuntimeWarning: Deleting canvas with same name: can\n"
     ]
    }
   ],
   "source": [
    "from ROOT import RooArgList\n",
    "import subprocess, os\n",
    "import time\n",
    "import root_pandas as rp\n",
    "\n",
    "\n",
    "variables = [\n",
    "        'B0_FitPVConst_MinIPCHI2anyPV_flat',\n",
    "        'B0_FitDaughtersConst_M_flat',\n",
    "        'B0_TAU',\n",
    "        'B0_TAUERR',\n",
    "        'BDTresponse',\n",
    "        'B0_TAGDECISION_OS',\n",
    "        'B0_TAGOMEGA_OS',\n",
    "        'idxPV',\n",
    "        'idxEventNumber',\n",
    "        'eventNumber',\n",
    "        'idxRunNumber'\n",
    "            ]\n",
    "\n",
    "data_fit_cut_df = rp.read_root('/fhgfs/users/chasenberg/data/2015_2016_merged/jpsimumuks/Bd2JpsiKS_BDTresponse.root',columns=variables, where='BDTresponse>1.15',key='Bd2JpsiKS')\n",
    "data_fit_cut_df.to_root('/fhgfs/users/chasenberg/data/2015_2016_merged/jpsimumuks/interim.root',key='Bd2JpsiKS')\n",
    "\n",
    "# Read data and fit it\n",
    "dataset_file_name = '/fhgfs/users/chasenberg/data/2015_2016_merged/jpsimumuks/interim.root'\n",
    "data = ROOT.TFile(dataset_file_name)\n",
    "dataset_tree = data.Get('Bd2JpsiKS') \n",
    "dataset_tree.GetEntries()\n",
    "\n",
    "\n",
    "\n",
    "x=None\n",
    "for cut in cuts:\n",
    "    print('INFO: Starting to test cut ' + '{0}>{1}'.format(cuttype,cut), flush=True)\n",
    "    #data_fit_cut = data_after_import.reduce('{0}>{1}'.format(cuttype,cut))\n",
    "    data_fit_cut_df.query('{0}>{1}'.format(cuttype,cut)).to_root('/fhgfs/users/chasenberg/data/2015_2016_merged/jpsimumuks/interim.root',key='Bd2JpsiKS')\n",
    "    print('INFO: Call CandidateSelectionGrimReaper', flush=True)\n",
    "    my_env = os.environ.copy()\n",
    "    my_env['PATH'] = '/usr/local/bin:/bin:/usr/bin:/usr/local/sbin:/usr/sbin:/sbin:/home/chasenberg/bin'\n",
    "    my_env['LD_LIBRARY_PATH'] = '/usr/local/lib'\n",
    "    my_env['script'] = '/home/chasenberg/repos/b2cc_sin2beta_run2/notebooks/selection'\n",
    "    my_command = 'source /lhcbsoft/LHCbSoftwareSetup.sh &&' \\\n",
    "             'lb-run DaVinci/v41r2 $BASH -c \"' \\\n",
    "             'echo $PATH && ' \\\n",
    "             'source /doosoft/InstallDooSoftware/LoadDooSoftware && CandidateSelectionGrimReaper /fhgfs/users/chasenberg/data/2015_2016_merged/jpsimumuks/interim.root Bd2JpsiKS /fhgfs/users/chasenberg/data/2015_2016_merged/jpsimumuks/interim.root Bd2JpsiKS \"idxRunNumber\"\"'                     \n",
    "    subprocess.Popen([my_command], env=my_env, shell=True)\n",
    "   # subprocess.call(('bash /home/chasenberg/repos/b2cc_sin2beta_run2/notebooks/selection/random_sel.sh'),shell=True)                      \n",
    "    print(\"Wait for GrimReaper\")\n",
    "    time.sleep(40.0)    # pause 5.5 seconds\n",
    "    print(\"GrimReaper hopefully finished\")\n",
    "    print('INFO: Read selected data', flush=True)\n",
    "    data_fit_cut = rp.read_root('/fhgfs/users/chasenberg/data/2015_2016_merged/jpsimumuks/interim.root',key='Bd2JpsiKS')\n",
    "    print('INFO: Start Calculation', flush=True)\n",
    "    dataset_file_name = '/fhgfs/users/chasenberg/data/2015_2016_merged/jpsimumuks/interim.root'\n",
    "    data = ROOT.TFile(dataset_file_name)\n",
    "    dataset_tree = data.Get('Bd2JpsiKS') \n",
    "    data_fit_cut = RooDataSet('data_after_import', 'data_after_import', dataset_tree, observables)\n",
    "    print('INFO: Building Ipatia (signal) + Exp (combinatorics) + Ipatia (bs-component) model for data', flush=True) \n",
    "    final_model = build_mass_model(B0_FitDaughtersConst_M)\n",
    "  \n",
    "    parameters_file_name  = 'params' + postfix + cuttype + str(cut) + '.txt';\n",
    "    parameters_init_name  = parameters_file_name.replace('.txt', '_init.txt')\n",
    "    parameters_final_name = parameters_file_name.replace('.txt', '_final.txt')\n",
    "    \n",
    "    if os.path.exists(os.path.join(results_dir, parameters_init_name)):\n",
    "        print('INFO: Reading parameters from configfile '  + os.path.join(results_dir, parameters_init_name), flush=True)\n",
    "        final_model.getParameters(data_fit_cut).readFromFile(os.path.join(results_dir, parameters_init_name))\n",
    "        if oldParameters:\n",
    "            print('INFO: Read following parameters from configfile:', flush=True)\n",
    "            final_model.getParameters(data_fit_cut).Print('v')\n",
    "    else:\n",
    "        print('INFO: configfile... '  + os.path.join(results_dir, parameters_init_name) + ' does not exist', flush=True)\n",
    "        print('INFO: Will try to copy parameters from last fit to get proper starting values', flush=True)\n",
    "        if oldParameters:\n",
    "            copy_old_new(oldParameters, final_model.getParameters(data_fit_cut))\n",
    "        else:\n",
    "            print('INFO: This is the first fit, cannot copy')\n",
    "        \n",
    "    if perform_fit:\n",
    "        print('INFO: Starting fit', flush=True)\n",
    "        fit_result = final_model.fitTo(data_fit_cut,\n",
    "                                      RooFit.NumCPU(6),\n",
    "                                      RooFit.Minimizer('Minuit','minimize'),\n",
    "                                      RooFit.Hesse(True),\n",
    "                                      RooFit.Optimize(0),\n",
    "                                      RooFit.PrintEvalErrors(0),\n",
    "                                      RooFit.Save(True),\n",
    "                                      RooFit.Extended(),\n",
    "                                      RooFit.Verbose(True))\n",
    "\n",
    "        if fit_result:\n",
    "            fit_result.Print('v')\n",
    "            fit_result.correlationMatrix().Print('v')\n",
    "            if fit_result.status()==0:\n",
    "                print('INFO: Fit converged')\n",
    "            else:\n",
    "                print('INFO: Status '+str(fit_result.status()))\n",
    "            print('INFO: Fit complete', flush=True)\n",
    "        else:\n",
    "            print('ERROR: There is no fitresult', flush=True)\n",
    "        \n",
    "    final_params_file = os.path.join(results_dir, parameters_final_name)\n",
    "    final_model.getParameters(data_fit_cut).writeToFile(final_params_file)\n",
    "    oldParameters = final_model.getParameters(data_fit_cut).snapshot()\n",
    "\n",
    "    cut_to_shape[cut] = {}\n",
    "    fill_shape(oldParameters, cut_to_shape[cut])\n",
    "    \n",
    "   \n",
    "    cut_to_performance[cut] = {}\n",
    "    fill_performance(final_model, B0_FitDaughtersConst_M, cut_to_performance[cut])\n",
    "    \n",
    "    sig_num = []\n",
    "    bkg_num = []\n",
    "    if do_splot:\n",
    "        print('INFO: Calculating sWeights', flush=True)\n",
    "        iter = final_model.getParameters(data_fit_cut).createIterator()\n",
    "        var = iter.Next()\n",
    "        while var:\n",
    "            # print(var.GetName())\n",
    "            if not 'yield' in var.GetName():\n",
    "                # print('Setting {} constant'.format(var.GetName()), flush=True)\n",
    "                var.setConstant()\n",
    "            var=iter.Next()\n",
    "            \n",
    "        var_sig_yield = final_model.getParameters(data_fit_cut).find('sig_yield')\n",
    "        var_bkg_yield = final_model.getParameters(data_fit_cut).find('bkg_yield')\n",
    "        var_bs_yield = final_model.getParameters(data_fit_cut).find('bs_yield')\n",
    "        sData = RooStats.SPlot('sData', 'sData', data_fit_cut, final_model, RooArgList(var_sig_yield,var_bkg_yield,var_bs_yield))\n",
    "        foms = calculate_foms(data_fit_cut)\n",
    "        cut_to_performance[cut].update(foms)\n",
    "        sig_num.append(var_sig_yield.getValV())\n",
    "        bkg_num.append(var_bkg_yield.getValV())\n",
    "        print('INFO: Finished calculating sWeights', flush=True)\n",
    "            \n",
    "        if cut in cuts_for_which_to_store_sdata:\n",
    "            from ROOT import TFile\n",
    "            from array import array\n",
    "                \n",
    "            filename_sweighted_data = dataset_file_name.replace('.root', '_sW{}{}.root'.format(cuttype,cut))\n",
    "            f_all_new = TFile(filename_sweighted_data, 'RECREATE')\n",
    "            tree_w_obscuts = dataset_tree.CopyTree('{0}>{1}'.format(cuttype,cut))\n",
    "            print('INFO: Entries in TTree: {}'.format(tree_w_obscuts.GetEntries()))\n",
    "            print('INFO: Entries in Dataset: {}'.format(data_fit_cut.numEntries()))\n",
    "            num_all.append(data_fit_cut.numEntries())\n",
    "            copy_ttree_append_sweights(tree_w_obscuts, data_fit_cut)\n",
    "            tree_w_obscuts.Write()\n",
    "            f_all_new.Close()\n",
    "    \n",
    "    print('INFO: Start plotting', flush=True)\n",
    "    sys.path.append('/home/vmueller/repos/root_utils/')\n",
    "    from ROOT import TColor\n",
    "    import rootnotes  # For displaying TCanvas in notebooks\n",
    "    from lhcb_style import set_lhcb_style # Set basic LHCb plot style\n",
    "    set_lhcb_style()   \n",
    "    from root_utils import plot_pulls\n",
    "\n",
    "    sig_set = ROOT.RooArgSet(final_model.getComponents().find('sig_pdf_ext'))\n",
    "    bkg_set = ROOT.RooArgSet(final_model.getComponents().find('bkg_pdf_ext'))\n",
    "    bs_set = ROOT.RooArgSet(final_model.getComponents().find('bs_pdf_ext'))\n",
    "\n",
    "    # Prepare frame\n",
    "    plot_frame = B0_FitDaughtersConst_M.frame(ROOT.RooFit.Bins(100))\n",
    "    data_fit_cut.plotOn(plot_frame, ROOT.RooFit.Name('data'))\n",
    "    final_model.plotOn(plot_frame, RooFit.Components(sig_set), RooFit.LineStyle(2), RooFit.LineColor(226), ROOT.RooFit.Name('sig_fit'))\n",
    "    final_model.plotOn(plot_frame, RooFit.Components(bs_set), RooFit.LineStyle(3), RooFit.LineColor(410), ROOT.RooFit.Name('bs_fit'))\n",
    "    final_model.plotOn(plot_frame, RooFit.Components(bkg_set), RooFit.LineStyle(8), RooFit.LineColor(96), ROOT.RooFit.Name('bkg_fit'))\n",
    "    final_model.plotOn(plot_frame,RooFit.LineColor(1))\n",
    "\n",
    "    ### Add additional informations to the plot\n",
    "    text_size = 0.035\n",
    "    # Create TLegend\n",
    "    legend = ROOT.TLegend(0.7, 0.75, 0.9, 0.9)\n",
    "    legend.AddEntry(plot_frame.findObject('data'), 'Data', 'p')\n",
    "    legend.AddEntry(plot_frame.findObject('sig_fit'), '#it{B}^{0}#rightarrow#it{#psi(2S)}#it{K}_{#kern[-0.3]{S}}', 'l')\n",
    "    legend.AddEntry(plot_frame.findObject('bs_fit'), '#it{B}^{0}_{s}#rightarrow#it{#psi(2S)}#it{K}_{#kern[-0.3]{S}}', 'l')\n",
    "    legend.AddEntry(plot_frame.findObject('bkg_fit'), 'Comb. background', 'l')\n",
    "    \n",
    "    \n",
    "    legend.SetTextSize(text_size)\n",
    "\n",
    "    # Plot pulls\n",
    "    plotname = 'plot' + postfix + cuttype + str(cut)\n",
    "    can, _ = plot_pulls(plotname, plot_frame, legend=legend, save_path= subdir + '/plots/', logy=True) \n",
    "    can  # To display plot in notebooks\n",
    "    print('INFO: Finish plotting', flush=True)"
   ]
  },
  {
   "cell_type": "markdown",
   "metadata": {},
   "source": [
    "### Print the performance values"
   ]
  },
  {
   "cell_type": "code",
   "execution_count": 13,
   "metadata": {
    "collapsed": false
   },
   "outputs": [
    {
     "name": "stdout",
     "output_type": "stream",
     "text": [
      "BDT>   Signal     Background S/B          S/S+B        S/sqrt(S+B)   S3/(S+B)2  FOM        Q          Q_Bd      \n",
      "0.0    1.22422e+05 7.6619e+04 1.598        0.6151       274.4         4.6312e+04 1.023e+05  2664.3     0.0049752 \n",
      "1.053  1.22328e+05 7.5361e+04 1.623        0.6188       275.1         4.684e+04  1.0242e+05 2667.7     0.0049839 \n",
      "2.105  1.45484e+05 8.0589e+04 1.805        0.6435       306.0         6.0249e+04 1.2355e+05 3166.0     0.0056961 \n",
      "3.158  1.21999e+05 7.2745e+04 1.677        0.6265       276.5         4.7878e+04 1.0253e+05 2671.8     0.0049889 \n",
      "4.211  1.2183e+05 7.1764e+04 1.698        0.6293       276.9         4.8248e+04 1.0254e+05 2672.6     0.0049905 \n",
      "5.263  1.21685e+05 7.0879e+04 1.717        0.6319       277.3         4.8591e+04 1.0255e+05 2671.9     0.0049918 \n",
      "6.316  1.21517e+05 7.0094e+04 1.734        0.6342       277.6         4.8873e+04 1.0252e+05 2672.2     0.0049906 \n",
      "7.368  1.2138e+05 6.9411e+04 1.749        0.6362       277.9         4.9127e+04 1.0251e+05 2672.7     0.0049914 \n",
      "8.421  1.21233e+05 6.8885e+04 1.76         0.6377       278.0         4.9296e+04 1.0245e+05 2670.2     0.0049887 \n",
      "9.474  1.21089e+05 6.8418e+04 1.77         0.639        278.2         4.9438e+04 1.024e+05  2668.7     0.0049882 \n",
      "10.53  1.20967e+05 6.7987e+04 1.779        0.6402       278.3         4.9578e+04 1.0237e+05 2669.2     0.0049892 \n",
      "11.58  1.20864e+05 6.7592e+04 1.788        0.6413       278.4         4.9713e+04 1.0233e+05 2669.5     0.0049915 \n",
      "12.63  1.20765e+05 6.7237e+04 1.796        0.6424       278.5         4.9831e+04 1.0229e+05 2668.9     0.0049926 \n",
      "13.68  1.20664e+05 6.6872e+04 1.804        0.6434       278.6         4.9953e+04 1.0226e+05 2668.3     0.00499   \n",
      "14.74  1.20564e+05 6.6558e+04 1.811        0.6443       278.7         5.005e+04  1.0221e+05 2667.4     0.0049894 \n",
      "15.79  1.20445e+05 6.6267e+04 1.818        0.6451       278.7         5.0121e+04 1.0215e+05 2665.9     0.004988  \n",
      "16.84  1.20354e+05 6.6036e+04 1.823        0.6457       278.8         5.0181e+04 1.0211e+05 2664.5     0.0049866 \n",
      "17.89  1.20245e+05 6.5794e+04 1.828        0.6463       278.8         5.0233e+04 1.0203e+05 2662.6     0.0049825 \n",
      "18.95  1.20161e+05 6.5562e+04 1.833        0.647        278.8         5.0299e+04 1.02e+05   2661.2     0.0049828 \n",
      "20.0   1.20069e+05 6.5343e+04 1.838        0.6476       278.8         5.0352e+04 1.0195e+05 2660.3     0.004979  \n"
     ]
    }
   ],
   "source": [
    "print(\"{:<6} {:<10} {:<10} {:<12} {:<12} {:<13} {:<10} {:<10} {:<10} {:<10}\".format(\"BDT>\", \"Signal\", \"Background\", \"S/B\" ,\"S/S+B\", \"S/sqrt(S+B)\", \"S3/(S+B)2\",\"FOM\", \"Q\", \"Q_Bd\"))\n",
    "cuts.sort()\n",
    "for cut in cuts:\n",
    "  performance = cut_to_performance[cut]\n",
    "  print(\"{:<6.4} {:<10.6} {:<10.5} {:<12.4} {:<12.4} {:<13.4} {:<10.5} {:<10.5} {:<10.5} {:<10.5}\".format(cut,\n",
    "                                                                              performance[\"sig_yield\"],\n",
    "                                                                              performance[\"bkg_yield\"],\n",
    "                                                                              performance[\"s_over_b\"],\n",
    "                                                                              performance[\"s_over_spb\"],\n",
    "                                                                              performance[\"s_over_sqrt_spb\"],\n",
    "                                                                              performance[\"s3_over_spb2\"],\n",
    "                                                                              performance[\"EffSigSize\"],\n",
    "                                                                              performance[\"BsFOM\"],\n",
    "                                                                              performance[\"BdFOM\"]))"
   ]
  },
  {
   "cell_type": "markdown",
   "metadata": {},
   "source": [
    "### Print the FOMs"
   ]
  },
  {
   "cell_type": "code",
   "execution_count": 14,
   "metadata": {
    "collapsed": false
   },
   "outputs": [
    {
     "name": "stdout",
     "output_type": "stream",
     "text": [
      "BDT>   EffSig   TagPow   D      eff_t   BdFOM_p  TimPow   BsFOM_p    BsFOM_pTag   BsFOM_pTim   BsFOM      BdFOM       \n",
      "0.0    1.02295e+05 0.026    0.092  0.283   3.9298   1.0      1.02295e+05 1.02295e+05  2664.27      2664.27    0.00497522  \n",
      "1.05   1.02419e+05 0.026    0.092  0.283   3.9356   1.0      1.02418e+05 1.02418e+05  2667.68      2667.68    0.00498389  \n",
      "2.11   1.23554e+05 0.0256   0.0902 0.284   4.0002   1.0      1.23554e+05 1.23554e+05  3166.02      3166.02    0.00569609  \n",
      "3.16   1.02534e+05 0.0261   0.0921 0.283   3.9466   1.0      1.02533e+05 1.02533e+05  2671.77      2671.77    0.00498886  \n",
      "4.21   1.02538e+05 0.0261   0.0921 0.283   3.9508   1.0      1.02537e+05 1.02537e+05  2672.58      2672.58    0.00499045  \n",
      "5.26   1.02547e+05 0.0261   0.0921 0.283   3.9546   1.0      1.02546e+05 1.02546e+05  2671.94      2671.94    0.00499182  \n",
      "6.32   1.02524e+05 0.0261   0.0921 0.283   3.9573   1.0      1.02523e+05 1.02523e+05  2672.2       2672.2     0.00499058  \n",
      "7.37   1.0251e+05 0.0261   0.0921 0.283   3.9599   1.0      1.02509e+05 1.02509e+05  2672.73      2672.73    0.00499141  \n",
      "8.42   1.02452e+05 0.0261   0.0921 0.283   3.9614   1.0      1.02451e+05 1.02451e+05  2670.22      2670.22    0.00498869  \n",
      "9.47   1.024e+05 0.0261   0.0921 0.283   3.9631   1.0      1.024e+05  1.024e+05    2668.68      2668.68    0.00498822  \n",
      "10.5   1.02369e+05 0.0261   0.0921 0.283   3.965    1.0      1.02368e+05 1.02368e+05  2669.17      2669.17    0.00498925  \n",
      "11.6   1.02331e+05 0.0261   0.0921 0.283   3.9664   1.0      1.0233e+05 1.0233e+05   2669.49      2669.49    0.00499145  \n",
      "12.6   1.02294e+05 0.0261   0.0922 0.283   3.9675   1.0      1.02294e+05 1.02294e+05  2668.89      2668.89    0.0049926   \n",
      "13.7   1.02259e+05 0.0261   0.0922 0.283   3.9689   1.0      1.02259e+05 1.02259e+05  2668.32      2668.32    0.00499002  \n",
      "14.7   1.02215e+05 0.0261   0.0922 0.283   3.97     1.0      1.02214e+05 1.02214e+05  2667.42      2667.42    0.00498942  \n",
      "15.8   1.02148e+05 0.0261   0.0922 0.283   3.9709   1.0      1.02147e+05 1.02147e+05  2665.86      2665.86    0.00498802  \n",
      "16.8   1.02106e+05 0.0261   0.0922 0.283   3.9719   1.0      1.02105e+05 1.02105e+05  2664.49      2664.49    0.00498661  \n",
      "17.9   1.02034e+05 0.0261   0.0922 0.283   3.9725   1.0      1.02033e+05 1.02033e+05  2662.57      2662.57    0.0049825   \n",
      "18.9   1.01997e+05 0.0261   0.0922 0.283   3.9734   1.0      1.01997e+05 1.01997e+05  2661.15      2661.15    0.00498278  \n",
      "20.0   1.01947e+05 0.0261   0.0922 0.283   3.974    1.0      1.01946e+05 1.01946e+05  2660.33      2660.33    0.004979    \n"
     ]
    }
   ],
   "source": [
    "print(\"{:<6} {:<8} {:<8} {:<6} {:<7} {:<8} {:<8} {:<10} {:<12} {:<12} {:<10} {:<12}\".format(\"BDT>\",\n",
    "                                                               \"EffSig\",\n",
    "                                                               \"TagPow\",\n",
    "                                                               \"D\",\n",
    "                                                               \"eff_t\",\n",
    "                                                               \"BdFOM_p\",\n",
    "                                                               \"TimPow\",\n",
    "                                                               \"BsFOM_p\",\n",
    "                                                               \"BsFOM_pTag\" ,\n",
    "                                                               \"BsFOM_pTim\",\n",
    "                                                               \"BsFOM\",\n",
    "                                                               \"BdFOM\"))\n",
    "cuts.sort()\n",
    "for cut in cuts:\n",
    "  performance = cut_to_performance[cut]\n",
    "  print(\"{:<6.3} {:<8.6} {:<8.3} {:<6.3} {:<7.3} {:<8.5} {:<8.4} {:<10.6} {:<12.6} {:<12.6} {:<10.6} {:<12.6}\".format(cut,\n",
    "                                                                             performance[\"EffSigSize\"],\n",
    "                                                                             performance[\"TaggingPower\"],\n",
    "                                                                             performance[\"TaggingDavg\"],\n",
    "                                                                             performance[\"TaggingEff\"],\n",
    "                                                                             performance[\"BdFOM_p\"],\n",
    "                                                                             performance[\"TimeresPower\"],\n",
    "                                                                             performance[\"BsFOM_p\"],\n",
    "                                                                             performance[\"BsFOM_pTag\"],\n",
    "                                                                             performance[\"BsFOM_pTim\"],\n",
    "                                                                             performance[\"BsFOM\"],\n",
    "                                                                             performance[\"BdFOM\"]))"
   ]
  },
  {
   "cell_type": "markdown",
   "metadata": {},
   "source": [
    "### Functions to unpack dictionaries (paramters and cuts)"
   ]
  },
  {
   "cell_type": "code",
   "execution_count": 15,
   "metadata": {
    "collapsed": false
   },
   "outputs": [],
   "source": [
    "import numpy as np\n",
    "def unpack_parameter_to_nparray(parameter, cut_to_shape):\n",
    "    x = np.array(list(cut_to_shape.keys()))\n",
    "    x.sort()\n",
    "    y_value = np.array([cut_to_shape[i][parameter+\"_value\"] for i in x])\n",
    "    y_errlo = np.array([cut_to_shape[i][parameter+\"_errlo\"] for i in x])\n",
    "    y_errhi = np.array([cut_to_shape[i][parameter+\"_errhi\"] for i in x])\n",
    "    y_errors= abs(np.vstack([y_errlo,y_errhi]))\n",
    "    return x, y_value, y_errors\n",
    "\n",
    "def unpack_cut_dict(cut_dict, normalize=True):\n",
    "    cuts = np.array(list(cut_dict.keys()))\n",
    "    cuts.sort()\n",
    "    \n",
    "    new_dict = {}\n",
    "    for cut in cuts:\n",
    "        parameters_dict = cut_dict[cut]\n",
    "        for parameter, value in parameters_dict.items():\n",
    "            if parameter in new_dict:\n",
    "                new_dict[parameter].append(value)\n",
    "            else:\n",
    "                new_dict[parameter] = [value]\n",
    "    \n",
    "    for parameter, values in new_dict.items():\n",
    "        new_dict[parameter] = np.array(values)\n",
    "        if normalize:\n",
    "            new_dict[parameter] = values/np.max(np.abs(values))\n",
    "    \n",
    "    return cuts, new_dict\n",
    "\n",
    "x, ys = unpack_cut_dict(cut_to_performance)\n",
    "for parameter, values in ys.items():\n",
    "    if \"value\" in parameter:\n",
    "        print(values)\n",
    "        y_errlo = np.array(ys[parameter.replace(\"_value\",\"_errlo\")])\n",
    "        y_errhi = np.array(ys[parameter.replace(\"_value\",\"_errhi\")])\n",
    "        y_errors= abs(np.vstack([y_errlo,y_errhi]))\n",
    "        plt.errorbar(x,values,yerr=y_errors,marker='.',linestyle='', label='sigma')\n",
    "        plt.xlabel(parameter)\n",
    "        plotname = parameter + '.pdf'\n",
    "        singleplot_file = os.path.join(plot_dir, plotname)\n",
    "        plt.savefig(singleplot_file)\n",
    "        plt.show()"
   ]
  },
  {
   "cell_type": "markdown",
   "metadata": {},
   "source": [
    "### Plot FOMs"
   ]
  },
  {
   "cell_type": "code",
   "execution_count": 22,
   "metadata": {
    "collapsed": false,
    "scrolled": true
   },
   "outputs": [
    {
     "data": {
      "image/png": "[encoded data removed]",
      "text/plain": [
       "<matplotlib.figure.Figure at 0x7f6f823bc898>"
      ]
     },
     "metadata": {},
     "output_type": "display_data"
    }
   ],
   "source": [
    "import random\n",
    "import seaborn as sns\n",
    "sns.set_style(\"whitegrid\")\n",
    "sns.set_style(\"whitegrid\", {\"legend.frameon\": True})\n",
    "\n",
    "x, ys = unpack_cut_dict(cut_to_performance)\n",
    "shift = 0.0\n",
    "\n",
    "foms_to_plot = {}\n",
    "foms_to_plot[\"TaggingPower\"] = r\"Flavour Tagging\"\n",
    "foms_to_plot[\"TimeresPower\"] = \"Time resolution\"\n",
    "foms_to_plot[\"EffSigSize\"]   = \"Effective signalsize\"\n",
    "foms_to_plot[\"BsFOM\"]        = \"$X_i$-term\"\n",
    "#foms_to_plot[\"BdFOM_p\"]      = \"FOM ${}_{B^0_d}$\"\n",
    "foms_to_plot[\"BdFOM\"]        = \"FOM\"\n",
    "\n",
    "#for parameter, values in ys.items():\n",
    "for parameter in foms_to_plot:\n",
    "    values=ys[parameter]\n",
    "    #if \"FOM\" in parameter or \"EffSig\" in parameter or \"s3_over_spb2\" in parameter\\\n",
    "    #or \"TaggingPower\" in parameter or \"TimeresPower\" in parameter:\n",
    "    if parameter in foms_to_plot:\n",
    "        plt.errorbar(x,values+random.random()*shift,marker='.',linestyle='-',label=foms_to_plot[parameter])\n",
    "        plt.xlabel(\"BDTCut\")\n",
    "'''values_EffSigSize=ys['EffSigSize']\n",
    "values_TimeresPower=ys['TimeresPower']\n",
    "values_TaggingPower=ys['TaggingPower']\n",
    "values_BdFOM_p=ys['BdFOM_p']\n",
    "values_BdFOM=ys['BdFOM']\n",
    "\n",
    "\n",
    "plt.errorbar(x,values_EffSigSize+random.random()*shift,marker='.',linestyle='-',label=foms_to_plot[parameter],color=current_palette[0])\n",
    "plt.errorbar(x,values_TimeresPower+random.random()*shift,marker='.',linestyle='-',label=foms_to_plot[parameter],color=current_palette[1])\n",
    "plt.errorbar(x,values_TaggingPower+random.random()*shift,marker='.',linestyle='-',label=foms_to_plot[parameter],color=current_palette[2])\n",
    "plt.errorbar(x,values_BdFOM_p+random.random()*shift,marker='.',linestyle='-',label=foms_to_plot[parameter],color=current_palette[3])\n",
    "plt.errorbar(x,values_BdFOM+random.random()*shift,marker='.',linestyle='-',label=foms_to_plot[parameter],color=current_palette[4])\n",
    "plt.xlabel(\"BDT Schnitt\")'''\n",
    "plt.gca().set_ylim(0.1,1.02)\n",
    "plt.gca().set_xlim(0,20)\n",
    "plt.legend(loc='best')\n",
    "plt.savefig(subdir + '/FOMS_MinIPCHI2anyPV.pdf')\n",
    "plt.show()"
   ]
  },
  {
   "cell_type": "code",
   "execution_count": 17,
   "metadata": {
    "collapsed": false
   },
   "outputs": [
    {
     "name": "stdout",
     "output_type": "stream",
     "text": [
      "[ 0.87344492  0.87496711  1.          0.87583998  0.87611936  0.87636032\n",
      "  0.87614216  0.87628853  0.87580981  0.87572799  0.87590762  0.8762949\n",
      "  0.87649588  0.87604421  0.87593856  0.87569227  0.87544574  0.8747226\n",
      "  0.87477286  0.87410915]\n"
     ]
    }
   ],
   "source": [
    "print(ys['BdFOM'])"
   ]
  },
  {
   "cell_type": "code",
   "execution_count": 18,
   "metadata": {
    "collapsed": false
   },
   "outputs": [
    {
     "name": "stdout",
     "output_type": "stream",
     "text": [
      "[  0.           1.05263158   2.10526316   3.15789474   4.21052632\n",
      "   5.26315789   6.31578947   7.36842105   8.42105263   9.47368421\n",
      "  10.52631579  11.57894737  12.63157895  13.68421053  14.73684211\n",
      "  15.78947368  16.84210526  17.89473684  18.94736842  20.        ]\n"
     ]
    }
   ],
   "source": [
    "print(x)"
   ]
  }
 ],
 "metadata": {
  "kernelspec": {
   "display_name": "Python 3",
   "language": "python",
   "name": "python3"
  },
  "language_info": {
   "codemirror_mode": {
    "name": "ipython",
    "version": 3
   },
   "file_extension": ".py",
   "mimetype": "text/x-python",
   "name": "python",
   "nbconvert_exporter": "python",
   "pygments_lexer": "ipython3",
   "version": "3.4.4"
  }
 },
 "nbformat": 4,
 "nbformat_minor": 0
}
