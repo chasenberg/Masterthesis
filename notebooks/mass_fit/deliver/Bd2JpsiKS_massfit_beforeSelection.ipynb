{
 "cells": [
  {
   "cell_type": "code",
   "execution_count": 1,
   "metadata": {
    "collapsed": true
   },
   "outputs": [],
   "source": [
    "import ROOT\n",
    "from ROOT import gROOT, TCanvas, TF1, TFile, TTree, gRandom, TH1F\n",
    "\n",
    "from ROOT import RooRealVar, RooFormulaVar, RooVoigtian, RooChebychev, RooArgList, \\\n",
    "                 RooArgSet, RooAddPdf, RooDataSet, RooCategory, RooSimultaneous, \\\n",
    "                 RooBreitWigner, RooCBShape, RooFFTConvPdf, RooGaussian,RooExponential, \\\n",
    "                 RooBinning, kRed, kBlue, kDotted,TString,RooAbsData, RooPlot, TCut, RooAbsData, RooFit , RooStats               "
   ]
  },
  {
   "cell_type": "code",
   "execution_count": 2,
   "metadata": {
    "collapsed": false
   },
   "outputs": [
    {
     "name": "stderr",
     "output_type": "stream",
     "text": [
      "/opt/rh/miniconda/envs/py3root6/lib/python3.4/site-packages/sklearn/cross_validation.py:44: DeprecationWarning: This module was deprecated in version 0.18 in favor of the model_selection module into which all the refactored classes and functions are moved. Also note that the interface of the new CV iterators are different from that of this module. This module will be removed in 0.20.\n",
      "  \"This module will be removed in 0.20.\", DeprecationWarning)\n"
     ]
    }
   ],
   "source": [
    "%matplotlib inline\n",
    "%reload_ext autoreload\n",
    "%autoreload 2\n",
    "\n",
    "import os, sys, time, random\n",
    "\n",
    "from ROOT import TTree, TFile\n",
    "\n",
    "# from root_numpy import root2array, rec2array, array2root\n",
    "\n",
    "import pandas as pd\n",
    "import numpy as np\n",
    "import scipy \n",
    "import root_pandas as rp\n",
    "import root_numpy as ry \n",
    "\n",
    "import pandas.core.common as com\n",
    "from pandas.core.index import Index\n",
    "from pandas.tools import plotting\n",
    "from pandas.tools.plotting import scatter_matrix\n",
    "\n",
    "from tqdm import tqdm_notebook\n",
    "\n",
    "import numpy as np\n",
    "import matplotlib as mpl\n",
    "import matplotlib.pyplot as plt\n",
    "from matplotlib.backends.backend_pdf import PdfPages\n",
    "\n",
    "from sklearn import datasets\n",
    "from sklearn.tree import DecisionTreeClassifier\n",
    "from sklearn.ensemble import AdaBoostClassifier, GradientBoostingClassifier\n",
    "from sklearn.cross_validation import train_test_split\n",
    "from sklearn.preprocessing import Imputer, StandardScaler\n",
    "from sklearn.externals import joblib\n",
    "from sklearn.metrics import classification_report, roc_curve, auc, roc_auc_score\n",
    "\n",
    "sys.path.append('/home/chasenberg/repos/')\n",
    "sys.path.append('/home/chasenberg/repos/dopy')\n",
    "from dopy import * \n",
    "from dopy.dolearn.sklearn_utils import plot_roc_curve, plot_classifier_output, plot_correlations\n",
    "from dopy.dolearn.sklearn_utils import plot_feature_importances, plot_classifier_output, classify_unseen_data\n",
    "#from dopy.sklearn_utils import plot_bdt_vars\n",
    "from dopy.doplot.plotting import Plotter, Plot\n",
    "from dopy.doanalysis.df_utils import add_min_max, add_eta "
   ]
  },
  {
   "cell_type": "code",
   "execution_count": 3,
   "metadata": {
    "collapsed": true
   },
   "outputs": [],
   "source": [
    "sys.path.append('/home/chasenberg/repos/root_utils/')\n",
    "from ROOT import TColor\n",
    "import rootnotes  # For displaying TCanvas in notebooks\n",
    "from lhcb_style import set_lhcb_style # Set basic LHCb plot style\n",
    "set_lhcb_style()   \n",
    "from root_utils import plot_pulls"
   ]
  },
  {
   "cell_type": "code",
   "execution_count": 4,
   "metadata": {
    "collapsed": false
   },
   "outputs": [],
   "source": [
    "\n",
    "from ROOT import RooRealVar, RooExponential, RooExtendPdf, RooAddPdf, RooArgList, RooGaussian\n",
    "from ROOT import RooFormulaVar\n",
    "from ROOT import gSystem\n",
    "gSystem.Load('libRooFit.so')\n",
    "gSystem.Load('/home/chasenberg/repos/dopy/dolib/CustomShapes/libKll')\n",
    "from ROOT import RooIpatia2"
   ]
  },
  {
   "cell_type": "code",
   "execution_count": 5,
   "metadata": {
    "collapsed": false
   },
   "outputs": [
    {
     "data": {
      "text/plain": [
       "'cut = \\'(B0_FitDaughtersConst_M_flat<5450&B0_FitDaughtersConst_M_flat>5220)&B0_FitPVConst_tau_flat>0.0002&B0_FitPVConst_tau_flat<0.015\\'\\n#cut = \\'\\'\\ndf = rp.read_root(\"/fhgfs/users/chasenberg/data/2015_2016_merged/jpsimumuks/Bd2JpsiKS_final.root\",where=cut, key=\"Bd2JpsiKS\")\\ndf.to_root(\"/fhgfs/users/chasenberg/data/2015_2016_merged/jpsimumuks/Bd2JpsiKS_final_cuts.root\", key=\"Bd2JpsiKS\")'"
      ]
     },
     "execution_count": 5,
     "metadata": {},
     "output_type": "execute_result"
    }
   ],
   "source": [
    "'''cut = '(B0_FitDaughtersConst_M_flat<5450&B0_FitDaughtersConst_M_flat>5220)&B0_FitPVConst_tau_flat>0.0002&B0_FitPVConst_tau_flat<0.015'\n",
    "#cut = ''\n",
    "df = rp.read_root(\"/fhgfs/users/chasenberg/data/2015_2016_merged/jpsimumuks/Bd2JpsiKS_final.root\",where=cut, key=\"Bd2JpsiKS\")\n",
    "df.to_root(\"/fhgfs/users/chasenberg/data/2015_2016_merged/jpsimumuks/Bd2JpsiKS_final_cuts.root\", key=\"Bd2JpsiKS\")'''"
   ]
  },
  {
   "cell_type": "markdown",
   "metadata": {
    "collapsed": false
   },
   "source": [
    "## Choose if massfit and sWeight calculation is performed on random or best selected data"
   ]
  },
  {
   "cell_type": "code",
   "execution_count": 6,
   "metadata": {
    "collapsed": true
   },
   "outputs": [],
   "source": [
    "random_sel_massfit = False"
   ]
  },
  {
   "cell_type": "code",
   "execution_count": 7,
   "metadata": {
    "collapsed": false
   },
   "outputs": [],
   "source": [
    "# Read data and fit it\n",
    "dataset_file_path = '/fhgfs/users/chasenberg/data/2015_2016_merged/jpsimumuks/'\n",
    "\n",
    "file_name = 'Bd2JpsiKS_sanity.root'\n",
    "\n",
    "data = ROOT.TFile(dataset_file_path + file_name)\n",
    "tree_data = data.Get('Bd2JpsiKS') "
   ]
  },
  {
   "cell_type": "code",
   "execution_count": 8,
   "metadata": {
    "collapsed": false
   },
   "outputs": [
    {
     "data": {
      "text/plain": [
       "5173528"
      ]
     },
     "execution_count": 8,
     "metadata": {},
     "output_type": "execute_result"
    }
   ],
   "source": [
    "tree_data.GetEntries()"
   ]
  },
  {
   "cell_type": "code",
   "execution_count": 9,
   "metadata": {
    "collapsed": false
   },
   "outputs": [],
   "source": [
    "#Mass variable\n",
    "mass         = RooRealVar(\"B0_FitDaughtersConst_M_flat\", \"m_{J/psi K_{S}^{0}}\", 5280,5220, 5450, \"MeV\")\n",
    "idxPV        = RooRealVar(\"idxPV\", \"idxPV\", 0,0,0)\n",
    "ntupleVarSet =  RooArgSet(mass,idxPV)\n",
    "dataset      = RooDataSet('data','data',tree_data,ntupleVarSet)"
   ]
  },
  {
   "cell_type": "markdown",
   "metadata": {},
   "source": [
    "Build Ipatia mass model\n",
    "--------------------------------------------"
   ]
  },
  {
   "cell_type": "code",
   "execution_count": 10,
   "metadata": {
    "collapsed": false
   },
   "outputs": [],
   "source": [
    "postfix = ''\n",
    "\n",
    "par_ipatia_zeta  = RooRealVar('par_ipatia_zeta'  + postfix,  'par_ipatia_zeta'  + postfix, 3.25588)#, 0.3, 5.3)\n",
    "par_ipatia_fb    = RooRealVar('par_ipatia_fb'    + postfix,    'par_ipatia_fb'  + postfix, 0.)#, 0., 10.)\n",
    "par_ipatia_l     = RooRealVar('par_ipatia_l'     + postfix,     'par_ipatia_l'  + postfix, -3.17)#1., 1., 1.)\n",
    "par_ipatia_m     = RooRealVar('par_ipatia_m'     + postfix,     'par_ipatia_m'  + postfix, 5279, 5200., 5400.,)\n",
    "par_ipatia_sigma = RooRealVar('par_ipatia_sigma' + postfix, 'par_ipatia_sigma'  + postfix, 7.94441, 2., 100.)\n",
    "par_ipatia_a1    = RooRealVar('par_ipatia_a1'    + postfix,     'par_ipatia_a1' + postfix, 1.76044)#, 0.01, 4)\n",
    "par_ipatia_a2    = RooRealVar('par_ipatia_a2'    + postfix,     'par_ipatia_a2' + postfix, 1.88748)#, 0.01, 4)\n",
    "par_ipatia_n1    = RooRealVar('par_ipatia_n1'    + postfix,     'par_ipatia_n1' + postfix, 4.76854)#, 0.00001, 150.)\n",
    "par_ipatia_n2    = RooRealVar('par_ipatia_n2'    + postfix,     'par_ipatia_n2' + postfix, 6.76837)#, 0.00001, 150.)'''\n",
    "\n",
    "par_ipatia_zeta  = RooRealVar('par_ipatia_zeta'  + postfix,  'par_ipatia_zeta'  + postfix, 0.,0.,0.)#, 1., 5.3)\n",
    "par_ipatia_fb    = RooRealVar('par_ipatia_fb'    + postfix,    'par_ipatia_fb'  + postfix, 0.,0.,0.)\n",
    "par_ipatia_l     = RooRealVar('par_ipatia_l'     + postfix,     'par_ipatia_l'  + postfix, -2.718,-2.718,-2.718)\n",
    "par_ipatia_m     = RooRealVar('par_ipatia_m'     + postfix,     'par_ipatia_m'  + postfix, 5280.5, 5220., 5400.,)\n",
    "par_ipatia_sigma = RooRealVar('par_ipatia_sigma' + postfix, 'par_ipatia_sigma'  + postfix, 8.71582, 2., 12.)\n",
    "par_ipatia_a1    = RooRealVar('par_ipatia_a1'    + postfix,     'par_ipatia_a1' + postfix,  2.32234,2.32234,2.32234)#3.,3.,3.)\n",
    "par_ipatia_a2    = RooRealVar('par_ipatia_a2'    + postfix,     'par_ipatia_a2' + postfix,  3.414,3.414,3.414)#2.91222, 2.91222, 2.91222)\n",
    "par_ipatia_n1    = RooRealVar('par_ipatia_n1'    + postfix,     'par_ipatia_n1' + postfix, 3.,3.,3.)\n",
    "par_ipatia_n2    = RooRealVar('par_ipatia_n2'    + postfix,     'par_ipatia_n2' + postfix, 3.,3.,3.)\n",
    "\n",
    "pdf_mass_ipatia  = ROOT.RooIpatia2('pdf_mass_ipatia', 'pdf_mass_ipatia', mass, par_ipatia_l, par_ipatia_zeta, par_ipatia_fb,\n",
    "                               par_ipatia_sigma, par_ipatia_m, par_ipatia_a1, par_ipatia_n1,\n",
    "                               par_ipatia_a2, par_ipatia_n2)\n",
    "    \n",
    "ROOT.SetOwnership( pdf_mass_ipatia, False )\n",
    "ROOT.SetOwnership( par_ipatia_zeta, False )\n",
    "ROOT.SetOwnership( par_ipatia_fb, False )\n",
    "ROOT.SetOwnership( par_ipatia_l, False )\n",
    "ROOT.SetOwnership( par_ipatia_m, False )\n",
    "ROOT.SetOwnership( par_ipatia_sigma, False )\n",
    "ROOT.SetOwnership( par_ipatia_a1, False )\n",
    "ROOT.SetOwnership( par_ipatia_n1, False )\n",
    "ROOT.SetOwnership( par_ipatia_a2, False )\n",
    "ROOT.SetOwnership( par_ipatia_n2, False )\n",
    "\n",
    "sig_yield = RooRealVar('sig_yield' + postfix, 'sig_yield' + postfix, 160000, 0, 250000)\n",
    "ROOT.SetOwnership( sig_yield, False )\n",
    "\n",
    "sig_pdf_ext = RooExtendPdf('sig_pdf_ext' + postfix, 'sig_pdf_ext' + postfix, pdf_mass_ipatia, sig_yield)\n",
    "ROOT.SetOwnership( sig_pdf_ext, False )\n",
    " \n",
    "exp_a = RooRealVar('exp_a' + postfix, 'exp_a' + postfix, -0.001, -0.01, -0.00001)\n",
    "exp   = RooExponential('exp' + postfix, 'exp' + postfix, mass, exp_a)\n",
    "bkg_pdf = exp\n",
    "bkg_yield = RooRealVar('bkg_yield' + postfix, 'bkg_yield' + postfix, 1849830, 0, 2000000)\n",
    "ROOT.SetOwnership( exp_a, False )\n",
    "ROOT.SetOwnership( bkg_pdf, False )\n",
    "ROOT.SetOwnership( bkg_yield, False)\n",
    "\n",
    "bkg_pdf_ext = RooExtendPdf('bkg_pdf_ext' + postfix, 'bkg_pdf_ext' + postfix, bkg_pdf, bkg_yield)\n",
    "ROOT.SetOwnership( bkg_pdf_ext, False)\n",
    "\n",
    "par_ipatia_m_bs_shift = RooRealVar(\"par_ipatia_m_bs_shift\" + postfix, \"par_ipatia_m_bs_shift\" + postfix, 87.0, 50.0, 100.0)\n",
    "par_ipatia_m_bs = RooFormulaVar(\"par_ipatia_m_bs\" + postfix, \"par_ipatia_m_bs\" + postfix, \"@0+@1\", RooArgList(par_ipatia_m, par_ipatia_m_bs_shift))\n",
    "#par_ipatia_m_bs = RooRealVar(\"par_ipatia_m_bs\"    + postfix,    \"par_ipatia_m_bs\" + postfix,    5366, 5300., 5400.,)\n",
    "                    \n",
    "pdf_mass_ipatia_bs  = ROOT.RooIpatia2('pdf_mass_ipatia_bs', 'pdf_mass_ipatia_bs', mass, par_ipatia_l, par_ipatia_zeta, par_ipatia_fb,\n",
    "                                   par_ipatia_sigma, par_ipatia_m_bs, par_ipatia_a1, par_ipatia_n1, par_ipatia_a2, par_ipatia_n2)\n",
    "    \n",
    "bs_yield = RooRealVar('bs_yield' + postfix, 'bs_yield' + postfix, 4794, 0, 40000)\n",
    "ROOT.SetOwnership( par_ipatia_m_bs_shift, False )\n",
    "ROOT.SetOwnership( par_ipatia_m_bs, False)\n",
    "ROOT.SetOwnership( bs_yield, False)\n",
    "ROOT.SetOwnership( pdf_mass_ipatia_bs, False)\n",
    "\n",
    "bs_pdf_ext = RooExtendPdf('bs_pdf_ext' + postfix, 'bs_pdf_ext' + postfix, pdf_mass_ipatia_bs, bs_yield)\n",
    "ROOT.SetOwnership( bs_pdf_ext, False)\n",
    "\n",
    "data_model = RooAddPdf('model' + postfix, 'model' + postfix, RooArgList(sig_pdf_ext, bkg_pdf_ext, bs_pdf_ext))\n",
    "ROOT.SetOwnership( data_model, False )"
   ]
  },
  {
   "cell_type": "code",
   "execution_count": 11,
   "metadata": {
    "collapsed": false
   },
   "outputs": [
    {
     "data": {
      "text/plain": [
       "<ROOT.RooFitResult object (\"fitresult_model_data\") at 0x58d6e430>"
      ]
     },
     "execution_count": 11,
     "metadata": {},
     "output_type": "execute_result"
    }
   ],
   "source": [
    "#Fit model to dataset\n",
    "data_model.fitTo(dataset, RooFit.NumCPU(6),\n",
    "                                      RooFit.Minimizer('Minuit','minimize'),\n",
    "                                      RooFit.Hesse(True),\n",
    "                                      RooFit.Optimize(0),\n",
    "                                      RooFit.PrintEvalErrors(0),\n",
    "                                      RooFit.Save(True),\n",
    "                                      RooFit.Extended(),\n",
    "                                      RooFit.Verbose(True)) "
   ]
  },
  {
   "cell_type": "code",
   "execution_count": 22,
   "metadata": {
    "collapsed": false,
    "scrolled": true
   },
   "outputs": [
    {
     "name": "stderr",
     "output_type": "stream",
     "text": [
      "TCanvas::Constructor:0: RuntimeWarning: Deleting canvas with same name: can\n"
     ]
    },
    {
     "data": {
      "image/png": "[encoded data removed]",
      "text/plain": [
       "<ROOT.TCanvas object (\"can\") at 0x57ba8f70>"
      ]
     },
     "execution_count": 22,
     "metadata": {},
     "output_type": "execute_result"
    }
   ],
   "source": [
    "# Prepare frame\n",
    "%matplotlib inline  \n",
    "import ROOT\n",
    "\n",
    "\n",
    "\n",
    "\n",
    "frame = mass.frame(ROOT.RooFit.Bins(120))\n",
    "\n",
    "dataset.plotOn(frame, ROOT.RooFit.Name(\"data1\"))\n",
    "\n",
    "data_model.plotOn( frame , ROOT.RooFit.Components(\"sig_pdf_ext\"), ROOT.RooFit.LineStyle(kDotted), ROOT.RooFit.LineColor(kRed))\n",
    "data_model.plotOn( frame , ROOT.RooFit.Components(\"bkg_pdf_ext\"), ROOT.RooFit.LineStyle(kDotted), ROOT.RooFit.LineColor(kBlue))\n",
    "data_model.plotOn( frame , ROOT.RooFit.Components(\"bs_pdf_ext\"), ROOT.RooFit.LineStyle(kDotted), ROOT.RooFit.LineColor(kBlue))\n",
    "data_model.plotOn(frame, ROOT.RooFit.Name(\"fit\"))\n",
    "### Add additional informations to the plot\n",
    "text_size = 0.035\n",
    "# Create TLegend\n",
    "#legend = ROOT.TLegend(0.7, 0.75, 0.9, 0.9, '')\n",
    "legend = ROOT.TLegend(0.7, 0.7,0.85,0.85)\n",
    "legend.AddEntry(0,\"LHCb unofficial\", \"\")\n",
    "legend.AddEntry(frame.findObject('data1'), \"Data\", \"p\");\n",
    "legend.AddEntry(frame.findObject('sig_pdf_ext'), 'Massmodel', 'kBluw')\n",
    "\n",
    "#legend.AddEntry(frame.findObject('bs_pdf_ext'), 'bs_pdf_ext', 'l')\n",
    "#legend.AddEntry(frame.findObject('bkg_pdf_ext'), 'bkg_pdf_ext', 'l')\n",
    "legend.SetTextSize(text_size)\n",
    "frame.GetYaxis().SetTitle(frame.GetYaxis().GetTitle().replace(\"Events\", \"Candidates\"))\n",
    "# Plot pulls\n",
    "can, _ = plot_pulls('Hallo', frame, legend=legend, logy=False)#, latex=latex)\n",
    "if random_sel_massfit==True:\n",
    "    can.SaveAs(\"/home/chasenberg/plots/massfit/B0_Mass_selected_randomPV.pdf\")\n",
    "else:\n",
    "    can.SaveAs(\"/home/chasenberg/plots/massfit/B0_Mass_beforeSelection.pdf\")\n",
    "can  # To display plot in notebooks"
   ]
  },
  {
   "cell_type": "markdown",
   "metadata": {},
   "source": [
    "Number of signal events\n",
    "---------------------"
   ]
  },
  {
   "cell_type": "code",
   "execution_count": 13,
   "metadata": {
    "collapsed": false
   },
   "outputs": [
    {
     "data": {
      "text/plain": [
       "(143865.02856816503, 1403074.2869787763, 2468.5780394796784)"
      ]
     },
     "execution_count": 13,
     "metadata": {},
     "output_type": "execute_result"
    }
   ],
   "source": [
    "sig_yield.getValV(),bkg_yield.getValV(),bs_yield.getValV()"
   ]
  },
  {
   "cell_type": "code",
   "execution_count": 14,
   "metadata": {
    "collapsed": false,
    "scrolled": true
   },
   "outputs": [
    {
     "data": {
      "text/plain": [
       "(845.9000569828931, 1540.1260264470475, 512.4120559109547)"
      ]
     },
     "execution_count": 14,
     "metadata": {},
     "output_type": "execute_result"
    }
   ],
   "source": [
    "sig_yield.getError(),bkg_yield.getError(),bs_yield.getError()"
   ]
  },
  {
   "cell_type": "code",
   "execution_count": 15,
   "metadata": {
    "collapsed": false
   },
   "outputs": [
    {
     "data": {
      "text/plain": [
       "(5279.534305742722, 0.04455535116539977)"
      ]
     },
     "execution_count": 15,
     "metadata": {},
     "output_type": "execute_result"
    }
   ],
   "source": [
    "par_ipatia_m.getVal(),par_ipatia_m.getError()"
   ]
  },
  {
   "cell_type": "code",
   "execution_count": 16,
   "metadata": {
    "collapsed": false
   },
   "outputs": [
    {
     "data": {
      "text/plain": [
       "(9.809335796886621, 0.0647739268925207)"
      ]
     },
     "execution_count": 16,
     "metadata": {},
     "output_type": "execute_result"
    }
   ],
   "source": [
    "par_ipatia_sigma.getVal(),par_ipatia_sigma.getError()"
   ]
  },
  {
   "cell_type": "markdown",
   "metadata": {},
   "source": [
    "Print fit parameters\n",
    "-----------------"
   ]
  },
  {
   "cell_type": "code",
   "execution_count": 17,
   "metadata": {
    "collapsed": false,
    "scrolled": true
   },
   "outputs": [
    {
     "name": "stdout",
     "output_type": "stream",
     "text": [
      "a1 = 2.32234\n",
      "a2 = 3.414\n",
      "n1 = 3.0\n",
      "n2 = 3.0\n",
      "zeta = 0.0\n",
      "sigma = 9.809335796886621\n",
      "beta = 0.0\n",
      "lambda = -2.718\n",
      "mass = 5279.534305742722\n"
     ]
    }
   ],
   "source": [
    "print('a1 =',data_model.getParameters(dataset).find('par_ipatia_a1').getVal())\n",
    "print('a2 =',data_model.getParameters(dataset).find('par_ipatia_a2').getVal())\n",
    "print('n1 =',data_model.getParameters(dataset).find('par_ipatia_n1').getVal())\n",
    "print('n2 =',data_model.getParameters(dataset).find('par_ipatia_n2').getVal())\n",
    "print('zeta =',data_model.getParameters(dataset).find('par_ipatia_zeta').getVal())\n",
    "print('sigma =',data_model.getParameters(dataset).find('par_ipatia_sigma').getVal())\n",
    "print('beta =',data_model.getParameters(dataset).find('par_ipatia_fb').getVal())\n",
    "print('lambda =',data_model.getParameters(dataset).find('par_ipatia_l').getVal())\n",
    "print('mass =',data_model.getParameters(dataset).find('par_ipatia_m').getVal())"
   ]
  },
  {
   "cell_type": "markdown",
   "metadata": {},
   "source": [
    "Calculate sWeights\n",
    "----------------"
   ]
  },
  {
   "cell_type": "code",
   "execution_count": 18,
   "metadata": {
    "collapsed": true
   },
   "outputs": [],
   "source": [
    "def copy_ttree_append_sweights(ttree_or_chain, dataset_with_weights):\n",
    "    sweight_sig = array('d', [0.0])\n",
    "    sweight_bkg = array('d', [0.0])\n",
    "        \n",
    "    sig_sweight_branch = ttree_or_chain.Branch('sweight_sig',sweight_sig,'sweight_sig/D')\n",
    "    bkg_sweight_branch = ttree_or_chain.Branch('sweight_bkg',sweight_bkg,'sweight_bkg/D')\n",
    "\n",
    "    for i in range(ttree_or_chain.GetEntries()):\n",
    "        ttree_or_chain.GetEntry(i)\n",
    "        control_branch_name = 'B0_FitDaughtersConst_M_flat'\n",
    "        if (ttree_or_chain.GetBranch('B0_FitDaughtersConst_M_flat').GetLeaf('B0_FitDaughtersConst_M_flat').GetValue() + 0.01 > dataset_with_weights.get(i)['B0_FitDaughtersConst_M_flat'].getValV() and\\\n",
    "            ttree_or_chain.GetBranch('B0_FitDaughtersConst_M_flat').GetLeaf('B0_FitDaughtersConst_M_flat').GetValue() - 0.01 < dataset_with_weights.get(i)['B0_FitDaughtersConst_M_flat'].getValV()):\n",
    "            # print('Success in Event {}'.format(i))\n",
    "            sweight_sig[0]=dataset.get(i)['sig_yield_sw'].getValV()\n",
    "            sweight_bkg[0]=dataset.get(i)['bkg_yield_sw'].getValV()\n",
    "            sig_sweight_branch.Fill()\n",
    "            bkg_sweight_branch.Fill()\n",
    "\n",
    "    return ttree_or_chain"
   ]
  },
  {
   "cell_type": "code",
   "execution_count": 19,
   "metadata": {
    "collapsed": false
   },
   "outputs": [
    {
     "data": {
      "text/plain": [
       "'sig_num = []\\nbkg_num = []\\nnum_all = []\\n\\nvar_sig_yield = data_model.getParameters(dataset).find(\\'sig_yield\\')\\nvar_bkg_yield = data_model.getParameters(dataset).find(\\'bkg_yield\\')\\nsData = RooStats.SPlot(\\'sData\\', \\'sData\\', dataset, data_model, RooArgList(var_sig_yield,var_bkg_yield))\\n\\n\\nsig_num.append(var_sig_yield.getValV())\\nbkg_num.append(var_bkg_yield.getValV())\\nprint(\\'INFO: Finished calculating sWeights\\', flush=True)\\n\\nfrom ROOT import TFile\\nfrom array import array\\n                \\nf_all_new = TFile(\"/fhgfs/users/chasenberg/data/2015_2016_merged/jpsimumuks/\"+file_name_sweight,\"recreate\")\\ntree_w_obscuts = tree_data.CopyTree(\\'\\')\\nnum_all.append(dataset.numEntries())\\ncopy_ttree_append_sweights(tree_w_obscuts, dataset)\\ntree_w_obscuts.Write()\\nf_all_new.Close()\\n\\nnum_sig = sWeight_sig.numEntries()\\nnum_bkg = sWeight_bkg.numEntries()\\n#num_tree =tree_data.GetEntries()\\n\\nprint(num_sig,num_bkg)'"
      ]
     },
     "execution_count": 19,
     "metadata": {},
     "output_type": "execute_result"
    }
   ],
   "source": [
    "'''sig_num = []\n",
    "bkg_num = []\n",
    "num_all = []\n",
    "\n",
    "var_sig_yield = data_model.getParameters(dataset).find('sig_yield')\n",
    "var_bkg_yield = data_model.getParameters(dataset).find('bkg_yield')\n",
    "sData = RooStats.SPlot('sData', 'sData', dataset, data_model, RooArgList(var_sig_yield,var_bkg_yield))\n",
    "\n",
    "\n",
    "sig_num.append(var_sig_yield.getValV())\n",
    "bkg_num.append(var_bkg_yield.getValV())\n",
    "print('INFO: Finished calculating sWeights', flush=True)\n",
    "\n",
    "from ROOT import TFile\n",
    "from array import array\n",
    "                \n",
    "f_all_new = TFile(\"/fhgfs/users/chasenberg/data/2015_2016_merged/jpsimumuks/\"+file_name_sweight,\"recreate\")\n",
    "tree_w_obscuts = tree_data.CopyTree('')\n",
    "num_all.append(dataset.numEntries())\n",
    "copy_ttree_append_sweights(tree_w_obscuts, dataset)\n",
    "tree_w_obscuts.Write()\n",
    "f_all_new.Close()\n",
    "\n",
    "num_sig = sWeight_sig.numEntries()\n",
    "num_bkg = sWeight_bkg.numEntries()\n",
    "#num_tree =tree_data.GetEntries()\n",
    "\n",
    "print(num_sig,num_bkg)'''"
   ]
  },
  {
   "cell_type": "code",
   "execution_count": null,
   "metadata": {
    "collapsed": false
   },
   "outputs": [],
   "source": []
  },
  {
   "cell_type": "code",
   "execution_count": 20,
   "metadata": {
    "collapsed": false
   },
   "outputs": [],
   "source": [
    "#cut = '(B0_FitDaughtersConst_M_flat<5450&B0_FitDaughtersConst_M_flat>5220)&B0_FitPVConst_tau_flat>0.0002&B0_FitPVConst_tau_flat<0.015'\n",
    "#cut = ''\n",
    "#df = rp.read_root(\"/fhgfs/users/chasenberg/data/2015_2016_merged/jpsimumuks/Bd2JpsiKS_final_sw.root\",where=cut, key=\"Bd2JpsiKS\")"
   ]
  },
  {
   "cell_type": "code",
   "execution_count": 21,
   "metadata": {
    "collapsed": false
   },
   "outputs": [
    {
     "data": {
      "text/plain": [
       "\"sum_signal = df['sweight_sig'].sum()\\nsum_bkg = df['sweight_bkg'].sum()\\n\\n\\nprint(sum_signal)\\nprint(sum_bkg)\\nprint(sum_signal+sum_bkg)\""
      ]
     },
     "execution_count": 21,
     "metadata": {},
     "output_type": "execute_result"
    }
   ],
   "source": [
    "'''sum_signal = df['sweight_sig'].sum()\n",
    "sum_bkg = df['sweight_bkg'].sum()\n",
    "\n",
    "\n",
    "print(sum_signal)\n",
    "print(sum_bkg)\n",
    "print(sum_signal+sum_bkg)'''"
   ]
  }
 ],
 "metadata": {
  "kernelspec": {
   "display_name": "Python 3",
   "language": "python",
   "name": "python3"
  },
  "language_info": {
   "codemirror_mode": {
    "name": "ipython",
    "version": 3
   },
   "file_extension": ".py",
   "mimetype": "text/x-python",
   "name": "python",
   "nbconvert_exporter": "python",
   "pygments_lexer": "ipython3",
   "version": "3.4.4"
  }
 },
 "nbformat": 4,
 "nbformat_minor": 0
}
