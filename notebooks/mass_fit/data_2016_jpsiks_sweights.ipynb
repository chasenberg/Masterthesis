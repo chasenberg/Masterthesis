{
 "cells": [
  {
   "cell_type": "code",
   "execution_count": 37,
   "metadata": {
    "collapsed": false
   },
   "outputs": [],
   "source": [
    "import ROOT\n",
    "from rootpy.tree import Tree, TreeModel, FloatCol, IntCol\n",
    "from rootpy.io import root_open\n",
    "from ROOT import gROOT, TCanvas, TF1, TFile, TTree, gRandom, TH1F\n",
    "\n",
    "from ROOT import RooRealVar, RooFormulaVar, RooVoigtian, RooChebychev, RooArgList, \\\n",
    "                 RooArgSet, RooAddPdf, RooDataSet, RooCategory, RooSimultaneous, \\\n",
    "                 RooBreitWigner, RooCBShape, RooFFTConvPdf, RooGaussian,RooExponential, \\\n",
    "                 RooBinning, kRed, kBlue, kDotted,TString,RooAbsData, RooPlot, TCut, RooAbsData, RooFit  \n",
    "import os\n",
    "\n",
    "%matplotlib inline\n",
    "%reload_ext autoreload\n",
    "%autoreload 2\n",
    "\n",
    "import os, sys, time, random\n",
    "\n",
    "from ROOT import TTree, TFile\n",
    "\n",
    "# from root_numpy import root2array, rec2array, array2root\n",
    "\n",
    "import pandas as pd\n",
    "import numpy as np\n",
    "import scipy \n",
    "import root_pandas as rp\n",
    "import root_numpy as ry "
   ]
  },
  {
   "cell_type": "code",
   "execution_count": 38,
   "metadata": {
    "collapsed": false
   },
   "outputs": [],
   "source": [
    "#directories and files \n",
    "data_dir = '/fhgfs/users/chasenberg/data/2016/jpsiks/flattened/'\n",
    "data_file ='Bd2JpsiKS_data_2016_flattened.root'\n",
    "data_dir = os.path.join(data_dir, data_file)"
   ]
  },
  {
   "cell_type": "code",
   "execution_count": 43,
   "metadata": {
    "collapsed": false
   },
   "outputs": [],
   "source": [
    "#criteria and information for read in data\n",
    "#criteria and information for read in data\n",
    "branch_names_data = [\n",
    "'B0_M',\n",
    "'B0_TAU',\n",
    "'B0_TAUERR',\n",
    "'B0_TAGDECISION_OS',\n",
    "'B0_TAGOMEGA_OS',  \n",
    "####Kinematics\n",
    "'J_psi_1S_IP_OWNPV',\n",
    "'J_psi_1S_IPCHI2_OWNPV',   \n",
    "'J_psi_1S_M',\n",
    "'J_psi_1S_PT',\n",
    "'J_psi_1S_IP_OWNPV',  \n",
    "'J_psi_1S_IPCHI2_OWNPV',\n",
    "'B0_FitDaughtersConst*',\n",
    "'B0_FitPVConst_KS0*',\n",
    "####Triggerlines\n",
    "'muplus_PIDmu',\n",
    "'B0_L0MuonDecision_TOS',\n",
    "'B0_Hlt1TrackMuonDecision_TOS',\n",
    "'B0_Hlt2DiMuonJPsiDecision_TOS', \n",
    "'B0_L0MuonDecision_Dec',\n",
    "'B0_Hlt1TrackMuonDecision_Dec',\n",
    "'B0_Hlt2DiMuonJPsiDecision_Dec', \n",
    "'piminus_TRACK_Type',\n",
    "'idxPV',\n",
    "'B0_FitPVConst_status',\n",
    "'Hlt1DiMuonHighMassDecision',\n",
    "'Hlt1TrackMVADecision', \n",
    "'Hlt1TwoTrackMVADecision', \n",
    "#'HLT1TrackMuonMVADecision',\n",
    "'L0PhysicsDecision',\n",
    "'L0MuonDecision',\n",
    "'L0DiMuonDecision',\n",
    "'L0MuonHighDecision',\n",
    "'L0HadronDecision',\n",
    "'L0ElectronDecision',\n",
    "'L0PhotonDecision',\n",
    "#'Hlt2GlobalDecision',\n",
    "'Hlt2DiMuonJPsiDecision',\n",
    "'Hlt2DiMuonDetachedJPsiDecision'\n",
    "]\n",
    "cut_string_data = 'B0_FitDaughtersConst_status==0&B0_FitPVConst_status==0&idxPV==0&B0_FitDaughtersConst_M<5350&B0_FitDaughtersConst_M>5220'#&((B0_L0Global_TOS==1)|(B0_Hlt1DiMuonHighMassDecision_TOS==1)|(B0_Hlt2DiMuonDetachedJPsiDecision_TOS==1))'\n",
    "tree_data = 'Bd2JpsiKs'\n",
    "#read root files\n",
    "df_data = rp.read_root(data_dir,key=tree_data,columns=branch_names_data,where=cut_string_data, flatten=True)\n",
    "#Write a new ROOT tuple \n",
    "df_data.to_root('/fhgfs/users/chasenberg/data/2016/jpsiks/cut_branches/Bd2JpsiKS_data_2016_flattened_cut_branches.root',key='Bd2JpsiKs')"
   ]
  },
  {
   "cell_type": "code",
   "execution_count": 44,
   "metadata": {
    "collapsed": false
   },
   "outputs": [
    {
     "data": {
      "text/plain": [
       "1595016"
      ]
     },
     "execution_count": 44,
     "metadata": {},
     "output_type": "execute_result"
    }
   ],
   "source": [
    "data = ROOT.TFile('/fhgfs/users/chasenberg/data/2016/jpsiks/cut_branches/Bd2JpsiKS_data_2016_flattened_cut_branches.root')\n",
    "tree_data = data.Get('Bd2JpsiKs') \n",
    "tree_data.GetEntries()"
   ]
  },
  {
   "cell_type": "code",
   "execution_count": null,
   "metadata": {
    "collapsed": false
   },
   "outputs": [],
   "source": [
    "B0_M = RooRealVar(\"B0_FitDaughtersConst_M\", \"B0_M\", 5280, \"MeV\")\n",
    "upper_limit_mass = 5350\n",
    "lower_limit_mass = 5220\n",
    "mass = RooRealVar(\"B0_FitDaughtersConst_M\", \"Mass(J/psi K_{S})\", 5280,lower_limit_mass, upper_limit_mass, \"MeV\")\n",
    "# Construct signal from two Gaussian pdf's with different means and sigmas \n",
    "mean = RooRealVar(\"mean\", \"mean\", 5280,  5210,5360)\n",
    "sigma_1 = RooRealVar(\"sigma_1\", \"sigma_1\", 15, 0, 25)\n",
    "sigma_2 = RooRealVar(\"sigma_2\", \"sigma_2\", 20, 0, 230)\n",
    "sig1frac = RooRealVar(\"sig1frac\",\"fraction of component 1 in signal\",0.8,0.,1.)\n",
    "\n",
    "signal_1 = RooGaussian(\"signal_1\", \"signal_1\", mass, mean, sigma_1)\n",
    "signal_2 = RooGaussian(\"signal_2\", \"signal_2\", mass, mean, sigma_2)\n",
    "signal = RooAddPdf(\"DoubleGaussian\",\"DoubleGaussian\",signal_1, signal_2,sig1frac)\n",
    "# Construct background pdf\n",
    "lambda_1= RooRealVar(\"lambda\",\"lambda\",0.0,-0.1,0.0)\n",
    "background = RooExponential(\"background\",\"background\",mass,lambda_1)\n",
    "# Construct composite pdf\n",
    "nsig = RooRealVar(\"nsig\", \"nsig\", 300000,0,500000)\n",
    "nbkg = RooRealVar(\"nbkg\", \"nbkg\", 1200000, 0, 1500000)\n",
    "model = RooAddPdf(\"model\", \"model\", RooArgList(signal, background), RooArgList(nsig, nbkg))"
   ]
  },
  {
   "cell_type": "code",
   "execution_count": null,
   "metadata": {
    "collapsed": false
   },
   "outputs": [],
   "source": [
    "ntupleVarSet =  RooArgSet(mass)\n",
    "dataset = RooDataSet('data','data',tree_data,ntupleVarSet)"
   ]
  },
  {
   "cell_type": "code",
   "execution_count": null,
   "metadata": {
    "collapsed": false
   },
   "outputs": [],
   "source": [
    "#Fit model to dataset\n",
    "model.fitTo(dataset, ROOT.RooFit.Save(True)) "
   ]
  },
  {
   "cell_type": "code",
   "execution_count": 51,
   "metadata": {
    "collapsed": false
   },
   "outputs": [
    {
     "data": {
      "image/png": "[encoded data removed]",
      "text/plain": [
       "<ROOT.TCanvas object (\"test\") at 0x9ff0340>"
      ]
     },
     "execution_count": 51,
     "metadata": {},
     "output_type": "execute_result"
    }
   ],
   "source": [
    "sys.path.append('/home/chasenberg/repos/root_utils/')\n",
    "from ROOT import TColor\n",
    "import rootnotes  # For displaying TCanvas in notebooks\n",
    "from lhcb_style import set_lhcb_style # Set basic LHCb plot style\n",
    "set_lhcb_style()   \n",
    "from root_utils import plot_pulls\n",
    "\n",
    "\n",
    "#Plot data and fit-function to same canvas\n",
    "#canvas = rootnotes.canvas(\"c\", (800, 800))\n",
    "can =  ROOT.TCanvas('test')\n",
    "plot = mass.frame() \n",
    "dataset.plotOn( plot , ROOT.RooFit.Binning(40) )\n",
    "model.plotOn( plot )\n",
    "model.plotOn( plot , ROOT.RooFit.Components(\"DoubleGaussian\"), ROOT.RooFit.LineStyle(kDotted), ROOT.RooFit.LineColor(kRed))\n",
    "model.plotOn( plot , ROOT.RooFit.Components(\"background\"), ROOT.RooFit.LineStyle(kDotted), ROOT.RooFit.LineColor(kBlue))\n",
    "#plot.GetYaxis().SetTitle( TString( plot.GetYaxis().GetTitle() ).ReplaceAll(\")\",\"MeV/c^{2} )\").Data() )\n",
    "#canvas.SetLogy(0)\n",
    "plot.Draw()\n",
    "#can, _ = plot_pulls('Data_massfit',plot, save_path='mc_mass_fit_adaboost/plots/', logy=False) \n",
    "can.SaveAs(\"/home/chasenberg/repos/b2cc_sin2beta/notebooks/mass_fit/plots/2016/jpsiks/B0_Mass.pdf\")\n",
    "can\n",
    "#canvas "
   ]
  },
  {
   "cell_type": "code",
   "execution_count": null,
   "metadata": {
    "collapsed": false
   },
   "outputs": [],
   "source": [
    "'''# Prepare frame\n",
    "%matplotlib inline  \n",
    "import ROOT\n",
    "frame = mass.frame(ROOT.RooFit.Bins(25))\n",
    "\n",
    "dataset.plotOn(frame, ROOT.RooFit.Name(\"data1\"))\n",
    "\n",
    "model.plotOn( frame , ROOT.RooFit.Components(\"signal\"), ROOT.RooFit.LineStyle(kDotted), ROOT.RooFit.LineColor(kRed))\n",
    "model.plotOn( frame , ROOT.RooFit.Components(\"background\"), ROOT.RooFit.LineStyle(kDotted), ROOT.RooFit.LineColor(kBlue))\n",
    "model.plotOn(frame, ROOT.RooFit.Name(\"fit\"))\n",
    "### Add additional informations to the plot\n",
    "text_size = 0.035\n",
    "# Create TLegend\n",
    "legend = ROOT.TLegend(0.7, 0.75, 0.9, 0.9, '')\n",
    "legend.AddEntry(frame.findObject('data1'), \"Data points\", \"p\");\n",
    "legend.AddEntry(frame.findObject('fit'), 'Fit', 'l')\n",
    "legend.SetTextSize(text_size)\n",
    "\n",
    "\n",
    "# Plot pulls\n",
    "can, _ = plot_pulls('test', frame, legend=legend)#, latex=latex)\n",
    "can.SaveAs(\"/home/chasenberg/repos/b2cc_sin2beta/notebooks/mass_fit/plots/jpsiks/2016/B0_M_pull.pdf\")\n",
    "can  # To display plot in notebooks'''"
   ]
  },
  {
   "cell_type": "code",
   "execution_count": null,
   "metadata": {
    "collapsed": true
   },
   "outputs": [],
   "source": [
    "#Start to develop an SWeight model"
   ]
  },
  {
   "cell_type": "code",
   "execution_count": null,
   "metadata": {
    "collapsed": false
   },
   "outputs": [],
   "source": [
    "from ROOT import RooStats\n",
    "\n",
    "data_sweight = ROOT.RooStats.SPlot(\"sData\",\"An SPlot\", dataset,model, RooArgList(nsig, nbkg))\n",
    "sWeight_sig =ROOT.RooDataSet(\"dataset_nsig\",\"dataset_nsig\", dataset, dataset.get(),\"\",\"nsig_sw\")\n",
    "sWeight_bkg = ROOT.RooDataSet(\"dataset_nbkg\",\"dataset_nbkg\", dataset, dataset.get(),\"\",\"nbkg_sw\")\n",
    "#signal_number = sWeight_sig.getVal()\n",
    "#background_number = sWeight_bkg.getVal() \n",
    "#print(\"Number of background events:\",signal_number,\"signal_number\")\n",
    "#print(\"Number of background events:\",background_number,\"signal_number\")"
   ]
  },
  {
   "cell_type": "code",
   "execution_count": null,
   "metadata": {
    "collapsed": false
   },
   "outputs": [],
   "source": [
    "#Make splots of the signal and background\n",
    "sig_frame = mass.frame() \n",
    "sig_frame.SetTitle(\"sPlot for the signal mass distribution\")\n",
    "sWeight_sig.plotOn(sig_frame, ROOT.RooFit.DataError(RooAbsData.SumW2))\n",
    "bkg_frame = mass.frame() \n",
    "bkg_frame.SetTitle(\"sPlot for the background mass distribution\")\n",
    "sWeight_bkg.plotOn(bkg_frame)#, ROOT.RooFit.DataError(RooAbsData.SumW2))\n",
    "c2 = ROOT.TCanvas(\"c2\")\n",
    "c2.Divide(1,2)\n",
    "\n",
    "#Plot PDFs on sPlots\n",
    "#signal.plotOn(sig_frame)\n",
    "#background.plotOn(bkg_frame)\n",
    "c2.cd(1)\n",
    "sig_frame.Draw()\n",
    "c2.cd(2)\n",
    "bkg_frame.Draw()\n",
    "c2"
   ]
  },
  {
   "cell_type": "code",
   "execution_count": null,
   "metadata": {
    "collapsed": true
   },
   "outputs": [],
   "source": [
    "#Write Sweights to TTree"
   ]
  },
  {
   "cell_type": "code",
   "execution_count": null,
   "metadata": {
    "collapsed": false
   },
   "outputs": [],
   "source": [
    "#Fill SWeights to numpy array\n",
    "Weight_sig_array = []\n",
    "Weight_bkg_array = []\n",
    "num = sWeight_sig.numEntries()\n",
    "for i in range(num):\n",
    "    Weight_sig_array.append(data_sweight.GetSWeight(i,\"nsig\"))\n",
    "    Weight_bkg_array.append(data_sweight.GetSWeight(i,\"nbkg\"))"
   ]
  },
  {
   "cell_type": "code",
   "execution_count": null,
   "metadata": {
    "collapsed": false
   },
   "outputs": [],
   "source": [
    "print(num)"
   ]
  },
  {
   "cell_type": "code",
   "execution_count": null,
   "metadata": {
    "collapsed": true
   },
   "outputs": [],
   "source": [
    "#del Weight_sig_array[-1]\n",
    "#del Weight_sig_array[-1]"
   ]
  },
  {
   "cell_type": "code",
   "execution_count": null,
   "metadata": {
    "collapsed": false
   },
   "outputs": [],
   "source": [
    "'''#Create new dataframe to add SWeights to\n",
    "data_file = '/fhgfs/users/chasenberg/data/2016/jpsiks/sweights/Bd2JpsiKS_data_2016_flattened_cutstring.root'\n",
    "df_data = rp.read_root(data_file,key='Bd2JpsiKs')\n",
    "df_data['nsig_sw'] = Weight_sig_array\n",
    "df_data.to_root('/fhgfs/users/chasenberg/data/2016/jpsiks/sweights/Bd2JpsiKS_data_2016_flattened_SWeights.root',key='Bd2JpsiKs')#,branches='nsig_sw')'''"
   ]
  },
  {
   "cell_type": "code",
   "execution_count": null,
   "metadata": {
    "collapsed": false
   },
   "outputs": [],
   "source": [
    "from ROOT import TTreeFormula\n",
    "# writing interim file and tree to have same number of events in ttree and dataset (restricted mass range)\n",
    "entries = tree_data.GetEntries()\n",
    "\n",
    "print('Creatin output file')\n",
    "interim_file = TFile(\"/tmp/interim.root\",\"recreate\")\n",
    "interim_tree = tree_data\n",
    "cut_string = \"\"\n",
    "formula = TTreeFormula(\"formula\",cut_string,interim_tree)\n",
    "interim_tree = tree_data.CopyTree(cut_string)\n",
    "interim_tree.Write()\n",
    "data.Close()\n",
    "\n",
    "# now writing final File\n",
    "new_file = TFile(\"/fhgfs/users/chasenberg/data/2016/jpsiks/sweights/Bd2JpsiKS_data_2016_flattened_sw.root\",\"recreate\")\n",
    "new_tree = interim_tree.CloneTree()\n",
    "interim_file.Close()\n",
    "\n",
    "interim_entries = new_tree.GetEntries()\n",
    "\n",
    "sig_weight = np.zeros(1, dtype=float)\n",
    "bkg_weight = np.zeros(1, dtype=float)\n",
    "sigweight_branch = new_tree.Branch('SigYield_sw',sig_weight,'SigYield_sw/D')\n",
    "bkgweight_branch = new_tree.Branch('BkgYield_sw',bkg_weight,'BkgYield_sw/D')\n",
    "\n",
    "for i in range(0,interim_entries):\n",
    "  sig_weight[0] = Weight_sig_array[i]\n",
    "  bkg_weight[0] = Weight_bkg_array[i]\n",
    "  sigweight_branch.Fill()\n",
    "  bkgweight_branch.Fill()\n",
    "  \n",
    "new_tree.Write()\n",
    "new_file.Close()\n",
    "\n",
    "# removing interim file\n",
    "os.remove(\"/tmp/interim.root\")"
   ]
  },
  {
   "cell_type": "code",
   "execution_count": null,
   "metadata": {
    "collapsed": true
   },
   "outputs": [],
   "source": []
  }
 ],
 "metadata": {
  "kernelspec": {
   "display_name": "Python 3",
   "language": "python",
   "name": "python3"
  },
  "language_info": {
   "codemirror_mode": {
    "name": "ipython",
    "version": 3
   },
   "file_extension": ".py",
   "mimetype": "text/x-python",
   "name": "python",
   "nbconvert_exporter": "python",
   "pygments_lexer": "ipython3",
   "version": "3.4.4"
  }
 },
 "nbformat": 4,
 "nbformat_minor": 0
}
