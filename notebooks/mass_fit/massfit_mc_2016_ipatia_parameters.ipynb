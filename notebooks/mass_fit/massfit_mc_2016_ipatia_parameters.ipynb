{
 "cells": [
  {
   "cell_type": "code",
   "execution_count": 1,
   "metadata": {
    "collapsed": true
   },
   "outputs": [],
   "source": [
    "import ROOT\n",
    "from ROOT import gROOT, TCanvas, TF1, TFile, TTree, gRandom, TH1F\n",
    "\n",
    "from ROOT import RooRealVar, RooFormulaVar, RooVoigtian, RooChebychev, RooArgList, \\\n",
    "                 RooArgSet, RooAddPdf, RooDataSet, RooCategory, RooSimultaneous, \\\n",
    "                 RooBreitWigner, RooCBShape, RooFFTConvPdf, RooGaussian,RooExponential, \\\n",
    "                 RooBinning, kRed, kBlue, kDotted,TString,RooAbsData, RooPlot, TCut, RooAbsData, RooFit                "
   ]
  },
  {
   "cell_type": "code",
   "execution_count": 2,
   "metadata": {
    "collapsed": false
   },
   "outputs": [
    {
     "name": "stderr",
     "output_type": "stream",
     "text": [
      "/opt/rh/miniconda/envs/py3root6/lib/python3.4/site-packages/sklearn/cross_validation.py:44: DeprecationWarning: This module was deprecated in version 0.18 in favor of the model_selection module into which all the refactored classes and functions are moved. Also note that the interface of the new CV iterators are different from that of this module. This module will be removed in 0.20.\n",
      "  \"This module will be removed in 0.20.\", DeprecationWarning)\n"
     ]
    }
   ],
   "source": [
    "%matplotlib inline\n",
    "%reload_ext autoreload\n",
    "%autoreload 2\n",
    "\n",
    "import os, sys, time, random\n",
    "\n",
    "from ROOT import TTree, TFile\n",
    "\n",
    "# from root_numpy import root2array, rec2array, array2root\n",
    "\n",
    "import pandas as pd\n",
    "import numpy as np\n",
    "import scipy \n",
    "import root_pandas as rp\n",
    "import root_numpy as ry \n",
    "\n",
    "import pandas.core.common as com\n",
    "from pandas.core.index import Index\n",
    "from pandas.tools import plotting\n",
    "from pandas.tools.plotting import scatter_matrix\n",
    "\n",
    "from tqdm import tqdm_notebook\n",
    "\n",
    "import numpy as np\n",
    "import matplotlib as mpl\n",
    "import matplotlib.pyplot as plt\n",
    "from matplotlib.backends.backend_pdf import PdfPages\n",
    "\n",
    "from sklearn import datasets\n",
    "from sklearn.tree import DecisionTreeClassifier\n",
    "from sklearn.ensemble import AdaBoostClassifier, GradientBoostingClassifier\n",
    "from sklearn.cross_validation import train_test_split\n",
    "from sklearn.preprocessing import Imputer, StandardScaler\n",
    "from sklearn.externals import joblib\n",
    "from sklearn.metrics import classification_report, roc_curve, auc, roc_auc_score\n",
    "\n",
    "sys.path.append('/home/chasenberg/repos/')\n",
    "sys.path.append('/home/chasenberg/repos/dopy')\n",
    "from dopy import * \n",
    "from dopy.dolearn.sklearn_utils import plot_roc_curve, plot_classifier_output, plot_correlations\n",
    "from dopy.dolearn.sklearn_utils import plot_feature_importances, plot_classifier_output, classify_unseen_data\n",
    "#from dopy.sklearn_utils import plot_bdt_vars\n",
    "from dopy.doplot.plotting import Plotter, Plot\n",
    "from dopy.doanalysis.df_utils import add_min_max, add_eta "
   ]
  },
  {
   "cell_type": "code",
   "execution_count": 3,
   "metadata": {
    "collapsed": true
   },
   "outputs": [],
   "source": [
    "sys.path.append('/home/chasenberg/repos/root_utils/')\n",
    "from ROOT import TColor\n",
    "import rootnotes  # For displaying TCanvas in notebooks\n",
    "from lhcb_style import set_lhcb_style # Set basic LHCb plot style\n",
    "set_lhcb_style()   \n",
    "from root_utils import plot_pulls"
   ]
  },
  {
   "cell_type": "code",
   "execution_count": 4,
   "metadata": {
    "collapsed": false
   },
   "outputs": [],
   "source": [
    "\n",
    "from ROOT import RooRealVar, RooExponential, RooExtendPdf, RooAddPdf, RooArgList, RooGaussian\n",
    "from ROOT import RooFormulaVar\n",
    "from ROOT import gSystem\n",
    "gSystem.Load('libRooFit.so')\n",
    "gSystem.Load('/home/chasenberg/repos/dopy/dolib/CustomShapes/libKll')\n",
    "from ROOT import RooIpatia2"
   ]
  },
  {
   "cell_type": "code",
   "execution_count": 5,
   "metadata": {
    "collapsed": false
   },
   "outputs": [
    {
     "data": {
      "text/plain": [
       "\"#directories and files \\ndata_dir_2015 = '/fhgfs/users/chasenberg/data/2015/jpsiks/sweights/'\\ndata_file_2015 ='Bd2JpsiKS_data_2015_flattened_sw.root'\\ndata_dir_2016 = '/fhgfs/users/chasenberg/data/2016/jpsiks/sweights/'\\ndata_file_2016 ='Bd2JpsiKS_data_2016_flattened_sw.root'\\n\\nmc_dir = '/fhgfs/users/chasenberg/mc/2015/jpsiks/dimuon/flattened/'\\nmc_file = 'Bd2JpsiKS_dimuon_mc_2015_flat.root'\\n\\ndata_dir_2015 = os.path.join(data_dir_2015, data_file_2015)\\ndata_dir_2016 = os.path.join(data_dir_2016, data_file_2016)\\nmc_dir = os.path.join(mc_dir, mc_file)\""
      ]
     },
     "execution_count": 5,
     "metadata": {},
     "output_type": "execute_result"
    }
   ],
   "source": [
    "'''#directories and files \n",
    "data_dir_2015 = '/fhgfs/users/chasenberg/data/2015/jpsiks/sweights/'\n",
    "data_file_2015 ='Bd2JpsiKS_data_2015_flattened_sw.root'\n",
    "data_dir_2016 = '/fhgfs/users/chasenberg/data/2016/jpsiks/sweights/'\n",
    "data_file_2016 ='Bd2JpsiKS_data_2016_flattened_sw.root'\n",
    "\n",
    "mc_dir = '/fhgfs/users/chasenberg/mc/2015/jpsiks/dimuon/flattened/'\n",
    "mc_file = 'Bd2JpsiKS_dimuon_mc_2015_flat.root'\n",
    "\n",
    "data_dir_2015 = os.path.join(data_dir_2015, data_file_2015)\n",
    "data_dir_2016 = os.path.join(data_dir_2016, data_file_2016)\n",
    "mc_dir = os.path.join(mc_dir, mc_file)'''"
   ]
  },
  {
   "cell_type": "code",
   "execution_count": 6,
   "metadata": {
    "collapsed": false
   },
   "outputs": [
    {
     "data": {
      "text/plain": [
       "\"#Treename for data\\ntree_data = 'Bd2JpsiKs'\\n#criteria and information for read in mc\\ncut_string_mc = 'B0_FitDaughtersConst_status==0&B0_FitPVConst_status==0&idxPV==0&B0_FitDaughtersConst_M<5350&B0_FitDaughtersConst_M>5220&B0_BKGCAT==0&((B0_L0Global_TOS==1)|(B0_Hlt1DiMuonHighMassDecision_TOS==1)|(B0_Hlt2DiMuonDetachedJPsiDecision_TOS==1))'\\ntree_mc = 'Bd2JpsiKs'\\n#Read only mass of MC\\nvariables_mc = 'B0_FitDaughtersConst_M\""
      ]
     },
     "execution_count": 6,
     "metadata": {},
     "output_type": "execute_result"
    }
   ],
   "source": [
    "'''#Treename for data\n",
    "tree_data = 'Bd2JpsiKs'\n",
    "#criteria and information for read in mc\n",
    "cut_string_mc = 'B0_FitDaughtersConst_status==0&B0_FitPVConst_status==0&idxPV==0&B0_FitDaughtersConst_M<5350&B0_FitDaughtersConst_M>5220&B0_BKGCAT==0&((B0_L0Global_TOS==1)|(B0_Hlt1DiMuonHighMassDecision_TOS==1)|(B0_Hlt2DiMuonDetachedJPsiDecision_TOS==1))'\n",
    "tree_mc = 'Bd2JpsiKs'\n",
    "#Read only mass of MC\n",
    "variables_mc = 'B0_FitDaughtersConst_M'''"
   ]
  },
  {
   "cell_type": "markdown",
   "metadata": {},
   "source": [
    "Build minimal ROOT File only for determining Ipatia parameters\n",
    "----------------------------------------------------"
   ]
  },
  {
   "cell_type": "code",
   "execution_count": 7,
   "metadata": {
    "collapsed": false
   },
   "outputs": [
    {
     "data": {
      "text/plain": [
       "\"signal_dataframe = rp.read_root(mc_dir,key=tree_mc,columns=variables_mc,where=cut_string_mc, flatten=True)\\nsignal_dataframe = signal_dataframe.replace([np.inf, -np.inf], np.nan)\\nsignal_dataframe = signal_dataframe.dropna()\\nsignal_dataframe.to_root('/fhgfs/users/chasenberg/mc/2016/jpsiks/dimuon/with_cut/Bd2JpsiKS_dimuon_mc_2016_flat_cuts_BDT_cut.root')\""
      ]
     },
     "execution_count": 7,
     "metadata": {},
     "output_type": "execute_result"
    }
   ],
   "source": [
    "'''signal_dataframe = rp.read_root(mc_dir,key=tree_mc,columns=variables_mc,where=cut_string_mc, flatten=True)\n",
    "signal_dataframe = signal_dataframe.replace([np.inf, -np.inf], np.nan)\n",
    "signal_dataframe = signal_dataframe.dropna()\n",
    "signal_dataframe.to_root('/fhgfs/users/chasenberg/mc/2016/jpsiks/dimuon/with_cut/Bd2JpsiKS_dimuon_mc_2016_flat_cuts_BDT_cut.root')'''"
   ]
  },
  {
   "cell_type": "code",
   "execution_count": 8,
   "metadata": {
    "collapsed": false
   },
   "outputs": [],
   "source": [
    "#Mass variable\n",
    "B0_M = RooRealVar(\"B0_FitDaughtersConst_M\", \"B0_M\", 5280, \"MeV\")\n",
    "mass = RooRealVar(\"B0_FitDaughtersConst_M\", \"Mass(J/psi K_{S})\", 5280,5220, 5350, \"MeV\")"
   ]
  },
  {
   "cell_type": "code",
   "execution_count": 9,
   "metadata": {
    "collapsed": false
   },
   "outputs": [],
   "source": [
    "# Read data and fit it\n",
    "data = ROOT.TFile('/fhgfs/users/chasenberg/mc/2016/jpsiks/dimuon/with_cut/Bd2JpsiKS_dimuon_mc_2016_flat_cuts_BDT_cut.root')\n",
    "tree_data = data.Get('default') \n",
    "ntupleVarSet =  RooArgSet(mass) "
   ]
  },
  {
   "cell_type": "code",
   "execution_count": 10,
   "metadata": {
    "collapsed": false
   },
   "outputs": [],
   "source": [
    "dataset = RooDataSet('data1','data1',tree_data,ntupleVarSet)"
   ]
  },
  {
   "cell_type": "markdown",
   "metadata": {},
   "source": [
    "Build Ipatia mass model\n",
    "--------------------------------------------"
   ]
  },
  {
   "cell_type": "code",
   "execution_count": 17,
   "metadata": {
    "collapsed": false
   },
   "outputs": [],
   "source": [
    "postfix = ''\n",
    "\n",
    "par_ipatia_zeta  = RooRealVar('par_ipatia_zeta'  + postfix,  'par_ipatia_zeta'  + postfix, 2.8, 0.3, 5.3)\n",
    "par_ipatia_fb    = RooRealVar('par_ipatia_fb'    + postfix,    'par_ipatia_fb'  + postfix, 0., 0., 0.)\n",
    "par_ipatia_l     = RooRealVar('par_ipatia_l'     + postfix,     'par_ipatia_l'  + postfix, 1., 1., 1.)\n",
    "par_ipatia_m     = RooRealVar('par_ipatia_m'     + postfix,     'par_ipatia_m'  + postfix, 5280, 5220., 5350.,)\n",
    "par_ipatia_sigma = RooRealVar('par_ipatia_sigma' + postfix, 'par_ipatia_sigma'  + postfix, 8., 2., 100.)\n",
    "par_ipatia_a1    = RooRealVar('par_ipatia_a1'    + postfix,     'par_ipatia_a1' + postfix, 2.1, 0.01, 4)\n",
    "par_ipatia_a2    = RooRealVar('par_ipatia_a2'    + postfix,     'par_ipatia_a2' + postfix, 2.1, 0.01, 4)\n",
    "par_ipatia_n1    = RooRealVar('par_ipatia_n1'    + postfix,     'par_ipatia_n1' + postfix, 3.8, 0.00001, 150.)\n",
    "par_ipatia_n2    = RooRealVar('par_ipatia_n2'    + postfix,     'par_ipatia_n2' + postfix, 7.0, 0.00001, 150.)\n",
    "\n",
    "pdf_mass_ipatia  = ROOT.RooIpatia2('pdf_mass_ipatia', 'pdf_mass_ipatia', mass, par_ipatia_l, par_ipatia_zeta, par_ipatia_fb,\n",
    "                               par_ipatia_sigma, par_ipatia_m, par_ipatia_a1, par_ipatia_n1,\n",
    "                               par_ipatia_a2, par_ipatia_n2)\n",
    "    \n",
    "ROOT.SetOwnership( pdf_mass_ipatia, False )\n",
    "ROOT.SetOwnership( par_ipatia_zeta, False )\n",
    "ROOT.SetOwnership( par_ipatia_fb, False )\n",
    "ROOT.SetOwnership( par_ipatia_l, False )\n",
    "ROOT.SetOwnership( par_ipatia_m, False )\n",
    "ROOT.SetOwnership( par_ipatia_sigma, False )\n",
    "ROOT.SetOwnership( par_ipatia_a1, False )\n",
    "ROOT.SetOwnership( par_ipatia_n1, False )\n",
    "ROOT.SetOwnership( par_ipatia_a2, False )\n",
    "ROOT.SetOwnership( par_ipatia_n2, False )\n",
    "\n",
    "sig_yield = RooRealVar('sig_yield' + postfix, 'sig_yield' + postfix, 99000, 0, 110000)\n",
    "ROOT.SetOwnership( sig_yield, False )\n",
    "\n",
    "sig_pdf_ext = RooExtendPdf('sig_pdf_ext' + postfix, 'sig_pdf_ext' + postfix, pdf_mass_ipatia, sig_yield)\n",
    "ROOT.SetOwnership( sig_pdf_ext, False )\n",
    " \n",
    "exp_a = RooRealVar('exp_a' + postfix, 'exp_a' + postfix, -0.001, -0.01, -0.00001)\n",
    "exp   = RooExponential('exp' + postfix, 'exp' + postfix, mass, exp_a)\n",
    "bkg_pdf = exp\n",
    "bkg_yield = RooRealVar('bkg_yield' + postfix, 'bkg_yield' + postfix, 0, 0, 0)\n",
    "ROOT.SetOwnership( exp_a, False )\n",
    "ROOT.SetOwnership( bkg_pdf, False )\n",
    "ROOT.SetOwnership( bkg_yield, False)\n",
    "\n",
    "bkg_pdf_ext = RooExtendPdf('bkg_pdf_ext' + postfix, 'bkg_pdf_ext' + postfix, bkg_pdf, bkg_yield)\n",
    "ROOT.SetOwnership( bkg_pdf_ext, False)\n",
    "\n",
    "par_ipatia_m_bs_shift = RooRealVar(\"par_ipatia_m_bs_shift\" + postfix, \"par_ipatia_m_bs_shift\" + postfix, 87.0, 50.0, 100.0)\n",
    "par_ipatia_m_bs = RooFormulaVar(\"par_ipatia_m_bs\" + postfix, \"par_ipatia_m_bs\" + postfix, \"@0+@1\", RooArgList(par_ipatia_m, par_ipatia_m_bs_shift))\n",
    "#par_ipatia_m_bs = RooRealVar(\"par_ipatia_m_bs\"    + postfix,    \"par_ipatia_m_bs\" + postfix,    5366, 5300., 5400.,)\n",
    "                    \n",
    "pdf_mass_ipatia_bs  = ROOT.RooIpatia2('pdf_mass_ipatia_bs', 'pdf_mass_ipatia_bs', mass, par_ipatia_l, par_ipatia_zeta, par_ipatia_fb,\n",
    "                                   par_ipatia_sigma, par_ipatia_m_bs, par_ipatia_a1, par_ipatia_n1, par_ipatia_a2, par_ipatia_n2)\n",
    "    \n",
    "bs_yield = RooRealVar('bs_yield' + postfix, 'bs_yield' + postfix, 0, 0, 0)\n",
    "ROOT.SetOwnership( par_ipatia_m_bs_shift, False )\n",
    "ROOT.SetOwnership( par_ipatia_m_bs, False)\n",
    "ROOT.SetOwnership( bs_yield, False)\n",
    "ROOT.SetOwnership( pdf_mass_ipatia_bs, False)\n",
    "\n",
    "bs_pdf_ext = RooExtendPdf('bs_pdf_ext' + postfix, 'bs_pdf_ext' + postfix, pdf_mass_ipatia_bs, bs_yield)\n",
    "ROOT.SetOwnership( bs_pdf_ext, False)\n",
    "\n",
    "data_model = RooAddPdf('model' + postfix, 'model' + postfix, RooArgList(sig_pdf_ext, bkg_pdf_ext, bs_pdf_ext))\n",
    "ROOT.SetOwnership( data_model, False )\n",
    "    "
   ]
  },
  {
   "cell_type": "code",
   "execution_count": 18,
   "metadata": {
    "collapsed": false
   },
   "outputs": [
    {
     "data": {
      "text/plain": [
       "<ROOT.RooFitResult object (\"fitresult_model_data1\") at 0x8c442c0>"
      ]
     },
     "execution_count": 18,
     "metadata": {},
     "output_type": "execute_result"
    }
   ],
   "source": [
    "#Fit model to dataset\n",
    "data_model.fitTo(dataset, ROOT.RooFit.Save(True)) "
   ]
  },
  {
   "cell_type": "code",
   "execution_count": 19,
   "metadata": {
    "collapsed": false
   },
   "outputs": [
    {
     "name": "stderr",
     "output_type": "stream",
     "text": [
      "TCanvas::Constructor:0: RuntimeWarning: Deleting canvas with same name: can\n"
     ]
    },
    {
     "data": {
      "image/png": "[encoded data removed]",
      "text/plain": [
       "<ROOT.TCanvas object (\"can\") at 0x8bde950>"
      ]
     },
     "execution_count": 19,
     "metadata": {},
     "output_type": "execute_result"
    }
   ],
   "source": [
    "# Prepare frame\n",
    "%matplotlib inline  \n",
    "import ROOT\n",
    "frame = mass.frame(ROOT.RooFit.Bins(25))\n",
    "\n",
    "dataset.plotOn(frame, ROOT.RooFit.Name(\"data1\"))\n",
    "\n",
    "data_model.plotOn( frame , ROOT.RooFit.Components(\"signal\"), ROOT.RooFit.LineStyle(kDotted), ROOT.RooFit.LineColor(kRed))\n",
    "data_model.plotOn( frame , ROOT.RooFit.Components(\"background\"), ROOT.RooFit.LineStyle(kDotted), ROOT.RooFit.LineColor(kBlue))\n",
    "data_model.plotOn(frame, ROOT.RooFit.Name(\"fit\"))\n",
    "### Add additional informations to the plot\n",
    "text_size = 0.035\n",
    "# Create TLegend\n",
    "legend = ROOT.TLegend(0.7, 0.75, 0.9, 0.9, '')\n",
    "legend.AddEntry(frame.findObject('data1'), \"Data points\", \"p\");\n",
    "legend.AddEntry(frame.findObject('fit'), 'Fit', 'l')\n",
    "legend.SetTextSize(text_size)\n",
    "\n",
    "# Plot pulls\n",
    "can, _ = plot_pulls('test', frame, legend=legend)#, latex=latex)\n",
    "can.SaveAs(\"/home/chasenberg/repos/b2cc_sin2beta/notebooks/mass_fit/plots/jpsiks/2015/ipatia/B0_Mass.pdf\")\n",
    "can  # To display plot in notebooks"
   ]
  },
  {
   "cell_type": "code",
   "execution_count": 20,
   "metadata": {
    "collapsed": false
   },
   "outputs": [],
   "source": [
    "sig_pdf = data_model.getComponents().find('sig_pdf_ext')\n",
    "bkg_pdf = data_model.getComponents().find('bkg_pdf_ext')"
   ]
  },
  {
   "cell_type": "code",
   "execution_count": 21,
   "metadata": {
    "collapsed": false
   },
   "outputs": [
    {
     "ename": "NameError",
     "evalue": "name 'args' is not defined",
     "output_type": "error",
     "traceback": [
      "\u001b[1;31m---------------------------------------------------------------------------\u001b[0m",
      "\u001b[1;31mNameError\u001b[0m                                 Traceback (most recent call last)",
      "\u001b[1;32m<ipython-input-21-9baa9b80641d>\u001b[0m in \u001b[0;36m<module>\u001b[1;34m()\u001b[0m\n\u001b[0;32m     13\u001b[0m \u001b[1;33m\u001b[0m\u001b[0m\n\u001b[0;32m     14\u001b[0m \u001b[1;32mfor\u001b[0m \u001b[0mvarname\u001b[0m \u001b[1;32min\u001b[0m \u001b[0mvarnames\u001b[0m\u001b[1;33m:\u001b[0m\u001b[1;33m\u001b[0m\u001b[0m\n\u001b[1;32m---> 15\u001b[1;33m     \u001b[0mvar\u001b[0m \u001b[1;33m=\u001b[0m \u001b[0margs\u001b[0m\u001b[1;33m.\u001b[0m\u001b[0mfind\u001b[0m\u001b[1;33m(\u001b[0m\u001b[0mvarname\u001b[0m\u001b[1;33m)\u001b[0m\u001b[1;33m\u001b[0m\u001b[0m\n\u001b[0m\u001b[0;32m     16\u001b[0m     \u001b[0mshape_dict\u001b[0m\u001b[1;33m[\u001b[0m\u001b[0mvarname\u001b[0m\u001b[1;33m+\u001b[0m\u001b[1;34m'_value'\u001b[0m\u001b[1;33m]\u001b[0m \u001b[1;33m=\u001b[0m \u001b[0mvar\u001b[0m\u001b[1;33m.\u001b[0m\u001b[0mgetValV\u001b[0m\u001b[1;33m(\u001b[0m\u001b[1;33m)\u001b[0m\u001b[1;33m\u001b[0m\u001b[0m\n\u001b[0;32m     17\u001b[0m     \u001b[0mshape_dict\u001b[0m\u001b[1;33m[\u001b[0m\u001b[0mvarname\u001b[0m\u001b[1;33m+\u001b[0m\u001b[1;34m'_errlo'\u001b[0m\u001b[1;33m]\u001b[0m \u001b[1;33m=\u001b[0m \u001b[0mvar\u001b[0m\u001b[1;33m.\u001b[0m\u001b[0mgetErrorLo\u001b[0m\u001b[1;33m(\u001b[0m\u001b[1;33m)\u001b[0m\u001b[1;33m\u001b[0m\u001b[0m\n",
      "\u001b[1;31mNameError\u001b[0m: name 'args' is not defined"
     ]
    }
   ],
   "source": [
    "\n",
    "varnames = []\n",
    "varnames.append('par_ipatia_a1')\n",
    "varnames.append('par_ipatia_a2')\n",
    "varnames.append('par_ipatia_n1')\n",
    "varnames.append('par_ipatia_n2')\n",
    "varnames.append('par_ipatia_l')\n",
    "varnames.append('par_ipatia_sigma')\n",
    "varnames.append('par_ipatia_m')\n",
    "varnames.append('par_ipatia_m_bs_shift')\n",
    "varnames.append('par_ipatia_fb')\n",
    "varnames.append('exp_a')\n",
    "\n",
    "for varname in varnames:\n",
    "    var = args.find(varname)\n",
    "    shape_dict[varname+'_value'] = var.getValV()\n",
    "    shape_dict[varname+'_errlo'] = var.getErrorLo()\n",
    "    shape_dict[varname+'_errhi'] = var.getErrorHi()"
   ]
  },
  {
   "cell_type": "code",
   "execution_count": 22,
   "metadata": {
    "collapsed": false
   },
   "outputs": [
    {
     "data": {
      "text/plain": [
       "49994.60294079673"
      ]
     },
     "execution_count": 22,
     "metadata": {},
     "output_type": "execute_result"
    }
   ],
   "source": [
    "sig_yield.getValV()"
   ]
  },
  {
   "cell_type": "code",
   "execution_count": null,
   "metadata": {
    "collapsed": true
   },
   "outputs": [],
   "source": []
  }
 ],
 "metadata": {
  "kernelspec": {
   "display_name": "Python 3",
   "language": "python",
   "name": "python3"
  },
  "language_info": {
   "codemirror_mode": {
    "name": "ipython",
    "version": 3
   },
   "file_extension": ".py",
   "mimetype": "text/x-python",
   "name": "python",
   "nbconvert_exporter": "python",
   "pygments_lexer": "ipython3",
   "version": "3.4.4"
  }
 },
 "nbformat": 4,
 "nbformat_minor": 0
}
