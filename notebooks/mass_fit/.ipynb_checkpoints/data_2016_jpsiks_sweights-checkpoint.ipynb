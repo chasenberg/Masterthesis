{
 "cells": [
  {
   "cell_type": "code",
   "execution_count": 1,
   "metadata": {
    "collapsed": false
   },
   "outputs": [],
   "source": [
    "import ROOT\n",
    "from rootpy.tree import Tree, TreeModel, FloatCol, IntCol\n",
    "from rootpy.io import root_open\n",
    "from ROOT import gROOT, TCanvas, TF1, TFile, TTree, gRandom, TH1F\n",
    "\n",
    "from ROOT import RooRealVar, RooFormulaVar, RooVoigtian, RooChebychev, RooArgList, \\\n",
    "                 RooArgSet, RooAddPdf, RooDataSet, RooCategory, RooSimultaneous, \\\n",
    "                 RooBreitWigner, RooCBShape, RooFFTConvPdf, RooGaussian,RooExponential, \\\n",
    "                 RooBinning, kRed, kBlue, kDotted,TString,RooAbsData, RooPlot, TCut, RooAbsData, RooFit                "
   ]
  },
  {
   "cell_type": "code",
   "execution_count": 2,
   "metadata": {
    "collapsed": false
   },
   "outputs": [
    {
     "name": "stderr",
     "output_type": "stream",
     "text": [
      "/opt/rh/miniconda/envs/py3root6/lib/python3.4/site-packages/sklearn/cross_validation.py:44: DeprecationWarning: This module was deprecated in version 0.18 in favor of the model_selection module into which all the refactored classes and functions are moved. Also note that the interface of the new CV iterators are different from that of this module. This module will be removed in 0.20.\n",
      "  \"This module will be removed in 0.20.\", DeprecationWarning)\n"
     ]
    }
   ],
   "source": [
    "%matplotlib inline\n",
    "%reload_ext autoreload\n",
    "%autoreload 2\n",
    "\n",
    "import os, sys, time, random\n",
    "\n",
    "from ROOT import TTree, TFile\n",
    "\n",
    "# from root_numpy import root2array, rec2array, array2root\n",
    "\n",
    "import pandas as pd\n",
    "import numpy as np\n",
    "import scipy \n",
    "import root_pandas as rp\n",
    "import root_numpy as ry \n",
    "\n",
    "import pandas.core.common as com\n",
    "from pandas.core.index import Index\n",
    "from pandas.tools import plotting\n",
    "from pandas.tools.plotting import scatter_matrix\n",
    "\n",
    "from tqdm import tqdm_notebook\n",
    "\n",
    "import numpy as np\n",
    "import matplotlib as mpl\n",
    "import matplotlib.pyplot as plt\n",
    "from matplotlib.backends.backend_pdf import PdfPages\n",
    "\n",
    "from sklearn import datasets\n",
    "from sklearn.tree import DecisionTreeClassifier\n",
    "from sklearn.ensemble import AdaBoostClassifier, GradientBoostingClassifier\n",
    "from sklearn.cross_validation import train_test_split\n",
    "from sklearn.preprocessing import Imputer, StandardScaler\n",
    "from sklearn.externals import joblib\n",
    "from sklearn.metrics import classification_report, roc_curve, auc, roc_auc_score\n",
    "\n",
    "sys.path.append('/home/chasenberg/repos/')\n",
    "sys.path.append('/home/chasenberg/repos/dopy')\n",
    "from dopy import * \n",
    "from dopy.dolearn.sklearn_utils import plot_roc_curve, plot_classifier_output, plot_correlations\n",
    "from dopy.dolearn.sklearn_utils import plot_feature_importances, plot_classifier_output, classify_unseen_data\n",
    "#from dopy.sklearn_utils import plot_bdt_vars\n",
    "from dopy.doplot.plotting import Plotter, Plot\n",
    "from dopy.doanalysis.df_utils import add_min_max, add_eta "
   ]
  },
  {
   "cell_type": "code",
   "execution_count": 3,
   "metadata": {
    "collapsed": false
   },
   "outputs": [],
   "source": [
    "#directories and files \n",
    "data_dir = '/fhgfs/users/chasenberg/data/2015/jpsiks/flattened/'\n",
    "data_file ='Bd2JpsiKS_data_2015_flattened.root'\n",
    "data_dir = os.path.join(data_dir, data_file)"
   ]
  },
  {
   "cell_type": "code",
   "execution_count": 61,
   "metadata": {
    "collapsed": false
   },
   "outputs": [],
   "source": [
    "#criteria and information for read in data\n",
    "branch_names_data = ['B0_M','B0_FitDaughtersConst*','idxPV','B0_FitPVConst_status','B0_FitPVConst_KS0_tau','B0_FitPVConst_KS0_tau*','B0_L0MuonDecision_TOS','B0_Hlt1TrackMuonDecision_TOS','B0_Hlt2DiMuonJPsiDecision_TOS']\n",
    "cut_string_data = 'B0_FitDaughtersConst_J_psi_1S_PT_flat>=2000&B0_FitDaughtersConst_status==0&B0_FitPVConst_status==0&idxPV==0&B0_FitDaughtersConst_M<5350&B0_FitDaughtersConst_M>5220&((B0_L0Global_TOS==1)|(B0_Hlt1DiMuonHighMassDecision_TOS==1)|(B0_Hlt2DiMuonDetachedJPsiDecision_TOS==1))'\n",
    "tree_data = 'Bd2JpsiKs'\n",
    "#read root files\n",
    "df_data = rp.read_root(data_dir,key=tree_data,columns=branch_names_data,where=cut_string_data, flatten=True)\n",
    "#Write a new ROOT tuple \n",
    "df_data.to_root('/fhgfs/users/chasenberg/data/2015/jpsiks/sweights/Bd2JpsiKS_data_flattened_cutstring.root',key='Bd2JpsiKs')"
   ]
  },
  {
   "cell_type": "code",
   "execution_count": 62,
   "metadata": {
    "collapsed": false
   },
   "outputs": [
    {
     "data": {
      "text/plain": [
       "238257"
      ]
     },
     "execution_count": 62,
     "metadata": {},
     "output_type": "execute_result"
    }
   ],
   "source": [
    "data = ROOT.TFile('/fhgfs/users/chasenberg/data/2015/jpsiks/sweights/Bd2JpsiKS_data_flattened_cutstring.root')\n",
    "tree_data = data.Get('Bd2JpsiKs') \n",
    "tree_data.GetEntries()"
   ]
  },
  {
   "cell_type": "code",
   "execution_count": 63,
   "metadata": {
    "collapsed": false
   },
   "outputs": [],
   "source": [
    "B0_M = RooRealVar(\"B0_FitDaughtersConst_M\", \"B0_M\", 5280, \"MeV\")\n",
    "upper_limit_mass = 5350\n",
    "lower_limit_mass = 5220\n",
    "mass = RooRealVar(\"B0_FitDaughtersConst_M\", \"Mass(J/psi K_{S})\", 5280,lower_limit_mass, upper_limit_mass, \"MeV\")\n",
    "# Construct signal from two Gaussian pdf's with different means and sigmas \n",
    "mean = RooRealVar(\"mean\", \"mean\", 5280,  5210,5360)\n",
    "sigma_1 = RooRealVar(\"sigma_1\", \"sigma_1\", 10, 0, 20)\n",
    "sigma_2 = RooRealVar(\"sigma_2\", \"sigma_2\", 15, 0, 20)\n",
    "sig1frac = RooRealVar(\"sig1frac\",\"fraction of component 1 in signal\",0.8,0.,1.)\n",
    "\n",
    "signal_1 = RooGaussian(\"signal_1\", \"signal_1\", mass, mean, sigma_1)\n",
    "signal_2 = RooGaussian(\"signal_2\", \"signal_2\", mass, mean, sigma_2)\n",
    "signal = RooAddPdf(\"DoubleGaussian\",\"DoubleGaussian\",signal_1, signal_2,sig1frac)\n",
    "# Construct background pdf\n",
    "lambda_1= RooRealVar(\"lambda\",\"lambda\",0.0,-0.1,0.0)\n",
    "background = RooExponential(\"background\",\"background\",mass,lambda_1)\n",
    "# Construct composite pdf\n",
    "nsig = RooRealVar(\"nsig\", \"nsig\", 35000,0,45000)\n",
    "nbkg = RooRealVar(\"nbkg\", \"nbkg\", 320000, 0, 400000)\n",
    "model = RooAddPdf(\"model\", \"model\", RooArgList(signal, background), RooArgList(nsig, nbkg))"
   ]
  },
  {
   "cell_type": "code",
   "execution_count": 64,
   "metadata": {
    "collapsed": false
   },
   "outputs": [
    {
     "data": {
      "text/plain": [
       "<ROOT.RooFitResult object (\"fitresult_model_data\") at 0xb710110>"
      ]
     },
     "execution_count": 64,
     "metadata": {},
     "output_type": "execute_result"
    }
   ],
   "source": [
    "ntupleVarSet =  RooArgSet(mass)\n",
    "dataset = RooDataSet('data','data',tree_data,ntupleVarSet)\n",
    "#Fit model to dataset\n",
    "model.fitTo(dataset, ROOT.RooFit.Save(True)) "
   ]
  },
  {
   "cell_type": "code",
   "execution_count": 65,
   "metadata": {
    "collapsed": false
   },
   "outputs": [
    {
     "data": {
      "image/png": "[encoded data removed]",
      "text/plain": [
       "<ROOT.TCanvas object (\"test\") at 0x9939b20>"
      ]
     },
     "execution_count": 65,
     "metadata": {},
     "output_type": "execute_result"
    }
   ],
   "source": [
    "sys.path.append('/home/chasenberg/repos/root_utils/')\n",
    "from ROOT import TColor\n",
    "import rootnotes  # For displaying TCanvas in notebooks\n",
    "from lhcb_style import set_lhcb_style # Set basic LHCb plot style\n",
    "set_lhcb_style()   \n",
    "from root_utils import plot_pulls\n",
    "\n",
    "\n",
    "#Plot data and fit-function to same canvas\n",
    "#canvas = rootnotes.canvas(\"c\", (800, 800))\n",
    "can =  ROOT.TCanvas('test')\n",
    "plot = mass.frame() \n",
    "dataset.plotOn( plot , ROOT.RooFit.Binning(40) )\n",
    "model.plotOn( plot )\n",
    "model.plotOn( plot , ROOT.RooFit.Components(\"DoubleGaussian\"), ROOT.RooFit.LineStyle(kDotted), ROOT.RooFit.LineColor(kRed))\n",
    "model.plotOn( plot , ROOT.RooFit.Components(\"background\"), ROOT.RooFit.LineStyle(kDotted), ROOT.RooFit.LineColor(kBlue))\n",
    "#plot.GetYaxis().SetTitle( TString( plot.GetYaxis().GetTitle() ).ReplaceAll(\")\",\"MeV/c^{2} )\").Data() )\n",
    "#canvas.SetLogy(0)\n",
    "plot.Draw()\n",
    "#can, _ = plot_pulls('Data_massfit',plot, save_path='mc_mass_fit_adaboost/plots/', logy=False) \n",
    "can.SaveAs(\"/home/chasenberg/repos/b2cc_sin2beta/notebooks/mass_fit/plots/B0_Mass.pdf\")\n",
    "can\n",
    "#canvas "
   ]
  },
  {
   "cell_type": "code",
   "execution_count": 66,
   "metadata": {
    "collapsed": true
   },
   "outputs": [],
   "source": [
    "#Start to develop an SWeight model"
   ]
  },
  {
   "cell_type": "code",
   "execution_count": 67,
   "metadata": {
    "collapsed": false
   },
   "outputs": [],
   "source": [
    "from ROOT import RooStats\n",
    "\n",
    "data_sweight = ROOT.RooStats.SPlot(\"sData\",\"An SPlot\", dataset,model, RooArgList(nsig, nbkg))\n",
    "sWeight_sig =ROOT.RooDataSet(\"dataset_nsig\",\"dataset_nsig\", dataset, dataset.get(),\"\",\"nsig_sw\")\n",
    "sWeight_bkg = ROOT.RooDataSet(\"dataset_nbkg\",\"dataset_nbkg\", dataset, dataset.get(),\"\",\"nbkg_sw\")\n",
    "#signal_number = sWeight_sig.getVal()\n",
    "#background_number = sWeight_bkg.getVal() \n",
    "#print(\"Number of background events:\",signal_number,\"signal_number\")\n",
    "#print(\"Number of background events:\",background_number,\"signal_number\")"
   ]
  },
  {
   "cell_type": "code",
   "execution_count": 68,
   "metadata": {
    "collapsed": false
   },
   "outputs": [
    {
     "data": {
      "image/png": "[encoded data removed]",
      "text/plain": [
       "<ROOT.TCanvas object (\"c2\") at 0xe5bc0b0>"
      ]
     },
     "execution_count": 68,
     "metadata": {},
     "output_type": "execute_result"
    }
   ],
   "source": [
    "#Make splots of the signal and background\n",
    "sig_frame = mass.frame() \n",
    "sig_frame.SetTitle(\"sPlot for the signal mass distribution\")\n",
    "sWeight_sig.plotOn(sig_frame, ROOT.RooFit.DataError(RooAbsData.SumW2))\n",
    "bkg_frame = mass.frame() \n",
    "bkg_frame.SetTitle(\"sPlot for the background mass distribution\")\n",
    "sWeight_bkg.plotOn(bkg_frame)#, ROOT.RooFit.DataError(RooAbsData.SumW2))\n",
    "c2 = ROOT.TCanvas(\"c2\")\n",
    "c2.Divide(1,2)\n",
    "\n",
    "#Plot PDFs on sPlots\n",
    "#signal.plotOn(sig_frame)\n",
    "#background.plotOn(bkg_frame)\n",
    "c2.cd(1)\n",
    "sig_frame.Draw()\n",
    "c2.cd(2)\n",
    "bkg_frame.Draw()\n",
    "c2"
   ]
  },
  {
   "cell_type": "code",
   "execution_count": 69,
   "metadata": {
    "collapsed": true
   },
   "outputs": [],
   "source": [
    "#Write Sweights to TTree"
   ]
  },
  {
   "cell_type": "code",
   "execution_count": 70,
   "metadata": {
    "collapsed": false
   },
   "outputs": [
    {
     "data": {
      "text/plain": [
       "\"sig_weight = np.zeros(1, dtype=float)\\nbkg_weight = np.zeros(1, dtype=float)\\nsWeight_sig = 1\\nsWeight_bkg = 1\\nsigweight_branch = new_tree.Branch('nsig_sw',sWeight_sig,'nsig_sw/D')\\nbkgweight_branch = new_tree.Branch('nbkg_sw',sWeight_bkg,'nbkg_sw/D')\""
      ]
     },
     "execution_count": 70,
     "metadata": {},
     "output_type": "execute_result"
    }
   ],
   "source": [
    "'''new_file = TFile(\"/fhgfs/users/chasenberg/data/2015/jpsiks/sweights/Bd2JpsiKS_data_flattened_cutstring_test.root\",\"recreate\")\n",
    "new_tree = tree_data.CopyTree(cut_string_data)'''\n",
    "'''sig_weight = np.zeros(1, dtype=float)\n",
    "bkg_weight = np.zeros(1, dtype=float)\n",
    "sWeight_sig = 1\n",
    "sWeight_bkg = 1\n",
    "sigweight_branch = new_tree.Branch('nsig_sw',sWeight_sig,'nsig_sw/D')\n",
    "bkgweight_branch = new_tree.Branch('nbkg_sw',sWeight_bkg,'nbkg_sw/D')'''"
   ]
  },
  {
   "cell_type": "code",
   "execution_count": 71,
   "metadata": {
    "collapsed": false
   },
   "outputs": [],
   "source": [
    "#Fill SWeights to numpy array\n",
    "Weight_sig_array = []\n",
    "Weight_bkg_array = []\n",
    "num = sWeight_sig.numEntries()\n",
    "for i in range(num):\n",
    "    Weight_sig_array.append(data_sweight.GetSWeight(i,\"nsig\"))\n",
    "    Weight_bkg_array.append(data_sweight.GetSWeight(i,\"nbkg\"))"
   ]
  },
  {
   "cell_type": "code",
   "execution_count": 72,
   "metadata": {
    "collapsed": false
   },
   "outputs": [
    {
     "name": "stdout",
     "output_type": "stream",
     "text": [
      "238257\n"
     ]
    }
   ],
   "source": [
    "print(num)"
   ]
  },
  {
   "cell_type": "code",
   "execution_count": 73,
   "metadata": {
    "collapsed": true
   },
   "outputs": [],
   "source": [
    "#del Weight_sig_array[-1]\n",
    "#del Weight_sig_array[-1]"
   ]
  },
  {
   "cell_type": "code",
   "execution_count": 74,
   "metadata": {
    "collapsed": false
   },
   "outputs": [],
   "source": [
    "#Create new dataframe to add SWeights to\n",
    "data_file = '/fhgfs/users/chasenberg/data/2015/jpsiks/sweights/Bd2JpsiKS_data_flattened_cutstring.root'\n",
    "df_data = rp.read_root(data_file,key='Bd2JpsiKs')"
   ]
  },
  {
   "cell_type": "code",
   "execution_count": 75,
   "metadata": {
    "collapsed": false
   },
   "outputs": [
    {
     "data": {
      "text/plain": [
       "(238257, 286)"
      ]
     },
     "execution_count": 75,
     "metadata": {},
     "output_type": "execute_result"
    }
   ],
   "source": [
    "df_data.shape\n"
   ]
  },
  {
   "cell_type": "code",
   "execution_count": 76,
   "metadata": {
    "collapsed": false
   },
   "outputs": [],
   "source": [
    "df_data['nsig_sw'] = Weight_sig_array\n",
    "df_data.to_root('/fhgfs/users/chasenberg/data/2015/jpsiks/sweights/Bd2JpsiKS_data_2015_flattened_SWeights.root',key='Bd2JpsiKs')#,branches='nsig_sw')"
   ]
  },
  {
   "cell_type": "code",
   "execution_count": 77,
   "metadata": {
    "collapsed": false
   },
   "outputs": [
    {
     "data": {
      "text/plain": [
       "(238257, 287)"
      ]
     },
     "execution_count": 77,
     "metadata": {},
     "output_type": "execute_result"
    }
   ],
   "source": [
    "df_data.shape\n"
   ]
  },
  {
   "cell_type": "code",
   "execution_count": 78,
   "metadata": {
    "collapsed": false
   },
   "outputs": [
    {
     "data": {
      "text/plain": [
       "238257"
      ]
     },
     "execution_count": 78,
     "metadata": {},
     "output_type": "execute_result"
    }
   ],
   "source": [
    "len(Weight_bkg_array)"
   ]
  },
  {
   "cell_type": "code",
   "execution_count": 79,
   "metadata": {
    "collapsed": true
   },
   "outputs": [],
   "source": [
    "import matplotlib.pyplot\n",
    "import pylab"
   ]
  },
  {
   "cell_type": "code",
   "execution_count": 80,
   "metadata": {
    "collapsed": false
   },
   "outputs": [
    {
     "data": {
      "image/png": "[encoded data removed]",
      "text/plain": [
       "<matplotlib.figure.Figure at 0x7f12b31bf0b8>"
      ]
     },
     "metadata": {},
     "output_type": "display_data"
    }
   ],
   "source": [
    "matplotlib.pyplot.plot(Weight_sig_array)\n",
    "\n",
    "matplotlib.pyplot.show()"
   ]
  },
  {
   "cell_type": "code",
   "execution_count": null,
   "metadata": {
    "collapsed": true
   },
   "outputs": [],
   "source": []
  }
 ],
 "metadata": {
  "kernelspec": {
   "display_name": "Python 3",
   "language": "python",
   "name": "python3"
  },
  "language_info": {
   "codemirror_mode": {
    "name": "ipython",
    "version": 3
   },
   "file_extension": ".py",
   "mimetype": "text/x-python",
   "name": "python",
   "nbconvert_exporter": "python",
   "pygments_lexer": "ipython3",
   "version": "3.4.4"
  }
 },
 "nbformat": 4,
 "nbformat_minor": 0
}
