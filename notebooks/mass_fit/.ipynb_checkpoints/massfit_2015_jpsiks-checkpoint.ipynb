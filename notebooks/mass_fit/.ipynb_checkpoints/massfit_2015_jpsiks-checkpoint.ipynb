{
 "cells": [
  {
   "cell_type": "code",
   "execution_count": 1,
   "metadata": {
    "collapsed": true
   },
   "outputs": [],
   "source": [
    "import ROOT\n",
    "from ROOT import gROOT, TCanvas, TF1, TFile, TTree, gRandom, TH1F\n",
    "\n",
    "from ROOT import RooRealVar, RooFormulaVar, RooVoigtian, RooChebychev, RooArgList, \\\n",
    "                 RooArgSet, RooAddPdf, RooDataSet, RooCategory, RooSimultaneous, \\\n",
    "                 RooBreitWigner, RooCBShape, RooFFTConvPdf, RooGaussian,RooExponential, \\\n",
    "                 RooBinning, kRed, kBlue, kDotted,TString,RooAbsData, RooPlot, TCut, RooAbsData, RooFit                "
   ]
  },
  {
   "cell_type": "code",
   "execution_count": 29,
   "metadata": {
    "collapsed": false
   },
   "outputs": [],
   "source": [
    "##### NOTE: For some reason it is necessary to execute this cell multiple times\n",
    "#####       in order to display plots in notebooks correctly. \n",
    "#####       Nevertheless, the saved plot is correct at the first iteration. \n",
    "import sys\n",
    "sys.path.append('/home/chasenberg/repos/root_utils/')\n",
    "from ROOT import TColor\n",
    "import rootnotes  # For displaying TCanvas in notebooks\n",
    "from lhcb_style import set_lhcb_style # Set basic LHCb plot style\n",
    "set_lhcb_style()   \n",
    "from root_utils import plot_pulls\n",
    "\n",
    "# Initialize variables\n",
    "B0_M = RooRealVar(\"B0_FitDaughtersConst_M\", \"B0_M\", 5280, \"MeV\")\n",
    "#upper_limit_mass = 5330\n",
    "#lower_limit_mass = 5230\n",
    "upper_limit_mass = 5350\n",
    "lower_limit_mass = 5220\n",
    "mass = RooRealVar(\"B0_FitDaughtersConst_M\", \"Mass(J/psi K_{S})\", 5280,lower_limit_mass, upper_limit_mass, \"MeV\")\n",
    "# Construct signal from two Gaussian pdf's with different means and sigmas \n",
    "mean = RooRealVar(\"mean\", \"mean\", 5280,  5200,5360)\n",
    "sigma_1 = RooRealVar(\"sigma_1\", \"sigma_1\", 15, 0, 30)\n",
    "sigma_2 = RooRealVar(\"sigma_2\", \"sigma_2\", 20, 0, 30)\n",
    "sig1frac = RooRealVar(\"sig1frac\",\"fraction of component 1 in signal\",0.5,0.,1.)\n",
    "\n",
    "signal_1 = RooGaussian(\"signal_1\", \"signal_1\", mass, mean, sigma_1)\n",
    "signal_2 = RooGaussian(\"signal_2\", \"signal_2\", mass, mean, sigma_2)\n",
    "signal = RooAddPdf(\"signal\",\"signal\",signal_1, signal_2,sig1frac)#,RooArgList(mean,sigma_1, sigma_2)) \n",
    "# Construct background pdfd\n",
    "lambda_1= RooRealVar(\"lambda\",\"lambda\",0.0,-0.2,0.0)\n",
    "background = RooExponential(\"background\",\"background\",mass,lambda_1)\n",
    "# Construct composite pdf\n",
    "nsig = RooRealVar(\"nsig\", \"nsig\", 110000,0,150000)#, 0, 100000)\n",
    "nbkg = RooRealVar(\"nbkg\", \"nbkg\", 30000, 0, 100000)\n",
    "model = RooAddPdf(\"model\", \"model\", RooArgList(signal, background), RooArgList(nsig, nbkg))"
   ]
  },
  {
   "cell_type": "code",
   "execution_count": 30,
   "metadata": {
    "collapsed": false
   },
   "outputs": [
    {
     "data": {
      "text/plain": [
       "<ROOT.RooFitResult object (\"fitresult_model_data\") at 0x97cc1c0>"
      ]
     },
     "execution_count": 30,
     "metadata": {},
     "output_type": "execute_result"
    }
   ],
   "source": [
    "# Read data and fit it\n",
    "data = ROOT.TFile('/fhgfs/users/chasenberg/data/2015/jpsiks/Bd2JpsiKS_data_2015_flattened_BDT_cut.root')\n",
    "tree_data = data.Get('Bd2JspiKs') \n",
    "tree_data.GetEntries()\n",
    "\n",
    "ntupleVarSet =  RooArgSet(mass)\n",
    "dataset = RooDataSet('data','data',tree_data,ntupleVarSet)\n",
    "#Fit model to dataset\n",
    "model.fitTo(dataset, ROOT.RooFit.Save(True)) "
   ]
  },
  {
   "cell_type": "code",
   "execution_count": 31,
   "metadata": {
    "collapsed": false
   },
   "outputs": [
    {
     "name": "stderr",
     "output_type": "stream",
     "text": [
      "TCanvas::Constructor:0: RuntimeWarning: Deleting canvas with same name: can\n"
     ]
    },
    {
     "data": {
      "image/png": "[encoded data removed]",
      "text/plain": [
       "<ROOT.TCanvas object (\"can\") at 0xceacf60>"
      ]
     },
     "execution_count": 31,
     "metadata": {},
     "output_type": "execute_result"
    }
   ],
   "source": [
    "# Prepare frame\n",
    "%matplotlib inline  \n",
    "import ROOT\n",
    "frame = mass.frame(ROOT.RooFit.Bins(25))\n",
    "\n",
    "dataset.plotOn(frame, ROOT.RooFit.Name(\"data1\"))\n",
    "\n",
    "model.plotOn( frame , ROOT.RooFit.Components(\"signal\"), ROOT.RooFit.LineStyle(kDotted), ROOT.RooFit.LineColor(kRed))\n",
    "model.plotOn( frame , ROOT.RooFit.Components(\"background\"), ROOT.RooFit.LineStyle(kDotted), ROOT.RooFit.LineColor(kBlue))\n",
    "model.plotOn(frame, ROOT.RooFit.Name(\"fit\"))\n",
    "### Add additional informations to the plot\n",
    "text_size = 0.035\n",
    "# Create TLegend\n",
    "legend = ROOT.TLegend(0.7, 0.75, 0.9, 0.9, '')\n",
    "legend.AddEntry(frame.findObject('data1'), \"Data points\", \"p\");\n",
    "legend.AddEntry(frame.findObject('fit'), 'Fit', 'l')\n",
    "legend.SetTextSize(text_size)\n",
    "\n",
    "# Create TLatex\n",
    "'''latex = ROOT.TLatex(0.19, 0.8, '#splitline{Toy MC example}' + \\\n",
    "                                 '{#it{f}(x) = #frac{1}{#sigma #sqrt{2 #pi}}' + \\\n",
    "                                 ' e^{- 0.5 #left( #frac{x - #mu}{#sigma} #right)^{2}}}')'''\n",
    "#latex.SetTextSize(text_size)\n",
    "\n",
    "# Plot pulls\n",
    "can, _ = plot_pulls('test', frame, legend=legend)#, latex=latex)\n",
    "can.SaveAs(\"/home/chasenberg/repos/b2cc_sin2beta/notebooks/mass_fit/plots/B0_Mass_bdtcut.pdf\")\n",
    "can  # To display plot in notebooks"
   ]
  },
  {
   "cell_type": "code",
   "execution_count": 32,
   "metadata": {
    "collapsed": true
   },
   "outputs": [],
   "source": [
    "from ROOT import RooStats\n",
    "\n",
    "data_sweight = ROOT.RooStats.SPlot(\"sData\",\"An SPlot\", dataset,model, RooArgList(nsig, nbkg))\n",
    "sWeight_sig =ROOT.RooDataSet(\"dataset_nsig\",\"dataset_nsig\", dataset, dataset.get(),\"\",\"nsig_sw\")\n",
    "sWeight_bkg = ROOT.RooDataSet(\"dataset_nbkg\",\"dataset_nbkg\", dataset, dataset.get(),\"\",\"nbkg_sw\")"
   ]
  },
  {
   "cell_type": "code",
   "execution_count": null,
   "metadata": {
    "collapsed": true
   },
   "outputs": [],
   "source": []
  }
 ],
 "metadata": {
  "kernelspec": {
   "display_name": "Python 3",
   "language": "python",
   "name": "python3"
  },
  "language_info": {
   "codemirror_mode": {
    "name": "ipython",
    "version": 3
   },
   "file_extension": ".py",
   "mimetype": "text/x-python",
   "name": "python",
   "nbconvert_exporter": "python",
   "pygments_lexer": "ipython3",
   "version": "3.4.4"
  }
 },
 "nbformat": 4,
 "nbformat_minor": 0
}
